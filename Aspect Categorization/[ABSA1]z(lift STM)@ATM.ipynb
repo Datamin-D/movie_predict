{
 "cells": [
  {
   "cell_type": "markdown",
   "metadata": {
    "id": "qkj-TBhY-vdR"
   },
   "source": [
    "# Import Libraries & load data"
   ]
  },
  {
   "cell_type": "code",
   "execution_count": 5,
   "metadata": {
    "id": "Lnbv8KpYAUKg"
   },
   "outputs": [
    {
     "data": {
      "text/plain": [
       "'1.3.3'"
      ]
     },
     "execution_count": 5,
     "metadata": {},
     "output_type": "execute_result"
    }
   ],
   "source": [
    "# !pip install pandas \n",
    "\n",
    "import pandas as pd\n",
    "pd.__version__\n",
    "# !pip install --upgrade pandas \n",
    "# 우분투가 1.3.5라 맞춰주기..코랩이"
   ]
  },
  {
   "cell_type": "code",
   "execution_count": 6,
   "metadata": {
    "colab": {
     "base_uri": "https://localhost:8080/"
    },
    "id": "yG7_3_OyAJp8",
    "outputId": "d2b94527-4f93-4b4d-bdd6-beb33db3bc7f"
   },
   "outputs": [],
   "source": [
    "# from google.colab import drive\n",
    "# drive.mount('/gdrive')\n",
    "\n",
    "import pickle\n",
    "import time\n",
    "\n",
    "import re\n",
    "import os\n",
    "import json\n",
    "\n",
    "import numpy as np\n",
    "from bs4 import BeautifulSoup\n",
    "from nltk.corpus import stopwords\n",
    "# from tensorflow.python.keras.preprocessing.sequence import pad_sequences\n",
    "# from tensorflow.python.keras.preprocessing.text import Tokenizer\n",
    "\n",
    "import nltk\n",
    "# nltk.download('all')\n",
    "from nltk.corpus import wordnet as wn"
   ]
  },
  {
   "cell_type": "code",
   "execution_count": 3,
   "metadata": {
    "colab": {
     "base_uri": "https://localhost:8080/",
     "height": 834
    },
    "id": "VHONVUgeAb3D",
    "outputId": "66db5758-2511-42e0-fc0f-bb6187ed6474"
   },
   "outputs": [
    {
     "ename": "FileNotFoundError",
     "evalue": "[Errno 2] No such file or directory: '/gdrive/MyDrive/movie_predict/DF/Asepct/reviews_after_aspect_term_change'",
     "output_type": "error",
     "traceback": [
      "\u001b[1;31m---------------------------------------------------------------------------\u001b[0m",
      "\u001b[1;31mFileNotFoundError\u001b[0m                         Traceback (most recent call last)",
      "\u001b[1;32m<ipython-input-3-01337a8c4f26>\u001b[0m in \u001b[0;36m<module>\u001b[1;34m\u001b[0m\n\u001b[0;32m      1\u001b[0m \u001b[1;31m# specific term 교체된 data.\u001b[0m\u001b[1;33m\u001b[0m\u001b[1;33m\u001b[0m\u001b[1;33m\u001b[0m\u001b[0m\n\u001b[1;32m----> 2\u001b[1;33m \u001b[1;32mwith\u001b[0m \u001b[0mopen\u001b[0m\u001b[1;33m(\u001b[0m\u001b[1;34m'/gdrive/MyDrive/movie_predict/DF/Asepct/reviews_after_aspect_term_change'\u001b[0m\u001b[1;33m,\u001b[0m\u001b[1;34m'rb'\u001b[0m\u001b[1;33m)\u001b[0m \u001b[1;32mas\u001b[0m \u001b[0mfr\u001b[0m\u001b[1;33m:\u001b[0m\u001b[1;33m\u001b[0m\u001b[1;33m\u001b[0m\u001b[0m\n\u001b[0m\u001b[0;32m      3\u001b[0m   \u001b[0mdf\u001b[0m \u001b[1;33m=\u001b[0m \u001b[0mpickle\u001b[0m\u001b[1;33m.\u001b[0m\u001b[0mload\u001b[0m\u001b[1;33m(\u001b[0m\u001b[0mfr\u001b[0m\u001b[1;33m)\u001b[0m\u001b[1;33m\u001b[0m\u001b[1;33m\u001b[0m\u001b[0m\n\u001b[0;32m      4\u001b[0m \u001b[0mdf\u001b[0m\u001b[1;33m.\u001b[0m\u001b[0mhead\u001b[0m\u001b[1;33m(\u001b[0m\u001b[1;33m)\u001b[0m\u001b[1;33m\u001b[0m\u001b[1;33m\u001b[0m\u001b[0m\n",
      "\u001b[1;31mFileNotFoundError\u001b[0m: [Errno 2] No such file or directory: '/gdrive/MyDrive/movie_predict/DF/Asepct/reviews_after_aspect_term_change'"
     ]
    }
   ],
   "source": [
    "# specific term 교체된 data.\n",
    "with open('/gdrive/MyDrive/movie_predict/DF/Asepct/reviews_after_aspect_term_change','rb') as fr:\n",
    "  df = pickle.load(fr)\n",
    "df.head()"
   ]
  },
  {
   "cell_type": "markdown",
   "metadata": {
    "id": "L2gkMiyDtC2r"
   },
   "source": [
    "### Review to Sentence"
   ]
  },
  {
   "cell_type": "code",
   "execution_count": 19,
   "metadata": {
    "colab": {
     "base_uri": "https://localhost:8080/",
     "height": 428
    },
    "id": "KpbRfHq6tCJM",
    "outputId": "4195a4ca-30c4-4a4e-ce5c-3d41f1d398ca"
   },
   "outputs": [
    {
     "name": "stderr",
     "output_type": "stream",
     "text": [
      "100%|██████████| 1045157/1045157 [00:01<00:00, 883909.39it/s]\n",
      "  2%|▏         | 18971/1045157 [00:04<04:25, 3866.76it/s]\n"
     ]
    },
    {
     "ename": "KeyboardInterrupt",
     "evalue": "ignored",
     "output_type": "error",
     "traceback": [
      "\u001b[0;31m---------------------------------------------------------------------------\u001b[0m",
      "\u001b[0;31mKeyboardInterrupt\u001b[0m                         Traceback (most recent call last)",
      "\u001b[0;32m<ipython-input-19-d5f9420136a8>\u001b[0m in \u001b[0;36m<module>\u001b[0;34m()\u001b[0m\n\u001b[1;32m      3\u001b[0m \u001b[0;34m\u001b[0m\u001b[0m\n\u001b[1;32m      4\u001b[0m \u001b[0mdf\u001b[0m\u001b[0;34m[\u001b[0m\u001b[0;34m'cleaned_contents'\u001b[0m\u001b[0;34m]\u001b[0m \u001b[0;34m=\u001b[0m \u001b[0mdf\u001b[0m\u001b[0;34m[\u001b[0m\u001b[0;34m'cleaned_contents'\u001b[0m\u001b[0;34m]\u001b[0m\u001b[0;34m.\u001b[0m\u001b[0mprogress_apply\u001b[0m\u001b[0;34m(\u001b[0m\u001b[0;32mlambda\u001b[0m \u001b[0mx\u001b[0m\u001b[0;34m:\u001b[0m \u001b[0mstr\u001b[0m\u001b[0;34m(\u001b[0m\u001b[0mx\u001b[0m\u001b[0;34m)\u001b[0m\u001b[0;34m)\u001b[0m \u001b[0;31m#str 아닌 에러.\u001b[0m\u001b[0;34m\u001b[0m\u001b[0;34m\u001b[0m\u001b[0m\n\u001b[0;32m----> 5\u001b[0;31m \u001b[0mdf\u001b[0m\u001b[0;34m[\u001b[0m\u001b[0;34m'sents'\u001b[0m\u001b[0;34m]\u001b[0m \u001b[0;34m=\u001b[0m  \u001b[0mdf\u001b[0m\u001b[0;34m[\u001b[0m\u001b[0;34m'cleaned_contents'\u001b[0m\u001b[0;34m]\u001b[0m\u001b[0;34m.\u001b[0m\u001b[0mprogress_apply\u001b[0m\u001b[0;34m(\u001b[0m\u001b[0;32mlambda\u001b[0m \u001b[0msents\u001b[0m\u001b[0;34m:\u001b[0m \u001b[0mnltk\u001b[0m\u001b[0;34m.\u001b[0m\u001b[0msent_tokenize\u001b[0m\u001b[0;34m(\u001b[0m\u001b[0msents\u001b[0m\u001b[0;34m)\u001b[0m\u001b[0;34m)\u001b[0m\u001b[0;34m\u001b[0m\u001b[0;34m\u001b[0m\u001b[0m\n\u001b[0m\u001b[1;32m      6\u001b[0m \u001b[0mdf\u001b[0m\u001b[0;34m\u001b[0m\u001b[0;34m\u001b[0m\u001b[0m\n\u001b[1;32m      7\u001b[0m \u001b[0mdf\u001b[0m\u001b[0;34m[\u001b[0m\u001b[0;34m'sents'\u001b[0m\u001b[0;34m]\u001b[0m\u001b[0;34m.\u001b[0m\u001b[0mloc\u001b[0m\u001b[0;34m[\u001b[0m\u001b[0;36m0\u001b[0m\u001b[0;34m]\u001b[0m\u001b[0;34m\u001b[0m\u001b[0;34m\u001b[0m\u001b[0m\n",
      "\u001b[0;32m/usr/local/lib/python3.7/dist-packages/tqdm/std.py\u001b[0m in \u001b[0;36minner\u001b[0;34m(df, func, *args, **kwargs)\u001b[0m\n\u001b[1;32m    812\u001b[0m                 \u001b[0;31m# on the df using our wrapper (which provides bar updating)\u001b[0m\u001b[0;34m\u001b[0m\u001b[0;34m\u001b[0m\u001b[0;34m\u001b[0m\u001b[0m\n\u001b[1;32m    813\u001b[0m                 \u001b[0;32mtry\u001b[0m\u001b[0;34m:\u001b[0m\u001b[0;34m\u001b[0m\u001b[0;34m\u001b[0m\u001b[0m\n\u001b[0;32m--> 814\u001b[0;31m                     \u001b[0;32mreturn\u001b[0m \u001b[0mgetattr\u001b[0m\u001b[0;34m(\u001b[0m\u001b[0mdf\u001b[0m\u001b[0;34m,\u001b[0m \u001b[0mdf_function\u001b[0m\u001b[0;34m)\u001b[0m\u001b[0;34m(\u001b[0m\u001b[0mwrapper\u001b[0m\u001b[0;34m,\u001b[0m \u001b[0;34m**\u001b[0m\u001b[0mkwargs\u001b[0m\u001b[0;34m)\u001b[0m\u001b[0;34m\u001b[0m\u001b[0;34m\u001b[0m\u001b[0m\n\u001b[0m\u001b[1;32m    815\u001b[0m                 \u001b[0;32mfinally\u001b[0m\u001b[0;34m:\u001b[0m\u001b[0;34m\u001b[0m\u001b[0;34m\u001b[0m\u001b[0m\n\u001b[1;32m    816\u001b[0m                     \u001b[0mt\u001b[0m\u001b[0;34m.\u001b[0m\u001b[0mclose\u001b[0m\u001b[0;34m(\u001b[0m\u001b[0;34m)\u001b[0m\u001b[0;34m\u001b[0m\u001b[0;34m\u001b[0m\u001b[0m\n",
      "\u001b[0;32m/usr/local/lib/python3.7/dist-packages/pandas/core/series.py\u001b[0m in \u001b[0;36mapply\u001b[0;34m(self, func, convert_dtype, args, **kwargs)\u001b[0m\n\u001b[1;32m   4355\u001b[0m         \u001b[0mdtype\u001b[0m\u001b[0;34m:\u001b[0m \u001b[0mfloat64\u001b[0m\u001b[0;34m\u001b[0m\u001b[0;34m\u001b[0m\u001b[0m\n\u001b[1;32m   4356\u001b[0m         \"\"\"\n\u001b[0;32m-> 4357\u001b[0;31m         \u001b[0;32mreturn\u001b[0m \u001b[0mSeriesApply\u001b[0m\u001b[0;34m(\u001b[0m\u001b[0mself\u001b[0m\u001b[0;34m,\u001b[0m \u001b[0mfunc\u001b[0m\u001b[0;34m,\u001b[0m \u001b[0mconvert_dtype\u001b[0m\u001b[0;34m,\u001b[0m \u001b[0margs\u001b[0m\u001b[0;34m,\u001b[0m \u001b[0mkwargs\u001b[0m\u001b[0;34m)\u001b[0m\u001b[0;34m.\u001b[0m\u001b[0mapply\u001b[0m\u001b[0;34m(\u001b[0m\u001b[0;34m)\u001b[0m\u001b[0;34m\u001b[0m\u001b[0;34m\u001b[0m\u001b[0m\n\u001b[0m\u001b[1;32m   4358\u001b[0m \u001b[0;34m\u001b[0m\u001b[0m\n\u001b[1;32m   4359\u001b[0m     def _reduce(\n",
      "\u001b[0;32m/usr/local/lib/python3.7/dist-packages/pandas/core/apply.py\u001b[0m in \u001b[0;36mapply\u001b[0;34m(self)\u001b[0m\n\u001b[1;32m   1041\u001b[0m             \u001b[0;32mreturn\u001b[0m \u001b[0mself\u001b[0m\u001b[0;34m.\u001b[0m\u001b[0mapply_str\u001b[0m\u001b[0;34m(\u001b[0m\u001b[0;34m)\u001b[0m\u001b[0;34m\u001b[0m\u001b[0;34m\u001b[0m\u001b[0m\n\u001b[1;32m   1042\u001b[0m \u001b[0;34m\u001b[0m\u001b[0m\n\u001b[0;32m-> 1043\u001b[0;31m         \u001b[0;32mreturn\u001b[0m \u001b[0mself\u001b[0m\u001b[0;34m.\u001b[0m\u001b[0mapply_standard\u001b[0m\u001b[0;34m(\u001b[0m\u001b[0;34m)\u001b[0m\u001b[0;34m\u001b[0m\u001b[0;34m\u001b[0m\u001b[0m\n\u001b[0m\u001b[1;32m   1044\u001b[0m \u001b[0;34m\u001b[0m\u001b[0m\n\u001b[1;32m   1045\u001b[0m     \u001b[0;32mdef\u001b[0m \u001b[0magg\u001b[0m\u001b[0;34m(\u001b[0m\u001b[0mself\u001b[0m\u001b[0;34m)\u001b[0m\u001b[0;34m:\u001b[0m\u001b[0;34m\u001b[0m\u001b[0;34m\u001b[0m\u001b[0m\n",
      "\u001b[0;32m/usr/local/lib/python3.7/dist-packages/pandas/core/apply.py\u001b[0m in \u001b[0;36mapply_standard\u001b[0;34m(self)\u001b[0m\n\u001b[1;32m   1100\u001b[0m                     \u001b[0mvalues\u001b[0m\u001b[0;34m,\u001b[0m\u001b[0;34m\u001b[0m\u001b[0;34m\u001b[0m\u001b[0m\n\u001b[1;32m   1101\u001b[0m                     \u001b[0mf\u001b[0m\u001b[0;34m,\u001b[0m  \u001b[0;31m# type: ignore[arg-type]\u001b[0m\u001b[0;34m\u001b[0m\u001b[0;34m\u001b[0m\u001b[0m\n\u001b[0;32m-> 1102\u001b[0;31m                     \u001b[0mconvert\u001b[0m\u001b[0;34m=\u001b[0m\u001b[0mself\u001b[0m\u001b[0;34m.\u001b[0m\u001b[0mconvert_dtype\u001b[0m\u001b[0;34m,\u001b[0m\u001b[0;34m\u001b[0m\u001b[0;34m\u001b[0m\u001b[0m\n\u001b[0m\u001b[1;32m   1103\u001b[0m                 )\n\u001b[1;32m   1104\u001b[0m \u001b[0;34m\u001b[0m\u001b[0m\n",
      "\u001b[0;32m/usr/local/lib/python3.7/dist-packages/pandas/_libs/lib.pyx\u001b[0m in \u001b[0;36mpandas._libs.lib.map_infer\u001b[0;34m()\u001b[0m\n",
      "\u001b[0;32m/usr/local/lib/python3.7/dist-packages/tqdm/std.py\u001b[0m in \u001b[0;36mwrapper\u001b[0;34m(*args, **kwargs)\u001b[0m\n\u001b[1;32m    807\u001b[0m                     \u001b[0;31m# take a fast or slow code path; so stop when t.total==t.n\u001b[0m\u001b[0;34m\u001b[0m\u001b[0;34m\u001b[0m\u001b[0;34m\u001b[0m\u001b[0m\n\u001b[1;32m    808\u001b[0m                     \u001b[0mt\u001b[0m\u001b[0;34m.\u001b[0m\u001b[0mupdate\u001b[0m\u001b[0;34m(\u001b[0m\u001b[0mn\u001b[0m\u001b[0;34m=\u001b[0m\u001b[0;36m1\u001b[0m \u001b[0;32mif\u001b[0m \u001b[0;32mnot\u001b[0m \u001b[0mt\u001b[0m\u001b[0;34m.\u001b[0m\u001b[0mtotal\u001b[0m \u001b[0;32mor\u001b[0m \u001b[0mt\u001b[0m\u001b[0;34m.\u001b[0m\u001b[0mn\u001b[0m \u001b[0;34m<\u001b[0m \u001b[0mt\u001b[0m\u001b[0;34m.\u001b[0m\u001b[0mtotal\u001b[0m \u001b[0;32melse\u001b[0m \u001b[0;36m0\u001b[0m\u001b[0;34m)\u001b[0m\u001b[0;34m\u001b[0m\u001b[0;34m\u001b[0m\u001b[0m\n\u001b[0;32m--> 809\u001b[0;31m                     \u001b[0;32mreturn\u001b[0m \u001b[0mfunc\u001b[0m\u001b[0;34m(\u001b[0m\u001b[0;34m*\u001b[0m\u001b[0margs\u001b[0m\u001b[0;34m,\u001b[0m \u001b[0;34m**\u001b[0m\u001b[0mkwargs\u001b[0m\u001b[0;34m)\u001b[0m\u001b[0;34m\u001b[0m\u001b[0;34m\u001b[0m\u001b[0m\n\u001b[0m\u001b[1;32m    810\u001b[0m \u001b[0;34m\u001b[0m\u001b[0m\n\u001b[1;32m    811\u001b[0m                 \u001b[0;31m# Apply the provided function (in **kwargs)\u001b[0m\u001b[0;34m\u001b[0m\u001b[0;34m\u001b[0m\u001b[0;34m\u001b[0m\u001b[0m\n",
      "\u001b[0;32m<ipython-input-19-d5f9420136a8>\u001b[0m in \u001b[0;36m<lambda>\u001b[0;34m(sents)\u001b[0m\n\u001b[1;32m      3\u001b[0m \u001b[0;34m\u001b[0m\u001b[0m\n\u001b[1;32m      4\u001b[0m \u001b[0mdf\u001b[0m\u001b[0;34m[\u001b[0m\u001b[0;34m'cleaned_contents'\u001b[0m\u001b[0;34m]\u001b[0m \u001b[0;34m=\u001b[0m \u001b[0mdf\u001b[0m\u001b[0;34m[\u001b[0m\u001b[0;34m'cleaned_contents'\u001b[0m\u001b[0;34m]\u001b[0m\u001b[0;34m.\u001b[0m\u001b[0mprogress_apply\u001b[0m\u001b[0;34m(\u001b[0m\u001b[0;32mlambda\u001b[0m \u001b[0mx\u001b[0m\u001b[0;34m:\u001b[0m \u001b[0mstr\u001b[0m\u001b[0;34m(\u001b[0m\u001b[0mx\u001b[0m\u001b[0;34m)\u001b[0m\u001b[0;34m)\u001b[0m \u001b[0;31m#str 아닌 에러.\u001b[0m\u001b[0;34m\u001b[0m\u001b[0;34m\u001b[0m\u001b[0m\n\u001b[0;32m----> 5\u001b[0;31m \u001b[0mdf\u001b[0m\u001b[0;34m[\u001b[0m\u001b[0;34m'sents'\u001b[0m\u001b[0;34m]\u001b[0m \u001b[0;34m=\u001b[0m  \u001b[0mdf\u001b[0m\u001b[0;34m[\u001b[0m\u001b[0;34m'cleaned_contents'\u001b[0m\u001b[0;34m]\u001b[0m\u001b[0;34m.\u001b[0m\u001b[0mprogress_apply\u001b[0m\u001b[0;34m(\u001b[0m\u001b[0;32mlambda\u001b[0m \u001b[0msents\u001b[0m\u001b[0;34m:\u001b[0m \u001b[0mnltk\u001b[0m\u001b[0;34m.\u001b[0m\u001b[0msent_tokenize\u001b[0m\u001b[0;34m(\u001b[0m\u001b[0msents\u001b[0m\u001b[0;34m)\u001b[0m\u001b[0;34m)\u001b[0m\u001b[0;34m\u001b[0m\u001b[0;34m\u001b[0m\u001b[0m\n\u001b[0m\u001b[1;32m      6\u001b[0m \u001b[0mdf\u001b[0m\u001b[0;34m\u001b[0m\u001b[0;34m\u001b[0m\u001b[0m\n\u001b[1;32m      7\u001b[0m \u001b[0mdf\u001b[0m\u001b[0;34m[\u001b[0m\u001b[0;34m'sents'\u001b[0m\u001b[0;34m]\u001b[0m\u001b[0;34m.\u001b[0m\u001b[0mloc\u001b[0m\u001b[0;34m[\u001b[0m\u001b[0;36m0\u001b[0m\u001b[0;34m]\u001b[0m\u001b[0;34m\u001b[0m\u001b[0;34m\u001b[0m\u001b[0m\n",
      "\u001b[0;32m/usr/local/lib/python3.7/dist-packages/nltk/tokenize/__init__.py\u001b[0m in \u001b[0;36msent_tokenize\u001b[0;34m(text, language)\u001b[0m\n\u001b[1;32m     93\u001b[0m     \"\"\"\n\u001b[1;32m     94\u001b[0m     \u001b[0mtokenizer\u001b[0m \u001b[0;34m=\u001b[0m \u001b[0mload\u001b[0m\u001b[0;34m(\u001b[0m\u001b[0;34m'tokenizers/punkt/{0}.pickle'\u001b[0m\u001b[0;34m.\u001b[0m\u001b[0mformat\u001b[0m\u001b[0;34m(\u001b[0m\u001b[0mlanguage\u001b[0m\u001b[0;34m)\u001b[0m\u001b[0;34m)\u001b[0m\u001b[0;34m\u001b[0m\u001b[0;34m\u001b[0m\u001b[0m\n\u001b[0;32m---> 95\u001b[0;31m     \u001b[0;32mreturn\u001b[0m \u001b[0mtokenizer\u001b[0m\u001b[0;34m.\u001b[0m\u001b[0mtokenize\u001b[0m\u001b[0;34m(\u001b[0m\u001b[0mtext\u001b[0m\u001b[0;34m)\u001b[0m\u001b[0;34m\u001b[0m\u001b[0;34m\u001b[0m\u001b[0m\n\u001b[0m\u001b[1;32m     96\u001b[0m \u001b[0;34m\u001b[0m\u001b[0m\n\u001b[1;32m     97\u001b[0m \u001b[0;31m# Standard word tokenizer.\u001b[0m\u001b[0;34m\u001b[0m\u001b[0;34m\u001b[0m\u001b[0;34m\u001b[0m\u001b[0m\n",
      "\u001b[0;32m/usr/local/lib/python3.7/dist-packages/nltk/tokenize/punkt.py\u001b[0m in \u001b[0;36mtokenize\u001b[0;34m(self, text, realign_boundaries)\u001b[0m\n\u001b[1;32m   1235\u001b[0m         \u001b[0mGiven\u001b[0m \u001b[0ma\u001b[0m \u001b[0mtext\u001b[0m\u001b[0;34m,\u001b[0m \u001b[0mreturns\u001b[0m \u001b[0ma\u001b[0m \u001b[0mlist\u001b[0m \u001b[0mof\u001b[0m \u001b[0mthe\u001b[0m \u001b[0msentences\u001b[0m \u001b[0;32min\u001b[0m \u001b[0mthat\u001b[0m \u001b[0mtext\u001b[0m\u001b[0;34m.\u001b[0m\u001b[0;34m\u001b[0m\u001b[0;34m\u001b[0m\u001b[0m\n\u001b[1;32m   1236\u001b[0m         \"\"\"\n\u001b[0;32m-> 1237\u001b[0;31m         \u001b[0;32mreturn\u001b[0m \u001b[0mlist\u001b[0m\u001b[0;34m(\u001b[0m\u001b[0mself\u001b[0m\u001b[0;34m.\u001b[0m\u001b[0msentences_from_text\u001b[0m\u001b[0;34m(\u001b[0m\u001b[0mtext\u001b[0m\u001b[0;34m,\u001b[0m \u001b[0mrealign_boundaries\u001b[0m\u001b[0;34m)\u001b[0m\u001b[0;34m)\u001b[0m\u001b[0;34m\u001b[0m\u001b[0;34m\u001b[0m\u001b[0m\n\u001b[0m\u001b[1;32m   1238\u001b[0m \u001b[0;34m\u001b[0m\u001b[0m\n\u001b[1;32m   1239\u001b[0m     \u001b[0;32mdef\u001b[0m \u001b[0mdebug_decisions\u001b[0m\u001b[0;34m(\u001b[0m\u001b[0mself\u001b[0m\u001b[0;34m,\u001b[0m \u001b[0mtext\u001b[0m\u001b[0;34m)\u001b[0m\u001b[0;34m:\u001b[0m\u001b[0;34m\u001b[0m\u001b[0;34m\u001b[0m\u001b[0m\n",
      "\u001b[0;32m/usr/local/lib/python3.7/dist-packages/nltk/tokenize/punkt.py\u001b[0m in \u001b[0;36msentences_from_text\u001b[0;34m(self, text, realign_boundaries)\u001b[0m\n\u001b[1;32m   1283\u001b[0m         \u001b[0mfollows\u001b[0m \u001b[0mthe\u001b[0m \u001b[0mperiod\u001b[0m\u001b[0;34m.\u001b[0m\u001b[0;34m\u001b[0m\u001b[0;34m\u001b[0m\u001b[0m\n\u001b[1;32m   1284\u001b[0m         \"\"\"\n\u001b[0;32m-> 1285\u001b[0;31m         \u001b[0;32mreturn\u001b[0m \u001b[0;34m[\u001b[0m\u001b[0mtext\u001b[0m\u001b[0;34m[\u001b[0m\u001b[0ms\u001b[0m\u001b[0;34m:\u001b[0m\u001b[0me\u001b[0m\u001b[0;34m]\u001b[0m \u001b[0;32mfor\u001b[0m \u001b[0ms\u001b[0m\u001b[0;34m,\u001b[0m \u001b[0me\u001b[0m \u001b[0;32min\u001b[0m \u001b[0mself\u001b[0m\u001b[0;34m.\u001b[0m\u001b[0mspan_tokenize\u001b[0m\u001b[0;34m(\u001b[0m\u001b[0mtext\u001b[0m\u001b[0;34m,\u001b[0m \u001b[0mrealign_boundaries\u001b[0m\u001b[0;34m)\u001b[0m\u001b[0;34m]\u001b[0m\u001b[0;34m\u001b[0m\u001b[0;34m\u001b[0m\u001b[0m\n\u001b[0m\u001b[1;32m   1286\u001b[0m \u001b[0;34m\u001b[0m\u001b[0m\n\u001b[1;32m   1287\u001b[0m     \u001b[0;32mdef\u001b[0m \u001b[0m_slices_from_text\u001b[0m\u001b[0;34m(\u001b[0m\u001b[0mself\u001b[0m\u001b[0;34m,\u001b[0m \u001b[0mtext\u001b[0m\u001b[0;34m)\u001b[0m\u001b[0;34m:\u001b[0m\u001b[0;34m\u001b[0m\u001b[0;34m\u001b[0m\u001b[0m\n",
      "\u001b[0;32m/usr/local/lib/python3.7/dist-packages/nltk/tokenize/punkt.py\u001b[0m in \u001b[0;36mspan_tokenize\u001b[0;34m(self, text, realign_boundaries)\u001b[0m\n\u001b[1;32m   1274\u001b[0m         \u001b[0;32mif\u001b[0m \u001b[0mrealign_boundaries\u001b[0m\u001b[0;34m:\u001b[0m\u001b[0;34m\u001b[0m\u001b[0;34m\u001b[0m\u001b[0m\n\u001b[1;32m   1275\u001b[0m             \u001b[0mslices\u001b[0m \u001b[0;34m=\u001b[0m \u001b[0mself\u001b[0m\u001b[0;34m.\u001b[0m\u001b[0m_realign_boundaries\u001b[0m\u001b[0;34m(\u001b[0m\u001b[0mtext\u001b[0m\u001b[0;34m,\u001b[0m \u001b[0mslices\u001b[0m\u001b[0;34m)\u001b[0m\u001b[0;34m\u001b[0m\u001b[0;34m\u001b[0m\u001b[0m\n\u001b[0;32m-> 1276\u001b[0;31m         \u001b[0;32mreturn\u001b[0m \u001b[0;34m[\u001b[0m\u001b[0;34m(\u001b[0m\u001b[0msl\u001b[0m\u001b[0;34m.\u001b[0m\u001b[0mstart\u001b[0m\u001b[0;34m,\u001b[0m \u001b[0msl\u001b[0m\u001b[0;34m.\u001b[0m\u001b[0mstop\u001b[0m\u001b[0;34m)\u001b[0m \u001b[0;32mfor\u001b[0m \u001b[0msl\u001b[0m \u001b[0;32min\u001b[0m \u001b[0mslices\u001b[0m\u001b[0;34m]\u001b[0m\u001b[0;34m\u001b[0m\u001b[0;34m\u001b[0m\u001b[0m\n\u001b[0m\u001b[1;32m   1277\u001b[0m \u001b[0;34m\u001b[0m\u001b[0m\n\u001b[1;32m   1278\u001b[0m     \u001b[0;32mdef\u001b[0m \u001b[0msentences_from_text\u001b[0m\u001b[0;34m(\u001b[0m\u001b[0mself\u001b[0m\u001b[0;34m,\u001b[0m \u001b[0mtext\u001b[0m\u001b[0;34m,\u001b[0m \u001b[0mrealign_boundaries\u001b[0m\u001b[0;34m=\u001b[0m\u001b[0;32mTrue\u001b[0m\u001b[0;34m)\u001b[0m\u001b[0;34m:\u001b[0m\u001b[0;34m\u001b[0m\u001b[0;34m\u001b[0m\u001b[0m\n",
      "\u001b[0;32m/usr/local/lib/python3.7/dist-packages/nltk/tokenize/punkt.py\u001b[0m in \u001b[0;36m<listcomp>\u001b[0;34m(.0)\u001b[0m\n\u001b[1;32m   1274\u001b[0m         \u001b[0;32mif\u001b[0m \u001b[0mrealign_boundaries\u001b[0m\u001b[0;34m:\u001b[0m\u001b[0;34m\u001b[0m\u001b[0;34m\u001b[0m\u001b[0m\n\u001b[1;32m   1275\u001b[0m             \u001b[0mslices\u001b[0m \u001b[0;34m=\u001b[0m \u001b[0mself\u001b[0m\u001b[0;34m.\u001b[0m\u001b[0m_realign_boundaries\u001b[0m\u001b[0;34m(\u001b[0m\u001b[0mtext\u001b[0m\u001b[0;34m,\u001b[0m \u001b[0mslices\u001b[0m\u001b[0;34m)\u001b[0m\u001b[0;34m\u001b[0m\u001b[0;34m\u001b[0m\u001b[0m\n\u001b[0;32m-> 1276\u001b[0;31m         \u001b[0;32mreturn\u001b[0m \u001b[0;34m[\u001b[0m\u001b[0;34m(\u001b[0m\u001b[0msl\u001b[0m\u001b[0;34m.\u001b[0m\u001b[0mstart\u001b[0m\u001b[0;34m,\u001b[0m \u001b[0msl\u001b[0m\u001b[0;34m.\u001b[0m\u001b[0mstop\u001b[0m\u001b[0;34m)\u001b[0m \u001b[0;32mfor\u001b[0m \u001b[0msl\u001b[0m \u001b[0;32min\u001b[0m \u001b[0mslices\u001b[0m\u001b[0;34m]\u001b[0m\u001b[0;34m\u001b[0m\u001b[0;34m\u001b[0m\u001b[0m\n\u001b[0m\u001b[1;32m   1277\u001b[0m \u001b[0;34m\u001b[0m\u001b[0m\n\u001b[1;32m   1278\u001b[0m     \u001b[0;32mdef\u001b[0m \u001b[0msentences_from_text\u001b[0m\u001b[0;34m(\u001b[0m\u001b[0mself\u001b[0m\u001b[0;34m,\u001b[0m \u001b[0mtext\u001b[0m\u001b[0;34m,\u001b[0m \u001b[0mrealign_boundaries\u001b[0m\u001b[0;34m=\u001b[0m\u001b[0;32mTrue\u001b[0m\u001b[0;34m)\u001b[0m\u001b[0;34m:\u001b[0m\u001b[0;34m\u001b[0m\u001b[0;34m\u001b[0m\u001b[0m\n",
      "\u001b[0;32m/usr/local/lib/python3.7/dist-packages/nltk/tokenize/punkt.py\u001b[0m in \u001b[0;36m_realign_boundaries\u001b[0;34m(self, text, slices)\u001b[0m\n\u001b[1;32m   1314\u001b[0m         \"\"\"\n\u001b[1;32m   1315\u001b[0m         \u001b[0mrealign\u001b[0m \u001b[0;34m=\u001b[0m \u001b[0;36m0\u001b[0m\u001b[0;34m\u001b[0m\u001b[0;34m\u001b[0m\u001b[0m\n\u001b[0;32m-> 1316\u001b[0;31m         \u001b[0;32mfor\u001b[0m \u001b[0msl1\u001b[0m\u001b[0;34m,\u001b[0m \u001b[0msl2\u001b[0m \u001b[0;32min\u001b[0m \u001b[0m_pair_iter\u001b[0m\u001b[0;34m(\u001b[0m\u001b[0mslices\u001b[0m\u001b[0;34m)\u001b[0m\u001b[0;34m:\u001b[0m\u001b[0;34m\u001b[0m\u001b[0;34m\u001b[0m\u001b[0m\n\u001b[0m\u001b[1;32m   1317\u001b[0m             \u001b[0msl1\u001b[0m \u001b[0;34m=\u001b[0m \u001b[0mslice\u001b[0m\u001b[0;34m(\u001b[0m\u001b[0msl1\u001b[0m\u001b[0;34m.\u001b[0m\u001b[0mstart\u001b[0m \u001b[0;34m+\u001b[0m \u001b[0mrealign\u001b[0m\u001b[0;34m,\u001b[0m \u001b[0msl1\u001b[0m\u001b[0;34m.\u001b[0m\u001b[0mstop\u001b[0m\u001b[0;34m)\u001b[0m\u001b[0;34m\u001b[0m\u001b[0;34m\u001b[0m\u001b[0m\n\u001b[1;32m   1318\u001b[0m             \u001b[0;32mif\u001b[0m \u001b[0;32mnot\u001b[0m \u001b[0msl2\u001b[0m\u001b[0;34m:\u001b[0m\u001b[0;34m\u001b[0m\u001b[0;34m\u001b[0m\u001b[0m\n",
      "\u001b[0;32m/usr/local/lib/python3.7/dist-packages/nltk/tokenize/punkt.py\u001b[0m in \u001b[0;36m_pair_iter\u001b[0;34m(it)\u001b[0m\n\u001b[1;32m    310\u001b[0m     \"\"\"\n\u001b[1;32m    311\u001b[0m     \u001b[0mit\u001b[0m \u001b[0;34m=\u001b[0m \u001b[0miter\u001b[0m\u001b[0;34m(\u001b[0m\u001b[0mit\u001b[0m\u001b[0;34m)\u001b[0m\u001b[0;34m\u001b[0m\u001b[0;34m\u001b[0m\u001b[0m\n\u001b[0;32m--> 312\u001b[0;31m     \u001b[0mprev\u001b[0m \u001b[0;34m=\u001b[0m \u001b[0mnext\u001b[0m\u001b[0;34m(\u001b[0m\u001b[0mit\u001b[0m\u001b[0;34m)\u001b[0m\u001b[0;34m\u001b[0m\u001b[0;34m\u001b[0m\u001b[0m\n\u001b[0m\u001b[1;32m    313\u001b[0m     \u001b[0;32mfor\u001b[0m \u001b[0mel\u001b[0m \u001b[0;32min\u001b[0m \u001b[0mit\u001b[0m\u001b[0;34m:\u001b[0m\u001b[0;34m\u001b[0m\u001b[0;34m\u001b[0m\u001b[0m\n\u001b[1;32m    314\u001b[0m         \u001b[0;32myield\u001b[0m \u001b[0;34m(\u001b[0m\u001b[0mprev\u001b[0m\u001b[0;34m,\u001b[0m \u001b[0mel\u001b[0m\u001b[0;34m)\u001b[0m\u001b[0;34m\u001b[0m\u001b[0;34m\u001b[0m\u001b[0m\n",
      "\u001b[0;32m/usr/local/lib/python3.7/dist-packages/nltk/tokenize/punkt.py\u001b[0m in \u001b[0;36m_slices_from_text\u001b[0;34m(self, text)\u001b[0m\n\u001b[1;32m   1289\u001b[0m         \u001b[0;32mfor\u001b[0m \u001b[0mmatch\u001b[0m \u001b[0;32min\u001b[0m \u001b[0mself\u001b[0m\u001b[0;34m.\u001b[0m\u001b[0m_lang_vars\u001b[0m\u001b[0;34m.\u001b[0m\u001b[0mperiod_context_re\u001b[0m\u001b[0;34m(\u001b[0m\u001b[0;34m)\u001b[0m\u001b[0;34m.\u001b[0m\u001b[0mfinditer\u001b[0m\u001b[0;34m(\u001b[0m\u001b[0mtext\u001b[0m\u001b[0;34m)\u001b[0m\u001b[0;34m:\u001b[0m\u001b[0;34m\u001b[0m\u001b[0;34m\u001b[0m\u001b[0m\n\u001b[1;32m   1290\u001b[0m             \u001b[0mcontext\u001b[0m \u001b[0;34m=\u001b[0m \u001b[0mmatch\u001b[0m\u001b[0;34m.\u001b[0m\u001b[0mgroup\u001b[0m\u001b[0;34m(\u001b[0m\u001b[0;34m)\u001b[0m \u001b[0;34m+\u001b[0m \u001b[0mmatch\u001b[0m\u001b[0;34m.\u001b[0m\u001b[0mgroup\u001b[0m\u001b[0;34m(\u001b[0m\u001b[0;34m'after_tok'\u001b[0m\u001b[0;34m)\u001b[0m\u001b[0;34m\u001b[0m\u001b[0;34m\u001b[0m\u001b[0m\n\u001b[0;32m-> 1291\u001b[0;31m             \u001b[0;32mif\u001b[0m \u001b[0mself\u001b[0m\u001b[0;34m.\u001b[0m\u001b[0mtext_contains_sentbreak\u001b[0m\u001b[0;34m(\u001b[0m\u001b[0mcontext\u001b[0m\u001b[0;34m)\u001b[0m\u001b[0;34m:\u001b[0m\u001b[0;34m\u001b[0m\u001b[0;34m\u001b[0m\u001b[0m\n\u001b[0m\u001b[1;32m   1292\u001b[0m                 \u001b[0;32myield\u001b[0m \u001b[0mslice\u001b[0m\u001b[0;34m(\u001b[0m\u001b[0mlast_break\u001b[0m\u001b[0;34m,\u001b[0m \u001b[0mmatch\u001b[0m\u001b[0;34m.\u001b[0m\u001b[0mend\u001b[0m\u001b[0;34m(\u001b[0m\u001b[0;34m)\u001b[0m\u001b[0;34m)\u001b[0m\u001b[0;34m\u001b[0m\u001b[0;34m\u001b[0m\u001b[0m\n\u001b[1;32m   1293\u001b[0m                 \u001b[0;32mif\u001b[0m \u001b[0mmatch\u001b[0m\u001b[0;34m.\u001b[0m\u001b[0mgroup\u001b[0m\u001b[0;34m(\u001b[0m\u001b[0;34m'next_tok'\u001b[0m\u001b[0;34m)\u001b[0m\u001b[0;34m:\u001b[0m\u001b[0;34m\u001b[0m\u001b[0;34m\u001b[0m\u001b[0m\n",
      "\u001b[0;32m/usr/local/lib/python3.7/dist-packages/nltk/tokenize/punkt.py\u001b[0m in \u001b[0;36mtext_contains_sentbreak\u001b[0;34m(self, text)\u001b[0m\n\u001b[1;32m   1335\u001b[0m         \"\"\"\n\u001b[1;32m   1336\u001b[0m         \u001b[0mfound\u001b[0m \u001b[0;34m=\u001b[0m \u001b[0;32mFalse\u001b[0m \u001b[0;31m# used to ignore last token\u001b[0m\u001b[0;34m\u001b[0m\u001b[0;34m\u001b[0m\u001b[0m\n\u001b[0;32m-> 1337\u001b[0;31m         \u001b[0;32mfor\u001b[0m \u001b[0mt\u001b[0m \u001b[0;32min\u001b[0m \u001b[0mself\u001b[0m\u001b[0;34m.\u001b[0m\u001b[0m_annotate_tokens\u001b[0m\u001b[0;34m(\u001b[0m\u001b[0mself\u001b[0m\u001b[0;34m.\u001b[0m\u001b[0m_tokenize_words\u001b[0m\u001b[0;34m(\u001b[0m\u001b[0mtext\u001b[0m\u001b[0;34m)\u001b[0m\u001b[0;34m)\u001b[0m\u001b[0;34m:\u001b[0m\u001b[0;34m\u001b[0m\u001b[0;34m\u001b[0m\u001b[0m\n\u001b[0m\u001b[1;32m   1338\u001b[0m             \u001b[0;32mif\u001b[0m \u001b[0mfound\u001b[0m\u001b[0;34m:\u001b[0m\u001b[0;34m\u001b[0m\u001b[0;34m\u001b[0m\u001b[0m\n\u001b[1;32m   1339\u001b[0m                 \u001b[0;32mreturn\u001b[0m \u001b[0;32mTrue\u001b[0m\u001b[0;34m\u001b[0m\u001b[0;34m\u001b[0m\u001b[0m\n",
      "\u001b[0;32m/usr/local/lib/python3.7/dist-packages/nltk/tokenize/punkt.py\u001b[0m in \u001b[0;36m_annotate_second_pass\u001b[0;34m(self, tokens)\u001b[0m\n\u001b[1;32m   1470\u001b[0m         \u001b[0mheuristic\u001b[0m \u001b[0;34m(\u001b[0m\u001b[0;36m4.1\u001b[0m\u001b[0;36m.2\u001b[0m\u001b[0;34m)\u001b[0m \u001b[0;32mand\u001b[0m \u001b[0mfrequent\u001b[0m \u001b[0msentence\u001b[0m \u001b[0mstarter\u001b[0m \u001b[0mheuristic\u001b[0m \u001b[0;34m(\u001b[0m\u001b[0;36m4.1\u001b[0m\u001b[0;36m.3\u001b[0m\u001b[0;34m)\u001b[0m\u001b[0;34m.\u001b[0m\u001b[0;34m\u001b[0m\u001b[0;34m\u001b[0m\u001b[0m\n\u001b[1;32m   1471\u001b[0m         \"\"\"\n\u001b[0;32m-> 1472\u001b[0;31m         \u001b[0;32mfor\u001b[0m \u001b[0mt1\u001b[0m\u001b[0;34m,\u001b[0m \u001b[0mt2\u001b[0m \u001b[0;32min\u001b[0m \u001b[0m_pair_iter\u001b[0m\u001b[0;34m(\u001b[0m\u001b[0mtokens\u001b[0m\u001b[0;34m)\u001b[0m\u001b[0;34m:\u001b[0m\u001b[0;34m\u001b[0m\u001b[0;34m\u001b[0m\u001b[0m\n\u001b[0m\u001b[1;32m   1473\u001b[0m             \u001b[0mself\u001b[0m\u001b[0;34m.\u001b[0m\u001b[0m_second_pass_annotation\u001b[0m\u001b[0;34m(\u001b[0m\u001b[0mt1\u001b[0m\u001b[0;34m,\u001b[0m \u001b[0mt2\u001b[0m\u001b[0;34m)\u001b[0m\u001b[0;34m\u001b[0m\u001b[0;34m\u001b[0m\u001b[0m\n\u001b[1;32m   1474\u001b[0m             \u001b[0;32myield\u001b[0m \u001b[0mt1\u001b[0m\u001b[0;34m\u001b[0m\u001b[0;34m\u001b[0m\u001b[0m\n",
      "\u001b[0;32m/usr/local/lib/python3.7/dist-packages/nltk/tokenize/punkt.py\u001b[0m in \u001b[0;36m_pair_iter\u001b[0;34m(it)\u001b[0m\n\u001b[1;32m    311\u001b[0m     \u001b[0mit\u001b[0m \u001b[0;34m=\u001b[0m \u001b[0miter\u001b[0m\u001b[0;34m(\u001b[0m\u001b[0mit\u001b[0m\u001b[0;34m)\u001b[0m\u001b[0;34m\u001b[0m\u001b[0;34m\u001b[0m\u001b[0m\n\u001b[1;32m    312\u001b[0m     \u001b[0mprev\u001b[0m \u001b[0;34m=\u001b[0m \u001b[0mnext\u001b[0m\u001b[0;34m(\u001b[0m\u001b[0mit\u001b[0m\u001b[0;34m)\u001b[0m\u001b[0;34m\u001b[0m\u001b[0;34m\u001b[0m\u001b[0m\n\u001b[0;32m--> 313\u001b[0;31m     \u001b[0;32mfor\u001b[0m \u001b[0mel\u001b[0m \u001b[0;32min\u001b[0m \u001b[0mit\u001b[0m\u001b[0;34m:\u001b[0m\u001b[0;34m\u001b[0m\u001b[0;34m\u001b[0m\u001b[0m\n\u001b[0m\u001b[1;32m    314\u001b[0m         \u001b[0;32myield\u001b[0m \u001b[0;34m(\u001b[0m\u001b[0mprev\u001b[0m\u001b[0;34m,\u001b[0m \u001b[0mel\u001b[0m\u001b[0;34m)\u001b[0m\u001b[0;34m\u001b[0m\u001b[0;34m\u001b[0m\u001b[0m\n\u001b[1;32m    315\u001b[0m         \u001b[0mprev\u001b[0m \u001b[0;34m=\u001b[0m \u001b[0mel\u001b[0m\u001b[0;34m\u001b[0m\u001b[0;34m\u001b[0m\u001b[0m\n",
      "\u001b[0;32m/usr/local/lib/python3.7/dist-packages/nltk/tokenize/punkt.py\u001b[0m in \u001b[0;36m_annotate_first_pass\u001b[0;34m(self, tokens)\u001b[0m\n\u001b[1;32m    579\u001b[0m           \u001b[0;34m-\u001b[0m \u001b[0mellipsis_toks\u001b[0m\u001b[0;34m:\u001b[0m \u001b[0mThe\u001b[0m \u001b[0mindices\u001b[0m \u001b[0mof\u001b[0m \u001b[0mall\u001b[0m \u001b[0mellipsis\u001b[0m \u001b[0mmarks\u001b[0m\u001b[0;34m.\u001b[0m\u001b[0;34m\u001b[0m\u001b[0;34m\u001b[0m\u001b[0m\n\u001b[1;32m    580\u001b[0m         \"\"\"\n\u001b[0;32m--> 581\u001b[0;31m         \u001b[0;32mfor\u001b[0m \u001b[0maug_tok\u001b[0m \u001b[0;32min\u001b[0m \u001b[0mtokens\u001b[0m\u001b[0;34m:\u001b[0m\u001b[0;34m\u001b[0m\u001b[0;34m\u001b[0m\u001b[0m\n\u001b[0m\u001b[1;32m    582\u001b[0m             \u001b[0mself\u001b[0m\u001b[0;34m.\u001b[0m\u001b[0m_first_pass_annotation\u001b[0m\u001b[0;34m(\u001b[0m\u001b[0maug_tok\u001b[0m\u001b[0;34m)\u001b[0m\u001b[0;34m\u001b[0m\u001b[0;34m\u001b[0m\u001b[0m\n\u001b[1;32m    583\u001b[0m             \u001b[0;32myield\u001b[0m \u001b[0maug_tok\u001b[0m\u001b[0;34m\u001b[0m\u001b[0;34m\u001b[0m\u001b[0m\n",
      "\u001b[0;32m/usr/local/lib/python3.7/dist-packages/nltk/tokenize/punkt.py\u001b[0m in \u001b[0;36m_tokenize_words\u001b[0;34m(self, plaintext)\u001b[0m\n\u001b[1;32m    553\u001b[0m \u001b[0;34m\u001b[0m\u001b[0m\n\u001b[1;32m    554\u001b[0m                 \u001b[0;32mfor\u001b[0m \u001b[0mt\u001b[0m \u001b[0;32min\u001b[0m \u001b[0mline_toks\u001b[0m\u001b[0;34m:\u001b[0m\u001b[0;34m\u001b[0m\u001b[0;34m\u001b[0m\u001b[0m\n\u001b[0;32m--> 555\u001b[0;31m                     \u001b[0;32myield\u001b[0m \u001b[0mself\u001b[0m\u001b[0;34m.\u001b[0m\u001b[0m_Token\u001b[0m\u001b[0;34m(\u001b[0m\u001b[0mt\u001b[0m\u001b[0;34m)\u001b[0m\u001b[0;34m\u001b[0m\u001b[0;34m\u001b[0m\u001b[0m\n\u001b[0m\u001b[1;32m    556\u001b[0m             \u001b[0;32melse\u001b[0m\u001b[0;34m:\u001b[0m\u001b[0;34m\u001b[0m\u001b[0;34m\u001b[0m\u001b[0m\n\u001b[1;32m    557\u001b[0m                 \u001b[0mparastart\u001b[0m \u001b[0;34m=\u001b[0m \u001b[0;32mTrue\u001b[0m\u001b[0;34m\u001b[0m\u001b[0;34m\u001b[0m\u001b[0m\n",
      "\u001b[0;32m/usr/local/lib/python3.7/dist-packages/nltk/tokenize/punkt.py\u001b[0m in \u001b[0;36m__init__\u001b[0;34m(self, tok, **params)\u001b[0m\n\u001b[1;32m    390\u001b[0m     \u001b[0;32mdef\u001b[0m \u001b[0m__init__\u001b[0m\u001b[0;34m(\u001b[0m\u001b[0mself\u001b[0m\u001b[0;34m,\u001b[0m \u001b[0mtok\u001b[0m\u001b[0;34m,\u001b[0m \u001b[0;34m**\u001b[0m\u001b[0mparams\u001b[0m\u001b[0;34m)\u001b[0m\u001b[0;34m:\u001b[0m\u001b[0;34m\u001b[0m\u001b[0;34m\u001b[0m\u001b[0m\n\u001b[1;32m    391\u001b[0m         \u001b[0mself\u001b[0m\u001b[0;34m.\u001b[0m\u001b[0mtok\u001b[0m \u001b[0;34m=\u001b[0m \u001b[0mtok\u001b[0m\u001b[0;34m\u001b[0m\u001b[0;34m\u001b[0m\u001b[0m\n\u001b[0;32m--> 392\u001b[0;31m         \u001b[0mself\u001b[0m\u001b[0;34m.\u001b[0m\u001b[0mtype\u001b[0m \u001b[0;34m=\u001b[0m \u001b[0mself\u001b[0m\u001b[0;34m.\u001b[0m\u001b[0m_get_type\u001b[0m\u001b[0;34m(\u001b[0m\u001b[0mtok\u001b[0m\u001b[0;34m)\u001b[0m\u001b[0;34m\u001b[0m\u001b[0;34m\u001b[0m\u001b[0m\n\u001b[0m\u001b[1;32m    393\u001b[0m         \u001b[0mself\u001b[0m\u001b[0;34m.\u001b[0m\u001b[0mperiod_final\u001b[0m \u001b[0;34m=\u001b[0m \u001b[0mtok\u001b[0m\u001b[0;34m.\u001b[0m\u001b[0mendswith\u001b[0m\u001b[0;34m(\u001b[0m\u001b[0;34m'.'\u001b[0m\u001b[0;34m)\u001b[0m\u001b[0;34m\u001b[0m\u001b[0;34m\u001b[0m\u001b[0m\n\u001b[1;32m    394\u001b[0m \u001b[0;34m\u001b[0m\u001b[0m\n",
      "\u001b[0;31mKeyboardInterrupt\u001b[0m: "
     ]
    }
   ],
   "source": [
    "from tqdm import tqdm\n",
    "tqdm.pandas()\n",
    "\n",
    "df['cleaned_contents'] = df['cleaned_contents'].progress_apply(lambda x: str(x)) #str 아닌 에러.\n",
    "df['sents'] =  df['cleaned_contents'].progress_apply(lambda sents: nltk.sent_tokenize(sents))\n",
    "df\n",
    "df['sents'].loc[0]\n"
   ]
  },
  {
   "cell_type": "code",
   "execution_count": 6,
   "metadata": {
    "id": "-TssvaP2tZ-1"
   },
   "outputs": [],
   "source": [
    "# 필요 없는 컬럼 추리기\n",
    "df = df[['header', 'contents', 'star', 'helpful',\n",
    "       'in_n_weeks', 'Movie_code', 'sentiment', 'train', 'cleaned_contents',\n",
    "       'sents']]"
   ]
  },
  {
   "cell_type": "code",
   "execution_count": 20,
   "metadata": {
    "id": "fNdLBYFQuaB1"
   },
   "outputs": [],
   "source": [
    "# review2sent 전 check point\n",
    "path = '/gdrive/MyDrive/movie_predict/DF/temp/before_review2sent'\n",
    "\n",
    "# with open(path,'wb') as fw:\n",
    "#     pickle.dump(df,fw)\n",
    "with open(path,'rb') as fr:\n",
    "    review = pickle.load(fr)"
   ]
  },
  {
   "cell_type": "markdown",
   "metadata": {},
   "source": [
    "# 로컬용 Check Point"
   ]
  },
  {
   "cell_type": "code",
   "execution_count": 4,
   "metadata": {},
   "outputs": [
    {
     "ename": "FileNotFoundError",
     "evalue": "[Errno 2] No such file or directory: 'C:\\\\Users\\\\MinSeong\\\\Desktop\\\\내 연구 ABSA코드\\\\before_review2sent'",
     "output_type": "error",
     "traceback": [
      "\u001b[1;31m---------------------------------------------------------------------------\u001b[0m",
      "\u001b[1;31mFileNotFoundError\u001b[0m                         Traceback (most recent call last)",
      "\u001b[1;32m<ipython-input-4-bcc477d346a9>\u001b[0m in \u001b[0;36m<module>\u001b[1;34m\u001b[0m\n\u001b[0;32m      1\u001b[0m \u001b[1;31m# specific term 교체된 data.\u001b[0m\u001b[1;33m\u001b[0m\u001b[1;33m\u001b[0m\u001b[1;33m\u001b[0m\u001b[0m\n\u001b[0;32m      2\u001b[0m \u001b[0mpath\u001b[0m \u001b[1;33m=\u001b[0m \u001b[1;34mr'C:\\Users\\MinSeong\\Desktop\\내 연구 ABSA코드\\before_review2sent'\u001b[0m\u001b[1;33m\u001b[0m\u001b[1;33m\u001b[0m\u001b[0m\n\u001b[1;32m----> 3\u001b[1;33m \u001b[1;32mwith\u001b[0m \u001b[0mopen\u001b[0m\u001b[1;33m(\u001b[0m\u001b[0mpath\u001b[0m\u001b[1;33m,\u001b[0m\u001b[1;34m'rb'\u001b[0m\u001b[1;33m)\u001b[0m \u001b[1;32mas\u001b[0m \u001b[0mfr\u001b[0m\u001b[1;33m:\u001b[0m\u001b[1;33m\u001b[0m\u001b[1;33m\u001b[0m\u001b[0m\n\u001b[0m\u001b[0;32m      4\u001b[0m   \u001b[0mreview\u001b[0m \u001b[1;33m=\u001b[0m \u001b[0mpickle\u001b[0m\u001b[1;33m.\u001b[0m\u001b[0mload\u001b[0m\u001b[1;33m(\u001b[0m\u001b[0mfr\u001b[0m\u001b[1;33m)\u001b[0m\u001b[1;33m\u001b[0m\u001b[1;33m\u001b[0m\u001b[0m\n\u001b[0;32m      5\u001b[0m \u001b[0mreview\u001b[0m\u001b[1;33m.\u001b[0m\u001b[0mhead\u001b[0m\u001b[1;33m(\u001b[0m\u001b[1;33m)\u001b[0m\u001b[1;33m\u001b[0m\u001b[1;33m\u001b[0m\u001b[0m\n",
      "\u001b[1;31mFileNotFoundError\u001b[0m: [Errno 2] No such file or directory: 'C:\\\\Users\\\\MinSeong\\\\Desktop\\\\내 연구 ABSA코드\\\\before_review2sent'"
     ]
    }
   ],
   "source": [
    "# specific term 교체된 data.\n",
    "path = r'C:\\Users\\MinSeong\\Desktop\\내 연구 ABSA코드\\before_review2sent'\n",
    "with open(path,'rb') as fr:\n",
    "  review = pickle.load(fr)\n",
    "review.head()"
   ]
  },
  {
   "cell_type": "code",
   "execution_count": 25,
   "metadata": {
    "colab": {
     "base_uri": "https://localhost:8080/",
     "height": 1000
    },
    "id": "AZNdUwd-E3ER",
    "outputId": "52c084e5-a04c-4620-c3be-29d04c7d78ae"
   },
   "outputs": [
    {
     "data": {
      "text/html": [
       "<div>\n",
       "<style scoped>\n",
       "    .dataframe tbody tr th:only-of-type {\n",
       "        vertical-align: middle;\n",
       "    }\n",
       "\n",
       "    .dataframe tbody tr th {\n",
       "        vertical-align: top;\n",
       "    }\n",
       "\n",
       "    .dataframe thead th {\n",
       "        text-align: right;\n",
       "    }\n",
       "</style>\n",
       "<table border=\"1\" class=\"dataframe\">\n",
       "  <thead>\n",
       "    <tr style=\"text-align: right;\">\n",
       "      <th></th>\n",
       "      <th>index</th>\n",
       "      <th>header</th>\n",
       "      <th>contents</th>\n",
       "      <th>star</th>\n",
       "      <th>helpful</th>\n",
       "      <th>in_n_weeks</th>\n",
       "      <th>Movie_code</th>\n",
       "      <th>sentiment</th>\n",
       "      <th>train</th>\n",
       "      <th>cleaned_contents</th>\n",
       "      <th>sents</th>\n",
       "    </tr>\n",
       "  </thead>\n",
       "  <tbody>\n",
       "    <tr>\n",
       "      <th>0</th>\n",
       "      <td>0</td>\n",
       "      <td>Actually quite funny without Chris Tucker\\n</td>\n",
       "      <td>Next Friday is actually pretty funny even thou...</td>\n",
       "      <td>1.0</td>\n",
       "      <td>['17 out of 25']</td>\n",
       "      <td>after 4 weeks</td>\n",
       "      <td>0195945</td>\n",
       "      <td>1</td>\n",
       "      <td>1</td>\n",
       "      <td>the movie is actually pretty funny even though...</td>\n",
       "      <td>[the movie is actually pretty funny even thoug...</td>\n",
       "    </tr>\n",
       "    <tr>\n",
       "      <th>1</th>\n",
       "      <td>1</td>\n",
       "      <td>Some good belly laughs\\n</td>\n",
       "      <td>It is not easy to sit through the whole movie ...</td>\n",
       "      <td>0.7</td>\n",
       "      <td>['4 out of 5']</td>\n",
       "      <td>after 4 weeks</td>\n",
       "      <td>0195945</td>\n",
       "      <td>1</td>\n",
       "      <td>1</td>\n",
       "      <td>it is not easy to sit through the whole movie ...</td>\n",
       "      <td>[it is not easy to sit through the whole movie...</td>\n",
       "    </tr>\n",
       "    <tr>\n",
       "      <th>2</th>\n",
       "      <td>2</td>\n",
       "      <td>I loved that movie\\n</td>\n",
       "      <td>Next Friday is a movie i enjoyed to see all 4 ...</td>\n",
       "      <td>1.0</td>\n",
       "      <td>['5 out of 7']</td>\n",
       "      <td>after 4 weeks</td>\n",
       "      <td>0195945</td>\n",
       "      <td>1</td>\n",
       "      <td>1</td>\n",
       "      <td>the movie is a movie i enjoyed to see all 4 ti...</td>\n",
       "      <td>[the movie is a movie i enjoyed to see all 4 t...</td>\n",
       "    </tr>\n",
       "    <tr>\n",
       "      <th>3</th>\n",
       "      <td>3</td>\n",
       "      <td>Worst of the trilogy but still pretty funny a...</td>\n",
       "      <td>Rated R for Language,Drug Use and Sexual Conte...</td>\n",
       "      <td>0.8</td>\n",
       "      <td>['8 out of 13']</td>\n",
       "      <td>after 4 weeks</td>\n",
       "      <td>0195945</td>\n",
       "      <td>1</td>\n",
       "      <td>1</td>\n",
       "      <td>rated r for language,drug use and sexual conte...</td>\n",
       "      <td>[rated r for language,drug use and sexual cont...</td>\n",
       "    </tr>\n",
       "    <tr>\n",
       "      <th>4</th>\n",
       "      <td>4</td>\n",
       "      <td>will there be another next time???\\n</td>\n",
       "      <td>i hope so. friday part one, might been more fu...</td>\n",
       "      <td>0.8</td>\n",
       "      <td>['5 out of 10']</td>\n",
       "      <td>after 4 weeks</td>\n",
       "      <td>0195945</td>\n",
       "      <td>1</td>\n",
       "      <td>1</td>\n",
       "      <td>i hope so. friday part one, might been more fu...</td>\n",
       "      <td>[i hope so., friday part one, might been more ...</td>\n",
       "    </tr>\n",
       "    <tr>\n",
       "      <th>...</th>\n",
       "      <td>...</td>\n",
       "      <td>...</td>\n",
       "      <td>...</td>\n",
       "      <td>...</td>\n",
       "      <td>...</td>\n",
       "      <td>...</td>\n",
       "      <td>...</td>\n",
       "      <td>...</td>\n",
       "      <td>...</td>\n",
       "      <td>...</td>\n",
       "      <td>...</td>\n",
       "    </tr>\n",
       "    <tr>\n",
       "      <th>1045152</th>\n",
       "      <td>1045152</td>\n",
       "      <td>The Clash\\n</td>\n",
       "      <td>A study in tolerance and values as they clash ...</td>\n",
       "      <td>0.7</td>\n",
       "      <td>['3 out of 5']</td>\n",
       "      <td>after 4 weeks</td>\n",
       "      <td>5974388</td>\n",
       "      <td>1</td>\n",
       "      <td>1</td>\n",
       "      <td>a study in tolerance and values as they clash ...</td>\n",
       "      <td>[a study in tolerance and values as they clash...</td>\n",
       "    </tr>\n",
       "    <tr>\n",
       "      <th>1045153</th>\n",
       "      <td>1045153</td>\n",
       "      <td>Tiresome Throwback To The 80's, We've All Mov...</td>\n",
       "      <td>In BetweenThis movie had the feel of a student...</td>\n",
       "      <td>0.4</td>\n",
       "      <td>['1 out of 2']</td>\n",
       "      <td>after 4 weeks</td>\n",
       "      <td>5974388</td>\n",
       "      <td>0</td>\n",
       "      <td>1</td>\n",
       "      <td>the moviethis movie had the feel of a student ...</td>\n",
       "      <td>[the moviethis movie had the feel of a student...</td>\n",
       "    </tr>\n",
       "    <tr>\n",
       "      <th>1045154</th>\n",
       "      <td>1045154</td>\n",
       "      <td>An Intimate Slice of Three Palestinian Person...</td>\n",
       "      <td>I love this film for three reasons: the cinema...</td>\n",
       "      <td>1.0</td>\n",
       "      <td>['1 out of 3']</td>\n",
       "      <td>after 4 weeks</td>\n",
       "      <td>5974388</td>\n",
       "      <td>1</td>\n",
       "      <td>1</td>\n",
       "      <td>i love this film for three reasons: the cinema...</td>\n",
       "      <td>[i love this film for three reasons: the cinem...</td>\n",
       "    </tr>\n",
       "    <tr>\n",
       "      <th>1045155</th>\n",
       "      <td>1045155</td>\n",
       "      <td>Very Creepy Journey!!!\\n</td>\n",
       "      <td>This was one of those movies very well done. I...</td>\n",
       "      <td>0.8</td>\n",
       "      <td>['0 out of 1']</td>\n",
       "      <td>after 4 weeks</td>\n",
       "      <td>3630918</td>\n",
       "      <td>1</td>\n",
       "      <td>0</td>\n",
       "      <td>this was one of those movies very well done. i...</td>\n",
       "      <td>[this was one of those movies very well done.,...</td>\n",
       "    </tr>\n",
       "    <tr>\n",
       "      <th>1045156</th>\n",
       "      <td>1045156</td>\n",
       "      <td>Study of the genesis of a serial psychotic ki...</td>\n",
       "      <td>Redefining Horror as a genre. Amazing study of...</td>\n",
       "      <td>0.9</td>\n",
       "      <td>['0 out of 2']</td>\n",
       "      <td>after 4 weeks</td>\n",
       "      <td>3630918</td>\n",
       "      <td>1</td>\n",
       "      <td>0</td>\n",
       "      <td>redefining horror as a genre. amazing study of...</td>\n",
       "      <td>[redefining horror as a genre., amazing study ...</td>\n",
       "    </tr>\n",
       "  </tbody>\n",
       "</table>\n",
       "<p>1045157 rows × 11 columns</p>\n",
       "</div>"
      ],
      "text/plain": [
       "           index                                             header  \\\n",
       "0              0        Actually quite funny without Chris Tucker\\n   \n",
       "1              1                           Some good belly laughs\\n   \n",
       "2              2                               I loved that movie\\n   \n",
       "3              3   Worst of the trilogy but still pretty funny a...   \n",
       "4              4               will there be another next time???\\n   \n",
       "...          ...                                                ...   \n",
       "1045152  1045152                                        The Clash\\n   \n",
       "1045153  1045153   Tiresome Throwback To The 80's, We've All Mov...   \n",
       "1045154  1045154   An Intimate Slice of Three Palestinian Person...   \n",
       "1045155  1045155                           Very Creepy Journey!!!\\n   \n",
       "1045156  1045156   Study of the genesis of a serial psychotic ki...   \n",
       "\n",
       "                                                  contents  star  \\\n",
       "0        Next Friday is actually pretty funny even thou...   1.0   \n",
       "1        It is not easy to sit through the whole movie ...   0.7   \n",
       "2        Next Friday is a movie i enjoyed to see all 4 ...   1.0   \n",
       "3        Rated R for Language,Drug Use and Sexual Conte...   0.8   \n",
       "4        i hope so. friday part one, might been more fu...   0.8   \n",
       "...                                                    ...   ...   \n",
       "1045152  A study in tolerance and values as they clash ...   0.7   \n",
       "1045153  In BetweenThis movie had the feel of a student...   0.4   \n",
       "1045154  I love this film for three reasons: the cinema...   1.0   \n",
       "1045155  This was one of those movies very well done. I...   0.8   \n",
       "1045156  Redefining Horror as a genre. Amazing study of...   0.9   \n",
       "\n",
       "                  helpful     in_n_weeks Movie_code sentiment  train  \\\n",
       "0        ['17 out of 25']  after 4 weeks    0195945         1      1   \n",
       "1          ['4 out of 5']  after 4 weeks    0195945         1      1   \n",
       "2          ['5 out of 7']  after 4 weeks    0195945         1      1   \n",
       "3         ['8 out of 13']  after 4 weeks    0195945         1      1   \n",
       "4         ['5 out of 10']  after 4 weeks    0195945         1      1   \n",
       "...                   ...            ...        ...       ...    ...   \n",
       "1045152    ['3 out of 5']  after 4 weeks    5974388         1      1   \n",
       "1045153    ['1 out of 2']  after 4 weeks    5974388         0      1   \n",
       "1045154    ['1 out of 3']  after 4 weeks    5974388         1      1   \n",
       "1045155    ['0 out of 1']  after 4 weeks    3630918         1      0   \n",
       "1045156    ['0 out of 2']  after 4 weeks    3630918         1      0   \n",
       "\n",
       "                                          cleaned_contents  \\\n",
       "0        the movie is actually pretty funny even though...   \n",
       "1        it is not easy to sit through the whole movie ...   \n",
       "2        the movie is a movie i enjoyed to see all 4 ti...   \n",
       "3        rated r for language,drug use and sexual conte...   \n",
       "4        i hope so. friday part one, might been more fu...   \n",
       "...                                                    ...   \n",
       "1045152  a study in tolerance and values as they clash ...   \n",
       "1045153  the moviethis movie had the feel of a student ...   \n",
       "1045154  i love this film for three reasons: the cinema...   \n",
       "1045155  this was one of those movies very well done. i...   \n",
       "1045156  redefining horror as a genre. amazing study of...   \n",
       "\n",
       "                                                     sents  \n",
       "0        [the movie is actually pretty funny even thoug...  \n",
       "1        [it is not easy to sit through the whole movie...  \n",
       "2        [the movie is a movie i enjoyed to see all 4 t...  \n",
       "3        [rated r for language,drug use and sexual cont...  \n",
       "4        [i hope so., friday part one, might been more ...  \n",
       "...                                                    ...  \n",
       "1045152  [a study in tolerance and values as they clash...  \n",
       "1045153  [the moviethis movie had the feel of a student...  \n",
       "1045154  [i love this film for three reasons: the cinem...  \n",
       "1045155  [this was one of those movies very well done.,...  \n",
       "1045156  [redefining horror as a genre., amazing study ...  \n",
       "\n",
       "[1045157 rows x 11 columns]"
      ]
     },
     "execution_count": 25,
     "metadata": {},
     "output_type": "execute_result"
    }
   ],
   "source": [
    "review.reset_index(inplace=True)\n",
    "review"
   ]
  },
  {
   "cell_type": "code",
   "execution_count": 26,
   "metadata": {},
   "outputs": [],
   "source": [
    "review = review[~(review['in_n_weeks'] == 'after 4 weeks')]"
   ]
  },
  {
   "cell_type": "code",
   "execution_count": 27,
   "metadata": {
    "id": "f_2MCzP4xlNQ"
   },
   "outputs": [
    {
     "name": "stderr",
     "output_type": "stream",
     "text": [
      "<ipython-input-27-fa9c8905ac06>:1: SettingWithCopyWarning: \n",
      "A value is trying to be set on a copy of a slice from a DataFrame.\n",
      "Try using .loc[row_indexer,col_indexer] = value instead\n",
      "\n",
      "See the caveats in the documentation: https://pandas.pydata.org/pandas-docs/stable/user_guide/indexing.html#returning-a-view-versus-a-copy\n",
      "  review['doc_id'] = review['index']\n",
      "C:\\Users\\MinSeong\\anaconda3\\lib\\site-packages\\pandas\\core\\frame.py:4906: SettingWithCopyWarning: \n",
      "A value is trying to be set on a copy of a slice from a DataFrame\n",
      "\n",
      "See the caveats in the documentation: https://pandas.pydata.org/pandas-docs/stable/user_guide/indexing.html#returning-a-view-versus-a-copy\n",
      "  return super().drop(\n"
     ]
    },
    {
     "data": {
      "text/html": [
       "<div>\n",
       "<style scoped>\n",
       "    .dataframe tbody tr th:only-of-type {\n",
       "        vertical-align: middle;\n",
       "    }\n",
       "\n",
       "    .dataframe tbody tr th {\n",
       "        vertical-align: top;\n",
       "    }\n",
       "\n",
       "    .dataframe thead th {\n",
       "        text-align: right;\n",
       "    }\n",
       "</style>\n",
       "<table border=\"1\" class=\"dataframe\">\n",
       "  <thead>\n",
       "    <tr style=\"text-align: right;\">\n",
       "      <th></th>\n",
       "      <th>header</th>\n",
       "      <th>contents</th>\n",
       "      <th>star</th>\n",
       "      <th>helpful</th>\n",
       "      <th>in_n_weeks</th>\n",
       "      <th>Movie_code</th>\n",
       "      <th>sentiment</th>\n",
       "      <th>train</th>\n",
       "      <th>cleaned_contents</th>\n",
       "      <th>sents</th>\n",
       "      <th>doc_id</th>\n",
       "    </tr>\n",
       "  </thead>\n",
       "  <tbody>\n",
       "    <tr>\n",
       "      <th>15</th>\n",
       "      <td>Friday was badass, Next Friday is just bad\\n</td>\n",
       "      <td>Ice Cube made a major blunder when he did not ...</td>\n",
       "      <td>0.4</td>\n",
       "      <td>['0 out of 0']</td>\n",
       "      <td>4</td>\n",
       "      <td>0195945</td>\n",
       "      <td>0</td>\n",
       "      <td>1</td>\n",
       "      <td>the actor made a major blunder when he did not...</td>\n",
       "      <td>[the actor made a major blunder when he did no...</td>\n",
       "      <td>15</td>\n",
       "    </tr>\n",
       "    <tr>\n",
       "      <th>16</th>\n",
       "      <td>much different compared to the first one.\\n</td>\n",
       "      <td>i was suprised to see this be as good as the f...</td>\n",
       "      <td>0.8</td>\n",
       "      <td>['0 out of 0']</td>\n",
       "      <td>0</td>\n",
       "      <td>0195945</td>\n",
       "      <td>1</td>\n",
       "      <td>1</td>\n",
       "      <td>i was suprised to see this be as good as the f...</td>\n",
       "      <td>[i was suprised to see this be as good as the ...</td>\n",
       "      <td>16</td>\n",
       "    </tr>\n",
       "    <tr>\n",
       "      <th>37</th>\n",
       "      <td>It's all about Next Friday!\\n</td>\n",
       "      <td>Next Friday is completely worth it!  Everyone ...</td>\n",
       "      <td>1.0</td>\n",
       "      <td>['0 out of 1']</td>\n",
       "      <td>1</td>\n",
       "      <td>0195945</td>\n",
       "      <td>1</td>\n",
       "      <td>1</td>\n",
       "      <td>the movie is completely worth it!  everyone sh...</td>\n",
       "      <td>[the movie is completely worth it!, everyone s...</td>\n",
       "      <td>37</td>\n",
       "    </tr>\n",
       "    <tr>\n",
       "      <th>38</th>\n",
       "      <td>An Equal Sequel\\n</td>\n",
       "      <td>Next Friday was probably one of the better seq...</td>\n",
       "      <td>1.0</td>\n",
       "      <td>['0 out of 1']</td>\n",
       "      <td>1</td>\n",
       "      <td>0195945</td>\n",
       "      <td>1</td>\n",
       "      <td>1</td>\n",
       "      <td>the movie was probably one of the better seque...</td>\n",
       "      <td>[the movie was probably one of the better sequ...</td>\n",
       "      <td>38</td>\n",
       "    </tr>\n",
       "    <tr>\n",
       "      <th>39</th>\n",
       "      <td>Just as good as the first one, if not more so\\n</td>\n",
       "      <td>Who says the sequel is never as good as the or...</td>\n",
       "      <td>0.7</td>\n",
       "      <td>['0 out of 1']</td>\n",
       "      <td>0</td>\n",
       "      <td>0195945</td>\n",
       "      <td>1</td>\n",
       "      <td>1</td>\n",
       "      <td>who says the sequel is never as good as the or...</td>\n",
       "      <td>[who says the sequel is never as good as the o...</td>\n",
       "      <td>39</td>\n",
       "    </tr>\n",
       "    <tr>\n",
       "      <th>...</th>\n",
       "      <td>...</td>\n",
       "      <td>...</td>\n",
       "      <td>...</td>\n",
       "      <td>...</td>\n",
       "      <td>...</td>\n",
       "      <td>...</td>\n",
       "      <td>...</td>\n",
       "      <td>...</td>\n",
       "      <td>...</td>\n",
       "      <td>...</td>\n",
       "      <td>...</td>\n",
       "    </tr>\n",
       "    <tr>\n",
       "      <th>1045145</th>\n",
       "      <td>Breaking with tradition\\n</td>\n",
       "      <td>The Israeli film Bar Bahar was shown in the US...</td>\n",
       "      <td>0.9</td>\n",
       "      <td>['15 out of 19']</td>\n",
       "      <td>0</td>\n",
       "      <td>5974388</td>\n",
       "      <td>1</td>\n",
       "      <td>1</td>\n",
       "      <td>the israeli film bar bahar was shown in the us...</td>\n",
       "      <td>[the israeli film bar bahar was shown in the u...</td>\n",
       "      <td>1045145</td>\n",
       "    </tr>\n",
       "    <tr>\n",
       "      <th>1045146</th>\n",
       "      <td>Not a lot of action, but well presented\\n</td>\n",
       "      <td>I don't know what \"Bar Bahr\" means in Arabic, ...</td>\n",
       "      <td>0.8</td>\n",
       "      <td>['17 out of 22']</td>\n",
       "      <td>0</td>\n",
       "      <td>5974388</td>\n",
       "      <td>1</td>\n",
       "      <td>1</td>\n",
       "      <td>i don't know what \"bar bahr\" means in arabic, ...</td>\n",
       "      <td>[i don't know what \"bar bahr\" means in arabic,...</td>\n",
       "      <td>1045146</td>\n",
       "    </tr>\n",
       "    <tr>\n",
       "      <th>1045147</th>\n",
       "      <td>Striving for independence\\n</td>\n",
       "      <td>The subject matter intrigued me a lot, and the...</td>\n",
       "      <td>0.9</td>\n",
       "      <td>['7 out of 9']</td>\n",
       "      <td>0</td>\n",
       "      <td>5974388</td>\n",
       "      <td>1</td>\n",
       "      <td>1</td>\n",
       "      <td>the subject matter intrigued me a lot, and the...</td>\n",
       "      <td>[the subject matter intrigued me a lot, and th...</td>\n",
       "      <td>1045147</td>\n",
       "    </tr>\n",
       "    <tr>\n",
       "      <th>1045150</th>\n",
       "      <td>Three Palestinian women in Tel Aviv--differen...</td>\n",
       "      <td>In Between, directed by Maysaloun Hamoud, cont...</td>\n",
       "      <td>1.0</td>\n",
       "      <td>['7 out of 11']</td>\n",
       "      <td>0</td>\n",
       "      <td>5974388</td>\n",
       "      <td>1</td>\n",
       "      <td>1</td>\n",
       "      <td>the movie, directed by the director, continues...</td>\n",
       "      <td>[the movie, directed by the director, continue...</td>\n",
       "      <td>1045150</td>\n",
       "    </tr>\n",
       "    <tr>\n",
       "      <th>1045151</th>\n",
       "      <td>Palestinian rumspringa / women's version of T...</td>\n",
       "      <td>...that's what jumped into my head as the endi...</td>\n",
       "      <td>1.0</td>\n",
       "      <td>['5 out of 10']</td>\n",
       "      <td>1</td>\n",
       "      <td>5974388</td>\n",
       "      <td>1</td>\n",
       "      <td>1</td>\n",
       "      <td>...that's what jumped into my head as the endi...</td>\n",
       "      <td>[...that's what jumped into my head as the end...</td>\n",
       "      <td>1045151</td>\n",
       "    </tr>\n",
       "  </tbody>\n",
       "</table>\n",
       "<p>359916 rows × 11 columns</p>\n",
       "</div>"
      ],
      "text/plain": [
       "                                                    header  \\\n",
       "15            Friday was badass, Next Friday is just bad\\n   \n",
       "16             much different compared to the first one.\\n   \n",
       "37                           It's all about Next Friday!\\n   \n",
       "38                                       An Equal Sequel\\n   \n",
       "39         Just as good as the first one, if not more so\\n   \n",
       "...                                                    ...   \n",
       "1045145                          Breaking with tradition\\n   \n",
       "1045146          Not a lot of action, but well presented\\n   \n",
       "1045147                        Striving for independence\\n   \n",
       "1045150   Three Palestinian women in Tel Aviv--differen...   \n",
       "1045151   Palestinian rumspringa / women's version of T...   \n",
       "\n",
       "                                                  contents  star  \\\n",
       "15       Ice Cube made a major blunder when he did not ...   0.4   \n",
       "16       i was suprised to see this be as good as the f...   0.8   \n",
       "37       Next Friday is completely worth it!  Everyone ...   1.0   \n",
       "38       Next Friday was probably one of the better seq...   1.0   \n",
       "39       Who says the sequel is never as good as the or...   0.7   \n",
       "...                                                    ...   ...   \n",
       "1045145  The Israeli film Bar Bahar was shown in the US...   0.9   \n",
       "1045146  I don't know what \"Bar Bahr\" means in Arabic, ...   0.8   \n",
       "1045147  The subject matter intrigued me a lot, and the...   0.9   \n",
       "1045150  In Between, directed by Maysaloun Hamoud, cont...   1.0   \n",
       "1045151  ...that's what jumped into my head as the endi...   1.0   \n",
       "\n",
       "                  helpful in_n_weeks Movie_code sentiment  train  \\\n",
       "15         ['0 out of 0']          4    0195945         0      1   \n",
       "16         ['0 out of 0']          0    0195945         1      1   \n",
       "37         ['0 out of 1']          1    0195945         1      1   \n",
       "38         ['0 out of 1']          1    0195945         1      1   \n",
       "39         ['0 out of 1']          0    0195945         1      1   \n",
       "...                   ...        ...        ...       ...    ...   \n",
       "1045145  ['15 out of 19']          0    5974388         1      1   \n",
       "1045146  ['17 out of 22']          0    5974388         1      1   \n",
       "1045147    ['7 out of 9']          0    5974388         1      1   \n",
       "1045150   ['7 out of 11']          0    5974388         1      1   \n",
       "1045151   ['5 out of 10']          1    5974388         1      1   \n",
       "\n",
       "                                          cleaned_contents  \\\n",
       "15       the actor made a major blunder when he did not...   \n",
       "16       i was suprised to see this be as good as the f...   \n",
       "37       the movie is completely worth it!  everyone sh...   \n",
       "38       the movie was probably one of the better seque...   \n",
       "39       who says the sequel is never as good as the or...   \n",
       "...                                                    ...   \n",
       "1045145  the israeli film bar bahar was shown in the us...   \n",
       "1045146  i don't know what \"bar bahr\" means in arabic, ...   \n",
       "1045147  the subject matter intrigued me a lot, and the...   \n",
       "1045150  the movie, directed by the director, continues...   \n",
       "1045151  ...that's what jumped into my head as the endi...   \n",
       "\n",
       "                                                     sents   doc_id  \n",
       "15       [the actor made a major blunder when he did no...       15  \n",
       "16       [i was suprised to see this be as good as the ...       16  \n",
       "37       [the movie is completely worth it!, everyone s...       37  \n",
       "38       [the movie was probably one of the better sequ...       38  \n",
       "39       [who says the sequel is never as good as the o...       39  \n",
       "...                                                    ...      ...  \n",
       "1045145  [the israeli film bar bahar was shown in the u...  1045145  \n",
       "1045146  [i don't know what \"bar bahr\" means in arabic,...  1045146  \n",
       "1045147  [the subject matter intrigued me a lot, and th...  1045147  \n",
       "1045150  [the movie, directed by the director, continue...  1045150  \n",
       "1045151  [...that's what jumped into my head as the end...  1045151  \n",
       "\n",
       "[359916 rows x 11 columns]"
      ]
     },
     "execution_count": 27,
     "metadata": {},
     "output_type": "execute_result"
    }
   ],
   "source": [
    "review['doc_id'] = review['index']\n",
    "review.drop(['index'],axis = 1, inplace = True)\n",
    "review"
   ]
  },
  {
   "cell_type": "code",
   "execution_count": 31,
   "metadata": {},
   "outputs": [
    {
     "data": {
      "text/html": [
       "<div>\n",
       "<style scoped>\n",
       "    .dataframe tbody tr th:only-of-type {\n",
       "        vertical-align: middle;\n",
       "    }\n",
       "\n",
       "    .dataframe tbody tr th {\n",
       "        vertical-align: top;\n",
       "    }\n",
       "\n",
       "    .dataframe thead th {\n",
       "        text-align: right;\n",
       "    }\n",
       "</style>\n",
       "<table border=\"1\" class=\"dataframe\">\n",
       "  <thead>\n",
       "    <tr style=\"text-align: right;\">\n",
       "      <th></th>\n",
       "      <th>header</th>\n",
       "      <th>contents</th>\n",
       "      <th>star</th>\n",
       "      <th>helpful</th>\n",
       "      <th>in_n_weeks</th>\n",
       "      <th>Movie_code</th>\n",
       "      <th>sentiment</th>\n",
       "      <th>train</th>\n",
       "      <th>cleaned_contents</th>\n",
       "      <th>sents</th>\n",
       "      <th>doc_id</th>\n",
       "    </tr>\n",
       "  </thead>\n",
       "  <tbody>\n",
       "    <tr>\n",
       "      <th>0</th>\n",
       "      <td>Friday was badass, Next Friday is just bad\\n</td>\n",
       "      <td>Ice Cube made a major blunder when he did not ...</td>\n",
       "      <td>0.4</td>\n",
       "      <td>['0 out of 0']</td>\n",
       "      <td>4</td>\n",
       "      <td>0195945</td>\n",
       "      <td>0</td>\n",
       "      <td>1</td>\n",
       "      <td>the actor made a major blunder when he did not...</td>\n",
       "      <td>[the actor made a major blunder when he did no...</td>\n",
       "      <td>15</td>\n",
       "    </tr>\n",
       "    <tr>\n",
       "      <th>1</th>\n",
       "      <td>much different compared to the first one.\\n</td>\n",
       "      <td>i was suprised to see this be as good as the f...</td>\n",
       "      <td>0.8</td>\n",
       "      <td>['0 out of 0']</td>\n",
       "      <td>0</td>\n",
       "      <td>0195945</td>\n",
       "      <td>1</td>\n",
       "      <td>1</td>\n",
       "      <td>i was suprised to see this be as good as the f...</td>\n",
       "      <td>[i was suprised to see this be as good as the ...</td>\n",
       "      <td>16</td>\n",
       "    </tr>\n",
       "    <tr>\n",
       "      <th>2</th>\n",
       "      <td>It's all about Next Friday!\\n</td>\n",
       "      <td>Next Friday is completely worth it!  Everyone ...</td>\n",
       "      <td>1.0</td>\n",
       "      <td>['0 out of 1']</td>\n",
       "      <td>1</td>\n",
       "      <td>0195945</td>\n",
       "      <td>1</td>\n",
       "      <td>1</td>\n",
       "      <td>the movie is completely worth it!  everyone sh...</td>\n",
       "      <td>[the movie is completely worth it!, everyone s...</td>\n",
       "      <td>37</td>\n",
       "    </tr>\n",
       "    <tr>\n",
       "      <th>3</th>\n",
       "      <td>An Equal Sequel\\n</td>\n",
       "      <td>Next Friday was probably one of the better seq...</td>\n",
       "      <td>1.0</td>\n",
       "      <td>['0 out of 1']</td>\n",
       "      <td>1</td>\n",
       "      <td>0195945</td>\n",
       "      <td>1</td>\n",
       "      <td>1</td>\n",
       "      <td>the movie was probably one of the better seque...</td>\n",
       "      <td>[the movie was probably one of the better sequ...</td>\n",
       "      <td>38</td>\n",
       "    </tr>\n",
       "    <tr>\n",
       "      <th>4</th>\n",
       "      <td>Just as good as the first one, if not more so\\n</td>\n",
       "      <td>Who says the sequel is never as good as the or...</td>\n",
       "      <td>0.7</td>\n",
       "      <td>['0 out of 1']</td>\n",
       "      <td>0</td>\n",
       "      <td>0195945</td>\n",
       "      <td>1</td>\n",
       "      <td>1</td>\n",
       "      <td>who says the sequel is never as good as the or...</td>\n",
       "      <td>[who says the sequel is never as good as the o...</td>\n",
       "      <td>39</td>\n",
       "    </tr>\n",
       "    <tr>\n",
       "      <th>...</th>\n",
       "      <td>...</td>\n",
       "      <td>...</td>\n",
       "      <td>...</td>\n",
       "      <td>...</td>\n",
       "      <td>...</td>\n",
       "      <td>...</td>\n",
       "      <td>...</td>\n",
       "      <td>...</td>\n",
       "      <td>...</td>\n",
       "      <td>...</td>\n",
       "      <td>...</td>\n",
       "    </tr>\n",
       "    <tr>\n",
       "      <th>359911</th>\n",
       "      <td>Breaking with tradition\\n</td>\n",
       "      <td>The Israeli film Bar Bahar was shown in the US...</td>\n",
       "      <td>0.9</td>\n",
       "      <td>['15 out of 19']</td>\n",
       "      <td>0</td>\n",
       "      <td>5974388</td>\n",
       "      <td>1</td>\n",
       "      <td>1</td>\n",
       "      <td>the israeli film bar bahar was shown in the us...</td>\n",
       "      <td>[the israeli film bar bahar was shown in the u...</td>\n",
       "      <td>1045145</td>\n",
       "    </tr>\n",
       "    <tr>\n",
       "      <th>359912</th>\n",
       "      <td>Not a lot of action, but well presented\\n</td>\n",
       "      <td>I don't know what \"Bar Bahr\" means in Arabic, ...</td>\n",
       "      <td>0.8</td>\n",
       "      <td>['17 out of 22']</td>\n",
       "      <td>0</td>\n",
       "      <td>5974388</td>\n",
       "      <td>1</td>\n",
       "      <td>1</td>\n",
       "      <td>i don't know what \"bar bahr\" means in arabic, ...</td>\n",
       "      <td>[i don't know what \"bar bahr\" means in arabic,...</td>\n",
       "      <td>1045146</td>\n",
       "    </tr>\n",
       "    <tr>\n",
       "      <th>359913</th>\n",
       "      <td>Striving for independence\\n</td>\n",
       "      <td>The subject matter intrigued me a lot, and the...</td>\n",
       "      <td>0.9</td>\n",
       "      <td>['7 out of 9']</td>\n",
       "      <td>0</td>\n",
       "      <td>5974388</td>\n",
       "      <td>1</td>\n",
       "      <td>1</td>\n",
       "      <td>the subject matter intrigued me a lot, and the...</td>\n",
       "      <td>[the subject matter intrigued me a lot, and th...</td>\n",
       "      <td>1045147</td>\n",
       "    </tr>\n",
       "    <tr>\n",
       "      <th>359914</th>\n",
       "      <td>Three Palestinian women in Tel Aviv--differen...</td>\n",
       "      <td>In Between, directed by Maysaloun Hamoud, cont...</td>\n",
       "      <td>1.0</td>\n",
       "      <td>['7 out of 11']</td>\n",
       "      <td>0</td>\n",
       "      <td>5974388</td>\n",
       "      <td>1</td>\n",
       "      <td>1</td>\n",
       "      <td>the movie, directed by the director, continues...</td>\n",
       "      <td>[the movie, directed by the director, continue...</td>\n",
       "      <td>1045150</td>\n",
       "    </tr>\n",
       "    <tr>\n",
       "      <th>359915</th>\n",
       "      <td>Palestinian rumspringa / women's version of T...</td>\n",
       "      <td>...that's what jumped into my head as the endi...</td>\n",
       "      <td>1.0</td>\n",
       "      <td>['5 out of 10']</td>\n",
       "      <td>1</td>\n",
       "      <td>5974388</td>\n",
       "      <td>1</td>\n",
       "      <td>1</td>\n",
       "      <td>...that's what jumped into my head as the endi...</td>\n",
       "      <td>[...that's what jumped into my head as the end...</td>\n",
       "      <td>1045151</td>\n",
       "    </tr>\n",
       "  </tbody>\n",
       "</table>\n",
       "<p>359916 rows × 11 columns</p>\n",
       "</div>"
      ],
      "text/plain": [
       "                                                   header  \\\n",
       "0            Friday was badass, Next Friday is just bad\\n   \n",
       "1             much different compared to the first one.\\n   \n",
       "2                           It's all about Next Friday!\\n   \n",
       "3                                       An Equal Sequel\\n   \n",
       "4         Just as good as the first one, if not more so\\n   \n",
       "...                                                   ...   \n",
       "359911                          Breaking with tradition\\n   \n",
       "359912          Not a lot of action, but well presented\\n   \n",
       "359913                        Striving for independence\\n   \n",
       "359914   Three Palestinian women in Tel Aviv--differen...   \n",
       "359915   Palestinian rumspringa / women's version of T...   \n",
       "\n",
       "                                                 contents  star  \\\n",
       "0       Ice Cube made a major blunder when he did not ...   0.4   \n",
       "1       i was suprised to see this be as good as the f...   0.8   \n",
       "2       Next Friday is completely worth it!  Everyone ...   1.0   \n",
       "3       Next Friday was probably one of the better seq...   1.0   \n",
       "4       Who says the sequel is never as good as the or...   0.7   \n",
       "...                                                   ...   ...   \n",
       "359911  The Israeli film Bar Bahar was shown in the US...   0.9   \n",
       "359912  I don't know what \"Bar Bahr\" means in Arabic, ...   0.8   \n",
       "359913  The subject matter intrigued me a lot, and the...   0.9   \n",
       "359914  In Between, directed by Maysaloun Hamoud, cont...   1.0   \n",
       "359915  ...that's what jumped into my head as the endi...   1.0   \n",
       "\n",
       "                 helpful in_n_weeks Movie_code sentiment  train  \\\n",
       "0         ['0 out of 0']          4    0195945         0      1   \n",
       "1         ['0 out of 0']          0    0195945         1      1   \n",
       "2         ['0 out of 1']          1    0195945         1      1   \n",
       "3         ['0 out of 1']          1    0195945         1      1   \n",
       "4         ['0 out of 1']          0    0195945         1      1   \n",
       "...                  ...        ...        ...       ...    ...   \n",
       "359911  ['15 out of 19']          0    5974388         1      1   \n",
       "359912  ['17 out of 22']          0    5974388         1      1   \n",
       "359913    ['7 out of 9']          0    5974388         1      1   \n",
       "359914   ['7 out of 11']          0    5974388         1      1   \n",
       "359915   ['5 out of 10']          1    5974388         1      1   \n",
       "\n",
       "                                         cleaned_contents  \\\n",
       "0       the actor made a major blunder when he did not...   \n",
       "1       i was suprised to see this be as good as the f...   \n",
       "2       the movie is completely worth it!  everyone sh...   \n",
       "3       the movie was probably one of the better seque...   \n",
       "4       who says the sequel is never as good as the or...   \n",
       "...                                                   ...   \n",
       "359911  the israeli film bar bahar was shown in the us...   \n",
       "359912  i don't know what \"bar bahr\" means in arabic, ...   \n",
       "359913  the subject matter intrigued me a lot, and the...   \n",
       "359914  the movie, directed by the director, continues...   \n",
       "359915  ...that's what jumped into my head as the endi...   \n",
       "\n",
       "                                                    sents   doc_id  \n",
       "0       [the actor made a major blunder when he did no...       15  \n",
       "1       [i was suprised to see this be as good as the ...       16  \n",
       "2       [the movie is completely worth it!, everyone s...       37  \n",
       "3       [the movie was probably one of the better sequ...       38  \n",
       "4       [who says the sequel is never as good as the o...       39  \n",
       "...                                                   ...      ...  \n",
       "359911  [the israeli film bar bahar was shown in the u...  1045145  \n",
       "359912  [i don't know what \"bar bahr\" means in arabic,...  1045146  \n",
       "359913  [the subject matter intrigued me a lot, and th...  1045147  \n",
       "359914  [the movie, directed by the director, continue...  1045150  \n",
       "359915  [...that's what jumped into my head as the end...  1045151  \n",
       "\n",
       "[359916 rows x 11 columns]"
      ]
     },
     "execution_count": 31,
     "metadata": {},
     "output_type": "execute_result"
    }
   ],
   "source": [
    "review.reset_index(drop = True,inplace = True)\n",
    "review"
   ]
  },
  {
   "cell_type": "code",
   "execution_count": 32,
   "metadata": {
    "colab": {
     "base_uri": "https://localhost:8080/",
     "height": 962
    },
    "id": "ByIumRzDvG_O",
    "outputId": "5bbfbfe2-66fc-4f69-aeec-75185d780bd4"
   },
   "outputs": [
    {
     "data": {
      "text/html": [
       "<div>\n",
       "<style scoped>\n",
       "    .dataframe tbody tr th:only-of-type {\n",
       "        vertical-align: middle;\n",
       "    }\n",
       "\n",
       "    .dataframe tbody tr th {\n",
       "        vertical-align: top;\n",
       "    }\n",
       "\n",
       "    .dataframe thead th {\n",
       "        text-align: right;\n",
       "    }\n",
       "</style>\n",
       "<table border=\"1\" class=\"dataframe\">\n",
       "  <thead>\n",
       "    <tr style=\"text-align: right;\">\n",
       "      <th></th>\n",
       "      <th>header</th>\n",
       "      <th>contents</th>\n",
       "      <th>star</th>\n",
       "      <th>helpful</th>\n",
       "      <th>in_n_weeks</th>\n",
       "      <th>Movie_code</th>\n",
       "      <th>sentiment</th>\n",
       "      <th>train</th>\n",
       "      <th>cleaned_contents</th>\n",
       "      <th>sents</th>\n",
       "      <th>doc_id</th>\n",
       "    </tr>\n",
       "  </thead>\n",
       "  <tbody>\n",
       "    <tr>\n",
       "      <th>0</th>\n",
       "      <td>Friday was badass, Next Friday is just bad\\n</td>\n",
       "      <td>Ice Cube made a major blunder when he did not ...</td>\n",
       "      <td>0.4</td>\n",
       "      <td>['0 out of 0']</td>\n",
       "      <td>4</td>\n",
       "      <td>0195945</td>\n",
       "      <td>0</td>\n",
       "      <td>1</td>\n",
       "      <td>the actor made a major blunder when he did not...</td>\n",
       "      <td>[the actor made a major blunder when he did no...</td>\n",
       "      <td>15</td>\n",
       "    </tr>\n",
       "    <tr>\n",
       "      <th>1</th>\n",
       "      <td>much different compared to the first one.\\n</td>\n",
       "      <td>i was suprised to see this be as good as the f...</td>\n",
       "      <td>0.8</td>\n",
       "      <td>['0 out of 0']</td>\n",
       "      <td>0</td>\n",
       "      <td>0195945</td>\n",
       "      <td>1</td>\n",
       "      <td>1</td>\n",
       "      <td>i was suprised to see this be as good as the f...</td>\n",
       "      <td>[i was suprised to see this be as good as the ...</td>\n",
       "      <td>16</td>\n",
       "    </tr>\n",
       "    <tr>\n",
       "      <th>2</th>\n",
       "      <td>It's all about Next Friday!\\n</td>\n",
       "      <td>Next Friday is completely worth it!  Everyone ...</td>\n",
       "      <td>1.0</td>\n",
       "      <td>['0 out of 1']</td>\n",
       "      <td>1</td>\n",
       "      <td>0195945</td>\n",
       "      <td>1</td>\n",
       "      <td>1</td>\n",
       "      <td>the movie is completely worth it!  everyone sh...</td>\n",
       "      <td>[the movie is completely worth it!, everyone s...</td>\n",
       "      <td>37</td>\n",
       "    </tr>\n",
       "    <tr>\n",
       "      <th>3</th>\n",
       "      <td>An Equal Sequel\\n</td>\n",
       "      <td>Next Friday was probably one of the better seq...</td>\n",
       "      <td>1.0</td>\n",
       "      <td>['0 out of 1']</td>\n",
       "      <td>1</td>\n",
       "      <td>0195945</td>\n",
       "      <td>1</td>\n",
       "      <td>1</td>\n",
       "      <td>the movie was probably one of the better seque...</td>\n",
       "      <td>[the movie was probably one of the better sequ...</td>\n",
       "      <td>38</td>\n",
       "    </tr>\n",
       "    <tr>\n",
       "      <th>4</th>\n",
       "      <td>Just as good as the first one, if not more so\\n</td>\n",
       "      <td>Who says the sequel is never as good as the or...</td>\n",
       "      <td>0.7</td>\n",
       "      <td>['0 out of 1']</td>\n",
       "      <td>0</td>\n",
       "      <td>0195945</td>\n",
       "      <td>1</td>\n",
       "      <td>1</td>\n",
       "      <td>who says the sequel is never as good as the or...</td>\n",
       "      <td>[who says the sequel is never as good as the o...</td>\n",
       "      <td>39</td>\n",
       "    </tr>\n",
       "    <tr>\n",
       "      <th>...</th>\n",
       "      <td>...</td>\n",
       "      <td>...</td>\n",
       "      <td>...</td>\n",
       "      <td>...</td>\n",
       "      <td>...</td>\n",
       "      <td>...</td>\n",
       "      <td>...</td>\n",
       "      <td>...</td>\n",
       "      <td>...</td>\n",
       "      <td>...</td>\n",
       "      <td>...</td>\n",
       "    </tr>\n",
       "    <tr>\n",
       "      <th>59995</th>\n",
       "      <td>Redundant\\n</td>\n",
       "      <td>Redundant.It really says it all. Nothing new w...</td>\n",
       "      <td>0.2</td>\n",
       "      <td>['0 out of 0']</td>\n",
       "      <td>2</td>\n",
       "      <td>0242653</td>\n",
       "      <td>0</td>\n",
       "      <td>1</td>\n",
       "      <td>redundant.it really says it all. nothing new w...</td>\n",
       "      <td>[redundant.it really says it all., nothing new...</td>\n",
       "      <td>205922</td>\n",
       "    </tr>\n",
       "    <tr>\n",
       "      <th>59996</th>\n",
       "      <td>No Tights or Capes\\n</td>\n",
       "      <td>Man, what a lot of whimpering!Hey, everybody.....</td>\n",
       "      <td>0.7</td>\n",
       "      <td>['0 out of 0']</td>\n",
       "      <td>1</td>\n",
       "      <td>0242653</td>\n",
       "      <td>1</td>\n",
       "      <td>1</td>\n",
       "      <td>man, what a lot of whimpering!hey, everybody.....</td>\n",
       "      <td>[man, what a lot of whimpering!hey, everybody....</td>\n",
       "      <td>205923</td>\n",
       "    </tr>\n",
       "    <tr>\n",
       "      <th>59997</th>\n",
       "      <td>Heres hoping for an origami unicorn somewhere\\n</td>\n",
       "      <td>roll up roll up for the fesvtial of films that...</td>\n",
       "      <td>0.4</td>\n",
       "      <td>['0 out of 0']</td>\n",
       "      <td>1</td>\n",
       "      <td>0242653</td>\n",
       "      <td>0</td>\n",
       "      <td>1</td>\n",
       "      <td>roll up roll up for the fesvtial of films that...</td>\n",
       "      <td>[roll up roll up for the fesvtial of films tha...</td>\n",
       "      <td>205924</td>\n",
       "    </tr>\n",
       "    <tr>\n",
       "      <th>59998</th>\n",
       "      <td>Doesnt quite quench my thirst!\\n</td>\n",
       "      <td>Ok, the second one had its flaws but as it fil...</td>\n",
       "      <td>0.8</td>\n",
       "      <td>['0 out of 0']</td>\n",
       "      <td>1</td>\n",
       "      <td>0242653</td>\n",
       "      <td>1</td>\n",
       "      <td>1</td>\n",
       "      <td>ok, the second one had its flaws but as it fil...</td>\n",
       "      <td>[ok, the second one had its flaws but as it fi...</td>\n",
       "      <td>205925</td>\n",
       "    </tr>\n",
       "    <tr>\n",
       "      <th>59999</th>\n",
       "      <td>Neo tries to save the human race from the mac...</td>\n",
       "      <td>The story of the movie was told very well.  I ...</td>\n",
       "      <td>0.8</td>\n",
       "      <td>['0 out of 0']</td>\n",
       "      <td>1</td>\n",
       "      <td>0242653</td>\n",
       "      <td>1</td>\n",
       "      <td>1</td>\n",
       "      <td>the story of the movie was told very well.  i ...</td>\n",
       "      <td>[the story of the movie was told very well., i...</td>\n",
       "      <td>205926</td>\n",
       "    </tr>\n",
       "  </tbody>\n",
       "</table>\n",
       "<p>60000 rows × 11 columns</p>\n",
       "</div>"
      ],
      "text/plain": [
       "                                                  header  \\\n",
       "0           Friday was badass, Next Friday is just bad\\n   \n",
       "1            much different compared to the first one.\\n   \n",
       "2                          It's all about Next Friday!\\n   \n",
       "3                                      An Equal Sequel\\n   \n",
       "4        Just as good as the first one, if not more so\\n   \n",
       "...                                                  ...   \n",
       "59995                                        Redundant\\n   \n",
       "59996                               No Tights or Capes\\n   \n",
       "59997    Heres hoping for an origami unicorn somewhere\\n   \n",
       "59998                   Doesnt quite quench my thirst!\\n   \n",
       "59999   Neo tries to save the human race from the mac...   \n",
       "\n",
       "                                                contents  star  \\\n",
       "0      Ice Cube made a major blunder when he did not ...   0.4   \n",
       "1      i was suprised to see this be as good as the f...   0.8   \n",
       "2      Next Friday is completely worth it!  Everyone ...   1.0   \n",
       "3      Next Friday was probably one of the better seq...   1.0   \n",
       "4      Who says the sequel is never as good as the or...   0.7   \n",
       "...                                                  ...   ...   \n",
       "59995  Redundant.It really says it all. Nothing new w...   0.2   \n",
       "59996  Man, what a lot of whimpering!Hey, everybody.....   0.7   \n",
       "59997  roll up roll up for the fesvtial of films that...   0.4   \n",
       "59998  Ok, the second one had its flaws but as it fil...   0.8   \n",
       "59999  The story of the movie was told very well.  I ...   0.8   \n",
       "\n",
       "              helpful in_n_weeks Movie_code sentiment  train  \\\n",
       "0      ['0 out of 0']          4    0195945         0      1   \n",
       "1      ['0 out of 0']          0    0195945         1      1   \n",
       "2      ['0 out of 1']          1    0195945         1      1   \n",
       "3      ['0 out of 1']          1    0195945         1      1   \n",
       "4      ['0 out of 1']          0    0195945         1      1   \n",
       "...               ...        ...        ...       ...    ...   \n",
       "59995  ['0 out of 0']          2    0242653         0      1   \n",
       "59996  ['0 out of 0']          1    0242653         1      1   \n",
       "59997  ['0 out of 0']          1    0242653         0      1   \n",
       "59998  ['0 out of 0']          1    0242653         1      1   \n",
       "59999  ['0 out of 0']          1    0242653         1      1   \n",
       "\n",
       "                                        cleaned_contents  \\\n",
       "0      the actor made a major blunder when he did not...   \n",
       "1      i was suprised to see this be as good as the f...   \n",
       "2      the movie is completely worth it!  everyone sh...   \n",
       "3      the movie was probably one of the better seque...   \n",
       "4      who says the sequel is never as good as the or...   \n",
       "...                                                  ...   \n",
       "59995  redundant.it really says it all. nothing new w...   \n",
       "59996  man, what a lot of whimpering!hey, everybody.....   \n",
       "59997  roll up roll up for the fesvtial of films that...   \n",
       "59998  ok, the second one had its flaws but as it fil...   \n",
       "59999  the story of the movie was told very well.  i ...   \n",
       "\n",
       "                                                   sents  doc_id  \n",
       "0      [the actor made a major blunder when he did no...      15  \n",
       "1      [i was suprised to see this be as good as the ...      16  \n",
       "2      [the movie is completely worth it!, everyone s...      37  \n",
       "3      [the movie was probably one of the better sequ...      38  \n",
       "4      [who says the sequel is never as good as the o...      39  \n",
       "...                                                  ...     ...  \n",
       "59995  [redundant.it really says it all., nothing new...  205922  \n",
       "59996  [man, what a lot of whimpering!hey, everybody....  205923  \n",
       "59997  [roll up roll up for the fesvtial of films tha...  205924  \n",
       "59998  [ok, the second one had its flaws but as it fi...  205925  \n",
       "59999  [the story of the movie was told very well., i...  205926  \n",
       "\n",
       "[60000 rows x 11 columns]"
      ]
     },
     "execution_count": 32,
     "metadata": {},
     "output_type": "execute_result"
    }
   ],
   "source": [
    "# 로컬로는 1,2 진행.\n",
    "file_name = 'review1tosent'     #체크\n",
    "review1 = review[:60000]\n",
    "review2 = review[60000:120000] \n",
    "review3 = review[120000:180000]\n",
    "review4 = review[240000:300000]  \n",
    "review5 = review[300000:]\n",
    "\n",
    "rv = review1               #체크\n",
    "rv"
   ]
  },
  {
   "cell_type": "code",
   "execution_count": null,
   "metadata": {
    "colab": {
     "base_uri": "https://localhost:8080/"
    },
    "id": "-JPhGxmrvXzE",
    "outputId": "bdb2d722-ee45-4c2c-b046-27b079df146a"
   },
   "outputs": [
    {
     "name": "stderr",
     "output_type": "stream",
     "text": [
      " 25%|██████████████████▎                                                       | 14817/60000 [22:03<2:07:15,  5.92it/s]"
     ]
    }
   ],
   "source": [
    "# sents len 만큼 반복하며 sent 채워넣기\n",
    "from tqdm import tqdm\n",
    "tqdm.pandas()\n",
    "\n",
    "review_sents = pd.DataFrame(data = [], columns = review.columns)\n",
    "review_sents\n",
    "\n",
    "\n",
    "#1) review_sents에 review 기본정보 sents 갯수만큼 추가\n",
    "def fill_df(row):\n",
    "  for i in range(len(row['sents'])):\n",
    "    global review_sents\n",
    "    #2) sents 배치\n",
    "    sent = row['sents'][i]\n",
    "    row['sent'] = sent\n",
    "    review_sents = review_sents.append(row)\n",
    "    \n",
    " \n",
    "\n",
    "rv.progress_apply(lambda row: fill_df(row), axis = 1)\n",
    "review_sents"
   ]
  },
  {
   "cell_type": "code",
   "execution_count": 6,
   "metadata": {},
   "outputs": [
    {
     "ename": "FileNotFoundError",
     "evalue": "[WinError 3] 지정된 경로를 찾을 수 없습니다: 'C:\\\\Users\\\\MinSeong\\\\Desktop\\\\내 연구 ABSA코드\\\\review2sent(movie-specific)'",
     "output_type": "error",
     "traceback": [
      "\u001b[1;31m---------------------------------------------------------------------------\u001b[0m",
      "\u001b[1;31mFileNotFoundError\u001b[0m                         Traceback (most recent call last)",
      "\u001b[1;32m<ipython-input-6-f4c8d5313e48>\u001b[0m in \u001b[0;36m<module>\u001b[1;34m\u001b[0m\n\u001b[0;32m      1\u001b[0m \u001b[1;32mimport\u001b[0m \u001b[0mos\u001b[0m\u001b[1;33m\u001b[0m\u001b[1;33m\u001b[0m\u001b[0m\n\u001b[0;32m      2\u001b[0m \u001b[0mfile_name\u001b[0m \u001b[1;33m=\u001b[0m \u001b[1;34m'review1tosent'\u001b[0m\u001b[1;33m\u001b[0m\u001b[1;33m\u001b[0m\u001b[0m\n\u001b[1;32m----> 3\u001b[1;33m \u001b[0mos\u001b[0m\u001b[1;33m.\u001b[0m\u001b[0mchdir\u001b[0m\u001b[1;33m(\u001b[0m\u001b[1;34mr'C:\\Users\\MinSeong\\Desktop\\내 연구 ABSA코드\\review2sent(movie-specific)'\u001b[0m\u001b[1;33m)\u001b[0m\u001b[1;33m\u001b[0m\u001b[1;33m\u001b[0m\u001b[0m\n\u001b[0m\u001b[0;32m      4\u001b[0m \u001b[1;31m# with open(file_name,'wb') as fw:\u001b[0m\u001b[1;33m\u001b[0m\u001b[1;33m\u001b[0m\u001b[1;33m\u001b[0m\u001b[0m\n\u001b[0;32m      5\u001b[0m \u001b[1;31m#     pickle.dump(review_sents,fw)\u001b[0m\u001b[1;33m\u001b[0m\u001b[1;33m\u001b[0m\u001b[1;33m\u001b[0m\u001b[0m\n",
      "\u001b[1;31mFileNotFoundError\u001b[0m: [WinError 3] 지정된 경로를 찾을 수 없습니다: 'C:\\\\Users\\\\MinSeong\\\\Desktop\\\\내 연구 ABSA코드\\\\review2sent(movie-specific)'"
     ]
    }
   ],
   "source": [
    "import os\n",
    "\n",
    "os.chdir(r'C:\\Users\\MinSeong\\Desktop\\내 연구 ABSA코드\\review2sent(movie-specific)')\n",
    "# with open(file_name,'wb') as fw:\n",
    "#     pickle.dump(review_sents,fw)\n",
    "with open(file_name,'rb') as fr:\n",
    "    d = pickle.load(fr)\n",
    "d"
   ]
  },
  {
   "cell_type": "markdown",
   "metadata": {
    "id": "AXZVExNP-7Nh"
   },
   "source": [
    "# 1.Training Word2Vec on the review data"
   ]
  },
  {
   "cell_type": "markdown",
   "metadata": {},
   "source": [
    "## data gathering"
   ]
  },
  {
   "cell_type": "code",
   "execution_count": 12,
   "metadata": {},
   "outputs": [
    {
     "ename": "FileNotFoundError",
     "evalue": "[WinError 3] 지정된 경로를 찾을 수 없습니다: 'C:\\\\Users\\\\MinSeong\\\\Desktop\\\\movie_pred_code\\\\review2sent'",
     "output_type": "error",
     "traceback": [
      "\u001b[1;31m---------------------------------------------------------------------------\u001b[0m",
      "\u001b[1;31mFileNotFoundError\u001b[0m                         Traceback (most recent call last)",
      "\u001b[1;32m<ipython-input-12-5bd8856cc5bb>\u001b[0m in \u001b[0;36m<module>\u001b[1;34m\u001b[0m\n\u001b[0;32m      3\u001b[0m \u001b[1;32mimport\u001b[0m \u001b[0mpickle\u001b[0m\u001b[1;33m\u001b[0m\u001b[1;33m\u001b[0m\u001b[0m\n\u001b[0;32m      4\u001b[0m \u001b[0msent_df\u001b[0m \u001b[1;33m=\u001b[0m \u001b[0mpd\u001b[0m\u001b[1;33m.\u001b[0m\u001b[0mDataFrame\u001b[0m\u001b[1;33m(\u001b[0m\u001b[0mdata\u001b[0m \u001b[1;33m=\u001b[0m \u001b[1;33m[\u001b[0m\u001b[1;33m]\u001b[0m\u001b[1;33m)\u001b[0m\u001b[1;33m\u001b[0m\u001b[1;33m\u001b[0m\u001b[0m\n\u001b[1;32m----> 5\u001b[1;33m \u001b[0mos\u001b[0m\u001b[1;33m.\u001b[0m\u001b[0mchdir\u001b[0m\u001b[1;33m(\u001b[0m\u001b[1;34mr'C:\\Users\\MinSeong\\Desktop\\movie_pred_code\\review2sent'\u001b[0m\u001b[1;33m)\u001b[0m\u001b[1;33m\u001b[0m\u001b[1;33m\u001b[0m\u001b[0m\n\u001b[0m\u001b[0;32m      6\u001b[0m \u001b[0mfile_names\u001b[0m \u001b[1;33m=\u001b[0m \u001b[1;33m[\u001b[0m\u001b[1;34m'review1tosent'\u001b[0m\u001b[1;33m,\u001b[0m\u001b[1;34m'review2tosent'\u001b[0m\u001b[1;33m,\u001b[0m\u001b[1;34m'review3tosent'\u001b[0m\u001b[1;33m,\u001b[0m\u001b[1;34m'review4tosent'\u001b[0m\u001b[1;33m,\u001b[0m\u001b[1;34m'review5tosent'\u001b[0m\u001b[1;33m,\u001b[0m\u001b[1;34m'af4review1tosent'\u001b[0m\u001b[1;33m,\u001b[0m\u001b[1;34m'af4review2tosent'\u001b[0m\u001b[1;33m,\u001b[0m\u001b[1;34m'af4review3tosent'\u001b[0m\u001b[1;33m]\u001b[0m\u001b[1;33m\u001b[0m\u001b[1;33m\u001b[0m\u001b[0m\n\u001b[0;32m      7\u001b[0m \u001b[1;33m\u001b[0m\u001b[0m\n",
      "\u001b[1;31mFileNotFoundError\u001b[0m: [WinError 3] 지정된 경로를 찾을 수 없습니다: 'C:\\\\Users\\\\MinSeong\\\\Desktop\\\\movie_pred_code\\\\review2sent'"
     ]
    }
   ],
   "source": [
    "import pandas as pd\n",
    "import os\n",
    "import pickle\n",
    "sent_df = pd.DataFrame(data = [])\n",
    "os.chdir(r'C:\\Users\\MinSeong\\Desktop\\movie_pred_code\\review2sent')\n",
    "file_names = ['review1tosent','review2tosent','review3tosent','review4tosent','review5tosent','af4review1tosent','af4review2tosent','af4review3tosent']\n",
    "\n",
    "for file_name in file_names:    \n",
    "    with open(file_name,'rb') as fr:\n",
    "        d = pickle.load(fr)\n",
    "        d.reset_index(inplace = True, drop = True)\n",
    "    sent_df = pd.concat([d,sent_df],axis = 0)\n",
    "    sent_df.reset_index(inplace = True, drop = True)"
   ]
  },
  {
   "cell_type": "code",
   "execution_count": 38,
   "metadata": {},
   "outputs": [
    {
     "data": {
      "text/plain": [
       "header              0\n",
       "contents            0\n",
       "star                0\n",
       "helpful             0\n",
       "in_n_weeks          0\n",
       "Movie_code          0\n",
       "sentiment           0\n",
       "train               0\n",
       "cleaned_contents    0\n",
       "sents               0\n",
       "doc_id              0\n",
       "sent                0\n",
       "dtype: int64"
      ]
     },
     "execution_count": 38,
     "metadata": {},
     "output_type": "execute_result"
    }
   ],
   "source": [
    "# sent_df.info() # 결측치 확인 기능사라진듯\n",
    "\n",
    "# sent_df.isnull().sum()\n",
    "sent_df.drop('level_0',axis = 1,inplace = True)\n",
    "sent_df.isnull().sum() # 결측치 없이 잘 합쳐짐."
   ]
  },
  {
   "cell_type": "markdown",
   "metadata": {
    "id": "jFHEDH3K_ToZ"
   },
   "source": [
    "## data pre-processing"
   ]
  },
  {
   "cell_type": "markdown",
   "metadata": {
    "id": "1aobAeDlCTDP"
   },
   "source": [
    "https://medium.com/swlh/how-to-train-word2vec-model-using-gensim-library-115b35440c90\n",
    "참조"
   ]
  },
  {
   "cell_type": "code",
   "execution_count": 13,
   "metadata": {},
   "outputs": [
    {
     "ename": "FileNotFoundError",
     "evalue": "[Errno 2] No such file or directory: 'C:\\\\Users\\\\user\\\\Desktop\\\\ABSA1 w2v 구현용\\\\w2vpractice'",
     "output_type": "error",
     "traceback": [
      "\u001b[1;31m---------------------------------------------------------------------------\u001b[0m",
      "\u001b[1;31mFileNotFoundError\u001b[0m                         Traceback (most recent call last)",
      "\u001b[1;32m<ipython-input-13-868f8c2a050d>\u001b[0m in \u001b[0;36m<module>\u001b[1;34m\u001b[0m\n\u001b[0;32m      2\u001b[0m \u001b[0mpath\u001b[0m \u001b[1;33m=\u001b[0m \u001b[1;34mr'C:\\Users\\user\\Desktop\\ABSA1 w2v 구현용\\w2vpractice'\u001b[0m\u001b[1;33m\u001b[0m\u001b[1;33m\u001b[0m\u001b[0m\n\u001b[0;32m      3\u001b[0m \u001b[1;33m\u001b[0m\u001b[0m\n\u001b[1;32m----> 4\u001b[1;33m \u001b[1;32mwith\u001b[0m \u001b[0mopen\u001b[0m\u001b[1;33m(\u001b[0m\u001b[0mpath\u001b[0m\u001b[1;33m,\u001b[0m\u001b[1;34m'rb'\u001b[0m\u001b[1;33m)\u001b[0m \u001b[1;32mas\u001b[0m \u001b[0mfr\u001b[0m\u001b[1;33m:\u001b[0m\u001b[1;33m\u001b[0m\u001b[1;33m\u001b[0m\u001b[0m\n\u001b[0m\u001b[0;32m      5\u001b[0m     \u001b[0mreview\u001b[0m \u001b[1;33m=\u001b[0m \u001b[0mpickle\u001b[0m\u001b[1;33m.\u001b[0m\u001b[0mload\u001b[0m\u001b[1;33m(\u001b[0m\u001b[0mfr\u001b[0m\u001b[1;33m)\u001b[0m\u001b[1;33m\u001b[0m\u001b[1;33m\u001b[0m\u001b[0m\n\u001b[0;32m      6\u001b[0m \u001b[0mreview\u001b[0m\u001b[1;33m[\u001b[0m\u001b[1;34m'sent'\u001b[0m\u001b[1;33m]\u001b[0m\u001b[1;33m\u001b[0m\u001b[1;33m\u001b[0m\u001b[0m\n",
      "\u001b[1;31mFileNotFoundError\u001b[0m: [Errno 2] No such file or directory: 'C:\\\\Users\\\\user\\\\Desktop\\\\ABSA1 w2v 구현용\\\\w2vpractice'"
     ]
    }
   ],
   "source": [
    "# # load practice 용\n",
    "# path = r'C:\\Users\\user\\Desktop\\ABSA1 w2v 구현용\\w2vpractice'\n",
    "\n",
    "# with open(path,'rb') as fr:\n",
    "#     review = pickle.load(fr)\n",
    "review['sent']"
   ]
  },
  {
   "cell_type": "code",
   "execution_count": 40,
   "metadata": {},
   "outputs": [
    {
     "data": {
      "text/html": [
       "<div>\n",
       "<style scoped>\n",
       "    .dataframe tbody tr th:only-of-type {\n",
       "        vertical-align: middle;\n",
       "    }\n",
       "\n",
       "    .dataframe tbody tr th {\n",
       "        vertical-align: top;\n",
       "    }\n",
       "\n",
       "    .dataframe thead th {\n",
       "        text-align: right;\n",
       "    }\n",
       "</style>\n",
       "<table border=\"1\" class=\"dataframe\">\n",
       "  <thead>\n",
       "    <tr style=\"text-align: right;\">\n",
       "      <th></th>\n",
       "      <th>header</th>\n",
       "      <th>contents</th>\n",
       "      <th>star</th>\n",
       "      <th>helpful</th>\n",
       "      <th>in_n_weeks</th>\n",
       "      <th>Movie_code</th>\n",
       "      <th>sentiment</th>\n",
       "      <th>train</th>\n",
       "      <th>cleaned_contents</th>\n",
       "      <th>sents</th>\n",
       "      <th>doc_id</th>\n",
       "      <th>sent</th>\n",
       "    </tr>\n",
       "  </thead>\n",
       "  <tbody>\n",
       "    <tr>\n",
       "      <th>0</th>\n",
       "      <td>Not worth your time!\\n</td>\n",
       "      <td>Really boring storyline..The acting was sub-pa...</td>\n",
       "      <td>0.3</td>\n",
       "      <td>['0 out of 1']</td>\n",
       "      <td>after 4 weeks</td>\n",
       "      <td>1045655</td>\n",
       "      <td>0</td>\n",
       "      <td>1</td>\n",
       "      <td>really boring storyline..the acting was sub-pa...</td>\n",
       "      <td>[really boring storyline..the acting was sub-p...</td>\n",
       "      <td>602902</td>\n",
       "      <td>really boring storyline..the acting was sub-pa...</td>\n",
       "    </tr>\n",
       "    <tr>\n",
       "      <th>1</th>\n",
       "      <td>not very scary\\n</td>\n",
       "      <td>This film has so many dream sequence scares th...</td>\n",
       "      <td>0.4</td>\n",
       "      <td>['0 out of 1']</td>\n",
       "      <td>after 4 weeks</td>\n",
       "      <td>1045655</td>\n",
       "      <td>0</td>\n",
       "      <td>1</td>\n",
       "      <td>this film has so many dream sequence scares th...</td>\n",
       "      <td>[this film has so many dream sequence scares t...</td>\n",
       "      <td>602903</td>\n",
       "      <td>this film has so many dream sequence scares th...</td>\n",
       "    </tr>\n",
       "    <tr>\n",
       "      <th>2</th>\n",
       "      <td>not very scary\\n</td>\n",
       "      <td>This film has so many dream sequence scares th...</td>\n",
       "      <td>0.4</td>\n",
       "      <td>['0 out of 1']</td>\n",
       "      <td>after 4 weeks</td>\n",
       "      <td>1045655</td>\n",
       "      <td>0</td>\n",
       "      <td>1</td>\n",
       "      <td>this film has so many dream sequence scares th...</td>\n",
       "      <td>[this film has so many dream sequence scares t...</td>\n",
       "      <td>602903</td>\n",
       "      <td>just a so-so thriller.</td>\n",
       "    </tr>\n",
       "    <tr>\n",
       "      <th>3</th>\n",
       "      <td>A poorly executed made for TV horror movie\\n</td>\n",
       "      <td>This could have been a decent movie. If it was...</td>\n",
       "      <td>0.4</td>\n",
       "      <td>['0 out of 1']</td>\n",
       "      <td>after 4 weeks</td>\n",
       "      <td>1045655</td>\n",
       "      <td>0</td>\n",
       "      <td>1</td>\n",
       "      <td>this could have been a decent movie. if it was...</td>\n",
       "      <td>[this could have been a decent movie., if it w...</td>\n",
       "      <td>602904</td>\n",
       "      <td>this could have been a decent movie.</td>\n",
       "    </tr>\n",
       "    <tr>\n",
       "      <th>4</th>\n",
       "      <td>A poorly executed made for TV horror movie\\n</td>\n",
       "      <td>This could have been a decent movie. If it was...</td>\n",
       "      <td>0.4</td>\n",
       "      <td>['0 out of 1']</td>\n",
       "      <td>after 4 weeks</td>\n",
       "      <td>1045655</td>\n",
       "      <td>0</td>\n",
       "      <td>1</td>\n",
       "      <td>this could have been a decent movie. if it was...</td>\n",
       "      <td>[this could have been a decent movie., if it w...</td>\n",
       "      <td>602904</td>\n",
       "      <td>if it was a made for tv movie the acting wasn'...</td>\n",
       "    </tr>\n",
       "    <tr>\n",
       "      <th>...</th>\n",
       "      <td>...</td>\n",
       "      <td>...</td>\n",
       "      <td>...</td>\n",
       "      <td>...</td>\n",
       "      <td>...</td>\n",
       "      <td>...</td>\n",
       "      <td>...</td>\n",
       "      <td>...</td>\n",
       "      <td>...</td>\n",
       "      <td>...</td>\n",
       "      <td>...</td>\n",
       "      <td>...</td>\n",
       "    </tr>\n",
       "    <tr>\n",
       "      <th>9073568</th>\n",
       "      <td>Neo tries to save the human race from the mac...</td>\n",
       "      <td>The story of the movie was told very well.  I ...</td>\n",
       "      <td>0.8</td>\n",
       "      <td>['0 out of 0']</td>\n",
       "      <td>1</td>\n",
       "      <td>0242653</td>\n",
       "      <td>1</td>\n",
       "      <td>1</td>\n",
       "      <td>the story of the movie was told very well.  i ...</td>\n",
       "      <td>[the story of the movie was told very well., i...</td>\n",
       "      <td>205926</td>\n",
       "      <td>it picked up were the second left off, and too...</td>\n",
       "    </tr>\n",
       "    <tr>\n",
       "      <th>9073569</th>\n",
       "      <td>Neo tries to save the human race from the mac...</td>\n",
       "      <td>The story of the movie was told very well.  I ...</td>\n",
       "      <td>0.8</td>\n",
       "      <td>['0 out of 0']</td>\n",
       "      <td>1</td>\n",
       "      <td>0242653</td>\n",
       "      <td>1</td>\n",
       "      <td>1</td>\n",
       "      <td>the story of the movie was told very well.  i ...</td>\n",
       "      <td>[the story of the movie was told very well., i...</td>\n",
       "      <td>205926</td>\n",
       "      <td>the only disappointing thing to me was the lac...</td>\n",
       "    </tr>\n",
       "    <tr>\n",
       "      <th>9073570</th>\n",
       "      <td>Neo tries to save the human race from the mac...</td>\n",
       "      <td>The story of the movie was told very well.  I ...</td>\n",
       "      <td>0.8</td>\n",
       "      <td>['0 out of 0']</td>\n",
       "      <td>1</td>\n",
       "      <td>0242653</td>\n",
       "      <td>1</td>\n",
       "      <td>1</td>\n",
       "      <td>the story of the movie was told very well.  i ...</td>\n",
       "      <td>[the story of the movie was told very well., i...</td>\n",
       "      <td>205926</td>\n",
       "      <td>the most enjoyable thing to see in the first t...</td>\n",
       "    </tr>\n",
       "    <tr>\n",
       "      <th>9073571</th>\n",
       "      <td>Neo tries to save the human race from the mac...</td>\n",
       "      <td>The story of the movie was told very well.  I ...</td>\n",
       "      <td>0.8</td>\n",
       "      <td>['0 out of 0']</td>\n",
       "      <td>1</td>\n",
       "      <td>0242653</td>\n",
       "      <td>1</td>\n",
       "      <td>1</td>\n",
       "      <td>the story of the movie was told very well.  i ...</td>\n",
       "      <td>[the story of the movie was told very well., i...</td>\n",
       "      <td>205926</td>\n",
       "      <td>they were truly missed from this, the final in...</td>\n",
       "    </tr>\n",
       "    <tr>\n",
       "      <th>9073572</th>\n",
       "      <td>Neo tries to save the human race from the mac...</td>\n",
       "      <td>The story of the movie was told very well.  I ...</td>\n",
       "      <td>0.8</td>\n",
       "      <td>['0 out of 0']</td>\n",
       "      <td>1</td>\n",
       "      <td>0242653</td>\n",
       "      <td>1</td>\n",
       "      <td>1</td>\n",
       "      <td>the story of the movie was told very well.  i ...</td>\n",
       "      <td>[the story of the movie was told very well., i...</td>\n",
       "      <td>205926</td>\n",
       "      <td>all in all i give revolutions a 6.5 out of 10....</td>\n",
       "    </tr>\n",
       "  </tbody>\n",
       "</table>\n",
       "<p>9073573 rows × 12 columns</p>\n",
       "</div>"
      ],
      "text/plain": [
       "                                                    header  \\\n",
       "0                                   Not worth your time!\\n   \n",
       "1                                         not very scary\\n   \n",
       "2                                         not very scary\\n   \n",
       "3             A poorly executed made for TV horror movie\\n   \n",
       "4             A poorly executed made for TV horror movie\\n   \n",
       "...                                                    ...   \n",
       "9073568   Neo tries to save the human race from the mac...   \n",
       "9073569   Neo tries to save the human race from the mac...   \n",
       "9073570   Neo tries to save the human race from the mac...   \n",
       "9073571   Neo tries to save the human race from the mac...   \n",
       "9073572   Neo tries to save the human race from the mac...   \n",
       "\n",
       "                                                  contents  star  \\\n",
       "0        Really boring storyline..The acting was sub-pa...   0.3   \n",
       "1        This film has so many dream sequence scares th...   0.4   \n",
       "2        This film has so many dream sequence scares th...   0.4   \n",
       "3        This could have been a decent movie. If it was...   0.4   \n",
       "4        This could have been a decent movie. If it was...   0.4   \n",
       "...                                                    ...   ...   \n",
       "9073568  The story of the movie was told very well.  I ...   0.8   \n",
       "9073569  The story of the movie was told very well.  I ...   0.8   \n",
       "9073570  The story of the movie was told very well.  I ...   0.8   \n",
       "9073571  The story of the movie was told very well.  I ...   0.8   \n",
       "9073572  The story of the movie was told very well.  I ...   0.8   \n",
       "\n",
       "                helpful     in_n_weeks Movie_code sentiment train  \\\n",
       "0        ['0 out of 1']  after 4 weeks    1045655         0     1   \n",
       "1        ['0 out of 1']  after 4 weeks    1045655         0     1   \n",
       "2        ['0 out of 1']  after 4 weeks    1045655         0     1   \n",
       "3        ['0 out of 1']  after 4 weeks    1045655         0     1   \n",
       "4        ['0 out of 1']  after 4 weeks    1045655         0     1   \n",
       "...                 ...            ...        ...       ...   ...   \n",
       "9073568  ['0 out of 0']              1    0242653         1     1   \n",
       "9073569  ['0 out of 0']              1    0242653         1     1   \n",
       "9073570  ['0 out of 0']              1    0242653         1     1   \n",
       "9073571  ['0 out of 0']              1    0242653         1     1   \n",
       "9073572  ['0 out of 0']              1    0242653         1     1   \n",
       "\n",
       "                                          cleaned_contents  \\\n",
       "0        really boring storyline..the acting was sub-pa...   \n",
       "1        this film has so many dream sequence scares th...   \n",
       "2        this film has so many dream sequence scares th...   \n",
       "3        this could have been a decent movie. if it was...   \n",
       "4        this could have been a decent movie. if it was...   \n",
       "...                                                    ...   \n",
       "9073568  the story of the movie was told very well.  i ...   \n",
       "9073569  the story of the movie was told very well.  i ...   \n",
       "9073570  the story of the movie was told very well.  i ...   \n",
       "9073571  the story of the movie was told very well.  i ...   \n",
       "9073572  the story of the movie was told very well.  i ...   \n",
       "\n",
       "                                                     sents  doc_id  \\\n",
       "0        [really boring storyline..the acting was sub-p...  602902   \n",
       "1        [this film has so many dream sequence scares t...  602903   \n",
       "2        [this film has so many dream sequence scares t...  602903   \n",
       "3        [this could have been a decent movie., if it w...  602904   \n",
       "4        [this could have been a decent movie., if it w...  602904   \n",
       "...                                                    ...     ...   \n",
       "9073568  [the story of the movie was told very well., i...  205926   \n",
       "9073569  [the story of the movie was told very well., i...  205926   \n",
       "9073570  [the story of the movie was told very well., i...  205926   \n",
       "9073571  [the story of the movie was told very well., i...  205926   \n",
       "9073572  [the story of the movie was told very well., i...  205926   \n",
       "\n",
       "                                                      sent  \n",
       "0        really boring storyline..the acting was sub-pa...  \n",
       "1        this film has so many dream sequence scares th...  \n",
       "2                                   just a so-so thriller.  \n",
       "3                     this could have been a decent movie.  \n",
       "4        if it was a made for tv movie the acting wasn'...  \n",
       "...                                                    ...  \n",
       "9073568  it picked up were the second left off, and too...  \n",
       "9073569  the only disappointing thing to me was the lac...  \n",
       "9073570  the most enjoyable thing to see in the first t...  \n",
       "9073571  they were truly missed from this, the final in...  \n",
       "9073572  all in all i give revolutions a 6.5 out of 10....  \n",
       "\n",
       "[9073573 rows x 12 columns]"
      ]
     },
     "execution_count": 40,
     "metadata": {},
     "output_type": "execute_result"
    }
   ],
   "source": [
    "sent_df"
   ]
  },
  {
   "cell_type": "markdown",
   "metadata": {
    "id": "S7zK3t-bJFIq"
   },
   "source": [
    "### removing links & punctuation & eng only"
   ]
  },
  {
   "cell_type": "code",
   "execution_count": 41,
   "metadata": {
    "id": "Cnf39tiLBs0x"
   },
   "outputs": [],
   "source": [
    "def remove_link_punc(string):\n",
    "  # removing links # 정상 작동\n",
    "  temp_string = re.sub('http[s]?://(?:[a-zA-Z]|[0–9]|[$-_@.&+]|(?:%[0–9a-fA-F][0–9a-fA-F]))+', ' ', string)\n",
    "  \n",
    "  # removing all everything except a-z english letters # 작동\n",
    "  regex = re.compile('[^a-zA-Z]')\n",
    "  temp_string = regex.sub(' ', temp_string)\n",
    "\n",
    "  # removing extra spaces #작동\n",
    "  clean_string = re.sub(' +', ' ', temp_string).lower()\n",
    "\n",
    "  return clean_string"
   ]
  },
  {
   "cell_type": "code",
   "execution_count": 42,
   "metadata": {
    "colab": {
     "base_uri": "https://localhost:8080/"
    },
    "id": "YPobUup9Ms7z",
    "outputId": "cc57cae3-3552-4e2b-cbb6-2609f5bb1892"
   },
   "outputs": [
    {
     "name": "stderr",
     "output_type": "stream",
     "text": [
      "100%|█████████████████████████████████████████████████████████████████████| 9073573/9073573 [01:54<00:00, 79409.38it/s]\n"
     ]
    },
    {
     "data": {
      "text/plain": [
       "0          really boring storyline the acting was sub par...\n",
       "1          this film has so many dream sequence scares th...\n",
       "2                                     just a so so thriller \n",
       "3                       this could have been a decent movie \n",
       "4          if it was a made for tv movie the acting wasn ...\n",
       "                                 ...                        \n",
       "9073568    it picked up were the second left off and took...\n",
       "9073569    the only disappointing thing to me was the lac...\n",
       "9073570    the most enjoyable thing to see in the first t...\n",
       "9073571    they were truly missed from this the final ins...\n",
       "9073572    all in all i give revolutions a out of i give ...\n",
       "Name: remove_link_punc, Length: 9073573, dtype: object"
      ]
     },
     "execution_count": 42,
     "metadata": {},
     "output_type": "execute_result"
    }
   ],
   "source": [
    "from tqdm import tqdm\n",
    "tqdm.pandas()\n",
    "\n",
    "sent_df['remove_link_punc'] = sent_df['sent'].progress_apply(lambda sent: remove_link_punc(sent))\n",
    "sent_df['remove_link_punc']"
   ]
  },
  {
   "cell_type": "code",
   "execution_count": 18,
   "metadata": {
    "id": "Vj5MS3vFOSt8"
   },
   "outputs": [],
   "source": [
    "# checkpoint\n",
    "import os\n",
    "import pickle\n",
    "# os.chdir(r'C:\\Users\\MinSeong\\Desktop\\movie_pred_code\\review2sent')\n",
    "os.chdir(r'C:\\Users\\ywy\\Desktop\\min\\movie_pred\\pre-processed_df')\n",
    "\n",
    "# with open(\"pre_df_remove_link_punc\",'wb') as fw:\n",
    "#     pickle.dump(sent_df,fw)\n",
    "with open(\"pre_df_remove_link_punc\",'rb') as fr:\n",
    "    pre_df = pickle.load(fr)"
   ]
  },
  {
   "cell_type": "code",
   "execution_count": 21,
   "metadata": {},
   "outputs": [
    {
     "data": {
      "text/html": [
       "<div>\n",
       "<style scoped>\n",
       "    .dataframe tbody tr th:only-of-type {\n",
       "        vertical-align: middle;\n",
       "    }\n",
       "\n",
       "    .dataframe tbody tr th {\n",
       "        vertical-align: top;\n",
       "    }\n",
       "\n",
       "    .dataframe thead th {\n",
       "        text-align: right;\n",
       "    }\n",
       "</style>\n",
       "<table border=\"1\" class=\"dataframe\">\n",
       "  <thead>\n",
       "    <tr style=\"text-align: right;\">\n",
       "      <th></th>\n",
       "      <th>header</th>\n",
       "      <th>contents</th>\n",
       "      <th>star</th>\n",
       "      <th>helpful</th>\n",
       "      <th>in_n_weeks</th>\n",
       "      <th>Movie_code</th>\n",
       "      <th>sentiment</th>\n",
       "      <th>train</th>\n",
       "      <th>cleaned_contents</th>\n",
       "      <th>sents</th>\n",
       "      <th>doc_id</th>\n",
       "      <th>sent</th>\n",
       "      <th>remove_link_punc</th>\n",
       "    </tr>\n",
       "  </thead>\n",
       "  <tbody>\n",
       "    <tr>\n",
       "      <th>0</th>\n",
       "      <td>Not worth your time!\\n</td>\n",
       "      <td>Really boring storyline..The acting was sub-pa...</td>\n",
       "      <td>0.3</td>\n",
       "      <td>['0 out of 1']</td>\n",
       "      <td>after 4 weeks</td>\n",
       "      <td>1045655</td>\n",
       "      <td>0</td>\n",
       "      <td>1</td>\n",
       "      <td>really boring storyline..the acting was sub-pa...</td>\n",
       "      <td>[really boring storyline..the acting was sub-p...</td>\n",
       "      <td>602902</td>\n",
       "      <td>really boring storyline..the acting was sub-pa...</td>\n",
       "      <td>really boring storyline the acting was sub par...</td>\n",
       "    </tr>\n",
       "    <tr>\n",
       "      <th>1</th>\n",
       "      <td>not very scary\\n</td>\n",
       "      <td>This film has so many dream sequence scares th...</td>\n",
       "      <td>0.4</td>\n",
       "      <td>['0 out of 1']</td>\n",
       "      <td>after 4 weeks</td>\n",
       "      <td>1045655</td>\n",
       "      <td>0</td>\n",
       "      <td>1</td>\n",
       "      <td>this film has so many dream sequence scares th...</td>\n",
       "      <td>[this film has so many dream sequence scares t...</td>\n",
       "      <td>602903</td>\n",
       "      <td>this film has so many dream sequence scares th...</td>\n",
       "      <td>this film has so many dream sequence scares th...</td>\n",
       "    </tr>\n",
       "    <tr>\n",
       "      <th>2</th>\n",
       "      <td>not very scary\\n</td>\n",
       "      <td>This film has so many dream sequence scares th...</td>\n",
       "      <td>0.4</td>\n",
       "      <td>['0 out of 1']</td>\n",
       "      <td>after 4 weeks</td>\n",
       "      <td>1045655</td>\n",
       "      <td>0</td>\n",
       "      <td>1</td>\n",
       "      <td>this film has so many dream sequence scares th...</td>\n",
       "      <td>[this film has so many dream sequence scares t...</td>\n",
       "      <td>602903</td>\n",
       "      <td>just a so-so thriller.</td>\n",
       "      <td>just a so so thriller</td>\n",
       "    </tr>\n",
       "    <tr>\n",
       "      <th>3</th>\n",
       "      <td>A poorly executed made for TV horror movie\\n</td>\n",
       "      <td>This could have been a decent movie. If it was...</td>\n",
       "      <td>0.4</td>\n",
       "      <td>['0 out of 1']</td>\n",
       "      <td>after 4 weeks</td>\n",
       "      <td>1045655</td>\n",
       "      <td>0</td>\n",
       "      <td>1</td>\n",
       "      <td>this could have been a decent movie. if it was...</td>\n",
       "      <td>[this could have been a decent movie., if it w...</td>\n",
       "      <td>602904</td>\n",
       "      <td>this could have been a decent movie.</td>\n",
       "      <td>this could have been a decent movie</td>\n",
       "    </tr>\n",
       "    <tr>\n",
       "      <th>4</th>\n",
       "      <td>A poorly executed made for TV horror movie\\n</td>\n",
       "      <td>This could have been a decent movie. If it was...</td>\n",
       "      <td>0.4</td>\n",
       "      <td>['0 out of 1']</td>\n",
       "      <td>after 4 weeks</td>\n",
       "      <td>1045655</td>\n",
       "      <td>0</td>\n",
       "      <td>1</td>\n",
       "      <td>this could have been a decent movie. if it was...</td>\n",
       "      <td>[this could have been a decent movie., if it w...</td>\n",
       "      <td>602904</td>\n",
       "      <td>if it was a made for tv movie the acting wasn'...</td>\n",
       "      <td>if it was a made for tv movie the acting wasn ...</td>\n",
       "    </tr>\n",
       "    <tr>\n",
       "      <th>...</th>\n",
       "      <td>...</td>\n",
       "      <td>...</td>\n",
       "      <td>...</td>\n",
       "      <td>...</td>\n",
       "      <td>...</td>\n",
       "      <td>...</td>\n",
       "      <td>...</td>\n",
       "      <td>...</td>\n",
       "      <td>...</td>\n",
       "      <td>...</td>\n",
       "      <td>...</td>\n",
       "      <td>...</td>\n",
       "      <td>...</td>\n",
       "    </tr>\n",
       "    <tr>\n",
       "      <th>95</th>\n",
       "      <td>Did We Really Need Another Bad \"Spawn Of The ...</td>\n",
       "      <td>I suppose the lesson to be learned here is nev...</td>\n",
       "      <td>0.2</td>\n",
       "      <td>['0 out of 2']</td>\n",
       "      <td>after 4 weeks</td>\n",
       "      <td>1045655</td>\n",
       "      <td>0</td>\n",
       "      <td>1</td>\n",
       "      <td>i suppose the lesson to be learned here is nev...</td>\n",
       "      <td>[i suppose the lesson to be learned here is ne...</td>\n",
       "      <td>602911</td>\n",
       "      <td>the whole thing slowly reveals what evil influ...</td>\n",
       "      <td>the whole thing slowly reveals what evil influ...</td>\n",
       "    </tr>\n",
       "    <tr>\n",
       "      <th>96</th>\n",
       "      <td>Did We Really Need Another Bad \"Spawn Of The ...</td>\n",
       "      <td>I suppose the lesson to be learned here is nev...</td>\n",
       "      <td>0.2</td>\n",
       "      <td>['0 out of 2']</td>\n",
       "      <td>after 4 weeks</td>\n",
       "      <td>1045655</td>\n",
       "      <td>0</td>\n",
       "      <td>1</td>\n",
       "      <td>i suppose the lesson to be learned here is nev...</td>\n",
       "      <td>[i suppose the lesson to be learned here is ne...</td>\n",
       "      <td>602911</td>\n",
       "      <td>it all leads up to a closing graduations scene...</td>\n",
       "      <td>it all leads up to a closing graduations scene...</td>\n",
       "    </tr>\n",
       "    <tr>\n",
       "      <th>97</th>\n",
       "      <td>Did We Really Need Another Bad \"Spawn Of The ...</td>\n",
       "      <td>I suppose the lesson to be learned here is nev...</td>\n",
       "      <td>0.2</td>\n",
       "      <td>['0 out of 2']</td>\n",
       "      <td>after 4 weeks</td>\n",
       "      <td>1045655</td>\n",
       "      <td>0</td>\n",
       "      <td>1</td>\n",
       "      <td>i suppose the lesson to be learned here is nev...</td>\n",
       "      <td>[i suppose the lesson to be learned here is ne...</td>\n",
       "      <td>602911</td>\n",
       "      <td>big news - the world's going to hell!</td>\n",
       "      <td>big news the world s going to hell</td>\n",
       "    </tr>\n",
       "    <tr>\n",
       "      <th>98</th>\n",
       "      <td>Did We Really Need Another Bad \"Spawn Of The ...</td>\n",
       "      <td>I suppose the lesson to be learned here is nev...</td>\n",
       "      <td>0.2</td>\n",
       "      <td>['0 out of 2']</td>\n",
       "      <td>after 4 weeks</td>\n",
       "      <td>1045655</td>\n",
       "      <td>0</td>\n",
       "      <td>1</td>\n",
       "      <td>i suppose the lesson to be learned here is nev...</td>\n",
       "      <td>[i suppose the lesson to be learned here is ne...</td>\n",
       "      <td>602911</td>\n",
       "      <td>what do we need molly for?</td>\n",
       "      <td>what do we need molly for</td>\n",
       "    </tr>\n",
       "    <tr>\n",
       "      <th>99</th>\n",
       "      <td>Did We Really Need Another Bad \"Spawn Of The ...</td>\n",
       "      <td>I suppose the lesson to be learned here is nev...</td>\n",
       "      <td>0.2</td>\n",
       "      <td>['0 out of 2']</td>\n",
       "      <td>after 4 weeks</td>\n",
       "      <td>1045655</td>\n",
       "      <td>0</td>\n",
       "      <td>1</td>\n",
       "      <td>i suppose the lesson to be learned here is nev...</td>\n",
       "      <td>[i suppose the lesson to be learned here is ne...</td>\n",
       "      <td>602911</td>\n",
       "      <td>just read the papers!</td>\n",
       "      <td>just read the papers</td>\n",
       "    </tr>\n",
       "  </tbody>\n",
       "</table>\n",
       "<p>100 rows × 13 columns</p>\n",
       "</div>"
      ],
      "text/plain": [
       "                                               header  \\\n",
       "0                              Not worth your time!\\n   \n",
       "1                                    not very scary\\n   \n",
       "2                                    not very scary\\n   \n",
       "3        A poorly executed made for TV horror movie\\n   \n",
       "4        A poorly executed made for TV horror movie\\n   \n",
       "..                                                ...   \n",
       "95   Did We Really Need Another Bad \"Spawn Of The ...   \n",
       "96   Did We Really Need Another Bad \"Spawn Of The ...   \n",
       "97   Did We Really Need Another Bad \"Spawn Of The ...   \n",
       "98   Did We Really Need Another Bad \"Spawn Of The ...   \n",
       "99   Did We Really Need Another Bad \"Spawn Of The ...   \n",
       "\n",
       "                                             contents  star         helpful  \\\n",
       "0   Really boring storyline..The acting was sub-pa...   0.3  ['0 out of 1']   \n",
       "1   This film has so many dream sequence scares th...   0.4  ['0 out of 1']   \n",
       "2   This film has so many dream sequence scares th...   0.4  ['0 out of 1']   \n",
       "3   This could have been a decent movie. If it was...   0.4  ['0 out of 1']   \n",
       "4   This could have been a decent movie. If it was...   0.4  ['0 out of 1']   \n",
       "..                                                ...   ...             ...   \n",
       "95  I suppose the lesson to be learned here is nev...   0.2  ['0 out of 2']   \n",
       "96  I suppose the lesson to be learned here is nev...   0.2  ['0 out of 2']   \n",
       "97  I suppose the lesson to be learned here is nev...   0.2  ['0 out of 2']   \n",
       "98  I suppose the lesson to be learned here is nev...   0.2  ['0 out of 2']   \n",
       "99  I suppose the lesson to be learned here is nev...   0.2  ['0 out of 2']   \n",
       "\n",
       "       in_n_weeks Movie_code sentiment train  \\\n",
       "0   after 4 weeks    1045655         0     1   \n",
       "1   after 4 weeks    1045655         0     1   \n",
       "2   after 4 weeks    1045655         0     1   \n",
       "3   after 4 weeks    1045655         0     1   \n",
       "4   after 4 weeks    1045655         0     1   \n",
       "..            ...        ...       ...   ...   \n",
       "95  after 4 weeks    1045655         0     1   \n",
       "96  after 4 weeks    1045655         0     1   \n",
       "97  after 4 weeks    1045655         0     1   \n",
       "98  after 4 weeks    1045655         0     1   \n",
       "99  after 4 weeks    1045655         0     1   \n",
       "\n",
       "                                     cleaned_contents  \\\n",
       "0   really boring storyline..the acting was sub-pa...   \n",
       "1   this film has so many dream sequence scares th...   \n",
       "2   this film has so many dream sequence scares th...   \n",
       "3   this could have been a decent movie. if it was...   \n",
       "4   this could have been a decent movie. if it was...   \n",
       "..                                                ...   \n",
       "95  i suppose the lesson to be learned here is nev...   \n",
       "96  i suppose the lesson to be learned here is nev...   \n",
       "97  i suppose the lesson to be learned here is nev...   \n",
       "98  i suppose the lesson to be learned here is nev...   \n",
       "99  i suppose the lesson to be learned here is nev...   \n",
       "\n",
       "                                                sents  doc_id  \\\n",
       "0   [really boring storyline..the acting was sub-p...  602902   \n",
       "1   [this film has so many dream sequence scares t...  602903   \n",
       "2   [this film has so many dream sequence scares t...  602903   \n",
       "3   [this could have been a decent movie., if it w...  602904   \n",
       "4   [this could have been a decent movie., if it w...  602904   \n",
       "..                                                ...     ...   \n",
       "95  [i suppose the lesson to be learned here is ne...  602911   \n",
       "96  [i suppose the lesson to be learned here is ne...  602911   \n",
       "97  [i suppose the lesson to be learned here is ne...  602911   \n",
       "98  [i suppose the lesson to be learned here is ne...  602911   \n",
       "99  [i suppose the lesson to be learned here is ne...  602911   \n",
       "\n",
       "                                                 sent  \\\n",
       "0   really boring storyline..the acting was sub-pa...   \n",
       "1   this film has so many dream sequence scares th...   \n",
       "2                              just a so-so thriller.   \n",
       "3                this could have been a decent movie.   \n",
       "4   if it was a made for tv movie the acting wasn'...   \n",
       "..                                                ...   \n",
       "95  the whole thing slowly reveals what evil influ...   \n",
       "96  it all leads up to a closing graduations scene...   \n",
       "97              big news - the world's going to hell!   \n",
       "98                         what do we need molly for?   \n",
       "99                              just read the papers!   \n",
       "\n",
       "                                     remove_link_punc  \n",
       "0   really boring storyline the acting was sub par...  \n",
       "1   this film has so many dream sequence scares th...  \n",
       "2                              just a so so thriller   \n",
       "3                this could have been a decent movie   \n",
       "4   if it was a made for tv movie the acting wasn ...  \n",
       "..                                                ...  \n",
       "95  the whole thing slowly reveals what evil influ...  \n",
       "96  it all leads up to a closing graduations scene...  \n",
       "97                big news the world s going to hell   \n",
       "98                         what do we need molly for   \n",
       "99                              just read the papers   \n",
       "\n",
       "[100 rows x 13 columns]"
      ]
     },
     "execution_count": 21,
     "metadata": {},
     "output_type": "execute_result"
    }
   ],
   "source": [
    "temp = pre_df.iloc[:100]\n",
    "temp"
   ]
  },
  {
   "cell_type": "code",
   "execution_count": 24,
   "metadata": {},
   "outputs": [],
   "source": [
    "from nltk.stem import WordNetLemmatizer\n",
    "\n",
    "import nltk\n",
    "# nltk.download('wordnet')\n",
    "# nltk.download('stopwords')\n"
   ]
  },
  {
   "cell_type": "code",
   "execution_count": 31,
   "metadata": {
    "id": "-oIPqWi18NwU"
   },
   "outputs": [
    {
     "name": "stderr",
     "output_type": "stream",
     "text": [
      "100%|████████████████████████████████████████████████████████████████████| 9073573/9073573 [1:47:06<00:00, 1411.88it/s]\n"
     ]
    }
   ],
   "source": [
    "from nltk.stem import PorterStemmer\n",
    "from tqdm import tqdm\n",
    "tqdm.pandas()\n",
    "\n",
    "# from 교수님 MBA 코드. 11주\n",
    "def preprocessing(text):   #Preprocessing\n",
    "    # tokenize into words\n",
    "    tokens = [word for sent in nltk.sent_tokenize(text) for word in nltk.word_tokenize(sent)] \n",
    "   \n",
    "    # remove stopwords\n",
    "    stop = stopwords.words('english')\n",
    "    tokens = [token for token in tokens if token not in stop]\n",
    "    \n",
    "    # remove words less than three letters\n",
    "    tokens = [word for word in tokens if len(word) >= 3]\n",
    "    \n",
    "    # lower capitalization\n",
    "    tokens = [word.lower() for word in tokens]\n",
    "    \n",
    "    # lemmatize\n",
    "    lmtzr = WordNetLemmatizer()\n",
    "    tokens = [lmtzr.lemmatize(word) for word in tokens]\n",
    "    preprocessed_text = tokens\n",
    "#     preprocessed_text= ' '.join(tokens)\n",
    "\n",
    "#     # Stemming\n",
    "#     stemmer = PorterStemmer()\n",
    "#     preprocessed_text = [stemmer.stem(w) for w in preprocessed_text]\n",
    "    \n",
    "    return preprocessed_text\n",
    "# temp['review_pre']=temp['remove_link_punc'].progress_apply(lambda x: preprocessing(x))\n",
    "# temp\n",
    "pre_df['review_pre']=pre_df['remove_link_punc'].progress_apply(lambda x: preprocessing(x))"
   ]
  },
  {
   "cell_type": "code",
   "execution_count": null,
   "metadata": {},
   "outputs": [],
   "source": [
    "# temp\n",
    "word = \"aaa aa aaaaaaah wonderful land of oz zz.\"\n",
    "preprocessing(word)"
   ]
  },
  {
   "cell_type": "code",
   "execution_count": 32,
   "metadata": {},
   "outputs": [],
   "source": [
    "pre_df.reset_index(drop = True, inplace = True)"
   ]
  },
  {
   "cell_type": "code",
   "execution_count": 33,
   "metadata": {},
   "outputs": [],
   "source": [
    "# pre-processed df 저장,로드\n",
    "import os\n",
    "import pickle\n",
    "os.chdir(r'C:\\Users\\ywy\\Desktop\\min\\movie_pred\\pre-processed_df')\n",
    "\n",
    "with open(\"pre_df\",'wb') as fw:\n",
    "    pickle.dump(pre_df,fw)\n",
    "with open(\"pre_df\",'rb') as fr:\n",
    "    pre_df = pickle.load(fr)\n",
    "\n",
    "\n",
    "# 이렇게 원래 작성되어있었음\n",
    "# with open(\"pre_df\",'rb') as fr:\n",
    "#     w2v_list = pickle.load(fr)"
   ]
  },
  {
   "cell_type": "code",
   "execution_count": 34,
   "metadata": {},
   "outputs": [
    {
     "name": "stderr",
     "output_type": "stream",
     "text": [
      "100%|███████████████████████████████████████████████████████████████████| 9073573/9073573 [00:09<00:00, 1006424.10it/s]\n"
     ]
    },
    {
     "data": {
      "text/plain": [
       "0          None\n",
       "1          None\n",
       "2          None\n",
       "3          None\n",
       "4          None\n",
       "           ... \n",
       "9073568    None\n",
       "9073569    None\n",
       "9073570    None\n",
       "9073571    None\n",
       "9073572    None\n",
       "Name: review_pre, Length: 9073573, dtype: object"
      ]
     },
     "execution_count": 34,
     "metadata": {},
     "output_type": "execute_result"
    }
   ],
   "source": [
    "# 한 리스트로 합치기 연습\n",
    "# temp = review['review_pre'][:3]\n",
    "sents = []\n",
    "def list_hoarder(list_sent):\n",
    "    global sents\n",
    "    sents.append(list_sent)\n",
    "\n",
    "pre_df['review_pre'].progress_apply(lambda list_sent: list_hoarder(list_sent))"
   ]
  },
  {
   "cell_type": "code",
   "execution_count": 35,
   "metadata": {},
   "outputs": [
    {
     "name": "stderr",
     "output_type": "stream",
     "text": [
      "100%|████████████████████████████████████████████████████████████████████| 9073573/9073573 [00:09<00:00, 943707.38it/s]\n"
     ]
    },
    {
     "data": {
      "text/plain": [
       "312109"
      ]
     },
     "execution_count": 35,
     "metadata": {},
     "output_type": "execute_result"
    }
   ],
   "source": [
    "# 총 단어 수 세기\n",
    "\n",
    "mtli = []\n",
    "\n",
    "\n",
    "from tqdm import tqdm\n",
    "tqdm.pandas()\n",
    "\n",
    "pre_df['review_pre'].progress_apply(lambda vocli: mtli.extend(vocli))\n",
    "len(set(mtli)) # 312109개 단어 --> unique한 단어 248789"
   ]
  },
  {
   "cell_type": "code",
   "execution_count": 36,
   "metadata": {},
   "outputs": [],
   "source": [
    "# word2vec input 저장\n",
    "# os.chdir(r'C:\\Users\\MinSeong\\Desktop\\movie_pred_code\\review2sent')\n",
    "\n",
    "os.chdir(r'C:\\Users\\ywy\\Desktop\\min\\movie_pred\\w2v에 나온 단어로만 변환')\n",
    "with open(\"w2vinput\",'wb') as fw:\n",
    "    pickle.dump(sents,fw)\n",
    "with open(\"w2vinput\",'rb') as fr:\n",
    "    w2v_list = pickle.load(fr)"
   ]
  },
  {
   "cell_type": "code",
   "execution_count": 37,
   "metadata": {},
   "outputs": [
    {
     "data": {
      "text/plain": [
       "9073573"
      ]
     },
     "execution_count": 37,
     "metadata": {},
     "output_type": "execute_result"
    }
   ],
   "source": [
    "len(w2v_list)"
   ]
  },
  {
   "cell_type": "markdown",
   "metadata": {},
   "source": [
    "## Word2vec Training"
   ]
  },
  {
   "cell_type": "code",
   "execution_count": 38,
   "metadata": {},
   "outputs": [
    {
     "name": "stdout",
     "output_type": "stream",
     "text": [
      "20.0분 소요\n"
     ]
    }
   ],
   "source": [
    "# !pip install gensim\n",
    "import numpy as np\n",
    "import time\n",
    "begin = time.time()\n",
    "\n",
    "from gensim.models import Word2Vec\n",
    "model = Word2Vec(sentences=w2v_list, vector_size=300, window=10, min_count=4, workers=4,sg = 1)\n",
    "# !pip install gensim\n",
    "done = time.time()\n",
    "# 20만 sentence:\n",
    "secs = done - begin\n",
    "print(f\"{np.trunc(secs / 60)}분 소요\") # 1분 소요. 넉넉히 1 시간 잡으면 전체 학습할듯."
   ]
  },
  {
   "cell_type": "code",
   "execution_count": 39,
   "metadata": {},
   "outputs": [
    {
     "data": {
      "text/plain": [
       "[('monoke', 0.6201863884925842),\n",
       " ('rapunzel', 0.5700233578681946),\n",
       " ('kida', 0.5629846453666687),\n",
       " ('mononoke', 0.5460004210472107),\n",
       " ('nefertiri', 0.542016863822937),\n",
       " ('mononoki', 0.5371865630149841),\n",
       " ('kaurwaki', 0.5356416702270508),\n",
       " ('kaguya', 0.5345764756202698),\n",
       " ('prince', 0.5320760011672974),\n",
       " ('tilde', 0.5279681086540222)]"
      ]
     },
     "execution_count": 39,
     "metadata": {},
     "output_type": "execute_result"
    }
   ],
   "source": [
    "import os\n",
    "os.chdir(r'C:\\Users\\ywy\\Desktop\\min\\movie_pred\\w2v에 나온 단어로만 변환')\n",
    "\n",
    "#word2vec 저장하는 코드 구현\n",
    "model.save('word2vec.model') # 모델 저장\n",
    "\n",
    "\n",
    "from gensim.models import Word2Vec\n",
    "model = Word2Vec.load('word2vec.model')# 모델 로드\n",
    "model.wv['princess'] # 워드 벡터 구하기\n",
    "\n",
    "model.wv.similarity('princess', 'queen') #코사인 유사도 구하기\n",
    "model.wv.most_similar('princess') # 그냥 가장 가까운 것.. \n",
    "# wordlist = list(model.wv.vocab)\n",
    "# len(wordlist)"
   ]
  },
  {
   "cell_type": "code",
   "execution_count": 40,
   "metadata": {},
   "outputs": [
    {
     "data": {
      "text/plain": [
       "98331"
      ]
     },
     "execution_count": 40,
     "metadata": {},
     "output_type": "execute_result"
    }
   ],
   "source": [
    "# wordlist = list(model.wv.vocab)\n",
    "# len(wordlist)\n",
    "\n",
    "len(model.wv.key_to_index.keys()) # 74858"
   ]
  },
  {
   "cell_type": "markdown",
   "metadata": {},
   "source": [
    "# 2. (구)STM 구축"
   ]
  },
  {
   "cell_type": "markdown",
   "metadata": {},
   "source": [
    "DTM: DTM은 Aspect 별로 Word와 유사도가 나타난 행렬."
   ]
  },
  {
   "cell_type": "code",
   "execution_count": 16,
   "metadata": {},
   "outputs": [
    {
     "data": {
      "text/plain": [
       "[('lyric', 0.8203268647193909),\n",
       " ('tune', 0.8048673868179321),\n",
       " ('sung', 0.7774114608764648),\n",
       " ('catchy', 0.7575063705444336),\n",
       " ('music', 0.7536646127700806),\n",
       " ('hummable', 0.7187243700027466),\n",
       " ('melody', 0.7120361328125),\n",
       " ('mehndi', 0.695824384689331),\n",
       " ('daler', 0.6900125741958618),\n",
       " ('singing', 0.6878414154052734)]"
      ]
     },
     "execution_count": 16,
     "metadata": {},
     "output_type": "execute_result"
    }
   ],
   "source": [
    "# 학습된 워투백 가져오기\n",
    "# 모델 로드\n",
    "import os\n",
    "os.chdir(r'C:\\Users\\MinSeong\\Desktop\\movie_pred_code\\review2sent')\n",
    "from gensim.models import Word2Vec\n",
    "model = Word2Vec.load('word2vec.model')\n",
    "# model.wv.most_similar('music') # 도 해볼만할듯.. soundtrack\n",
    "model.wv.most_similar('song')"
   ]
  },
  {
   "cell_type": "code",
   "execution_count": 17,
   "metadata": {},
   "outputs": [
    {
     "data": {
      "text/plain": [
       "[('soundtrack', 0.8338460922241211),\n",
       " ('song', 0.7536646723747253),\n",
       " ('instrumentals', 0.7218025922775269),\n",
       " ('score', 0.7157046794891357),\n",
       " ('orchestral', 0.7143045663833618),\n",
       " ('djawadi', 0.7068655490875244),\n",
       " ('enya', 0.6959042549133301),\n",
       " ('chowta', 0.6905639171600342),\n",
       " ('radwimps', 0.6836745738983154),\n",
       " ('tune', 0.6818971037864685)]"
      ]
     },
     "execution_count": 17,
     "metadata": {},
     "output_type": "execute_result"
    }
   ],
   "source": [
    "model.wv.most_similar('music')"
   ]
  },
  {
   "cell_type": "code",
   "execution_count": 18,
   "metadata": {},
   "outputs": [
    {
     "data": {
      "text/plain": [
       "0.75366455"
      ]
     },
     "execution_count": 18,
     "metadata": {},
     "output_type": "execute_result"
    }
   ],
   "source": [
    "model.wv.similarity('song', 'music')"
   ]
  },
  {
   "cell_type": "code",
   "execution_count": 19,
   "metadata": {},
   "outputs": [
    {
     "data": {
      "text/plain": [
       "[('hunham', 0.7755576372146606),\n",
       " ('eliana', 0.7705337405204773),\n",
       " ('phiefer', 0.7519032955169678),\n",
       " ('pheifer', 0.7504189610481262),\n",
       " ('shipka', 0.7489644289016724),\n",
       " ('guirira', 0.7460935115814209),\n",
       " ('unbeliavably', 0.7456396818161011),\n",
       " ('tyresse', 0.7408440113067627),\n",
       " ('gillenhaal', 0.7403602600097656),\n",
       " ('biedel', 0.7382725477218628)]"
      ]
     },
     "execution_count": 19,
     "metadata": {},
     "output_type": "execute_result"
    }
   ],
   "source": [
    "model.wv.most_similar('actor')"
   ]
  },
  {
   "cell_type": "code",
   "execution_count": 20,
   "metadata": {},
   "outputs": [
    {
     "data": {
      "text/plain": [
       "0.3005118"
      ]
     },
     "execution_count": 20,
     "metadata": {},
     "output_type": "execute_result"
    }
   ],
   "source": [
    "model.wv.similarity('actor', 'eminem')"
   ]
  },
  {
   "cell_type": "code",
   "execution_count": 7,
   "metadata": {},
   "outputs": [
    {
     "data": {
      "text/plain": [
       "98331"
      ]
     },
     "execution_count": 7,
     "metadata": {},
     "output_type": "execute_result"
    }
   ],
   "source": [
    "# 학습된 uniqe한 단어 개수\n",
    "wordlist = list(model.wv.vocab)\n",
    "len(wordlist)"
   ]
  },
  {
   "cell_type": "code",
   "execution_count": null,
   "metadata": {},
   "outputs": [],
   "source": [
    "wordlist"
   ]
  },
  {
   "cell_type": "code",
   "execution_count": 10,
   "metadata": {},
   "outputs": [],
   "source": [
    "aspects = ['actor','director','plot','music','movie']\n",
    "temp_wordlist = wordlist[:3]# 테스트용\n",
    "\n",
    "# 학습된 단어 수\n",
    "# len(model.wv) # pretrained는 몇? 2B tweets, 100B words.. # 안됨\n",
    "# 모든 단어의 리스트\n",
    "# len(model.wv.index_to_key) # 일케하면 리스트로 모든 단어 나옴! -? 안나옴\n",
    "\n",
    "# 모든 단어의 딕셔너리\n",
    "# model.wv.key_to_index # 일케하면 딕셔너리로 모든 단어 나옴! -? 안나옴"
   ]
  },
  {
   "cell_type": "code",
   "execution_count": 11,
   "metadata": {},
   "outputs": [
    {
     "data": {
      "text/plain": [
       "158289"
      ]
     },
     "execution_count": 11,
     "metadata": {},
     "output_type": "execute_result"
    }
   ],
   "source": [
    "len(wordlist)"
   ]
  },
  {
   "cell_type": "markdown",
   "metadata": {},
   "source": [
    "## Similarity 계산"
   ]
  },
  {
   "cell_type": "code",
   "execution_count": 96,
   "metadata": {},
   "outputs": [],
   "source": [
    "import numpy as np\n",
    "\n",
    "aspects = ['actor','director','plot','music','movie']\n",
    "similarity_actor = []\n",
    "similarity_director = []\n",
    "similarity_plot = []\n",
    "similarity_music = []\n",
    "similarity_movie = []\n",
    "sim_aspects = [similarity_actor,similarity_director,similarity_plot,similarity_music,similarity_movie]\n",
    "for i in range(len(sim_aspects)):    \n",
    "    for word in wordlist:\n",
    "        sim = model.wv.similarity(aspects[i], word)\n",
    "        sim_aspects[i].append(sim)\n",
    "    sim_aspects[i] = np.array(sim_aspects[i])\n"
   ]
  },
  {
   "cell_type": "code",
   "execution_count": 97,
   "metadata": {},
   "outputs": [
    {
     "data": {
      "text/plain": [
       "(5, 158289)"
      ]
     },
     "execution_count": 97,
     "metadata": {},
     "output_type": "execute_result"
    }
   ],
   "source": [
    "# sim_aspects\n",
    "# ex = np.concatenate((similarity_actor, similarity_actor), axis=1)\n",
    "sim_mat = np.vstack((sim_aspects[0],sim_aspects[1],sim_aspects[2],sim_aspects[3],sim_aspects[4]))\n",
    "sim_mat.shape"
   ]
  },
  {
   "cell_type": "code",
   "execution_count": 98,
   "metadata": {},
   "outputs": [
    {
     "data": {
      "text/plain": [
       "array([[0.4066485 , 0.26143655, 0.30132708, ..., 0.5584969 , 0.45615238,\n",
       "        0.40876296],\n",
       "       [0.41081524, 0.22787128, 0.3060823 , ..., 0.39206785, 0.38702014,\n",
       "        0.4330998 ],\n",
       "       [0.41069815, 0.44076085, 0.83058995, ..., 0.311643  , 0.23223831,\n",
       "        0.37742528],\n",
       "       [0.3820657 , 0.24505723, 0.36896232, ..., 0.34344748, 0.22692107,\n",
       "        0.33457625],\n",
       "       [0.5876034 , 0.48630905, 0.52402693, ..., 0.41287237, 0.36167035,\n",
       "        0.46235028]], dtype=float32)"
      ]
     },
     "execution_count": 98,
     "metadata": {},
     "output_type": "execute_result"
    }
   ],
   "source": [
    "sim_mat"
   ]
  },
  {
   "cell_type": "markdown",
   "metadata": {},
   "source": [
    "## STM 구축 --> HALT"
   ]
  },
  {
   "cell_type": "code",
   "execution_count": 7,
   "metadata": {},
   "outputs": [],
   "source": [
    "from mlxtend.preprocessing import TransactionEncoder\n",
    "from mlxtend.frequent_patterns import apriori\n",
    "from mlxtend.frequent_patterns import association_rules"
   ]
  },
  {
   "cell_type": "code",
   "execution_count": 17,
   "metadata": {},
   "outputs": [],
   "source": [
    "temp"
   ]
  },
  {
   "cell_type": "code",
   "execution_count": 10,
   "metadata": {},
   "outputs": [
    {
     "ename": "TypeError",
     "evalue": "unhashable type: 'slice'",
     "output_type": "error",
     "traceback": [
      "\u001b[1;31m---------------------------------------------------------------------------\u001b[0m",
      "\u001b[1;31mTypeError\u001b[0m                                 Traceback (most recent call last)",
      "\u001b[1;32m<ipython-input-10-c73b8add6c1f>\u001b[0m in \u001b[0;36m<module>\u001b[1;34m\u001b[0m\n\u001b[1;32m----> 1\u001b[1;33m \u001b[0mte2\u001b[0m \u001b[1;33m=\u001b[0m \u001b[0mtemp\u001b[0m\u001b[1;33m[\u001b[0m\u001b[1;33m:\u001b[0m\u001b[1;36m10\u001b[0m\u001b[1;33m]\u001b[0m\u001b[1;33m\u001b[0m\u001b[1;33m\u001b[0m\u001b[0m\n\u001b[0m\u001b[0;32m      2\u001b[0m \u001b[1;33m\u001b[0m\u001b[0m\n\u001b[0;32m      3\u001b[0m \u001b[0mte\u001b[0m \u001b[1;33m=\u001b[0m \u001b[0mTransactionEncoder\u001b[0m\u001b[1;33m(\u001b[0m\u001b[1;33m)\u001b[0m\u001b[1;33m\u001b[0m\u001b[1;33m\u001b[0m\u001b[0m\n\u001b[0;32m      4\u001b[0m \u001b[0mte_ary\u001b[0m \u001b[1;33m=\u001b[0m \u001b[0mte\u001b[0m\u001b[1;33m.\u001b[0m\u001b[0mfit\u001b[0m\u001b[1;33m(\u001b[0m\u001b[0mte2\u001b[0m\u001b[1;33m)\u001b[0m\u001b[1;33m.\u001b[0m\u001b[0mtransform\u001b[0m\u001b[1;33m(\u001b[0m\u001b[0mte2\u001b[0m\u001b[1;33m)\u001b[0m \u001b[1;31m# series를 넣어도 잘 작동..\u001b[0m\u001b[1;33m\u001b[0m\u001b[1;33m\u001b[0m\u001b[0m\n\u001b[0;32m      5\u001b[0m \u001b[0mte_ary\u001b[0m\u001b[1;33m.\u001b[0m\u001b[0mshape\u001b[0m\u001b[1;33m\u001b[0m\u001b[1;33m\u001b[0m\u001b[0m\n",
      "\u001b[1;31mTypeError\u001b[0m: unhashable type: 'slice'"
     ]
    }
   ],
   "source": [
    "te2 = temp[:10]\n",
    "\n",
    "te = TransactionEncoder()\n",
    "te_ary = te.fit(te2).transform(te2) # series를 넣어도 잘 작동..\n",
    "te_ary.shape\n",
    "te_ary"
   ]
  },
  {
   "cell_type": "markdown",
   "metadata": {},
   "source": [
    "###  sparse matrix 활용한 STM 구축"
   ]
  },
  {
   "cell_type": "code",
   "execution_count": 4,
   "metadata": {},
   "outputs": [],
   "source": []
  },
  {
   "cell_type": "code",
   "execution_count": 6,
   "metadata": {},
   "outputs": [],
   "source": [
    "# temp"
   ]
  },
  {
   "cell_type": "code",
   "execution_count": null,
   "metadata": {},
   "outputs": [],
   "source": []
  },
  {
   "cell_type": "code",
   "execution_count": null,
   "metadata": {},
   "outputs": [],
   "source": []
  },
  {
   "cell_type": "markdown",
   "metadata": {},
   "source": [
    "차원 --> 단어 의 연관규칙임."
   ]
  },
  {
   "cell_type": "code",
   "execution_count": 3,
   "metadata": {},
   "outputs": [
    {
     "data": {
      "text/plain": [
       "0          [really, boring, storyline, acting, sub, par, ...\n",
       "1          [film, many, dream, sequence, scare, time, som...\n",
       "2                                                 [thriller]\n",
       "3                                     [could, decent, movie]\n",
       "4          [made, movie, acting, bad, story, incredibly, ...\n",
       "                                 ...                        \n",
       "9073568    [picked, second, left, took, without, disappoi...\n",
       "9073569                 [disappointing, thing, lack, matrix]\n",
       "9073570    [enjoyable, thing, see, first, two, movie, wat...\n",
       "9073571     [truly, missed, final, installment, masterpiece]\n",
       "9073572                    [give, revolution, give, trilogy]\n",
       "Name: review_pre, Length: 9073573, dtype: object"
      ]
     },
     "execution_count": 3,
     "metadata": {},
     "output_type": "execute_result"
    }
   ],
   "source": [
    "from mlxtend.preprocessing import TransactionEncoder\n",
    "from mlxtend.frequent_patterns import apriori\n",
    "from mlxtend.frequent_patterns import association_rules\n",
    "\n",
    "# 행이 sent, 열이 단어인 연관규칙 만들어야함.\n",
    "pre_df['review_pre'] # preprocessed 된 review\n"
   ]
  },
  {
   "cell_type": "code",
   "execution_count": 81,
   "metadata": {},
   "outputs": [],
   "source": [
    "# 짤라서 transform, 한번에 붙이기..\n",
    "te2 = pre_df['review_pre'].loc[:10]\n",
    "te_ary = te.fit(pre_df['review_pre']).transform(te2) # seies가능, fit만 잘 되면 여러번 분할하여 transform 가능. \n",
    "stm2 = pd.DataFrame(te_ary, columns=te.columns_)"
   ]
  },
  {
   "cell_type": "code",
   "execution_count": 83,
   "metadata": {},
   "outputs": [
    {
     "data": {
      "text/plain": [
       "Index(['aa', 'aaa', 'aaaa', 'aaaaa', 'aaaaaa', 'aaaaaaa', 'aaaaaaaa',\n",
       "       'aaaaaaaaa', 'aaaaaaaaaaa', 'aaaaaaaaaaaa',\n",
       "       ...\n",
       "       'zzzzzzzzzzzzzzzzzzzzzzzzzzzzzzzzzzzzzzzzzzzzzzzzzzzzz',\n",
       "       'zzzzzzzzzzzzzzzzzzzzzzzzzzzzzzzzzzzzzzzzzzzzzzzzzzzzzzzzzz',\n",
       "       'zzzzzzzzzzzzzzzzzzzzzzzzzzzzzzzzzzzzzzzzzzzzzzzzzzzzzzzzzzzzzzzz',\n",
       "       'zzzzzzzzzzzzzzzzzzzzzzzzzzzzzzzzzzzzzzzzzzzzzzzzzzzzzzzzzzzzzzzzzz',\n",
       "       'zzzzzzzzzzzzzzzzzzzzzzzzzzzzzzzzzzzzzzzzzzzzzzzzzzzzzzzzzzzzzzzzzzzzzzzzz',\n",
       "       'zzzzzzzzzzzzzzzzzzzzzzzzzzzzzzzzzzzzzzzzzzzzzzzzzzzzzzzzzzzzzzzzzzzzzzzzzit',\n",
       "       'zzzzzzzzzzzzzzzzzzzzzzzzzzzzzzzzzzzzzzzzzzzzzzzzzzzzzzzzzzzzzzzzzzzzzzzzzzzzzzzzz',\n",
       "       'zzzzzzzzzzzzzzzzzzzzzzzzzzzzzzzzzzzzzzzzzzzzzzzzzzzzzzzzzzzzzzzzzzzzzzzzzzzzzzzzzzzzzzzzzzzzzzzzzzzzzzzzzzzzzzzzzzzzzzzzzzzzzzzzzzzzzzzzzzzz',\n",
       "       'zzzzzzzzzzzzzzzzzzzzzzzzzzzzzzzzzzzzzzzzzzzzzzzzzzzzzzzzzzzzzzzzzzzzzzzzzzzzzzzzzzzzzzzzzzzzzzzzzzzzzzzzzzzzzzzzzzzzzzzzzzzzzzzzzzzzzzzzzzzzzzzzzzzzzzzzzzzzzzzzzzzzzzzzzzzz',\n",
       "       'zzzzzzzzzzzzzzzzzzzzzzzzzzzzzzzzzzzzzzzzzzzzzzzzzzzzzzzzzzzzzzzzzzzzzzzzzzzzzzzzzzzzzzzzzzzzzzzzzzzzzzzzzzzzzzzzzzzzzzzzzzzzzzzzzzzzzzzzzzzzzzzzzzzzzzzzzzzzzzzzzzzzzzzzzzzzzzzzzzzzzzzzzzzzzzzzzzzzzzzzzzzzzzzzzzzzzzzzzzzzzzzzzzzzzzzzzzzzzzzzzzzzzzzzzzzzzzzzzzzzzzzzzzzzzzzzzzzzzzzzzzzzzzzzzzzzzzzzzzzzzzzzzzzzzzzzzzzzzzzzzzzzzzzzzzzzzzzzzzzzzzzzzzzzzzzzzzzzzzzzzzzzzzzzzzzzzzzzzzzzzzzzzzzzzzzzzzzzzzzzzzzzzzzzzzzzzzzzzzzzzzzzzzzzzzzzzzzzzzzzzzzzzzzzzzzzzzzzzzzzzzzzzzz'],\n",
       "      dtype='object', length=312109)"
      ]
     },
     "execution_count": 83,
     "metadata": {},
     "output_type": "execute_result"
    }
   ],
   "source": [
    "stm2.columns # 왜 이런.. 리뷰가,,? fit 할 때 잘못 된거.-->stemming 시도해볼 수 있을 듯."
   ]
  },
  {
   "cell_type": "code",
   "execution_count": 15,
   "metadata": {},
   "outputs": [
    {
     "data": {
      "text/html": [
       "<div>\n",
       "<style scoped>\n",
       "    .dataframe tbody tr th:only-of-type {\n",
       "        vertical-align: middle;\n",
       "    }\n",
       "\n",
       "    .dataframe tbody tr th {\n",
       "        vertical-align: top;\n",
       "    }\n",
       "\n",
       "    .dataframe thead th {\n",
       "        text-align: right;\n",
       "    }\n",
       "</style>\n",
       "<table border=\"1\" class=\"dataframe\">\n",
       "  <thead>\n",
       "    <tr style=\"text-align: right;\">\n",
       "      <th></th>\n",
       "      <th>header</th>\n",
       "      <th>contents</th>\n",
       "      <th>star</th>\n",
       "      <th>helpful</th>\n",
       "      <th>in_n_weeks</th>\n",
       "      <th>Movie_code</th>\n",
       "      <th>sentiment</th>\n",
       "      <th>train</th>\n",
       "      <th>cleaned_contents</th>\n",
       "      <th>sents</th>\n",
       "      <th>doc_id</th>\n",
       "      <th>sent</th>\n",
       "      <th>remove_link_punc</th>\n",
       "      <th>review_pre</th>\n",
       "    </tr>\n",
       "  </thead>\n",
       "  <tbody>\n",
       "    <tr>\n",
       "      <th>577931</th>\n",
       "      <td>Fantastic film well worth the score great CAS...</td>\n",
       "      <td>Fantastic film great who done it with humour a...</td>\n",
       "      <td>0.9</td>\n",
       "      <td>['0 out of 2']</td>\n",
       "      <td>after 4 weeks</td>\n",
       "      <td>8946378</td>\n",
       "      <td>1</td>\n",
       "      <td>1</td>\n",
       "      <td>fantastic film great who done it with humour a...</td>\n",
       "      <td>[fantastic film great who done it with humour ...</td>\n",
       "      <td>754640</td>\n",
       "      <td>fantastic film great who done it with humour a...</td>\n",
       "      <td>fantastic film great who done it with humour a...</td>\n",
       "      <td>[fantastic, film, great, done, humour, grippin...</td>\n",
       "    </tr>\n",
       "    <tr>\n",
       "      <th>1233896</th>\n",
       "      <td>AMAZING!\\n</td>\n",
       "      <td>I LOVE IT! AAAAA!!-\\nThe Hulk looking like a f...</td>\n",
       "      <td>1.0</td>\n",
       "      <td>['4 out of 6']</td>\n",
       "      <td>after 4 weeks</td>\n",
       "      <td>0848228</td>\n",
       "      <td>1</td>\n",
       "      <td>0</td>\n",
       "      <td>i love it! aaaaa!!-\\nthe hulk looking like a f...</td>\n",
       "      <td>[i love it!, aaaaa!, !-\\nthe hulk looking like...</td>\n",
       "      <td>861436</td>\n",
       "      <td>aaaaa!</td>\n",
       "      <td>aaaaa</td>\n",
       "      <td>[aaaaa]</td>\n",
       "    </tr>\n",
       "    <tr>\n",
       "      <th>1616813</th>\n",
       "      <td>What a Rush\\n</td>\n",
       "      <td>Rush is Ron Howard's best up to date, a viscer...</td>\n",
       "      <td>1.0</td>\n",
       "      <td>['2 out of 4']</td>\n",
       "      <td>after 4 weeks</td>\n",
       "      <td>1979320</td>\n",
       "      <td>1</td>\n",
       "      <td>0</td>\n",
       "      <td>the movie is the director's best up to date, a...</td>\n",
       "      <td>[the movie is the director's best up to date, ...</td>\n",
       "      <td>920186</td>\n",
       "      <td>what matters is the movie is an un-missable mo...</td>\n",
       "      <td>what matters is the movie is an un missable mo...</td>\n",
       "      <td>[matter, movie, missable, movie, hence, quote,...</td>\n",
       "    </tr>\n",
       "    <tr>\n",
       "      <th>7126798</th>\n",
       "      <td>I wish I was Lois Lane, I wish Superman is re...</td>\n",
       "      <td>I watched Superman Returns today, and there's ...</td>\n",
       "      <td>0.9</td>\n",
       "      <td>['8 out of 13']</td>\n",
       "      <td>3</td>\n",
       "      <td>0348150</td>\n",
       "      <td>1</td>\n",
       "      <td>1</td>\n",
       "      <td>i watched the movie today, and there's only on...</td>\n",
       "      <td>[i watched the movie today, and there's only o...</td>\n",
       "      <td>497266</td>\n",
       "      <td>aaaaa!!!!\"</td>\n",
       "      <td>aaaaa</td>\n",
       "      <td>[aaaaa]</td>\n",
       "    </tr>\n",
       "    <tr>\n",
       "      <th>7819302</th>\n",
       "      <td>I wish I was Lois Lane, I wish Superman is re...</td>\n",
       "      <td>I watched Superman Returns today, and there's ...</td>\n",
       "      <td>0.9</td>\n",
       "      <td>['8 out of 13']</td>\n",
       "      <td>3</td>\n",
       "      <td>0348150</td>\n",
       "      <td>1</td>\n",
       "      <td>1</td>\n",
       "      <td>i watched the movie today, and there's only on...</td>\n",
       "      <td>[i watched the movie today, and there's only o...</td>\n",
       "      <td>497266</td>\n",
       "      <td>aaaaa!!!!\"</td>\n",
       "      <td>aaaaa</td>\n",
       "      <td>[aaaaa]</td>\n",
       "    </tr>\n",
       "  </tbody>\n",
       "</table>\n",
       "</div>"
      ],
      "text/plain": [
       "                                                    header  \\\n",
       "577931    Fantastic film well worth the score great CAS...   \n",
       "1233896                                         AMAZING!\\n   \n",
       "1616813                                      What a Rush\\n   \n",
       "7126798   I wish I was Lois Lane, I wish Superman is re...   \n",
       "7819302   I wish I was Lois Lane, I wish Superman is re...   \n",
       "\n",
       "                                                  contents  star  \\\n",
       "577931   Fantastic film great who done it with humour a...   0.9   \n",
       "1233896  I LOVE IT! AAAAA!!-\\nThe Hulk looking like a f...   1.0   \n",
       "1616813  Rush is Ron Howard's best up to date, a viscer...   1.0   \n",
       "7126798  I watched Superman Returns today, and there's ...   0.9   \n",
       "7819302  I watched Superman Returns today, and there's ...   0.9   \n",
       "\n",
       "                 helpful     in_n_weeks Movie_code sentiment train  \\\n",
       "577931    ['0 out of 2']  after 4 weeks    8946378         1     1   \n",
       "1233896   ['4 out of 6']  after 4 weeks    0848228         1     0   \n",
       "1616813   ['2 out of 4']  after 4 weeks    1979320         1     0   \n",
       "7126798  ['8 out of 13']              3    0348150         1     1   \n",
       "7819302  ['8 out of 13']              3    0348150         1     1   \n",
       "\n",
       "                                          cleaned_contents  \\\n",
       "577931   fantastic film great who done it with humour a...   \n",
       "1233896  i love it! aaaaa!!-\\nthe hulk looking like a f...   \n",
       "1616813  the movie is the director's best up to date, a...   \n",
       "7126798  i watched the movie today, and there's only on...   \n",
       "7819302  i watched the movie today, and there's only on...   \n",
       "\n",
       "                                                     sents  doc_id  \\\n",
       "577931   [fantastic film great who done it with humour ...  754640   \n",
       "1233896  [i love it!, aaaaa!, !-\\nthe hulk looking like...  861436   \n",
       "1616813  [the movie is the director's best up to date, ...  920186   \n",
       "7126798  [i watched the movie today, and there's only o...  497266   \n",
       "7819302  [i watched the movie today, and there's only o...  497266   \n",
       "\n",
       "                                                      sent  \\\n",
       "577931   fantastic film great who done it with humour a...   \n",
       "1233896                                             aaaaa!   \n",
       "1616813  what matters is the movie is an un-missable mo...   \n",
       "7126798                                         aaaaa!!!!\"   \n",
       "7819302                                         aaaaa!!!!\"   \n",
       "\n",
       "                                          remove_link_punc  \\\n",
       "577931   fantastic film great who done it with humour a...   \n",
       "1233896                                             aaaaa    \n",
       "1616813  what matters is the movie is an un missable mo...   \n",
       "7126798                                             aaaaa    \n",
       "7819302                                             aaaaa    \n",
       "\n",
       "                                                review_pre  \n",
       "577931   [fantastic, film, great, done, humour, grippin...  \n",
       "1233896                                            [aaaaa]  \n",
       "1616813  [matter, movie, missable, movie, hence, quote,...  \n",
       "7126798                                            [aaaaa]  \n",
       "7819302                                            [aaaaa]  "
      ]
     },
     "execution_count": 15,
     "metadata": {},
     "output_type": "execute_result"
    }
   ],
   "source": [
    "# aaaa zzzz들 나온 리뷰 찾아보기\n",
    "\n",
    "\n",
    "def aaa(sents):\n",
    "    if \"aaaaa\" in sents:\n",
    "        return True\n",
    "tf = pre_df['review_pre'].apply(lambda sents:aaa(sents) )\n",
    "pre_df[tf == True]"
   ]
  },
  {
   "cell_type": "code",
   "execution_count": 19,
   "metadata": {},
   "outputs": [
    {
     "ename": "MemoryError",
     "evalue": "Unable to allocate 2.58 TiB for an array with shape (9073573, 312109) and data type bool",
     "output_type": "error",
     "traceback": [
      "\u001b[1;31m---------------------------------------------------------------------------\u001b[0m",
      "\u001b[1;31mMemoryError\u001b[0m                               Traceback (most recent call last)",
      "\u001b[1;32m<ipython-input-19-2a04b26aecb3>\u001b[0m in \u001b[0;36m<module>\u001b[1;34m\u001b[0m\n\u001b[0;32m      2\u001b[0m \u001b[1;33m\u001b[0m\u001b[0m\n\u001b[0;32m      3\u001b[0m \u001b[0mte\u001b[0m \u001b[1;33m=\u001b[0m \u001b[0mTransactionEncoder\u001b[0m\u001b[1;33m(\u001b[0m\u001b[1;33m)\u001b[0m\u001b[1;33m\u001b[0m\u001b[1;33m\u001b[0m\u001b[0m\n\u001b[1;32m----> 4\u001b[1;33m \u001b[0mte_ary\u001b[0m \u001b[1;33m=\u001b[0m \u001b[0mte\u001b[0m\u001b[1;33m.\u001b[0m\u001b[0mfit\u001b[0m\u001b[1;33m(\u001b[0m\u001b[0mpre_df\u001b[0m\u001b[1;33m[\u001b[0m\u001b[1;34m'review_pre'\u001b[0m\u001b[1;33m]\u001b[0m\u001b[1;33m)\u001b[0m\u001b[1;33m.\u001b[0m\u001b[0mtransform\u001b[0m\u001b[1;33m(\u001b[0m\u001b[0mpre_df\u001b[0m\u001b[1;33m[\u001b[0m\u001b[1;34m'review_pre'\u001b[0m\u001b[1;33m]\u001b[0m\u001b[1;33m)\u001b[0m \u001b[1;31m# series를 넣어도 잘 작동..\u001b[0m\u001b[1;33m\u001b[0m\u001b[1;33m\u001b[0m\u001b[0m\n\u001b[0m\u001b[0;32m      5\u001b[0m \u001b[0mte_ary\u001b[0m\u001b[1;33m.\u001b[0m\u001b[0mshape\u001b[0m\u001b[1;33m\u001b[0m\u001b[1;33m\u001b[0m\u001b[0m\n\u001b[0;32m      6\u001b[0m \u001b[0mte_ary\u001b[0m\u001b[1;33m\u001b[0m\u001b[1;33m\u001b[0m\u001b[0m\n",
      "\u001b[1;32m~\\anaconda3\\lib\\site-packages\\mlxtend\\preprocessing\\transactionencoder.py\u001b[0m in \u001b[0;36mtransform\u001b[1;34m(self, X, sparse)\u001b[0m\n\u001b[0;32m    123\u001b[0m                                dtype=bool)\n\u001b[0;32m    124\u001b[0m         \u001b[1;32melse\u001b[0m\u001b[1;33m:\u001b[0m\u001b[1;33m\u001b[0m\u001b[1;33m\u001b[0m\u001b[0m\n\u001b[1;32m--> 125\u001b[1;33m             \u001b[0marray\u001b[0m \u001b[1;33m=\u001b[0m \u001b[0mnp\u001b[0m\u001b[1;33m.\u001b[0m\u001b[0mzeros\u001b[0m\u001b[1;33m(\u001b[0m\u001b[1;33m(\u001b[0m\u001b[0mlen\u001b[0m\u001b[1;33m(\u001b[0m\u001b[0mX\u001b[0m\u001b[1;33m)\u001b[0m\u001b[1;33m,\u001b[0m \u001b[0mlen\u001b[0m\u001b[1;33m(\u001b[0m\u001b[0mself\u001b[0m\u001b[1;33m.\u001b[0m\u001b[0mcolumns_\u001b[0m\u001b[1;33m)\u001b[0m\u001b[1;33m)\u001b[0m\u001b[1;33m,\u001b[0m \u001b[0mdtype\u001b[0m\u001b[1;33m=\u001b[0m\u001b[0mbool\u001b[0m\u001b[1;33m)\u001b[0m\u001b[1;33m\u001b[0m\u001b[1;33m\u001b[0m\u001b[0m\n\u001b[0m\u001b[0;32m    126\u001b[0m             \u001b[1;32mfor\u001b[0m \u001b[0mrow_idx\u001b[0m\u001b[1;33m,\u001b[0m \u001b[0mtransaction\u001b[0m \u001b[1;32min\u001b[0m \u001b[0menumerate\u001b[0m\u001b[1;33m(\u001b[0m\u001b[0mX\u001b[0m\u001b[1;33m)\u001b[0m\u001b[1;33m:\u001b[0m\u001b[1;33m\u001b[0m\u001b[1;33m\u001b[0m\u001b[0m\n\u001b[0;32m    127\u001b[0m                 \u001b[1;32mfor\u001b[0m \u001b[0mitem\u001b[0m \u001b[1;32min\u001b[0m \u001b[0mtransaction\u001b[0m\u001b[1;33m:\u001b[0m\u001b[1;33m\u001b[0m\u001b[1;33m\u001b[0m\u001b[0m\n",
      "\u001b[1;31mMemoryError\u001b[0m: Unable to allocate 2.58 TiB for an array with shape (9073573, 312109) and data type bool"
     ]
    }
   ],
   "source": [
    "# 원래 코드 : 메모리 에러\n",
    "\n",
    "# pre_df['review_pre']\n",
    "\n",
    "te = TransactionEncoder()\n",
    "te_ary = te.fit(pre_df['review_pre']).transform(pre_df['review_pre']) # series를 넣어도 잘 작동..\n",
    "te_ary.shape\n",
    "te_ary\n",
    "stm = pd.DataFrame(te_ary, columns=te.columns_)"
   ]
  },
  {
   "cell_type": "code",
   "execution_count": null,
   "metadata": {},
   "outputs": [],
   "source": [
    "os.chdir(r'C:\\Users\\MinSeong\\Desktop\\movie_pred_code')\n",
    "\n",
    "# with open(\"stm\",'wb') as fw:\n",
    "#     pickle.dump(stm,fw)\n",
    "# with open(\"stm\",'rb') as fr:\n",
    "#     stm = pickle.load(fr)"
   ]
  },
  {
   "cell_type": "markdown",
   "metadata": {},
   "source": [
    "# (구) word2vec 단어 기반으로 df 생성"
   ]
  },
  {
   "cell_type": "code",
   "execution_count": 1,
   "metadata": {},
   "outputs": [
    {
     "data": {
      "text/plain": [
       "98331"
      ]
     },
     "execution_count": 1,
     "metadata": {},
     "output_type": "execute_result"
    }
   ],
   "source": [
    "# 필요한 앞 코드들\n",
    "import os\n",
    "import pickle\n",
    "os.chdir(r'C:\\Users\\MinSeong\\Desktop\\movie_pred_code\\review2sent')\n",
    "\n",
    "# with open(\"pre_df\",'wb') as fw:\n",
    "#     pickle.dump(pre_df,fw)\n",
    "with open(\"pre_df\",'rb') as fr:\n",
    "    pre_df = pickle.load(fr)\n",
    "\n",
    "# word2vec input 저장\n",
    "\n",
    "# with open(\"w2vinput\",'wb') as fw:\n",
    "#     pickle.dump(sents,fw)\n",
    "with open(\"w2vinput\",'rb') as fr:\n",
    "    w2v_list = pickle.load(fr)\n",
    "    \n",
    "#word2vec 저장하는 코드 구현\n",
    "# model.save('word2vec.model') # 모델 저장\n",
    "\n",
    "\n",
    "from gensim.models import Word2Vec\n",
    "model = Word2Vec.load('word2vec.model')# 모델 로드\n",
    "model.wv['princess'] # 워드 벡터 구하기\n",
    "\n",
    "model.wv.similarity('princess', 'queen') #코사인 유사도 구하기\n",
    "model.wv.most_similar('princess') # 그냥 가장 가까운 것.. \n",
    "wordlist = list(model.wv.vocab)\n",
    "len(wordlist)\n",
    "\n"
   ]
  },
  {
   "cell_type": "code",
   "execution_count": 29,
   "metadata": {},
   "outputs": [
    {
     "data": {
      "text/plain": [
       "'kosner'"
      ]
     },
     "execution_count": 29,
     "metadata": {},
     "output_type": "execute_result"
    }
   ],
   "source": [
    "wordlist 활용.\n",
    "\n",
    "열: 단어 ----\n",
    "행: sent 이런식. \n",
    "sent 에 word2vec 리스트 단어가 있는지 확인하는 방식으로 코드 작성\n"
   ]
  },
  {
   "cell_type": "code",
   "execution_count": 4,
   "metadata": {},
   "outputs": [],
   "source": [
    "wordlist = list(model.wv.vocab)"
   ]
  },
  {
   "cell_type": "code",
   "execution_count": 5,
   "metadata": {},
   "outputs": [],
   "source": [
    "stm = pd.DataFrame(data = [], columns = wordlist) # 여기다가 data는..pre_df['review_pre'] 단어 리스트. 이중에 있는애 1 없는애 0 이런식.\n",
    "stm\n",
    "\n",
    "sents = pre_df['review_pre']"
   ]
  },
  {
   "cell_type": "code",
   "execution_count": 54,
   "metadata": {},
   "outputs": [],
   "source": [
    "# # pilot\n",
    "# temp = pre_df['review_pre'].loc[:10]\n",
    "# temp2 = pd.concat([temp,stm],axis = 1)\n",
    "# temp2\n",
    "\n",
    "# sents = pre_df['review_pre']\n",
    "# stm = pd.concat([sents,stm],axis = 1)\n",
    "# stm # memory erroe\n"
   ]
  },
  {
   "cell_type": "code",
   "execution_count": 48,
   "metadata": {},
   "outputs": [
    {
     "data": {
      "text/plain": [
       "0          [really, boring, storyline, acting, sub, par, ...\n",
       "1          [film, many, dream, sequence, scare, time, som...\n",
       "2                                                 [thriller]\n",
       "3                                     [could, decent, movie]\n",
       "4          [made, movie, acting, bad, story, incredibly, ...\n",
       "                                 ...                        \n",
       "9073568    [picked, second, left, took, without, disappoi...\n",
       "9073569                 [disappointing, thing, lack, matrix]\n",
       "9073570    [enjoyable, thing, see, first, two, movie, wat...\n",
       "9073571     [truly, missed, final, installment, masterpiece]\n",
       "9073572                    [give, revolution, give, trilogy]\n",
       "Name: review_pre, Length: 9073573, dtype: object"
      ]
     },
     "execution_count": 48,
     "metadata": {},
     "output_type": "execute_result"
    }
   ],
   "source": [
    "from tqdm import tqdm\n",
    "tqdm.pandas()\n",
    "\n",
    "def stm_filler(row):\n",
    "    for word in row['review_pre']:\n",
    "        row[word] = 1\n",
    "    return row\n",
    "\n",
    "sents.progress_apply(lambda row: stm_filler(row),axis = 1)"
   ]
  },
  {
   "cell_type": "code",
   "execution_count": null,
   "metadata": {},
   "outputs": [
    {
     "name": "stderr",
     "output_type": "stream",
     "text": [
      "<ipython-input-16-4941c08ef83b>:7: PerformanceWarning: DataFrame is highly fragmented.  This is usually the result of calling `frame.insert` many times, which has poor performance.  Consider joining all columns at once using pd.concat(axis=1) instead.  To get a de-fragmented frame, use `newframe = frame.copy()`\n",
      "  sent[word] = 0\n"
     ]
    }
   ],
   "source": [
    "# stm 물리적으로 힘듦.\n",
    "\n",
    "# 1. sent 에다가 word2evec 단어 리스트를 컬럼으로 추가하는 법.\n",
    "\n",
    "# sents = pre_df['review_pre']\n",
    "# sent = sents.to_frame(name='sent')\n",
    "# sent\n",
    "\n",
    "\n",
    "# for word in w1:\n",
    "#     sent[word] = 0\n",
    "\n",
    "# temp_words = wordlist[:10]\n",
    "# for word in temp_words:\n",
    "#     sent[word] = 0"
   ]
  },
  {
   "cell_type": "code",
   "execution_count": 9,
   "metadata": {},
   "outputs": [
    {
     "data": {
      "text/html": [
       "<div>\n",
       "<style scoped>\n",
       "    .dataframe tbody tr th:only-of-type {\n",
       "        vertical-align: middle;\n",
       "    }\n",
       "\n",
       "    .dataframe tbody tr th {\n",
       "        vertical-align: top;\n",
       "    }\n",
       "\n",
       "    .dataframe thead th {\n",
       "        text-align: right;\n",
       "    }\n",
       "</style>\n",
       "<table border=\"1\" class=\"dataframe\">\n",
       "  <thead>\n",
       "    <tr style=\"text-align: right;\">\n",
       "      <th></th>\n",
       "      <th>really</th>\n",
       "      <th>boring</th>\n",
       "      <th>storyline</th>\n",
       "      <th>acting</th>\n",
       "      <th>sub</th>\n",
       "      <th>par</th>\n",
       "      <th>help</th>\n",
       "      <th>lol</th>\n",
       "      <th>every</th>\n",
       "      <th>time</th>\n",
       "      <th>...</th>\n",
       "      <th>gpm</th>\n",
       "      <th>gengar</th>\n",
       "      <th>benza</th>\n",
       "      <th>escanaba</th>\n",
       "      <th>gengars</th>\n",
       "      <th>redlichs</th>\n",
       "      <th>artiom</th>\n",
       "      <th>evvie</th>\n",
       "      <th>lykin</th>\n",
       "      <th>keinai</th>\n",
       "    </tr>\n",
       "  </thead>\n",
       "  <tbody>\n",
       "  </tbody>\n",
       "</table>\n",
       "<p>0 rows × 98331 columns</p>\n",
       "</div>"
      ],
      "text/plain": [
       "Empty DataFrame\n",
       "Columns: [really, boring, storyline, acting, sub, par, help, lol, every, time, molly, running, away, many, question, unanswered, like, earth, ending, take, advice, stay, one, film, dream, sequence, scare, something, suspenseful, scary, happens, real, life, cried, wolf, assume, fake, long, opportunity, scared, thriller, could, decent, movie, made, bad, story, incredibly, slow, ended, actual, horror, action, line, needed, premise, executed, much, better, basic, idea, lead, great, gave, fluff, version, chore, need, pay, attention, way, background, let, imagination, create, start, fan, strong, preference, towards, involving, ghost, haunting, exorcism, supernatural, feature, high, hope, title, poster, short, plot, teaser, pointed, another, missed, call, emily, rose, combining, ...]\n",
       "Index: []\n",
       "\n",
       "[0 rows x 98331 columns]"
      ]
     },
     "execution_count": 9,
     "metadata": {},
     "output_type": "execute_result"
    }
   ],
   "source": [
    "# 2. stm에대가 인덱스 추가\n",
    "\n",
    "stm"
   ]
  },
  {
   "cell_type": "code",
   "execution_count": 34,
   "metadata": {},
   "outputs": [
    {
     "ename": "MemoryError",
     "evalue": "Unable to allocate 6.49 TiB for an array with shape (9073573, 98331) and data type object",
     "output_type": "error",
     "traceback": [
      "\u001b[1;31m---------------------------------------------------------------------------\u001b[0m",
      "\u001b[1;31mMemoryError\u001b[0m                               Traceback (most recent call last)",
      "\u001b[1;32m<ipython-input-34-7e2c7feaa3f5>\u001b[0m in \u001b[0;36m<module>\u001b[1;34m\u001b[0m\n\u001b[1;32m----> 1\u001b[1;33m \u001b[0mstm\u001b[0m\u001b[1;33m[\u001b[0m\u001b[1;34m'sent'\u001b[0m\u001b[1;33m]\u001b[0m \u001b[1;33m=\u001b[0m \u001b[0mstm1\u001b[0m\u001b[1;33m\u001b[0m\u001b[1;33m\u001b[0m\u001b[0m\n\u001b[0m",
      "\u001b[1;32m~\\anaconda3\\lib\\site-packages\\pandas\\core\\frame.py\u001b[0m in \u001b[0;36m__setitem__\u001b[1;34m(self, key, value)\u001b[0m\n\u001b[0;32m   3600\u001b[0m             \u001b[0mself\u001b[0m\u001b[1;33m.\u001b[0m\u001b[0m_setitem_array\u001b[0m\u001b[1;33m(\u001b[0m\u001b[0mkey\u001b[0m\u001b[1;33m,\u001b[0m \u001b[0mvalue\u001b[0m\u001b[1;33m)\u001b[0m\u001b[1;33m\u001b[0m\u001b[1;33m\u001b[0m\u001b[0m\n\u001b[0;32m   3601\u001b[0m         \u001b[1;32melif\u001b[0m \u001b[0misinstance\u001b[0m\u001b[1;33m(\u001b[0m\u001b[0mvalue\u001b[0m\u001b[1;33m,\u001b[0m \u001b[0mDataFrame\u001b[0m\u001b[1;33m)\u001b[0m\u001b[1;33m:\u001b[0m\u001b[1;33m\u001b[0m\u001b[1;33m\u001b[0m\u001b[0m\n\u001b[1;32m-> 3602\u001b[1;33m             \u001b[0mself\u001b[0m\u001b[1;33m.\u001b[0m\u001b[0m_set_item_frame_value\u001b[0m\u001b[1;33m(\u001b[0m\u001b[0mkey\u001b[0m\u001b[1;33m,\u001b[0m \u001b[0mvalue\u001b[0m\u001b[1;33m)\u001b[0m\u001b[1;33m\u001b[0m\u001b[1;33m\u001b[0m\u001b[0m\n\u001b[0m\u001b[0;32m   3603\u001b[0m         elif (\n\u001b[0;32m   3604\u001b[0m             \u001b[0mis_list_like\u001b[0m\u001b[1;33m(\u001b[0m\u001b[0mvalue\u001b[0m\u001b[1;33m)\u001b[0m\u001b[1;33m\u001b[0m\u001b[1;33m\u001b[0m\u001b[0m\n",
      "\u001b[1;32m~\\anaconda3\\lib\\site-packages\\pandas\\core\\frame.py\u001b[0m in \u001b[0;36m_set_item_frame_value\u001b[1;34m(self, key, value)\u001b[0m\n\u001b[0;32m   3719\u001b[0m \u001b[1;33m\u001b[0m\u001b[0m\n\u001b[0;32m   3720\u001b[0m     \u001b[1;32mdef\u001b[0m \u001b[0m_set_item_frame_value\u001b[0m\u001b[1;33m(\u001b[0m\u001b[0mself\u001b[0m\u001b[1;33m,\u001b[0m \u001b[0mkey\u001b[0m\u001b[1;33m,\u001b[0m \u001b[0mvalue\u001b[0m\u001b[1;33m:\u001b[0m \u001b[0mDataFrame\u001b[0m\u001b[1;33m)\u001b[0m \u001b[1;33m->\u001b[0m \u001b[1;32mNone\u001b[0m\u001b[1;33m:\u001b[0m\u001b[1;33m\u001b[0m\u001b[1;33m\u001b[0m\u001b[0m\n\u001b[1;32m-> 3721\u001b[1;33m         \u001b[0mself\u001b[0m\u001b[1;33m.\u001b[0m\u001b[0m_ensure_valid_index\u001b[0m\u001b[1;33m(\u001b[0m\u001b[0mvalue\u001b[0m\u001b[1;33m)\u001b[0m\u001b[1;33m\u001b[0m\u001b[1;33m\u001b[0m\u001b[0m\n\u001b[0m\u001b[0;32m   3722\u001b[0m \u001b[1;33m\u001b[0m\u001b[0m\n\u001b[0;32m   3723\u001b[0m         \u001b[1;31m# align columns\u001b[0m\u001b[1;33m\u001b[0m\u001b[1;33m\u001b[0m\u001b[1;33m\u001b[0m\u001b[0m\n",
      "\u001b[1;32m~\\anaconda3\\lib\\site-packages\\pandas\\core\\frame.py\u001b[0m in \u001b[0;36m_ensure_valid_index\u001b[1;34m(self, value)\u001b[0m\n\u001b[0;32m   3856\u001b[0m                 \u001b[0mindex_copy\u001b[0m\u001b[1;33m.\u001b[0m\u001b[0mname\u001b[0m \u001b[1;33m=\u001b[0m \u001b[0mself\u001b[0m\u001b[1;33m.\u001b[0m\u001b[0mindex\u001b[0m\u001b[1;33m.\u001b[0m\u001b[0mname\u001b[0m\u001b[1;33m\u001b[0m\u001b[1;33m\u001b[0m\u001b[0m\n\u001b[0;32m   3857\u001b[0m \u001b[1;33m\u001b[0m\u001b[0m\n\u001b[1;32m-> 3858\u001b[1;33m             \u001b[0mself\u001b[0m\u001b[1;33m.\u001b[0m\u001b[0m_mgr\u001b[0m \u001b[1;33m=\u001b[0m \u001b[0mself\u001b[0m\u001b[1;33m.\u001b[0m\u001b[0m_mgr\u001b[0m\u001b[1;33m.\u001b[0m\u001b[0mreindex_axis\u001b[0m\u001b[1;33m(\u001b[0m\u001b[0mindex_copy\u001b[0m\u001b[1;33m,\u001b[0m \u001b[0maxis\u001b[0m\u001b[1;33m=\u001b[0m\u001b[1;36m1\u001b[0m\u001b[1;33m,\u001b[0m \u001b[0mfill_value\u001b[0m\u001b[1;33m=\u001b[0m\u001b[0mnp\u001b[0m\u001b[1;33m.\u001b[0m\u001b[0mnan\u001b[0m\u001b[1;33m)\u001b[0m\u001b[1;33m\u001b[0m\u001b[1;33m\u001b[0m\u001b[0m\n\u001b[0m\u001b[0;32m   3859\u001b[0m \u001b[1;33m\u001b[0m\u001b[0m\n\u001b[0;32m   3860\u001b[0m     \u001b[1;32mdef\u001b[0m \u001b[0m_box_col_values\u001b[0m\u001b[1;33m(\u001b[0m\u001b[0mself\u001b[0m\u001b[1;33m,\u001b[0m \u001b[0mvalues\u001b[0m\u001b[1;33m,\u001b[0m \u001b[0mloc\u001b[0m\u001b[1;33m:\u001b[0m \u001b[0mint\u001b[0m\u001b[1;33m)\u001b[0m \u001b[1;33m->\u001b[0m \u001b[0mSeries\u001b[0m\u001b[1;33m:\u001b[0m\u001b[1;33m\u001b[0m\u001b[1;33m\u001b[0m\u001b[0m\n",
      "\u001b[1;32m~\\anaconda3\\lib\\site-packages\\pandas\\core\\internals\\base.py\u001b[0m in \u001b[0;36mreindex_axis\u001b[1;34m(self, new_index, axis, fill_value, consolidate, only_slice)\u001b[0m\n\u001b[0;32m     87\u001b[0m         \u001b[0mnew_index\u001b[0m\u001b[1;33m,\u001b[0m \u001b[0mindexer\u001b[0m \u001b[1;33m=\u001b[0m \u001b[0mself\u001b[0m\u001b[1;33m.\u001b[0m\u001b[0maxes\u001b[0m\u001b[1;33m[\u001b[0m\u001b[0maxis\u001b[0m\u001b[1;33m]\u001b[0m\u001b[1;33m.\u001b[0m\u001b[0mreindex\u001b[0m\u001b[1;33m(\u001b[0m\u001b[0mnew_index\u001b[0m\u001b[1;33m)\u001b[0m\u001b[1;33m\u001b[0m\u001b[1;33m\u001b[0m\u001b[0m\n\u001b[0;32m     88\u001b[0m \u001b[1;33m\u001b[0m\u001b[0m\n\u001b[1;32m---> 89\u001b[1;33m         return self.reindex_indexer(\n\u001b[0m\u001b[0;32m     90\u001b[0m             \u001b[0mnew_index\u001b[0m\u001b[1;33m,\u001b[0m\u001b[1;33m\u001b[0m\u001b[1;33m\u001b[0m\u001b[0m\n\u001b[0;32m     91\u001b[0m             \u001b[0mindexer\u001b[0m\u001b[1;33m,\u001b[0m\u001b[1;33m\u001b[0m\u001b[1;33m\u001b[0m\u001b[0m\n",
      "\u001b[1;32m~\\anaconda3\\lib\\site-packages\\pandas\\core\\internals\\managers.py\u001b[0m in \u001b[0;36mreindex_indexer\u001b[1;34m(self, new_axis, indexer, axis, fill_value, allow_dups, copy, consolidate, only_slice)\u001b[0m\n\u001b[0;32m    678\u001b[0m             )\n\u001b[0;32m    679\u001b[0m         \u001b[1;32melse\u001b[0m\u001b[1;33m:\u001b[0m\u001b[1;33m\u001b[0m\u001b[1;33m\u001b[0m\u001b[0m\n\u001b[1;32m--> 680\u001b[1;33m             new_blocks = [\n\u001b[0m\u001b[0;32m    681\u001b[0m                 blk.take_nd(\n\u001b[0;32m    682\u001b[0m                     \u001b[0mindexer\u001b[0m\u001b[1;33m,\u001b[0m\u001b[1;33m\u001b[0m\u001b[1;33m\u001b[0m\u001b[0m\n",
      "\u001b[1;32m~\\anaconda3\\lib\\site-packages\\pandas\\core\\internals\\managers.py\u001b[0m in \u001b[0;36m<listcomp>\u001b[1;34m(.0)\u001b[0m\n\u001b[0;32m    679\u001b[0m         \u001b[1;32melse\u001b[0m\u001b[1;33m:\u001b[0m\u001b[1;33m\u001b[0m\u001b[1;33m\u001b[0m\u001b[0m\n\u001b[0;32m    680\u001b[0m             new_blocks = [\n\u001b[1;32m--> 681\u001b[1;33m                 blk.take_nd(\n\u001b[0m\u001b[0;32m    682\u001b[0m                     \u001b[0mindexer\u001b[0m\u001b[1;33m,\u001b[0m\u001b[1;33m\u001b[0m\u001b[1;33m\u001b[0m\u001b[0m\n\u001b[0;32m    683\u001b[0m                     \u001b[0maxis\u001b[0m\u001b[1;33m=\u001b[0m\u001b[1;36m1\u001b[0m\u001b[1;33m,\u001b[0m\u001b[1;33m\u001b[0m\u001b[1;33m\u001b[0m\u001b[0m\n",
      "\u001b[1;32m~\\anaconda3\\lib\\site-packages\\pandas\\core\\internals\\blocks.py\u001b[0m in \u001b[0;36mtake_nd\u001b[1;34m(self, indexer, axis, new_mgr_locs, fill_value)\u001b[0m\n\u001b[0;32m   1143\u001b[0m             \u001b[0mallow_fill\u001b[0m \u001b[1;33m=\u001b[0m \u001b[1;32mTrue\u001b[0m\u001b[1;33m\u001b[0m\u001b[1;33m\u001b[0m\u001b[0m\n\u001b[0;32m   1144\u001b[0m \u001b[1;33m\u001b[0m\u001b[0m\n\u001b[1;32m-> 1145\u001b[1;33m         new_values = algos.take_nd(\n\u001b[0m\u001b[0;32m   1146\u001b[0m             \u001b[0mvalues\u001b[0m\u001b[1;33m,\u001b[0m \u001b[0mindexer\u001b[0m\u001b[1;33m,\u001b[0m \u001b[0maxis\u001b[0m\u001b[1;33m=\u001b[0m\u001b[0maxis\u001b[0m\u001b[1;33m,\u001b[0m \u001b[0mallow_fill\u001b[0m\u001b[1;33m=\u001b[0m\u001b[0mallow_fill\u001b[0m\u001b[1;33m,\u001b[0m \u001b[0mfill_value\u001b[0m\u001b[1;33m=\u001b[0m\u001b[0mfill_value\u001b[0m\u001b[1;33m\u001b[0m\u001b[1;33m\u001b[0m\u001b[0m\n\u001b[0;32m   1147\u001b[0m         )\n",
      "\u001b[1;32m~\\anaconda3\\lib\\site-packages\\pandas\\core\\array_algos\\take.py\u001b[0m in \u001b[0;36mtake_nd\u001b[1;34m(arr, indexer, axis, fill_value, allow_fill)\u001b[0m\n\u001b[0;32m    106\u001b[0m \u001b[1;33m\u001b[0m\u001b[0m\n\u001b[0;32m    107\u001b[0m     \u001b[0marr\u001b[0m \u001b[1;33m=\u001b[0m \u001b[0mnp\u001b[0m\u001b[1;33m.\u001b[0m\u001b[0masarray\u001b[0m\u001b[1;33m(\u001b[0m\u001b[0marr\u001b[0m\u001b[1;33m)\u001b[0m\u001b[1;33m\u001b[0m\u001b[1;33m\u001b[0m\u001b[0m\n\u001b[1;32m--> 108\u001b[1;33m     \u001b[1;32mreturn\u001b[0m \u001b[0m_take_nd_ndarray\u001b[0m\u001b[1;33m(\u001b[0m\u001b[0marr\u001b[0m\u001b[1;33m,\u001b[0m \u001b[0mindexer\u001b[0m\u001b[1;33m,\u001b[0m \u001b[0maxis\u001b[0m\u001b[1;33m,\u001b[0m \u001b[0mfill_value\u001b[0m\u001b[1;33m,\u001b[0m \u001b[0mallow_fill\u001b[0m\u001b[1;33m)\u001b[0m\u001b[1;33m\u001b[0m\u001b[1;33m\u001b[0m\u001b[0m\n\u001b[0m\u001b[0;32m    109\u001b[0m \u001b[1;33m\u001b[0m\u001b[0m\n\u001b[0;32m    110\u001b[0m \u001b[1;33m\u001b[0m\u001b[0m\n",
      "\u001b[1;32m~\\anaconda3\\lib\\site-packages\\pandas\\core\\array_algos\\take.py\u001b[0m in \u001b[0;36m_take_nd_ndarray\u001b[1;34m(arr, indexer, axis, fill_value, allow_fill)\u001b[0m\n\u001b[0;32m    147\u001b[0m         \u001b[0mout\u001b[0m \u001b[1;33m=\u001b[0m \u001b[0mnp\u001b[0m\u001b[1;33m.\u001b[0m\u001b[0mempty\u001b[0m\u001b[1;33m(\u001b[0m\u001b[0mout_shape\u001b[0m\u001b[1;33m,\u001b[0m \u001b[0mdtype\u001b[0m\u001b[1;33m=\u001b[0m\u001b[0mdtype\u001b[0m\u001b[1;33m,\u001b[0m \u001b[0morder\u001b[0m\u001b[1;33m=\u001b[0m\u001b[1;34m\"F\"\u001b[0m\u001b[1;33m)\u001b[0m\u001b[1;33m\u001b[0m\u001b[1;33m\u001b[0m\u001b[0m\n\u001b[0;32m    148\u001b[0m     \u001b[1;32melse\u001b[0m\u001b[1;33m:\u001b[0m\u001b[1;33m\u001b[0m\u001b[1;33m\u001b[0m\u001b[0m\n\u001b[1;32m--> 149\u001b[1;33m         \u001b[0mout\u001b[0m \u001b[1;33m=\u001b[0m \u001b[0mnp\u001b[0m\u001b[1;33m.\u001b[0m\u001b[0mempty\u001b[0m\u001b[1;33m(\u001b[0m\u001b[0mout_shape\u001b[0m\u001b[1;33m,\u001b[0m \u001b[0mdtype\u001b[0m\u001b[1;33m=\u001b[0m\u001b[0mdtype\u001b[0m\u001b[1;33m)\u001b[0m\u001b[1;33m\u001b[0m\u001b[1;33m\u001b[0m\u001b[0m\n\u001b[0m\u001b[0;32m    150\u001b[0m \u001b[1;33m\u001b[0m\u001b[0m\n\u001b[0;32m    151\u001b[0m     func = _get_take_nd_function(\n",
      "\u001b[1;31mMemoryError\u001b[0m: Unable to allocate 6.49 TiB for an array with shape (9073573, 98331) and data type object"
     ]
    }
   ],
   "source": [
    "stm['sent'] = stm1"
   ]
  },
  {
   "cell_type": "code",
   "execution_count": 15,
   "metadata": {},
   "outputs": [
    {
     "ename": "MemoryError",
     "evalue": "Unable to allocate 45.8 GiB for an array with shape (153573, 80000) and data type int32",
     "output_type": "error",
     "traceback": [
      "\u001b[1;31m---------------------------------------------------------------------------\u001b[0m",
      "\u001b[1;31mMemoryError\u001b[0m                               Traceback (most recent call last)",
      "\u001b[1;32m<ipython-input-15-0c969999b033>\u001b[0m in \u001b[0;36m<module>\u001b[1;34m\u001b[0m\n\u001b[1;32m----> 1\u001b[1;33m \u001b[0mnp\u001b[0m\u001b[1;33m.\u001b[0m\u001b[0mzeros\u001b[0m\u001b[1;33m(\u001b[0m\u001b[1;33m(\u001b[0m\u001b[1;36m153573\u001b[0m\u001b[1;33m,\u001b[0m\u001b[1;36m80000\u001b[0m\u001b[1;33m)\u001b[0m\u001b[1;33m,\u001b[0m\u001b[0mdtype\u001b[0m\u001b[1;33m=\u001b[0m\u001b[0mint\u001b[0m\u001b[1;33m)\u001b[0m\u001b[1;33m\u001b[0m\u001b[1;33m\u001b[0m\u001b[0m\n\u001b[0m",
      "\u001b[1;31mMemoryError\u001b[0m: Unable to allocate 45.8 GiB for an array with shape (153573, 80000) and data type int32"
     ]
    }
   ],
   "source": [
    "np.zeros((153573,80000),dtype=int)"
   ]
  },
  {
   "cell_type": "code",
   "execution_count": 30,
   "metadata": {},
   "outputs": [
    {
     "data": {
      "text/html": [
       "<div>\n",
       "<style scoped>\n",
       "    .dataframe tbody tr th:only-of-type {\n",
       "        vertical-align: middle;\n",
       "    }\n",
       "\n",
       "    .dataframe tbody tr th {\n",
       "        vertical-align: top;\n",
       "    }\n",
       "\n",
       "    .dataframe thead th {\n",
       "        text-align: right;\n",
       "    }\n",
       "</style>\n",
       "<table border=\"1\" class=\"dataframe\">\n",
       "  <thead>\n",
       "    <tr style=\"text-align: right;\">\n",
       "      <th></th>\n",
       "      <th>0</th>\n",
       "    </tr>\n",
       "  </thead>\n",
       "  <tbody>\n",
       "    <tr>\n",
       "      <th>0</th>\n",
       "      <td>0</td>\n",
       "    </tr>\n",
       "    <tr>\n",
       "      <th>1</th>\n",
       "      <td>0</td>\n",
       "    </tr>\n",
       "    <tr>\n",
       "      <th>2</th>\n",
       "      <td>0</td>\n",
       "    </tr>\n",
       "    <tr>\n",
       "      <th>3</th>\n",
       "      <td>0</td>\n",
       "    </tr>\n",
       "    <tr>\n",
       "      <th>4</th>\n",
       "      <td>0</td>\n",
       "    </tr>\n",
       "    <tr>\n",
       "      <th>...</th>\n",
       "      <td>...</td>\n",
       "    </tr>\n",
       "    <tr>\n",
       "      <th>9073568</th>\n",
       "      <td>0</td>\n",
       "    </tr>\n",
       "    <tr>\n",
       "      <th>9073569</th>\n",
       "      <td>0</td>\n",
       "    </tr>\n",
       "    <tr>\n",
       "      <th>9073570</th>\n",
       "      <td>0</td>\n",
       "    </tr>\n",
       "    <tr>\n",
       "      <th>9073571</th>\n",
       "      <td>0</td>\n",
       "    </tr>\n",
       "    <tr>\n",
       "      <th>9073572</th>\n",
       "      <td>0</td>\n",
       "    </tr>\n",
       "  </tbody>\n",
       "</table>\n",
       "<p>9073573 rows × 1 columns</p>\n",
       "</div>"
      ],
      "text/plain": [
       "         0\n",
       "0        0\n",
       "1        0\n",
       "2        0\n",
       "3        0\n",
       "4        0\n",
       "...     ..\n",
       "9073568  0\n",
       "9073569  0\n",
       "9073570  0\n",
       "9073571  0\n",
       "9073572  0\n",
       "\n",
       "[9073573 rows x 1 columns]"
      ]
     },
     "execution_count": 30,
     "metadata": {},
     "output_type": "execute_result"
    }
   ],
   "source": [
    "zeros = np.zeros((9073573,1),dtype=int8)\n",
    "zeros.shape # (9073573, 1)\n",
    "\n",
    "stm1 = pd.DataFrame(data = zeros,columns )\n",
    "stm1"
   ]
  },
  {
   "cell_type": "code",
   "execution_count": 5,
   "metadata": {},
   "outputs": [
    {
     "ename": "MemoryError",
     "evalue": "Unable to allocate 761. GiB for an array with shape (9073573, 90000) and data type bool",
     "output_type": "error",
     "traceback": [
      "\u001b[1;31m---------------------------------------------------------------------------\u001b[0m",
      "\u001b[1;31mMemoryError\u001b[0m                               Traceback (most recent call last)",
      "\u001b[1;32m<ipython-input-5-10c3b034a027>\u001b[0m in \u001b[0;36m<module>\u001b[1;34m\u001b[0m\n\u001b[0;32m      1\u001b[0m \u001b[1;32mimport\u001b[0m \u001b[0mnumpy\u001b[0m \u001b[1;32mas\u001b[0m \u001b[0mnp\u001b[0m\u001b[1;33m\u001b[0m\u001b[1;33m\u001b[0m\u001b[0m\n\u001b[1;32m----> 2\u001b[1;33m \u001b[0mzeros\u001b[0m \u001b[1;33m=\u001b[0m \u001b[0mnp\u001b[0m\u001b[1;33m.\u001b[0m\u001b[0mzeros\u001b[0m\u001b[1;33m(\u001b[0m\u001b[1;33m(\u001b[0m\u001b[1;36m9073573\u001b[0m\u001b[1;33m,\u001b[0m\u001b[1;36m90000\u001b[0m\u001b[1;33m)\u001b[0m\u001b[1;33m,\u001b[0m\u001b[0mdtype\u001b[0m\u001b[1;33m=\u001b[0m\u001b[0mbool\u001b[0m\u001b[1;33m)\u001b[0m\u001b[1;33m\u001b[0m\u001b[1;33m\u001b[0m\u001b[0m\n\u001b[0m",
      "\u001b[1;31mMemoryError\u001b[0m: Unable to allocate 761. GiB for an array with shape (9073573, 90000) and data type bool"
     ]
    }
   ],
   "source": [
    "import numpy as np\n",
    "zeros = np.zeros((9073573,90000),dtype=bool)"
   ]
  },
  {
   "cell_type": "code",
   "execution_count": null,
   "metadata": {},
   "outputs": [],
   "source": []
  },
  {
   "cell_type": "code",
   "execution_count": 32,
   "metadata": {},
   "outputs": [],
   "source": [
    "# stm1.columns = stm.columns"
   ]
  },
  {
   "cell_type": "code",
   "execution_count": null,
   "metadata": {},
   "outputs": [],
   "source": [
    "stm"
   ]
  },
  {
   "cell_type": "code",
   "execution_count": 33,
   "metadata": {},
   "outputs": [],
   "source": [
    "# 모두 메모리 에러\n",
    "# stm['sent'] = sents"
   ]
  },
  {
   "cell_type": "code",
   "execution_count": null,
   "metadata": {},
   "outputs": [],
   "source": [
    "import os\n",
    "os.chdir(r'C:\\Users\\MinSeong\\Desktop\\movie_pred_code\\연관규칙으로 신뢰도 구하기')\n",
    "\n",
    "with open(\"\",'wb') as fw:\n",
    "    pickle.dump(sent,fw)\n",
    "\n",
    "with open(path,'rb') as fr:\n",
    "    review = pickle.load(fr)"
   ]
  },
  {
   "cell_type": "code",
   "execution_count": 50,
   "metadata": {},
   "outputs": [],
   "source": []
  },
  {
   "cell_type": "code",
   "execution_count": 46,
   "metadata": {},
   "outputs": [
    {
     "ename": "NameError",
     "evalue": "name 'temp2' is not defined",
     "output_type": "error",
     "traceback": [
      "\u001b[1;31m---------------------------------------------------------------------------\u001b[0m",
      "\u001b[1;31mNameError\u001b[0m                                 Traceback (most recent call last)",
      "\u001b[1;32m<ipython-input-46-bb38ea6392da>\u001b[0m in \u001b[0;36m<module>\u001b[1;34m\u001b[0m\n\u001b[0;32m      4\u001b[0m     \u001b[1;32mreturn\u001b[0m \u001b[0mrow\u001b[0m\u001b[1;33m\u001b[0m\u001b[1;33m\u001b[0m\u001b[0m\n\u001b[0;32m      5\u001b[0m \u001b[1;31m# pre_df['review_pre'].apply(lambda sent: stm_filler(sent))\u001b[0m\u001b[1;33m\u001b[0m\u001b[1;33m\u001b[0m\u001b[1;33m\u001b[0m\u001b[0m\n\u001b[1;32m----> 6\u001b[1;33m \u001b[0mtemp3\u001b[0m \u001b[1;33m=\u001b[0m \u001b[0mtemp2\u001b[0m\u001b[1;33m.\u001b[0m\u001b[0mapply\u001b[0m\u001b[1;33m(\u001b[0m\u001b[1;32mlambda\u001b[0m \u001b[0mrow\u001b[0m\u001b[1;33m:\u001b[0m \u001b[0mstm_filler\u001b[0m\u001b[1;33m(\u001b[0m\u001b[0mrow\u001b[0m\u001b[1;33m)\u001b[0m\u001b[1;33m,\u001b[0m\u001b[0maxis\u001b[0m \u001b[1;33m=\u001b[0m \u001b[1;36m1\u001b[0m\u001b[1;33m)\u001b[0m\u001b[1;33m\u001b[0m\u001b[1;33m\u001b[0m\u001b[0m\n\u001b[0m\u001b[0;32m      7\u001b[0m \u001b[0mtemp3\u001b[0m\u001b[1;33m\u001b[0m\u001b[1;33m\u001b[0m\u001b[0m\n",
      "\u001b[1;31mNameError\u001b[0m: name 'temp2' is not defined"
     ]
    }
   ],
   "source": [
    "# pilot은 작동\n",
    "def stm_filler(row):\n",
    "    for word in row['review_pre']:\n",
    "        row[word] = 1\n",
    "    return row\n",
    "# pre_df['review_pre'].apply(lambda sent: stm_filler(sent))\n",
    "temp3 = temp2.apply(lambda row: stm_filler(row),axis = 1)\n",
    "temp3"
   ]
  },
  {
   "cell_type": "markdown",
   "metadata": {},
   "source": [
    "# 2.(구) Word2Vec 으로 Lexicon 생성"
   ]
  },
  {
   "cell_type": "code",
   "execution_count": 3,
   "metadata": {},
   "outputs": [
    {
     "data": {
      "text/plain": [
       "98331"
      ]
     },
     "execution_count": 3,
     "metadata": {},
     "output_type": "execute_result"
    }
   ],
   "source": [
    "# 필요한 앞 코드들\n",
    "import os\n",
    "import pickle\n",
    "os.chdir(r'C:\\Users\\MinSeong\\Desktop\\movie_pred_code\\review2sent')\n",
    "\n",
    "# with open(\"pre_df\",'wb') as fw:\n",
    "#     pickle.dump(pre_df,fw)\n",
    "with open(\"pre_df\",'rb') as fr:\n",
    "    pre_df = pickle.load(fr)\n",
    "\n",
    "# word2vec input 저장\n",
    "\n",
    "# with open(\"w2vinput\",'wb') as fw:\n",
    "#     pickle.dump(sents,fw)\n",
    "with open(\"w2vinput\",'rb') as fr:\n",
    "    w2v_list = pickle.load(fr)\n",
    "    \n",
    "#word2vec 저장하는 코드 구현\n",
    "# model.save('word2vec.model') # 모델 저장\n",
    "\n",
    "\n",
    "from gensim.models import Word2Vec\n",
    "model = Word2Vec.load('word2vec.model')# 모델 로드\n",
    "model.wv['princess'] # 워드 벡터 구하기\n",
    "\n",
    "model.wv.similarity('princess', 'queen') #코사인 유사도 구하기\n",
    "model.wv.most_similar('princess') # 그냥 가장 가까운 것.. \n",
    "wordlist = list(model.wv.vocab)\n",
    "len(wordlist)\n",
    "\n"
   ]
  },
  {
   "cell_type": "code",
   "execution_count": 4,
   "metadata": {},
   "outputs": [],
   "source": [
    "aspects = ['actor','director','plot','music','movie']"
   ]
  },
  {
   "cell_type": "code",
   "execution_count": 11,
   "metadata": {},
   "outputs": [
    {
     "data": {
      "text/plain": [
       "[('jenniffer', 0.6698354482650757),\n",
       " ('houson', 0.6647664308547974),\n",
       " ('shinned', 0.6604071855545044),\n",
       " ('bover', 0.6570293307304382),\n",
       " ('connolley', 0.6551118493080139),\n",
       " ('conelley', 0.6541661620140076),\n",
       " ('eliana', 0.6540162563323975),\n",
       " ('phiefer', 0.653559684753418),\n",
       " ('actoris', 0.6514481902122498),\n",
       " ('kadee', 0.6506977081298828)]"
      ]
     },
     "execution_count": 11,
     "metadata": {},
     "output_type": "execute_result"
    }
   ],
   "source": [
    "model.wv.most_similar('actor')"
   ]
  },
  {
   "cell_type": "code",
   "execution_count": 12,
   "metadata": {},
   "outputs": [
    {
     "data": {
      "text/plain": [
       "[('saiorse', 0.6058735251426697),\n",
       " ('actor', 0.5953367948532104),\n",
       " ('performer', 0.5883694887161255),\n",
       " ('actess', 0.5819255113601685),\n",
       " ('gongli', 0.5655956864356995),\n",
       " ('scarlette', 0.5655820369720459),\n",
       " ('aacta', 0.562523365020752),\n",
       " ('renne', 0.5572347640991211),\n",
       " ('langoria', 0.5526324510574341),\n",
       " ('anjelina', 0.5490597486495972)]"
      ]
     },
     "execution_count": 12,
     "metadata": {},
     "output_type": "execute_result"
    }
   ],
   "source": [
    "model.wv.most_similar('actress')"
   ]
  },
  {
   "cell_type": "code",
   "execution_count": 13,
   "metadata": {},
   "outputs": [
    {
     "data": {
      "text/plain": [
       "[('performance', 0.6519007682800293),\n",
       " ('allround', 0.6030805110931396),\n",
       " ('cinemotography', 0.5976453423500061),\n",
       " ('ideasthe', 0.5945655107498169),\n",
       " ('badthis', 0.5920436978340149),\n",
       " ('everyoneelse', 0.5892877578735352),\n",
       " ('directing', 0.5729485750198364),\n",
       " ('speeler', 0.5703058838844299),\n",
       " ('actin', 0.568737804889679),\n",
       " ('soundtrackthe', 0.5681604146957397)]"
      ]
     },
     "execution_count": 13,
     "metadata": {},
     "output_type": "execute_result"
    }
   ],
   "source": [
    "model.wv.most_similar('acting')"
   ]
  },
  {
   "cell_type": "code",
   "execution_count": 14,
   "metadata": {},
   "outputs": [
    {
     "data": {
      "text/plain": [
       "[('acting', 0.6519007682800293),\n",
       " ('preformances', 0.6225371360778809),\n",
       " ('perfromance', 0.6181294322013855),\n",
       " ('portrayal', 0.611270010471344),\n",
       " ('performence', 0.6100676655769348),\n",
       " ('preformance', 0.6066598296165466),\n",
       " ('peformance', 0.6057099103927612),\n",
       " ('perfomance', 0.6037909984588623),\n",
       " ('supporting', 0.6018190383911133),\n",
       " ('oscarworthy', 0.600543737411499)]"
      ]
     },
     "execution_count": 14,
     "metadata": {},
     "output_type": "execute_result"
    }
   ],
   "source": [
    "model.wv.most_similar('performance')"
   ]
  },
  {
   "cell_type": "code",
   "execution_count": 10,
   "metadata": {},
   "outputs": [
    {
     "data": {
      "text/plain": [
       "[('filmmaker', 0.7081561088562012),\n",
       " ('writer', 0.6903160810470581),\n",
       " ('directorn', 0.6804816722869873),\n",
       " ('screenwriter', 0.6540942788124084),\n",
       " ('schummacher', 0.6506167650222778),\n",
       " ('directer', 0.632306694984436),\n",
       " ('storywriter', 0.6317312717437744),\n",
       " ('directorial', 0.628247857093811),\n",
       " ('sophmore', 0.6272552609443665),\n",
       " ('directore', 0.6262646913528442)]"
      ]
     },
     "execution_count": 10,
     "metadata": {},
     "output_type": "execute_result"
    }
   ],
   "source": [
    "model.wv.most_similar('director')"
   ]
  },
  {
   "cell_type": "code",
   "execution_count": 9,
   "metadata": {},
   "outputs": [
    {
     "data": {
      "text/plain": [
       "[('storyline', 0.7971652150154114),\n",
       " ('plotline', 0.6758462190628052),\n",
       " ('story', 0.6662873029708862),\n",
       " ('narrative', 0.5720534920692444),\n",
       " ('subplots', 0.5704355835914612),\n",
       " ('storyis', 0.5646334290504456),\n",
       " ('nill', 0.5590227842330933),\n",
       " ('convoluted', 0.5571399927139282),\n",
       " ('plotting', 0.5570393800735474),\n",
       " ('incongruencies', 0.5479859113693237)]"
      ]
     },
     "execution_count": 9,
     "metadata": {},
     "output_type": "execute_result"
    }
   ],
   "source": [
    "model.wv.most_similar('plot')"
   ]
  },
  {
   "cell_type": "code",
   "execution_count": 8,
   "metadata": {},
   "outputs": [
    {
     "data": {
      "text/plain": [
       "[('soundtrack', 0.8077976703643799),\n",
       " ('song', 0.7069955468177795),\n",
       " ('score', 0.6702513098716736),\n",
       " ('instrumentals', 0.6701306700706482),\n",
       " ('orchestral', 0.6402019262313843),\n",
       " ('tune', 0.6383492946624756),\n",
       " ('ost', 0.6378880739212036),\n",
       " ('enya', 0.6277502775192261),\n",
       " ('chowta', 0.6179693937301636),\n",
       " ('einaudi', 0.6153445243835449)]"
      ]
     },
     "execution_count": 8,
     "metadata": {},
     "output_type": "execute_result"
    }
   ],
   "source": [
    "model.wv.most_similar('music')"
   ]
  },
  {
   "cell_type": "code",
   "execution_count": 7,
   "metadata": {},
   "outputs": [
    {
     "data": {
      "text/plain": [
       "[('film', 0.8688172101974487),\n",
       " ('flick', 0.6520370244979858),\n",
       " ('one', 0.6315714716911316),\n",
       " ('enoyable', 0.6300520300865173),\n",
       " ('eighter', 0.6279406547546387),\n",
       " ('baasha', 0.6244592666625977),\n",
       " ('timei', 0.6151083111763),\n",
       " ('movieeeee', 0.6147053837776184),\n",
       " ('interestingi', 0.6086175441741943),\n",
       " ('didint', 0.6078051924705505)]"
      ]
     },
     "execution_count": 7,
     "metadata": {},
     "output_type": "execute_result"
    }
   ],
   "source": [
    "model.wv.most_similar('movie')"
   ]
  },
  {
   "cell_type": "code",
   "execution_count": 8,
   "metadata": {},
   "outputs": [
    {
     "data": {
      "text/plain": [
       "\"really boring storyline..the acting was sub-par and i couldn't help but to lol every time molly was running away.so many questions unanswered, like what on earth was that ending all about?take my advice and stay away from this one..\""
      ]
     },
     "execution_count": 8,
     "metadata": {},
     "output_type": "execute_result"
    }
   ],
   "source": [
    "pre_df['sent'].loc[0] # story, acting 모두 있음."
   ]
  },
  {
   "cell_type": "code",
   "execution_count": 9,
   "metadata": {},
   "outputs": [
    {
     "data": {
      "text/plain": [
       "\"this film has so many dream sequence scares that by the time something suspenseful and scary happens in real life, they've cried wolf so many times that you assume it's fake for so long that you don't have the opportunity to be scared.\""
      ]
     },
     "execution_count": 9,
     "metadata": {},
     "output_type": "execute_result"
    }
   ],
   "source": [
    "pre_df['sent'].loc[1]"
   ]
  },
  {
   "cell_type": "code",
   "execution_count": 10,
   "metadata": {},
   "outputs": [
    {
     "data": {
      "text/plain": [
       "'just a so-so thriller.'"
      ]
     },
     "execution_count": 10,
     "metadata": {},
     "output_type": "execute_result"
    }
   ],
   "source": [
    "pre_df['sent'].loc[2]"
   ]
  },
  {
   "cell_type": "code",
   "execution_count": 11,
   "metadata": {},
   "outputs": [
    {
     "data": {
      "text/plain": [
       "'this could have been a decent movie.'"
      ]
     },
     "execution_count": 11,
     "metadata": {},
     "output_type": "execute_result"
    }
   ],
   "source": [
    "pre_df['sent'].loc[3]"
   ]
  },
  {
   "cell_type": "code",
   "execution_count": 12,
   "metadata": {},
   "outputs": [
    {
     "data": {
      "text/plain": [
       "\"if it was a made for tv movie the acting wasn't too bad but the story was incredibly slow and there ended up being no actual horror or action.\""
      ]
     },
     "execution_count": 12,
     "metadata": {},
     "output_type": "execute_result"
    }
   ],
   "source": [
    "pre_df['sent'].loc[4]"
   ]
  },
  {
   "cell_type": "code",
   "execution_count": 18,
   "metadata": {},
   "outputs": [],
   "source": [
    "ex = pre_df['sent'].loc[:1000]\n",
    "import pandas as pd\n",
    "ex.to_csv(\"pre_df손으로태깅.csv\")"
   ]
  },
  {
   "cell_type": "code",
   "execution_count": 22,
   "metadata": {},
   "outputs": [
    {
     "data": {
      "text/html": [
       "<div>\n",
       "<style scoped>\n",
       "    .dataframe tbody tr th:only-of-type {\n",
       "        vertical-align: middle;\n",
       "    }\n",
       "\n",
       "    .dataframe tbody tr th {\n",
       "        vertical-align: top;\n",
       "    }\n",
       "\n",
       "    .dataframe thead th {\n",
       "        text-align: right;\n",
       "    }\n",
       "</style>\n",
       "<table border=\"1\" class=\"dataframe\">\n",
       "  <thead>\n",
       "    <tr style=\"text-align: right;\">\n",
       "      <th></th>\n",
       "      <th>Unnamed: 0</th>\n",
       "      <th>sent</th>\n",
       "      <th>Aspect(mo,act,pl,mu,d)</th>\n",
       "      <th>참고</th>\n",
       "    </tr>\n",
       "  </thead>\n",
       "  <tbody>\n",
       "    <tr>\n",
       "      <th>0</th>\n",
       "      <td>0</td>\n",
       "      <td>really boring storyline..the acting was sub-pa...</td>\n",
       "      <td>?</td>\n",
       "      <td>스토리, acting 다 있음</td>\n",
       "    </tr>\n",
       "    <tr>\n",
       "      <th>1</th>\n",
       "      <td>1</td>\n",
       "      <td>this film has so many dream sequence scares th...</td>\n",
       "      <td>mo</td>\n",
       "      <td>NaN</td>\n",
       "    </tr>\n",
       "    <tr>\n",
       "      <th>2</th>\n",
       "      <td>2</td>\n",
       "      <td>just a so-so thriller.</td>\n",
       "      <td>mo</td>\n",
       "      <td>NaN</td>\n",
       "    </tr>\n",
       "    <tr>\n",
       "      <th>3</th>\n",
       "      <td>3</td>\n",
       "      <td>this could have been a decent movie.</td>\n",
       "      <td>mo</td>\n",
       "      <td>NaN</td>\n",
       "    </tr>\n",
       "    <tr>\n",
       "      <th>4</th>\n",
       "      <td>4</td>\n",
       "      <td>if it was a made for tv movie the acting wasn'...</td>\n",
       "      <td>NaN</td>\n",
       "      <td>스토리, acting 다 있음</td>\n",
       "    </tr>\n",
       "    <tr>\n",
       "      <th>...</th>\n",
       "      <td>...</td>\n",
       "      <td>...</td>\n",
       "      <td>...</td>\n",
       "      <td>...</td>\n",
       "    </tr>\n",
       "    <tr>\n",
       "      <th>996</th>\n",
       "      <td>996</td>\n",
       "      <td>other aspects that make this so good are the l...</td>\n",
       "      <td>NaN</td>\n",
       "      <td>NaN</td>\n",
       "    </tr>\n",
       "    <tr>\n",
       "      <th>997</th>\n",
       "      <td>997</td>\n",
       "      <td>in my opinion this is one of the best horror m...</td>\n",
       "      <td>NaN</td>\n",
       "      <td>NaN</td>\n",
       "    </tr>\n",
       "    <tr>\n",
       "      <th>998</th>\n",
       "      <td>998</td>\n",
       "      <td>one of the worst movies ever made, as a matter...</td>\n",
       "      <td>NaN</td>\n",
       "      <td>NaN</td>\n",
       "    </tr>\n",
       "    <tr>\n",
       "      <th>999</th>\n",
       "      <td>999</td>\n",
       "      <td>the movie wants you to care for dumb protagoni...</td>\n",
       "      <td>NaN</td>\n",
       "      <td>NaN</td>\n",
       "    </tr>\n",
       "    <tr>\n",
       "      <th>1000</th>\n",
       "      <td>1000</td>\n",
       "      <td>don't waste your time.</td>\n",
       "      <td>NaN</td>\n",
       "      <td>NaN</td>\n",
       "    </tr>\n",
       "  </tbody>\n",
       "</table>\n",
       "<p>1001 rows × 4 columns</p>\n",
       "</div>"
      ],
      "text/plain": [
       "      Unnamed: 0                                               sent  \\\n",
       "0              0  really boring storyline..the acting was sub-pa...   \n",
       "1              1  this film has so many dream sequence scares th...   \n",
       "2              2                             just a so-so thriller.   \n",
       "3              3               this could have been a decent movie.   \n",
       "4              4  if it was a made for tv movie the acting wasn'...   \n",
       "...          ...                                                ...   \n",
       "996          996  other aspects that make this so good are the l...   \n",
       "997          997  in my opinion this is one of the best horror m...   \n",
       "998          998  one of the worst movies ever made, as a matter...   \n",
       "999          999  the movie wants you to care for dumb protagoni...   \n",
       "1000        1000                             don't waste your time.   \n",
       "\n",
       "     Aspect(mo,act,pl,mu,d)                참고  \n",
       "0                         ?  스토리, acting 다 있음  \n",
       "1                        mo               NaN  \n",
       "2                        mo               NaN  \n",
       "3                        mo               NaN  \n",
       "4                       NaN  스토리, acting 다 있음  \n",
       "...                     ...               ...  \n",
       "996                     NaN               NaN  \n",
       "997                     NaN               NaN  \n",
       "998                     NaN               NaN  \n",
       "999                     NaN               NaN  \n",
       "1000                    NaN               NaN  \n",
       "\n",
       "[1001 rows x 4 columns]"
      ]
     },
     "execution_count": 22,
     "metadata": {},
     "output_type": "execute_result"
    }
   ],
   "source": [
    "ex = pd.read_csv(\"pre_df손으로태깅.csv\", encoding= \"cp949\")\n",
    "ex"
   ]
  },
  {
   "cell_type": "code",
   "execution_count": 30,
   "metadata": {},
   "outputs": [
    {
     "data": {
      "text/plain": [
       "mo      62\n",
       "act     15\n",
       "pl      10\n",
       "x        5\n",
       "mp       4\n",
       "d        2\n",
       "?        1\n",
       "cat      1\n",
       "mu       1\n",
       "mooo     1\n",
       "Name: Aspect(mo,act,pl,mu,d), dtype: int64"
      ]
     },
     "execution_count": 30,
     "metadata": {},
     "output_type": "execute_result"
    }
   ],
   "source": [
    "sum(ex['Aspect(mo,act,pl,mu,d)'].value_counts())\n",
    "ex['Aspect(mo,act,pl,mu,d)'].value_counts()"
   ]
  },
  {
   "cell_type": "code",
   "execution_count": null,
   "metadata": {},
   "outputs": [],
   "source": [
    "# 1시간 600개 \n",
    "# 2시간 1200개 1000 * 10명 * 6일 = 6만 sent 태깅.. "
   ]
  },
  {
   "cell_type": "markdown",
   "metadata": {},
   "source": [
    "# w2v 단어로만 교체"
   ]
  },
  {
   "cell_type": "code",
   "execution_count": 37,
   "metadata": {},
   "outputs": [
    {
     "data": {
      "text/plain": [
       "[('monok', 0.6236617565155029),\n",
       " ('kaguya', 0.5797690749168396),\n",
       " ('kaurwaki', 0.5629929900169373),\n",
       " ('mononok', 0.5616949200630188),\n",
       " ('kida', 0.5568258166313171),\n",
       " ('mononoki', 0.5480681657791138),\n",
       " ('rapunzel', 0.5354401469230652),\n",
       " ('repunzel', 0.5348950624465942),\n",
       " ('princ', 0.5348613858222961),\n",
       " ('cagliostro', 0.5296638011932373)]"
      ]
     },
     "execution_count": 37,
     "metadata": {},
     "output_type": "execute_result"
    }
   ],
   "source": [
    "# 필요한 앞 코드들\n",
    "import os\n",
    "import pickle\n",
    "os.chdir(r'C:\\Users\\ywy\\Desktop\\min\\movie_pred\\w2v에 나온 단어로만 변환')\n",
    "\n",
    "# with open(\"pre_df\",'wb') as fw:\n",
    "#     pickle.dump(pre_df,fw)\n",
    "with open(\"pre_df\",'rb') as fr:\n",
    "    pre_df = pickle.load(fr)\n",
    "\n",
    "# word2vec     \n",
    "from gensim.models import Word2Vec\n",
    "model = Word2Vec.load('word2vec.model')# 모델 로드\n",
    "model.wv['princess'] # 워드 벡터 구하기\n",
    "\n",
    "model.wv.similarity('princess', 'queen') #코사인 유사도 구하기\n",
    "model.wv.most_similar('princess') # 그냥 가장 가까운 것.. \n",
    "# wordlist = list(model.wv.vocab)\n",
    "# len(wordlist)\n",
    "\n"
   ]
  },
  {
   "cell_type": "code",
   "execution_count": 41,
   "metadata": {},
   "outputs": [
    {
     "data": {
      "text/html": [
       "<div>\n",
       "<style scoped>\n",
       "    .dataframe tbody tr th:only-of-type {\n",
       "        vertical-align: middle;\n",
       "    }\n",
       "\n",
       "    .dataframe tbody tr th {\n",
       "        vertical-align: top;\n",
       "    }\n",
       "\n",
       "    .dataframe thead th {\n",
       "        text-align: right;\n",
       "    }\n",
       "</style>\n",
       "<table border=\"1\" class=\"dataframe\">\n",
       "  <thead>\n",
       "    <tr style=\"text-align: right;\">\n",
       "      <th></th>\n",
       "      <th>header</th>\n",
       "      <th>contents</th>\n",
       "      <th>star</th>\n",
       "      <th>helpful</th>\n",
       "      <th>in_n_weeks</th>\n",
       "      <th>Movie_code</th>\n",
       "      <th>sentiment</th>\n",
       "      <th>train</th>\n",
       "      <th>cleaned_contents</th>\n",
       "      <th>sents</th>\n",
       "      <th>doc_id</th>\n",
       "      <th>sent</th>\n",
       "      <th>remove_link_punc</th>\n",
       "      <th>review_pre</th>\n",
       "    </tr>\n",
       "  </thead>\n",
       "  <tbody>\n",
       "    <tr>\n",
       "      <th>0</th>\n",
       "      <td>Not worth your time!\\n</td>\n",
       "      <td>Really boring storyline..The acting was sub-pa...</td>\n",
       "      <td>0.3</td>\n",
       "      <td>['0 out of 1']</td>\n",
       "      <td>after 4 weeks</td>\n",
       "      <td>1045655</td>\n",
       "      <td>0</td>\n",
       "      <td>1</td>\n",
       "      <td>really boring storyline..the acting was sub-pa...</td>\n",
       "      <td>[really boring storyline..the acting was sub-p...</td>\n",
       "      <td>602902</td>\n",
       "      <td>really boring storyline..the acting was sub-pa...</td>\n",
       "      <td>really boring storyline the acting was sub par...</td>\n",
       "      <td>[really, boring, storyline, acting, sub, par, ...</td>\n",
       "    </tr>\n",
       "    <tr>\n",
       "      <th>1</th>\n",
       "      <td>not very scary\\n</td>\n",
       "      <td>This film has so many dream sequence scares th...</td>\n",
       "      <td>0.4</td>\n",
       "      <td>['0 out of 1']</td>\n",
       "      <td>after 4 weeks</td>\n",
       "      <td>1045655</td>\n",
       "      <td>0</td>\n",
       "      <td>1</td>\n",
       "      <td>this film has so many dream sequence scares th...</td>\n",
       "      <td>[this film has so many dream sequence scares t...</td>\n",
       "      <td>602903</td>\n",
       "      <td>this film has so many dream sequence scares th...</td>\n",
       "      <td>this film has so many dream sequence scares th...</td>\n",
       "      <td>[film, many, dream, sequence, scare, time, som...</td>\n",
       "    </tr>\n",
       "    <tr>\n",
       "      <th>2</th>\n",
       "      <td>not very scary\\n</td>\n",
       "      <td>This film has so many dream sequence scares th...</td>\n",
       "      <td>0.4</td>\n",
       "      <td>['0 out of 1']</td>\n",
       "      <td>after 4 weeks</td>\n",
       "      <td>1045655</td>\n",
       "      <td>0</td>\n",
       "      <td>1</td>\n",
       "      <td>this film has so many dream sequence scares th...</td>\n",
       "      <td>[this film has so many dream sequence scares t...</td>\n",
       "      <td>602903</td>\n",
       "      <td>just a so-so thriller.</td>\n",
       "      <td>just a so so thriller</td>\n",
       "      <td>[thriller]</td>\n",
       "    </tr>\n",
       "    <tr>\n",
       "      <th>3</th>\n",
       "      <td>A poorly executed made for TV horror movie\\n</td>\n",
       "      <td>This could have been a decent movie. If it was...</td>\n",
       "      <td>0.4</td>\n",
       "      <td>['0 out of 1']</td>\n",
       "      <td>after 4 weeks</td>\n",
       "      <td>1045655</td>\n",
       "      <td>0</td>\n",
       "      <td>1</td>\n",
       "      <td>this could have been a decent movie. if it was...</td>\n",
       "      <td>[this could have been a decent movie., if it w...</td>\n",
       "      <td>602904</td>\n",
       "      <td>this could have been a decent movie.</td>\n",
       "      <td>this could have been a decent movie</td>\n",
       "      <td>[could, decent, movie]</td>\n",
       "    </tr>\n",
       "    <tr>\n",
       "      <th>4</th>\n",
       "      <td>A poorly executed made for TV horror movie\\n</td>\n",
       "      <td>This could have been a decent movie. If it was...</td>\n",
       "      <td>0.4</td>\n",
       "      <td>['0 out of 1']</td>\n",
       "      <td>after 4 weeks</td>\n",
       "      <td>1045655</td>\n",
       "      <td>0</td>\n",
       "      <td>1</td>\n",
       "      <td>this could have been a decent movie. if it was...</td>\n",
       "      <td>[this could have been a decent movie., if it w...</td>\n",
       "      <td>602904</td>\n",
       "      <td>if it was a made for tv movie the acting wasn'...</td>\n",
       "      <td>if it was a made for tv movie the acting wasn ...</td>\n",
       "      <td>[made, movie, acting, bad, story, incredibly, ...</td>\n",
       "    </tr>\n",
       "    <tr>\n",
       "      <th>...</th>\n",
       "      <td>...</td>\n",
       "      <td>...</td>\n",
       "      <td>...</td>\n",
       "      <td>...</td>\n",
       "      <td>...</td>\n",
       "      <td>...</td>\n",
       "      <td>...</td>\n",
       "      <td>...</td>\n",
       "      <td>...</td>\n",
       "      <td>...</td>\n",
       "      <td>...</td>\n",
       "      <td>...</td>\n",
       "      <td>...</td>\n",
       "      <td>...</td>\n",
       "    </tr>\n",
       "    <tr>\n",
       "      <th>9073568</th>\n",
       "      <td>Neo tries to save the human race from the mac...</td>\n",
       "      <td>The story of the movie was told very well.  I ...</td>\n",
       "      <td>0.8</td>\n",
       "      <td>['0 out of 0']</td>\n",
       "      <td>1</td>\n",
       "      <td>0242653</td>\n",
       "      <td>1</td>\n",
       "      <td>1</td>\n",
       "      <td>the story of the movie was told very well.  i ...</td>\n",
       "      <td>[the story of the movie was told very well., i...</td>\n",
       "      <td>205926</td>\n",
       "      <td>it picked up were the second left off, and too...</td>\n",
       "      <td>it picked up were the second left off and took...</td>\n",
       "      <td>[picked, second, left, took, without, disappoi...</td>\n",
       "    </tr>\n",
       "    <tr>\n",
       "      <th>9073569</th>\n",
       "      <td>Neo tries to save the human race from the mac...</td>\n",
       "      <td>The story of the movie was told very well.  I ...</td>\n",
       "      <td>0.8</td>\n",
       "      <td>['0 out of 0']</td>\n",
       "      <td>1</td>\n",
       "      <td>0242653</td>\n",
       "      <td>1</td>\n",
       "      <td>1</td>\n",
       "      <td>the story of the movie was told very well.  i ...</td>\n",
       "      <td>[the story of the movie was told very well., i...</td>\n",
       "      <td>205926</td>\n",
       "      <td>the only disappointing thing to me was the lac...</td>\n",
       "      <td>the only disappointing thing to me was the lac...</td>\n",
       "      <td>[disappointing, thing, lack, matrix]</td>\n",
       "    </tr>\n",
       "    <tr>\n",
       "      <th>9073570</th>\n",
       "      <td>Neo tries to save the human race from the mac...</td>\n",
       "      <td>The story of the movie was told very well.  I ...</td>\n",
       "      <td>0.8</td>\n",
       "      <td>['0 out of 0']</td>\n",
       "      <td>1</td>\n",
       "      <td>0242653</td>\n",
       "      <td>1</td>\n",
       "      <td>1</td>\n",
       "      <td>the story of the movie was told very well.  i ...</td>\n",
       "      <td>[the story of the movie was told very well., i...</td>\n",
       "      <td>205926</td>\n",
       "      <td>the most enjoyable thing to see in the first t...</td>\n",
       "      <td>the most enjoyable thing to see in the first t...</td>\n",
       "      <td>[enjoyable, thing, see, first, two, movie, wat...</td>\n",
       "    </tr>\n",
       "    <tr>\n",
       "      <th>9073571</th>\n",
       "      <td>Neo tries to save the human race from the mac...</td>\n",
       "      <td>The story of the movie was told very well.  I ...</td>\n",
       "      <td>0.8</td>\n",
       "      <td>['0 out of 0']</td>\n",
       "      <td>1</td>\n",
       "      <td>0242653</td>\n",
       "      <td>1</td>\n",
       "      <td>1</td>\n",
       "      <td>the story of the movie was told very well.  i ...</td>\n",
       "      <td>[the story of the movie was told very well., i...</td>\n",
       "      <td>205926</td>\n",
       "      <td>they were truly missed from this, the final in...</td>\n",
       "      <td>they were truly missed from this the final ins...</td>\n",
       "      <td>[truly, missed, final, installment, masterpiece]</td>\n",
       "    </tr>\n",
       "    <tr>\n",
       "      <th>9073572</th>\n",
       "      <td>Neo tries to save the human race from the mac...</td>\n",
       "      <td>The story of the movie was told very well.  I ...</td>\n",
       "      <td>0.8</td>\n",
       "      <td>['0 out of 0']</td>\n",
       "      <td>1</td>\n",
       "      <td>0242653</td>\n",
       "      <td>1</td>\n",
       "      <td>1</td>\n",
       "      <td>the story of the movie was told very well.  i ...</td>\n",
       "      <td>[the story of the movie was told very well., i...</td>\n",
       "      <td>205926</td>\n",
       "      <td>all in all i give revolutions a 6.5 out of 10....</td>\n",
       "      <td>all in all i give revolutions a out of i give ...</td>\n",
       "      <td>[give, revolution, give, trilogy]</td>\n",
       "    </tr>\n",
       "  </tbody>\n",
       "</table>\n",
       "<p>9073573 rows × 14 columns</p>\n",
       "</div>"
      ],
      "text/plain": [
       "                                                    header  \\\n",
       "0                                   Not worth your time!\\n   \n",
       "1                                         not very scary\\n   \n",
       "2                                         not very scary\\n   \n",
       "3             A poorly executed made for TV horror movie\\n   \n",
       "4             A poorly executed made for TV horror movie\\n   \n",
       "...                                                    ...   \n",
       "9073568   Neo tries to save the human race from the mac...   \n",
       "9073569   Neo tries to save the human race from the mac...   \n",
       "9073570   Neo tries to save the human race from the mac...   \n",
       "9073571   Neo tries to save the human race from the mac...   \n",
       "9073572   Neo tries to save the human race from the mac...   \n",
       "\n",
       "                                                  contents  star  \\\n",
       "0        Really boring storyline..The acting was sub-pa...   0.3   \n",
       "1        This film has so many dream sequence scares th...   0.4   \n",
       "2        This film has so many dream sequence scares th...   0.4   \n",
       "3        This could have been a decent movie. If it was...   0.4   \n",
       "4        This could have been a decent movie. If it was...   0.4   \n",
       "...                                                    ...   ...   \n",
       "9073568  The story of the movie was told very well.  I ...   0.8   \n",
       "9073569  The story of the movie was told very well.  I ...   0.8   \n",
       "9073570  The story of the movie was told very well.  I ...   0.8   \n",
       "9073571  The story of the movie was told very well.  I ...   0.8   \n",
       "9073572  The story of the movie was told very well.  I ...   0.8   \n",
       "\n",
       "                helpful     in_n_weeks Movie_code sentiment train  \\\n",
       "0        ['0 out of 1']  after 4 weeks    1045655         0     1   \n",
       "1        ['0 out of 1']  after 4 weeks    1045655         0     1   \n",
       "2        ['0 out of 1']  after 4 weeks    1045655         0     1   \n",
       "3        ['0 out of 1']  after 4 weeks    1045655         0     1   \n",
       "4        ['0 out of 1']  after 4 weeks    1045655         0     1   \n",
       "...                 ...            ...        ...       ...   ...   \n",
       "9073568  ['0 out of 0']              1    0242653         1     1   \n",
       "9073569  ['0 out of 0']              1    0242653         1     1   \n",
       "9073570  ['0 out of 0']              1    0242653         1     1   \n",
       "9073571  ['0 out of 0']              1    0242653         1     1   \n",
       "9073572  ['0 out of 0']              1    0242653         1     1   \n",
       "\n",
       "                                          cleaned_contents  \\\n",
       "0        really boring storyline..the acting was sub-pa...   \n",
       "1        this film has so many dream sequence scares th...   \n",
       "2        this film has so many dream sequence scares th...   \n",
       "3        this could have been a decent movie. if it was...   \n",
       "4        this could have been a decent movie. if it was...   \n",
       "...                                                    ...   \n",
       "9073568  the story of the movie was told very well.  i ...   \n",
       "9073569  the story of the movie was told very well.  i ...   \n",
       "9073570  the story of the movie was told very well.  i ...   \n",
       "9073571  the story of the movie was told very well.  i ...   \n",
       "9073572  the story of the movie was told very well.  i ...   \n",
       "\n",
       "                                                     sents  doc_id  \\\n",
       "0        [really boring storyline..the acting was sub-p...  602902   \n",
       "1        [this film has so many dream sequence scares t...  602903   \n",
       "2        [this film has so many dream sequence scares t...  602903   \n",
       "3        [this could have been a decent movie., if it w...  602904   \n",
       "4        [this could have been a decent movie., if it w...  602904   \n",
       "...                                                    ...     ...   \n",
       "9073568  [the story of the movie was told very well., i...  205926   \n",
       "9073569  [the story of the movie was told very well., i...  205926   \n",
       "9073570  [the story of the movie was told very well., i...  205926   \n",
       "9073571  [the story of the movie was told very well., i...  205926   \n",
       "9073572  [the story of the movie was told very well., i...  205926   \n",
       "\n",
       "                                                      sent  \\\n",
       "0        really boring storyline..the acting was sub-pa...   \n",
       "1        this film has so many dream sequence scares th...   \n",
       "2                                   just a so-so thriller.   \n",
       "3                     this could have been a decent movie.   \n",
       "4        if it was a made for tv movie the acting wasn'...   \n",
       "...                                                    ...   \n",
       "9073568  it picked up were the second left off, and too...   \n",
       "9073569  the only disappointing thing to me was the lac...   \n",
       "9073570  the most enjoyable thing to see in the first t...   \n",
       "9073571  they were truly missed from this, the final in...   \n",
       "9073572  all in all i give revolutions a 6.5 out of 10....   \n",
       "\n",
       "                                          remove_link_punc  \\\n",
       "0        really boring storyline the acting was sub par...   \n",
       "1        this film has so many dream sequence scares th...   \n",
       "2                                   just a so so thriller    \n",
       "3                     this could have been a decent movie    \n",
       "4        if it was a made for tv movie the acting wasn ...   \n",
       "...                                                    ...   \n",
       "9073568  it picked up were the second left off and took...   \n",
       "9073569  the only disappointing thing to me was the lac...   \n",
       "9073570  the most enjoyable thing to see in the first t...   \n",
       "9073571  they were truly missed from this the final ins...   \n",
       "9073572  all in all i give revolutions a out of i give ...   \n",
       "\n",
       "                                                review_pre  \n",
       "0        [really, boring, storyline, acting, sub, par, ...  \n",
       "1        [film, many, dream, sequence, scare, time, som...  \n",
       "2                                               [thriller]  \n",
       "3                                   [could, decent, movie]  \n",
       "4        [made, movie, acting, bad, story, incredibly, ...  \n",
       "...                                                    ...  \n",
       "9073568  [picked, second, left, took, without, disappoi...  \n",
       "9073569               [disappointing, thing, lack, matrix]  \n",
       "9073570  [enjoyable, thing, see, first, two, movie, wat...  \n",
       "9073571   [truly, missed, final, installment, masterpiece]  \n",
       "9073572                  [give, revolution, give, trilogy]  \n",
       "\n",
       "[9073573 rows x 14 columns]"
      ]
     },
     "execution_count": 41,
     "metadata": {},
     "output_type": "execute_result"
    }
   ],
   "source": [
    "pre_df"
   ]
  },
  {
   "cell_type": "code",
   "execution_count": 42,
   "metadata": {},
   "outputs": [],
   "source": [
    "wordlist = model.wv.index_to_key\n",
    "# wordlist"
   ]
  },
  {
   "cell_type": "code",
   "execution_count": 43,
   "metadata": {},
   "outputs": [
    {
     "data": {
      "text/plain": [
       "98331"
      ]
     },
     "execution_count": 43,
     "metadata": {},
     "output_type": "execute_result"
    }
   ],
   "source": [
    "len(model.wv.index_to_key) # word2vec 에 학습된 단어 수 74858"
   ]
  },
  {
   "cell_type": "code",
   "execution_count": 44,
   "metadata": {},
   "outputs": [
    {
     "name": "stderr",
     "output_type": "stream",
     "text": [
      "100%|████████████████████████████████████████████████████████████████████| 9073573/9073573 [00:11<00:00, 762593.74it/s]\n"
     ]
    },
    {
     "data": {
      "text/plain": [
       "0          None\n",
       "1          None\n",
       "2          None\n",
       "3          None\n",
       "4          None\n",
       "           ... \n",
       "9073568    None\n",
       "9073569    None\n",
       "9073570    None\n",
       "9073571    None\n",
       "9073572    None\n",
       "Name: review_pre, Length: 9073573, dtype: object"
      ]
     },
     "execution_count": 44,
     "metadata": {},
     "output_type": "execute_result"
    }
   ],
   "source": [
    "# 총 단어 수 세기\n",
    "\n",
    "mtli = []\n",
    "\n",
    "\n",
    "from tqdm import tqdm\n",
    "tqdm.pandas()\n",
    "\n",
    "pre_df['review_pre'].progress_apply(lambda vocli: mtli.extend(vocli))"
   ]
  },
  {
   "cell_type": "code",
   "execution_count": 45,
   "metadata": {},
   "outputs": [
    {
     "data": {
      "text/plain": [
       "312109"
      ]
     },
     "execution_count": 45,
     "metadata": {},
     "output_type": "execute_result"
    }
   ],
   "source": [
    "len(set(mtli)) # word2vec 단어 제거하기 전 단어 수 248789"
   ]
  },
  {
   "cell_type": "markdown",
   "metadata": {},
   "source": [
    "wordlist## word2vec의 단어들로만 추리기"
   ]
  },
  {
   "cell_type": "code",
   "execution_count": 46,
   "metadata": {},
   "outputs": [],
   "source": [
    "# word2vec vocab\n",
    "wordlist = model.wv.index_to_key"
   ]
  },
  {
   "cell_type": "code",
   "execution_count": null,
   "metadata": {},
   "outputs": [],
   "source": [
    "# 기본 컨셉\n",
    "voc_list = ['maxmlitanousi','movie'] # movie는 왜 남음..? movi 되어야하지 않나. movie가 멘션에서 살아남음.\n",
    "for word in voc_list:\n",
    "#         print('voc_list',voc_list)\n",
    "        if word not in wordlist:\n",
    "            print(word)\n",
    "            print(\"before:\",voc_list)\n",
    "            voc_list.remove(word)\n",
    "            print(\"after:\",voc_list)\n",
    "print(voc_list)"
   ]
  },
  {
   "cell_type": "code",
   "execution_count": null,
   "metadata": {},
   "outputs": [],
   "source": [
    "# # # 예시\n",
    "\n",
    "# 이 코드는.. 기존  row['review_pre']의 코드도 지워버림. 왜? 깊은복사로 짜서. 아래 셀처럼 해야함.\n",
    "\n",
    "# def w2v_vocab(row):\n",
    "# #     print(row)\n",
    "#     voc_list = row['review_pre']\n",
    "#     for word in voc_list:\n",
    "# #         print('voc_list',voc_list)\n",
    "#         if word not in wordlist:\n",
    "# #             print(word)\n",
    "#             print(\"before:\",voc_list)\n",
    "#             voc_list.remove(word)\n",
    "#             print(\"after:\",voc_list)\n",
    "#             print(\"index\",row['index'])\n",
    "#         else:\n",
    "#             pass\n",
    "#     return voc_list\n",
    "\n",
    "# from tqdm import tqdm\n",
    "# tqdm.pandas()\n",
    "\n",
    "# temp = pre_df.loc[30000:60900]\n",
    "# #인덱스 부여\n",
    "# temp.reset_index(drop = True,inplace = True)\n",
    "# temp.reset_index(inplace = True)\n",
    "# temp\n",
    "\n",
    "# temp['w2v_review'] = temp.progress_apply(lambda row: w2v_vocab(row),axis = 1)"
   ]
  },
  {
   "cell_type": "code",
   "execution_count": null,
   "metadata": {},
   "outputs": [],
   "source": [
    "pre_df['review_pre'].loc[0]"
   ]
  },
  {
   "cell_type": "code",
   "execution_count": 24,
   "metadata": {},
   "outputs": [
    {
     "name": "stderr",
     "output_type": "stream",
     "text": [
      "100%|██████████████████████████████████████████████████████████████████████| 9073573/9073573 [32:18<00:00, 4680.34it/s]\n"
     ]
    }
   ],
   "source": [
    "# # [원본]얕은 복사로 짠 코드 --> 일부만 떼어서 해보기. --> 쓰지 말기.\n",
    "# import copy\n",
    "\n",
    "# def w2v_vocab(row):\n",
    "# #     print(row)\n",
    "#     voc_list = row['review_pre'].copy() # 얕은 복사\n",
    "#     for word in voc_list:\n",
    "# #         print('voc_list',voc_list)\n",
    "#         if word not in wordlist:\n",
    "# #             print(word)\n",
    "# #             print(\"before:\",voc_list)\n",
    "#             voc_list.remove(word)\n",
    "# #             print(\"after:\",voc_list)\n",
    "# #             print(\"index\",row['index'])\n",
    "#         else:\n",
    "#             pass\n",
    "#     return voc_list\n",
    "\n",
    "# from tqdm import tqdm\n",
    "# tqdm.pandas()\n",
    "\n",
    "# # temp = pre_df.loc[30000:60900]\n",
    "# #인덱스 부여\n",
    "# pre_df.reset_index(drop = True,inplace = True)\n",
    "\n",
    "# # word2vec vocab에 있는 단어로만 나타내기\n",
    "# pre_df['w2v_review'] = pre_df.progress_apply(lambda row: w2v_vocab(row),axis = 1)\n",
    "\n",
    "# # temp['w2v_review'] = temp.progress_apply(lambda row: w2v_vocab(row),axis = 1)"
   ]
  },
  {
   "cell_type": "code",
   "execution_count": 68,
   "metadata": {},
   "outputs": [
    {
     "ename": "TypeError",
     "evalue": "'builtin_function_or_method' object is not subscriptable",
     "output_type": "error",
     "traceback": [
      "\u001b[1;31m---------------------------------------------------------------------------\u001b[0m",
      "\u001b[1;31mTypeError\u001b[0m                                 Traceback (most recent call last)",
      "\u001b[1;32m<ipython-input-68-856f50b5be54>\u001b[0m in \u001b[0;36m<module>\u001b[1;34m\u001b[0m\n\u001b[0;32m      1\u001b[0m \u001b[0ma\u001b[0m \u001b[1;33m=\u001b[0m \u001b[1;33m[\u001b[0m\u001b[1;34m\"ab\"\u001b[0m\u001b[1;33m,\u001b[0m\u001b[1;34m\"bc\"\u001b[0m\u001b[1;33m,\u001b[0m\u001b[1;34m\"remain\"\u001b[0m\u001b[1;33m,\u001b[0m\u001b[1;34m\"die\"\u001b[0m\u001b[1;33m]\u001b[0m\u001b[1;33m\u001b[0m\u001b[1;33m\u001b[0m\u001b[0m\n\u001b[0;32m      2\u001b[0m \u001b[0mb\u001b[0m \u001b[1;33m=\u001b[0m \u001b[1;33m[\u001b[0m\u001b[1;36m0\u001b[0m\u001b[1;33m,\u001b[0m\u001b[1;36m1\u001b[0m\u001b[1;33m,\u001b[0m\u001b[1;36m3\u001b[0m\u001b[1;33m]\u001b[0m\u001b[1;33m\u001b[0m\u001b[1;33m\u001b[0m\u001b[0m\n\u001b[1;32m----> 3\u001b[1;33m \u001b[0ma\u001b[0m\u001b[1;33m.\u001b[0m\u001b[0mremove\u001b[0m\u001b[1;33m[\u001b[0m\u001b[0mb\u001b[0m\u001b[1;33m]\u001b[0m\u001b[1;33m\u001b[0m\u001b[1;33m\u001b[0m\u001b[0m\n\u001b[0m",
      "\u001b[1;31mTypeError\u001b[0m: 'builtin_function_or_method' object is not subscriptable"
     ]
    }
   ],
   "source": [
    "a = [\"ab\",\"bc\",\"remain\",\"die\"]\n",
    "b = [0,1,3]\n"
   ]
  },
  {
   "cell_type": "code",
   "execution_count": 74,
   "metadata": {},
   "outputs": [
    {
     "name": "stdout",
     "output_type": "stream",
     "text": [
      "yas\n"
     ]
    }
   ],
   "source": [
    "remove_word = [1]\n",
    "if not (len(remove_word) == 0):\n",
    "    print('yas')"
   ]
  },
  {
   "cell_type": "code",
   "execution_count": 47,
   "metadata": {},
   "outputs": [
    {
     "name": "stderr",
     "output_type": "stream",
     "text": [
      "100%|████████████████████████████████████████████████████████████████████| 9073573/9073573 [1:01:01<00:00, 2478.12it/s]\n"
     ]
    }
   ],
   "source": [
    "# [복사본]얕은 복사로 짠 코드 --> 일부만 떼어서 해보기.\n",
    "temp = pre_df.loc[100:300]\n",
    "\n",
    "import copy\n",
    "\n",
    "# def w2v_vocab(row):\n",
    "# #     print(row)\n",
    "#     voc_list = row['review_pre'].copy() # 얕은 복사\n",
    "#     for i in range(len(voc_list)): # 인덱스로 반복하며 지울때 바로 지우면 안됨. 인덱스가 자꾸 바뀌어, 각주구검임.\n",
    "# #         print('voc_list',voc_list)\n",
    "#         if voc_list[i] not in wordlist:\n",
    "# #             print(word)\n",
    "# #             print(\"before:\",voc_list)\n",
    "#             voc_list.remove(word)\n",
    "# #             print(\"after:\",voc_list)\n",
    "# #             print(\"index\",row['index'])\n",
    "#         else:\n",
    "#             pass\n",
    "#     return voc_list\n",
    "\n",
    "# 아래 코드 성공.\n",
    "def w2v_vocab(row):\n",
    "#     print(row)\n",
    "    voc_list = row['review_pre'].copy()# 얕은 복사\n",
    "    remove_word_li = []\n",
    "    for word in voc_list: \n",
    "#         print('voc_list',voc_list)\n",
    "        if word not in wordlist:\n",
    "#             print(word)\n",
    "#             print(\"before:\",voc_list)\n",
    "              remove_word_li.append(word)\n",
    "#             print(\"after:\",voc_list)\n",
    "#             print(\"index\",row['index'])\n",
    "        else:\n",
    "            pass\n",
    "    if not (len(remove_word_li)==0):\n",
    "        for remove_word in remove_word_li:\n",
    "            voc_list.remove(remove_word)\n",
    "    else:\n",
    "        pass\n",
    "        \n",
    "    return voc_list\n",
    "\n",
    "\n",
    "from tqdm import tqdm\n",
    "tqdm.pandas()\n",
    "\n",
    "\n",
    "#인덱스 부여\n",
    "pre_df.reset_index(drop = True,inplace = True)\n",
    "# temp.reset_index(drop = True,inplace = True)\n",
    "\n",
    "# word2vec vocab에 있는 단어로만 나타내기\n",
    "pre_df['w2v_review'] = pre_df.progress_apply(lambda row: w2v_vocab(row),axis = 1)\n",
    "\n",
    "# temp['w2v_review'] = temp.progress_apply(lambda row: w2v_vocab(row),axis = 1)"
   ]
  },
  {
   "cell_type": "code",
   "execution_count": null,
   "metadata": {},
   "outputs": [],
   "source": [
    "temp[['review_pre','w2v_review']][~(temp['review_pre'] ==temp['w2v_review'])]"
   ]
  },
  {
   "cell_type": "code",
   "execution_count": null,
   "metadata": {},
   "outputs": [],
   "source": [
    "temp[['review_pre','w2v_review']][~(temp['review_pre'] ==temp['w2v_review'])]['review_pre'].iloc[0]"
   ]
  },
  {
   "cell_type": "code",
   "execution_count": null,
   "metadata": {},
   "outputs": [],
   "source": [
    "temp[['review_pre','w2v_review']][~(temp['review_pre'] ==temp['w2v_review'])]['w2v_review'].iloc[0]"
   ]
  },
  {
   "cell_type": "code",
   "execution_count": 65,
   "metadata": {},
   "outputs": [
    {
     "data": {
      "text/plain": [
       "array([-0.0879368 , -0.02898404,  0.15324819, -0.14007342,  0.02413872,\n",
       "       -0.11976289, -0.17548107, -0.00081191, -0.32075393,  0.12574616,\n",
       "       -0.12533703, -0.2615899 ,  0.50656253,  0.15914123, -0.27304247,\n",
       "       -0.32931384, -0.16096634, -0.10849113, -0.32211912,  0.074434  ,\n",
       "       -0.04862297, -0.05613947, -0.07850468,  0.1305871 ,  0.01837277,\n",
       "        0.3335799 ,  0.3333869 , -0.28735211, -0.18982312,  0.09592618,\n",
       "       -0.19108608,  0.30424646,  0.12160942, -0.03988114, -0.15200292,\n",
       "       -0.20375042,  0.32473552, -0.23251712, -0.41242364, -0.16006655,\n",
       "       -0.21443683, -0.04521303, -0.03824957, -0.4129392 , -0.05093311,\n",
       "        0.4572501 ,  0.13382488,  0.36766443,  0.07145187,  0.15003324,\n",
       "        0.1582447 ,  0.04881874, -0.07376765,  0.4677186 , -0.07749929,\n",
       "        0.13526198, -0.16594449,  0.2792795 ,  0.24730536,  0.3876591 ,\n",
       "       -0.03697898, -0.2648589 , -0.14111505, -0.05678168,  0.17572168,\n",
       "       -0.2177326 , -0.7801705 ,  0.12791641, -0.16535723,  0.05923564,\n",
       "        0.06314333,  0.1108028 ,  0.03418136, -0.02838765,  0.09052988,\n",
       "       -0.48455957, -0.16978922,  0.04391851,  0.29684284, -0.1602834 ,\n",
       "       -0.41027445,  0.04391443, -0.00301435,  0.46067113, -0.01621348,\n",
       "        0.2398191 , -0.36575904, -0.12632953,  0.33677045,  0.0710418 ,\n",
       "        0.27517623, -0.1060435 , -0.0167389 ,  0.48250106, -0.04169106,\n",
       "       -0.23910871,  0.09317947, -0.07528874,  0.01944177, -0.23605269,\n",
       "       -0.01117091,  0.16908912,  0.05613634, -0.10546376,  0.09023326,\n",
       "       -0.02324429, -0.27382502, -0.08136047, -0.00130174,  0.14924394,\n",
       "       -0.30962157, -0.20339055, -0.07416915,  0.02018294,  0.17307249,\n",
       "       -0.11629274,  0.22594948, -0.14460462,  0.3242387 , -0.3013662 ,\n",
       "        0.40385792,  0.11639011, -0.16190296, -0.2891094 ,  0.09333014,\n",
       "       -0.01910615,  0.05205239, -0.14053877, -0.320615  , -0.16204697,\n",
       "       -0.06271037, -0.03119914,  0.20693211,  0.26999867, -0.10348378,\n",
       "       -0.24486344, -0.7693876 , -0.20700116, -0.24486046, -0.21332799,\n",
       "       -0.08709278,  0.12269042,  0.5078734 ,  0.10594313,  0.18251291,\n",
       "        0.3146035 , -0.41837126,  0.20038754,  0.08091348, -0.10727609,\n",
       "        0.00781061,  0.08598085, -0.30434385, -0.12359928,  0.11917543,\n",
       "       -0.27220255, -0.24155386, -0.11997966,  0.01370022,  0.00405047,\n",
       "        0.5820408 , -0.07520395, -0.2644425 ,  0.2915763 ,  0.07893851,\n",
       "        0.19488822,  0.2781053 , -0.43590647,  0.35677618,  0.21772036,\n",
       "       -0.17272355, -0.22632821, -0.41983968,  0.11063633, -0.04525694,\n",
       "        0.29395783,  0.36481518, -0.1317615 ,  0.29386345,  0.06659506,\n",
       "       -0.2574813 , -0.46724126, -0.6989968 ,  0.17431107,  0.09055553,\n",
       "       -0.05978794,  0.20977256,  0.21771316, -0.16751443,  0.01472341,\n",
       "        0.13320273,  0.09303775,  0.12883894,  0.07770669, -0.01539627,\n",
       "       -0.1327318 ,  0.3975788 , -0.23512736,  0.15738028, -0.01228589,\n",
       "       -0.37734446,  0.03832978,  0.1480925 , -0.07528976,  0.0938288 ,\n",
       "        0.56795734, -0.31189993, -0.49024522,  0.4274964 , -0.13215727,\n",
       "       -0.25936747,  0.28914467, -0.09212078,  0.2032198 ,  0.11567809,\n",
       "       -0.26625878,  0.05925655, -0.02826375,  0.16102715,  0.03329158,\n",
       "       -0.03672433, -0.22038662, -0.28060323,  0.30863875, -0.05568622,\n",
       "        0.23282859, -0.10981504,  0.3059157 , -0.14119472, -0.02633952,\n",
       "       -0.08255742, -0.04601841, -0.09839977,  0.09766895, -0.05891542,\n",
       "        0.05545938,  0.16892025,  0.44208774,  0.04345228, -0.3717739 ,\n",
       "       -0.01055532,  0.12277623, -0.28233087,  0.08092356, -0.15713105,\n",
       "       -0.27509093,  0.02210975,  0.34918606, -0.10962792,  0.0399761 ,\n",
       "        0.36900702, -0.12880355, -0.0485484 ,  0.24949849,  0.1315056 ,\n",
       "       -0.18481663, -0.03041044,  0.23135921, -0.06616838,  0.13543798,\n",
       "        0.08734017, -0.1696589 , -0.08346685,  0.29528734,  0.01388801,\n",
       "        0.02099895,  0.01195171,  0.16682069,  0.29220647,  0.11749753,\n",
       "       -0.05156499, -0.10175742,  0.07151903,  0.19864096,  0.51506865,\n",
       "        0.15272214, -0.12028614,  0.33051214, -0.16977397,  0.00148659,\n",
       "       -0.01586133, -0.02660445, -0.31202665,  0.19973661, -0.06080124,\n",
       "       -0.07420501,  0.11613929, -0.1091902 , -0.00571278,  0.18978019,\n",
       "       -0.34281254,  0.16243447, -0.08540253, -0.00986761,  0.55116683,\n",
       "       -0.11768278, -0.1514064 ,  0.07880355, -0.13461003,  0.11428921],\n",
       "      dtype=float32)"
      ]
     },
     "execution_count": 65,
     "metadata": {},
     "output_type": "execute_result"
    }
   ],
   "source": [
    "# 단어 있나 확인\n",
    "# model.wv['']"
   ]
  },
  {
   "cell_type": "code",
   "execution_count": null,
   "metadata": {},
   "outputs": [],
   "source": [
    "# 변경 잘 되었는지 확인\n",
    "res = temp['review_pre'] == temp['w2v_review']\n",
    "res.sum() # "
   ]
  },
  {
   "cell_type": "code",
   "execution_count": null,
   "metadata": {},
   "outputs": [],
   "source": [
    "# w2v 단어만 남은 pre_df"
   ]
  },
  {
   "cell_type": "code",
   "execution_count": null,
   "metadata": {},
   "outputs": [],
   "source": []
  },
  {
   "cell_type": "code",
   "execution_count": 48,
   "metadata": {},
   "outputs": [],
   "source": [
    "# word2vec에만 있는 단어로 만든 df\n",
    "import pandas as pd\n",
    "import os\n",
    "import pickle\n",
    "os.chdir(r'C:\\Users\\ywy\\Desktop\\min\\movie_pred')\n",
    "\n",
    "# with open(\"pre_df_w2v\",'wb') as fw:\n",
    "#     pickle.dump(pre_df,fw)\n",
    "with open(\"pre_df_w2v\",'rb') as fr:\n",
    "    pre_df = pickle.load(fr)"
   ]
  },
  {
   "cell_type": "code",
   "execution_count": 52,
   "metadata": {},
   "outputs": [
    {
     "data": {
      "text/plain": [
       "98331"
      ]
     },
     "execution_count": 52,
     "metadata": {},
     "output_type": "execute_result"
    }
   ],
   "source": [
    "# word2vec 단어\n",
    "mtli = []\n",
    "\n",
    "\n",
    "from tqdm import tqdm\n",
    "tqdm.pandas()\n",
    "\n",
    "pre_df['w2v_review'].apply(lambda vocli: mtli.extend(vocli))\n",
    "len(set(mtli)) # 74858"
   ]
  },
  {
   "cell_type": "code",
   "execution_count": 51,
   "metadata": {},
   "outputs": [
    {
     "data": {
      "text/plain": [
       "98331"
      ]
     },
     "execution_count": 51,
     "metadata": {},
     "output_type": "execute_result"
    }
   ],
   "source": [
    "len(wordlist) # == 74858 # word2vec 리스트 개수와 동일 ㅠㅠ"
   ]
  },
  {
   "cell_type": "code",
   "execution_count": 5,
   "metadata": {},
   "outputs": [],
   "source": [
    "# mtli = []\n",
    "\n",
    "\n",
    "# from tqdm import tqdm\n",
    "# tqdm.pandas()\n",
    "\n",
    "# pre_df['review_pre'].progress_apply(lambda vocli: mtli.extend(vocli))\n",
    "# len(set(mtli))"
   ]
  },
  {
   "cell_type": "markdown",
   "metadata": {},
   "source": [
    "# 2. STM 구축"
   ]
  },
  {
   "cell_type": "markdown",
   "metadata": {},
   "source": [
    "#### 행렬곱 연습"
   ]
  },
  {
   "cell_type": "code",
   "execution_count": 3,
   "metadata": {},
   "outputs": [
    {
     "data": {
      "text/plain": [
       "array([[0, 0, 0, 0, 0, 0, 0, 0, 0, 0],\n",
       "       [0, 0, 0, 0, 0, 0, 0, 0, 0, 0],\n",
       "       [0, 0, 1, 0, 0, 0, 0, 0, 0, 0],\n",
       "       [0, 0, 0, 1, 0, 0, 0, 0, 0, 1],\n",
       "       [0, 0, 0, 0, 0, 0, 0, 0, 0, 0],\n",
       "       [0, 0, 0, 1, 0, 0, 1, 0, 1, 0],\n",
       "       [0, 1, 0, 0, 0, 0, 0, 0, 0, 0],\n",
       "       [1, 1, 0, 0, 0, 1, 0, 0, 0, 0],\n",
       "       [0, 0, 0, 0, 0, 1, 0, 0, 0, 0],\n",
       "       [0, 0, 0, 0, 0, 0, 0, 0, 0, 0]])"
      ]
     },
     "execution_count": 3,
     "metadata": {},
     "output_type": "execute_result"
    }
   ],
   "source": [
    "import numpy as np\n",
    "from scipy.sparse import csr_matrix\n",
    "\n",
    "\n",
    "dense = np.random.binomial(n=1, p=0.1, size=(10, 10))\n",
    "sparse = csr_matrix(dense)\n",
    "dense\n"
   ]
  },
  {
   "cell_type": "code",
   "execution_count": 4,
   "metadata": {},
   "outputs": [
    {
     "data": {
      "text/plain": [
       "array([[0.12625892],\n",
       "       [0.82223262],\n",
       "       [0.86396486],\n",
       "       [0.77311138],\n",
       "       [0.10815382],\n",
       "       [0.45140968],\n",
       "       [0.29026168],\n",
       "       [0.93920892],\n",
       "       [0.65362987],\n",
       "       [0.00632061]])"
      ]
     },
     "execution_count": 4,
     "metadata": {},
     "output_type": "execute_result"
    }
   ],
   "source": [
    "rand = np.random.random(size=(10, 1))\n",
    "rand"
   ]
  },
  {
   "cell_type": "code",
   "execution_count": 5,
   "metadata": {},
   "outputs": [
    {
     "data": {
      "text/plain": [
       "array([[0.        ],\n",
       "       [0.        ],\n",
       "       [0.86396486],\n",
       "       [0.77943199],\n",
       "       [0.        ],\n",
       "       [1.71700293],\n",
       "       [0.82223262],\n",
       "       [1.39990121],\n",
       "       [0.45140968],\n",
       "       [0.        ]])"
      ]
     },
     "execution_count": 5,
     "metadata": {},
     "output_type": "execute_result"
    }
   ],
   "source": [
    "ans = np.dot(dense,rand)\n",
    "ans"
   ]
  },
  {
   "cell_type": "code",
   "execution_count": 6,
   "metadata": {},
   "outputs": [
    {
     "data": {
      "text/plain": [
       "array([[ True],\n",
       "       [ True],\n",
       "       [ True],\n",
       "       [ True],\n",
       "       [ True],\n",
       "       [ True],\n",
       "       [ True],\n",
       "       [ True],\n",
       "       [ True],\n",
       "       [ True]])"
      ]
     },
     "execution_count": 6,
     "metadata": {},
     "output_type": "execute_result"
    }
   ],
   "source": [
    "sparse @ rand == ans # 잘되뮤ㅠㅠㅠ"
   ]
  },
  {
   "cell_type": "markdown",
   "metadata": {},
   "source": [
    "## STM(Sparse Matrix 구현)"
   ]
  },
  {
   "cell_type": "code",
   "execution_count": 7,
   "metadata": {},
   "outputs": [
    {
     "data": {
      "text/html": [
       "<div>\n",
       "<style scoped>\n",
       "    .dataframe tbody tr th:only-of-type {\n",
       "        vertical-align: middle;\n",
       "    }\n",
       "\n",
       "    .dataframe tbody tr th {\n",
       "        vertical-align: top;\n",
       "    }\n",
       "\n",
       "    .dataframe thead th {\n",
       "        text-align: right;\n",
       "    }\n",
       "</style>\n",
       "<table border=\"1\" class=\"dataframe\">\n",
       "  <thead>\n",
       "    <tr style=\"text-align: right;\">\n",
       "      <th></th>\n",
       "      <th>header</th>\n",
       "      <th>contents</th>\n",
       "      <th>star</th>\n",
       "      <th>helpful</th>\n",
       "      <th>in_n_weeks</th>\n",
       "      <th>Movie_code</th>\n",
       "      <th>sentiment</th>\n",
       "      <th>train</th>\n",
       "      <th>cleaned_contents</th>\n",
       "      <th>sents</th>\n",
       "      <th>doc_id</th>\n",
       "      <th>sent</th>\n",
       "      <th>remove_link_punc</th>\n",
       "      <th>review_pre</th>\n",
       "      <th>w2v_review</th>\n",
       "    </tr>\n",
       "  </thead>\n",
       "  <tbody>\n",
       "    <tr>\n",
       "      <th>0</th>\n",
       "      <td>Not worth your time!\\n</td>\n",
       "      <td>Really boring storyline..The acting was sub-pa...</td>\n",
       "      <td>0.3</td>\n",
       "      <td>['0 out of 1']</td>\n",
       "      <td>after 4 weeks</td>\n",
       "      <td>1045655</td>\n",
       "      <td>0</td>\n",
       "      <td>1</td>\n",
       "      <td>really boring storyline..the acting was sub-pa...</td>\n",
       "      <td>[really boring storyline..the acting was sub-p...</td>\n",
       "      <td>602902</td>\n",
       "      <td>really boring storyline..the acting was sub-pa...</td>\n",
       "      <td>really boring storyline the acting was sub par...</td>\n",
       "      <td>[really, boring, storyline, acting, sub, par, ...</td>\n",
       "      <td>[really, boring, storyline, acting, sub, par, ...</td>\n",
       "    </tr>\n",
       "    <tr>\n",
       "      <th>1</th>\n",
       "      <td>not very scary\\n</td>\n",
       "      <td>This film has so many dream sequence scares th...</td>\n",
       "      <td>0.4</td>\n",
       "      <td>['0 out of 1']</td>\n",
       "      <td>after 4 weeks</td>\n",
       "      <td>1045655</td>\n",
       "      <td>0</td>\n",
       "      <td>1</td>\n",
       "      <td>this film has so many dream sequence scares th...</td>\n",
       "      <td>[this film has so many dream sequence scares t...</td>\n",
       "      <td>602903</td>\n",
       "      <td>this film has so many dream sequence scares th...</td>\n",
       "      <td>this film has so many dream sequence scares th...</td>\n",
       "      <td>[film, many, dream, sequence, scare, time, som...</td>\n",
       "      <td>[film, many, dream, sequence, scare, time, som...</td>\n",
       "    </tr>\n",
       "    <tr>\n",
       "      <th>2</th>\n",
       "      <td>not very scary\\n</td>\n",
       "      <td>This film has so many dream sequence scares th...</td>\n",
       "      <td>0.4</td>\n",
       "      <td>['0 out of 1']</td>\n",
       "      <td>after 4 weeks</td>\n",
       "      <td>1045655</td>\n",
       "      <td>0</td>\n",
       "      <td>1</td>\n",
       "      <td>this film has so many dream sequence scares th...</td>\n",
       "      <td>[this film has so many dream sequence scares t...</td>\n",
       "      <td>602903</td>\n",
       "      <td>just a so-so thriller.</td>\n",
       "      <td>just a so so thriller</td>\n",
       "      <td>[thriller]</td>\n",
       "      <td>[thriller]</td>\n",
       "    </tr>\n",
       "    <tr>\n",
       "      <th>3</th>\n",
       "      <td>A poorly executed made for TV horror movie\\n</td>\n",
       "      <td>This could have been a decent movie. If it was...</td>\n",
       "      <td>0.4</td>\n",
       "      <td>['0 out of 1']</td>\n",
       "      <td>after 4 weeks</td>\n",
       "      <td>1045655</td>\n",
       "      <td>0</td>\n",
       "      <td>1</td>\n",
       "      <td>this could have been a decent movie. if it was...</td>\n",
       "      <td>[this could have been a decent movie., if it w...</td>\n",
       "      <td>602904</td>\n",
       "      <td>this could have been a decent movie.</td>\n",
       "      <td>this could have been a decent movie</td>\n",
       "      <td>[could, decent, movie]</td>\n",
       "      <td>[could, decent, movie]</td>\n",
       "    </tr>\n",
       "    <tr>\n",
       "      <th>4</th>\n",
       "      <td>A poorly executed made for TV horror movie\\n</td>\n",
       "      <td>This could have been a decent movie. If it was...</td>\n",
       "      <td>0.4</td>\n",
       "      <td>['0 out of 1']</td>\n",
       "      <td>after 4 weeks</td>\n",
       "      <td>1045655</td>\n",
       "      <td>0</td>\n",
       "      <td>1</td>\n",
       "      <td>this could have been a decent movie. if it was...</td>\n",
       "      <td>[this could have been a decent movie., if it w...</td>\n",
       "      <td>602904</td>\n",
       "      <td>if it was a made for tv movie the acting wasn'...</td>\n",
       "      <td>if it was a made for tv movie the acting wasn ...</td>\n",
       "      <td>[made, movie, acting, bad, story, incredibly, ...</td>\n",
       "      <td>[made, movie, acting, bad, story, incredibly, ...</td>\n",
       "    </tr>\n",
       "  </tbody>\n",
       "</table>\n",
       "</div>"
      ],
      "text/plain": [
       "                                          header  \\\n",
       "0                         Not worth your time!\\n   \n",
       "1                               not very scary\\n   \n",
       "2                               not very scary\\n   \n",
       "3   A poorly executed made for TV horror movie\\n   \n",
       "4   A poorly executed made for TV horror movie\\n   \n",
       "\n",
       "                                            contents  star         helpful  \\\n",
       "0  Really boring storyline..The acting was sub-pa...   0.3  ['0 out of 1']   \n",
       "1  This film has so many dream sequence scares th...   0.4  ['0 out of 1']   \n",
       "2  This film has so many dream sequence scares th...   0.4  ['0 out of 1']   \n",
       "3  This could have been a decent movie. If it was...   0.4  ['0 out of 1']   \n",
       "4  This could have been a decent movie. If it was...   0.4  ['0 out of 1']   \n",
       "\n",
       "      in_n_weeks Movie_code sentiment train  \\\n",
       "0  after 4 weeks    1045655         0     1   \n",
       "1  after 4 weeks    1045655         0     1   \n",
       "2  after 4 weeks    1045655         0     1   \n",
       "3  after 4 weeks    1045655         0     1   \n",
       "4  after 4 weeks    1045655         0     1   \n",
       "\n",
       "                                    cleaned_contents  \\\n",
       "0  really boring storyline..the acting was sub-pa...   \n",
       "1  this film has so many dream sequence scares th...   \n",
       "2  this film has so many dream sequence scares th...   \n",
       "3  this could have been a decent movie. if it was...   \n",
       "4  this could have been a decent movie. if it was...   \n",
       "\n",
       "                                               sents  doc_id  \\\n",
       "0  [really boring storyline..the acting was sub-p...  602902   \n",
       "1  [this film has so many dream sequence scares t...  602903   \n",
       "2  [this film has so many dream sequence scares t...  602903   \n",
       "3  [this could have been a decent movie., if it w...  602904   \n",
       "4  [this could have been a decent movie., if it w...  602904   \n",
       "\n",
       "                                                sent  \\\n",
       "0  really boring storyline..the acting was sub-pa...   \n",
       "1  this film has so many dream sequence scares th...   \n",
       "2                             just a so-so thriller.   \n",
       "3               this could have been a decent movie.   \n",
       "4  if it was a made for tv movie the acting wasn'...   \n",
       "\n",
       "                                    remove_link_punc  \\\n",
       "0  really boring storyline the acting was sub par...   \n",
       "1  this film has so many dream sequence scares th...   \n",
       "2                             just a so so thriller    \n",
       "3               this could have been a decent movie    \n",
       "4  if it was a made for tv movie the acting wasn ...   \n",
       "\n",
       "                                          review_pre  \\\n",
       "0  [really, boring, storyline, acting, sub, par, ...   \n",
       "1  [film, many, dream, sequence, scare, time, som...   \n",
       "2                                         [thriller]   \n",
       "3                             [could, decent, movie]   \n",
       "4  [made, movie, acting, bad, story, incredibly, ...   \n",
       "\n",
       "                                          w2v_review  \n",
       "0  [really, boring, storyline, acting, sub, par, ...  \n",
       "1  [film, many, dream, sequence, scare, time, som...  \n",
       "2                                         [thriller]  \n",
       "3                             [could, decent, movie]  \n",
       "4  [made, movie, acting, bad, story, incredibly, ...  "
      ]
     },
     "execution_count": 7,
     "metadata": {},
     "output_type": "execute_result"
    }
   ],
   "source": [
    "# word2vec에만 있는 단어로 만든 df\n",
    "import pandas as pd\n",
    "import os\n",
    "import pickle\n",
    "os.chdir(r'C:\\Users\\ywy\\Desktop\\min\\movie_pred')\n",
    "\n",
    "# with open(\"pre_df_w2v\",'wb') as fw:\n",
    "#     pickle.dump(pre_df,fw)\n",
    "with open(\"pre_df_w2v\",'rb') as fr:\n",
    "    pre_df = pickle.load(fr)\n",
    "pre_df.head()"
   ]
  },
  {
   "cell_type": "code",
   "execution_count": 8,
   "metadata": {},
   "outputs": [],
   "source": [
    "docs = pre_df['w2v_review'].values.tolist() #원래 코드\n",
    "\n",
    "# temp = pre_df[:10000]\n",
    "# docs = temp['w2v_review'].values.tolist() # 테스트용"
   ]
  },
  {
   "cell_type": "code",
   "execution_count": 9,
   "metadata": {},
   "outputs": [
    {
     "name": "stderr",
     "output_type": "stream",
     "text": [
      "100%|████████████████████████████████████████████████████████████████████| 9073573/9073573 [00:09<00:00, 961413.45it/s]\n"
     ]
    },
    {
     "data": {
      "text/plain": [
       "0          None\n",
       "1          None\n",
       "2          None\n",
       "3          None\n",
       "4          None\n",
       "           ... \n",
       "9073568    None\n",
       "9073569    None\n",
       "9073570    None\n",
       "9073571    None\n",
       "9073572    None\n",
       "Name: w2v_review, Length: 9073573, dtype: object"
      ]
     },
     "execution_count": 9,
     "metadata": {},
     "output_type": "execute_result"
    }
   ],
   "source": [
    "mtli = []\n",
    "\n",
    "\n",
    "from tqdm import tqdm\n",
    "tqdm.pandas()\n",
    "\n",
    "pre_df['w2v_review'].progress_apply(lambda vocli: mtli.extend(vocli))"
   ]
  },
  {
   "cell_type": "code",
   "execution_count": 10,
   "metadata": {},
   "outputs": [
    {
     "data": {
      "text/plain": [
       "98331"
      ]
     },
     "execution_count": 10,
     "metadata": {},
     "output_type": "execute_result"
    }
   ],
   "source": [
    "len(set(mtli)) # word2vec에 있는 단어만 추린ㄱ건데.. 98331"
   ]
  },
  {
   "cell_type": "code",
   "execution_count": 11,
   "metadata": {},
   "outputs": [
    {
     "data": {
      "text/plain": [
       "98331"
      ]
     },
     "execution_count": 11,
     "metadata": {},
     "output_type": "execute_result"
    }
   ],
   "source": [
    "os.chdir(r'C:\\Users\\ywy\\Desktop\\min\\movie_pred\\w2v에 나온 단어로만 변환')\n",
    "\n",
    "from gensim.models import Word2Vec\n",
    "model = Word2Vec.load('word2vec.model')\n",
    "wordlist = model.wv.index_to_key\n",
    "len(wordlist) # word2vec에 학습된 단어 리스트 98331. 똑같다ㅠㅠ 오예"
   ]
  },
  {
   "cell_type": "code",
   "execution_count": 12,
   "metadata": {},
   "outputs": [
    {
     "name": "stderr",
     "output_type": "stream",
     "text": [
      " 29%|███████████████████▉                                                | 2659181/9073573 [00:11<00:26, 241397.26it/s]\n"
     ]
    },
    {
     "ename": "KeyboardInterrupt",
     "evalue": "",
     "output_type": "error",
     "traceback": [
      "\u001b[1;31m---------------------------------------------------------------------------\u001b[0m",
      "\u001b[1;31mKeyboardInterrupt\u001b[0m                         Traceback (most recent call last)",
      "\u001b[1;32m<ipython-input-12-14b40a75095e>\u001b[0m in \u001b[0;36m<module>\u001b[1;34m\u001b[0m\n\u001b[0;32m     10\u001b[0m         \u001b[0mindex\u001b[0m \u001b[1;33m=\u001b[0m \u001b[0mvocabulary\u001b[0m\u001b[1;33m.\u001b[0m\u001b[0msetdefault\u001b[0m\u001b[1;33m(\u001b[0m\u001b[0mterm\u001b[0m\u001b[1;33m,\u001b[0m \u001b[0mlen\u001b[0m\u001b[1;33m(\u001b[0m\u001b[0mvocabulary\u001b[0m\u001b[1;33m)\u001b[0m\u001b[1;33m)\u001b[0m\u001b[1;33m\u001b[0m\u001b[1;33m\u001b[0m\u001b[0m\n\u001b[0;32m     11\u001b[0m         \u001b[0mindices\u001b[0m\u001b[1;33m.\u001b[0m\u001b[0mappend\u001b[0m\u001b[1;33m(\u001b[0m\u001b[0mindex\u001b[0m\u001b[1;33m)\u001b[0m\u001b[1;33m\u001b[0m\u001b[1;33m\u001b[0m\u001b[0m\n\u001b[1;32m---> 12\u001b[1;33m         \u001b[0mdata\u001b[0m\u001b[1;33m.\u001b[0m\u001b[0mappend\u001b[0m\u001b[1;33m(\u001b[0m\u001b[1;36m1\u001b[0m\u001b[1;33m)\u001b[0m\u001b[1;33m\u001b[0m\u001b[1;33m\u001b[0m\u001b[0m\n\u001b[0m\u001b[0;32m     13\u001b[0m \u001b[1;33m\u001b[0m\u001b[0m\n\u001b[0;32m     14\u001b[0m     \u001b[0mindptr\u001b[0m\u001b[1;33m.\u001b[0m\u001b[0mappend\u001b[0m\u001b[1;33m(\u001b[0m\u001b[0mlen\u001b[0m\u001b[1;33m(\u001b[0m\u001b[0mindices\u001b[0m\u001b[1;33m)\u001b[0m\u001b[1;33m)\u001b[0m\u001b[1;33m\u001b[0m\u001b[1;33m\u001b[0m\u001b[0m\n",
      "\u001b[1;31mKeyboardInterrupt\u001b[0m: "
     ]
    }
   ],
   "source": [
    "indptr = [0]\n",
    "indices = []\n",
    "data = []\n",
    "vocabulary = {}\n",
    "\n",
    "\n",
    "from tqdm import tqdm\n",
    "for d in tqdm(docs):\n",
    "    for term in d:\n",
    "        index = vocabulary.setdefault(term, len(vocabulary))\n",
    "        indices.append(index)\n",
    "        data.append(1)\n",
    "\n",
    "    indptr.append(len(indices))\n"
   ]
  },
  {
   "cell_type": "code",
   "execution_count": null,
   "metadata": {},
   "outputs": [],
   "source": [
    "# for k, v in vocabulary.items():\n",
    "#   print(k, ':', v)"
   ]
  },
  {
   "cell_type": "code",
   "execution_count": null,
   "metadata": {},
   "outputs": [],
   "source": [
    "import numpy as np\n",
    "from scipy.sparse import csr_matrix\n",
    "\n",
    "term_document_csr_mat = csr_matrix((data, indices, indptr), dtype=int)\n",
    "\n",
    "term_document_csr_mat"
   ]
  },
  {
   "cell_type": "code",
   "execution_count": null,
   "metadata": {},
   "outputs": [],
   "source": [
    "# print(term_document_csr_mat)"
   ]
  },
  {
   "cell_type": "code",
   "execution_count": null,
   "metadata": {},
   "outputs": [],
   "source": [
    "print('-- SciPy Compressed Sparse Row matrix --')\n",
    "\n",
    "print('indptr:', term_document_csr_mat.indptr)\n",
    "\n",
    "print('indices:', term_document_csr_mat.indices)\n",
    "\n",
    "print('data:', term_document_csr_mat.data)"
   ]
  },
  {
   "cell_type": "code",
   "execution_count": 11,
   "metadata": {},
   "outputs": [],
   "source": [
    "# CSR 저장\n",
    "from scipy import sparse\n",
    "\n",
    "sparse.save_npz(\"term_document_csr_mat.npz\", term_document_csr_mat)\n",
    "term_document_csr_mat = sparse.load_npz(\"term_document_csr_mat.npz\")"
   ]
  },
  {
   "cell_type": "markdown",
   "metadata": {},
   "source": [
    "### 저장된 STM"
   ]
  },
  {
   "cell_type": "code",
   "execution_count": 261,
   "metadata": {},
   "outputs": [
    {
     "data": {
      "text/plain": [
       "<9073573x98331 sparse matrix of type '<class 'numpy.int32'>'\n",
       "\twith 92080773 stored elements in Compressed Sparse Row format>"
      ]
     },
     "execution_count": 261,
     "metadata": {},
     "output_type": "execute_result"
    }
   ],
   "source": [
    "from scipy import sparse\n",
    "term_document_csr_mat = sparse.load_npz(\"term_document_csr_mat.npz\")\n",
    "term_document_csr_mat # 굳."
   ]
  },
  {
   "cell_type": "markdown",
   "metadata": {},
   "source": [
    "# 3. ATM(Similarity Matrix) 구축"
   ]
  },
  {
   "cell_type": "code",
   "execution_count": 1,
   "metadata": {},
   "outputs": [],
   "source": [
    "# 필요한 앞 코드들\n",
    "import os\n",
    "import pickle\n",
    "\n",
    "#1. pre_df_w2v\n",
    "os.chdir(r'C:\\Users\\ywy\\Desktop\\min\\movie_pred')\n",
    "with open(\"pre_df_w2v\",'rb') as fr:\n",
    "    pre_df = pickle.load(fr)\n"
   ]
  },
  {
   "cell_type": "code",
   "execution_count": 38,
   "metadata": {},
   "outputs": [
    {
     "data": {
      "text/plain": [
       "98331"
      ]
     },
     "execution_count": 38,
     "metadata": {},
     "output_type": "execute_result"
    }
   ],
   "source": [
    "#2. W2V\n",
    "os.chdir(r'C:\\Users\\ywy\\Desktop\\min\\movie_pred\\w2v에 나온 단어로만 변환')\n",
    "from gensim.models import Word2Vec\n",
    "model = Word2Vec.load('word2vec.model')# 모델 로드\n",
    "# model.wv['princess'] # 워드 벡터 구하기\n",
    "# model.wv.similarity('princess', 'queen') #코사인 유사도 구하기\n",
    "# model.wv.most_similar('princess') # 그냥 가장 가까운 것.. \n",
    "wordlist = model.wv.index_to_key\n",
    "len(wordlist)\n",
    "\n",
    "# #3. STM load\n",
    "# from scipy import sparse\n",
    "\n",
    "# sparse.save_npz(\"term_document_csr_mat.npz\", term_document_csr_mat)\n",
    "# term_document_csr_mat = sparse.load_npz(\"term_document_csr_mat.npz\")"
   ]
  },
  {
   "cell_type": "markdown",
   "metadata": {},
   "source": [
    "## Seed Aspects"
   ]
  },
  {
   "cell_type": "code",
   "execution_count": 8,
   "metadata": {},
   "outputs": [],
   "source": [
    "# 선행 연구 참조\n",
    "seed_aspects = ['actor','director','plot','music','movie'] # writer는 plot과 겹쳐서 뺌. 추가하자면 screenplay를 넣어볼 수 있을 듯.\n",
    "\n"
   ]
  },
  {
   "cell_type": "code",
   "execution_count": null,
   "metadata": {},
   "outputs": [],
   "source": [
    "# model.wv.vocab['actor'].count #1147757\n",
    "# model.wv.vocab['director'].count\n",
    "# model.wv.vocab['story'].count #569029\n",
    "# model.wv.vocab['plot'].count #233179\n",
    "\n",
    "# model.wv.vocab['movie'].count #3073789\n",
    "model.wv.get_vecattr(\"movie\", \"count\") #model.wv.get_vecattr(key, attr)  형태\n",
    "# len(model.wv)\n",
    "# model.wv\n"
   ]
  },
  {
   "cell_type": "markdown",
   "metadata": {},
   "source": [
    "## ATM(Similarity Calculation)"
   ]
  },
  {
   "cell_type": "code",
   "execution_count": null,
   "metadata": {},
   "outputs": [],
   "source": [
    "# lemmatization/ stemming된건지 확인\n",
    "pre_df['review_pre']"
   ]
  },
  {
   "cell_type": "code",
   "execution_count": null,
   "metadata": {},
   "outputs": [],
   "source": [
    "\n",
    "print(len(wordlist))\n",
    "temp_wordlist = wordlist[:10] # wordlist도 stemming/lemmatization 해줘야함. 연구실 컴 코드 참조. lemma-->porter함.\n"
   ]
  },
  {
   "cell_type": "code",
   "execution_count": null,
   "metadata": {},
   "outputs": [],
   "source": [
    "# 이런식으로 짜면 됨.\n",
    "import numpy as np\n",
    "actor_vec = []\n",
    "\n",
    "for word in wordlist:\n",
    "    actor_vec.append(model.wv.similarity(word,seed_aspects[0])) # **바꿔줘야함\n",
    "actor_array = np.array(actor_vec)\n",
    "actor_array"
   ]
  },
  {
   "cell_type": "code",
   "execution_count": null,
   "metadata": {},
   "outputs": [],
   "source": [
    "director_vec = []\n",
    "\n",
    "for word in wordlist:\n",
    "    director_vec.append(model.wv.similarity(word,seed_aspects[1])) # **바꿔줘야함\n",
    "director_array = np.array(director_vec)\n",
    "director_array\n"
   ]
  },
  {
   "cell_type": "code",
   "execution_count": null,
   "metadata": {},
   "outputs": [],
   "source": [
    "plot_vec = []\n",
    "for word in wordlist:\n",
    "    plot_vec.append(model.wv.similarity(word,seed_aspects[2])) # **바꿔줘야함\n",
    "plot_array = np.array(plot_vec)\n",
    "plot_array"
   ]
  },
  {
   "cell_type": "code",
   "execution_count": null,
   "metadata": {},
   "outputs": [],
   "source": [
    "music_vec = []\n",
    "for word in wordlist:\n",
    "    music_vec.append(model.wv.similarity(word,seed_aspects[3])) # **바꿔줘야함\n",
    "music_array = np.array(music_vec)\n",
    "music_array"
   ]
  },
  {
   "cell_type": "code",
   "execution_count": null,
   "metadata": {},
   "outputs": [],
   "source": [
    "movie_vec = []\n",
    "for word in wordlist:\n",
    "    movie_vec.append(model.wv.similarity(word,seed_aspects[4])) # **바꿔줘야함\n",
    "movie_array = np.array(movie_vec)\n",
    "movie_array"
   ]
  },
  {
   "cell_type": "code",
   "execution_count": null,
   "metadata": {},
   "outputs": [],
   "source": [
    "# Dimension Term Matrix 대신 좋은말..? Document Term Matrix 랑 헷갈림. Aspect-word Similarity Matrix? ATM\n",
    "\n",
    "ATM = np.vstack((actor_array,director_array, plot_array, music_array, movie_array))\n",
    "print(ATM.shape) #(5, 10)\n",
    "ATM"
   ]
  },
  {
   "cell_type": "code",
   "execution_count": 36,
   "metadata": {},
   "outputs": [],
   "source": [
    "# with open(\"ATM\",'wb') as fw:\n",
    "#     pickle.dump(ATM,fw)\n",
    "with open(\"ATM\",'rb') as fr:\n",
    "    ATM = pickle.load(fr)"
   ]
  },
  {
   "cell_type": "code",
   "execution_count": 52,
   "metadata": {},
   "outputs": [
    {
     "data": {
      "text/plain": [
       "array([[0.40169773, 0.34135902, 1.        , ..., 0.41429943, 0.47081256,\n",
       "        0.52099705],\n",
       "       [0.43375772, 0.50365853, 0.347701  , ..., 0.37201825, 0.13168524,\n",
       "        0.36852747],\n",
       "       [0.3848715 , 0.36618134, 0.19956185, ..., 0.19227424, 0.06826872,\n",
       "        0.37319568],\n",
       "       [0.28645107, 0.30613926, 0.20057786, ..., 0.27717882, 0.14545426,\n",
       "        0.3683098 ],\n",
       "       [0.99999994, 0.8621377 , 0.40169773, ..., 0.29684043, 0.12285058,\n",
       "        0.44057852]], dtype=float32)"
      ]
     },
     "execution_count": 52,
     "metadata": {},
     "output_type": "execute_result"
    }
   ],
   "source": [
    "ATM"
   ]
  },
  {
   "cell_type": "markdown",
   "metadata": {},
   "source": [
    "# 4. LIFT"
   ]
  },
  {
   "cell_type": "markdown",
   "metadata": {},
   "source": [
    "## LIFT, 편차 조정"
   ]
  },
  {
   "cell_type": "markdown",
   "metadata": {},
   "source": [
    "### LIFT 값 "
   ]
  },
  {
   "cell_type": "code",
   "execution_count": null,
   "metadata": {},
   "outputs": [],
   "source": [
    "pre_df['w2v_review'] # 이미 문장으로 나뉘어있음."
   ]
  },
  {
   "cell_type": "markdown",
   "metadata": {},
   "source": [
    "#### 1) word counter  생성"
   ]
  },
  {
   "cell_type": "markdown",
   "metadata": {},
   "source": [
    "word가 나온 sent 수 세기.\n"
   ]
  },
  {
   "cell_type": "code",
   "execution_count": null,
   "metadata": {},
   "outputs": [],
   "source": [
    "# model.wv.key_to_index"
   ]
  },
  {
   "cell_type": "code",
   "execution_count": null,
   "metadata": {},
   "outputs": [],
   "source": [
    "# 빈 word counter 생성\n",
    "word_counts = model.wv.key_to_index\n",
    "for key, value in word_counts.items():\n",
    "    # do something with value\n",
    "    word_counts[key] = 0\n",
    "    \n",
    "# word_counts"
   ]
  },
  {
   "cell_type": "code",
   "execution_count": null,
   "metadata": {},
   "outputs": [],
   "source": [
    "# word counter. \n",
    "\n",
    "def word_counter(sent):\n",
    "    global word_counts\n",
    "    sent = list(set(sent))\n",
    "    for word in sent:\n",
    "        try:\n",
    "            word_counts[word] += 1\n",
    "        except:\n",
    "            pass\n",
    "        \n",
    "pre_df['w2v_review'].apply(lambda sent: word_counter(sent)) # \n",
    "\n",
    "# word_counts"
   ]
  },
  {
   "cell_type": "code",
   "execution_count": 15,
   "metadata": {},
   "outputs": [
    {
     "data": {
      "text/html": [
       "<div>\n",
       "<style scoped>\n",
       "    .dataframe tbody tr th:only-of-type {\n",
       "        vertical-align: middle;\n",
       "    }\n",
       "\n",
       "    .dataframe tbody tr th {\n",
       "        vertical-align: top;\n",
       "    }\n",
       "\n",
       "    .dataframe thead th {\n",
       "        text-align: right;\n",
       "    }\n",
       "</style>\n",
       "<table border=\"1\" class=\"dataframe\">\n",
       "  <thead>\n",
       "    <tr style=\"text-align: right;\">\n",
       "      <th></th>\n",
       "      <th>w2v_word</th>\n",
       "      <th>w2v_word_count</th>\n",
       "    </tr>\n",
       "  </thead>\n",
       "  <tbody>\n",
       "    <tr>\n",
       "      <th>0</th>\n",
       "      <td>movie</td>\n",
       "      <td>2490190</td>\n",
       "    </tr>\n",
       "    <tr>\n",
       "      <th>1</th>\n",
       "      <td>film</td>\n",
       "      <td>1370123</td>\n",
       "    </tr>\n",
       "    <tr>\n",
       "      <th>2</th>\n",
       "      <td>actor</td>\n",
       "      <td>852712</td>\n",
       "    </tr>\n",
       "    <tr>\n",
       "      <th>3</th>\n",
       "      <td>one</td>\n",
       "      <td>764921</td>\n",
       "    </tr>\n",
       "    <tr>\n",
       "      <th>4</th>\n",
       "      <td>like</td>\n",
       "      <td>651872</td>\n",
       "    </tr>\n",
       "    <tr>\n",
       "      <th>...</th>\n",
       "      <td>...</td>\n",
       "      <td>...</td>\n",
       "    </tr>\n",
       "    <tr>\n",
       "      <th>98326</th>\n",
       "      <td>lidya</td>\n",
       "      <td>4</td>\n",
       "    </tr>\n",
       "    <tr>\n",
       "      <th>98327</th>\n",
       "      <td>yattering</td>\n",
       "      <td>4</td>\n",
       "    </tr>\n",
       "    <tr>\n",
       "      <th>98328</th>\n",
       "      <td>soojit</td>\n",
       "      <td>4</td>\n",
       "    </tr>\n",
       "    <tr>\n",
       "      <th>98329</th>\n",
       "      <td>tupper</td>\n",
       "      <td>4</td>\n",
       "    </tr>\n",
       "    <tr>\n",
       "      <th>98330</th>\n",
       "      <td>desil</td>\n",
       "      <td>4</td>\n",
       "    </tr>\n",
       "  </tbody>\n",
       "</table>\n",
       "<p>98331 rows × 2 columns</p>\n",
       "</div>"
      ],
      "text/plain": [
       "        w2v_word  w2v_word_count\n",
       "0          movie         2490190\n",
       "1           film         1370123\n",
       "2          actor          852712\n",
       "3            one          764921\n",
       "4           like          651872\n",
       "...          ...             ...\n",
       "98326      lidya               4\n",
       "98327  yattering               4\n",
       "98328     soojit               4\n",
       "98329     tupper               4\n",
       "98330      desil               4\n",
       "\n",
       "[98331 rows x 2 columns]"
      ]
     },
     "execution_count": 15,
     "metadata": {},
     "output_type": "execute_result"
    }
   ],
   "source": [
    "# dict to df\n",
    "sr = pd.Series(data = word_counts)\n",
    "df = sr.to_frame(name = 'w2v_word_count')\n",
    "df.reset_index(inplace = True)\n",
    "\n",
    "# df.rename(columns={'Before':'After'})\n",
    "df = df.rename(columns={'index':'w2v_word'})\n",
    "df # 옆에 컬럼으로 actor, movie 등 붙이기."
   ]
  },
  {
   "cell_type": "markdown",
   "metadata": {},
   "source": [
    "#### 2) seed_aspect word 등장 횟수 세기."
   ]
  },
  {
   "cell_type": "code",
   "execution_count": 16,
   "metadata": {},
   "outputs": [],
   "source": [
    "seed_aspects = ['actor','director','plot','music','movie']\n",
    "seed_aspect_word = 'movie'\n"
   ]
  },
  {
   "cell_type": "code",
   "execution_count": 17,
   "metadata": {},
   "outputs": [
    {
     "data": {
      "text/plain": [
       "2490190"
      ]
     },
     "execution_count": 17,
     "metadata": {},
     "output_type": "execute_result"
    }
   ],
   "source": [
    "# actor\n",
    "actor_appr = df[df['w2v_word'] == seed_aspect_word]['w2v_word_count']\n",
    "actor_appr = actor_appr.values[0]\n",
    "actor_appr"
   ]
  },
  {
   "cell_type": "code",
   "execution_count": 18,
   "metadata": {},
   "outputs": [
    {
     "data": {
      "text/plain": [
       "2490190"
      ]
     },
     "execution_count": 18,
     "metadata": {},
     "output_type": "execute_result"
    }
   ],
   "source": [
    "# 'director'\n",
    "director_appr = df[df['w2v_word'] == seed_aspect_word]['w2v_word_count']\n",
    "director_appr = director_appr.values[0]\n",
    "director_appr"
   ]
  },
  {
   "cell_type": "code",
   "execution_count": 19,
   "metadata": {},
   "outputs": [
    {
     "data": {
      "text/plain": [
       "2490190"
      ]
     },
     "execution_count": 19,
     "metadata": {},
     "output_type": "execute_result"
    }
   ],
   "source": [
    "# 'plot'\n",
    "plot_appr = df[df['w2v_word'] == seed_aspect_word]['w2v_word_count']\n",
    "plot_appr = plot_appr.values[0]\n",
    "plot_appr"
   ]
  },
  {
   "cell_type": "code",
   "execution_count": 20,
   "metadata": {},
   "outputs": [],
   "source": [
    "# music\n",
    "music_appr = df[df['w2v_word'] == seed_aspect_word]['w2v_word_count']\n",
    "music_appr = music_appr.values[0]"
   ]
  },
  {
   "cell_type": "code",
   "execution_count": 21,
   "metadata": {},
   "outputs": [
    {
     "data": {
      "text/plain": [
       "2490190"
      ]
     },
     "execution_count": 21,
     "metadata": {},
     "output_type": "execute_result"
    }
   ],
   "source": [
    "# movie\n",
    "movie_appr = df[df['w2v_word'] == seed_aspect_word]['w2v_word_count']\n",
    "movie_appr = movie_appr.values[0]\n",
    "movie_appr"
   ]
  },
  {
   "cell_type": "code",
   "execution_count": 22,
   "metadata": {},
   "outputs": [
    {
     "data": {
      "text/plain": [
       "2490190"
      ]
     },
     "execution_count": 22,
     "metadata": {},
     "output_type": "execute_result"
    }
   ],
   "source": [
    "movie_appr"
   ]
  },
  {
   "cell_type": "code",
   "execution_count": 23,
   "metadata": {},
   "outputs": [
    {
     "data": {
      "text/plain": [
       "12450950"
      ]
     },
     "execution_count": 23,
     "metadata": {},
     "output_type": "execute_result"
    }
   ],
   "source": [
    "total = actor_appr + director_appr + plot_appr + music_appr +movie_appr\n",
    "total"
   ]
  },
  {
   "cell_type": "markdown",
   "metadata": {},
   "source": [
    "##### seed aspects 언급 비율"
   ]
  },
  {
   "cell_type": "code",
   "execution_count": 24,
   "metadata": {},
   "outputs": [
    {
     "data": {
      "image/png": "[encoded data removed]",
      "text/plain": [
       "<Figure size 432x288 with 1 Axes>"
      ]
     },
     "metadata": {},
     "output_type": "display_data"
    }
   ],
   "source": [
    "# \n",
    "import matplotlib.pyplot as plt\n",
    "\n",
    "ratio = [actor_appr/total, director_appr/total, plot_appr/total, music_appr/total,movie_appr/total ]\n",
    "# seed_aspects= ['actor','director','plot','music','movie']\n",
    "\n",
    "plt.title(\"Ratio of Seed Aspects Mention\")\n",
    "plt.pie(ratio, labels=seed_aspects, autopct='%.1f%%')\n",
    "plt.show()"
   ]
  },
  {
   "cell_type": "markdown",
   "metadata": {},
   "source": [
    "movie 가 압도적으로 많은데 문제될까..? 가령 movie로만 aspect 배정된다던가.\n",
    "\n",
    "라고 생각했지만 어차피 similirarity기반으로 aspect categorization됨. 즉, actor 의 경우로 이와 유사한, 거리가 가까운 것들은 비슷한 유사도 가짐."
   ]
  },
  {
   "cell_type": "markdown",
   "metadata": {},
   "source": [
    "#### 3) seed aspect,word 교집합 등장 횟수"
   ]
  },
  {
   "cell_type": "code",
   "execution_count": 9,
   "metadata": {},
   "outputs": [],
   "source": [
    "\n",
    "# 빈 word counter 생성 for aspect word, word 교집합 횟수 찾기\n",
    "word_counts = model.wv.key_to_index.copy()\n",
    "for key, value in word_counts.items():\n",
    "    # do something with value\n",
    "    word_counts[key] = 0\n",
    "    \n",
    "# word_counts\n",
    "\n"
   ]
  },
  {
   "cell_type": "code",
   "execution_count": 12,
   "metadata": {},
   "outputs": [
    {
     "data": {
      "text/html": [
       "<div>\n",
       "<style scoped>\n",
       "    .dataframe tbody tr th:only-of-type {\n",
       "        vertical-align: middle;\n",
       "    }\n",
       "\n",
       "    .dataframe tbody tr th {\n",
       "        vertical-align: top;\n",
       "    }\n",
       "\n",
       "    .dataframe thead th {\n",
       "        text-align: right;\n",
       "    }\n",
       "</style>\n",
       "<table border=\"1\" class=\"dataframe\">\n",
       "  <thead>\n",
       "    <tr style=\"text-align: right;\">\n",
       "      <th></th>\n",
       "      <th>w2v_word</th>\n",
       "      <th>w2v_word_count</th>\n",
       "      <th>movie</th>\n",
       "      <th>actor</th>\n",
       "      <th>director</th>\n",
       "      <th>plot</th>\n",
       "      <th>music</th>\n",
       "    </tr>\n",
       "  </thead>\n",
       "  <tbody>\n",
       "    <tr>\n",
       "      <th>0</th>\n",
       "      <td>movie</td>\n",
       "      <td>2490190</td>\n",
       "      <td>4980380</td>\n",
       "      <td>217110</td>\n",
       "      <td>112376</td>\n",
       "      <td>75840</td>\n",
       "      <td>27719</td>\n",
       "    </tr>\n",
       "    <tr>\n",
       "      <th>1</th>\n",
       "      <td>film</td>\n",
       "      <td>1370123</td>\n",
       "      <td>2740246</td>\n",
       "      <td>137492</td>\n",
       "      <td>86739</td>\n",
       "      <td>43265</td>\n",
       "      <td>19146</td>\n",
       "    </tr>\n",
       "    <tr>\n",
       "      <th>2</th>\n",
       "      <td>actor</td>\n",
       "      <td>852712</td>\n",
       "      <td>1705424</td>\n",
       "      <td>852712</td>\n",
       "      <td>45938</td>\n",
       "      <td>20685</td>\n",
       "      <td>9441</td>\n",
       "    </tr>\n",
       "    <tr>\n",
       "      <th>3</th>\n",
       "      <td>one</td>\n",
       "      <td>764921</td>\n",
       "      <td>1529842</td>\n",
       "      <td>89479</td>\n",
       "      <td>38140</td>\n",
       "      <td>23529</td>\n",
       "      <td>8837</td>\n",
       "    </tr>\n",
       "    <tr>\n",
       "      <th>4</th>\n",
       "      <td>like</td>\n",
       "      <td>651872</td>\n",
       "      <td>1303744</td>\n",
       "      <td>74104</td>\n",
       "      <td>29590</td>\n",
       "      <td>21100</td>\n",
       "      <td>10236</td>\n",
       "    </tr>\n",
       "    <tr>\n",
       "      <th>...</th>\n",
       "      <td>...</td>\n",
       "      <td>...</td>\n",
       "      <td>...</td>\n",
       "      <td>...</td>\n",
       "      <td>...</td>\n",
       "      <td>...</td>\n",
       "      <td>...</td>\n",
       "    </tr>\n",
       "    <tr>\n",
       "      <th>98326</th>\n",
       "      <td>lidya</td>\n",
       "      <td>4</td>\n",
       "      <td>8</td>\n",
       "      <td>1</td>\n",
       "      <td>1</td>\n",
       "      <td>0</td>\n",
       "      <td>0</td>\n",
       "    </tr>\n",
       "    <tr>\n",
       "      <th>98327</th>\n",
       "      <td>yattering</td>\n",
       "      <td>4</td>\n",
       "      <td>8</td>\n",
       "      <td>1</td>\n",
       "      <td>0</td>\n",
       "      <td>0</td>\n",
       "      <td>0</td>\n",
       "    </tr>\n",
       "    <tr>\n",
       "      <th>98328</th>\n",
       "      <td>soojit</td>\n",
       "      <td>4</td>\n",
       "      <td>8</td>\n",
       "      <td>0</td>\n",
       "      <td>0</td>\n",
       "      <td>0</td>\n",
       "      <td>0</td>\n",
       "    </tr>\n",
       "    <tr>\n",
       "      <th>98329</th>\n",
       "      <td>tupper</td>\n",
       "      <td>4</td>\n",
       "      <td>8</td>\n",
       "      <td>2</td>\n",
       "      <td>0</td>\n",
       "      <td>0</td>\n",
       "      <td>0</td>\n",
       "    </tr>\n",
       "    <tr>\n",
       "      <th>98330</th>\n",
       "      <td>desil</td>\n",
       "      <td>4</td>\n",
       "      <td>8</td>\n",
       "      <td>0</td>\n",
       "      <td>0</td>\n",
       "      <td>0</td>\n",
       "      <td>0</td>\n",
       "    </tr>\n",
       "  </tbody>\n",
       "</table>\n",
       "<p>98331 rows × 7 columns</p>\n",
       "</div>"
      ],
      "text/plain": [
       "        w2v_word  w2v_word_count    movie   actor  director   plot  music\n",
       "0          movie         2490190  4980380  217110    112376  75840  27719\n",
       "1           film         1370123  2740246  137492     86739  43265  19146\n",
       "2          actor          852712  1705424  852712     45938  20685   9441\n",
       "3            one          764921  1529842   89479     38140  23529   8837\n",
       "4           like          651872  1303744   74104     29590  21100  10236\n",
       "...          ...             ...      ...     ...       ...    ...    ...\n",
       "98326      lidya               4        8       1         1      0      0\n",
       "98327  yattering               4        8       1         0      0      0\n",
       "98328     soojit               4        8       0         0      0      0\n",
       "98329     tupper               4        8       2         0      0      0\n",
       "98330      desil               4        8       0         0      0      0\n",
       "\n",
       "[98331 rows x 7 columns]"
      ]
     },
     "execution_count": 12,
     "metadata": {},
     "output_type": "execute_result"
    }
   ],
   "source": [
    "with open(\"aspect_count_music\",'rb') as fr:\n",
    "    df = pickle.load(fr)\n",
    "df"
   ]
  },
  {
   "cell_type": "code",
   "execution_count": 13,
   "metadata": {},
   "outputs": [
    {
     "name": "stdout",
     "output_type": "stream",
     "text": [
      "movie 하는중\n"
     ]
    },
    {
     "name": "stderr",
     "output_type": "stream",
     "text": [
      "100%|█████████████████████████████████████████████████████████████████████| 9073573/9073573 [40:49:30<00:00, 61.74it/s]\n"
     ]
    }
   ],
   "source": [
    "with open(\"aspect_count_music\",'rb') as fr:\n",
    "    df = pickle.load(fr)\n",
    "\n",
    "from tqdm import tqdm\n",
    "tqdm.pandas()\n",
    "# seed_aspects = ['actor','director','plot','music','movie'] \n",
    "seed_aspects = ['movie']  # actor,director 'plot','music' 는 끝\n",
    "for aspect_word in seed_aspects: \n",
    "    print(aspect_word,\"하는중\")\n",
    "    \n",
    "    # 빈 word counter 생성 for aspect word, word 교집합 횟수 찾기\n",
    "    asp_word_counts = model.wv.key_to_index.copy()\n",
    "    for key, value in word_counts.items():\n",
    "        # do something with value\n",
    "        asp_word_counts[key] = 0\n",
    "\n",
    "    # 잘 작동 재확인.\n",
    "    w2v_words = list(model.wv.key_to_index.keys())\n",
    "    def aspectNword(aspect_word,sent):\n",
    "        global asp_word_counts\n",
    "        sent = list(set(sent))\n",
    "        for w2vword in w2v_words:\n",
    "            if (aspect_word in sent) and (w2vword in sent):\n",
    "                try:\n",
    "                    asp_word_counts[w2vword] += 1\n",
    "                except: # w2v list에 없는 단어.\n",
    "                    pass\n",
    "\n",
    "    pre_df['w2v_review'].progress_apply(lambda sent : aspectNword(aspect_word,sent))\n",
    "\n",
    "\n",
    "    # aspect dict to df\n",
    "    sr = pd.Series(data = asp_word_counts)\n",
    "    aspect_df = sr.to_frame(name = aspect_word)\n",
    "    aspect_df.reset_index(inplace = True)\n",
    "    aspect_df[aspect_word]\n",
    "    # word_counts\n",
    "\n",
    "    # aspect_word, word 교집합 추가 완료.\n",
    "    df = pd.concat([df,aspect_df[aspect_word]],axis = 1)\n",
    "    df\n",
    "    with open(\"aspect_count_movie\",'wb') as fw:\n",
    "        pickle.dump(df,fw)\n",
    "    with open(\"aspect_count_movie\",'rb') as fr:\n",
    "        df = pickle.load(fr)"
   ]
  },
  {
   "cell_type": "code",
   "execution_count": null,
   "metadata": {},
   "outputs": [],
   "source": [
    "import pickle\n",
    "\n",
    "with open(\"aspect_count_movie\",'rb') as fr:\n",
    "    df = pickle.load(fr)"
   ]
  },
  {
   "cell_type": "code",
   "execution_count": 14,
   "metadata": {},
   "outputs": [
    {
     "data": {
      "text/html": [
       "<div>\n",
       "<style scoped>\n",
       "    .dataframe tbody tr th:only-of-type {\n",
       "        vertical-align: middle;\n",
       "    }\n",
       "\n",
       "    .dataframe tbody tr th {\n",
       "        vertical-align: top;\n",
       "    }\n",
       "\n",
       "    .dataframe thead th {\n",
       "        text-align: right;\n",
       "    }\n",
       "</style>\n",
       "<table border=\"1\" class=\"dataframe\">\n",
       "  <thead>\n",
       "    <tr style=\"text-align: right;\">\n",
       "      <th></th>\n",
       "      <th>w2v_word</th>\n",
       "      <th>w2v_word_count</th>\n",
       "      <th>movie</th>\n",
       "      <th>actor</th>\n",
       "      <th>director</th>\n",
       "      <th>plot</th>\n",
       "      <th>music</th>\n",
       "      <th>movie</th>\n",
       "    </tr>\n",
       "  </thead>\n",
       "  <tbody>\n",
       "    <tr>\n",
       "      <th>0</th>\n",
       "      <td>movie</td>\n",
       "      <td>2490190</td>\n",
       "      <td>4980380</td>\n",
       "      <td>217110</td>\n",
       "      <td>112376</td>\n",
       "      <td>75840</td>\n",
       "      <td>27719</td>\n",
       "      <td>2490190</td>\n",
       "    </tr>\n",
       "    <tr>\n",
       "      <th>1</th>\n",
       "      <td>film</td>\n",
       "      <td>1370123</td>\n",
       "      <td>2740246</td>\n",
       "      <td>137492</td>\n",
       "      <td>86739</td>\n",
       "      <td>43265</td>\n",
       "      <td>19146</td>\n",
       "      <td>274944</td>\n",
       "    </tr>\n",
       "    <tr>\n",
       "      <th>2</th>\n",
       "      <td>actor</td>\n",
       "      <td>852712</td>\n",
       "      <td>1705424</td>\n",
       "      <td>852712</td>\n",
       "      <td>45938</td>\n",
       "      <td>20685</td>\n",
       "      <td>9441</td>\n",
       "      <td>217110</td>\n",
       "    </tr>\n",
       "    <tr>\n",
       "      <th>3</th>\n",
       "      <td>one</td>\n",
       "      <td>764921</td>\n",
       "      <td>1529842</td>\n",
       "      <td>89479</td>\n",
       "      <td>38140</td>\n",
       "      <td>23529</td>\n",
       "      <td>8837</td>\n",
       "      <td>284271</td>\n",
       "    </tr>\n",
       "    <tr>\n",
       "      <th>4</th>\n",
       "      <td>like</td>\n",
       "      <td>651872</td>\n",
       "      <td>1303744</td>\n",
       "      <td>74104</td>\n",
       "      <td>29590</td>\n",
       "      <td>21100</td>\n",
       "      <td>10236</td>\n",
       "      <td>257270</td>\n",
       "    </tr>\n",
       "    <tr>\n",
       "      <th>...</th>\n",
       "      <td>...</td>\n",
       "      <td>...</td>\n",
       "      <td>...</td>\n",
       "      <td>...</td>\n",
       "      <td>...</td>\n",
       "      <td>...</td>\n",
       "      <td>...</td>\n",
       "      <td>...</td>\n",
       "    </tr>\n",
       "    <tr>\n",
       "      <th>98326</th>\n",
       "      <td>lidya</td>\n",
       "      <td>4</td>\n",
       "      <td>8</td>\n",
       "      <td>1</td>\n",
       "      <td>1</td>\n",
       "      <td>0</td>\n",
       "      <td>0</td>\n",
       "      <td>1</td>\n",
       "    </tr>\n",
       "    <tr>\n",
       "      <th>98327</th>\n",
       "      <td>yattering</td>\n",
       "      <td>4</td>\n",
       "      <td>8</td>\n",
       "      <td>1</td>\n",
       "      <td>0</td>\n",
       "      <td>0</td>\n",
       "      <td>0</td>\n",
       "      <td>1</td>\n",
       "    </tr>\n",
       "    <tr>\n",
       "      <th>98328</th>\n",
       "      <td>soojit</td>\n",
       "      <td>4</td>\n",
       "      <td>8</td>\n",
       "      <td>0</td>\n",
       "      <td>0</td>\n",
       "      <td>0</td>\n",
       "      <td>0</td>\n",
       "      <td>2</td>\n",
       "    </tr>\n",
       "    <tr>\n",
       "      <th>98329</th>\n",
       "      <td>tupper</td>\n",
       "      <td>4</td>\n",
       "      <td>8</td>\n",
       "      <td>2</td>\n",
       "      <td>0</td>\n",
       "      <td>0</td>\n",
       "      <td>0</td>\n",
       "      <td>0</td>\n",
       "    </tr>\n",
       "    <tr>\n",
       "      <th>98330</th>\n",
       "      <td>desil</td>\n",
       "      <td>4</td>\n",
       "      <td>8</td>\n",
       "      <td>0</td>\n",
       "      <td>0</td>\n",
       "      <td>0</td>\n",
       "      <td>0</td>\n",
       "      <td>2</td>\n",
       "    </tr>\n",
       "  </tbody>\n",
       "</table>\n",
       "<p>98331 rows × 8 columns</p>\n",
       "</div>"
      ],
      "text/plain": [
       "        w2v_word  w2v_word_count    movie   actor  director   plot  music  \\\n",
       "0          movie         2490190  4980380  217110    112376  75840  27719   \n",
       "1           film         1370123  2740246  137492     86739  43265  19146   \n",
       "2          actor          852712  1705424  852712     45938  20685   9441   \n",
       "3            one          764921  1529842   89479     38140  23529   8837   \n",
       "4           like          651872  1303744   74104     29590  21100  10236   \n",
       "...          ...             ...      ...     ...       ...    ...    ...   \n",
       "98326      lidya               4        8       1         1      0      0   \n",
       "98327  yattering               4        8       1         0      0      0   \n",
       "98328     soojit               4        8       0         0      0      0   \n",
       "98329     tupper               4        8       2         0      0      0   \n",
       "98330      desil               4        8       0         0      0      0   \n",
       "\n",
       "         movie  \n",
       "0      2490190  \n",
       "1       274944  \n",
       "2       217110  \n",
       "3       284271  \n",
       "4       257270  \n",
       "...        ...  \n",
       "98326        1  \n",
       "98327        1  \n",
       "98328        2  \n",
       "98329        0  \n",
       "98330        2  \n",
       "\n",
       "[98331 rows x 8 columns]"
      ]
     },
     "execution_count": 14,
     "metadata": {},
     "output_type": "execute_result"
    }
   ],
   "source": [
    "with open(\"aspect_count_movie\",'rb') as fr:\n",
    "    df = pickle.load(fr)\n",
    "df\n",
    "    "
   ]
  },
  {
   "cell_type": "code",
   "execution_count": 33,
   "metadata": {},
   "outputs": [],
   "source": [
    "df1 = df.iloc[:,:2]\n",
    "df2 = df.iloc[:,3:]\n",
    "df = pd.concat([df1,df2],axis = 1)"
   ]
  },
  {
   "cell_type": "code",
   "execution_count": 34,
   "metadata": {},
   "outputs": [],
   "source": [
    "with open(\"aspect_count_final\",'wb') as fw:\n",
    "    pickle.dump(df,fw)\n",
    "with open(\"aspect_count_final\",'rb') as fr:\n",
    "    df = pickle.load(fr)"
   ]
  },
  {
   "cell_type": "markdown",
   "metadata": {},
   "source": [
    "#### 4) lift 값 구하기"
   ]
  },
  {
   "cell_type": "markdown",
   "metadata": {},
   "source": [
    "1), 2) 하고 하셈."
   ]
  },
  {
   "cell_type": "markdown",
   "metadata": {},
   "source": [
    "\n",
    "(Aspect 나온 문장에서 word1가 같이 나온 sentence 횟수 / Aspect 나온 sent 횟수)/ word1이 나온 sentence 수  각각 컬럼으로 만들어서 연산"
   ]
  },
  {
   "cell_type": "code",
   "execution_count": null,
   "metadata": {},
   "outputs": [],
   "source": [
    "(df[aspect_word]/Aspect 나온 sent 횟수)/df['w2v_word_count'] # 하면 컬럼 네개 나오겠네. aspect 별."
   ]
  },
  {
   "cell_type": "markdown",
   "metadata": {},
   "source": [
    "주의!!!\n",
    "seed_aspect 에 대해 각자 아래 코드 반복함. 반복지점 표시해놓음."
   ]
  },
  {
   "cell_type": "code",
   "execution_count": 198,
   "metadata": {},
   "outputs": [],
   "source": [
    "seed_aspects = ['actor','director','plot','music','movie'] \n",
    "seed_aspect = 'movie'"
   ]
  },
  {
   "cell_type": "code",
   "execution_count": 199,
   "metadata": {},
   "outputs": [
    {
     "data": {
      "text/plain": [
       "2490190"
      ]
     },
     "execution_count": 199,
     "metadata": {},
     "output_type": "execute_result"
    }
   ],
   "source": [
    "df[seed_aspect] # Aspect 나온 문장에서 word1가 같이 나온 sentence 횟수\n",
    "# actor,director\n",
    "df[df['w2v_word'] == seed_aspect][seed_aspect].values[0] # aspect 나온 sent 횟수\n",
    "# df['w2v_word_count'] # \"word1이 나온 sentence 수\"\n",
    "# len(pre_df) #전체 sent 수"
   ]
  },
  {
   "cell_type": "markdown",
   "metadata": {},
   "source": [
    "반복 지점."
   ]
  },
  {
   "cell_type": "code",
   "execution_count": 200,
   "metadata": {},
   "outputs": [],
   "source": [
    "# Aspect 나온 sent 횟수\n",
    "aspect_sent_no = df[df['w2v_word'] == seed_aspect][seed_aspect].values[0]"
   ]
  },
  {
   "cell_type": "markdown",
   "metadata": {},
   "source": [
    "각자 aspect 중 아래 중 하나만 선택."
   ]
  },
  {
   "cell_type": "code",
   "execution_count": 178,
   "metadata": {},
   "outputs": [
    {
     "name": "stderr",
     "output_type": "stream",
     "text": [
      "100%|█████████████████████████████████████████████████████████████████████████| 98331/98331 [00:01<00:00, 86635.52it/s]\n"
     ]
    }
   ],
   "source": [
    "actor_lift = []\n",
    "# lift 값은 무조건 0보다 커야함.\n",
    "def get_lift(row):\n",
    "    actor_lift.append((row[seed_aspect]/aspect_sent_no)/(row['w2v_word_count']/9073573))\n",
    "    \n",
    "    \n",
    " \n",
    "df.progress_apply(lambda row: get_lift(row),axis = 1)\n",
    "actor_lift_arr = np.array(actor_lift)\n"
   ]
  },
  {
   "cell_type": "code",
   "execution_count": 182,
   "metadata": {},
   "outputs": [
    {
     "name": "stdout",
     "output_type": "stream",
     "text": [
      "director\n"
     ]
    },
    {
     "name": "stderr",
     "output_type": "stream",
     "text": [
      "100%|█████████████████████████████████████████████████████████████████████████| 98331/98331 [00:01<00:00, 85449.53it/s]\n"
     ]
    }
   ],
   "source": [
    "director_lift = []\n",
    "print(seed_aspect)\n",
    "def get_lift(row):\n",
    "    director_lift.append((row[seed_aspect]/aspect_sent_no)/(row['w2v_word_count']/9073573))\n",
    " \n",
    "df.progress_apply(lambda row: get_lift(row),axis = 1)\n",
    "director_lift_arr = np.array(director_lift)\n"
   ]
  },
  {
   "cell_type": "code",
   "execution_count": 193,
   "metadata": {},
   "outputs": [
    {
     "name": "stdout",
     "output_type": "stream",
     "text": [
      "plot\n"
     ]
    },
    {
     "name": "stderr",
     "output_type": "stream",
     "text": [
      "100%|█████████████████████████████████████████████████████████████████████████| 98331/98331 [00:01<00:00, 82713.07it/s]\n"
     ]
    }
   ],
   "source": [
    "plot_lift = []\n",
    "print(seed_aspect)\n",
    "def get_lift(row):\n",
    "    plot_lift.append((row[seed_aspect]/aspect_sent_no)/(row['w2v_word_count']/9073573))\n",
    " \n",
    "df.progress_apply(lambda row: get_lift(row),axis = 1)\n",
    "plot_lift_arr = np.array(plot_lift) \n"
   ]
  },
  {
   "cell_type": "code",
   "execution_count": 197,
   "metadata": {},
   "outputs": [
    {
     "name": "stdout",
     "output_type": "stream",
     "text": [
      "music\n"
     ]
    },
    {
     "name": "stderr",
     "output_type": "stream",
     "text": [
      "100%|█████████████████████████████████████████████████████████████████████████| 98331/98331 [00:01<00:00, 78498.46it/s]\n"
     ]
    }
   ],
   "source": [
    "music_lift = []\n",
    "print(seed_aspect)\n",
    "def get_lift(row):\n",
    "    music_lift.append((row[seed_aspect]/aspect_sent_no)/(row['w2v_word_count']/9073573))\n",
    " \n",
    "df.progress_apply(lambda row: get_lift(row),axis = 1)\n",
    "music_lift_arr = np.array(music_lift) \n"
   ]
  },
  {
   "cell_type": "code",
   "execution_count": 201,
   "metadata": {},
   "outputs": [
    {
     "name": "stdout",
     "output_type": "stream",
     "text": [
      "movie\n"
     ]
    },
    {
     "name": "stderr",
     "output_type": "stream",
     "text": [
      "100%|█████████████████████████████████████████████████████████████████████████| 98331/98331 [00:01<00:00, 85139.43it/s]\n"
     ]
    }
   ],
   "source": [
    "movie_lift = []\n",
    "print(seed_aspect)\n",
    "def get_lift(row):\n",
    "    movie_lift.append((row[seed_aspect]/aspect_sent_no)/(row['w2v_word_count']/9073573))\n",
    " \n",
    "df.progress_apply(lambda row: get_lift(row),axis = 1)\n",
    "movie_lift_arr = np.array(movie_lift) \n"
   ]
  },
  {
   "cell_type": "code",
   "execution_count": 202,
   "metadata": {},
   "outputs": [
    {
     "data": {
      "text/plain": [
       "(5, 98331)"
      ]
     },
     "execution_count": 202,
     "metadata": {},
     "output_type": "execute_result"
    }
   ],
   "source": [
    "lift = np.vstack((actor_lift_arr,director_lift_arr,plot_lift_arr,music_lift_arr,movie_lift_arr))\n",
    "lift.shape"
   ]
  },
  {
   "cell_type": "code",
   "execution_count": 203,
   "metadata": {},
   "outputs": [
    {
     "data": {
      "text/plain": [
       "array([[ 0.92773364,  1.06780964, 10.64084122, ...,  0.        ,\n",
       "         5.32042061,  0.        ],\n",
       "       [ 1.32852545,  1.8637328 ,  1.58598291, ...,  0.        ,\n",
       "         0.        ,  0.        ],\n",
       "       [ 1.23700293,  1.28257284,  0.98527631, ...,  0.        ,\n",
       "         0.        ,  0.        ],\n",
       "       [ 1.0798494 ,  1.35561578,  1.07407285, ...,  0.        ,\n",
       "         0.        ,  0.        ],\n",
       "       [ 3.64372719,  0.7311905 ,  0.92773364, ...,  1.82186359,\n",
       "         0.        ,  1.82186359]])"
      ]
     },
     "execution_count": 203,
     "metadata": {},
     "output_type": "execute_result"
    }
   ],
   "source": [
    "lift # 잘되었나 더블체크 완료."
   ]
  },
  {
   "cell_type": "code",
   "execution_count": 174,
   "metadata": {},
   "outputs": [],
   "source": [
    "# with open(\"lift\",'wb') as fw:\n",
    "#     pickle.dump(lift,fw)\n",
    "with open(\"lift\",'rb') as fr:\n",
    "    lift = pickle.load(fr)"
   ]
  },
  {
   "cell_type": "markdown",
   "metadata": {},
   "source": [
    "### 편차조정"
   ]
  },
  {
   "cell_type": "code",
   "execution_count": 216,
   "metadata": {},
   "outputs": [
    {
     "data": {
      "text/plain": [
       "array([3.64372719, 0.7311905 , 0.92773364, ..., 1.82186359, 0.        ,\n",
       "       1.82186359])"
      ]
     },
     "execution_count": 216,
     "metadata": {},
     "output_type": "execute_result"
    }
   ],
   "source": [
    "lift\n",
    "seed_aspects # 'actor', 'director', 'plot', 'music', 'movie' 순서로 행에 해당.\n"
   ]
  },
  {
   "cell_type": "code",
   "execution_count": 238,
   "metadata": {},
   "outputs": [
    {
     "data": {
      "text/plain": [
       "array([ 0.92773364,  1.06780964, 10.64084122, ...,  0.        ,\n",
       "        5.32042061,  0.        ])"
      ]
     },
     "execution_count": 238,
     "metadata": {},
     "output_type": "execute_result"
    }
   ],
   "source": [
    "lift[0] "
   ]
  },
  {
   "cell_type": "code",
   "execution_count": 239,
   "metadata": {},
   "outputs": [
    {
     "data": {
      "text/plain": [
       "array([1.32852545, 1.8637328 , 1.58598291, ..., 0.        , 0.        ,\n",
       "       0.        ])"
      ]
     },
     "execution_count": 239,
     "metadata": {},
     "output_type": "execute_result"
    }
   ],
   "source": [
    "lift[1] "
   ]
  },
  {
   "cell_type": "code",
   "execution_count": 240,
   "metadata": {},
   "outputs": [
    {
     "data": {
      "text/plain": [
       "array([-0.53412527, -0.45763692,  4.76970699, ..., -1.04071325,\n",
       "        1.86449687, -1.04071325])"
      ]
     },
     "execution_count": 240,
     "metadata": {},
     "output_type": "execute_result"
    }
   ],
   "source": [
    "aspect_no = 0 # actor\n",
    "lift[aspect_no] \n",
    "mean = lift[aspect_no].mean()\n",
    "std = lift[aspect_no].std()\n",
    "\n",
    "arr = np.array([])\n",
    "\n",
    "for t in lift[aspect_no]:\n",
    "    arr = np.append(arr,(t-mean)/std)\n",
    "\n",
    "actor_arr = arr.copy()\n",
    "actor_arr"
   ]
  },
  {
   "cell_type": "code",
   "execution_count": 241,
   "metadata": {},
   "outputs": [
    {
     "data": {
      "text/plain": [
       "array([-0.16925697,  0.03303031, -0.0719482 , ..., -0.67138724,\n",
       "       -0.67138724, -0.67138724])"
      ]
     },
     "execution_count": 241,
     "metadata": {},
     "output_type": "execute_result"
    }
   ],
   "source": [
    "aspect_no = 1 # director\n",
    "lift[aspect_no] \n",
    "mean = lift[aspect_no].mean()\n",
    "std = lift[aspect_no].std()\n",
    "\n",
    "arr = np.array([])\n",
    "\n",
    "for t in lift[aspect_no]:\n",
    "    arr = np.append(arr,(t-mean)/std)\n",
    "\n",
    "director_arr = arr.copy()\n",
    "director_arr"
   ]
  },
  {
   "cell_type": "code",
   "execution_count": 242,
   "metadata": {},
   "outputs": [
    {
     "data": {
      "text/plain": [
       "array([-0.02507454, -0.00664929, -0.12685498, ..., -0.52523101,\n",
       "       -0.52523101, -0.52523101])"
      ]
     },
     "execution_count": 242,
     "metadata": {},
     "output_type": "execute_result"
    }
   ],
   "source": [
    "aspect_no = 2 # plot\n",
    "lift[aspect_no] \n",
    "mean = lift[aspect_no].mean()\n",
    "std = lift[aspect_no].std()\n",
    "\n",
    "arr = np.array([])\n",
    "\n",
    "for t in lift[aspect_no]:\n",
    "    arr = np.append(arr,(t-mean)/std)\n",
    "\n",
    "plot_arr = arr.copy()\n",
    "plot_arr"
   ]
  },
  {
   "cell_type": "code",
   "execution_count": 243,
   "metadata": {},
   "outputs": [
    {
     "data": {
      "text/plain": [
       "array([-0.13594599, -0.08427212, -0.13702841, ..., -0.33829116,\n",
       "       -0.33829116, -0.33829116])"
      ]
     },
     "execution_count": 243,
     "metadata": {},
     "output_type": "execute_result"
    }
   ],
   "source": [
    "aspect_no = 3 # music\n",
    "lift[aspect_no] \n",
    "mean = lift[aspect_no].mean()\n",
    "std = lift[aspect_no].std()\n",
    "\n",
    "arr = np.array([])\n",
    "\n",
    "for t in lift[aspect_no]:\n",
    "    arr = np.append(arr,(t-mean)/std)\n",
    "\n",
    "music_arr = arr.copy()\n",
    "music_arr"
   ]
  },
  {
   "cell_type": "code",
   "execution_count": 244,
   "metadata": {},
   "outputs": [
    {
     "data": {
      "text/plain": [
       "array([ 4.11520422, -0.46052101, -0.15174296, ...,  1.25297513,\n",
       "       -1.60925396,  1.25297513])"
      ]
     },
     "execution_count": 244,
     "metadata": {},
     "output_type": "execute_result"
    }
   ],
   "source": [
    "aspect_no = 4 # movie\n",
    "lift[aspect_no] \n",
    "mean = lift[aspect_no].mean()\n",
    "std = lift[aspect_no].std()\n",
    "\n",
    "arr = np.array([])\n",
    "\n",
    "for t in lift[aspect_no]:\n",
    "    arr = np.append(arr,(t-mean)/std)\n",
    "\n",
    "movie_arr = arr.copy()\n",
    "movie_arr"
   ]
  },
  {
   "cell_type": "code",
   "execution_count": 247,
   "metadata": {},
   "outputs": [],
   "source": [
    "z_lift = np.vstack((actor_arr, director_arr, plot_arr, music_arr, movie_arr))\n"
   ]
  },
  {
   "cell_type": "code",
   "execution_count": 248,
   "metadata": {},
   "outputs": [],
   "source": [
    "with open(\"z_lift\",'wb') as fw:\n",
    "    pickle.dump(z_lift,fw)\n",
    "with open(\"z_lift\",'rb') as fr:\n",
    "    z_lift = pickle.load(fr)"
   ]
  },
  {
   "cell_type": "code",
   "execution_count": 249,
   "metadata": {},
   "outputs": [
    {
     "data": {
      "text/plain": [
       "array([[-0.53412527, -0.45763692,  4.76970699, ..., -1.04071325,\n",
       "         1.86449687, -1.04071325],\n",
       "       [-0.16925697,  0.03303031, -0.0719482 , ..., -0.67138724,\n",
       "        -0.67138724, -0.67138724],\n",
       "       [-0.02507454, -0.00664929, -0.12685498, ..., -0.52523101,\n",
       "        -0.52523101, -0.52523101],\n",
       "       [-0.13594599, -0.08427212, -0.13702841, ..., -0.33829116,\n",
       "        -0.33829116, -0.33829116],\n",
       "       [ 4.11520422, -0.46052101, -0.15174296, ...,  1.25297513,\n",
       "        -1.60925396,  1.25297513]])"
      ]
     },
     "execution_count": 249,
     "metadata": {},
     "output_type": "execute_result"
    }
   ],
   "source": [
    "z_lift"
   ]
  },
  {
   "cell_type": "markdown",
   "metadata": {},
   "source": [
    "# 5. ATM * z_lift"
   ]
  },
  {
   "cell_type": "code",
   "execution_count": 250,
   "metadata": {},
   "outputs": [
    {
     "data": {
      "text/plain": [
       "array([[0.40169773, 0.34135902, 1.        , ..., 0.41429943, 0.47081256,\n",
       "        0.52099705],\n",
       "       [0.43375772, 0.50365853, 0.347701  , ..., 0.37201825, 0.13168524,\n",
       "        0.36852747],\n",
       "       [0.3848715 , 0.36618134, 0.19956185, ..., 0.19227424, 0.06826872,\n",
       "        0.37319568],\n",
       "       [0.28645107, 0.30613926, 0.20057786, ..., 0.27717882, 0.14545426,\n",
       "        0.3683098 ],\n",
       "       [0.99999994, 0.8621377 , 0.40169773, ..., 0.29684043, 0.12285058,\n",
       "        0.44057852]], dtype=float32)"
      ]
     },
     "execution_count": 250,
     "metadata": {},
     "output_type": "execute_result"
    }
   ],
   "source": [
    "ATM"
   ]
  },
  {
   "cell_type": "code",
   "execution_count": null,
   "metadata": {},
   "outputs": [],
   "source": [
    "# 행렬곱하셈 알아서~"
   ]
  },
  {
   "cell_type": "code",
   "execution_count": 254,
   "metadata": {},
   "outputs": [],
   "source": [
    "a = np.array([[1,2,3,4],\n",
    "            [1,1,1,1]])\n",
    "b = np.array([[1,1,1,4],\n",
    "            [1,1,1,9]])"
   ]
  },
  {
   "cell_type": "code",
   "execution_count": 255,
   "metadata": {},
   "outputs": [
    {
     "data": {
      "text/plain": [
       "array([[ 1,  2,  3, 16],\n",
       "       [ 1,  1,  1,  9]])"
      ]
     },
     "execution_count": 255,
     "metadata": {},
     "output_type": "execute_result"
    }
   ],
   "source": [
    "np.multiply(a,b)"
   ]
  },
  {
   "cell_type": "code",
   "execution_count": 256,
   "metadata": {},
   "outputs": [],
   "source": [
    "z_ATM = np.multiply(ATM,z_lift)"
   ]
  },
  {
   "cell_type": "code",
   "execution_count": 257,
   "metadata": {},
   "outputs": [],
   "source": [
    "# with open(\"z_ATM\",'wb') as fw:\n",
    "#     pickle.dump(z_ATM,fw)\n",
    "with open(\"z_ATM\",'rb') as fr:\n",
    "    z_ATM = pickle.load(fr)"
   ]
  },
  {
   "cell_type": "code",
   "execution_count": 259,
   "metadata": {},
   "outputs": [
    {
     "data": {
      "text/plain": [
       "(5, 98331)"
      ]
     },
     "execution_count": 259,
     "metadata": {},
     "output_type": "execute_result"
    }
   ],
   "source": [
    "z_ATM.shape"
   ]
  },
  {
   "cell_type": "markdown",
   "metadata": {},
   "source": [
    "# 6. Aspect Categorization"
   ]
  },
  {
   "cell_type": "code",
   "execution_count": 266,
   "metadata": {},
   "outputs": [
    {
     "data": {
      "text/plain": [
       "<9073573x98331 sparse matrix of type '<class 'numpy.int32'>'\n",
       "\twith 92080773 stored elements in Compressed Sparse Row format>"
      ]
     },
     "execution_count": 266,
     "metadata": {},
     "output_type": "execute_result"
    }
   ],
   "source": [
    "STM = term_document_csr_mat\n",
    "STM"
   ]
  },
  {
   "cell_type": "code",
   "execution_count": 267,
   "metadata": {},
   "outputs": [
    {
     "data": {
      "text/plain": [
       "(98331, 5)"
      ]
     },
     "execution_count": 267,
     "metadata": {},
     "output_type": "execute_result"
    }
   ],
   "source": [
    "z_ATM.T.shape"
   ]
  },
  {
   "cell_type": "code",
   "execution_count": 271,
   "metadata": {},
   "outputs": [],
   "source": [
    "z_DSM = STM @ z_ATM.T"
   ]
  },
  {
   "cell_type": "code",
   "execution_count": 272,
   "metadata": {},
   "outputs": [],
   "source": [
    "import pandas as pd\n",
    "seed_aspects = ['actor','director','plot','music','movie']\n",
    "z_DSM = pd.DataFrame(DSM,columns = seed_aspects)"
   ]
  },
  {
   "cell_type": "code",
   "execution_count": 273,
   "metadata": {},
   "outputs": [],
   "source": [
    "# with open(\"z_DSM\",'wb') as fw:\n",
    "#     pickle.dump(z_DSM,fw)\n",
    "with open(\"z_DSM\",'rb') as fr:\n",
    "    z_DSM = pickle.load(fr)"
   ]
  },
  {
   "cell_type": "code",
   "execution_count": 274,
   "metadata": {},
   "outputs": [
    {
     "data": {
      "text/html": [
       "<div>\n",
       "<style scoped>\n",
       "    .dataframe tbody tr th:only-of-type {\n",
       "        vertical-align: middle;\n",
       "    }\n",
       "\n",
       "    .dataframe tbody tr th {\n",
       "        vertical-align: top;\n",
       "    }\n",
       "\n",
       "    .dataframe thead th {\n",
       "        text-align: right;\n",
       "    }\n",
       "</style>\n",
       "<table border=\"1\" class=\"dataframe\">\n",
       "  <thead>\n",
       "    <tr style=\"text-align: right;\">\n",
       "      <th></th>\n",
       "      <th>actor</th>\n",
       "      <th>director</th>\n",
       "      <th>plot</th>\n",
       "      <th>music</th>\n",
       "      <th>movie</th>\n",
       "    </tr>\n",
       "  </thead>\n",
       "  <tbody>\n",
       "    <tr>\n",
       "      <th>0</th>\n",
       "      <td>2.389360</td>\n",
       "      <td>9.433179</td>\n",
       "      <td>0.710298</td>\n",
       "      <td>-0.299814</td>\n",
       "      <td>7.831917</td>\n",
       "    </tr>\n",
       "    <tr>\n",
       "      <th>1</th>\n",
       "      <td>-2.124544</td>\n",
       "      <td>-0.836370</td>\n",
       "      <td>16.536104</td>\n",
       "      <td>-0.381023</td>\n",
       "      <td>5.436779</td>\n",
       "    </tr>\n",
       "    <tr>\n",
       "      <th>2</th>\n",
       "      <td>-0.082687</td>\n",
       "      <td>-0.006446</td>\n",
       "      <td>-0.027007</td>\n",
       "      <td>-0.023508</td>\n",
       "      <td>0.251401</td>\n",
       "    </tr>\n",
       "    <tr>\n",
       "      <th>3</th>\n",
       "      <td>0.768932</td>\n",
       "      <td>-0.141077</td>\n",
       "      <td>0.073834</td>\n",
       "      <td>-0.048367</td>\n",
       "      <td>0.335190</td>\n",
       "    </tr>\n",
       "    <tr>\n",
       "      <th>4</th>\n",
       "      <td>0.128296</td>\n",
       "      <td>-0.266775</td>\n",
       "      <td>0.266382</td>\n",
       "      <td>-0.177085</td>\n",
       "      <td>1.507383</td>\n",
       "    </tr>\n",
       "    <tr>\n",
       "      <th>...</th>\n",
       "      <td>...</td>\n",
       "      <td>...</td>\n",
       "      <td>...</td>\n",
       "      <td>...</td>\n",
       "      <td>...</td>\n",
       "    </tr>\n",
       "    <tr>\n",
       "      <th>9073568</th>\n",
       "      <td>-0.347090</td>\n",
       "      <td>-0.228813</td>\n",
       "      <td>0.002570</td>\n",
       "      <td>0.512569</td>\n",
       "      <td>0.775891</td>\n",
       "    </tr>\n",
       "    <tr>\n",
       "      <th>9073569</th>\n",
       "      <td>0.021397</td>\n",
       "      <td>-0.123469</td>\n",
       "      <td>-0.040070</td>\n",
       "      <td>-0.037550</td>\n",
       "      <td>0.420893</td>\n",
       "    </tr>\n",
       "    <tr>\n",
       "      <th>9073570</th>\n",
       "      <td>1.386773</td>\n",
       "      <td>-0.328723</td>\n",
       "      <td>0.261708</td>\n",
       "      <td>1.050759</td>\n",
       "      <td>1.529323</td>\n",
       "    </tr>\n",
       "    <tr>\n",
       "      <th>9073571</th>\n",
       "      <td>-0.135563</td>\n",
       "      <td>-0.080004</td>\n",
       "      <td>0.745304</td>\n",
       "      <td>-0.079650</td>\n",
       "      <td>0.102765</td>\n",
       "    </tr>\n",
       "    <tr>\n",
       "      <th>9073572</th>\n",
       "      <td>-0.164151</td>\n",
       "      <td>0.009384</td>\n",
       "      <td>0.240606</td>\n",
       "      <td>-0.064056</td>\n",
       "      <td>0.205091</td>\n",
       "    </tr>\n",
       "  </tbody>\n",
       "</table>\n",
       "<p>9073573 rows × 5 columns</p>\n",
       "</div>"
      ],
      "text/plain": [
       "            actor  director       plot     music     movie\n",
       "0        2.389360  9.433179   0.710298 -0.299814  7.831917\n",
       "1       -2.124544 -0.836370  16.536104 -0.381023  5.436779\n",
       "2       -0.082687 -0.006446  -0.027007 -0.023508  0.251401\n",
       "3        0.768932 -0.141077   0.073834 -0.048367  0.335190\n",
       "4        0.128296 -0.266775   0.266382 -0.177085  1.507383\n",
       "...           ...       ...        ...       ...       ...\n",
       "9073568 -0.347090 -0.228813   0.002570  0.512569  0.775891\n",
       "9073569  0.021397 -0.123469  -0.040070 -0.037550  0.420893\n",
       "9073570  1.386773 -0.328723   0.261708  1.050759  1.529323\n",
       "9073571 -0.135563 -0.080004   0.745304 -0.079650  0.102765\n",
       "9073572 -0.164151  0.009384   0.240606 -0.064056  0.205091\n",
       "\n",
       "[9073573 rows x 5 columns]"
      ]
     },
     "execution_count": 274,
     "metadata": {},
     "output_type": "execute_result"
    }
   ],
   "source": [
    "z_DSM"
   ]
  },
  {
   "cell_type": "code",
   "execution_count": 277,
   "metadata": {},
   "outputs": [
    {
     "name": "stderr",
     "output_type": "stream",
     "text": [
      "100%|██████████████████████████████████████████████████████████████████████| 9073573/9073573 [27:17<00:00, 5541.54it/s]\n"
     ]
    }
   ],
   "source": [
    "# apply로 Aspect Categorization --> 15분. \n",
    "from tqdm import tqdm\n",
    "tqdm.pandas()\n",
    "# temp = z_DSM.loc[:100].copy()\n",
    "\n",
    "\n",
    "def Aspect_Naming(row):\n",
    "    if sum(row == 0) == 5:\n",
    "        return \"none\"\n",
    "    else:\n",
    "        return row[max(row) == row].keys()[0]\n",
    "\n",
    "# temp['Aspect_wo_lift'] = temp.progress_apply(lambda row: Aspect_Naming(row) ,axis = 1)\n",
    "\n",
    "z_DSM['Aspect_wo_lift'] = z_DSM.progress_apply(lambda row: Aspect_Naming(row),axis = 1)\n"
   ]
  },
  {
   "cell_type": "code",
   "execution_count": 276,
   "metadata": {},
   "outputs": [
    {
     "data": {
      "text/html": [
       "<div>\n",
       "<style scoped>\n",
       "    .dataframe tbody tr th:only-of-type {\n",
       "        vertical-align: middle;\n",
       "    }\n",
       "\n",
       "    .dataframe tbody tr th {\n",
       "        vertical-align: top;\n",
       "    }\n",
       "\n",
       "    .dataframe thead th {\n",
       "        text-align: right;\n",
       "    }\n",
       "</style>\n",
       "<table border=\"1\" class=\"dataframe\">\n",
       "  <thead>\n",
       "    <tr style=\"text-align: right;\">\n",
       "      <th></th>\n",
       "      <th>actor</th>\n",
       "      <th>director</th>\n",
       "      <th>plot</th>\n",
       "      <th>music</th>\n",
       "      <th>movie</th>\n",
       "      <th>Aspect_wo_lift</th>\n",
       "    </tr>\n",
       "  </thead>\n",
       "  <tbody>\n",
       "    <tr>\n",
       "      <th>0</th>\n",
       "      <td>2.389360</td>\n",
       "      <td>9.433179</td>\n",
       "      <td>0.710298</td>\n",
       "      <td>-0.299814</td>\n",
       "      <td>7.831917</td>\n",
       "      <td>director</td>\n",
       "    </tr>\n",
       "    <tr>\n",
       "      <th>1</th>\n",
       "      <td>-2.124544</td>\n",
       "      <td>-0.836370</td>\n",
       "      <td>16.536104</td>\n",
       "      <td>-0.381023</td>\n",
       "      <td>5.436779</td>\n",
       "      <td>plot</td>\n",
       "    </tr>\n",
       "    <tr>\n",
       "      <th>2</th>\n",
       "      <td>-0.082687</td>\n",
       "      <td>-0.006446</td>\n",
       "      <td>-0.027007</td>\n",
       "      <td>-0.023508</td>\n",
       "      <td>0.251401</td>\n",
       "      <td>movie</td>\n",
       "    </tr>\n",
       "    <tr>\n",
       "      <th>3</th>\n",
       "      <td>0.768932</td>\n",
       "      <td>-0.141077</td>\n",
       "      <td>0.073834</td>\n",
       "      <td>-0.048367</td>\n",
       "      <td>0.335190</td>\n",
       "      <td>actor</td>\n",
       "    </tr>\n",
       "    <tr>\n",
       "      <th>4</th>\n",
       "      <td>0.128296</td>\n",
       "      <td>-0.266775</td>\n",
       "      <td>0.266382</td>\n",
       "      <td>-0.177085</td>\n",
       "      <td>1.507383</td>\n",
       "      <td>movie</td>\n",
       "    </tr>\n",
       "    <tr>\n",
       "      <th>...</th>\n",
       "      <td>...</td>\n",
       "      <td>...</td>\n",
       "      <td>...</td>\n",
       "      <td>...</td>\n",
       "      <td>...</td>\n",
       "      <td>...</td>\n",
       "    </tr>\n",
       "    <tr>\n",
       "      <th>96</th>\n",
       "      <td>-0.117642</td>\n",
       "      <td>0.175723</td>\n",
       "      <td>0.494894</td>\n",
       "      <td>-0.107373</td>\n",
       "      <td>3.076869</td>\n",
       "      <td>movie</td>\n",
       "    </tr>\n",
       "    <tr>\n",
       "      <th>97</th>\n",
       "      <td>-0.225706</td>\n",
       "      <td>0.000296</td>\n",
       "      <td>0.144412</td>\n",
       "      <td>-0.076830</td>\n",
       "      <td>1.143241</td>\n",
       "      <td>movie</td>\n",
       "    </tr>\n",
       "    <tr>\n",
       "      <th>98</th>\n",
       "      <td>-0.241515</td>\n",
       "      <td>-0.150789</td>\n",
       "      <td>0.046658</td>\n",
       "      <td>-0.056903</td>\n",
       "      <td>0.569338</td>\n",
       "      <td>movie</td>\n",
       "    </tr>\n",
       "    <tr>\n",
       "      <th>99</th>\n",
       "      <td>-0.104951</td>\n",
       "      <td>-0.052265</td>\n",
       "      <td>0.090162</td>\n",
       "      <td>0.589152</td>\n",
       "      <td>0.248023</td>\n",
       "      <td>music</td>\n",
       "    </tr>\n",
       "    <tr>\n",
       "      <th>100</th>\n",
       "      <td>0.000000</td>\n",
       "      <td>0.000000</td>\n",
       "      <td>0.000000</td>\n",
       "      <td>0.000000</td>\n",
       "      <td>0.000000</td>\n",
       "      <td>none</td>\n",
       "    </tr>\n",
       "  </tbody>\n",
       "</table>\n",
       "<p>101 rows × 6 columns</p>\n",
       "</div>"
      ],
      "text/plain": [
       "        actor  director       plot     music     movie Aspect_wo_lift\n",
       "0    2.389360  9.433179   0.710298 -0.299814  7.831917       director\n",
       "1   -2.124544 -0.836370  16.536104 -0.381023  5.436779           plot\n",
       "2   -0.082687 -0.006446  -0.027007 -0.023508  0.251401          movie\n",
       "3    0.768932 -0.141077   0.073834 -0.048367  0.335190          actor\n",
       "4    0.128296 -0.266775   0.266382 -0.177085  1.507383          movie\n",
       "..        ...       ...        ...       ...       ...            ...\n",
       "96  -0.117642  0.175723   0.494894 -0.107373  3.076869          movie\n",
       "97  -0.225706  0.000296   0.144412 -0.076830  1.143241          movie\n",
       "98  -0.241515 -0.150789   0.046658 -0.056903  0.569338          movie\n",
       "99  -0.104951 -0.052265   0.090162  0.589152  0.248023          music\n",
       "100  0.000000  0.000000   0.000000  0.000000  0.000000           none\n",
       "\n",
       "[101 rows x 6 columns]"
      ]
     },
     "execution_count": 276,
     "metadata": {},
     "output_type": "execute_result"
    }
   ],
   "source": [
    "z_DSM"
   ]
  },
  {
   "cell_type": "code",
   "execution_count": 278,
   "metadata": {},
   "outputs": [],
   "source": [
    "z_DSM.to_csv(\"[원본]aspect_categorized_w_lift.csv\")"
   ]
  },
  {
   "cell_type": "code",
   "execution_count": 279,
   "metadata": {},
   "outputs": [],
   "source": []
  },
  {
   "cell_type": "code",
   "execution_count": 280,
   "metadata": {},
   "outputs": [],
   "source": [
    "z_DSM.to_csv(\"[woThreshold]aspect_categorized_w_lift.csv\")"
   ]
  },
  {
   "cell_type": "markdown",
   "metadata": {},
   "source": [
    "## ==Threshold Adjustment=="
   ]
  },
  {
   "cell_type": "markdown",
   "metadata": {},
   "source": [
    "## 1) Without Threshold Adjustment"
   ]
  },
  {
   "cell_type": "markdown",
   "metadata": {},
   "source": [
    "### sampling"
   ]
  },
  {
   "cell_type": "code",
   "execution_count": 284,
   "metadata": {},
   "outputs": [
    {
     "data": {
      "text/html": [
       "<div>\n",
       "<style scoped>\n",
       "    .dataframe tbody tr th:only-of-type {\n",
       "        vertical-align: middle;\n",
       "    }\n",
       "\n",
       "    .dataframe tbody tr th {\n",
       "        vertical-align: top;\n",
       "    }\n",
       "\n",
       "    .dataframe thead th {\n",
       "        text-align: right;\n",
       "    }\n",
       "</style>\n",
       "<table border=\"1\" class=\"dataframe\">\n",
       "  <thead>\n",
       "    <tr style=\"text-align: right;\">\n",
       "      <th></th>\n",
       "      <th>actor</th>\n",
       "      <th>director</th>\n",
       "      <th>plot</th>\n",
       "      <th>music</th>\n",
       "      <th>movie</th>\n",
       "      <th>Aspect_wo_lift</th>\n",
       "    </tr>\n",
       "  </thead>\n",
       "  <tbody>\n",
       "    <tr>\n",
       "      <th>0</th>\n",
       "      <td>2.389360</td>\n",
       "      <td>9.433179</td>\n",
       "      <td>0.710298</td>\n",
       "      <td>-0.299814</td>\n",
       "      <td>7.831917</td>\n",
       "      <td>director</td>\n",
       "    </tr>\n",
       "    <tr>\n",
       "      <th>1</th>\n",
       "      <td>-2.124544</td>\n",
       "      <td>-0.836370</td>\n",
       "      <td>16.536104</td>\n",
       "      <td>-0.381023</td>\n",
       "      <td>5.436779</td>\n",
       "      <td>plot</td>\n",
       "    </tr>\n",
       "    <tr>\n",
       "      <th>2</th>\n",
       "      <td>-0.082687</td>\n",
       "      <td>-0.006446</td>\n",
       "      <td>-0.027007</td>\n",
       "      <td>-0.023508</td>\n",
       "      <td>0.251401</td>\n",
       "      <td>movie</td>\n",
       "    </tr>\n",
       "    <tr>\n",
       "      <th>3</th>\n",
       "      <td>0.768932</td>\n",
       "      <td>-0.141077</td>\n",
       "      <td>0.073834</td>\n",
       "      <td>-0.048367</td>\n",
       "      <td>0.335190</td>\n",
       "      <td>actor</td>\n",
       "    </tr>\n",
       "    <tr>\n",
       "      <th>4</th>\n",
       "      <td>0.128296</td>\n",
       "      <td>-0.266775</td>\n",
       "      <td>0.266382</td>\n",
       "      <td>-0.177085</td>\n",
       "      <td>1.507383</td>\n",
       "      <td>movie</td>\n",
       "    </tr>\n",
       "    <tr>\n",
       "      <th>...</th>\n",
       "      <td>...</td>\n",
       "      <td>...</td>\n",
       "      <td>...</td>\n",
       "      <td>...</td>\n",
       "      <td>...</td>\n",
       "      <td>...</td>\n",
       "    </tr>\n",
       "    <tr>\n",
       "      <th>9073568</th>\n",
       "      <td>-0.347090</td>\n",
       "      <td>-0.228813</td>\n",
       "      <td>0.002570</td>\n",
       "      <td>0.512569</td>\n",
       "      <td>0.775891</td>\n",
       "      <td>movie</td>\n",
       "    </tr>\n",
       "    <tr>\n",
       "      <th>9073569</th>\n",
       "      <td>0.021397</td>\n",
       "      <td>-0.123469</td>\n",
       "      <td>-0.040070</td>\n",
       "      <td>-0.037550</td>\n",
       "      <td>0.420893</td>\n",
       "      <td>movie</td>\n",
       "    </tr>\n",
       "    <tr>\n",
       "      <th>9073570</th>\n",
       "      <td>1.386773</td>\n",
       "      <td>-0.328723</td>\n",
       "      <td>0.261708</td>\n",
       "      <td>1.050759</td>\n",
       "      <td>1.529323</td>\n",
       "      <td>movie</td>\n",
       "    </tr>\n",
       "    <tr>\n",
       "      <th>9073571</th>\n",
       "      <td>-0.135563</td>\n",
       "      <td>-0.080004</td>\n",
       "      <td>0.745304</td>\n",
       "      <td>-0.079650</td>\n",
       "      <td>0.102765</td>\n",
       "      <td>plot</td>\n",
       "    </tr>\n",
       "    <tr>\n",
       "      <th>9073572</th>\n",
       "      <td>-0.164151</td>\n",
       "      <td>0.009384</td>\n",
       "      <td>0.240606</td>\n",
       "      <td>-0.064056</td>\n",
       "      <td>0.205091</td>\n",
       "      <td>plot</td>\n",
       "    </tr>\n",
       "  </tbody>\n",
       "</table>\n",
       "<p>9073573 rows × 6 columns</p>\n",
       "</div>"
      ],
      "text/plain": [
       "            actor  director       plot     music     movie Aspect_wo_lift\n",
       "0        2.389360  9.433179   0.710298 -0.299814  7.831917       director\n",
       "1       -2.124544 -0.836370  16.536104 -0.381023  5.436779           plot\n",
       "2       -0.082687 -0.006446  -0.027007 -0.023508  0.251401          movie\n",
       "3        0.768932 -0.141077   0.073834 -0.048367  0.335190          actor\n",
       "4        0.128296 -0.266775   0.266382 -0.177085  1.507383          movie\n",
       "...           ...       ...        ...       ...       ...            ...\n",
       "9073568 -0.347090 -0.228813   0.002570  0.512569  0.775891          movie\n",
       "9073569  0.021397 -0.123469  -0.040070 -0.037550  0.420893          movie\n",
       "9073570  1.386773 -0.328723   0.261708  1.050759  1.529323          movie\n",
       "9073571 -0.135563 -0.080004   0.745304 -0.079650  0.102765           plot\n",
       "9073572 -0.164151  0.009384   0.240606 -0.064056  0.205091           plot\n",
       "\n",
       "[9073573 rows x 6 columns]"
      ]
     },
     "execution_count": 284,
     "metadata": {},
     "output_type": "execute_result"
    }
   ],
   "source": [
    "os.chdir(r\"C:\\Users\\ywy\\Desktop\\min\\movie_pred\\[lift 없이]Aspect Categorization 샘플\")\n",
    "z_DSM = pd.read_csv(\"[woThreshold]aspect_categorized_w_lift.csv\",index_col = \"Unnamed: 0\")\n",
    "z_DSM"
   ]
  },
  {
   "cell_type": "code",
   "execution_count": 288,
   "metadata": {},
   "outputs": [],
   "source": [
    "# wo_thresh_sample = z_DSM.sample(n = 100,replace = False)\n",
    "# wo_thresh_sample.to_csv(\"wo_thresh_sample.csv\")"
   ]
  },
  {
   "cell_type": "code",
   "execution_count": 289,
   "metadata": {},
   "outputs": [],
   "source": []
  },
  {
   "cell_type": "code",
   "execution_count": 294,
   "metadata": {},
   "outputs": [
    {
     "data": {
      "text/html": [
       "<div>\n",
       "<style scoped>\n",
       "    .dataframe tbody tr th:only-of-type {\n",
       "        vertical-align: middle;\n",
       "    }\n",
       "\n",
       "    .dataframe tbody tr th {\n",
       "        vertical-align: top;\n",
       "    }\n",
       "\n",
       "    .dataframe thead th {\n",
       "        text-align: right;\n",
       "    }\n",
       "</style>\n",
       "<table border=\"1\" class=\"dataframe\">\n",
       "  <thead>\n",
       "    <tr style=\"text-align: right;\">\n",
       "      <th></th>\n",
       "      <th>actor</th>\n",
       "      <th>director</th>\n",
       "      <th>plot</th>\n",
       "      <th>music</th>\n",
       "      <th>movie</th>\n",
       "      <th>Aspect_wo_lift</th>\n",
       "    </tr>\n",
       "  </thead>\n",
       "  <tbody>\n",
       "    <tr>\n",
       "      <th>8024252</th>\n",
       "      <td>-0.101166</td>\n",
       "      <td>-0.103610</td>\n",
       "      <td>0.258092</td>\n",
       "      <td>0.061482</td>\n",
       "      <td>0.311302</td>\n",
       "      <td>movie</td>\n",
       "    </tr>\n",
       "    <tr>\n",
       "      <th>1444495</th>\n",
       "      <td>-0.624961</td>\n",
       "      <td>10.304312</td>\n",
       "      <td>0.428524</td>\n",
       "      <td>-0.202787</td>\n",
       "      <td>1.559112</td>\n",
       "      <td>director</td>\n",
       "    </tr>\n",
       "    <tr>\n",
       "      <th>3454020</th>\n",
       "      <td>-0.263915</td>\n",
       "      <td>0.484736</td>\n",
       "      <td>0.047747</td>\n",
       "      <td>0.118238</td>\n",
       "      <td>0.405032</td>\n",
       "      <td>director</td>\n",
       "    </tr>\n",
       "    <tr>\n",
       "      <th>3406435</th>\n",
       "      <td>-0.312474</td>\n",
       "      <td>0.021528</td>\n",
       "      <td>0.138275</td>\n",
       "      <td>0.562708</td>\n",
       "      <td>0.121599</td>\n",
       "      <td>music</td>\n",
       "    </tr>\n",
       "    <tr>\n",
       "      <th>141644</th>\n",
       "      <td>1.147869</td>\n",
       "      <td>-0.172226</td>\n",
       "      <td>-0.065022</td>\n",
       "      <td>-0.145719</td>\n",
       "      <td>0.328648</td>\n",
       "      <td>actor</td>\n",
       "    </tr>\n",
       "    <tr>\n",
       "      <th>...</th>\n",
       "      <td>...</td>\n",
       "      <td>...</td>\n",
       "      <td>...</td>\n",
       "      <td>...</td>\n",
       "      <td>...</td>\n",
       "      <td>...</td>\n",
       "    </tr>\n",
       "    <tr>\n",
       "      <th>2167119</th>\n",
       "      <td>-0.309939</td>\n",
       "      <td>-0.037217</td>\n",
       "      <td>-0.027117</td>\n",
       "      <td>-0.066442</td>\n",
       "      <td>0.546712</td>\n",
       "      <td>movie</td>\n",
       "    </tr>\n",
       "    <tr>\n",
       "      <th>1400809</th>\n",
       "      <td>-0.298761</td>\n",
       "      <td>0.294449</td>\n",
       "      <td>0.335942</td>\n",
       "      <td>0.636185</td>\n",
       "      <td>-0.014110</td>\n",
       "      <td>music</td>\n",
       "    </tr>\n",
       "    <tr>\n",
       "      <th>571632</th>\n",
       "      <td>-0.336295</td>\n",
       "      <td>-0.069869</td>\n",
       "      <td>0.251471</td>\n",
       "      <td>0.038550</td>\n",
       "      <td>0.372442</td>\n",
       "      <td>movie</td>\n",
       "    </tr>\n",
       "    <tr>\n",
       "      <th>3740574</th>\n",
       "      <td>0.527514</td>\n",
       "      <td>-0.324782</td>\n",
       "      <td>0.200936</td>\n",
       "      <td>-0.149138</td>\n",
       "      <td>2.045414</td>\n",
       "      <td>movie</td>\n",
       "    </tr>\n",
       "    <tr>\n",
       "      <th>4067548</th>\n",
       "      <td>-1.121339</td>\n",
       "      <td>20.790818</td>\n",
       "      <td>0.303858</td>\n",
       "      <td>2.378483</td>\n",
       "      <td>1.106704</td>\n",
       "      <td>director</td>\n",
       "    </tr>\n",
       "  </tbody>\n",
       "</table>\n",
       "<p>100 rows × 6 columns</p>\n",
       "</div>"
      ],
      "text/plain": [
       "            actor   director      plot     music     movie Aspect_wo_lift\n",
       "8024252 -0.101166  -0.103610  0.258092  0.061482  0.311302          movie\n",
       "1444495 -0.624961  10.304312  0.428524 -0.202787  1.559112       director\n",
       "3454020 -0.263915   0.484736  0.047747  0.118238  0.405032       director\n",
       "3406435 -0.312474   0.021528  0.138275  0.562708  0.121599          music\n",
       "141644   1.147869  -0.172226 -0.065022 -0.145719  0.328648          actor\n",
       "...           ...        ...       ...       ...       ...            ...\n",
       "2167119 -0.309939  -0.037217 -0.027117 -0.066442  0.546712          movie\n",
       "1400809 -0.298761   0.294449  0.335942  0.636185 -0.014110          music\n",
       "571632  -0.336295  -0.069869  0.251471  0.038550  0.372442          movie\n",
       "3740574  0.527514  -0.324782  0.200936 -0.149138  2.045414          movie\n",
       "4067548 -1.121339  20.790818  0.303858  2.378483  1.106704       director\n",
       "\n",
       "[100 rows x 6 columns]"
      ]
     },
     "execution_count": 294,
     "metadata": {},
     "output_type": "execute_result"
    }
   ],
   "source": []
  },
  {
   "cell_type": "markdown",
   "metadata": {},
   "source": [
    "### evaluation"
   ]
  },
  {
   "cell_type": "code",
   "execution_count": 395,
   "metadata": {},
   "outputs": [],
   "source": [
    "import os\n",
    "os.chdir(r\"C:\\Users\\ywy\\Desktop\\min\\movie_pred\\[lift 없이]Aspect Categorization 샘플\")\n",
    "z_DSM = pd.read_csv(\"[1]wo_thresh_sample.csv\",index_col = \"Unnamed: 0\")"
   ]
  },
  {
   "cell_type": "code",
   "execution_count": 396,
   "metadata": {},
   "outputs": [
    {
     "data": {
      "text/html": [
       "<div>\n",
       "<style scoped>\n",
       "    .dataframe tbody tr th:only-of-type {\n",
       "        vertical-align: middle;\n",
       "    }\n",
       "\n",
       "    .dataframe tbody tr th {\n",
       "        vertical-align: top;\n",
       "    }\n",
       "\n",
       "    .dataframe thead th {\n",
       "        text-align: right;\n",
       "    }\n",
       "</style>\n",
       "<table border=\"1\" class=\"dataframe\">\n",
       "  <thead>\n",
       "    <tr style=\"text-align: right;\">\n",
       "      <th></th>\n",
       "      <th>sent</th>\n",
       "      <th>w2v_review</th>\n",
       "      <th>Aspect_wo_lift</th>\n",
       "      <th>min</th>\n",
       "    </tr>\n",
       "  </thead>\n",
       "  <tbody>\n",
       "    <tr>\n",
       "      <th>3216281</th>\n",
       "      <td>seeing it on the big screen i really felt i wa...</td>\n",
       "      <td>['seeing', 'big', 'screen', 'really', 'felt', ...</td>\n",
       "      <td>movie</td>\n",
       "      <td>movie</td>\n",
       "    </tr>\n",
       "    <tr>\n",
       "      <th>57177</th>\n",
       "      <td>how , at this years oscars , it was not nomina...</td>\n",
       "      <td>['year', 'oscar', 'nominated', 'best', 'pictur...</td>\n",
       "      <td>movie</td>\n",
       "      <td>actor</td>\n",
       "    </tr>\n",
       "    <tr>\n",
       "      <th>4161235</th>\n",
       "      <td>the best thing i can say is how much attention...</td>\n",
       "      <td>['best', 'thing', 'say', 'much', 'attention', ...</td>\n",
       "      <td>movie</td>\n",
       "      <td>movie</td>\n",
       "    </tr>\n",
       "    <tr>\n",
       "      <th>4405966</th>\n",
       "      <td>really warm, beautiful sceneries, great charac...</td>\n",
       "      <td>['really', 'warm', 'beautiful', 'scenery', 'gr...</td>\n",
       "      <td>movie</td>\n",
       "      <td>movie</td>\n",
       "    </tr>\n",
       "    <tr>\n",
       "      <th>6272121</th>\n",
       "      <td>sometimes, you already knew it from your first...</td>\n",
       "      <td>['sometimes', 'already', 'knew', 'first', 'tho...</td>\n",
       "      <td>movie</td>\n",
       "      <td>none</td>\n",
       "    </tr>\n",
       "    <tr>\n",
       "      <th>...</th>\n",
       "      <td>...</td>\n",
       "      <td>...</td>\n",
       "      <td>...</td>\n",
       "      <td>...</td>\n",
       "    </tr>\n",
       "    <tr>\n",
       "      <th>892425</th>\n",
       "      <td>sorry to disappoint that person, but this is a...</td>\n",
       "      <td>['sorry', 'disappoint', 'person', 'anything', ...</td>\n",
       "      <td>movie</td>\n",
       "      <td>movie</td>\n",
       "    </tr>\n",
       "    <tr>\n",
       "      <th>83215</th>\n",
       "      <td>i am a huge movies fan, and will watch almost ...</td>\n",
       "      <td>['huge', 'movie', 'fan', 'watch', 'almost', 'a...</td>\n",
       "      <td>movie</td>\n",
       "      <td>movie</td>\n",
       "    </tr>\n",
       "    <tr>\n",
       "      <th>6549488</th>\n",
       "      <td>it may be that they are too busy prejudging th...</td>\n",
       "      <td>['may', 'busy', 'prejudging', 'movie', 'based'...</td>\n",
       "      <td>actor</td>\n",
       "      <td>none</td>\n",
       "    </tr>\n",
       "    <tr>\n",
       "      <th>2985536</th>\n",
       "      <td>a film in which a football player pops steroid...</td>\n",
       "      <td>['film', 'football', 'player', 'pop', 'steroid...</td>\n",
       "      <td>plot</td>\n",
       "      <td>none</td>\n",
       "    </tr>\n",
       "    <tr>\n",
       "      <th>1442944</th>\n",
       "      <td>you cannot help but marvel at the way noriega ...</td>\n",
       "      <td>['help', 'marvel', 'way', 'noriega', 'escape',...</td>\n",
       "      <td>plot</td>\n",
       "      <td>none</td>\n",
       "    </tr>\n",
       "  </tbody>\n",
       "</table>\n",
       "<p>100 rows × 4 columns</p>\n",
       "</div>"
      ],
      "text/plain": [
       "                                                      sent  \\\n",
       "3216281  seeing it on the big screen i really felt i wa...   \n",
       "57177    how , at this years oscars , it was not nomina...   \n",
       "4161235  the best thing i can say is how much attention...   \n",
       "4405966  really warm, beautiful sceneries, great charac...   \n",
       "6272121  sometimes, you already knew it from your first...   \n",
       "...                                                    ...   \n",
       "892425   sorry to disappoint that person, but this is a...   \n",
       "83215    i am a huge movies fan, and will watch almost ...   \n",
       "6549488  it may be that they are too busy prejudging th...   \n",
       "2985536  a film in which a football player pops steroid...   \n",
       "1442944  you cannot help but marvel at the way noriega ...   \n",
       "\n",
       "                                                w2v_review Aspect_wo_lift  \\\n",
       "3216281  ['seeing', 'big', 'screen', 'really', 'felt', ...          movie   \n",
       "57177    ['year', 'oscar', 'nominated', 'best', 'pictur...          movie   \n",
       "4161235  ['best', 'thing', 'say', 'much', 'attention', ...          movie   \n",
       "4405966  ['really', 'warm', 'beautiful', 'scenery', 'gr...          movie   \n",
       "6272121  ['sometimes', 'already', 'knew', 'first', 'tho...          movie   \n",
       "...                                                    ...            ...   \n",
       "892425   ['sorry', 'disappoint', 'person', 'anything', ...          movie   \n",
       "83215    ['huge', 'movie', 'fan', 'watch', 'almost', 'a...          movie   \n",
       "6549488  ['may', 'busy', 'prejudging', 'movie', 'based'...          actor   \n",
       "2985536  ['film', 'football', 'player', 'pop', 'steroid...           plot   \n",
       "1442944  ['help', 'marvel', 'way', 'noriega', 'escape',...           plot   \n",
       "\n",
       "           min  \n",
       "3216281  movie  \n",
       "57177    actor  \n",
       "4161235  movie  \n",
       "4405966  movie  \n",
       "6272121   none  \n",
       "...        ...  \n",
       "892425   movie  \n",
       "83215    movie  \n",
       "6549488   none  \n",
       "2985536   none  \n",
       "1442944   none  \n",
       "\n",
       "[100 rows x 4 columns]"
      ]
     },
     "execution_count": 396,
     "metadata": {},
     "output_type": "execute_result"
    }
   ],
   "source": [
    "z_DSM"
   ]
  },
  {
   "cell_type": "code",
   "execution_count": 397,
   "metadata": {},
   "outputs": [
    {
     "name": "stdout",
     "output_type": "stream",
     "text": [
      "[[ 0  0  6  0  7  2]\n",
      " [ 0  0  2  0  4  4]\n",
      " [ 7  1 30  0 11  6]\n",
      " [ 4  0  2  0  3  1]\n",
      " [ 0  0  0  0  0  0]\n",
      " [ 1  0  1  0  6  2]]\n",
      "              precision    recall  f1-score   support\n",
      "\n",
      "       actor       0.00      0.00      0.00        15\n",
      "    director       0.00      0.00      0.00        10\n",
      "       movie       0.73      0.55      0.62        55\n",
      "       music       0.00      0.00      0.00        10\n",
      "        none       0.00      0.00      0.00         0\n",
      "        plot       0.13      0.20      0.16        10\n",
      "\n",
      "    accuracy                           0.32       100\n",
      "   macro avg       0.14      0.12      0.13       100\n",
      "weighted avg       0.42      0.32      0.36       100\n",
      "\n"
     ]
    },
    {
     "name": "stderr",
     "output_type": "stream",
     "text": [
      "C:\\Users\\ywy\\.conda\\envs\\tf2py38\\lib\\site-packages\\sklearn\\metrics\\_classification.py:1248: UndefinedMetricWarning: Precision and F-score are ill-defined and being set to 0.0 in labels with no predicted samples. Use `zero_division` parameter to control this behavior.\n",
      "  _warn_prf(average, modifier, msg_start, len(result))\n",
      "C:\\Users\\ywy\\.conda\\envs\\tf2py38\\lib\\site-packages\\sklearn\\metrics\\_classification.py:1248: UndefinedMetricWarning: Recall and F-score are ill-defined and being set to 0.0 in labels with no true samples. Use `zero_division` parameter to control this behavior.\n",
      "  _warn_prf(average, modifier, msg_start, len(result))\n",
      "C:\\Users\\ywy\\.conda\\envs\\tf2py38\\lib\\site-packages\\sklearn\\metrics\\_classification.py:1248: UndefinedMetricWarning: Precision and F-score are ill-defined and being set to 0.0 in labels with no predicted samples. Use `zero_division` parameter to control this behavior.\n",
      "  _warn_prf(average, modifier, msg_start, len(result))\n",
      "C:\\Users\\ywy\\.conda\\envs\\tf2py38\\lib\\site-packages\\sklearn\\metrics\\_classification.py:1248: UndefinedMetricWarning: Recall and F-score are ill-defined and being set to 0.0 in labels with no true samples. Use `zero_division` parameter to control this behavior.\n",
      "  _warn_prf(average, modifier, msg_start, len(result))\n",
      "C:\\Users\\ywy\\.conda\\envs\\tf2py38\\lib\\site-packages\\sklearn\\metrics\\_classification.py:1248: UndefinedMetricWarning: Precision and F-score are ill-defined and being set to 0.0 in labels with no predicted samples. Use `zero_division` parameter to control this behavior.\n",
      "  _warn_prf(average, modifier, msg_start, len(result))\n",
      "C:\\Users\\ywy\\.conda\\envs\\tf2py38\\lib\\site-packages\\sklearn\\metrics\\_classification.py:1248: UndefinedMetricWarning: Recall and F-score are ill-defined and being set to 0.0 in labels with no true samples. Use `zero_division` parameter to control this behavior.\n",
      "  _warn_prf(average, modifier, msg_start, len(result))\n"
     ]
    }
   ],
   "source": [
    "# 예시\n",
    "\n",
    "y_test = z_DSM['Aspect_wo_lift']\n",
    "y_pred = z_DSM['min']\n",
    "\n",
    "#classifier - evaluation metrics \n",
    "\n",
    "from sklearn.metrics import confusion_matrix\n",
    "from sklearn.metrics import classification_report\n",
    "\n",
    "cm = confusion_matrix(y_test, y_pred)\n",
    "\n",
    "print (cm)\n",
    "print (classification_report(y_test, y_pred))"
   ]
  },
  {
   "cell_type": "markdown",
   "metadata": {},
   "source": [
    "1"
   ]
  },
  {
   "cell_type": "code",
   "execution_count": null,
   "metadata": {},
   "outputs": [],
   "source": [
    "with open(\"z_DSM\",'rb') as fr:\n",
    "    z_DSM = pickle.load(fr)"
   ]
  },
  {
   "cell_type": "markdown",
   "metadata": {},
   "source": [
    "## Thershold Values 분석"
   ]
  },
  {
   "cell_type": "markdown",
   "metadata": {},
   "source": [
    "### For all the values"
   ]
  },
  {
   "cell_type": "code",
   "execution_count": 312,
   "metadata": {},
   "outputs": [],
   "source": [
    "# z_DSM의 모든 value 를 추출\n",
    "vals = np.array([])\n",
    "vals = np.append(vals,z_DSM[seed_aspects[0]].values)\n",
    "vals = np.append(vals,z_DSM[seed_aspects[1]].values)\n",
    "vals = np.append(vals,z_DSM[seed_aspects[2]].values)\n",
    "vals = np.append(vals,z_DSM[seed_aspects[3]].values)\n",
    "vals = np.append(vals,z_DSM[seed_aspects[4]].values)\n"
   ]
  },
  {
   "cell_type": "code",
   "execution_count": 316,
   "metadata": {},
   "outputs": [
    {
     "data": {
      "text/plain": [
       "array([ 2.38936012, -2.1245445 , -0.08268728, ...,  1.52932271,\n",
       "        0.10276499,  0.205091  ])"
      ]
     },
     "execution_count": 316,
     "metadata": {},
     "output_type": "execute_result"
    }
   ],
   "source": [
    "# value 시각화 \n",
    "vals"
   ]
  },
  {
   "cell_type": "code",
   "execution_count": 328,
   "metadata": {},
   "outputs": [],
   "source": [
    "temp = [1,2,3,4,5,1,1,1,1,1,1,1,1,5,5,5,55,5]"
   ]
  },
  {
   "cell_type": "code",
   "execution_count": 360,
   "metadata": {},
   "outputs": [
    {
     "name": "stderr",
     "output_type": "stream",
     "text": [
      "C:\\Users\\ywy\\.conda\\envs\\tf2py38\\lib\\site-packages\\seaborn\\distributions.py:2557: FutureWarning: `distplot` is a deprecated function and will be removed in a future version. Please adapt your code to use either `displot` (a figure-level function with similar flexibility) or `histplot` (an axes-level function for histograms).\n",
      "  warnings.warn(msg, FutureWarning)\n"
     ]
    },
    {
     "data": {
      "text/plain": [
       "<AxesSubplot:ylabel='Density'>"
      ]
     },
     "execution_count": 360,
     "metadata": {},
     "output_type": "execute_result"
    },
    {
     "data": {
      "image/png": "[encoded data removed]",
      "text/plain": [
       "<Figure size 432x288 with 1 Axes>"
      ]
     },
     "metadata": {
      "needs_background": "light"
     },
     "output_type": "display_data"
    }
   ],
   "source": [
    "sns.distplot(temp,bins = 4)"
   ]
  },
  {
   "cell_type": "code",
   "execution_count": 368,
   "metadata": {},
   "outputs": [
    {
     "name": "stderr",
     "output_type": "stream",
     "text": [
      "C:\\Users\\ywy\\.conda\\envs\\tf2py38\\lib\\site-packages\\seaborn\\distributions.py:2557: FutureWarning: `distplot` is a deprecated function and will be removed in a future version. Please adapt your code to use either `displot` (a figure-level function with similar flexibility) or `histplot` (an axes-level function for histograms).\n",
      "  warnings.warn(msg, FutureWarning)\n"
     ]
    },
    {
     "data": {
      "text/plain": [
       "(-2.0, 2.0)"
      ]
     },
     "execution_count": 368,
     "metadata": {},
     "output_type": "execute_result"
    },
    {
     "data": {
      "image/png": "[encoded data removed]",
      "text/plain": [
       "<Figure size 432x288 with 1 Axes>"
      ]
     },
     "metadata": {
      "needs_background": "light"
     },
     "output_type": "display_data"
    }
   ],
   "source": [
    "# sns.barplot(data = , x = , y = ,hue = )\n",
    "sns.distplot(vals,bins = 5000) # bins = 1000\n",
    "plt.xlim(-2,2)"
   ]
  },
  {
   "cell_type": "code",
   "execution_count": 369,
   "metadata": {},
   "outputs": [
    {
     "name": "stderr",
     "output_type": "stream",
     "text": [
      "C:\\Users\\ywy\\.conda\\envs\\tf2py38\\lib\\site-packages\\seaborn\\distributions.py:2557: FutureWarning: `distplot` is a deprecated function and will be removed in a future version. Please adapt your code to use either `displot` (a figure-level function with similar flexibility) or `histplot` (an axes-level function for histograms).\n",
      "  warnings.warn(msg, FutureWarning)\n"
     ]
    },
    {
     "data": {
      "text/plain": [
       "(-2.0, 2.0)"
      ]
     },
     "execution_count": 369,
     "metadata": {},
     "output_type": "execute_result"
    },
    {
     "data": {
      "image/png": "[encoded data removed]",
      "text/plain": [
       "<Figure size 432x288 with 1 Axes>"
      ]
     },
     "metadata": {
      "needs_background": "light"
     },
     "output_type": "display_data"
    }
   ],
   "source": [
    "sns.distplot(vals,bins = 10000) # bins = 1000\n",
    "plt.xlim(-2,2)"
   ]
  },
  {
   "cell_type": "code",
   "execution_count": 370,
   "metadata": {},
   "outputs": [
    {
     "name": "stderr",
     "output_type": "stream",
     "text": [
      "C:\\Users\\ywy\\.conda\\envs\\tf2py38\\lib\\site-packages\\seaborn\\distributions.py:2557: FutureWarning: `distplot` is a deprecated function and will be removed in a future version. Please adapt your code to use either `displot` (a figure-level function with similar flexibility) or `histplot` (an axes-level function for histograms).\n",
      "  warnings.warn(msg, FutureWarning)\n"
     ]
    },
    {
     "data": {
      "text/plain": [
       "(-20.0, 20.0)"
      ]
     },
     "execution_count": 370,
     "metadata": {},
     "output_type": "execute_result"
    },
    {
     "data": {
      "image/png": "[encoded data removed]",
      "text/plain": [
       "<Figure size 432x288 with 1 Axes>"
      ]
     },
     "metadata": {
      "needs_background": "light"
     },
     "output_type": "display_data"
    }
   ],
   "source": [
    "sns.distplot(vals,bins = 10000) # bins = 1000\n",
    "plt.xlim(-20,20)"
   ]
  },
  {
   "cell_type": "code",
   "execution_count": 365,
   "metadata": {},
   "outputs": [
    {
     "data": {
      "text/plain": [
       "0.507820886094905"
      ]
     },
     "execution_count": 365,
     "metadata": {},
     "output_type": "execute_result"
    }
   ],
   "source": [
    "vals.mean()"
   ]
  },
  {
   "cell_type": "markdown",
   "metadata": {},
   "source": [
    "### for max only"
   ]
  },
  {
   "cell_type": "code",
   "execution_count": 381,
   "metadata": {},
   "outputs": [
    {
     "name": "stderr",
     "output_type": "stream",
     "text": [
      "100%|████████████████████████████████████████████████████████████████████| 9073573/9073573 [01:04<00:00, 141179.21it/s]\n"
     ]
    }
   ],
   "source": [
    "z_DSM['max'] = z_DSM[['actor', 'director', 'plot', 'music', 'movie']].progress_apply(lambda row: max(row),axis = 1)"
   ]
  },
  {
   "cell_type": "code",
   "execution_count": 384,
   "metadata": {},
   "outputs": [],
   "source": [
    "max_val = np.array(z_DSM['max'])"
   ]
  },
  {
   "cell_type": "code",
   "execution_count": 385,
   "metadata": {},
   "outputs": [
    {
     "name": "stderr",
     "output_type": "stream",
     "text": [
      "C:\\Users\\ywy\\.conda\\envs\\tf2py38\\lib\\site-packages\\seaborn\\distributions.py:2557: FutureWarning: `distplot` is a deprecated function and will be removed in a future version. Please adapt your code to use either `displot` (a figure-level function with similar flexibility) or `histplot` (an axes-level function for histograms).\n",
      "  warnings.warn(msg, FutureWarning)\n"
     ]
    },
    {
     "data": {
      "text/plain": [
       "(-5.0, 5.0)"
      ]
     },
     "execution_count": 385,
     "metadata": {},
     "output_type": "execute_result"
    },
    {
     "data": {
      "image/png": "[encoded data removed]",
      "text/plain": [
       "<Figure size 432x288 with 1 Axes>"
      ]
     },
     "metadata": {
      "needs_background": "light"
     },
     "output_type": "display_data"
    }
   ],
   "source": [
    "sns.distplot(max_val,bins = 1000) # bins = 1000\n",
    "plt.xlim(-5,5)"
   ]
  },
  {
   "cell_type": "code",
   "execution_count": 386,
   "metadata": {},
   "outputs": [
    {
     "name": "stderr",
     "output_type": "stream",
     "text": [
      "C:\\Users\\ywy\\.conda\\envs\\tf2py38\\lib\\site-packages\\seaborn\\distributions.py:2557: FutureWarning: `distplot` is a deprecated function and will be removed in a future version. Please adapt your code to use either `displot` (a figure-level function with similar flexibility) or `histplot` (an axes-level function for histograms).\n",
      "  warnings.warn(msg, FutureWarning)\n"
     ]
    },
    {
     "data": {
      "text/plain": [
       "(-2.0, 2.0)"
      ]
     },
     "execution_count": 386,
     "metadata": {},
     "output_type": "execute_result"
    },
    {
     "data": {
      "image/png": "[encoded data removed]",
      "text/plain": [
       "<Figure size 432x288 with 1 Axes>"
      ]
     },
     "metadata": {
      "needs_background": "light"
     },
     "output_type": "display_data"
    }
   ],
   "source": [
    "sns.distplot(max_val,bins = 10000) # bins = 1000\n",
    "plt.xlim(-2,2)"
   ]
  },
  {
   "cell_type": "code",
   "execution_count": 387,
   "metadata": {},
   "outputs": [
    {
     "data": {
      "text/plain": [
       "0.2310334229837023"
      ]
     },
     "execution_count": 387,
     "metadata": {},
     "output_type": "execute_result"
    }
   ],
   "source": [
    "# 10% # 0.23\n",
    "z_DSM['max'].quantile(q=0.10, interpolation='nearest')"
   ]
  },
  {
   "cell_type": "code",
   "execution_count": 388,
   "metadata": {},
   "outputs": [
    {
     "data": {
      "text/plain": [
       "0.5326104626595191"
      ]
     },
     "execution_count": 388,
     "metadata": {},
     "output_type": "execute_result"
    }
   ],
   "source": [
    "# 25% # 0.53\n",
    "z_DSM['max'].quantile(q=0.25, interpolation='nearest')\n"
   ]
  },
  {
   "cell_type": "code",
   "execution_count": 318,
   "metadata": {},
   "outputs": [
    {
     "ename": "TypeError",
     "evalue": "bar() missing 1 required positional argument: 'height'",
     "output_type": "error",
     "traceback": [
      "\u001b[1;31m---------------------------------------------------------------------------\u001b[0m",
      "\u001b[1;31mTypeError\u001b[0m                                 Traceback (most recent call last)",
      "\u001b[1;32m<ipython-input-318-7c2a1dc6d0cc>\u001b[0m in \u001b[0;36m<module>\u001b[1;34m\u001b[0m\n\u001b[0;32m      1\u001b[0m \u001b[1;32mimport\u001b[0m \u001b[0mmatplotlib\u001b[0m\u001b[1;33m.\u001b[0m\u001b[0mpyplot\u001b[0m \u001b[1;32mas\u001b[0m \u001b[0mplt\u001b[0m\u001b[1;33m\u001b[0m\u001b[1;33m\u001b[0m\u001b[0m\n\u001b[0;32m      2\u001b[0m \u001b[1;33m\u001b[0m\u001b[0m\n\u001b[1;32m----> 3\u001b[1;33m \u001b[0mplt\u001b[0m\u001b[1;33m.\u001b[0m\u001b[0mbar\u001b[0m\u001b[1;33m(\u001b[0m\u001b[0mvals\u001b[0m\u001b[1;33m)\u001b[0m\u001b[1;33m\u001b[0m\u001b[1;33m\u001b[0m\u001b[0m\n\u001b[0m\u001b[0;32m      4\u001b[0m \u001b[1;33m\u001b[0m\u001b[0m\n\u001b[0;32m      5\u001b[0m \u001b[0mplt\u001b[0m\u001b[1;33m.\u001b[0m\u001b[0mtitle\u001b[0m\u001b[1;33m(\u001b[0m\u001b[1;34m'Value spread'\u001b[0m\u001b[1;33m,\u001b[0m \u001b[0mfontsize\u001b[0m\u001b[1;33m=\u001b[0m\u001b[1;36m20\u001b[0m\u001b[1;33m)\u001b[0m\u001b[1;33m\u001b[0m\u001b[1;33m\u001b[0m\u001b[0m\n",
      "\u001b[1;31mTypeError\u001b[0m: bar() missing 1 required positional argument: 'height'"
     ]
    }
   ],
   "source": [
    "# import matplotlib.pyplot as plt\n",
    "\n",
    "# plt.bar(vals)\n",
    "\n",
    "# plt.title('Value spread', fontsize=20)\n",
    "\n",
    "# plt.xlabel('value', fontsize=18)\n",
    "\n",
    "# plt.ylabel('how many', fontsize=18)\n",
    "\n",
    "# plt.xticks(index, label, fontsize=15)\n",
    "\n",
    "# plt.show()\n",
    "\n"
   ]
  },
  {
   "cell_type": "markdown",
   "metadata": {},
   "source": [
    "## Sample 뽑기용 데이터 분석"
   ]
  },
  {
   "cell_type": "markdown",
   "metadata": {},
   "source": [
    "#### Aspect 비율 확인"
   ]
  },
  {
   "cell_type": "code",
   "execution_count": 337,
   "metadata": {},
   "outputs": [
    {
     "data": {
      "text/plain": [
       "movie       5145641\n",
       "actor       1468315\n",
       "director     869219\n",
       "plot         776988\n",
       "music        705545\n",
       "none         107865\n",
       "Name: Aspect_wo_lift, dtype: int64"
      ]
     },
     "execution_count": 337,
     "metadata": {},
     "output_type": "execute_result"
    }
   ],
   "source": [
    "z_DSM['Aspect_wo_lift'].value_counts()"
   ]
  },
  {
   "cell_type": "code",
   "execution_count": 339,
   "metadata": {},
   "outputs": [],
   "source": [
    "actor_appr = z_DSM['Aspect_wo_lift'].value_counts()['actor']\n",
    "director_appr = z_DSM['Aspect_wo_lift'].value_counts()['director']\n",
    "plot_appr = z_DSM['Aspect_wo_lift'].value_counts()['plot']\n",
    "music_appr = z_DSM['Aspect_wo_lift'].value_counts()['music']\n",
    "movie_appr = z_DSM['Aspect_wo_lift'].value_counts()['movie']\n",
    "\n",
    "total = z_DSM['Aspect_wo_lift'].value_counts().sum()"
   ]
  },
  {
   "cell_type": "code",
   "execution_count": 341,
   "metadata": {},
   "outputs": [
    {
     "name": "stderr",
     "output_type": "stream",
     "text": [
      "<ipython-input-341-504cd61d1725>:8: MatplotlibDeprecationWarning: normalize=None does not normalize if the sum is less than 1 but this behavior is deprecated since 3.3 until two minor releases later. After the deprecation period the default value will be normalize=True. To prevent normalization pass normalize=False \n",
      "  plt.pie(ratio, labels=seed_aspects, autopct='%.1f%%')\n"
     ]
    },
    {
     "data": {
      "image/png": "[encoded data removed]",
      "text/plain": [
       "<Figure size 432x288 with 1 Axes>"
      ]
     },
     "metadata": {},
     "output_type": "display_data"
    }
   ],
   "source": [
    "import matplotlib.pyplot as plt\n",
    "z_DSM['Aspect_wo_lift']\n",
    "\n",
    "ratio = [actor_appr/total, director_appr/total, plot_appr/total, music_appr/total,movie_appr/total ]\n",
    "# seed_aspects= ['actor','director','plot','music','movie']\n",
    "\n",
    "plt.title(\"Aspect Ratio\")\n",
    "plt.pie(ratio, labels=seed_aspects, autopct='%.1f%%')\n",
    "plt.show()"
   ]
  },
  {
   "cell_type": "code",
   "execution_count": 348,
   "metadata": {},
   "outputs": [],
   "source": [
    "aspect_categorized = pd.concat([pre_df,z_DSM['Aspect_wo_lift']],axis =1)\n",
    "DF = aspect_categorized[['sent','w2v_review','Aspect_wo_lift']].copy()"
   ]
  },
  {
   "cell_type": "code",
   "execution_count": 349,
   "metadata": {},
   "outputs": [
    {
     "data": {
      "text/html": [
       "<div>\n",
       "<style scoped>\n",
       "    .dataframe tbody tr th:only-of-type {\n",
       "        vertical-align: middle;\n",
       "    }\n",
       "\n",
       "    .dataframe tbody tr th {\n",
       "        vertical-align: top;\n",
       "    }\n",
       "\n",
       "    .dataframe thead th {\n",
       "        text-align: right;\n",
       "    }\n",
       "</style>\n",
       "<table border=\"1\" class=\"dataframe\">\n",
       "  <thead>\n",
       "    <tr style=\"text-align: right;\">\n",
       "      <th></th>\n",
       "      <th>sent</th>\n",
       "      <th>w2v_review</th>\n",
       "      <th>Aspect_wo_lift</th>\n",
       "    </tr>\n",
       "  </thead>\n",
       "  <tbody>\n",
       "    <tr>\n",
       "      <th>0</th>\n",
       "      <td>really boring storyline..the acting was sub-pa...</td>\n",
       "      <td>[really, boring, storyline, acting, sub, par, ...</td>\n",
       "      <td>director</td>\n",
       "    </tr>\n",
       "    <tr>\n",
       "      <th>1</th>\n",
       "      <td>this film has so many dream sequence scares th...</td>\n",
       "      <td>[film, many, dream, sequence, scare, time, som...</td>\n",
       "      <td>plot</td>\n",
       "    </tr>\n",
       "    <tr>\n",
       "      <th>2</th>\n",
       "      <td>just a so-so thriller.</td>\n",
       "      <td>[thriller]</td>\n",
       "      <td>movie</td>\n",
       "    </tr>\n",
       "    <tr>\n",
       "      <th>3</th>\n",
       "      <td>this could have been a decent movie.</td>\n",
       "      <td>[could, decent, movie]</td>\n",
       "      <td>actor</td>\n",
       "    </tr>\n",
       "    <tr>\n",
       "      <th>4</th>\n",
       "      <td>if it was a made for tv movie the acting wasn'...</td>\n",
       "      <td>[made, movie, acting, bad, story, incredibly, ...</td>\n",
       "      <td>movie</td>\n",
       "    </tr>\n",
       "    <tr>\n",
       "      <th>...</th>\n",
       "      <td>...</td>\n",
       "      <td>...</td>\n",
       "      <td>...</td>\n",
       "    </tr>\n",
       "    <tr>\n",
       "      <th>9073568</th>\n",
       "      <td>it picked up were the second left off, and too...</td>\n",
       "      <td>[picked, second, left, took, without, disappoi...</td>\n",
       "      <td>movie</td>\n",
       "    </tr>\n",
       "    <tr>\n",
       "      <th>9073569</th>\n",
       "      <td>the only disappointing thing to me was the lac...</td>\n",
       "      <td>[disappointing, thing, lack, matrix]</td>\n",
       "      <td>movie</td>\n",
       "    </tr>\n",
       "    <tr>\n",
       "      <th>9073570</th>\n",
       "      <td>the most enjoyable thing to see in the first t...</td>\n",
       "      <td>[enjoyable, thing, see, first, two, movie, wat...</td>\n",
       "      <td>movie</td>\n",
       "    </tr>\n",
       "    <tr>\n",
       "      <th>9073571</th>\n",
       "      <td>they were truly missed from this, the final in...</td>\n",
       "      <td>[truly, missed, final, installment, masterpiece]</td>\n",
       "      <td>plot</td>\n",
       "    </tr>\n",
       "    <tr>\n",
       "      <th>9073572</th>\n",
       "      <td>all in all i give revolutions a 6.5 out of 10....</td>\n",
       "      <td>[give, revolution, give, trilogy]</td>\n",
       "      <td>plot</td>\n",
       "    </tr>\n",
       "  </tbody>\n",
       "</table>\n",
       "<p>9073573 rows × 3 columns</p>\n",
       "</div>"
      ],
      "text/plain": [
       "                                                      sent  \\\n",
       "0        really boring storyline..the acting was sub-pa...   \n",
       "1        this film has so many dream sequence scares th...   \n",
       "2                                   just a so-so thriller.   \n",
       "3                     this could have been a decent movie.   \n",
       "4        if it was a made for tv movie the acting wasn'...   \n",
       "...                                                    ...   \n",
       "9073568  it picked up were the second left off, and too...   \n",
       "9073569  the only disappointing thing to me was the lac...   \n",
       "9073570  the most enjoyable thing to see in the first t...   \n",
       "9073571  they were truly missed from this, the final in...   \n",
       "9073572  all in all i give revolutions a 6.5 out of 10....   \n",
       "\n",
       "                                                w2v_review Aspect_wo_lift  \n",
       "0        [really, boring, storyline, acting, sub, par, ...       director  \n",
       "1        [film, many, dream, sequence, scare, time, som...           plot  \n",
       "2                                               [thriller]          movie  \n",
       "3                                   [could, decent, movie]          actor  \n",
       "4        [made, movie, acting, bad, story, incredibly, ...          movie  \n",
       "...                                                    ...            ...  \n",
       "9073568  [picked, second, left, took, without, disappoi...          movie  \n",
       "9073569               [disappointing, thing, lack, matrix]          movie  \n",
       "9073570  [enjoyable, thing, see, first, two, movie, wat...          movie  \n",
       "9073571   [truly, missed, final, installment, masterpiece]           plot  \n",
       "9073572                  [give, revolution, give, trilogy]           plot  \n",
       "\n",
       "[9073573 rows x 3 columns]"
      ]
     },
     "execution_count": 349,
     "metadata": {},
     "output_type": "execute_result"
    }
   ],
   "source": [
    "DF"
   ]
  },
  {
   "cell_type": "code",
   "execution_count": 350,
   "metadata": {},
   "outputs": [],
   "source": [
    "# Ratio 맞게 샘플 뽑기\n",
    "movie = DF[DF['Aspect_wo_lift'] == \"movie\"]\n",
    "actor = DF[DF['Aspect_wo_lift'] == \"actor\"]\n",
    "director = DF[DF['Aspect_wo_lift'] == \"director\"]\n",
    "plot = DF[DF['Aspect_wo_lift'] == \"plot\"]\n",
    "music = DF[DF['Aspect_wo_lift'] == \"music\"]\n",
    "\n",
    "import numpy as np\n",
    "rand_movie = list(np.random.choice(len(movie),55, replace=False))\n",
    "rand_actor = list(np.random.choice(len(actor),15, replace=False))\n",
    "rand_director = list(np.random.choice(len(director),10, replace=False))\n",
    "rand_plot = list(np.random.choice(len(plot),10, replace=False))\n",
    "rand_music = list(np.random.choice(len(music),10, replace=False))"
   ]
  },
  {
   "cell_type": "code",
   "execution_count": 351,
   "metadata": {},
   "outputs": [],
   "source": [
    "sample = pd.concat([movie.iloc[rand_movie],actor.iloc[rand_actor],director.iloc[rand_director],plot.iloc[rand_plot],music.iloc[rand_music]],axis = 0)"
   ]
  },
  {
   "cell_type": "code",
   "execution_count": 352,
   "metadata": {},
   "outputs": [
    {
     "data": {
      "text/html": [
       "<div>\n",
       "<style scoped>\n",
       "    .dataframe tbody tr th:only-of-type {\n",
       "        vertical-align: middle;\n",
       "    }\n",
       "\n",
       "    .dataframe tbody tr th {\n",
       "        vertical-align: top;\n",
       "    }\n",
       "\n",
       "    .dataframe thead th {\n",
       "        text-align: right;\n",
       "    }\n",
       "</style>\n",
       "<table border=\"1\" class=\"dataframe\">\n",
       "  <thead>\n",
       "    <tr style=\"text-align: right;\">\n",
       "      <th></th>\n",
       "      <th>sent</th>\n",
       "      <th>w2v_review</th>\n",
       "      <th>Aspect_wo_lift</th>\n",
       "    </tr>\n",
       "  </thead>\n",
       "  <tbody>\n",
       "    <tr>\n",
       "      <th>7864601</th>\n",
       "      <td>see it if you are ready to and can handle the ...</td>\n",
       "      <td>[see, ready, handle, raw, emotion, involved]</td>\n",
       "      <td>movie</td>\n",
       "    </tr>\n",
       "    <tr>\n",
       "      <th>6981347</th>\n",
       "      <td>the special effects were amazing, that at some...</td>\n",
       "      <td>[special, effect, amazing, point, forgot, gian...</td>\n",
       "      <td>movie</td>\n",
       "    </tr>\n",
       "    <tr>\n",
       "      <th>2587005</th>\n",
       "      <td>i love how they set up the sequel too.i think ...</td>\n",
       "      <td>[love, set, sequel, think, people, upset, one,...</td>\n",
       "      <td>movie</td>\n",
       "    </tr>\n",
       "    <tr>\n",
       "      <th>8929219</th>\n",
       "      <td>callas comes across as the great actress that ...</td>\n",
       "      <td>[calla, come, across, great, actress]</td>\n",
       "      <td>movie</td>\n",
       "    </tr>\n",
       "    <tr>\n",
       "      <th>3185580</th>\n",
       "      <td>again, clichés and digestible, \"i've heard thi...</td>\n",
       "      <td>[clich, digestible, heard, line, time, movie, ...</td>\n",
       "      <td>movie</td>\n",
       "    </tr>\n",
       "    <tr>\n",
       "      <th>...</th>\n",
       "      <td>...</td>\n",
       "      <td>...</td>\n",
       "      <td>...</td>\n",
       "    </tr>\n",
       "    <tr>\n",
       "      <th>6953794</th>\n",
       "      <td>i was pleasantly surprised and i was now a har...</td>\n",
       "      <td>[pleasantly, surprised, harry, potter, fan]</td>\n",
       "      <td>music</td>\n",
       "    </tr>\n",
       "    <tr>\n",
       "      <th>594778</th>\n",
       "      <td>worth watching.</td>\n",
       "      <td>[worth, watching]</td>\n",
       "      <td>music</td>\n",
       "    </tr>\n",
       "    <tr>\n",
       "      <th>4822095</th>\n",
       "      <td>the movies talk about the father who trying to...</td>\n",
       "      <td>[movie, talk, father, trying, tell, story, pas...</td>\n",
       "      <td>music</td>\n",
       "    </tr>\n",
       "    <tr>\n",
       "      <th>4174829</th>\n",
       "      <td>but the surgery is expensive and she can only ...</td>\n",
       "      <td>[surgery, expensive, save, one]</td>\n",
       "      <td>music</td>\n",
       "    </tr>\n",
       "    <tr>\n",
       "      <th>5594117</th>\n",
       "      <td>and the best part of this, is valak hunts me e...</td>\n",
       "      <td>[best, part, valak, hunt, everytime, watching]</td>\n",
       "      <td>music</td>\n",
       "    </tr>\n",
       "  </tbody>\n",
       "</table>\n",
       "<p>100 rows × 3 columns</p>\n",
       "</div>"
      ],
      "text/plain": [
       "                                                      sent  \\\n",
       "7864601  see it if you are ready to and can handle the ...   \n",
       "6981347  the special effects were amazing, that at some...   \n",
       "2587005  i love how they set up the sequel too.i think ...   \n",
       "8929219  callas comes across as the great actress that ...   \n",
       "3185580  again, clichés and digestible, \"i've heard thi...   \n",
       "...                                                    ...   \n",
       "6953794  i was pleasantly surprised and i was now a har...   \n",
       "594778                                     worth watching.   \n",
       "4822095  the movies talk about the father who trying to...   \n",
       "4174829  but the surgery is expensive and she can only ...   \n",
       "5594117  and the best part of this, is valak hunts me e...   \n",
       "\n",
       "                                                w2v_review Aspect_wo_lift  \n",
       "7864601       [see, ready, handle, raw, emotion, involved]          movie  \n",
       "6981347  [special, effect, amazing, point, forgot, gian...          movie  \n",
       "2587005  [love, set, sequel, think, people, upset, one,...          movie  \n",
       "8929219              [calla, come, across, great, actress]          movie  \n",
       "3185580  [clich, digestible, heard, line, time, movie, ...          movie  \n",
       "...                                                    ...            ...  \n",
       "6953794        [pleasantly, surprised, harry, potter, fan]          music  \n",
       "594778                                   [worth, watching]          music  \n",
       "4822095  [movie, talk, father, trying, tell, story, pas...          music  \n",
       "4174829                    [surgery, expensive, save, one]          music  \n",
       "5594117     [best, part, valak, hunt, everytime, watching]          music  \n",
       "\n",
       "[100 rows x 3 columns]"
      ]
     },
     "execution_count": 352,
     "metadata": {},
     "output_type": "execute_result"
    }
   ],
   "source": [
    "sample"
   ]
  },
  {
   "cell_type": "code",
   "execution_count": 353,
   "metadata": {},
   "outputs": [],
   "source": [
    "# 셔플~\n",
    "sample = sample.sample(frac=1)\n",
    "sample.to_csv(\"[1]wo_thresh_sample.csv\")"
   ]
  },
  {
   "cell_type": "markdown",
   "metadata": {},
   "source": [
    "## 2) Threshold Adjustment 1"
   ]
  },
  {
   "cell_type": "markdown",
   "metadata": {},
   "source": [
    "threshold : 0.23"
   ]
  },
  {
   "cell_type": "code",
   "execution_count": 2,
   "metadata": {},
   "outputs": [],
   "source": [
    "import os\n",
    "os.chdir(r\"C:\\Users\\ywy\\Desktop\\min\\movie_pred\\w2v에 나온 단어로만 변환\")\n",
    "with open(\"z_DSM\",'rb') as fr:\n",
    "    z_DSM = pickle.load(fr)"
   ]
  },
  {
   "cell_type": "code",
   "execution_count": 3,
   "metadata": {},
   "outputs": [
    {
     "name": "stderr",
     "output_type": "stream",
     "text": [
      "100%|██████████████████████████████████████████████████████████████████████| 9073573/9073573 [25:19<00:00, 5971.92it/s]\n"
     ]
    }
   ],
   "source": [
    "# apply로 Aspect Categorization --> 15분. \n",
    "from tqdm import tqdm\n",
    "tqdm.pandas()\n",
    "# temp = z_DSM.loc[:100].copy()\n",
    "\n",
    "\n",
    "def Aspect_Naming(row):\n",
    "    if sum(row == 0) == 5:\n",
    "        return \"none\"\n",
    "    elif max(row) > 0.23:\n",
    "        return row[max(row) == row].keys()[0]\n",
    "    else:\n",
    "        return \"none\"\n",
    "\n",
    "# temp['Aspect_wo_lift'] = temp.progress_apply(lambda row: Aspect_Naming(row) ,axis = 1)\n",
    "\n",
    "z_DSM['10per'] = z_DSM.progress_apply(lambda row: Aspect_Naming(row),axis = 1)\n",
    "z_DSM.to_csv(\"[Threshold1]aspect_categorized_w_lift.csv\")"
   ]
  },
  {
   "cell_type": "code",
   "execution_count": 7,
   "metadata": {},
   "outputs": [],
   "source": [
    "aspect_categorized = pd.concat([pre_df,z_DSM['10per']],axis =1)\n",
    "DF = aspect_categorized[['sent','w2v_review','10per']].copy()"
   ]
  },
  {
   "cell_type": "markdown",
   "metadata": {},
   "source": [
    "### sampling"
   ]
  },
  {
   "cell_type": "code",
   "execution_count": 10,
   "metadata": {},
   "outputs": [
    {
     "data": {
      "text/html": [
       "<div>\n",
       "<style scoped>\n",
       "    .dataframe tbody tr th:only-of-type {\n",
       "        vertical-align: middle;\n",
       "    }\n",
       "\n",
       "    .dataframe tbody tr th {\n",
       "        vertical-align: top;\n",
       "    }\n",
       "\n",
       "    .dataframe thead th {\n",
       "        text-align: right;\n",
       "    }\n",
       "</style>\n",
       "<table border=\"1\" class=\"dataframe\">\n",
       "  <thead>\n",
       "    <tr style=\"text-align: right;\">\n",
       "      <th></th>\n",
       "      <th>sent</th>\n",
       "      <th>w2v_review</th>\n",
       "      <th>10per</th>\n",
       "    </tr>\n",
       "  </thead>\n",
       "  <tbody>\n",
       "    <tr>\n",
       "      <th>3216281</th>\n",
       "      <td>seeing it on the big screen i really felt i wa...</td>\n",
       "      <td>[seeing, big, screen, really, felt, sitting, w...</td>\n",
       "      <td>movie</td>\n",
       "    </tr>\n",
       "    <tr>\n",
       "      <th>57177</th>\n",
       "      <td>how , at this years oscars , it was not nomina...</td>\n",
       "      <td>[year, oscar, nominated, best, picture, actor,...</td>\n",
       "      <td>movie</td>\n",
       "    </tr>\n",
       "    <tr>\n",
       "      <th>4161235</th>\n",
       "      <td>the best thing i can say is how much attention...</td>\n",
       "      <td>[best, thing, say, much, attention, gave, orig...</td>\n",
       "      <td>movie</td>\n",
       "    </tr>\n",
       "    <tr>\n",
       "      <th>4405966</th>\n",
       "      <td>really warm, beautiful sceneries, great charac...</td>\n",
       "      <td>[really, warm, beautiful, scenery, great, char...</td>\n",
       "      <td>movie</td>\n",
       "    </tr>\n",
       "    <tr>\n",
       "      <th>6272121</th>\n",
       "      <td>sometimes, you already knew it from your first...</td>\n",
       "      <td>[sometimes, already, knew, first, thought, try...</td>\n",
       "      <td>movie</td>\n",
       "    </tr>\n",
       "    <tr>\n",
       "      <th>...</th>\n",
       "      <td>...</td>\n",
       "      <td>...</td>\n",
       "      <td>...</td>\n",
       "    </tr>\n",
       "    <tr>\n",
       "      <th>892425</th>\n",
       "      <td>sorry to disappoint that person, but this is a...</td>\n",
       "      <td>[sorry, disappoint, person, anything, annoying]</td>\n",
       "      <td>movie</td>\n",
       "    </tr>\n",
       "    <tr>\n",
       "      <th>83215</th>\n",
       "      <td>i am a huge movies fan, and will watch almost ...</td>\n",
       "      <td>[huge, movie, fan, watch, almost, anything, mi...</td>\n",
       "      <td>movie</td>\n",
       "    </tr>\n",
       "    <tr>\n",
       "      <th>6549488</th>\n",
       "      <td>it may be that they are too busy prejudging th...</td>\n",
       "      <td>[may, busy, prejudging, movie, based, biased, ...</td>\n",
       "      <td>actor</td>\n",
       "    </tr>\n",
       "    <tr>\n",
       "      <th>2985536</th>\n",
       "      <td>a film in which a football player pops steroid...</td>\n",
       "      <td>[film, football, player, pop, steroid, bottle,...</td>\n",
       "      <td>plot</td>\n",
       "    </tr>\n",
       "    <tr>\n",
       "      <th>1442944</th>\n",
       "      <td>you cannot help but marvel at the way noriega ...</td>\n",
       "      <td>[help, marvel, way, noriega, escape, fbi, cust...</td>\n",
       "      <td>none</td>\n",
       "    </tr>\n",
       "  </tbody>\n",
       "</table>\n",
       "<p>100 rows × 3 columns</p>\n",
       "</div>"
      ],
      "text/plain": [
       "                                                      sent  \\\n",
       "3216281  seeing it on the big screen i really felt i wa...   \n",
       "57177    how , at this years oscars , it was not nomina...   \n",
       "4161235  the best thing i can say is how much attention...   \n",
       "4405966  really warm, beautiful sceneries, great charac...   \n",
       "6272121  sometimes, you already knew it from your first...   \n",
       "...                                                    ...   \n",
       "892425   sorry to disappoint that person, but this is a...   \n",
       "83215    i am a huge movies fan, and will watch almost ...   \n",
       "6549488  it may be that they are too busy prejudging th...   \n",
       "2985536  a film in which a football player pops steroid...   \n",
       "1442944  you cannot help but marvel at the way noriega ...   \n",
       "\n",
       "                                                w2v_review  10per  \n",
       "3216281  [seeing, big, screen, really, felt, sitting, w...  movie  \n",
       "57177    [year, oscar, nominated, best, picture, actor,...  movie  \n",
       "4161235  [best, thing, say, much, attention, gave, orig...  movie  \n",
       "4405966  [really, warm, beautiful, scenery, great, char...  movie  \n",
       "6272121  [sometimes, already, knew, first, thought, try...  movie  \n",
       "...                                                    ...    ...  \n",
       "892425     [sorry, disappoint, person, anything, annoying]  movie  \n",
       "83215    [huge, movie, fan, watch, almost, anything, mi...  movie  \n",
       "6549488  [may, busy, prejudging, movie, based, biased, ...  actor  \n",
       "2985536  [film, football, player, pop, steroid, bottle,...   plot  \n",
       "1442944  [help, marvel, way, noriega, escape, fbi, cust...   none  \n",
       "\n",
       "[100 rows x 3 columns]"
      ]
     },
     "execution_count": 10,
     "metadata": {},
     "output_type": "execute_result"
    }
   ],
   "source": [
    "os.chdir(r\"C:\\Users\\ywy\\Desktop\\min\\movie_pred\\[lift 없이]Aspect Categorization 샘플\")\n",
    "wo_thresh_sample = pd.read_csv(\"[1]wo_thresh_sample.csv\",index_col = \"Unnamed: 0\")\n",
    "\n",
    "sample = DF.loc[wo_thresh_sample.index] # 이전과 같은 index의 샘플.\n",
    "sample"
   ]
  },
  {
   "cell_type": "code",
   "execution_count": 11,
   "metadata": {},
   "outputs": [],
   "source": [
    "os.chdir(r\"C:\\Users\\ywy\\Desktop\\min\\movie_pred\\[lift 없이]Aspect Categorization 샘플\")\n",
    "sample.to_csv(\"[2]thresh_10%_sample.csv\")"
   ]
  },
  {
   "cell_type": "code",
   "execution_count": 14,
   "metadata": {},
   "outputs": [
    {
     "data": {
      "text/html": [
       "<div>\n",
       "<style scoped>\n",
       "    .dataframe tbody tr th:only-of-type {\n",
       "        vertical-align: middle;\n",
       "    }\n",
       "\n",
       "    .dataframe tbody tr th {\n",
       "        vertical-align: top;\n",
       "    }\n",
       "\n",
       "    .dataframe thead th {\n",
       "        text-align: right;\n",
       "    }\n",
       "</style>\n",
       "<table border=\"1\" class=\"dataframe\">\n",
       "  <thead>\n",
       "    <tr style=\"text-align: right;\">\n",
       "      <th></th>\n",
       "      <th>sent</th>\n",
       "      <th>w2v_review</th>\n",
       "      <th>10per</th>\n",
       "    </tr>\n",
       "  </thead>\n",
       "  <tbody>\n",
       "    <tr>\n",
       "      <th>3216281</th>\n",
       "      <td>seeing it on the big screen i really felt i wa...</td>\n",
       "      <td>[seeing, big, screen, really, felt, sitting, w...</td>\n",
       "      <td>movie</td>\n",
       "    </tr>\n",
       "    <tr>\n",
       "      <th>57177</th>\n",
       "      <td>how , at this years oscars , it was not nomina...</td>\n",
       "      <td>[year, oscar, nominated, best, picture, actor,...</td>\n",
       "      <td>movie</td>\n",
       "    </tr>\n",
       "    <tr>\n",
       "      <th>4161235</th>\n",
       "      <td>the best thing i can say is how much attention...</td>\n",
       "      <td>[best, thing, say, much, attention, gave, orig...</td>\n",
       "      <td>movie</td>\n",
       "    </tr>\n",
       "    <tr>\n",
       "      <th>4405966</th>\n",
       "      <td>really warm, beautiful sceneries, great charac...</td>\n",
       "      <td>[really, warm, beautiful, scenery, great, char...</td>\n",
       "      <td>movie</td>\n",
       "    </tr>\n",
       "    <tr>\n",
       "      <th>6272121</th>\n",
       "      <td>sometimes, you already knew it from your first...</td>\n",
       "      <td>[sometimes, already, knew, first, thought, try...</td>\n",
       "      <td>movie</td>\n",
       "    </tr>\n",
       "    <tr>\n",
       "      <th>...</th>\n",
       "      <td>...</td>\n",
       "      <td>...</td>\n",
       "      <td>...</td>\n",
       "    </tr>\n",
       "    <tr>\n",
       "      <th>892425</th>\n",
       "      <td>sorry to disappoint that person, but this is a...</td>\n",
       "      <td>[sorry, disappoint, person, anything, annoying]</td>\n",
       "      <td>movie</td>\n",
       "    </tr>\n",
       "    <tr>\n",
       "      <th>83215</th>\n",
       "      <td>i am a huge movies fan, and will watch almost ...</td>\n",
       "      <td>[huge, movie, fan, watch, almost, anything, mi...</td>\n",
       "      <td>movie</td>\n",
       "    </tr>\n",
       "    <tr>\n",
       "      <th>6549488</th>\n",
       "      <td>it may be that they are too busy prejudging th...</td>\n",
       "      <td>[may, busy, prejudging, movie, based, biased, ...</td>\n",
       "      <td>actor</td>\n",
       "    </tr>\n",
       "    <tr>\n",
       "      <th>2985536</th>\n",
       "      <td>a film in which a football player pops steroid...</td>\n",
       "      <td>[film, football, player, pop, steroid, bottle,...</td>\n",
       "      <td>plot</td>\n",
       "    </tr>\n",
       "    <tr>\n",
       "      <th>1442944</th>\n",
       "      <td>you cannot help but marvel at the way noriega ...</td>\n",
       "      <td>[help, marvel, way, noriega, escape, fbi, cust...</td>\n",
       "      <td>none</td>\n",
       "    </tr>\n",
       "  </tbody>\n",
       "</table>\n",
       "<p>100 rows × 3 columns</p>\n",
       "</div>"
      ],
      "text/plain": [
       "                                                      sent  \\\n",
       "3216281  seeing it on the big screen i really felt i wa...   \n",
       "57177    how , at this years oscars , it was not nomina...   \n",
       "4161235  the best thing i can say is how much attention...   \n",
       "4405966  really warm, beautiful sceneries, great charac...   \n",
       "6272121  sometimes, you already knew it from your first...   \n",
       "...                                                    ...   \n",
       "892425   sorry to disappoint that person, but this is a...   \n",
       "83215    i am a huge movies fan, and will watch almost ...   \n",
       "6549488  it may be that they are too busy prejudging th...   \n",
       "2985536  a film in which a football player pops steroid...   \n",
       "1442944  you cannot help but marvel at the way noriega ...   \n",
       "\n",
       "                                                w2v_review  10per  \n",
       "3216281  [seeing, big, screen, really, felt, sitting, w...  movie  \n",
       "57177    [year, oscar, nominated, best, picture, actor,...  movie  \n",
       "4161235  [best, thing, say, much, attention, gave, orig...  movie  \n",
       "4405966  [really, warm, beautiful, scenery, great, char...  movie  \n",
       "6272121  [sometimes, already, knew, first, thought, try...  movie  \n",
       "...                                                    ...    ...  \n",
       "892425     [sorry, disappoint, person, anything, annoying]  movie  \n",
       "83215    [huge, movie, fan, watch, almost, anything, mi...  movie  \n",
       "6549488  [may, busy, prejudging, movie, based, biased, ...  actor  \n",
       "2985536  [film, football, player, pop, steroid, bottle,...   plot  \n",
       "1442944  [help, marvel, way, noriega, escape, fbi, cust...   none  \n",
       "\n",
       "[100 rows x 3 columns]"
      ]
     },
     "execution_count": 14,
     "metadata": {},
     "output_type": "execute_result"
    }
   ],
   "source": [
    "sample"
   ]
  },
  {
   "cell_type": "markdown",
   "metadata": {},
   "source": [
    "### evaluation"
   ]
  },
  {
   "cell_type": "code",
   "execution_count": 12,
   "metadata": {},
   "outputs": [],
   "source": [
    "import os\n",
    "os.chdir(r\"C:\\Users\\ywy\\Desktop\\min\\movie_pred\\[lift 없이]Aspect Categorization 샘플\")\n",
    "z_DSM = pd.read_csv(\"[2]thresh_10%_sample.csv\",index_col = \"Unnamed: 0\")"
   ]
  },
  {
   "cell_type": "code",
   "execution_count": 19,
   "metadata": {},
   "outputs": [
    {
     "data": {
      "text/html": [
       "<div>\n",
       "<style scoped>\n",
       "    .dataframe tbody tr th:only-of-type {\n",
       "        vertical-align: middle;\n",
       "    }\n",
       "\n",
       "    .dataframe tbody tr th {\n",
       "        vertical-align: top;\n",
       "    }\n",
       "\n",
       "    .dataframe thead th {\n",
       "        text-align: right;\n",
       "    }\n",
       "</style>\n",
       "<table border=\"1\" class=\"dataframe\">\n",
       "  <thead>\n",
       "    <tr style=\"text-align: right;\">\n",
       "      <th></th>\n",
       "      <th>min</th>\n",
       "      <th>sent</th>\n",
       "      <th>w2v_review</th>\n",
       "      <th>10per</th>\n",
       "    </tr>\n",
       "  </thead>\n",
       "  <tbody>\n",
       "    <tr>\n",
       "      <th>3216281</th>\n",
       "      <td>movie</td>\n",
       "      <td>seeing it on the big screen i really felt i wa...</td>\n",
       "      <td>['seeing', 'big', 'screen', 'really', 'felt', ...</td>\n",
       "      <td>movie</td>\n",
       "    </tr>\n",
       "    <tr>\n",
       "      <th>57177</th>\n",
       "      <td>actor</td>\n",
       "      <td>how , at this years oscars , it was not nomina...</td>\n",
       "      <td>['year', 'oscar', 'nominated', 'best', 'pictur...</td>\n",
       "      <td>movie</td>\n",
       "    </tr>\n",
       "    <tr>\n",
       "      <th>4161235</th>\n",
       "      <td>movie</td>\n",
       "      <td>the best thing i can say is how much attention...</td>\n",
       "      <td>['best', 'thing', 'say', 'much', 'attention', ...</td>\n",
       "      <td>movie</td>\n",
       "    </tr>\n",
       "    <tr>\n",
       "      <th>4405966</th>\n",
       "      <td>movie</td>\n",
       "      <td>really warm, beautiful sceneries, great charac...</td>\n",
       "      <td>['really', 'warm', 'beautiful', 'scenery', 'gr...</td>\n",
       "      <td>movie</td>\n",
       "    </tr>\n",
       "    <tr>\n",
       "      <th>6272121</th>\n",
       "      <td>none</td>\n",
       "      <td>sometimes, you already knew it from your first...</td>\n",
       "      <td>['sometimes', 'already', 'knew', 'first', 'tho...</td>\n",
       "      <td>movie</td>\n",
       "    </tr>\n",
       "    <tr>\n",
       "      <th>...</th>\n",
       "      <td>...</td>\n",
       "      <td>...</td>\n",
       "      <td>...</td>\n",
       "      <td>...</td>\n",
       "    </tr>\n",
       "    <tr>\n",
       "      <th>892425</th>\n",
       "      <td>movie</td>\n",
       "      <td>sorry to disappoint that person, but this is a...</td>\n",
       "      <td>['sorry', 'disappoint', 'person', 'anything', ...</td>\n",
       "      <td>movie</td>\n",
       "    </tr>\n",
       "    <tr>\n",
       "      <th>83215</th>\n",
       "      <td>movie</td>\n",
       "      <td>i am a huge movies fan, and will watch almost ...</td>\n",
       "      <td>['huge', 'movie', 'fan', 'watch', 'almost', 'a...</td>\n",
       "      <td>movie</td>\n",
       "    </tr>\n",
       "    <tr>\n",
       "      <th>6549488</th>\n",
       "      <td>none</td>\n",
       "      <td>it may be that they are too busy prejudging th...</td>\n",
       "      <td>['may', 'busy', 'prejudging', 'movie', 'based'...</td>\n",
       "      <td>actor</td>\n",
       "    </tr>\n",
       "    <tr>\n",
       "      <th>2985536</th>\n",
       "      <td>none</td>\n",
       "      <td>a film in which a football player pops steroid...</td>\n",
       "      <td>['film', 'football', 'player', 'pop', 'steroid...</td>\n",
       "      <td>plot</td>\n",
       "    </tr>\n",
       "    <tr>\n",
       "      <th>1442944</th>\n",
       "      <td>none</td>\n",
       "      <td>you cannot help but marvel at the way noriega ...</td>\n",
       "      <td>['help', 'marvel', 'way', 'noriega', 'escape',...</td>\n",
       "      <td>none</td>\n",
       "    </tr>\n",
       "  </tbody>\n",
       "</table>\n",
       "<p>100 rows × 4 columns</p>\n",
       "</div>"
      ],
      "text/plain": [
       "           min                                               sent  \\\n",
       "3216281  movie  seeing it on the big screen i really felt i wa...   \n",
       "57177    actor  how , at this years oscars , it was not nomina...   \n",
       "4161235  movie  the best thing i can say is how much attention...   \n",
       "4405966  movie  really warm, beautiful sceneries, great charac...   \n",
       "6272121   none  sometimes, you already knew it from your first...   \n",
       "...        ...                                                ...   \n",
       "892425   movie  sorry to disappoint that person, but this is a...   \n",
       "83215    movie  i am a huge movies fan, and will watch almost ...   \n",
       "6549488   none  it may be that they are too busy prejudging th...   \n",
       "2985536   none  a film in which a football player pops steroid...   \n",
       "1442944   none  you cannot help but marvel at the way noriega ...   \n",
       "\n",
       "                                                w2v_review  10per  \n",
       "3216281  ['seeing', 'big', 'screen', 'really', 'felt', ...  movie  \n",
       "57177    ['year', 'oscar', 'nominated', 'best', 'pictur...  movie  \n",
       "4161235  ['best', 'thing', 'say', 'much', 'attention', ...  movie  \n",
       "4405966  ['really', 'warm', 'beautiful', 'scenery', 'gr...  movie  \n",
       "6272121  ['sometimes', 'already', 'knew', 'first', 'tho...  movie  \n",
       "...                                                    ...    ...  \n",
       "892425   ['sorry', 'disappoint', 'person', 'anything', ...  movie  \n",
       "83215    ['huge', 'movie', 'fan', 'watch', 'almost', 'a...  movie  \n",
       "6549488  ['may', 'busy', 'prejudging', 'movie', 'based'...  actor  \n",
       "2985536  ['film', 'football', 'player', 'pop', 'steroid...   plot  \n",
       "1442944  ['help', 'marvel', 'way', 'noriega', 'escape',...   none  \n",
       "\n",
       "[100 rows x 4 columns]"
      ]
     },
     "execution_count": 19,
     "metadata": {},
     "output_type": "execute_result"
    }
   ],
   "source": [
    "# labelled\n",
    "df = pd.read_csv(\"[1]wo_thresh_sample.csv\",index_col = \"Unnamed: 0\")\n",
    "z_DSM = pd.concat([df['min'],z_DSM],axis = 1)\n",
    "z_DSM"
   ]
  },
  {
   "cell_type": "code",
   "execution_count": 20,
   "metadata": {},
   "outputs": [
    {
     "name": "stdout",
     "output_type": "stream",
     "text": [
      "[[ 0  0  6  0  5  2]\n",
      " [ 0  0  2  0  4  4]\n",
      " [ 7  1 29  0  9  6]\n",
      " [ 4  0  2  0  2  1]\n",
      " [ 0  0  2  0  9  0]\n",
      " [ 1  0  0  0  2  2]]\n",
      "              precision    recall  f1-score   support\n",
      "\n",
      "       actor       0.00      0.00      0.00        13\n",
      "    director       0.00      0.00      0.00        10\n",
      "       movie       0.71      0.56      0.62        52\n",
      "       music       0.00      0.00      0.00         9\n",
      "        none       0.29      0.82      0.43        11\n",
      "        plot       0.13      0.40      0.20         5\n",
      "\n",
      "    accuracy                           0.40       100\n",
      "   macro avg       0.19      0.30      0.21       100\n",
      "weighted avg       0.41      0.40      0.38       100\n",
      "\n"
     ]
    },
    {
     "name": "stderr",
     "output_type": "stream",
     "text": [
      "C:\\Users\\ywy\\.conda\\envs\\tf2py38\\lib\\site-packages\\sklearn\\metrics\\_classification.py:1248: UndefinedMetricWarning: Precision and F-score are ill-defined and being set to 0.0 in labels with no predicted samples. Use `zero_division` parameter to control this behavior.\n",
      "  _warn_prf(average, modifier, msg_start, len(result))\n",
      "C:\\Users\\ywy\\.conda\\envs\\tf2py38\\lib\\site-packages\\sklearn\\metrics\\_classification.py:1248: UndefinedMetricWarning: Precision and F-score are ill-defined and being set to 0.0 in labels with no predicted samples. Use `zero_division` parameter to control this behavior.\n",
      "  _warn_prf(average, modifier, msg_start, len(result))\n",
      "C:\\Users\\ywy\\.conda\\envs\\tf2py38\\lib\\site-packages\\sklearn\\metrics\\_classification.py:1248: UndefinedMetricWarning: Precision and F-score are ill-defined and being set to 0.0 in labels with no predicted samples. Use `zero_division` parameter to control this behavior.\n",
      "  _warn_prf(average, modifier, msg_start, len(result))\n"
     ]
    }
   ],
   "source": [
    "# 예시\n",
    "\n",
    "y_test = z_DSM['10per']\n",
    "y_pred = z_DSM['min']\n",
    "\n",
    "#classifier - evaluation metrics \n",
    "\n",
    "from sklearn.metrics import confusion_matrix\n",
    "from sklearn.metrics import classification_report\n",
    "\n",
    "cm = confusion_matrix(y_test, y_pred)\n",
    "\n",
    "print (cm)\n",
    "print (classification_report(y_test, y_pred))"
   ]
  },
  {
   "cell_type": "code",
   "execution_count": null,
   "metadata": {},
   "outputs": [],
   "source": []
  },
  {
   "cell_type": "markdown",
   "metadata": {},
   "source": [
    "## 3) Threshold Adjustment 2"
   ]
  },
  {
   "cell_type": "markdown",
   "metadata": {},
   "source": [
    "threshold: 0.53"
   ]
  },
  {
   "cell_type": "code",
   "execution_count": 23,
   "metadata": {},
   "outputs": [],
   "source": [
    "import os\n",
    "os.chdir(r\"C:\\Users\\ywy\\Desktop\\min\\movie_pred\\w2v에 나온 단어로만 변환\")\n",
    "with open(\"z_DSM\",'rb') as fr:\n",
    "    z_DSM = pickle.load(fr)"
   ]
  },
  {
   "cell_type": "code",
   "execution_count": 24,
   "metadata": {},
   "outputs": [
    {
     "name": "stderr",
     "output_type": "stream",
     "text": [
      "100%|██████████████████████████████████████████████████████████████████████| 9073573/9073573 [22:53<00:00, 6605.51it/s]\n"
     ]
    }
   ],
   "source": [
    "# apply로 Aspect Categorization --> 15분. \n",
    "from tqdm import tqdm\n",
    "tqdm.pandas()\n",
    "# temp = z_DSM.loc[:100].copy()\n",
    "\n",
    "\n",
    "def Aspect_Naming(row):\n",
    "    if sum(row == 0) == 5:\n",
    "        return \"none\"\n",
    "    elif max(row) > 0.53:\n",
    "        return row[max(row) == row].keys()[0]\n",
    "    else:\n",
    "        return \"none\"\n",
    "\n",
    "# temp['Aspect_wo_lift'] = temp.progress_apply(lambda row: Aspect_Naming(row) ,axis = 1)\n",
    "\n",
    "z_DSM['25per'] = z_DSM.progress_apply(lambda row: Aspect_Naming(row),axis = 1)\n",
    "z_DSM.to_csv(\"[Threshold2]aspect_categorized_w_lift.csv\")"
   ]
  },
  {
   "cell_type": "code",
   "execution_count": 25,
   "metadata": {},
   "outputs": [],
   "source": [
    "aspect_categorized = pd.concat([pre_df,z_DSM['25per']],axis =1)\n",
    "DF = aspect_categorized[['sent','w2v_review','25per']].copy()"
   ]
  },
  {
   "cell_type": "markdown",
   "metadata": {},
   "source": [
    "### sampling"
   ]
  },
  {
   "cell_type": "code",
   "execution_count": 26,
   "metadata": {},
   "outputs": [
    {
     "data": {
      "text/html": [
       "<div>\n",
       "<style scoped>\n",
       "    .dataframe tbody tr th:only-of-type {\n",
       "        vertical-align: middle;\n",
       "    }\n",
       "\n",
       "    .dataframe tbody tr th {\n",
       "        vertical-align: top;\n",
       "    }\n",
       "\n",
       "    .dataframe thead th {\n",
       "        text-align: right;\n",
       "    }\n",
       "</style>\n",
       "<table border=\"1\" class=\"dataframe\">\n",
       "  <thead>\n",
       "    <tr style=\"text-align: right;\">\n",
       "      <th></th>\n",
       "      <th>sent</th>\n",
       "      <th>w2v_review</th>\n",
       "      <th>25per</th>\n",
       "    </tr>\n",
       "  </thead>\n",
       "  <tbody>\n",
       "    <tr>\n",
       "      <th>3216281</th>\n",
       "      <td>seeing it on the big screen i really felt i wa...</td>\n",
       "      <td>[seeing, big, screen, really, felt, sitting, w...</td>\n",
       "      <td>movie</td>\n",
       "    </tr>\n",
       "    <tr>\n",
       "      <th>57177</th>\n",
       "      <td>how , at this years oscars , it was not nomina...</td>\n",
       "      <td>[year, oscar, nominated, best, picture, actor,...</td>\n",
       "      <td>movie</td>\n",
       "    </tr>\n",
       "    <tr>\n",
       "      <th>4161235</th>\n",
       "      <td>the best thing i can say is how much attention...</td>\n",
       "      <td>[best, thing, say, much, attention, gave, orig...</td>\n",
       "      <td>movie</td>\n",
       "    </tr>\n",
       "    <tr>\n",
       "      <th>4405966</th>\n",
       "      <td>really warm, beautiful sceneries, great charac...</td>\n",
       "      <td>[really, warm, beautiful, scenery, great, char...</td>\n",
       "      <td>movie</td>\n",
       "    </tr>\n",
       "    <tr>\n",
       "      <th>6272121</th>\n",
       "      <td>sometimes, you already knew it from your first...</td>\n",
       "      <td>[sometimes, already, knew, first, thought, try...</td>\n",
       "      <td>movie</td>\n",
       "    </tr>\n",
       "    <tr>\n",
       "      <th>...</th>\n",
       "      <td>...</td>\n",
       "      <td>...</td>\n",
       "      <td>...</td>\n",
       "    </tr>\n",
       "    <tr>\n",
       "      <th>892425</th>\n",
       "      <td>sorry to disappoint that person, but this is a...</td>\n",
       "      <td>[sorry, disappoint, person, anything, annoying]</td>\n",
       "      <td>movie</td>\n",
       "    </tr>\n",
       "    <tr>\n",
       "      <th>83215</th>\n",
       "      <td>i am a huge movies fan, and will watch almost ...</td>\n",
       "      <td>[huge, movie, fan, watch, almost, anything, mi...</td>\n",
       "      <td>movie</td>\n",
       "    </tr>\n",
       "    <tr>\n",
       "      <th>6549488</th>\n",
       "      <td>it may be that they are too busy prejudging th...</td>\n",
       "      <td>[may, busy, prejudging, movie, based, biased, ...</td>\n",
       "      <td>actor</td>\n",
       "    </tr>\n",
       "    <tr>\n",
       "      <th>2985536</th>\n",
       "      <td>a film in which a football player pops steroid...</td>\n",
       "      <td>[film, football, player, pop, steroid, bottle,...</td>\n",
       "      <td>plot</td>\n",
       "    </tr>\n",
       "    <tr>\n",
       "      <th>1442944</th>\n",
       "      <td>you cannot help but marvel at the way noriega ...</td>\n",
       "      <td>[help, marvel, way, noriega, escape, fbi, cust...</td>\n",
       "      <td>none</td>\n",
       "    </tr>\n",
       "  </tbody>\n",
       "</table>\n",
       "<p>100 rows × 3 columns</p>\n",
       "</div>"
      ],
      "text/plain": [
       "                                                      sent  \\\n",
       "3216281  seeing it on the big screen i really felt i wa...   \n",
       "57177    how , at this years oscars , it was not nomina...   \n",
       "4161235  the best thing i can say is how much attention...   \n",
       "4405966  really warm, beautiful sceneries, great charac...   \n",
       "6272121  sometimes, you already knew it from your first...   \n",
       "...                                                    ...   \n",
       "892425   sorry to disappoint that person, but this is a...   \n",
       "83215    i am a huge movies fan, and will watch almost ...   \n",
       "6549488  it may be that they are too busy prejudging th...   \n",
       "2985536  a film in which a football player pops steroid...   \n",
       "1442944  you cannot help but marvel at the way noriega ...   \n",
       "\n",
       "                                                w2v_review  25per  \n",
       "3216281  [seeing, big, screen, really, felt, sitting, w...  movie  \n",
       "57177    [year, oscar, nominated, best, picture, actor,...  movie  \n",
       "4161235  [best, thing, say, much, attention, gave, orig...  movie  \n",
       "4405966  [really, warm, beautiful, scenery, great, char...  movie  \n",
       "6272121  [sometimes, already, knew, first, thought, try...  movie  \n",
       "...                                                    ...    ...  \n",
       "892425     [sorry, disappoint, person, anything, annoying]  movie  \n",
       "83215    [huge, movie, fan, watch, almost, anything, mi...  movie  \n",
       "6549488  [may, busy, prejudging, movie, based, biased, ...  actor  \n",
       "2985536  [film, football, player, pop, steroid, bottle,...   plot  \n",
       "1442944  [help, marvel, way, noriega, escape, fbi, cust...   none  \n",
       "\n",
       "[100 rows x 3 columns]"
      ]
     },
     "execution_count": 26,
     "metadata": {},
     "output_type": "execute_result"
    }
   ],
   "source": [
    "os.chdir(r\"C:\\Users\\ywy\\Desktop\\min\\movie_pred\\[lift 없이]Aspect Categorization 샘플\")\n",
    "wo_thresh_sample = pd.read_csv(\"[1]wo_thresh_sample.csv\",index_col = \"Unnamed: 0\")\n",
    "\n",
    "sample = DF.loc[wo_thresh_sample.index] # 이전과 같은 index의 샘플.\n",
    "sample"
   ]
  },
  {
   "cell_type": "code",
   "execution_count": 27,
   "metadata": {},
   "outputs": [],
   "source": [
    "os.chdir(r\"C:\\Users\\ywy\\Desktop\\min\\movie_pred\\[lift 없이]Aspect Categorization 샘플\")\n",
    "sample.to_csv(\"[3]thresh_25%_sample.csv\")"
   ]
  },
  {
   "cell_type": "markdown",
   "metadata": {},
   "source": [
    "### evaluation"
   ]
  },
  {
   "cell_type": "code",
   "execution_count": 28,
   "metadata": {},
   "outputs": [],
   "source": [
    "import os\n",
    "os.chdir(r\"C:\\Users\\ywy\\Desktop\\min\\movie_pred\\[lift 없이]Aspect Categorization 샘플\")\n",
    "z_DSM = pd.read_csv(\"[3]thresh_25%_sample.csv\",index_col = \"Unnamed: 0\")"
   ]
  },
  {
   "cell_type": "code",
   "execution_count": 29,
   "metadata": {},
   "outputs": [
    {
     "data": {
      "text/html": [
       "<div>\n",
       "<style scoped>\n",
       "    .dataframe tbody tr th:only-of-type {\n",
       "        vertical-align: middle;\n",
       "    }\n",
       "\n",
       "    .dataframe tbody tr th {\n",
       "        vertical-align: top;\n",
       "    }\n",
       "\n",
       "    .dataframe thead th {\n",
       "        text-align: right;\n",
       "    }\n",
       "</style>\n",
       "<table border=\"1\" class=\"dataframe\">\n",
       "  <thead>\n",
       "    <tr style=\"text-align: right;\">\n",
       "      <th></th>\n",
       "      <th>min</th>\n",
       "      <th>sent</th>\n",
       "      <th>w2v_review</th>\n",
       "      <th>25per</th>\n",
       "    </tr>\n",
       "  </thead>\n",
       "  <tbody>\n",
       "    <tr>\n",
       "      <th>3216281</th>\n",
       "      <td>movie</td>\n",
       "      <td>seeing it on the big screen i really felt i wa...</td>\n",
       "      <td>['seeing', 'big', 'screen', 'really', 'felt', ...</td>\n",
       "      <td>movie</td>\n",
       "    </tr>\n",
       "    <tr>\n",
       "      <th>57177</th>\n",
       "      <td>actor</td>\n",
       "      <td>how , at this years oscars , it was not nomina...</td>\n",
       "      <td>['year', 'oscar', 'nominated', 'best', 'pictur...</td>\n",
       "      <td>movie</td>\n",
       "    </tr>\n",
       "    <tr>\n",
       "      <th>4161235</th>\n",
       "      <td>movie</td>\n",
       "      <td>the best thing i can say is how much attention...</td>\n",
       "      <td>['best', 'thing', 'say', 'much', 'attention', ...</td>\n",
       "      <td>movie</td>\n",
       "    </tr>\n",
       "    <tr>\n",
       "      <th>4405966</th>\n",
       "      <td>movie</td>\n",
       "      <td>really warm, beautiful sceneries, great charac...</td>\n",
       "      <td>['really', 'warm', 'beautiful', 'scenery', 'gr...</td>\n",
       "      <td>movie</td>\n",
       "    </tr>\n",
       "    <tr>\n",
       "      <th>6272121</th>\n",
       "      <td>none</td>\n",
       "      <td>sometimes, you already knew it from your first...</td>\n",
       "      <td>['sometimes', 'already', 'knew', 'first', 'tho...</td>\n",
       "      <td>movie</td>\n",
       "    </tr>\n",
       "    <tr>\n",
       "      <th>...</th>\n",
       "      <td>...</td>\n",
       "      <td>...</td>\n",
       "      <td>...</td>\n",
       "      <td>...</td>\n",
       "    </tr>\n",
       "    <tr>\n",
       "      <th>892425</th>\n",
       "      <td>movie</td>\n",
       "      <td>sorry to disappoint that person, but this is a...</td>\n",
       "      <td>['sorry', 'disappoint', 'person', 'anything', ...</td>\n",
       "      <td>movie</td>\n",
       "    </tr>\n",
       "    <tr>\n",
       "      <th>83215</th>\n",
       "      <td>movie</td>\n",
       "      <td>i am a huge movies fan, and will watch almost ...</td>\n",
       "      <td>['huge', 'movie', 'fan', 'watch', 'almost', 'a...</td>\n",
       "      <td>movie</td>\n",
       "    </tr>\n",
       "    <tr>\n",
       "      <th>6549488</th>\n",
       "      <td>none</td>\n",
       "      <td>it may be that they are too busy prejudging th...</td>\n",
       "      <td>['may', 'busy', 'prejudging', 'movie', 'based'...</td>\n",
       "      <td>actor</td>\n",
       "    </tr>\n",
       "    <tr>\n",
       "      <th>2985536</th>\n",
       "      <td>none</td>\n",
       "      <td>a film in which a football player pops steroid...</td>\n",
       "      <td>['film', 'football', 'player', 'pop', 'steroid...</td>\n",
       "      <td>plot</td>\n",
       "    </tr>\n",
       "    <tr>\n",
       "      <th>1442944</th>\n",
       "      <td>none</td>\n",
       "      <td>you cannot help but marvel at the way noriega ...</td>\n",
       "      <td>['help', 'marvel', 'way', 'noriega', 'escape',...</td>\n",
       "      <td>none</td>\n",
       "    </tr>\n",
       "  </tbody>\n",
       "</table>\n",
       "<p>100 rows × 4 columns</p>\n",
       "</div>"
      ],
      "text/plain": [
       "           min                                               sent  \\\n",
       "3216281  movie  seeing it on the big screen i really felt i wa...   \n",
       "57177    actor  how , at this years oscars , it was not nomina...   \n",
       "4161235  movie  the best thing i can say is how much attention...   \n",
       "4405966  movie  really warm, beautiful sceneries, great charac...   \n",
       "6272121   none  sometimes, you already knew it from your first...   \n",
       "...        ...                                                ...   \n",
       "892425   movie  sorry to disappoint that person, but this is a...   \n",
       "83215    movie  i am a huge movies fan, and will watch almost ...   \n",
       "6549488   none  it may be that they are too busy prejudging th...   \n",
       "2985536   none  a film in which a football player pops steroid...   \n",
       "1442944   none  you cannot help but marvel at the way noriega ...   \n",
       "\n",
       "                                                w2v_review  25per  \n",
       "3216281  ['seeing', 'big', 'screen', 'really', 'felt', ...  movie  \n",
       "57177    ['year', 'oscar', 'nominated', 'best', 'pictur...  movie  \n",
       "4161235  ['best', 'thing', 'say', 'much', 'attention', ...  movie  \n",
       "4405966  ['really', 'warm', 'beautiful', 'scenery', 'gr...  movie  \n",
       "6272121  ['sometimes', 'already', 'knew', 'first', 'tho...  movie  \n",
       "...                                                    ...    ...  \n",
       "892425   ['sorry', 'disappoint', 'person', 'anything', ...  movie  \n",
       "83215    ['huge', 'movie', 'fan', 'watch', 'almost', 'a...  movie  \n",
       "6549488  ['may', 'busy', 'prejudging', 'movie', 'based'...  actor  \n",
       "2985536  ['film', 'football', 'player', 'pop', 'steroid...   plot  \n",
       "1442944  ['help', 'marvel', 'way', 'noriega', 'escape',...   none  \n",
       "\n",
       "[100 rows x 4 columns]"
      ]
     },
     "execution_count": 29,
     "metadata": {},
     "output_type": "execute_result"
    }
   ],
   "source": [
    "# labelled\n",
    "df = pd.read_csv(\"[1]wo_thresh_sample.csv\",index_col = \"Unnamed: 0\")\n",
    "z_DSM = pd.concat([df['min'],z_DSM],axis = 1)\n",
    "z_DSM"
   ]
  },
  {
   "cell_type": "code",
   "execution_count": 30,
   "metadata": {},
   "outputs": [
    {
     "name": "stdout",
     "output_type": "stream",
     "text": [
      "[[ 0  0  5  0  5  2]\n",
      " [ 0  0  1  0  4  2]\n",
      " [ 7  0 26  0  6  5]\n",
      " [ 3  0  2  0  0  1]\n",
      " [ 2  1  7  0 14  3]\n",
      " [ 0  0  0  0  2  2]]\n",
      "              precision    recall  f1-score   support\n",
      "\n",
      "       actor       0.00      0.00      0.00        12\n",
      "    director       0.00      0.00      0.00         7\n",
      "       movie       0.63      0.59      0.61        44\n",
      "       music       0.00      0.00      0.00         6\n",
      "        none       0.45      0.52      0.48        27\n",
      "        plot       0.13      0.50      0.21         4\n",
      "\n",
      "    accuracy                           0.42       100\n",
      "   macro avg       0.20      0.27      0.22       100\n",
      "weighted avg       0.41      0.42      0.41       100\n",
      "\n"
     ]
    },
    {
     "name": "stderr",
     "output_type": "stream",
     "text": [
      "C:\\Users\\ywy\\.conda\\envs\\tf2py38\\lib\\site-packages\\sklearn\\metrics\\_classification.py:1248: UndefinedMetricWarning: Precision and F-score are ill-defined and being set to 0.0 in labels with no predicted samples. Use `zero_division` parameter to control this behavior.\n",
      "  _warn_prf(average, modifier, msg_start, len(result))\n",
      "C:\\Users\\ywy\\.conda\\envs\\tf2py38\\lib\\site-packages\\sklearn\\metrics\\_classification.py:1248: UndefinedMetricWarning: Precision and F-score are ill-defined and being set to 0.0 in labels with no predicted samples. Use `zero_division` parameter to control this behavior.\n",
      "  _warn_prf(average, modifier, msg_start, len(result))\n",
      "C:\\Users\\ywy\\.conda\\envs\\tf2py38\\lib\\site-packages\\sklearn\\metrics\\_classification.py:1248: UndefinedMetricWarning: Precision and F-score are ill-defined and being set to 0.0 in labels with no predicted samples. Use `zero_division` parameter to control this behavior.\n",
      "  _warn_prf(average, modifier, msg_start, len(result))\n"
     ]
    }
   ],
   "source": [
    "# 예시\n",
    "\n",
    "y_test = z_DSM['25per']\n",
    "y_pred = z_DSM['min']\n",
    "\n",
    "#classifier - evaluation metrics \n",
    "\n",
    "from sklearn.metrics import confusion_matrix\n",
    "from sklearn.metrics import classification_report\n",
    "\n",
    "cm = confusion_matrix(y_test, y_pred)\n",
    "\n",
    "print (cm)\n",
    "print (classification_report(y_test, y_pred))"
   ]
  },
  {
   "cell_type": "code",
   "execution_count": null,
   "metadata": {},
   "outputs": [],
   "source": [
    "# thereshold 주고 분류 얼마나 잘되나 파악."
   ]
  },
  {
   "cell_type": "markdown",
   "metadata": {},
   "source": [
    "# 4. Association Rules"
   ]
  },
  {
   "cell_type": "code",
   "execution_count": null,
   "metadata": {},
   "outputs": [],
   "source": [
    "os.chdir(r'C:\\Users\\ywy\\Desktop\\min\\movie_pred')\n",
    "with open(\"pre_df_w2v\",'rb') as fr:\n",
    "    pre_df = pickle.load(fr)"
   ]
  },
  {
   "cell_type": "code",
   "execution_count": 12,
   "metadata": {},
   "outputs": [],
   "source": [
    "from mlxtend.preprocessing import TransactionEncoder\n",
    "from mlxtend.frequent_patterns import apriori\n",
    "from mlxtend.frequent_patterns import association_rules\n",
    "\n",
    "\n"
   ]
  },
  {
   "cell_type": "code",
   "execution_count": 13,
   "metadata": {},
   "outputs": [],
   "source": [
    "# input 작업\n",
    "dataset = pre_df['w2v_review'].values.tolist()"
   ]
  },
  {
   "cell_type": "code",
   "execution_count": 211,
   "metadata": {},
   "outputs": [
    {
     "data": {
      "text/plain": [
       "['actor', 'director', 'plot', 'music', 'movie']"
      ]
     },
     "execution_count": 211,
     "metadata": {},
     "output_type": "execute_result"
    }
   ],
   "source": []
  },
  {
   "cell_type": "code",
   "execution_count": null,
   "metadata": {},
   "outputs": [],
   "source": []
  }
 ],
 "metadata": {
  "accelerator": "GPU",
  "colab": {
   "collapsed_sections": [],
   "machine_shape": "hm",
   "name": "[ABSA1] Aspect Term Extraction",
   "provenance": [],
   "toc_visible": true
  },
  "kernelspec": {
   "display_name": "Python 3",
   "language": "python",
   "name": "python3"
  },
  "language_info": {
   "codemirror_mode": {
    "name": "ipython",
    "version": 3
   },
   "file_extension": ".py",
   "mimetype": "text/x-python",
   "name": "python",
   "nbconvert_exporter": "python",
   "pygments_lexer": "ipython3",
   "version": "3.7.6"
  }
 },
 "nbformat": 4,
 "nbformat_minor": 4
}
