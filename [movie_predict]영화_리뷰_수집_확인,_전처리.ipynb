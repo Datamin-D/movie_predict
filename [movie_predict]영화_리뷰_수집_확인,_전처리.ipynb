{
  "nbformat": 4,
  "nbformat_minor": 0,
  "metadata": {
    "colab": {
      "name": "[movie predict]영화 리뷰 수집 확인, 전처리",
      "provenance": [],
      "collapsed_sections": [
        "Lzn-pNpQVltY",
        "dPAdxQRxVq_2",
        "p5GA9PJpWV7Z",
        "zvNXqv49cakt"
      ],
      "toc_visible": true,
      "machine_shape": "hm",
      "authorship_tag": "ABX9TyMhchJij0g6MRU7Ko4AuLJE",
      "include_colab_link": true
    },
    "kernelspec": {
      "display_name": "Python 3",
      "name": "python3"
    }
  },
  "cells": [
    {
      "cell_type": "markdown",
      "metadata": {
        "id": "view-in-github",
        "colab_type": "text"
      },
      "source": [
        "<a href=\"https://colab.research.google.com/github/Datamin-D/movie_predict/blob/master/%5Bmovie_predict%5D%EC%98%81%ED%99%94_%EB%A6%AC%EB%B7%B0_%EC%88%98%EC%A7%91_%ED%99%95%EC%9D%B8%2C_%EC%A0%84%EC%B2%98%EB%A6%AC.ipynb\" target=\"_parent\"><img src=\"https://colab.research.google.com/assets/colab-badge.svg\" alt=\"Open In Colab\"/></a>"
      ]
    },
    {
      "cell_type": "code",
      "metadata": {
        "colab": {
          "base_uri": "https://localhost:8080/"
        },
        "id": "2h46OZkQ9-EN",
        "outputId": "5569c246-a24f-4ae0-9607-b388df595e7f"
      },
      "source": [
        "from google.colab import drive\n",
        "drive.mount('/gdrive')"
      ],
      "execution_count": null,
      "outputs": [
        {
          "output_type": "stream",
          "text": [
            "Drive already mounted at /gdrive; to attempt to forcibly remount, call drive.mount(\"/gdrive\", force_remount=True).\n"
          ],
          "name": "stdout"
        }
      ]
    },
    {
      "cell_type": "code",
      "metadata": {
        "id": "5bGApY7MG36x"
      },
      "source": [
        "import pandas as pd\n",
        "import numpy as np\n",
        "import re\n",
        "from tqdm import tqdm"
      ],
      "execution_count": null,
      "outputs": []
    },
    {
      "cell_type": "markdown",
      "metadata": {
        "id": "3IMdUaWzDCvG"
      },
      "source": [
        "# 1.OS로 수집된 영화리뷰 알아보기"
      ]
    },
    {
      "cell_type": "markdown",
      "metadata": {
        "id": "Lzn-pNpQVltY"
      },
      "source": [
        "## 1.공유문서에 연결"
      ]
    },
    {
      "cell_type": "markdown",
      "metadata": {
        "id": "l_s3Qqe_keGJ"
      },
      "source": [
        "1차 리뷰 크롤링."
      ]
    },
    {
      "cell_type": "code",
      "metadata": {
        "id": "e3YQOfi-DrnA",
        "colab": {
          "base_uri": "https://localhost:8080/"
        },
        "outputId": "d9c4e1f8-27f7-445c-f284-74da371d1ec1"
      },
      "source": [
        "# 1차 리뷰 크롤링 min91155 계정\n",
        "import os \n",
        "os.getcwd() # 현재경로 얻기\n",
        "os.listdir() # 현재 경로에 있는 파일, 디렉토리 목록 리스트로 반환\n",
        "os.chdir('/gdrive/MyDrive/IMDB_Reviews')\n",
        "os.getcwd()\n",
        "movie_list = os.listdir()\n",
        "len(movie_list) #1차: 6101개지만 중복되는애들있음."
      ],
      "execution_count": null,
      "outputs": [
        {
          "output_type": "execute_result",
          "data": {
            "text/plain": [
              "6101"
            ]
          },
          "metadata": {
            "tags": []
          },
          "execution_count": 20
        }
      ]
    },
    {
      "cell_type": "markdown",
      "metadata": {
        "id": "xpQck6PJkgFI"
      },
      "source": [
        "2차 리뷰 크롤링. need2collect와 비교"
      ]
    },
    {
      "cell_type": "code",
      "metadata": {
        "colab": {
          "base_uri": "https://localhost:8080/",
          "height": 239
        },
        "id": "ZsLIozBkxwzv",
        "outputId": "38e855e7-1918-4645-a609-bccf10d66595"
      },
      "source": [
        "#수집된 영화리뷰의 movie_code만 추리기\n",
        "collected_movie = []\n",
        "p = re.compile('[0-9]{7,8}')\n",
        "\n",
        "for movie in movie_list:\n",
        "   m = p.match(movie)\n",
        "   collected_movie.append(m.group())\n",
        "len(collected_movie)"
      ],
      "execution_count": null,
      "outputs": [
        {
          "output_type": "error",
          "ename": "NameError",
          "evalue": "ignored",
          "traceback": [
            "\u001b[0;31m---------------------------------------------------------------------------\u001b[0m",
            "\u001b[0;31mNameError\u001b[0m                                 Traceback (most recent call last)",
            "\u001b[0;32m<ipython-input-4-4be09c53ab9e>\u001b[0m in \u001b[0;36m<module>\u001b[0;34m()\u001b[0m\n\u001b[1;32m      3\u001b[0m \u001b[0mp\u001b[0m \u001b[0;34m=\u001b[0m \u001b[0mre\u001b[0m\u001b[0;34m.\u001b[0m\u001b[0mcompile\u001b[0m\u001b[0;34m(\u001b[0m\u001b[0;34m'[0-9]{7,8}'\u001b[0m\u001b[0;34m)\u001b[0m\u001b[0;34m\u001b[0m\u001b[0;34m\u001b[0m\u001b[0m\n\u001b[1;32m      4\u001b[0m \u001b[0;34m\u001b[0m\u001b[0m\n\u001b[0;32m----> 5\u001b[0;31m \u001b[0;32mfor\u001b[0m \u001b[0mmovie\u001b[0m \u001b[0;32min\u001b[0m \u001b[0mmovie_list\u001b[0m\u001b[0;34m:\u001b[0m\u001b[0;34m\u001b[0m\u001b[0;34m\u001b[0m\u001b[0m\n\u001b[0m\u001b[1;32m      6\u001b[0m    \u001b[0mm\u001b[0m \u001b[0;34m=\u001b[0m \u001b[0mp\u001b[0m\u001b[0;34m.\u001b[0m\u001b[0mmatch\u001b[0m\u001b[0;34m(\u001b[0m\u001b[0mmovie\u001b[0m\u001b[0;34m)\u001b[0m\u001b[0;34m\u001b[0m\u001b[0;34m\u001b[0m\u001b[0m\n\u001b[1;32m      7\u001b[0m    \u001b[0mcollected_movie\u001b[0m\u001b[0;34m.\u001b[0m\u001b[0mappend\u001b[0m\u001b[0;34m(\u001b[0m\u001b[0mm\u001b[0m\u001b[0;34m.\u001b[0m\u001b[0mgroup\u001b[0m\u001b[0;34m(\u001b[0m\u001b[0;34m)\u001b[0m\u001b[0;34m)\u001b[0m\u001b[0;34m\u001b[0m\u001b[0;34m\u001b[0m\u001b[0m\n",
            "\u001b[0;31mNameError\u001b[0m: name 'movie_list' is not defined"
          ]
        }
      ]
    },
    {
      "cell_type": "code",
      "metadata": {
        "colab": {
          "base_uri": "https://localhost:8080/"
        },
        "id": "8gVbH8FzDxrr",
        "outputId": "29018974-465e-4332-a98f-44f80105573a"
      },
      "source": [
        "# 2차 리뷰 크롤링 shieldrider 계정\n",
        "import os \n",
        "os.getcwd() # 현재경로 얻기\n",
        "os.listdir() # 현재 경로에 있는 파일, 디렉토리 목록 리스트로 반환\n",
        "os.chdir('/gdrive/MyDrive/movie_predict/movie_review_0314')\n",
        "os.getcwd()\n",
        "movie_list = os.listdir()\n",
        "len(movie_list) "
      ],
      "execution_count": null,
      "outputs": [
        {
          "output_type": "execute_result",
          "data": {
            "text/plain": [
              "4867"
            ]
          },
          "metadata": {
            "tags": []
          },
          "execution_count": 5
        }
      ]
    },
    {
      "cell_type": "code",
      "metadata": {
        "id": "2lTAKR9cOpF2"
      },
      "source": [
        "# shieldrider 계정에서 수집된 collected_2 영화 피클로 빼기기 shieldrider 계정에서 수집된 collected_2 영화 피클로 빼기\n",
        "\n",
        "#movie code 뽑아내기\n",
        "collected_movie_2 = []\n",
        "p = re.compile('[0-9]{7,8}')\n",
        "\n",
        "for movie in movie_list:\n",
        "   m = p.match(movie)\n",
        "   collected_movie_2.append(m.group())\n",
        "len(collected_movie_2) \n",
        "\n",
        "# # 내 맘속에 저-장.. 이 아니고 구글드라이브에 저장.. --> 이상 무\n",
        "# import pickle\n",
        "# with open('/gdrive/MyDrive/movie_predict/collected_movie_2','wb') as fw:\n",
        "#   pickle.dump(collected_movie_2,fw)\n",
        "\n",
        "# # 저장잘 됐나 확인하는 코드 --> 이상무\n",
        "# with open('/gdrive/MyDrive/movie_predict/collected_movie_2','rb') as fr:\n",
        "#   collected_movie_2 = pickle.load(fr)\n",
        "# len(collected_movie_2)"
      ],
      "execution_count": null,
      "outputs": []
    },
    {
      "cell_type": "code",
      "metadata": {
        "id": "irgzu4JUPk0x"
      },
      "source": [
        ""
      ],
      "execution_count": null,
      "outputs": []
    },
    {
      "cell_type": "code",
      "metadata": {
        "colab": {
          "base_uri": "https://localhost:8080/"
        },
        "id": "zef8BvT1AiBc",
        "outputId": "5c3ea168-b39c-4733-9315-3bffb13df13f"
      },
      "source": [
        "#3차리뷰 크롤링 min91155계정\n",
        "\n",
        "import os \n",
        "os.getcwd() # 현재경로 얻기\n",
        "os.listdir() # 현재 경로에 있는 파일, 디렉토리 목록 리스트로 반환\n",
        "os.chdir('/gdrive/MyDrive/movie_predict/movie_reviews/reviews_0327')\n",
        "os.getcwd()\n",
        "movie_list = os.listdir()\n",
        "len(movie_list) #3차: 6101개지만 중복되는애들있음."
      ],
      "execution_count": null,
      "outputs": [
        {
          "output_type": "execute_result",
          "data": {
            "text/plain": [
              "4863"
            ]
          },
          "metadata": {
            "tags": []
          },
          "execution_count": 9
        }
      ]
    },
    {
      "cell_type": "code",
      "metadata": {
        "colab": {
          "base_uri": "https://localhost:8080/"
        },
        "id": "o2OuAJsxBNa0",
        "outputId": "6cdf970f-90ec-47e0-9acc-419b115558fa"
      },
      "source": [
        "#movie code 뽑아내기\n",
        "collected_movie = []\n",
        "p = re.compile('[0-9]{7,8}')\n",
        "\n",
        "for movie in movie_list:\n",
        "   m = p.match(movie)\n",
        "   collected_movie.append(m.group())\n",
        "len(collected_movie) "
      ],
      "execution_count": null,
      "outputs": [
        {
          "output_type": "execute_result",
          "data": {
            "text/plain": [
              "4863"
            ]
          },
          "metadata": {
            "tags": []
          },
          "execution_count": 10
        }
      ]
    },
    {
      "cell_type": "code",
      "metadata": {
        "id": "kiKquqpFToKs"
      },
      "source": [
        "# # collected_movie_3 dump\n",
        "# with open('/gdrive/MyDrive/movie_predict/movie_reviews/collected_movie_3','wb') as fw:\n",
        "#   pickle.dump(collected_movie,fw)"
      ],
      "execution_count": null,
      "outputs": []
    },
    {
      "cell_type": "markdown",
      "metadata": {
        "id": "dPAdxQRxVq_2"
      },
      "source": [
        "## 2.수집된 영화리뷰의 movie_code만 추리기"
      ]
    },
    {
      "cell_type": "code",
      "metadata": {
        "colab": {
          "base_uri": "https://localhost:8080/"
        },
        "id": "xsEcmpjiGCD_",
        "outputId": "0acccb35-c9be-4a11-de04-a527a5568d04"
      },
      "source": [
        "collected_movie = []\n",
        "p = re.compile('[0-9]{7,8}')\n",
        "\n",
        "for movie in movie_list:\n",
        "   m = p.match(movie)\n",
        "   collected_movie.append(m.group())\n",
        "len(collected_movie) "
      ],
      "execution_count": null,
      "outputs": [
        {
          "output_type": "execute_result",
          "data": {
            "text/plain": [
              "6101"
            ]
          },
          "metadata": {
            "tags": []
          },
          "execution_count": 5
        }
      ]
    },
    {
      "cell_type": "code",
      "metadata": {
        "colab": {
          "base_uri": "https://localhost:8080/"
        },
        "id": "uUZ9brC4S4MG",
        "outputId": "1b2aa464-85d3-43f6-b3df-0bb0e377b625"
      },
      "source": [
        "# # collected_1 내 맘속에 저-장.. 이 아니고 구글드라이브에 저장.. --> 이상 무\n",
        "# import pickle\n",
        "# with open('/gdrive/MyDrive/movie_predict/movie_reviews/collected_movie_1','wb') as fw:\n",
        "#   pickle.dump(collected_movie,fw)\n",
        "\n",
        "# 저장잘 됐나 확인하는 코드 --> 이상무\n",
        "with open('/gdrive/MyDrive/movie_predict/movie_reviews/collected_movie_1','rb') as fr:\n",
        "  collected_movie_1 = pickle.load(fr)\n",
        "len(collected_movie_1)\n",
        "\n"
      ],
      "execution_count": null,
      "outputs": [
        {
          "output_type": "execute_result",
          "data": {
            "text/plain": [
              "6101"
            ]
          },
          "metadata": {
            "tags": []
          },
          "execution_count": 8
        }
      ]
    },
    {
      "cell_type": "code",
      "metadata": {
        "id": "A__CLYfMGaWd"
      },
      "source": [
        "# # 정규표현식 복습\n",
        "# import re\n",
        "# p = re.compile('[a-z]+')\n",
        "# m = p.match('python')\n",
        "# m.group()\n",
        "\n",
        "# p = re.compile('[0-9]{7,8}') #movie_code는 7~8자리임.\n",
        "# m = p.match('0001101_')\n",
        "# m.group()"
      ],
      "execution_count": null,
      "outputs": []
    },
    {
      "cell_type": "code",
      "metadata": {
        "id": "dDPN-nZPT-XI"
      },
      "source": [
        "# \n",
        "collected_movie_set = set(collected_movie)\n",
        "len(collected_movie_set) #4992개 수집됨.\n",
        "collected_movie_1 = list(collected_movie_set)"
      ],
      "execution_count": null,
      "outputs": []
    },
    {
      "cell_type": "code",
      "metadata": {
        "colab": {
          "base_uri": "https://localhost:8080/"
        },
        "id": "0qeCAaFzkoeg",
        "outputId": "60a5261b-7d25-4f5e-b5e5-ec411d674764"
      },
      "source": [
        "len(collected_movie_1)"
      ],
      "execution_count": null,
      "outputs": [
        {
          "output_type": "execute_result",
          "data": {
            "text/plain": [
              "4992"
            ]
          },
          "metadata": {
            "tags": []
          },
          "execution_count": 26
        }
      ]
    },
    {
      "cell_type": "markdown",
      "metadata": {
        "id": "q0z2yMQckxzy"
      },
      "source": [
        "2차 크롤링, need2collect 비교용"
      ]
    },
    {
      "cell_type": "code",
      "metadata": {
        "colab": {
          "base_uri": "https://localhost:8080/"
        },
        "id": "I9vW4JIkk1Fk",
        "outputId": "a0dcf071-75ac-489d-8cfb-11adcabc8f9a"
      },
      "source": [
        "# need2collect 피클 열기\n",
        "import pickle\n",
        "with open (\"/gdrive/MyDrive/movie_predict/need2collect\",\"rb\") as fr:\n",
        "  need2collect = pickle.load(fr)\n",
        "len(need2collect)"
      ],
      "execution_count": null,
      "outputs": [
        {
          "output_type": "execute_result",
          "data": {
            "text/plain": [
              "4863"
            ]
          },
          "metadata": {
            "tags": []
          },
          "execution_count": 10
        }
      ]
    },
    {
      "cell_type": "code",
      "metadata": {
        "colab": {
          "base_uri": "https://localhost:8080/"
        },
        "id": "EqMEMLt2ldmb",
        "outputId": "945b7fa7-701f-4286-fdff-10064906cb5e"
      },
      "source": [
        "need2collect_0314 = []\n",
        "for movie_code in need2collect0314:\n",
        "  if movie_code in collected_movie:\n",
        "    pass\n",
        "  else: \n",
        "    need2collect_0314.append(movie_code)\n",
        "len(need2collect_0314)\n",
        "  "
      ],
      "execution_count": null,
      "outputs": [
        {
          "output_type": "execute_result",
          "data": {
            "text/plain": [
              "2930"
            ]
          },
          "metadata": {
            "tags": []
          },
          "execution_count": 11
        }
      ]
    },
    {
      "cell_type": "code",
      "metadata": {
        "id": "rvn5O80olq35"
      },
      "source": [
        "#박사님께 전달할 피클 (추가 수집해야하는 부분)\n",
        "with open ('/gdrive/MyDrive/movie_predict/need2collect_0314','wb') as fw:\n",
        "  pickle.dump(need2collect,fw)\n",
        "\n",
        "# 피클 정리\n",
        "# #읽을때 \n",
        "# with open('file directory','rb') as fr:\n",
        "#   pickle.load(fr)\n",
        "# # 쓸때\n",
        "# with open(\"file directory\", 'wb') as fw:\n",
        "#   pickle.dump(객체,fw)"
      ],
      "execution_count": null,
      "outputs": []
    },
    {
      "cell_type": "markdown",
      "metadata": {
        "id": "BBt2YzquCkiJ"
      },
      "source": [
        "3차크롤링, need2collect_0314 비교용"
      ]
    },
    {
      "cell_type": "code",
      "metadata": {
        "id": "wLDAOHET_XSs"
      },
      "source": [
        "# 3차 크롤링 \n",
        "with open ('/gdrive/MyDrive/movie_predict/movie_reviews/need2collect_0314','rb') as fr:\n",
        "  need2collect_0314 = pickle.load(fr)"
      ],
      "execution_count": null,
      "outputs": []
    },
    {
      "cell_type": "code",
      "metadata": {
        "colab": {
          "base_uri": "https://localhost:8080/"
        },
        "id": "DjI5z6rxDGKX",
        "outputId": "50011111-3e69-4d92-96fb-d5fc561a50c7"
      },
      "source": [
        "len(need2collect_0314)"
      ],
      "execution_count": null,
      "outputs": [
        {
          "output_type": "execute_result",
          "data": {
            "text/plain": [
              "4863"
            ]
          },
          "metadata": {
            "tags": []
          },
          "execution_count": 18
        }
      ]
    },
    {
      "cell_type": "code",
      "metadata": {
        "colab": {
          "base_uri": "https://localhost:8080/"
        },
        "id": "d_ADqHJWD5bO",
        "outputId": "05ccc11d-67fd-46e4-c350-78d36de6dac8"
      },
      "source": [
        "#어떤 영화를 더 수집해야 하는지? (3차)\n",
        "\n",
        "# 전체 수집해야할 코드\n",
        "import pickle\n",
        "with open('/gdrive/MyDrive/movie_predict/movie_reviews/movie_code','rb') as fr:\n",
        "  movie_code_list = pickle.load(fr)\n",
        "len(movie_code_list) # 전체 수집해야할 코드"
      ],
      "execution_count": null,
      "outputs": [
        {
          "output_type": "execute_result",
          "data": {
            "text/plain": [
              "7899"
            ]
          },
          "metadata": {
            "tags": []
          },
          "execution_count": 17
        }
      ]
    },
    {
      "cell_type": "code",
      "metadata": {
        "id": "NxB7ifS4EWRb"
      },
      "source": [
        "#이때까지 수집된 코드 리스트 \n",
        "\n",
        "#1차\n",
        "# 1차 리뷰 크롤링 min91155 계정\n",
        "# import os \n",
        "# os.getcwd() # 현재경로 얻기\n",
        "# os.listdir() # 현재 경로에 있는 파일, 디렉토리 목록 리스트로 반환\n",
        "# os.chdir('/gdrive/MyDrive/IMDB_Reviews')\n",
        "# os.getcwd()\n",
        "# movie_list = os.listdir()\n",
        "# len(movie_list) #1차: 6101개지만 중복되는애들있음.\n",
        "\n",
        "# #수집된 영화리뷰의 movie_code만 추리기\n",
        "# collected_movie_1 = []\n",
        "# p = re.compile('[0-9]{7,8}')\n",
        "\n",
        "# for movie in movie_list:\n",
        "#    m = p.match(movie)\n",
        "#    collected_movie_1.append(m.group())\n",
        "# len(collected_movie_1)\n",
        "\n",
        "with open('/gdrive/MyDrive/movie_predict/movie_reviews/collected_movie_1','rb') as fr:\n",
        "  collected_movie_1 = pickle.load(fr)\n",
        "len(collected_movie_1)\n",
        "# 2차 쉴라 계정에서 가져온거\n",
        "with open('/gdrive/MyDrive/movie_predict/movie_reviews/collected_movie_2','rb') as fr:\n",
        "  collected_movie_2 = pickle.load(fr)\n",
        "len(collected_movie_2)\n",
        "\n",
        "# 3차\n",
        "with open('/gdrive/MyDrive/movie_predict/movie_reviews/collected_movie_3','rb') as fr:\n",
        "  collected_movie_3 = pickle.load(fr)\n",
        "len(collected_movie_3)\n",
        "\n",
        "\n",
        "# 1차,2차,3차 합치기, 고유값만 추리기\n",
        "collected_movie = collected_movie_1 + collected_movie_2 + collected_movie_3\n",
        "collected_movie = set(collected_movie)\n",
        "collected_movie = list(collected_movie)\n",
        "\n",
        "len(collected_movie) # 9000몇개.. 뭔가 잘못됨."
      ],
      "execution_count": null,
      "outputs": []
    },
    {
      "cell_type": "code",
      "metadata": {
        "id": "c5MRSsuvUhFA"
      },
      "source": [
        "# 전체 영화 중 어떤 영화를 더 수집해야하는지 추리기.\n",
        "need2collect_0327 = []\n",
        "for movie_code in movie_code_list:\n",
        "  if movie_code in collected_movie:\n",
        "    pass\n",
        "  else:\n",
        "    need2collect_0327.append(movie_code)\n",
        "\n",
        "# 다 수집됨. "
      ],
      "execution_count": null,
      "outputs": []
    },
    {
      "cell_type": "code",
      "metadata": {
        "colab": {
          "base_uri": "https://localhost:8080/"
        },
        "id": "n-pcWtKwUPuh",
        "outputId": "d9181f5e-911d-4b6d-88fb-ed8313e9e87e"
      },
      "source": [
        "need2collect_0327"
      ],
      "execution_count": null,
      "outputs": [
        {
          "output_type": "execute_result",
          "data": {
            "text/plain": [
              "[]"
            ]
          },
          "metadata": {
            "tags": []
          },
          "execution_count": 19
        }
      ]
    },
    {
      "cell_type": "markdown",
      "metadata": {
        "id": "p5GA9PJpWV7Z"
      },
      "source": [
        "## 어떤 영화를 더 수집해야하는지? (1차)"
      ]
    },
    {
      "cell_type": "code",
      "metadata": {
        "id": "UCO7meSETipM"
      },
      "source": [
        "#pickle로 수집해야할 영화 가져오기\n",
        "import pickle\n",
        "with open('/gdrive/MyDrive/movie_predict/movie_reviews/movie_code','rb') as fr:\n",
        "  movie_code_list = pickle.load(fr)\n",
        "movie_code_list"
      ],
      "execution_count": null,
      "outputs": []
    },
    {
      "cell_type": "code",
      "metadata": {
        "colab": {
          "base_uri": "https://localhost:8080/"
        },
        "id": "pv3CGTjMEKhP",
        "outputId": "93325e2e-1d2f-426e-91cc-2bc054fef6e7"
      },
      "source": [
        "len(movie_code_list)"
      ],
      "execution_count": null,
      "outputs": [
        {
          "output_type": "execute_result",
          "data": {
            "text/plain": [
              "7899"
            ]
          },
          "metadata": {
            "tags": []
          },
          "execution_count": 20
        }
      ]
    },
    {
      "cell_type": "code",
      "metadata": {
        "colab": {
          "base_uri": "https://localhost:8080/"
        },
        "id": "_kjy6ugTUsiB",
        "outputId": "16cb5ab4-0e47-4957-9ebe-0d9efc68908c"
      },
      "source": [
        "need2collect = []\n",
        "for movie_code in movie_code_list:\n",
        "  if movie_code in collected_movie_1:\n",
        "    pass\n",
        "  else: \n",
        "    need2collect.append(movie_code)\n",
        "len(need2collect)\n"
      ],
      "execution_count": null,
      "outputs": [
        {
          "output_type": "execute_result",
          "data": {
            "text/plain": [
              "4863"
            ]
          },
          "metadata": {
            "tags": []
          },
          "execution_count": 7
        }
      ]
    },
    {
      "cell_type": "code",
      "metadata": {
        "id": "0RI5Tb8tbLUn"
      },
      "source": [
        "#박사님께 전달할 피클 (추가 수집해야하는 부분)\n",
        "with open ('/gdrive/MyDrive/movie_predict/movie_reviews/need2collect','wb') as fw:\n",
        "  pickle.dump(need2collect,fw)"
      ],
      "execution_count": null,
      "outputs": []
    },
    {
      "cell_type": "markdown",
      "metadata": {
        "id": "2n50uJ9sUweg"
      },
      "source": [
        "## 최종으로 쓸 영화 자료 모으기"
      ]
    },
    {
      "cell_type": "code",
      "metadata": {
        "colab": {
          "base_uri": "https://localhost:8080/"
        },
        "id": "FIfbYX4YZAxw",
        "outputId": "896764d6-b0b2-4a31-c3a8-20cb4e43f0fb"
      },
      "source": [
        ""
      ],
      "execution_count": null,
      "outputs": [
        {
          "output_type": "stream",
          "text": [
            "/gdrive/MyDrive/IMDB_Reviews/\n",
            "/gdrive/MyDrive/movie_predict/movie_reviews/all_the_movie_reviews/movie_review_0324/\n",
            "/gdrive/MyDrive/movie_predict/movie_reviews/reviews_0327/\n"
          ],
          "name": "stdout"
        }
      ]
    },
    {
      "cell_type": "markdown",
      "metadata": {
        "id": "zvNXqv49cakt"
      },
      "source": [
        "# =========완료==========="
      ]
    },
    {
      "cell_type": "markdown",
      "metadata": {
        "id": "45E46mCtpQCE"
      },
      "source": [
        "# 2.영화 리뷰 전처리"
      ]
    },
    {
      "cell_type": "markdown",
      "metadata": {
        "id": "PPAoQeJNgNjv"
      },
      "source": [
        "0) 코랩에 연결 "
      ]
    },
    {
      "cell_type": "code",
      "metadata": {
        "id": "XEdc6MXpgLa1"
      },
      "source": [
        "# 한 경로로 리뷰 파일 모으기. 1차,0314(2차),0327(3차) 모두 모임.\n",
        "\n",
        "\n",
        "# !unzip -qq \"path/bbb.zip\" 하면 경로에있는 파일 압축 풀림. 근데 가끔 소실되는 경우도 있다함.. 안쓸랭\n",
        "\n"
      ],
      "execution_count": null,
      "outputs": []
    },
    {
      "cell_type": "markdown",
      "metadata": {
        "id": "a4ZSN8_JEgld"
      },
      "source": [
        "1) 주차에 따른 리뷰 개수, 별점, movie_code으로 df구성."
      ]
    },
    {
      "cell_type": "code",
      "metadata": {
        "colab": {
          "base_uri": "https://localhost:8080/",
          "height": 555
        },
        "id": "eQWfd0z9OYL7",
        "outputId": "8742ee8b-694e-4648-9027-03cb81d6efaa"
      },
      "source": [
        "# 전처리 각 보기\n",
        "movie_review = pd.read_excel('/gdrive/MyDrive/IMDB_Reviews/0017136_review_result.xlsx',index_col= 0) #,error_bad_lines= False\n",
        "movie_review\n"
      ],
      "execution_count": null,
      "outputs": [
        {
          "output_type": "execute_result",
          "data": {
            "text/html": [
              "<div>\n",
              "<style scoped>\n",
              "    .dataframe tbody tr th:only-of-type {\n",
              "        vertical-align: middle;\n",
              "    }\n",
              "\n",
              "    .dataframe tbody tr th {\n",
              "        vertical-align: top;\n",
              "    }\n",
              "\n",
              "    .dataframe thead th {\n",
              "        text-align: right;\n",
              "    }\n",
              "</style>\n",
              "<table border=\"1\" class=\"dataframe\">\n",
              "  <thead>\n",
              "    <tr style=\"text-align: right;\">\n",
              "      <th></th>\n",
              "      <th>header</th>\n",
              "      <th>date</th>\n",
              "      <th>contents</th>\n",
              "      <th>star</th>\n",
              "      <th>helpful</th>\n",
              "    </tr>\n",
              "  </thead>\n",
              "  <tbody>\n",
              "    <tr>\n",
              "      <th>0</th>\n",
              "      <td>Watch the Kino DVD!\\n</td>\n",
              "      <td>25 April 2005</td>\n",
              "      <td>Technically speaking, I have seen this Fritz L...</td>\n",
              "      <td>['9/10']</td>\n",
              "      <td>['160 out of 182']</td>\n",
              "    </tr>\n",
              "    <tr>\n",
              "      <th>1</th>\n",
              "      <td>Restored Kino DVD changed my view of this fil...</td>\n",
              "      <td>13 March 2004</td>\n",
              "      <td>I doubt that I'd ever seen anything resembling...</td>\n",
              "      <td>['10/10']</td>\n",
              "      <td>['175 out of 203']</td>\n",
              "    </tr>\n",
              "    <tr>\n",
              "      <th>2</th>\n",
              "      <td>Highly influential and, dare I say, prophetic?\\n</td>\n",
              "      <td>3 December 2004</td>\n",
              "      <td>Fritz Lang's Metropolis is the first true mast...</td>\n",
              "      <td>['8/10']</td>\n",
              "      <td>['207 out of 244']</td>\n",
              "    </tr>\n",
              "    <tr>\n",
              "      <th>3</th>\n",
              "      <td>Early science fiction story that presents a p...</td>\n",
              "      <td>16 February 2001</td>\n",
              "      <td>Who ever heard of an epic science fiction film...</td>\n",
              "      <td>['10/10']</td>\n",
              "      <td>['147 out of 173']</td>\n",
              "    </tr>\n",
              "    <tr>\n",
              "      <th>4</th>\n",
              "      <td>Movie Milestone and Masterpiece!\\n</td>\n",
              "      <td>1 February 2000</td>\n",
              "      <td>Metropolis is surely one of the greatest films...</td>\n",
              "      <td>[]</td>\n",
              "      <td>['104 out of 123']</td>\n",
              "    </tr>\n",
              "    <tr>\n",
              "      <th>...</th>\n",
              "      <td>...</td>\n",
              "      <td>...</td>\n",
              "      <td>...</td>\n",
              "      <td>...</td>\n",
              "      <td>...</td>\n",
              "    </tr>\n",
              "    <tr>\n",
              "      <th>374</th>\n",
              "      <td>Govt 490\\n</td>\n",
              "      <td>24 May 2007</td>\n",
              "      <td>This roaring 20's, silent, first sci-fi movie,...</td>\n",
              "      <td>[]</td>\n",
              "      <td>['0 out of 1']</td>\n",
              "    </tr>\n",
              "    <tr>\n",
              "      <th>375</th>\n",
              "      <td>Beyond Belief\\n</td>\n",
              "      <td>3 February 2003</td>\n",
              "      <td>This film was of such aesthetic genius (scener...</td>\n",
              "      <td>[]</td>\n",
              "      <td>['0 out of 2']</td>\n",
              "    </tr>\n",
              "    <tr>\n",
              "      <th>376</th>\n",
              "      <td>interesting view of future, but...\\n</td>\n",
              "      <td>8 December 2002</td>\n",
              "      <td>This film is a classic of science fiction as t...</td>\n",
              "      <td>[]</td>\n",
              "      <td>['0 out of 2']</td>\n",
              "    </tr>\n",
              "    <tr>\n",
              "      <th>377</th>\n",
              "      <td>Which one indeed\\n</td>\n",
              "      <td>7 December 2002</td>\n",
              "      <td>Everytime I see Metropolis, I'm seeing it for ...</td>\n",
              "      <td>[]</td>\n",
              "      <td>['0 out of 2']</td>\n",
              "    </tr>\n",
              "    <tr>\n",
              "      <th>378</th>\n",
              "      <td>New DVD due out in October 2002\\n</td>\n",
              "      <td>16 April 2002</td>\n",
              "      <td>I remember seeing this movie back in my teens ...</td>\n",
              "      <td>[]</td>\n",
              "      <td>['0 out of 2']</td>\n",
              "    </tr>\n",
              "  </tbody>\n",
              "</table>\n",
              "<p>379 rows × 5 columns</p>\n",
              "</div>"
            ],
            "text/plain": [
              "                                                header  ...             helpful\n",
              "0                                Watch the Kino DVD!\\n  ...  ['160 out of 182']\n",
              "1     Restored Kino DVD changed my view of this fil...  ...  ['175 out of 203']\n",
              "2     Highly influential and, dare I say, prophetic?\\n  ...  ['207 out of 244']\n",
              "3     Early science fiction story that presents a p...  ...  ['147 out of 173']\n",
              "4                   Movie Milestone and Masterpiece!\\n  ...  ['104 out of 123']\n",
              "..                                                 ...  ...                 ...\n",
              "374                                         Govt 490\\n  ...      ['0 out of 1']\n",
              "375                                    Beyond Belief\\n  ...      ['0 out of 2']\n",
              "376               interesting view of future, but...\\n  ...      ['0 out of 2']\n",
              "377                                 Which one indeed\\n  ...      ['0 out of 2']\n",
              "378                  New DVD due out in October 2002\\n  ...      ['0 out of 2']\n",
              "\n",
              "[379 rows x 5 columns]"
            ]
          },
          "metadata": {
            "tags": []
          },
          "execution_count": 8
        }
      ]
    },
    {
      "cell_type": "markdown",
      "metadata": {
        "id": "8HFnh5QrPsq9"
      },
      "source": [
        "## 1) date"
      ]
    },
    {
      "cell_type": "markdown",
      "metadata": {
        "id": "4OKNG-zll_hI"
      },
      "source": [
        "여기 하다가 맘. date"
      ]
    },
    {
      "cell_type": "code",
      "metadata": {
        "colab": {
          "base_uri": "https://localhost:8080/"
        },
        "id": "GGmZuAVMXDgA",
        "outputId": "72d45e4b-e0cf-45f7-f70c-bcfe270d6fe0"
      },
      "source": [
        "#박사님이 수집해주신 리뷰의 모든 경로:\n",
        "\n",
        "# 1차 수집\n",
        "path1 = '/gdrive/MyDrive/IMDB_Reviews/'\n",
        "# 2차 수집 HY메일 출신\n",
        "path2 = '/gdrive/MyDrive/movie_predict/movie_reviews/all_the_movie_reviews/movie_review_0324/' # 박사님께 받으면 진행.\n",
        "# 3차 수집\n",
        "path3 = '/gdrive/MyDrive/movie_predict/movie_reviews/reviews_0327/'\n",
        "paths = [path1, path2, path3]\n",
        "\n",
        "# 모든 path에서 리뷰 찾기.\n",
        "for path in paths:\n",
        "  print(path)"
      ],
      "execution_count": null,
      "outputs": [
        {
          "output_type": "stream",
          "text": [
            "/gdrive/MyDrive/IMDB_Reviews/\n",
            "/gdrive/MyDrive/movie_predict/movie_reviews/all_the_movie_reviews/movie_review_0324/\n",
            "/gdrive/MyDrive/movie_predict/movie_reviews/reviews_0327/\n"
          ],
          "name": "stdout"
        }
      ]
    },
    {
      "cell_type": "code",
      "metadata": {
        "colab": {
          "base_uri": "https://localhost:8080/"
        },
        "id": "UD2b45y3O_JN",
        "outputId": "dc28e9ac-6950-427b-c010-cf006b4995e2"
      },
      "source": [
        "# df_released_date과도 연결해야겠다. \n",
        "df = pd.read_csv(\"/gdrive/MyDrive/movie_predict/preprocessed_df/preprocessed_df_with_moviecode.csv\",index_col = 0)\n",
        "df\n",
        "\n",
        "#Released_date, movie_code만 추려내기\n",
        "df['Movie_code'] = df['Movie_code'].apply(lambda x: x[2:])\n",
        "released_date_code = df[['Released_date',\t'Movie_code']]\n",
        "released_date_code['Released_date']"
      ],
      "execution_count": null,
      "outputs": [
        {
          "output_type": "execute_result",
          "data": {
            "text/plain": [
              "0         12 January 2000\n",
              "1         14 January 2000\n",
              "2            3 March 2000\n",
              "3         21 January 2000\n",
              "4         28 January 2000\n",
              "              ...        \n",
              "7894     27 December 2017\n",
              "7895     29 December 2017\n",
              "7896     29 December 2017\n",
              "7897     10 November 2017\n",
              "7898    29 September 2017\n",
              "Name: Released_date, Length: 7899, dtype: object"
            ]
          },
          "metadata": {
            "tags": []
          },
          "execution_count": 4
        }
      ]
    },
    {
      "cell_type": "code",
      "metadata": {
        "colab": {
          "base_uri": "https://localhost:8080/",
          "height": 930
        },
        "id": "42xbkywPkqF5",
        "outputId": "7362c4c8-a445-4406-cc06-a86f8139ba1d"
      },
      "source": [
        "# date더하는법\n",
        "from datetime import datetime, timedelta\n",
        "\n",
        "#df에서 가져온 released_date_code. \n",
        "\n",
        "#datetime으로 type바꾸기.\n",
        "released_date_code['Released_date'] = pd.to_datetime(released_date_code['Released_date'])\n",
        "released_date_code\n",
        "\n",
        "# n주차 표시\n",
        "released_date_code['1_week_later'] = released_date_code['Released_date'] + pd.DateOffset(weeks=1)\n",
        "released_date_code['2_weeks_later'] = released_date_code['Released_date'] + pd.DateOffset(weeks=2)\n",
        "released_date_code['3_weeks_later'] = released_date_code['Released_date'] + pd.DateOffset(weeks=3)\n",
        "released_date_code['4_weeks_later'] = released_date_code['Released_date'] + pd.DateOffset(weeks=4)\n",
        "released_date_code\n",
        "\n",
        "\n",
        "# released_date_code['Released_date'][0] + pd.DateOffset(weeks=1)"
      ],
      "execution_count": null,
      "outputs": [
        {
          "output_type": "stream",
          "text": [
            "/usr/local/lib/python3.7/dist-packages/ipykernel_launcher.py:7: SettingWithCopyWarning: \n",
            "A value is trying to be set on a copy of a slice from a DataFrame.\n",
            "Try using .loc[row_indexer,col_indexer] = value instead\n",
            "\n",
            "See the caveats in the documentation: https://pandas.pydata.org/pandas-docs/stable/user_guide/indexing.html#returning-a-view-versus-a-copy\n",
            "  import sys\n",
            "/usr/local/lib/python3.7/dist-packages/ipykernel_launcher.py:11: SettingWithCopyWarning: \n",
            "A value is trying to be set on a copy of a slice from a DataFrame.\n",
            "Try using .loc[row_indexer,col_indexer] = value instead\n",
            "\n",
            "See the caveats in the documentation: https://pandas.pydata.org/pandas-docs/stable/user_guide/indexing.html#returning-a-view-versus-a-copy\n",
            "  # This is added back by InteractiveShellApp.init_path()\n",
            "/usr/local/lib/python3.7/dist-packages/ipykernel_launcher.py:12: SettingWithCopyWarning: \n",
            "A value is trying to be set on a copy of a slice from a DataFrame.\n",
            "Try using .loc[row_indexer,col_indexer] = value instead\n",
            "\n",
            "See the caveats in the documentation: https://pandas.pydata.org/pandas-docs/stable/user_guide/indexing.html#returning-a-view-versus-a-copy\n",
            "  if sys.path[0] == '':\n",
            "/usr/local/lib/python3.7/dist-packages/ipykernel_launcher.py:13: SettingWithCopyWarning: \n",
            "A value is trying to be set on a copy of a slice from a DataFrame.\n",
            "Try using .loc[row_indexer,col_indexer] = value instead\n",
            "\n",
            "See the caveats in the documentation: https://pandas.pydata.org/pandas-docs/stable/user_guide/indexing.html#returning-a-view-versus-a-copy\n",
            "  del sys.path[0]\n",
            "/usr/local/lib/python3.7/dist-packages/ipykernel_launcher.py:14: SettingWithCopyWarning: \n",
            "A value is trying to be set on a copy of a slice from a DataFrame.\n",
            "Try using .loc[row_indexer,col_indexer] = value instead\n",
            "\n",
            "See the caveats in the documentation: https://pandas.pydata.org/pandas-docs/stable/user_guide/indexing.html#returning-a-view-versus-a-copy\n",
            "  \n"
          ],
          "name": "stderr"
        },
        {
          "output_type": "execute_result",
          "data": {
            "text/html": [
              "<div>\n",
              "<style scoped>\n",
              "    .dataframe tbody tr th:only-of-type {\n",
              "        vertical-align: middle;\n",
              "    }\n",
              "\n",
              "    .dataframe tbody tr th {\n",
              "        vertical-align: top;\n",
              "    }\n",
              "\n",
              "    .dataframe thead th {\n",
              "        text-align: right;\n",
              "    }\n",
              "</style>\n",
              "<table border=\"1\" class=\"dataframe\">\n",
              "  <thead>\n",
              "    <tr style=\"text-align: right;\">\n",
              "      <th></th>\n",
              "      <th>Released_date</th>\n",
              "      <th>Movie_code</th>\n",
              "      <th>1_week_later</th>\n",
              "      <th>2_weeks_later</th>\n",
              "      <th>3_weeks_later</th>\n",
              "      <th>4_weeks_later</th>\n",
              "    </tr>\n",
              "  </thead>\n",
              "  <tbody>\n",
              "    <tr>\n",
              "      <th>0</th>\n",
              "      <td>2000-01-12</td>\n",
              "      <td>0195945</td>\n",
              "      <td>2000-01-19</td>\n",
              "      <td>2000-01-26</td>\n",
              "      <td>2000-02-02</td>\n",
              "      <td>2000-02-09</td>\n",
              "    </tr>\n",
              "    <tr>\n",
              "      <th>1</th>\n",
              "      <td>2000-01-14</td>\n",
              "      <td>0134983</td>\n",
              "      <td>2000-01-21</td>\n",
              "      <td>2000-01-28</td>\n",
              "      <td>2000-02-04</td>\n",
              "      <td>2000-02-11</td>\n",
              "    </tr>\n",
              "    <tr>\n",
              "      <th>2</th>\n",
              "      <td>2000-03-03</td>\n",
              "      <td>0156812</td>\n",
              "      <td>2000-03-10</td>\n",
              "      <td>2000-03-17</td>\n",
              "      <td>2000-03-24</td>\n",
              "      <td>2000-03-31</td>\n",
              "    </tr>\n",
              "    <tr>\n",
              "      <th>3</th>\n",
              "      <td>2000-01-21</td>\n",
              "      <td>0186975</td>\n",
              "      <td>2000-01-28</td>\n",
              "      <td>2000-02-04</td>\n",
              "      <td>2000-02-11</td>\n",
              "      <td>2000-02-18</td>\n",
              "    </tr>\n",
              "    <tr>\n",
              "      <th>4</th>\n",
              "      <td>2000-01-28</td>\n",
              "      <td>0141399</td>\n",
              "      <td>2000-02-04</td>\n",
              "      <td>2000-02-11</td>\n",
              "      <td>2000-02-18</td>\n",
              "      <td>2000-02-25</td>\n",
              "    </tr>\n",
              "    <tr>\n",
              "      <th>...</th>\n",
              "      <td>...</td>\n",
              "      <td>...</td>\n",
              "      <td>...</td>\n",
              "      <td>...</td>\n",
              "      <td>...</td>\n",
              "      <td>...</td>\n",
              "    </tr>\n",
              "    <tr>\n",
              "      <th>7894</th>\n",
              "      <td>2017-12-27</td>\n",
              "      <td>5723272</td>\n",
              "      <td>2018-01-03</td>\n",
              "      <td>2018-01-10</td>\n",
              "      <td>2018-01-17</td>\n",
              "      <td>2018-01-24</td>\n",
              "    </tr>\n",
              "    <tr>\n",
              "      <th>7895</th>\n",
              "      <td>2017-12-29</td>\n",
              "      <td>7830888</td>\n",
              "      <td>2018-01-05</td>\n",
              "      <td>2018-01-12</td>\n",
              "      <td>2018-01-19</td>\n",
              "      <td>2018-01-26</td>\n",
              "    </tr>\n",
              "    <tr>\n",
              "      <th>7896</th>\n",
              "      <td>2017-12-29</td>\n",
              "      <td>5711148</td>\n",
              "      <td>2018-01-05</td>\n",
              "      <td>2018-01-12</td>\n",
              "      <td>2018-01-19</td>\n",
              "      <td>2018-01-26</td>\n",
              "    </tr>\n",
              "    <tr>\n",
              "      <th>7897</th>\n",
              "      <td>2017-11-10</td>\n",
              "      <td>5974388</td>\n",
              "      <td>2017-11-17</td>\n",
              "      <td>2017-11-24</td>\n",
              "      <td>2017-12-01</td>\n",
              "      <td>2017-12-08</td>\n",
              "    </tr>\n",
              "    <tr>\n",
              "      <th>7898</th>\n",
              "      <td>2017-09-29</td>\n",
              "      <td>3630918</td>\n",
              "      <td>2017-10-06</td>\n",
              "      <td>2017-10-13</td>\n",
              "      <td>2017-10-20</td>\n",
              "      <td>2017-10-27</td>\n",
              "    </tr>\n",
              "  </tbody>\n",
              "</table>\n",
              "<p>7899 rows × 6 columns</p>\n",
              "</div>"
            ],
            "text/plain": [
              "     Released_date Movie_code  ... 3_weeks_later 4_weeks_later\n",
              "0       2000-01-12    0195945  ...    2000-02-02    2000-02-09\n",
              "1       2000-01-14    0134983  ...    2000-02-04    2000-02-11\n",
              "2       2000-03-03    0156812  ...    2000-03-24    2000-03-31\n",
              "3       2000-01-21    0186975  ...    2000-02-11    2000-02-18\n",
              "4       2000-01-28    0141399  ...    2000-02-18    2000-02-25\n",
              "...            ...        ...  ...           ...           ...\n",
              "7894    2017-12-27    5723272  ...    2018-01-17    2018-01-24\n",
              "7895    2017-12-29    7830888  ...    2018-01-19    2018-01-26\n",
              "7896    2017-12-29    5711148  ...    2018-01-19    2018-01-26\n",
              "7897    2017-11-10    5974388  ...    2017-12-01    2017-12-08\n",
              "7898    2017-09-29    3630918  ...    2017-10-20    2017-10-27\n",
              "\n",
              "[7899 rows x 6 columns]"
            ]
          },
          "metadata": {
            "tags": []
          },
          "execution_count": 5
        }
      ]
    },
    {
      "cell_type": "markdown",
      "metadata": {
        "id": "jpOgG2IDxKeS"
      },
      "source": [
        "### date,주차별 댓글 and 별점, movie_code df 만들기"
      ]
    },
    {
      "cell_type": "code",
      "metadata": {
        "id": "-4RyL0F8xKlr"
      },
      "source": [
        "released_date_code\n",
        "movie_codes = df['Movie_code'].tolist()"
      ],
      "execution_count": null,
      "outputs": []
    },
    {
      "cell_type": "code",
      "metadata": {
        "colab": {
          "base_uri": "https://localhost:8080/"
        },
        "id": "yfUnb1tPWMAG",
        "outputId": "5ff2c2ad-caa7-4da7-9569-dbec7018ed29"
      },
      "source": [
        "movie_codes[:10]"
      ],
      "execution_count": null,
      "outputs": [
        {
          "output_type": "execute_result",
          "data": {
            "text/plain": [
              "['0195945',\n",
              " '0134983',\n",
              " '0156812',\n",
              " '0186975',\n",
              " '0141399',\n",
              " '0134084',\n",
              " '0171356',\n",
              " '0143344',\n",
              " '0220099',\n",
              " '0184907']"
            ]
          },
          "metadata": {
            "tags": []
          },
          "execution_count": 7
        }
      ]
    },
    {
      "cell_type": "markdown",
      "metadata": {
        "id": "xfNw5ETxaPqo"
      },
      "source": [
        "## [1] 4주차까지만 포함 review concat안됨"
      ]
    },
    {
      "cell_type": "code",
      "metadata": {
        "colab": {
          "base_uri": "https://localhost:8080/"
        },
        "id": "YHTv3BLt7oGV",
        "outputId": "0ab68969-3e26-4903-b00c-92f617315e4a"
      },
      "source": [
        "# # df에 주차별 별점 + 리뷰수 채운거. 리뷰 concat은 뺌\n",
        "# # 4주차도 포함함.\n",
        "\n",
        "# from tqdm import tqdm\n",
        "\n",
        "# #movie_review 읽어서 개봉 후 몇주인지 표기. #지금은 collected로 되어있음. 원래코드는 바로 아래.\n",
        "# # 전체 영화리뷰읽고 몇주인지 표시한거 아래코드. **************실제로 쓸 코드.\n",
        "# # movie_code_list = released_date_code['Movie_code'].tolist()\n",
        "# # for movie_code in movie_code_list: \n",
        "# #   pd.read_excel('/gdrive/MyDrive/IMDB_Reviews/'+ movie_code +'_review_result.xlsx')\n",
        "# #   그리고 쭉쭉 코드 쓰셈\n",
        "\n",
        "# #df 주차별 별점 초기화\n",
        "# df['star_bf_released'] = 0\n",
        "# df['star_in_1week'] = 0\n",
        "# df['star_in_2weeks'] = 0\n",
        "# df['star_in_3weeks'] = 0\n",
        "# df['star_in_4weeks'] = 0\n",
        "# df['after 4 weeks'] = 0\n",
        "\n",
        "# # 불러오지 못한 리뷰의 movie_code \n",
        "# reading_error = []\n",
        "\n",
        "# for movie_code in tqdm(movie_codes[:2]): # 여기를 바꾸기. 필요한 movie_만 읽게 / collected movie 말고 df에서 뽑아오자. 바꿈.\n",
        "#   #해당 Moviecode에 맞는 리뷰 불러오기\n",
        "#   try: # path1\n",
        "#     review =  pd.read_excel(path1 + movie_code +'_review_result.xlsx',index_col = 0) # 영화리뷰 파일 읽기1\n",
        "#   except: #FileNotFoundError:활용가능 \n",
        "#     try:\n",
        "#       review =  pd.read_excel(path2 + movie_code +'_review_result.xlsx',index_col = 0) # 영화리뷰 파일 읽기2\n",
        "#     except FileNotFoundError:\n",
        "#       try:\n",
        "#         review =  pd.read_excel(path3 + movie_code +'_review_result.xlsx',index_col = 0) # 영화리뷰 파일 읽기3\n",
        "#       except FileNotFoundError: # 그냥 except만 쓰면 위 에러가 아닐때 동작하는 코드..\n",
        "#         reading_error.append(movie_code)\n",
        "#         print(f'{movie_code}파일 존재하지 않음')\n",
        "#         continue\n",
        "  \n",
        "#   # 불러온 리뷰 데이터 데이터 형식 변환\n",
        "#   review['date'] = pd.to_datetime(review['date']) # 리뷰 파일 형식 변환\n",
        "#   released_date = released_date_code[released_date_code['Movie_code'] == movie_code][['Released_date','1_week_later','2_weeks_later','3_weeks_later','4_weeks_later']] # 리뷰의 작성 시점에대한 컬럼 가져오기\n",
        "#   review['released_date'] = released_date['Released_date'].reset_index(drop = True) # review에 released_date 옮기기\n",
        "#   try:\n",
        "#     review['released_date'] = review['released_date'].iloc[0] # 행 복사 #리뷰가 없는 경우 예외처리. 완료.\n",
        "#   except:\n",
        "#     continue\n",
        "#   review['1_week_later'] = review['released_date'] + pd.DateOffset(weeks=1) \n",
        "#   review['2_weeks_later'] = review['released_date'] + pd.DateOffset(weeks=2) \n",
        "#   review['3_weeks_later'] = review['released_date'] + pd.DateOffset(weeks=3) \n",
        "#   review['4_weeks_later'] = review['released_date'] + pd.DateOffset(weeks=4)\n",
        "#   # df에 주차별 댓글 개수 넣기 \n",
        "  \n",
        "\n",
        "#   #review가 개봉 +-몇주 전후인지 파악 \n",
        "#   def past_n_weeks(date):\n",
        "#     if date <= review['released_date'].iloc[0]:\n",
        "#       return 0\n",
        "#     elif date <= review['1_week_later'].iloc[0]:\n",
        "#       return 1\n",
        "#     elif date <= review['2_weeks_later'].iloc[0]:\n",
        "#       return 2\n",
        "#     elif date <= review['3_weeks_later'].iloc[0]:\n",
        "#       return 3\n",
        "#     elif date <= review['4_weeks_later'].iloc[0]:\n",
        "#       return 4\n",
        "#     else:\n",
        "#       return 'after 4 weeks'\n",
        "\n",
        "#   review['in_n_weeks'] = review['date'].apply(lambda x : past_n_weeks(x))\n",
        "#   #review\n",
        "#   val_counts = review['in_n_weeks'].value_counts() #개봉 후 몇주차 댓글인지 세기\n",
        "#   # val_counts.loc[0] #개봉전\n",
        "#   # val_counts.loc[1] #1주안 댓글 수\n",
        "#   # val_counts.loc[2] \n",
        "#   # val_counts.loc[3]\n",
        "#   # val_counts.loc['after 3 weeks']\n",
        "#   ind = df[df['Movie_code'] == movie_code].index # 해당 movie_code행, 영화. \n",
        "#   try:\n",
        "#     df.loc[ind,'rv_df_released_date'] = val_counts.loc[0]\n",
        "#   except:\n",
        "#     df.loc[ind,'rv_df_released_date'] = 0\n",
        "#   try:\n",
        "#     df.loc[ind,'rv_in_1_week'] = val_counts.loc[1]\n",
        "#   except:\n",
        "#     df.loc[ind,'rv_in_1_week'] = 0\n",
        "#   try:\n",
        "#     df.loc[ind,'rv_in_2_weeks'] = val_counts.loc[2]\n",
        "#   except:\n",
        "#     df.loc[ind,'rv_in_2_weeks'] = 0\n",
        "#   try:\n",
        "#     df.loc[ind,'rv_in_3_weeks'] = val_counts.loc[3]\n",
        "#   except:\n",
        "#     df.loc[ind,'rv_in_3_weeks'] = 0 \n",
        "#   try:\n",
        "#     df.loc[ind,'rv_in_4_weeks'] = val_counts.loc[4]\n",
        "#   except:\n",
        "#     df.loc[ind,'rv_in_4_weeks'] = 0 \n",
        "#   try:\n",
        "#     df.loc[ind,'rv_after 4 weeks'] = val_counts.loc['after 4 weeks']\n",
        "#   except:\n",
        "#     df.loc[ind,'rv_after 4 weeks'] = 0\n",
        "#   # 리뷰 완료. \n",
        "  \n",
        "#   # 리뷰의 별점 데이터 --> 주차별 누적 추가본. \n",
        "#   # star 전처리\n",
        "#   def to_float(word):\n",
        "#     import re\n",
        "#     p = re.compile(\"([0-9]*)\\/([0-9]*)\")\n",
        "#     try:    \n",
        "#       s = p.search(word)\n",
        "#       star = int(s.group(1))/int(s.group(2))\n",
        "#       return star\n",
        "#     except:\n",
        "#       star = np.NaN # 기본.\n",
        "#       star = 0 # 별점 합산용\n",
        "#       return star\n",
        "      \n",
        "#   review['star'] = review['star'].apply(lambda x: to_float(x))\n",
        "#   # 주차별 별점은 확보. df로 옮기면 됨. key값은?  movie_code. 결국 for 문안에서 해결해야할듯.\n",
        "#   # review[['star','in_n_weeks']]\n",
        "\n",
        "\n",
        "\n",
        "#   # g = review['star'].groupby(review['in_n_weeks'])\n",
        "#   # star_means = g.mean()\n",
        "#   # df.loc[ind,'rv_released_date'] = val_counts.loc[0]\n",
        "\n",
        "#   # 주차 나누기 (bool)\n",
        "#   is_week_0 = review['in_n_weeks'] == 0\n",
        "#   is_week_1 = review['in_n_weeks'] == 1\n",
        "#   is_week_2 = review['in_n_weeks'] == 2\n",
        "#   is_week_3 = review['in_n_weeks'] == 3\n",
        "#   is_week_3 = review['in_n_weeks'] == 4\n",
        "#   is_week_af4 = review['in_n_weeks'] == 'after 4 weeks'\n",
        "#   # 주차별 누적 별점 표기 is_week_0 = review['in_n_weeks'] == 0\n",
        "\n",
        "#   # 개봉전 별점\n",
        "#   try:\n",
        "#     df.loc[ind,'star_bf_released'] = np.round(review['star'][(is_week_0)].mean(),4)\n",
        "#   except:\n",
        "#     df.loc[ind,'star_bf_released'] = np.nan\n",
        "#   # 개봉 1주차 별점\n",
        "#   try:\n",
        "#     df.loc[ind,'star_in_1week'] = np.round(review['star'][(is_week_0) | (is_week_1)].mean(),4)\n",
        "#   except:\n",
        "#     df.loc[ind,'star_in_1week'] = np.nan\n",
        "#   #개봉 2주차\n",
        "#   try:\n",
        "#     df.loc[ind,'star_in_2weeks']  = np.round(review['star'][(is_week_0) | (is_week_1) | (is_week_2)].mean(),4)\n",
        "#   except:\n",
        "#     df.loc[ind,'star_in_2weeks'] = np.nan\n",
        "#   #개봉3주차\n",
        "#   try:\n",
        "#     df.loc[ind,'star_in_3weeks']  = np.round(review['star'][(is_week_0) | (is_week_1) | (is_week_2) | (is_week_3)].mean(),4)\n",
        "#   except:\n",
        "#     df.loc[ind,'star_in_3weeks'] = np.nan\n",
        "#   try:\n",
        "#     df.loc[ind,'star_in_4weeks']  = np.round(review['star'][(is_week_0) | (is_week_1) | (is_week_2) | (is_week_3) | (is_week_4) ].mean(),4)\n",
        "#   except:\n",
        "#     df.loc[ind,'star_in_4weeks'] = np.nan\n",
        "#   try:\n",
        "#     df.loc[ind,'after 4 weeks'] = np.round(review['star'][(is_week_0) | (is_week_1) | (is_week_2) | (is_week_3) | (is_week_4) | (is_week_af4)].mean(),4)\n",
        "#   except:\n",
        "#     df.loc[ind,'after 4 weeks'] = np.nan\n",
        "\n",
        "#   # 1.뭔가 오류있음 해시태그위에 ******************************이 부분 해결하셈 v\n",
        "#   # 2.반복문 돌때마다 갱신되는 오류 --> df에 그때그때 기록 남기면됨\n",
        "# df # NaN이라고 나오는 애들은 아직 수집안된애들.\n",
        "\n",
        "\n",
        "# # 리뷰 수, 별점 추가한 df 저장.\n",
        "# import pickle\n",
        "# with open('/gdrive/MyDrive/movie_predict/df_with_reviewnum_and_star_week4','wb') as fw:\n",
        "#   pickle.dump(df,fw)\n",
        "\n"
      ],
      "execution_count": null,
      "outputs": [
        {
          "output_type": "stream",
          "text": [
            "\n",
            "  0%|          | 0/2 [00:00<?, ?it/s]\u001b[A\n",
            " 50%|█████     | 1/2 [00:00<00:00,  2.98it/s]\u001b[A\n",
            "100%|██████████| 2/2 [00:00<00:00,  2.85it/s]\n"
          ],
          "name": "stderr"
        }
      ]
    },
    {
      "cell_type": "code",
      "metadata": {
        "colab": {
          "base_uri": "https://localhost:8080/",
          "height": 239
        },
        "id": "5pPTyzNO_S53",
        "outputId": "775b02e2-54ae-4df6-a726-ed7b590b346a"
      },
      "source": [
        "# 별점 누적 어떻게함? 코드\n",
        "star_val_counts = review['in_n_weeks'].value_counts()\n",
        "\n",
        "# 주차 나누기 (bool)\n",
        "is_week_0 = review['in_n_weeks'] == 0\n",
        "is_week_1 = review['in_n_weeks'] == 1\n",
        "is_week_2 = review['in_n_weeks'] == 2\n",
        "is_week_3 = review['in_n_weeks'] == 3\n",
        "is_week_af3 = review['in_n_weeks'] == 'after 3 weeks'\n",
        "\n",
        "\n",
        "#0 주차\n",
        "np.round(review['star'][(is_week_0)].mean(),4)\n",
        "# 0,1 주차 누적\n",
        "np.round(review['star'][(is_week_0) | (is_week_1)].mean(),4)\n",
        "\n",
        "#~2주차 누적\n",
        "np.round(review['star'][(is_week_0) | (is_week_1) | (is_week_2)].mean(),4)\n",
        "# 3주차 누적\n",
        "np.round(review['star'][(is_week_0) | (is_week_1) | (is_week_2) | (is_week_3)].mean(),4)\n",
        "# 3주차 up\n",
        "np.round(review['star'][(is_week_0) | (is_week_1) | (is_week_2) | (is_week_3) | (is_week_af3)].mean(),4)"
      ],
      "execution_count": null,
      "outputs": [
        {
          "output_type": "error",
          "ename": "NameError",
          "evalue": "ignored",
          "traceback": [
            "\u001b[0;31m---------------------------------------------------------------------------\u001b[0m",
            "\u001b[0;31mNameError\u001b[0m                                 Traceback (most recent call last)",
            "\u001b[0;32m<ipython-input-69-fab74a8e75ab>\u001b[0m in \u001b[0;36m<module>\u001b[0;34m()\u001b[0m\n\u001b[1;32m      1\u001b[0m \u001b[0;31m# 별점 누적 어떻게함? 코드\u001b[0m\u001b[0;34m\u001b[0m\u001b[0;34m\u001b[0m\u001b[0;34m\u001b[0m\u001b[0m\n\u001b[0;32m----> 2\u001b[0;31m \u001b[0mstar_val_counts\u001b[0m \u001b[0;34m=\u001b[0m \u001b[0mreview\u001b[0m\u001b[0;34m[\u001b[0m\u001b[0;34m'in_n_weeks'\u001b[0m\u001b[0;34m]\u001b[0m\u001b[0;34m.\u001b[0m\u001b[0mvalue_counts\u001b[0m\u001b[0;34m(\u001b[0m\u001b[0;34m)\u001b[0m\u001b[0;34m\u001b[0m\u001b[0;34m\u001b[0m\u001b[0m\n\u001b[0m\u001b[1;32m      3\u001b[0m \u001b[0;34m\u001b[0m\u001b[0m\n\u001b[1;32m      4\u001b[0m \u001b[0;31m# 주차 나누기 (bool)\u001b[0m\u001b[0;34m\u001b[0m\u001b[0;34m\u001b[0m\u001b[0;34m\u001b[0m\u001b[0m\n\u001b[1;32m      5\u001b[0m \u001b[0mis_week_0\u001b[0m \u001b[0;34m=\u001b[0m \u001b[0mreview\u001b[0m\u001b[0;34m[\u001b[0m\u001b[0;34m'in_n_weeks'\u001b[0m\u001b[0;34m]\u001b[0m \u001b[0;34m==\u001b[0m \u001b[0;36m0\u001b[0m\u001b[0;34m\u001b[0m\u001b[0;34m\u001b[0m\u001b[0m\n",
            "\u001b[0;31mNameError\u001b[0m: name 'review' is not defined"
          ]
        }
      ]
    },
    {
      "cell_type": "markdown",
      "metadata": {
        "id": "8PWfazT5aJ6G"
      },
      "source": [
        "## [2] 3주차까지만. review concat됨"
      ]
    },
    {
      "cell_type": "code",
      "metadata": {
        "colab": {
          "base_uri": "https://localhost:8080/"
        },
        "id": "W5Zy627AHarO",
        "outputId": "076713db-f51d-4a29-ee30-73be93e817ef"
      },
      "source": [
        "# df에 주차별 별점 + 리뷰수 채운거.  리뷰까지 concat. 함.\n",
        "\n",
        "from tqdm import tqdm\n",
        "\n",
        "#movie_review 읽어서 개봉 후 몇주인지 표기. #지금은 collected로 되어있음. 원래코드는 바로 아래.\n",
        "# 전체 영화리뷰읽고 몇주인지 표시한거 아래코드. **************실제로 쓸 코드.\n",
        "# movie_code_list = released_date_code['Movie_code'].tolist()\n",
        "# for movie_code in movie_code_list: \n",
        "#   pd.read_excel('/gdrive/MyDrive/IMDB_Reviews/'+ movie_code +'_review_result.xlsx')\n",
        "#   그리고 쭉쭉 코드 쓰셈\n",
        "\n",
        "# 리뷰 다 수집되기전 코드 \n",
        "\n",
        "# ## 별점 분포 세기.\n",
        "# star_0 = 0\n",
        "# star_1 = 0\n",
        "# star_2 = 0\n",
        "# star_3 = 0\n",
        "# star_4 = 0\n",
        "# star_5 = 0\n",
        "# star_6 = 0\n",
        "# star_7 = 0\n",
        "# star_8 = 0\n",
        "# star_9 = 0\n",
        "# star_10 = 0\n",
        "# star_counts = [star_0, star_1, star_2, star_3, star_4, star_5, star_6, star_7, star_8, star_9, star_10] # 이러지말고 리뷰를 통으로 모으는건 어때?\n",
        "# 전체 리뷰 모으는 코드 + movie_code 표기.\n",
        "review_concat = pd.DataFrame()\n",
        "\n",
        "#df 주차별 별점 초기화\n",
        "df['star_bf_released'] = 0\n",
        "df['star_af_1week'] = 0\n",
        "df['star_af_2weeks'] = 0\n",
        "df['star_af_3weeks'] = 0\n",
        "df['after 3 weeks'] = 0\n",
        "\n",
        "# 불러오지 못한 리뷰의 movie_code \n",
        "reading_error = []\n",
        "\n",
        "for movie_code in tqdm(movie_codes): # 여기를 바꾸기. 필요한 movie_만 읽게 *****/ collected movie 말고 df에서 뽑아오자.\n",
        "  #해당 Moviecode에 맞는 리뷰 불러오기\n",
        "  try: # path1\n",
        "    review =  pd.read_excel(path1 + movie_code +'_review_result.xlsx',index_col = 0) # 영화리뷰 파일 읽기1\n",
        "  except: #FileNotFoundError:활용가능 \n",
        "    try:\n",
        "      review =  pd.read_excel(path2 + movie_code +'_review_result.xlsx',index_col = 0) # 영화리뷰 파일 읽기2\n",
        "    except FileNotFoundError:\n",
        "      try:\n",
        "        review =  pd.read_excel(path3 + movie_code +'_review_result.xlsx',index_col = 0) # 영화리뷰 파일 읽기3\n",
        "      except FileNotFoundError: # 그냥 except만 쓰면 위 에러가 아닐때 동작하는 코드..\n",
        "        reading_error.append(movie_code)\n",
        "        print(f'{movie_code}파일 존재하지 않음')\n",
        "        continue\n",
        "  \n",
        "  # 불러온 리뷰 데이터 데이터 형식 변환\n",
        "  review['date'] = pd.to_datetime(review['date']) # 리뷰 파일 형식 변환\n",
        "  released_date = released_date_code[released_date_code['Movie_code'] == movie_code][['Released_date','1_week_later','2_weeks_later','3_weeks_later']] # 리뷰의 작성 시점에대한 컬럼 가져오기\n",
        "  review['released_date'] = released_date['Released_date'].reset_index(drop = True) # review에 released_date 옮기기\n",
        "  try:\n",
        "    review['released_date'] = review['released_date'].iloc[0] # 행 복사 #리뷰가 없는 경우 예외처리. 완료.\n",
        "  except:\n",
        "    continue\n",
        "  review['1_week_later'] = review['released_date'] + pd.DateOffset(weeks=1) \n",
        "  review['2_weeks_later'] = review['released_date'] + pd.DateOffset(weeks=2) \n",
        "  review['3_weeks_later'] = review['released_date'] + pd.DateOffset(weeks=3) \n",
        "\n",
        "  # df에 주차별 댓글 개수 넣기 \n",
        "  \n",
        "\n",
        "  #review가 개봉 +-몇주 전후인지 파악 \n",
        "  def past_n_weeks(date):\n",
        "    if date <= review['released_date'].iloc[0]:\n",
        "      return 0\n",
        "    elif date <= review['1_week_later'].iloc[0]:\n",
        "      return 1\n",
        "    elif date <= review['2_weeks_later'].iloc[0]:\n",
        "      return 2\n",
        "    elif date <= review['3_weeks_later'].iloc[0]:\n",
        "      return 3\n",
        "    else:\n",
        "      return 'after 3 weeks'\n",
        "\n",
        "  review['in_n_weeks'] = review['date'].apply(lambda x : past_n_weeks(x))\n",
        "  #review\n",
        "  val_counts = review['in_n_weeks'].value_counts() #개봉 후 몇주차 댓글인지 세기\n",
        "  # val_counts.loc[0] #개봉전\n",
        "  # val_counts.loc[1] #1주안 댓글 수\n",
        "  # val_counts.loc[2] \n",
        "  # val_counts.loc[3]\n",
        "  # val_counts.loc['after 3 weeks']\n",
        "  ind = df[df['Movie_code'] == movie_code].index # 해당 movie_code행, 영화. \n",
        "  try:\n",
        "    df.loc[ind,'rv_bf_released_date'] = val_counts.loc[0]\n",
        "  except:\n",
        "    df.loc[ind,'rv_bf_released_date'] = 0\n",
        "  try:\n",
        "    df.loc[ind,'rv_in_1_week'] = val_counts.loc[1]\n",
        "  except:\n",
        "    df.loc[ind,'rv_in_1_week'] = 0\n",
        "  try:\n",
        "    df.loc[ind,'rv_in_2_weeks'] = val_counts.loc[2]\n",
        "  except:\n",
        "    df.loc[ind,'rv_in_2_weeks'] = 0\n",
        "  try:\n",
        "    df.loc[ind,'rv_in_3_weeks'] = val_counts.loc[3]\n",
        "  except:\n",
        "    df.loc[ind,'rv_in_3_weeks'] = 0 \n",
        "  try:\n",
        "    df.loc[ind,'rv_after 3 weeks'] = val_counts.loc['after 3 weeks']\n",
        "  except:\n",
        "    df.loc[ind,'rv_after 3 weeks'] = 0\n",
        "  # 리뷰 완료. \n",
        "  \n",
        "  # 리뷰의 별점 데이터\n",
        "  # star 전처리\n",
        "  def to_float(word):\n",
        "    import re\n",
        "    p = re.compile(\"([0-9]*)\\/([0-9]*)\")\n",
        "    try:    \n",
        "      s = p.search(word)\n",
        "      star = int(s.group(1))/int(s.group(2))\n",
        "      return star\n",
        "    except:\n",
        "      star = np.NaN # 기본.\n",
        "      star = 0 # 별점 합산용\n",
        "      return star\n",
        "      \n",
        "  review['star'] = review['star'].apply(lambda x: to_float(x))\n",
        "  # 주차별 별점은 확보. df로 옮기면 됨. key값은?  movie_code. 결국 for 문안에서 해결해야할듯.\n",
        "  # review[['star','in_n_weeks']]\n",
        "\n",
        "\n",
        "\n",
        "  g = review['star'].groupby(review['in_n_weeks'])\n",
        "  star_means = g.mean()\n",
        "  # df.loc[ind,'rv_released_date'] = val_counts.loc[0]\n",
        "  try:\n",
        "    df.loc[ind,'star_bf_released'] = star_means.loc[0]\n",
        "  except:\n",
        "    df.loc[ind,'star_bf_released'] = np.nan\n",
        "  try:\n",
        "    df.loc[ind,'star_af_1week'] = star_means.loc[1]\n",
        "  except:\n",
        "    df.loc[ind,'star_af_1week'] = np.nan\n",
        "  try:\n",
        "    df.loc[ind,'star_af_2weeks'] = star_means.loc[2]\n",
        "  except:\n",
        "    df.loc[ind,'star_af_2weeks'] = np.nan\n",
        "  try:\n",
        "    df.loc[ind,'star_af_3weeks'] = star_means.loc[3]\n",
        "  except:\n",
        "    df.loc[ind,'star_af_3weeks'] = np.nan\n",
        "  try:\n",
        "    df.loc[ind,'after 3 weeks'] = np.round(star_means.loc['after 3 weeks'],4)\n",
        "  except:\n",
        "    df.loc[ind,'after 3 weeks'] = np.nan\n",
        "\n",
        "    # 리뷰 모으는 코드 \n",
        "  review['Movie_code'] = movie_code # 리뷰에 무비코드 표기\n",
        "  review_concat = pd.concat([review_concat,review],ignore_index= True) # 리뷰 합치기\n",
        "\n",
        "  # 1.뭔가 오류있음 해시태그위에 ******************************이 부분 해결하셈 v\n",
        "  # 2.반복문 돌때마다 갱신되는 오류 --> df에 그때그때 기록 남기면됨\n",
        "df # NaN이라고 나오는 애들은 아직 수집안된애들.\n",
        "\n",
        "\n",
        "# 리뷰 수, 별점 추가한 df 저장.\n",
        "import pickle\n",
        "with open('/gdrive/MyDrive/movie_predict/df_with_reviewnum_and_star','wb') as fw:\n",
        "  pickle.dump(df,fw)\n",
        "\n",
        "import pickle\n",
        "with open('/gdrive/MyDrive/movie_predict/movie_review_concat','wb') as fw:\n",
        "  pickle.dump(review_concat,fw)\n",
        "# star 에 문제 발생. "
      ],
      "execution_count": null,
      "outputs": [
        {
          "output_type": "stream",
          "text": [
            "100%|██████████| 7899/7899 [1:36:55<00:00,  1.36it/s]\n"
          ],
          "name": "stderr"
        }
      ]
    },
    {
      "cell_type": "markdown",
      "metadata": {
        "id": "ggR0LrzzaDAR"
      },
      "source": [
        "## [3]4주차까지 포함,review concat까지한거."
      ]
    },
    {
      "cell_type": "code",
      "metadata": {
        "colab": {
          "base_uri": "https://localhost:8080/",
          "height": 239
        },
        "id": "hbWpo3HqXnnn",
        "outputId": "f50eb55c-88a4-4843-f1fb-b2aabca01b7b"
      },
      "source": [
        "#[최종]4주차까지 포함,review concat까지한거.\n",
        "\n",
        "# df에 주차별 별점 + 리뷰수 채운거. 리뷰 concat은 뺌\n",
        "# 4주차도 포함함.\n",
        "\n",
        "from tqdm import tqdm\n",
        "\n",
        "#movie_review 읽어서 개봉 후 몇주인지 표기. #지금은 collected로 되어있음. 원래코드는 바로 아래.\n",
        "# 전체 영화리뷰읽고 몇주인지 표시한거 아래코드. **************실제로 쓸 코드.\n",
        "# movie_code_list = released_date_code['Movie_code'].tolist()\n",
        "# for movie_code in movie_code_list: \n",
        "#   pd.read_excel('/gdrive/MyDrive/IMDB_Reviews/'+ movie_code +'_review_result.xlsx')\n",
        "#   그리고 쭉쭉 코드 쓰셈\n",
        "\n",
        "# 전체 리뷰 모으는 코드 + movie_code 표기.\n",
        "review_concat = pd.DataFrame()\n",
        "\n",
        "#df 주차별 별점 초기화\n",
        "df['star_bf_released'] = 0\n",
        "df['star_in_1week'] = 0\n",
        "df['star_in_2weeks'] = 0\n",
        "df['star_in_3weeks'] = 0\n",
        "df['star_in_4weeks'] = 0\n",
        "df['after 4 weeks'] = 0\n",
        "\n",
        "# 불러오지 못한 리뷰의 movie_code \n",
        "reading_error = []\n",
        "\n",
        "for movie_code in tqdm(movie_codes): # 여기를 바꾸기. 필요한 movie_만 읽게 / collected movie 말고 df에서 뽑아오자. 바꿈.\n",
        "  #해당 Moviecode에 맞는 리뷰 불러오기\n",
        "  try: # path1\n",
        "    review =  pd.read_excel(path1 + movie_code +'_review_result.xlsx',index_col = 0) # 영화리뷰 파일 읽기1\n",
        "  except: #FileNotFoundError:활용가능 \n",
        "    try:\n",
        "      review =  pd.read_excel(path2 + movie_code +'_review_result.xlsx',index_col = 0) # 영화리뷰 파일 읽기2\n",
        "    except FileNotFoundError:\n",
        "      try:\n",
        "        review =  pd.read_excel(path3 + movie_code +'_review_result.xlsx',index_col = 0) # 영화리뷰 파일 읽기3\n",
        "      except FileNotFoundError: # 그냥 except만 쓰면 위 에러가 아닐때 동작하는 코드..\n",
        "        reading_error.append(movie_code)\n",
        "        print(f'{movie_code}파일 존재하지 않음')\n",
        "        continue\n",
        "  \n",
        "  # 불러온 리뷰 데이터 데이터 형식 변환\n",
        "  review['date'] = pd.to_datetime(review['date']) # 리뷰 파일 형식 변환\n",
        "  released_date = released_date_code[released_date_code['Movie_code'] == movie_code][['Released_date','1_week_later','2_weeks_later','3_weeks_later','4_weeks_later']] # 리뷰의 작성 시점에대한 컬럼 가져오기\n",
        "  review['released_date'] = released_date['Released_date'].reset_index(drop = True) # review에 released_date 옮기기\n",
        "  try:\n",
        "    review['released_date'] = review['released_date'].iloc[0] # 행 복사 #리뷰가 없는 경우 예외처리. 완료.\n",
        "  except:\n",
        "    continue\n",
        "  review['1_week_later'] = review['released_date'] + pd.DateOffset(weeks=1) \n",
        "  review['2_weeks_later'] = review['released_date'] + pd.DateOffset(weeks=2) \n",
        "  review['3_weeks_later'] = review['released_date'] + pd.DateOffset(weeks=3) \n",
        "  review['4_weeks_later'] = review['released_date'] + pd.DateOffset(weeks=4)\n",
        "  # df에 주차별 댓글 개수 넣기 \n",
        "  \n",
        "\n",
        "  #review가 개봉 +-몇주 전후인지 파악 \n",
        "  def past_n_weeks(date):\n",
        "    if date <= review['released_date'].iloc[0]:\n",
        "      return 0\n",
        "    elif date <= review['1_week_later'].iloc[0]:\n",
        "      return 1\n",
        "    elif date <= review['2_weeks_later'].iloc[0]:\n",
        "      return 2\n",
        "    elif date <= review['3_weeks_later'].iloc[0]:\n",
        "      return 3\n",
        "    elif date <= review['4_weeks_later'].iloc[0]:\n",
        "      return 4\n",
        "    else:\n",
        "      return 'after 4 weeks'\n",
        "\n",
        "  review['in_n_weeks'] = review['date'].apply(lambda x : past_n_weeks(x))\n",
        "  #review\n",
        "  val_counts = review['in_n_weeks'].value_counts() #개봉 후 몇주차 댓글인지 세기\n",
        "  # val_counts.loc[0] #개봉전\n",
        "  # val_counts.loc[1] #1주안 댓글 수\n",
        "  # val_counts.loc[2] \n",
        "  # val_counts.loc[3]\n",
        "  # val_counts.loc['after 3 weeks']\n",
        "  ind = df[df['Movie_code'] == movie_code].index # 해당 movie_code행, 영화. \n",
        "  try:\n",
        "    df.loc[ind,'rv_df_released_date'] = val_counts.loc[0]\n",
        "  except:\n",
        "    df.loc[ind,'rv_df_released_date'] = 0\n",
        "  try:\n",
        "    df.loc[ind,'rv_in_1_week'] = val_counts.loc[1]\n",
        "  except:\n",
        "    df.loc[ind,'rv_in_1_week'] = 0\n",
        "  try:\n",
        "    df.loc[ind,'rv_in_2_weeks'] = val_counts.loc[2]\n",
        "  except:\n",
        "    df.loc[ind,'rv_in_2_weeks'] = 0\n",
        "  try:\n",
        "    df.loc[ind,'rv_in_3_weeks'] = val_counts.loc[3]\n",
        "  except:\n",
        "    df.loc[ind,'rv_in_3_weeks'] = 0 \n",
        "  try:\n",
        "    df.loc[ind,'rv_in_4_weeks'] = val_counts.loc[4]\n",
        "  except:\n",
        "    df.loc[ind,'rv_in_4_weeks'] = 0 \n",
        "  try:\n",
        "    df.loc[ind,'rv_after 4 weeks'] = val_counts.loc['after 4 weeks']\n",
        "  except:\n",
        "    df.loc[ind,'rv_after 4 weeks'] = 0\n",
        "  # 리뷰 완료. \n",
        "  \n",
        "  # 리뷰의 별점 데이터 --> 주차별 누적 추가본. \n",
        "  # star 전처리\n",
        "  def to_float(word):\n",
        "    import re\n",
        "    p = re.compile(\"([0-9]*)\\/([0-9]*)\")\n",
        "    try:    \n",
        "      s = p.search(word)\n",
        "      star = int(s.group(1))/int(s.group(2))\n",
        "      return star\n",
        "    except:\n",
        "      star = np.NaN # 기본.\n",
        "      star = 0 # 별점 합산용\n",
        "      return star\n",
        "      \n",
        "  review['star'] = review['star'].apply(lambda x: to_float(x))\n",
        "  # 주차별 별점은 확보. df로 옮기면 됨. key값은?  movie_code. 결국 for 문안에서 해결해야할듯.\n",
        "  # review[['star','in_n_weeks']]\n",
        "\n",
        "\n",
        "\n",
        "  # g = review['star'].groupby(review['in_n_weeks'])\n",
        "  # star_means = g.mean()\n",
        "  # df.loc[ind,'rv_released_date'] = val_counts.loc[0]\n",
        "\n",
        "  # 주차 나누기 (bool)\n",
        "  is_week_0 = review['in_n_weeks'] == 0\n",
        "  is_week_1 = review['in_n_weeks'] == 1\n",
        "  is_week_2 = review['in_n_weeks'] == 2\n",
        "  is_week_3 = review['in_n_weeks'] == 3\n",
        "  is_week_4 = review['in_n_weeks'] == 4\n",
        "  is_week_af4 = review['in_n_weeks'] == 'after 4 weeks'\n",
        "  # 주차별 누적 별점 표기 is_week_0 = review['in_n_weeks'] == 0\n",
        "\n",
        "  # 개봉전 별점\n",
        "  try:\n",
        "    df.loc[ind,'star_bf_released'] = np.round(review['star'][(is_week_0)].mean(),4)\n",
        "  except:\n",
        "    df.loc[ind,'star_bf_released'] = np.nan\n",
        "  # 개봉 1주차 별점\n",
        "  try:\n",
        "    df.loc[ind,'star_in_1week'] = np.round(review['star'][(is_week_0) | (is_week_1)].mean(),4)\n",
        "  except:\n",
        "    df.loc[ind,'star_in_1week'] = np.nan\n",
        "  #개봉 2주차\n",
        "  try:\n",
        "    df.loc[ind,'star_in_2weeks']  = np.round(review['star'][(is_week_0) | (is_week_1) | (is_week_2)].mean(),4)\n",
        "  except:\n",
        "    df.loc[ind,'star_in_2weeks'] = np.nan\n",
        "  #개봉3주차\n",
        "  try:\n",
        "    df.loc[ind,'star_in_3weeks']  = np.round(review['star'][(is_week_0) | (is_week_1) | (is_week_2) | (is_week_3)].mean(),4)\n",
        "  except:\n",
        "    df.loc[ind,'star_in_3weeks'] = np.nan\n",
        "  #개봉 4주차 \n",
        "  try:\n",
        "    df.loc[ind,'star_in_4weeks']  = np.round(review['star'][(is_week_0) | (is_week_1) | (is_week_2) | (is_week_3) | (is_week_4)].mean(),4)\n",
        "  except:\n",
        "    df.loc[ind,'star_in_4weeks'] = np.nan\n",
        "  #개봉 4주 이후\n",
        "  try:\n",
        "    df.loc[ind,'after 4 weeks'] = np.round(review['star'][(is_week_0) | (is_week_1) | (is_week_2) | (is_week_3) | (is_week_4) | (is_week_af4)].mean(),4)\n",
        "  except:\n",
        "    df.loc[ind,'after 4 weeks'] = np.nan\n",
        "\n",
        "  # 1.뭔가 오류있음 해시태그위에 ******************************이 부분 해결하셈 v\n",
        "  # 2.반복문 돌때마다 갱신되는 오류 --> df에 그때그때 기록 남기면됨\n",
        "  # NaN이라고 나오는 애들은 아직 수집안된애들.\n",
        "\n",
        "\n",
        "\n",
        "    # 리뷰 모으는 코드 \n",
        "  review['Movie_code'] = movie_code # 리뷰에 무비코드 표기\n",
        "  review_concat = pd.concat([review_concat,review],ignore_index= True) # 리뷰 합치기\n",
        "\n",
        "  # 1.뭔가 오류있음 해시태그위에 ******************************이 부분 해결하셈 v\n",
        "  # 2.반복문 돌때마다 갱신되는 오류 --> df에 그때그때 기록 남기면됨\n",
        " \n",
        "\n",
        "\n",
        "# 리뷰 수, 별점 추가한 df 저장.\n",
        "import pickle\n",
        "with open('/gdrive/MyDrive/movie_predict/df_with_reviewnum_and_star_week4','wb') as fw:\n",
        "  pickle.dump(df,fw)\n",
        "\n",
        "import pickle\n",
        "with open('/gdrive/MyDrive/movie_predict/movie_review_concat_week4','wb') as fw:\n",
        "  pickle.dump(review_concat,fw)\n",
        "# star 에 문제 발생. \n"
      ],
      "execution_count": null,
      "outputs": [
        {
          "output_type": "error",
          "ename": "NameError",
          "evalue": "ignored",
          "traceback": [
            "\u001b[0;31m---------------------------------------------------------------------------\u001b[0m",
            "\u001b[0;31mNameError\u001b[0m                                 Traceback (most recent call last)",
            "\u001b[0;32m<ipython-input-70-dbbe663e0226>\u001b[0m in \u001b[0;36m<module>\u001b[0;34m()\u001b[0m\n\u001b[1;32m     27\u001b[0m \u001b[0mreading_error\u001b[0m \u001b[0;34m=\u001b[0m \u001b[0;34m[\u001b[0m\u001b[0;34m]\u001b[0m\u001b[0;34m\u001b[0m\u001b[0;34m\u001b[0m\u001b[0m\n\u001b[1;32m     28\u001b[0m \u001b[0;34m\u001b[0m\u001b[0m\n\u001b[0;32m---> 29\u001b[0;31m \u001b[0;32mfor\u001b[0m \u001b[0mmovie_code\u001b[0m \u001b[0;32min\u001b[0m \u001b[0mtqdm\u001b[0m\u001b[0;34m(\u001b[0m\u001b[0mmovie_codes\u001b[0m\u001b[0;34m)\u001b[0m\u001b[0;34m:\u001b[0m \u001b[0;31m# 여기를 바꾸기. 필요한 movie_만 읽게 / collected movie 말고 df에서 뽑아오자. 바꿈.\u001b[0m\u001b[0;34m\u001b[0m\u001b[0;34m\u001b[0m\u001b[0m\n\u001b[0m\u001b[1;32m     30\u001b[0m   \u001b[0;31m#해당 Moviecode에 맞는 리뷰 불러오기\u001b[0m\u001b[0;34m\u001b[0m\u001b[0;34m\u001b[0m\u001b[0;34m\u001b[0m\u001b[0m\n\u001b[1;32m     31\u001b[0m   \u001b[0;32mtry\u001b[0m\u001b[0;34m:\u001b[0m \u001b[0;31m# path1\u001b[0m\u001b[0;34m\u001b[0m\u001b[0;34m\u001b[0m\u001b[0m\n",
            "\u001b[0;31mNameError\u001b[0m: name 'movie_codes' is not defined"
          ]
        }
      ]
    },
    {
      "cell_type": "code",
      "metadata": {
        "colab": {
          "base_uri": "https://localhost:8080/"
        },
        "id": "TemLOgYFi5bj",
        "outputId": "20933895-cd4e-4c69-f029-06d416face90"
      },
      "source": [
        "review_concat['in_n_weeks'].value_counts()"
      ],
      "execution_count": null,
      "outputs": [
        {
          "output_type": "execute_result",
          "data": {
            "text/plain": [
              "after 4 weeks    516\n",
              "1                 79\n",
              "2                 31\n",
              "0                 26\n",
              "3                 18\n",
              "4                  6\n",
              "Name: in_n_weeks, dtype: int64"
            ]
          },
          "metadata": {
            "tags": []
          },
          "execution_count": 24
        }
      ]
    },
    {
      "cell_type": "markdown",
      "metadata": {
        "id": "46RjV1K8YxHO"
      },
      "source": [
        "## [최종]0 점 제외, 4주차까지 포함,review concat까지한거."
      ]
    },
    {
      "cell_type": "code",
      "metadata": {
        "colab": {
          "base_uri": "https://localhost:8080/"
        },
        "id": "Jz4QVWKGY4KZ",
        "outputId": "f46a2ddd-4406-49c4-cc63-9a5c21f70cf6"
      },
      "source": [
        "#[최종]4주차까지 포함,review concat까지한거.\n",
        "\n",
        "# df에 주차별 별점 + 리뷰수 채운거. 리뷰 concat은 뺌\n",
        "# 4주차도 포함함.\n",
        "\n",
        "from tqdm import tqdm\n",
        "\n",
        "#movie_review 읽어서 개봉 후 몇주인지 표기. #지금은 collected로 되어있음. 원래코드는 바로 아래.\n",
        "# 전체 영화리뷰읽고 몇주인지 표시한거 아래코드. **************실제로 쓸 코드.\n",
        "# movie_code_list = released_date_code['Movie_code'].tolist()\n",
        "# for movie_code in movie_code_list: \n",
        "#   pd.read_excel('/gdrive/MyDrive/IMDB_Reviews/'+ movie_code +'_review_result.xlsx')\n",
        "#   그리고 쭉쭉 코드 쓰셈\n",
        "\n",
        "# 전체 리뷰 모으는 코드 + movie_code 표기.\n",
        "review_concat = pd.DataFrame()\n",
        "\n",
        "#df 주차별 별점 초기화\n",
        "df['star_bf_released'] = 0\n",
        "df['star_in_1week'] = 0\n",
        "df['star_in_2weeks'] = 0\n",
        "df['star_in_3weeks'] = 0\n",
        "df['star_in_4weeks'] = 0\n",
        "df['after 4 weeks'] = 0\n",
        "\n",
        "# 불러오지 못한 리뷰의 movie_code \n",
        "reading_error = []\n",
        "\n",
        "for movie_code in tqdm(movie_codes): # 여기를 바꾸기. 필요한 movie_만 읽게 / collected movie 말고 df에서 뽑아오자. 바꿈.\n",
        "  #해당 Moviecode에 맞는 리뷰 불러오기\n",
        "  try: # path1\n",
        "    review =  pd.read_excel(path1 + movie_code +'_review_result.xlsx',index_col = 0) # 영화리뷰 파일 읽기1\n",
        "  except: #FileNotFoundError:활용가능 \n",
        "    try:\n",
        "      review =  pd.read_excel(path2 + movie_code +'_review_result.xlsx',index_col = 0) # 영화리뷰 파일 읽기2\n",
        "    except FileNotFoundError:\n",
        "      try:\n",
        "        review =  pd.read_excel(path3 + movie_code +'_review_result.xlsx',index_col = 0) # 영화리뷰 파일 읽기3\n",
        "      except FileNotFoundError: # 그냥 except만 쓰면 위 에러가 아닐때 동작하는 코드..\n",
        "        reading_error.append(movie_code)\n",
        "        print(f'{movie_code}파일 존재하지 않음')\n",
        "        continue\n",
        "  \n",
        "  # 불러온 리뷰 데이터 데이터 형식 변환\n",
        "  review['date'] = pd.to_datetime(review['date']) # 리뷰 파일 형식 변환\n",
        "  released_date = released_date_code[released_date_code['Movie_code'] == movie_code][['Released_date','1_week_later','2_weeks_later','3_weeks_later','4_weeks_later']] # 리뷰의 작성 시점에대한 컬럼 가져오기\n",
        "  review['released_date'] = released_date['Released_date'].reset_index(drop = True) # review에 released_date 옮기기\n",
        "  try:\n",
        "    review['released_date'] = review['released_date'].iloc[0] # 행 복사 #리뷰가 없는 경우 예외처리. 완료.\n",
        "  except:\n",
        "    continue\n",
        "  review['1_week_later'] = review['released_date'] + pd.DateOffset(weeks=1) \n",
        "  review['2_weeks_later'] = review['released_date'] + pd.DateOffset(weeks=2) \n",
        "  review['3_weeks_later'] = review['released_date'] + pd.DateOffset(weeks=3) \n",
        "  review['4_weeks_later'] = review['released_date'] + pd.DateOffset(weeks=4)\n",
        "  # df에 주차별 댓글 개수 넣기 \n",
        "  \n",
        "\n",
        "  #review가 개봉 +-몇주 전후인지 파악 \n",
        "  def past_n_weeks(date):\n",
        "    if date <= review['released_date'].iloc[0]:\n",
        "      return 0\n",
        "    elif date <= review['1_week_later'].iloc[0]:\n",
        "      return 1\n",
        "    elif date <= review['2_weeks_later'].iloc[0]:\n",
        "      return 2\n",
        "    elif date <= review['3_weeks_later'].iloc[0]:\n",
        "      return 3\n",
        "    elif date <= review['4_weeks_later'].iloc[0]:\n",
        "      return 4\n",
        "    else:\n",
        "      return 'after 4 weeks'\n",
        "\n",
        "  review['in_n_weeks'] = review['date'].apply(lambda x : past_n_weeks(x))\n",
        "  #review\n",
        "  val_counts = review['in_n_weeks'].value_counts() #개봉 후 몇주차 댓글인지 세기\n",
        "  # val_counts.loc[0] #개봉전\n",
        "  # val_counts.loc[1] #1주안 댓글 수\n",
        "  # val_counts.loc[2] \n",
        "  # val_counts.loc[3]\n",
        "  # val_counts.loc['after 3 weeks']\n",
        "  ind = df[df['Movie_code'] == movie_code].index # 해당 movie_code행, 영화. \n",
        "  try:\n",
        "    df.loc[ind,'rv_df_released_date'] = val_counts.loc[0]\n",
        "  except:\n",
        "    df.loc[ind,'rv_df_released_date'] = 0\n",
        "  try:\n",
        "    df.loc[ind,'rv_in_1_week'] = val_counts.loc[1]\n",
        "  except:\n",
        "    df.loc[ind,'rv_in_1_week'] = 0\n",
        "  try:\n",
        "    df.loc[ind,'rv_in_2_weeks'] = val_counts.loc[2]\n",
        "  except:\n",
        "    df.loc[ind,'rv_in_2_weeks'] = 0\n",
        "  try:\n",
        "    df.loc[ind,'rv_in_3_weeks'] = val_counts.loc[3]\n",
        "  except:\n",
        "    df.loc[ind,'rv_in_3_weeks'] = 0 \n",
        "  try:\n",
        "    df.loc[ind,'rv_in_4_weeks'] = val_counts.loc[4]\n",
        "  except:\n",
        "    df.loc[ind,'rv_in_4_weeks'] = 0 \n",
        "  try:\n",
        "    df.loc[ind,'rv_after 4 weeks'] = val_counts.loc['after 4 weeks']\n",
        "  except:\n",
        "    df.loc[ind,'rv_after 4 weeks'] = 0\n",
        "  # 리뷰 완료. \n",
        "  \n",
        "  # 리뷰의 별점 데이터 --> 주차별 누적 추가본. \n",
        "  # star 전처리\n",
        "  def to_float(word):\n",
        "    import re\n",
        "    p = re.compile(\"([0-9]*)\\/([0-9]*)\")\n",
        "    try:    \n",
        "      s = p.search(word)\n",
        "      star = int(s.group(1))/int(s.group(2))\n",
        "      return star\n",
        "    except:\n",
        "      star = np.NaN # 기본.\n",
        "      star = 0 # 별점 합산용\n",
        "      return star\n",
        "      \n",
        "  review['star'] = review['star'].apply(lambda x: to_float(x))\n",
        "  # 주차별 별점은 확보. df로 옮기면 됨. key값은?  movie_code. 결국 for 문안에서 해결해야할듯.\n",
        "  # review[['star','in_n_weeks']]\n",
        "\n",
        "\n",
        "\n",
        "  # g = review['star'].groupby(review['in_n_weeks'])\n",
        "  # star_means = g.mean()\n",
        "  # df.loc[ind,'rv_released_date'] = val_counts.loc[0]\n",
        "\n",
        "  # 주차 나누기 (bool)\n",
        "  is_week_0 = review['in_n_weeks'] == 0\n",
        "  is_week_1 = review['in_n_weeks'] == 1\n",
        "  is_week_2 = review['in_n_weeks'] == 2\n",
        "  is_week_3 = review['in_n_weeks'] == 3\n",
        "  is_week_4 = review['in_n_weeks'] == 4\n",
        "  is_week_af4 = review['in_n_weeks'] == 'after 4 weeks'\n",
        "  # 주차별 누적 별점 표기 is_week_0 = review['in_n_weeks'] == 0\n",
        "\n",
        "  # 개봉전 별점\n",
        "  review = review[~(review['star'] == 0.0)] # 별점 0 인 리뷰는 뺌.\n",
        "\n",
        "  try:\n",
        "    df.loc[ind,'star_bf_released'] = np.round(review['star'][(is_week_0)].mean(),4)\n",
        "  except:\n",
        "    df.loc[ind,'star_bf_released'] = np.nan\n",
        "  # 개봉 1주차 별점\n",
        "  try:\n",
        "    df.loc[ind,'star_in_1week'] = np.round(review['star'][(is_week_0) | (is_week_1)].mean(),4)\n",
        "  except:\n",
        "    df.loc[ind,'star_in_1week'] = np.nan\n",
        "  #개봉 2주차\n",
        "  try:\n",
        "    df.loc[ind,'star_in_2weeks']  = np.round(review['star'][(is_week_0) | (is_week_1) | (is_week_2)].mean(),4)\n",
        "  except:\n",
        "    df.loc[ind,'star_in_2weeks'] = np.nan\n",
        "  #개봉3주차\n",
        "  try:\n",
        "    df.loc[ind,'star_in_3weeks']  = np.round(review['star'][(is_week_0) | (is_week_1) | (is_week_2) | (is_week_3)].mean(),4)\n",
        "  except:\n",
        "    df.loc[ind,'star_in_3weeks'] = np.nan\n",
        "  #개봉 4주차 \n",
        "  try:\n",
        "    df.loc[ind,'star_in_4weeks']  = np.round(review['star'][(is_week_0) | (is_week_1) | (is_week_2) | (is_week_3) | (is_week_4)].mean(),4)\n",
        "  except:\n",
        "    df.loc[ind,'star_in_4weeks'] = np.nan\n",
        "  #개봉 4주 이후\n",
        "  try:\n",
        "    df.loc[ind,'after 4 weeks'] = np.round(review['star'][(is_week_0) | (is_week_1) | (is_week_2) | (is_week_3) | (is_week_4) | (is_week_af4)].mean(),4)\n",
        "  except:\n",
        "    df.loc[ind,'after 4 weeks'] = np.nan\n",
        "\n",
        "  # 1.뭔가 오류있음 해시태그위에 ******************************이 부분 해결하셈 v\n",
        "  # 2.반복문 돌때마다 갱신되는 오류 --> df에 그때그때 기록 남기면됨\n",
        "  # NaN이라고 나오는 애들은 아직 수집안된애들.\n",
        "\n",
        "\n",
        "\n",
        "  #   # 리뷰 모으는 코드 --> 다시 안해도 됨.\n",
        "  # review['Movie_code'] = movie_code # 리뷰에 무비코드 표기\n",
        "  # review_concat = pd.concat([review_concat,review],ignore_index= True) # 리뷰 합치기\n",
        "\n",
        "  # 1.뭔가 오류있음 해시태그위에 ******************************이 부분 해결하셈 v\n",
        "  # 2.반복문 돌때마다 갱신되는 오류 --> df에 그때그때 기록 남기면됨\n",
        " \n",
        "\n",
        "\n",
        "# 리뷰 수, 별점 추가한 df 저장.\n",
        "import pickle\n",
        "with open('/gdrive/MyDrive/movie_predict/df_with_reviewnum_and_0Starexcluded_week4_','wb') as fw:\n",
        "  pickle.dump(df,fw)\n",
        "\n",
        "# review_concat은 기존꺼 쓰면됨. 3에서 만든거.\n",
        "#import pickle\n",
        "# with open('/gdrive/MyDrive/movie_predict/movie_review_concat_week4','wb') as fw:\n",
        "#   pickle.dump(review_concat,fw)\n",
        "# star 에 문제 발생. \n"
      ],
      "execution_count": null,
      "outputs": [
        {
          "output_type": "stream",
          "text": [
            "100%|██████████| 7899/7899 [43:59<00:00,  2.99it/s]\n"
          ],
          "name": "stderr"
        }
      ]
    },
    {
      "cell_type": "code",
      "metadata": {
        "colab": {
          "base_uri": "https://localhost:8080/",
          "height": 889
        },
        "id": "uFJ1qZCgY4Mr",
        "outputId": "f7945907-3aba-48ac-b97f-74969b52751d"
      },
      "source": [
        "review"
      ],
      "execution_count": null,
      "outputs": [
        {
          "output_type": "execute_result",
          "data": {
            "text/html": [
              "<div>\n",
              "<style scoped>\n",
              "    .dataframe tbody tr th:only-of-type {\n",
              "        vertical-align: middle;\n",
              "    }\n",
              "\n",
              "    .dataframe tbody tr th {\n",
              "        vertical-align: top;\n",
              "    }\n",
              "\n",
              "    .dataframe thead th {\n",
              "        text-align: right;\n",
              "    }\n",
              "</style>\n",
              "<table border=\"1\" class=\"dataframe\">\n",
              "  <thead>\n",
              "    <tr style=\"text-align: right;\">\n",
              "      <th></th>\n",
              "      <th>header</th>\n",
              "      <th>date</th>\n",
              "      <th>contents</th>\n",
              "      <th>star</th>\n",
              "      <th>helpful</th>\n",
              "      <th>released_date</th>\n",
              "      <th>1_week_later</th>\n",
              "      <th>2_weeks_later</th>\n",
              "      <th>3_weeks_later</th>\n",
              "      <th>4_weeks_later</th>\n",
              "      <th>in_n_weeks</th>\n",
              "    </tr>\n",
              "  </thead>\n",
              "  <tbody>\n",
              "    <tr>\n",
              "      <th>1</th>\n",
              "      <td>Underrated, funny movie\\n</td>\n",
              "      <td>2005-12-10</td>\n",
              "      <td>I first saw this movie at my cottage in 2001 b...</td>\n",
              "      <td>0.8</td>\n",
              "      <td>['23 out of 33']</td>\n",
              "      <td>2000-02-11</td>\n",
              "      <td>2000-02-18</td>\n",
              "      <td>2000-02-25</td>\n",
              "      <td>2000-03-03</td>\n",
              "      <td>2000-03-10</td>\n",
              "      <td>after 4 weeks</td>\n",
              "    </tr>\n",
              "    <tr>\n",
              "      <th>2</th>\n",
              "      <td>If only the Plot were as Deep as the Snow.....\\n</td>\n",
              "      <td>2000-02-13</td>\n",
              "      <td>Key Words:  Cute / Kid Flic / So-SoThere are s...</td>\n",
              "      <td>0.7</td>\n",
              "      <td>['9 out of 11']</td>\n",
              "      <td>2000-02-11</td>\n",
              "      <td>2000-02-18</td>\n",
              "      <td>2000-02-25</td>\n",
              "      <td>2000-03-03</td>\n",
              "      <td>2000-03-10</td>\n",
              "      <td>1</td>\n",
              "    </tr>\n",
              "    <tr>\n",
              "      <th>4</th>\n",
              "      <td>Snow wonderful\\n</td>\n",
              "      <td>2012-09-09</td>\n",
              "      <td>This film is definitely aimed at young childre...</td>\n",
              "      <td>1.0</td>\n",
              "      <td>['3 out of 3']</td>\n",
              "      <td>2000-02-11</td>\n",
              "      <td>2000-02-18</td>\n",
              "      <td>2000-02-25</td>\n",
              "      <td>2000-03-03</td>\n",
              "      <td>2000-03-10</td>\n",
              "      <td>after 4 weeks</td>\n",
              "    </tr>\n",
              "    <tr>\n",
              "      <th>5</th>\n",
              "      <td>Fun, funny stuff\\n</td>\n",
              "      <td>2002-05-29</td>\n",
              "      <td>This is a totally enjoyable film for people of...</td>\n",
              "      <td>0.9</td>\n",
              "      <td>['3 out of 3']</td>\n",
              "      <td>2000-02-11</td>\n",
              "      <td>2000-02-18</td>\n",
              "      <td>2000-02-25</td>\n",
              "      <td>2000-03-03</td>\n",
              "      <td>2000-03-10</td>\n",
              "      <td>after 4 weeks</td>\n",
              "    </tr>\n",
              "    <tr>\n",
              "      <th>6</th>\n",
              "      <td>what an enjoyable movie\\n</td>\n",
              "      <td>2000-02-13</td>\n",
              "      <td>well i really enjoyed this movie and was surpr...</td>\n",
              "      <td>0.9</td>\n",
              "      <td>['3 out of 3']</td>\n",
              "      <td>2000-02-11</td>\n",
              "      <td>2000-02-18</td>\n",
              "      <td>2000-02-25</td>\n",
              "      <td>2000-03-03</td>\n",
              "      <td>2000-03-10</td>\n",
              "      <td>1</td>\n",
              "    </tr>\n",
              "    <tr>\n",
              "      <th>...</th>\n",
              "      <td>...</td>\n",
              "      <td>...</td>\n",
              "      <td>...</td>\n",
              "      <td>...</td>\n",
              "      <td>...</td>\n",
              "      <td>...</td>\n",
              "      <td>...</td>\n",
              "      <td>...</td>\n",
              "      <td>...</td>\n",
              "      <td>...</td>\n",
              "      <td>...</td>\n",
              "    </tr>\n",
              "    <tr>\n",
              "      <th>78</th>\n",
              "      <td>could work but don't\\n</td>\n",
              "      <td>2019-05-05</td>\n",
              "      <td>Tom Brandston (Chevy Chase) is the third rate ...</td>\n",
              "      <td>0.5</td>\n",
              "      <td>['0 out of 1']</td>\n",
              "      <td>2000-02-11</td>\n",
              "      <td>2000-02-18</td>\n",
              "      <td>2000-02-25</td>\n",
              "      <td>2000-03-03</td>\n",
              "      <td>2000-03-10</td>\n",
              "      <td>after 4 weeks</td>\n",
              "    </tr>\n",
              "    <tr>\n",
              "      <th>79</th>\n",
              "      <td>Only Saw It Once 15 years Ago\\n</td>\n",
              "      <td>2015-03-05</td>\n",
              "      <td>We've been having a lot of snowstorms recently...</td>\n",
              "      <td>0.3</td>\n",
              "      <td>['0 out of 1']</td>\n",
              "      <td>2000-02-11</td>\n",
              "      <td>2000-02-18</td>\n",
              "      <td>2000-02-25</td>\n",
              "      <td>2000-03-03</td>\n",
              "      <td>2000-03-10</td>\n",
              "      <td>after 4 weeks</td>\n",
              "    </tr>\n",
              "    <tr>\n",
              "      <th>80</th>\n",
              "      <td>A collection of subplots in search of a bigge...</td>\n",
              "      <td>2015-01-05</td>\n",
              "      <td>Whether you were in first grade, or a senior i...</td>\n",
              "      <td>0.3</td>\n",
              "      <td>['0 out of 1']</td>\n",
              "      <td>2000-02-11</td>\n",
              "      <td>2000-02-18</td>\n",
              "      <td>2000-02-25</td>\n",
              "      <td>2000-03-03</td>\n",
              "      <td>2000-03-10</td>\n",
              "      <td>after 4 weeks</td>\n",
              "    </tr>\n",
              "    <tr>\n",
              "      <th>87</th>\n",
              "      <td>Hmm...Jack Frost Anyone?\\n</td>\n",
              "      <td>2001-06-26</td>\n",
              "      <td>This movie is the most irrelevent movie you ar...</td>\n",
              "      <td>0.6</td>\n",
              "      <td>['0 out of 1']</td>\n",
              "      <td>2000-02-11</td>\n",
              "      <td>2000-02-18</td>\n",
              "      <td>2000-02-25</td>\n",
              "      <td>2000-03-03</td>\n",
              "      <td>2000-03-10</td>\n",
              "      <td>after 4 weeks</td>\n",
              "    </tr>\n",
              "    <tr>\n",
              "      <th>89</th>\n",
              "      <td>For kids only\\n</td>\n",
              "      <td>2000-11-05</td>\n",
              "      <td>\"Snow Day\" is a movie that was for me a big di...</td>\n",
              "      <td>0.3</td>\n",
              "      <td>['0 out of 2']</td>\n",
              "      <td>2000-02-11</td>\n",
              "      <td>2000-02-18</td>\n",
              "      <td>2000-02-25</td>\n",
              "      <td>2000-03-03</td>\n",
              "      <td>2000-03-10</td>\n",
              "      <td>after 4 weeks</td>\n",
              "    </tr>\n",
              "  </tbody>\n",
              "</table>\n",
              "<p>61 rows × 11 columns</p>\n",
              "</div>"
            ],
            "text/plain": [
              "                                               header  ...     in_n_weeks\n",
              "1                           Underrated, funny movie\\n  ...  after 4 weeks\n",
              "2    If only the Plot were as Deep as the Snow.....\\n  ...              1\n",
              "4                                    Snow wonderful\\n  ...  after 4 weeks\n",
              "5                                  Fun, funny stuff\\n  ...  after 4 weeks\n",
              "6                           what an enjoyable movie\\n  ...              1\n",
              "..                                                ...  ...            ...\n",
              "78                             could work but don't\\n  ...  after 4 weeks\n",
              "79                    Only Saw It Once 15 years Ago\\n  ...  after 4 weeks\n",
              "80   A collection of subplots in search of a bigge...  ...  after 4 weeks\n",
              "87                         Hmm...Jack Frost Anyone?\\n  ...  after 4 weeks\n",
              "89                                    For kids only\\n  ...  after 4 weeks\n",
              "\n",
              "[61 rows x 11 columns]"
            ]
          },
          "metadata": {
            "tags": []
          },
          "execution_count": 18
        }
      ]
    },
    {
      "cell_type": "markdown",
      "metadata": {
        "id": "E9Xek3EStBXc"
      },
      "source": [
        "## 영화 수집 다되면 하기 *************"
      ]
    },
    {
      "cell_type": "code",
      "metadata": {
        "colab": {
          "base_uri": "https://localhost:8080/"
        },
        "id": "ru_eLv43Kahd",
        "outputId": "51c9b823-d706-4d5c-af35-6ec95f26f399"
      },
      "source": [
        "# 주차 별 총 댓글 수. **********\n",
        "review['in_n_weeks'].value_counts() # unique한 값별로 세기\n",
        "# 기초 통계분석 - 리뷰 전부 수집되면 댓글 pie형태로 개봉전(0),후 n주일 그리기. 총 얼마나 되나.  ********* 위에 for문안에 넣어서 통계 정보 보기.\n",
        "before_release = 0\n",
        "a_week_later = 0\n",
        "two_weeks_later = 0\n",
        "three_weeks_later = 0\n",
        "val_counts = review['in_n_weeks'].value_counts()\n",
        "val_counts.loc[0] #개봉전\n",
        "val_counts.loc[1] #1주안 댓글 수\n",
        "val_counts.loc[2] #\n",
        "val_counts.loc[3]"
      ],
      "execution_count": null,
      "outputs": [
        {
          "output_type": "execute_result",
          "data": {
            "text/plain": [
              "1"
            ]
          },
          "metadata": {
            "tags": []
          },
          "execution_count": 127
        }
      ]
    },
    {
      "cell_type": "markdown",
      "metadata": {
        "id": "fqq9fNfwftH8"
      },
      "source": [
        "## 2) (쓰지 않음) star --> 위1) date for문에 추가됨."
      ]
    },
    {
      "cell_type": "code",
      "metadata": {
        "id": "cB_JZtXEtHV7"
      },
      "source": [
        "# 숫자만 꺼내서 분수-->실수로 바꾸기 \n",
        "\n"
      ],
      "execution_count": null,
      "outputs": []
    },
    {
      "cell_type": "code",
      "metadata": {
        "colab": {
          "base_uri": "https://localhost:8080/",
          "height": 739
        },
        "id": "_mhRZ_apEOs6",
        "outputId": "2851e77e-0740-4295-c891-3f424e836ee2"
      },
      "source": [
        "# star 전처리 # 위에 for 문에 추가됨\n",
        "def to_float(word):\n",
        "  import re\n",
        "  p = re.compile(\"([0-9]*)\\/([0-9]*)\")\n",
        "  try:    \n",
        "    s = p.search(word)\n",
        "    star = int(s.group(1))/int(s.group(2))\n",
        "    return star\n",
        "  except:\n",
        "    star = np.NaN # 기본.\n",
        "    star = 0 # 별점 합산용\n",
        "    return star\n",
        "    \n",
        "review['star'] = review['star'].apply(lambda x: to_float(x))\n",
        "review"
      ],
      "execution_count": null,
      "outputs": [
        {
          "output_type": "execute_result",
          "data": {
            "text/html": [
              "<div>\n",
              "<style scoped>\n",
              "    .dataframe tbody tr th:only-of-type {\n",
              "        vertical-align: middle;\n",
              "    }\n",
              "\n",
              "    .dataframe tbody tr th {\n",
              "        vertical-align: top;\n",
              "    }\n",
              "\n",
              "    .dataframe thead th {\n",
              "        text-align: right;\n",
              "    }\n",
              "</style>\n",
              "<table border=\"1\" class=\"dataframe\">\n",
              "  <thead>\n",
              "    <tr style=\"text-align: right;\">\n",
              "      <th></th>\n",
              "      <th>header</th>\n",
              "      <th>date</th>\n",
              "      <th>contents</th>\n",
              "      <th>star</th>\n",
              "      <th>helpful</th>\n",
              "      <th>released_date</th>\n",
              "      <th>1_week_later</th>\n",
              "      <th>2_weeks_later</th>\n",
              "      <th>3_weeks_later</th>\n",
              "      <th>in_n_weeks</th>\n",
              "    </tr>\n",
              "  </thead>\n",
              "  <tbody>\n",
              "    <tr>\n",
              "      <th>0</th>\n",
              "      <td>Blue Crush meets Road Trip with Skateboards\\n</td>\n",
              "      <td>2004-01-28</td>\n",
              "      <td>Take Blue Crush and Road Trip to the asphalt w...</td>\n",
              "      <td>0</td>\n",
              "      <td>['14 out of 17']</td>\n",
              "      <td>2003-08-15</td>\n",
              "      <td>2003-08-22</td>\n",
              "      <td>2003-08-29</td>\n",
              "      <td>2003-09-05</td>\n",
              "      <td>after 3 weeks</td>\n",
              "    </tr>\n",
              "    <tr>\n",
              "      <th>1</th>\n",
              "      <td>Grind - brainless fun\\n</td>\n",
              "      <td>2005-09-12</td>\n",
              "      <td>I saw this movie on satellite with no preconce...</td>\n",
              "      <td>0</td>\n",
              "      <td>['18 out of 23']</td>\n",
              "      <td>2003-08-15</td>\n",
              "      <td>2003-08-22</td>\n",
              "      <td>2003-08-29</td>\n",
              "      <td>2003-09-05</td>\n",
              "      <td>after 3 weeks</td>\n",
              "    </tr>\n",
              "    <tr>\n",
              "      <th>2</th>\n",
              "      <td>Some pretty funny stuff.\\n</td>\n",
              "      <td>2004-08-24</td>\n",
              "      <td>I picked this movie up for like 4.99 on DVD at...</td>\n",
              "      <td>0</td>\n",
              "      <td>['25 out of 38']</td>\n",
              "      <td>2003-08-15</td>\n",
              "      <td>2003-08-22</td>\n",
              "      <td>2003-08-29</td>\n",
              "      <td>2003-09-05</td>\n",
              "      <td>after 3 weeks</td>\n",
              "    </tr>\n",
              "    <tr>\n",
              "      <th>3</th>\n",
              "      <td>Nothing Spectacular, Except for the Skating\\n</td>\n",
              "      <td>2005-09-26</td>\n",
              "      <td>This film is just plain fun. The story isn't a...</td>\n",
              "      <td>0</td>\n",
              "      <td>['13 out of 18']</td>\n",
              "      <td>2003-08-15</td>\n",
              "      <td>2003-08-22</td>\n",
              "      <td>2003-08-29</td>\n",
              "      <td>2003-09-05</td>\n",
              "      <td>after 3 weeks</td>\n",
              "    </tr>\n",
              "    <tr>\n",
              "      <th>4</th>\n",
              "      <td>great movie\\n</td>\n",
              "      <td>2005-03-13</td>\n",
              "      <td>I've seen this movie many times and ill watch ...</td>\n",
              "      <td>0</td>\n",
              "      <td>['17 out of 32']</td>\n",
              "      <td>2003-08-15</td>\n",
              "      <td>2003-08-22</td>\n",
              "      <td>2003-08-29</td>\n",
              "      <td>2003-09-05</td>\n",
              "      <td>after 3 weeks</td>\n",
              "    </tr>\n",
              "    <tr>\n",
              "      <th>...</th>\n",
              "      <td>...</td>\n",
              "      <td>...</td>\n",
              "      <td>...</td>\n",
              "      <td>...</td>\n",
              "      <td>...</td>\n",
              "      <td>...</td>\n",
              "      <td>...</td>\n",
              "      <td>...</td>\n",
              "      <td>...</td>\n",
              "      <td>...</td>\n",
              "    </tr>\n",
              "    <tr>\n",
              "      <th>85</th>\n",
              "      <td>Some good performances... better than I expec...</td>\n",
              "      <td>2004-09-10</td>\n",
              "      <td>I originally rented \"Grind\" because I am a big...</td>\n",
              "      <td>0</td>\n",
              "      <td>['0 out of 1']</td>\n",
              "      <td>2003-08-15</td>\n",
              "      <td>2003-08-22</td>\n",
              "      <td>2003-08-29</td>\n",
              "      <td>2003-09-05</td>\n",
              "      <td>after 3 weeks</td>\n",
              "    </tr>\n",
              "    <tr>\n",
              "      <th>86</th>\n",
              "      <td>I liked this movie\\n</td>\n",
              "      <td>2004-07-28</td>\n",
              "      <td>I didn't think I would, but it was awesome, th...</td>\n",
              "      <td>0</td>\n",
              "      <td>['0 out of 1']</td>\n",
              "      <td>2003-08-15</td>\n",
              "      <td>2003-08-22</td>\n",
              "      <td>2003-08-29</td>\n",
              "      <td>2003-09-05</td>\n",
              "      <td>after 3 weeks</td>\n",
              "    </tr>\n",
              "    <tr>\n",
              "      <th>87</th>\n",
              "      <td>Great movie!!\\n</td>\n",
              "      <td>2004-04-02</td>\n",
              "      <td>So, I know that some of you (who are not skate...</td>\n",
              "      <td>0</td>\n",
              "      <td>['0 out of 1']</td>\n",
              "      <td>2003-08-15</td>\n",
              "      <td>2003-08-22</td>\n",
              "      <td>2003-08-29</td>\n",
              "      <td>2003-09-05</td>\n",
              "      <td>after 3 weeks</td>\n",
              "    </tr>\n",
              "    <tr>\n",
              "      <th>88</th>\n",
              "      <td>Better than given credit\\n</td>\n",
              "      <td>2004-02-14</td>\n",
              "      <td>The critics ripped this one off. It made a mea...</td>\n",
              "      <td>0</td>\n",
              "      <td>['0 out of 1']</td>\n",
              "      <td>2003-08-15</td>\n",
              "      <td>2003-08-22</td>\n",
              "      <td>2003-08-29</td>\n",
              "      <td>2003-09-05</td>\n",
              "      <td>after 3 weeks</td>\n",
              "    </tr>\n",
              "    <tr>\n",
              "      <th>89</th>\n",
              "      <td>Awesome MOVIE! ~!\\n</td>\n",
              "      <td>2004-01-30</td>\n",
              "      <td>I'm sorry this movie can't be like the other o...</td>\n",
              "      <td>0</td>\n",
              "      <td>['0 out of 2']</td>\n",
              "      <td>2003-08-15</td>\n",
              "      <td>2003-08-22</td>\n",
              "      <td>2003-08-29</td>\n",
              "      <td>2003-09-05</td>\n",
              "      <td>after 3 weeks</td>\n",
              "    </tr>\n",
              "  </tbody>\n",
              "</table>\n",
              "<p>90 rows × 10 columns</p>\n",
              "</div>"
            ],
            "text/plain": [
              "                                               header  ...     in_n_weeks\n",
              "0       Blue Crush meets Road Trip with Skateboards\\n  ...  after 3 weeks\n",
              "1                             Grind - brainless fun\\n  ...  after 3 weeks\n",
              "2                          Some pretty funny stuff.\\n  ...  after 3 weeks\n",
              "3       Nothing Spectacular, Except for the Skating\\n  ...  after 3 weeks\n",
              "4                                       great movie\\n  ...  after 3 weeks\n",
              "..                                                ...  ...            ...\n",
              "85   Some good performances... better than I expec...  ...  after 3 weeks\n",
              "86                               I liked this movie\\n  ...  after 3 weeks\n",
              "87                                    Great movie!!\\n  ...  after 3 weeks\n",
              "88                         Better than given credit\\n  ...  after 3 weeks\n",
              "89                                Awesome MOVIE! ~!\\n  ...  after 3 weeks\n",
              "\n",
              "[90 rows x 10 columns]"
            ]
          },
          "metadata": {
            "tags": []
          },
          "execution_count": 11
        }
      ]
    },
    {
      "cell_type": "code",
      "metadata": {
        "colab": {
          "base_uri": "https://localhost:8080/"
        },
        "id": "BUtwDg5kw3c8",
        "outputId": "c6ed94c2-274f-40ba-f580-e973eb8c1d67"
      },
      "source": [
        "# 주차별 별점은 확보. df로 옮기면 됨. key값은?  movie_code. 결국 for 문안에서 해결해야할듯.\n",
        "review[['star','in_n_weeks']]\n",
        "g = review['star'].groupby(review['in_n_weeks'])\n",
        "star_means = g.mean()\n",
        "\n",
        "star_means['0']\n",
        "star_means['1']\n",
        "star_means['2']\n",
        "star_means['3']\n",
        "star_means['after 3 weeks']\n"
      ],
      "execution_count": null,
      "outputs": [
        {
          "output_type": "execute_result",
          "data": {
            "text/plain": [
              "0.3777777777777778"
            ]
          },
          "metadata": {
            "tags": []
          },
          "execution_count": 41
        }
      ]
    },
    {
      "cell_type": "code",
      "metadata": {
        "colab": {
          "base_uri": "https://localhost:8080/"
        },
        "id": "FEqmINIH23b1",
        "outputId": "2fd0a295-4e5e-455d-e48b-dfb0af3d2ad0"
      },
      "source": [
        "df[~(df['star_af_1week'] == 0)].shape[0] #문제 있음. star 다시보기."
      ],
      "execution_count": null,
      "outputs": [
        {
          "output_type": "execute_result",
          "data": {
            "text/plain": [
              "58"
            ]
          },
          "metadata": {
            "tags": []
          },
          "execution_count": 13
        }
      ]
    },
    {
      "cell_type": "code",
      "metadata": {
        "colab": {
          "base_uri": "https://localhost:8080/"
        },
        "id": "KYcoUI2sE8VI",
        "outputId": "2747fc7e-39cb-4b7e-82e6-95291d7c1685"
      },
      "source": [
        "# # 주차별 별점 만들기.  # apply로 여러 컬럼 쓰는법 배우기. 밑에 #연습 참고. 1,2,3주차 평균 별점 만드셈\n",
        "# def to_stars_by_week(week,star):\n",
        "#   star_bf_released = 0\n",
        "#   star_1week = 0\n",
        "#   star_1week_no = 0\n",
        "#   star_2weeks = 0\n",
        "#   star_2weeks_no = 0\n",
        "#   star_3weeks = 0\n",
        "#   star_3weeks_no = 0\n",
        "#   if review['in_n_weeks'] == 0:\n",
        "#     star_1week += star\n",
        "#     review['star_bf_released'] = star_bf_released\n",
        "#   return star_1week/star_1week_no\n",
        "# 연습\n",
        "#review.apply(lambda x: to_stars_by_week(x['released_date']),x['star']))\n",
        "#\n",
        "#는 그냥 위에 셀 groupby가 훨 편ㅅ함"
      ],
      "execution_count": null,
      "outputs": [
        {
          "output_type": "execute_result",
          "data": {
            "text/plain": [
              "nan"
            ]
          },
          "metadata": {
            "tags": []
          },
          "execution_count": 57
        }
      ]
    },
    {
      "cell_type": "markdown",
      "metadata": {
        "id": "4x8dclT3WKKR"
      },
      "source": [
        "# 3.리뷰 기초 통계 분석"
      ]
    },
    {
      "cell_type": "code",
      "metadata": {
        "colab": {
          "base_uri": "https://localhost:8080/"
        },
        "id": "LAVh3snQQymK",
        "outputId": "92d782c7-0525-4106-fad8-274be8a47cb1"
      },
      "source": [
        "# 구글드라이브 연결\n",
        "from google.colab import drive\n",
        "drive.mount('/gdrive')\n",
        "\n",
        "# 리뷰 모음 review_concat pickle 불러오기\n",
        "import pickle\n",
        "with open('/gdrive/MyDrive/movie_predict/DF/movie_review_concat_week4','rb') as fw:\n",
        " review_concat =  pickle.load(fw)\n",
        " \n",
        "review_concat\n",
        "import matplotlib.pyplot as plt"
      ],
      "execution_count": null,
      "outputs": [
        {
          "output_type": "stream",
          "text": [
            "Drive already mounted at /gdrive; to attempt to forcibly remount, call drive.mount(\"/gdrive\", force_remount=True).\n"
          ],
          "name": "stdout"
        }
      ]
    },
    {
      "cell_type": "code",
      "metadata": {
        "colab": {
          "base_uri": "https://localhost:8080/",
          "height": 1000
        },
        "id": "ByVwOsQNJIAt",
        "outputId": "d2b7fe7e-c007-4431-ab93-f52da20f07c4"
      },
      "source": [
        "#긍,부 리뷰 몇개? 120만\n",
        "review_concat[review_concat['star'].apply(lambda x: (x >= 0.7) or (x < 0.4))]\n",
        "#긍정만 몇개?\n",
        "review_concat[review_concat['star'].apply(lambda x: (x >= 0.7))]\n",
        "#부정만 몇개?\n",
        "review_concat[review_concat['star'].apply(lambda x:(x < 0.4))]"
      ],
      "execution_count": null,
      "outputs": [
        {
          "output_type": "execute_result",
          "data": {
            "text/html": [
              "<div>\n",
              "<style scoped>\n",
              "    .dataframe tbody tr th:only-of-type {\n",
              "        vertical-align: middle;\n",
              "    }\n",
              "\n",
              "    .dataframe tbody tr th {\n",
              "        vertical-align: top;\n",
              "    }\n",
              "\n",
              "    .dataframe thead th {\n",
              "        text-align: right;\n",
              "    }\n",
              "</style>\n",
              "<table border=\"1\" class=\"dataframe\">\n",
              "  <thead>\n",
              "    <tr style=\"text-align: right;\">\n",
              "      <th></th>\n",
              "      <th>header</th>\n",
              "      <th>date</th>\n",
              "      <th>contents</th>\n",
              "      <th>star</th>\n",
              "      <th>helpful</th>\n",
              "      <th>released_date</th>\n",
              "      <th>1_week_later</th>\n",
              "      <th>2_weeks_later</th>\n",
              "      <th>3_weeks_later</th>\n",
              "      <th>4_weeks_later</th>\n",
              "      <th>in_n_weeks</th>\n",
              "      <th>Movie_code</th>\n",
              "    </tr>\n",
              "  </thead>\n",
              "  <tbody>\n",
              "    <tr>\n",
              "      <th>1</th>\n",
              "      <td>Close, but not quite there.\\n</td>\n",
              "      <td>2000-06-05</td>\n",
              "      <td>You have to give Ice Cube credit. He tried to ...</td>\n",
              "      <td>0.0</td>\n",
              "      <td>['9 out of 13']</td>\n",
              "      <td>2000-01-12</td>\n",
              "      <td>2000-01-19</td>\n",
              "      <td>2000-01-26</td>\n",
              "      <td>2000-02-02</td>\n",
              "      <td>2000-02-09</td>\n",
              "      <td>after 4 weeks</td>\n",
              "      <td>0195945</td>\n",
              "    </tr>\n",
              "    <tr>\n",
              "      <th>2</th>\n",
              "      <td>Hope the crackakillers pay well, or its back ...</td>\n",
              "      <td>2000-06-19</td>\n",
              "      <td>First off: Why is Craig smoking? Why is Craig ...</td>\n",
              "      <td>0.0</td>\n",
              "      <td>['9 out of 14']</td>\n",
              "      <td>2000-01-12</td>\n",
              "      <td>2000-01-19</td>\n",
              "      <td>2000-01-26</td>\n",
              "      <td>2000-02-02</td>\n",
              "      <td>2000-02-09</td>\n",
              "      <td>after 4 weeks</td>\n",
              "      <td>0195945</td>\n",
              "    </tr>\n",
              "    <tr>\n",
              "      <th>6</th>\n",
              "      <td>\"I'm an Aztec Warrior, aaahhaa!!\"\\n</td>\n",
              "      <td>2000-12-15</td>\n",
              "      <td>That's my favorite of many funny lines from th...</td>\n",
              "      <td>0.0</td>\n",
              "      <td>['6 out of 9']</td>\n",
              "      <td>2000-01-12</td>\n",
              "      <td>2000-01-19</td>\n",
              "      <td>2000-01-26</td>\n",
              "      <td>2000-02-02</td>\n",
              "      <td>2000-02-09</td>\n",
              "      <td>after 4 weeks</td>\n",
              "      <td>0195945</td>\n",
              "    </tr>\n",
              "    <tr>\n",
              "      <th>7</th>\n",
              "      <td>Next Friday\\n</td>\n",
              "      <td>2000-02-01</td>\n",
              "      <td>I saw this movie tonight at the theater.  I wa...</td>\n",
              "      <td>0.0</td>\n",
              "      <td>['4 out of 6']</td>\n",
              "      <td>2000-01-12</td>\n",
              "      <td>2000-01-19</td>\n",
              "      <td>2000-01-26</td>\n",
              "      <td>2000-02-02</td>\n",
              "      <td>2000-02-09</td>\n",
              "      <td>3</td>\n",
              "      <td>0195945</td>\n",
              "    </tr>\n",
              "    <tr>\n",
              "      <th>8</th>\n",
              "      <td>Not that great\\n</td>\n",
              "      <td>2003-07-14</td>\n",
              "      <td>When I first heard that Next Friday was coming...</td>\n",
              "      <td>0.0</td>\n",
              "      <td>['5 out of 9']</td>\n",
              "      <td>2000-01-12</td>\n",
              "      <td>2000-01-19</td>\n",
              "      <td>2000-01-26</td>\n",
              "      <td>2000-02-02</td>\n",
              "      <td>2000-02-09</td>\n",
              "      <td>after 4 weeks</td>\n",
              "      <td>0195945</td>\n",
              "    </tr>\n",
              "    <tr>\n",
              "      <th>...</th>\n",
              "      <td>...</td>\n",
              "      <td>...</td>\n",
              "      <td>...</td>\n",
              "      <td>...</td>\n",
              "      <td>...</td>\n",
              "      <td>...</td>\n",
              "      <td>...</td>\n",
              "      <td>...</td>\n",
              "      <td>...</td>\n",
              "      <td>...</td>\n",
              "      <td>...</td>\n",
              "      <td>...</td>\n",
              "    </tr>\n",
              "    <tr>\n",
              "      <th>1363391</th>\n",
              "      <td>Different, Thoughtful and Well-done\\n</td>\n",
              "      <td>2018-05-20</td>\n",
              "      <td>Before watching this film I had it confused in...</td>\n",
              "      <td>0.0</td>\n",
              "      <td>['0 out of 1']</td>\n",
              "      <td>2017-12-29</td>\n",
              "      <td>2018-01-05</td>\n",
              "      <td>2018-01-12</td>\n",
              "      <td>2018-01-19</td>\n",
              "      <td>2018-01-26</td>\n",
              "      <td>after 4 weeks</td>\n",
              "      <td>5711148</td>\n",
              "    </tr>\n",
              "    <tr>\n",
              "      <th>1363392</th>\n",
              "      <td>Okay\\n</td>\n",
              "      <td>2018-04-03</td>\n",
              "      <td>This film is definitely watchable, but it also...</td>\n",
              "      <td>0.0</td>\n",
              "      <td>['0 out of 2']</td>\n",
              "      <td>2017-12-29</td>\n",
              "      <td>2018-01-05</td>\n",
              "      <td>2018-01-12</td>\n",
              "      <td>2018-01-19</td>\n",
              "      <td>2018-01-26</td>\n",
              "      <td>after 4 weeks</td>\n",
              "      <td>5711148</td>\n",
              "    </tr>\n",
              "    <tr>\n",
              "      <th>1363393</th>\n",
              "      <td>Film Stars Don't Die In Liverpool ****\\n</td>\n",
              "      <td>2018-03-06</td>\n",
              "      <td>Film Stars Don't Die In Liverpool ****Fantasti...</td>\n",
              "      <td>0.0</td>\n",
              "      <td>['0 out of 4']</td>\n",
              "      <td>2017-12-29</td>\n",
              "      <td>2018-01-05</td>\n",
              "      <td>2018-01-12</td>\n",
              "      <td>2018-01-19</td>\n",
              "      <td>2018-01-26</td>\n",
              "      <td>after 4 weeks</td>\n",
              "      <td>5711148</td>\n",
              "    </tr>\n",
              "    <tr>\n",
              "      <th>1363395</th>\n",
              "      <td>Actors Bening and Bell elevate the material t...</td>\n",
              "      <td>2018-02-12</td>\n",
              "      <td>\"Tell me how I look.\" Gloria Grahame (Annette ...</td>\n",
              "      <td>0.0</td>\n",
              "      <td>['0 out of 2']</td>\n",
              "      <td>2017-12-29</td>\n",
              "      <td>2018-01-05</td>\n",
              "      <td>2018-01-12</td>\n",
              "      <td>2018-01-19</td>\n",
              "      <td>2018-01-26</td>\n",
              "      <td>after 4 weeks</td>\n",
              "      <td>5711148</td>\n",
              "    </tr>\n",
              "    <tr>\n",
              "      <th>1363409</th>\n",
              "      <td>There once was a pack of wolves...\\n</td>\n",
              "      <td>2017-11-21</td>\n",
              "      <td>Made Me Do It is an homage to madness and all ...</td>\n",
              "      <td>0.0</td>\n",
              "      <td>['0 out of 2']</td>\n",
              "      <td>2017-09-29</td>\n",
              "      <td>2017-10-06</td>\n",
              "      <td>2017-10-13</td>\n",
              "      <td>2017-10-20</td>\n",
              "      <td>2017-10-27</td>\n",
              "      <td>after 4 weeks</td>\n",
              "      <td>3630918</td>\n",
              "    </tr>\n",
              "  </tbody>\n",
              "</table>\n",
              "<p>369205 rows × 12 columns</p>\n",
              "</div>"
            ],
            "text/plain": [
              "                                                    header  ... Movie_code\n",
              "1                            Close, but not quite there.\\n  ...    0195945\n",
              "2         Hope the crackakillers pay well, or its back ...  ...    0195945\n",
              "6                      \"I'm an Aztec Warrior, aaahhaa!!\"\\n  ...    0195945\n",
              "7                                            Next Friday\\n  ...    0195945\n",
              "8                                         Not that great\\n  ...    0195945\n",
              "...                                                    ...  ...        ...\n",
              "1363391              Different, Thoughtful and Well-done\\n  ...    5711148\n",
              "1363392                                             Okay\\n  ...    5711148\n",
              "1363393           Film Stars Don't Die In Liverpool ****\\n  ...    5711148\n",
              "1363395   Actors Bening and Bell elevate the material t...  ...    5711148\n",
              "1363409               There once was a pack of wolves...\\n  ...    3630918\n",
              "\n",
              "[369205 rows x 12 columns]"
            ]
          },
          "metadata": {
            "tags": []
          },
          "execution_count": 9
        }
      ]
    },
    {
      "cell_type": "code",
      "metadata": {
        "colab": {
          "base_uri": "https://localhost:8080/",
          "height": 1000
        },
        "id": "qRH_-hT7Hyf5",
        "outputId": "43ef148f-c5f2-46d9-f124-dee9291a5c81"
      },
      "source": [
        "review_concat[review_concat['Movie_code'] == '0195945']"
      ],
      "execution_count": null,
      "outputs": [
        {
          "output_type": "execute_result",
          "data": {
            "text/html": [
              "<div>\n",
              "<style scoped>\n",
              "    .dataframe tbody tr th:only-of-type {\n",
              "        vertical-align: middle;\n",
              "    }\n",
              "\n",
              "    .dataframe tbody tr th {\n",
              "        vertical-align: top;\n",
              "    }\n",
              "\n",
              "    .dataframe thead th {\n",
              "        text-align: right;\n",
              "    }\n",
              "</style>\n",
              "<table border=\"1\" class=\"dataframe\">\n",
              "  <thead>\n",
              "    <tr style=\"text-align: right;\">\n",
              "      <th></th>\n",
              "      <th>header</th>\n",
              "      <th>date</th>\n",
              "      <th>contents</th>\n",
              "      <th>star</th>\n",
              "      <th>helpful</th>\n",
              "      <th>released_date</th>\n",
              "      <th>1_week_later</th>\n",
              "      <th>2_weeks_later</th>\n",
              "      <th>3_weeks_later</th>\n",
              "      <th>4_weeks_later</th>\n",
              "      <th>in_n_weeks</th>\n",
              "      <th>Movie_code</th>\n",
              "    </tr>\n",
              "  </thead>\n",
              "  <tbody>\n",
              "    <tr>\n",
              "      <th>0</th>\n",
              "      <td>Actually quite funny without Chris Tucker\\n</td>\n",
              "      <td>2002-03-16</td>\n",
              "      <td>Next Friday is actually pretty funny even thou...</td>\n",
              "      <td>1.0</td>\n",
              "      <td>['17 out of 25']</td>\n",
              "      <td>2000-01-12</td>\n",
              "      <td>2000-01-19</td>\n",
              "      <td>2000-01-26</td>\n",
              "      <td>2000-02-02</td>\n",
              "      <td>2000-02-09</td>\n",
              "      <td>after 4 weeks</td>\n",
              "      <td>0195945</td>\n",
              "    </tr>\n",
              "    <tr>\n",
              "      <th>1</th>\n",
              "      <td>Close, but not quite there.\\n</td>\n",
              "      <td>2000-06-05</td>\n",
              "      <td>You have to give Ice Cube credit. He tried to ...</td>\n",
              "      <td>0.0</td>\n",
              "      <td>['9 out of 13']</td>\n",
              "      <td>2000-01-12</td>\n",
              "      <td>2000-01-19</td>\n",
              "      <td>2000-01-26</td>\n",
              "      <td>2000-02-02</td>\n",
              "      <td>2000-02-09</td>\n",
              "      <td>after 4 weeks</td>\n",
              "      <td>0195945</td>\n",
              "    </tr>\n",
              "    <tr>\n",
              "      <th>2</th>\n",
              "      <td>Hope the crackakillers pay well, or its back ...</td>\n",
              "      <td>2000-06-19</td>\n",
              "      <td>First off: Why is Craig smoking? Why is Craig ...</td>\n",
              "      <td>0.0</td>\n",
              "      <td>['9 out of 14']</td>\n",
              "      <td>2000-01-12</td>\n",
              "      <td>2000-01-19</td>\n",
              "      <td>2000-01-26</td>\n",
              "      <td>2000-02-02</td>\n",
              "      <td>2000-02-09</td>\n",
              "      <td>after 4 weeks</td>\n",
              "      <td>0195945</td>\n",
              "    </tr>\n",
              "    <tr>\n",
              "      <th>3</th>\n",
              "      <td>Some good belly laughs\\n</td>\n",
              "      <td>2000-04-11</td>\n",
              "      <td>It is not easy to sit through the whole movie ...</td>\n",
              "      <td>0.7</td>\n",
              "      <td>['4 out of 5']</td>\n",
              "      <td>2000-01-12</td>\n",
              "      <td>2000-01-19</td>\n",
              "      <td>2000-01-26</td>\n",
              "      <td>2000-02-02</td>\n",
              "      <td>2000-02-09</td>\n",
              "      <td>after 4 weeks</td>\n",
              "      <td>0195945</td>\n",
              "    </tr>\n",
              "    <tr>\n",
              "      <th>4</th>\n",
              "      <td>I loved that movie\\n</td>\n",
              "      <td>2000-07-25</td>\n",
              "      <td>Next Friday is a movie i enjoyed to see all 4 ...</td>\n",
              "      <td>1.0</td>\n",
              "      <td>['5 out of 7']</td>\n",
              "      <td>2000-01-12</td>\n",
              "      <td>2000-01-19</td>\n",
              "      <td>2000-01-26</td>\n",
              "      <td>2000-02-02</td>\n",
              "      <td>2000-02-09</td>\n",
              "      <td>after 4 weeks</td>\n",
              "      <td>0195945</td>\n",
              "    </tr>\n",
              "    <tr>\n",
              "      <th>...</th>\n",
              "      <td>...</td>\n",
              "      <td>...</td>\n",
              "      <td>...</td>\n",
              "      <td>...</td>\n",
              "      <td>...</td>\n",
              "      <td>...</td>\n",
              "      <td>...</td>\n",
              "      <td>...</td>\n",
              "      <td>...</td>\n",
              "      <td>...</td>\n",
              "      <td>...</td>\n",
              "      <td>...</td>\n",
              "    </tr>\n",
              "    <tr>\n",
              "      <th>75</th>\n",
              "      <td>Very Funny!\\n</td>\n",
              "      <td>2000-08-04</td>\n",
              "      <td>This movie was very funny! And hot women were ...</td>\n",
              "      <td>0.0</td>\n",
              "      <td>['0 out of 1']</td>\n",
              "      <td>2000-01-12</td>\n",
              "      <td>2000-01-19</td>\n",
              "      <td>2000-01-26</td>\n",
              "      <td>2000-02-02</td>\n",
              "      <td>2000-02-09</td>\n",
              "      <td>after 4 weeks</td>\n",
              "      <td>0195945</td>\n",
              "    </tr>\n",
              "    <tr>\n",
              "      <th>76</th>\n",
              "      <td>utterly awful\\n</td>\n",
              "      <td>2000-05-31</td>\n",
              "      <td>Going into this movie, I was thinking \"Next Fr...</td>\n",
              "      <td>0.0</td>\n",
              "      <td>['0 out of 1']</td>\n",
              "      <td>2000-01-12</td>\n",
              "      <td>2000-01-19</td>\n",
              "      <td>2000-01-26</td>\n",
              "      <td>2000-02-02</td>\n",
              "      <td>2000-02-09</td>\n",
              "      <td>after 4 weeks</td>\n",
              "      <td>0195945</td>\n",
              "    </tr>\n",
              "    <tr>\n",
              "      <th>77</th>\n",
              "      <td>Funny, but\\n</td>\n",
              "      <td>2000-04-28</td>\n",
              "      <td>Next Friday has many laughs to go around ,but ...</td>\n",
              "      <td>0.6</td>\n",
              "      <td>['0 out of 1']</td>\n",
              "      <td>2000-01-12</td>\n",
              "      <td>2000-01-19</td>\n",
              "      <td>2000-01-26</td>\n",
              "      <td>2000-02-02</td>\n",
              "      <td>2000-02-09</td>\n",
              "      <td>after 4 weeks</td>\n",
              "      <td>0195945</td>\n",
              "    </tr>\n",
              "    <tr>\n",
              "      <th>78</th>\n",
              "      <td>Just as good as the first one, if not more so\\n</td>\n",
              "      <td>2000-01-12</td>\n",
              "      <td>Who says the sequel is never as good as the or...</td>\n",
              "      <td>0.7</td>\n",
              "      <td>['0 out of 1']</td>\n",
              "      <td>2000-01-12</td>\n",
              "      <td>2000-01-19</td>\n",
              "      <td>2000-01-26</td>\n",
              "      <td>2000-02-02</td>\n",
              "      <td>2000-02-09</td>\n",
              "      <td>0</td>\n",
              "      <td>0195945</td>\n",
              "    </tr>\n",
              "    <tr>\n",
              "      <th>79</th>\n",
              "      <td>Great !\\n</td>\n",
              "      <td>2000-03-03</td>\n",
              "      <td>This is a great followup to the original Frida...</td>\n",
              "      <td>0.0</td>\n",
              "      <td>['0 out of 1']</td>\n",
              "      <td>2000-01-12</td>\n",
              "      <td>2000-01-19</td>\n",
              "      <td>2000-01-26</td>\n",
              "      <td>2000-02-02</td>\n",
              "      <td>2000-02-09</td>\n",
              "      <td>after 4 weeks</td>\n",
              "      <td>0195945</td>\n",
              "    </tr>\n",
              "  </tbody>\n",
              "</table>\n",
              "<p>80 rows × 12 columns</p>\n",
              "</div>"
            ],
            "text/plain": [
              "                                               header  ... Movie_code\n",
              "0         Actually quite funny without Chris Tucker\\n  ...    0195945\n",
              "1                       Close, but not quite there.\\n  ...    0195945\n",
              "2    Hope the crackakillers pay well, or its back ...  ...    0195945\n",
              "3                            Some good belly laughs\\n  ...    0195945\n",
              "4                                I loved that movie\\n  ...    0195945\n",
              "..                                                ...  ...        ...\n",
              "75                                      Very Funny!\\n  ...    0195945\n",
              "76                                    utterly awful\\n  ...    0195945\n",
              "77                                       Funny, but\\n  ...    0195945\n",
              "78    Just as good as the first one, if not more so\\n  ...    0195945\n",
              "79                                          Great !\\n  ...    0195945\n",
              "\n",
              "[80 rows x 12 columns]"
            ]
          },
          "metadata": {
            "tags": []
          },
          "execution_count": 27
        }
      ]
    },
    {
      "cell_type": "markdown",
      "metadata": {
        "id": "7sgt1RQG6KvD"
      },
      "source": [
        "##1)star 분포"
      ]
    },
    {
      "cell_type": "code",
      "metadata": {
        "colab": {
          "base_uri": "https://localhost:8080/",
          "height": 301
        },
        "id": "WB6zxPNNWMMi",
        "outputId": "dd5b717b-0993-4b90-9d7e-68613069481f"
      },
      "source": [
        "# star 분포\n",
        "star_dist = review_concat['star'].value_counts().sort_index()\n",
        "plt.title('Distribution of Stars from Reviews')\n",
        "star_dist.plot(kind = 'bar')\n",
        "plt.xlabel('Star')\n",
        "plt.ylabel('Quantity')\n",
        "plt.show()\n"
      ],
      "execution_count": null,
      "outputs": [
        {
          "output_type": "display_data",
          "data": {
            "image/png": "[encoded data removed]",
            "text/plain": [
              "<Figure size 432x288 with 1 Axes>"
            ]
          },
          "metadata": {
            "tags": [],
            "needs_background": "light"
          }
        }
      ]
    },
    {
      "cell_type": "markdown",
      "metadata": {
        "id": "KS-AH1aj6QtP"
      },
      "source": [
        "##2) 주차별 댓글 분포"
      ]
    },
    {
      "cell_type": "code",
      "metadata": {
        "colab": {
          "base_uri": "https://localhost:8080/",
          "height": 353
        },
        "id": "e4Gu0K7sljC7",
        "outputId": "b07cefe5-bd4e-47a2-8489-e6d6923d9bcc"
      },
      "source": [
        "#  주차별 댓글 분포(주차별 누적x)\n",
        "review_in = review_concat['in_n_weeks'].value_counts()\n",
        "plt.title('Review_in_n_week')\n",
        "review_in.plot(kind = 'bar')\n",
        "plt.xlabel('Week')\n",
        "plt.ylabel('Quantity')\n",
        "plt.show()"
      ],
      "execution_count": null,
      "outputs": [
        {
          "output_type": "display_data",
          "data": {
            "image/png": "[encoded data removed]",
            "text/plain": [
              "<Figure size 432x288 with 1 Axes>"
            ]
          },
          "metadata": {
            "tags": [],
            "needs_background": "light"
          }
        }
      ]
    },
    {
      "cell_type": "markdown",
      "metadata": {
        "id": "Y4e6QzVM6UGg"
      },
      "source": [
        "##3) 영화별 댓글 분포"
      ]
    },
    {
      "cell_type": "code",
      "metadata": {
        "colab": {
          "base_uri": "https://localhost:8080/",
          "height": 336
        },
        "id": "w4In4x_5o8TX",
        "outputId": "a2994be1-c2a2-42d3-c659-b73d84353cb5"
      },
      "source": [
        "# 영화별 댓글 분포\n",
        "\n",
        "review_no = review_concat['Movie_code'].value_counts()\n",
        "#  분포\n",
        "\n",
        "plt.title('Number of Reviews by Movie')\n",
        "review_no.plot(kind = 'bar')\n",
        "plt.xlabel('Movie')\n",
        "plt.ylabel('Quantity')\n",
        "plt.show()"
      ],
      "execution_count": null,
      "outputs": [
        {
          "output_type": "display_data",
          "data": {
            "image/png": "[encoded data removed]",
            "text/plain": [
              "<Figure size 432x288 with 1 Axes>"
            ]
          },
          "metadata": {
            "tags": []
          }
        }
      ]
    },
    {
      "cell_type": "markdown",
      "metadata": {
        "id": "uFYw2VIJ6aXP"
      },
      "source": [
        "##4) 흥행한 영화 중 0점 리뷰 비율 뽑기"
      ]
    },
    {
      "cell_type": "code",
      "metadata": {
        "id": "_wo3f2dp9e8r"
      },
      "source": [
        "import matplotlib.pyplot as plt\n",
        "import seaborn as sns"
      ],
      "execution_count": null,
      "outputs": []
    },
    {
      "cell_type": "code",
      "metadata": {
        "colab": {
          "base_uri": "https://localhost:8080/",
          "height": 774
        },
        "id": "9xavAftO5_x-",
        "outputId": "f404560d-8824-400f-a1ff-310496cd9ee3"
      },
      "source": [
        "import pickle\n",
        "with open('/gdrive/MyDrive/movie_predict/df_with_reviewnum_and_star_week4','rb') as fr:\n",
        "  df = pickle.load(fr)\n",
        "df"
      ],
      "execution_count": null,
      "outputs": [
        {
          "output_type": "execute_result",
          "data": {
            "text/html": [
              "<div>\n",
              "<style scoped>\n",
              "    .dataframe tbody tr th:only-of-type {\n",
              "        vertical-align: middle;\n",
              "    }\n",
              "\n",
              "    .dataframe tbody tr th {\n",
              "        vertical-align: top;\n",
              "    }\n",
              "\n",
              "    .dataframe thead th {\n",
              "        text-align: right;\n",
              "    }\n",
              "</style>\n",
              "<table border=\"1\" class=\"dataframe\">\n",
              "  <thead>\n",
              "    <tr style=\"text-align: right;\">\n",
              "      <th></th>\n",
              "      <th>Movie_title</th>\n",
              "      <th>Rate</th>\n",
              "      <th>Rating_count</th>\n",
              "      <th>Run_time</th>\n",
              "      <th>Gross_USA</th>\n",
              "      <th>Cumulative Worldwide Gross</th>\n",
              "      <th>Released_date</th>\n",
              "      <th>Movie_code</th>\n",
              "      <th>imdb_url</th>\n",
              "      <th>Action</th>\n",
              "      <th>Adventure</th>\n",
              "      <th>Animation</th>\n",
              "      <th>Biography</th>\n",
              "      <th>Comedy</th>\n",
              "      <th>Crime</th>\n",
              "      <th>Documentary</th>\n",
              "      <th>Drama</th>\n",
              "      <th>Family</th>\n",
              "      <th>Fantasy</th>\n",
              "      <th>History</th>\n",
              "      <th>Horror</th>\n",
              "      <th>Music</th>\n",
              "      <th>Musical</th>\n",
              "      <th>Mystery</th>\n",
              "      <th>News</th>\n",
              "      <th>Reality-TV</th>\n",
              "      <th>Romance</th>\n",
              "      <th>Sci-Fi</th>\n",
              "      <th>Sport</th>\n",
              "      <th>Thriller</th>\n",
              "      <th>War</th>\n",
              "      <th>Western</th>\n",
              "      <th>English</th>\n",
              "      <th>Approved</th>\n",
              "      <th>12</th>\n",
              "      <th>NC-17</th>\n",
              "      <th>M</th>\n",
              "      <th>Unrated</th>\n",
              "      <th>G</th>\n",
              "      <th>TV-MA</th>\n",
              "      <th>TV-14</th>\n",
              "      <th>TV-Y7-FV</th>\n",
              "      <th>TV-G</th>\n",
              "      <th>PG</th>\n",
              "      <th>R</th>\n",
              "      <th>TV-Y</th>\n",
              "      <th>TV-PG</th>\n",
              "      <th>PG-13</th>\n",
              "      <th>TV-Y7</th>\n",
              "      <th>Big6_distributor</th>\n",
              "      <th>Opening Weekend sales</th>\n",
              "      <th>Opening Weekend date</th>\n",
              "      <th>star_winner</th>\n",
              "      <th>star_nominee</th>\n",
              "      <th>director_winner</th>\n",
              "      <th>director_nominee</th>\n",
              "      <th>writer_winner</th>\n",
              "      <th>writer_nominee</th>\n",
              "      <th>year</th>\n",
              "      <th>star_bf_released</th>\n",
              "      <th>star_in_1week</th>\n",
              "      <th>star_in_2weeks</th>\n",
              "      <th>star_in_3weeks</th>\n",
              "      <th>star_in_4weeks</th>\n",
              "      <th>after 4 weeks</th>\n",
              "      <th>rv_df_released_date</th>\n",
              "      <th>rv_in_1_week</th>\n",
              "      <th>rv_in_2_weeks</th>\n",
              "      <th>rv_in_3_weeks</th>\n",
              "      <th>rv_in_4_weeks</th>\n",
              "      <th>rv_after 4 weeks</th>\n",
              "    </tr>\n",
              "  </thead>\n",
              "  <tbody>\n",
              "    <tr>\n",
              "      <th>0</th>\n",
              "      <td>Next Friday (2000)</td>\n",
              "      <td>6.2</td>\n",
              "      <td>36365</td>\n",
              "      <td>98</td>\n",
              "      <td>57328603</td>\n",
              "      <td>59827328.0</td>\n",
              "      <td>12 January 2000</td>\n",
              "      <td>0195945</td>\n",
              "      <td>https://www.imdb.com/title/tt0195945/?ref_=fn_...</td>\n",
              "      <td>0.0</td>\n",
              "      <td>0.0</td>\n",
              "      <td>0.0</td>\n",
              "      <td>0.0</td>\n",
              "      <td>1.0</td>\n",
              "      <td>0.0</td>\n",
              "      <td>0.0</td>\n",
              "      <td>0.0</td>\n",
              "      <td>0.0</td>\n",
              "      <td>0.0</td>\n",
              "      <td>0.0</td>\n",
              "      <td>0.0</td>\n",
              "      <td>0.0</td>\n",
              "      <td>0.0</td>\n",
              "      <td>0.0</td>\n",
              "      <td>0.0</td>\n",
              "      <td>0.0</td>\n",
              "      <td>0.0</td>\n",
              "      <td>0.0</td>\n",
              "      <td>0.0</td>\n",
              "      <td>0.0</td>\n",
              "      <td>0.0</td>\n",
              "      <td>0.0</td>\n",
              "      <td>1.0</td>\n",
              "      <td>0.0</td>\n",
              "      <td>0.0</td>\n",
              "      <td>0.0</td>\n",
              "      <td>0.0</td>\n",
              "      <td>0.0</td>\n",
              "      <td>0.0</td>\n",
              "      <td>0.0</td>\n",
              "      <td>1.0</td>\n",
              "      <td>0.0</td>\n",
              "      <td>0.0</td>\n",
              "      <td>0.0</td>\n",
              "      <td>1.0</td>\n",
              "      <td>0.0</td>\n",
              "      <td>0.0</td>\n",
              "      <td>0.0</td>\n",
              "      <td>0.0</td>\n",
              "      <td>0</td>\n",
              "      <td>14465156</td>\n",
              "      <td>16 January 2000</td>\n",
              "      <td>0</td>\n",
              "      <td>0</td>\n",
              "      <td>0</td>\n",
              "      <td>0</td>\n",
              "      <td>0</td>\n",
              "      <td>0</td>\n",
              "      <td>2000</td>\n",
              "      <td>0.7500</td>\n",
              "      <td>0.5714</td>\n",
              "      <td>0.5000</td>\n",
              "      <td>0.4444</td>\n",
              "      <td>0.4000</td>\n",
              "      <td>0.3813</td>\n",
              "      <td>2.0</td>\n",
              "      <td>5.0</td>\n",
              "      <td>1.0</td>\n",
              "      <td>1.0</td>\n",
              "      <td>2.0</td>\n",
              "      <td>69.0</td>\n",
              "    </tr>\n",
              "    <tr>\n",
              "      <th>1</th>\n",
              "      <td>Supernova (2000)</td>\n",
              "      <td>4.9</td>\n",
              "      <td>16980</td>\n",
              "      <td>90</td>\n",
              "      <td>14230455</td>\n",
              "      <td>14828081.0</td>\n",
              "      <td>14 January 2000</td>\n",
              "      <td>0134983</td>\n",
              "      <td>https://www.imdb.com/title/tt0134983/?ref_=fn_...</td>\n",
              "      <td>0.0</td>\n",
              "      <td>0.0</td>\n",
              "      <td>0.0</td>\n",
              "      <td>0.0</td>\n",
              "      <td>0.0</td>\n",
              "      <td>0.0</td>\n",
              "      <td>0.0</td>\n",
              "      <td>0.0</td>\n",
              "      <td>0.0</td>\n",
              "      <td>0.0</td>\n",
              "      <td>0.0</td>\n",
              "      <td>1.0</td>\n",
              "      <td>0.0</td>\n",
              "      <td>0.0</td>\n",
              "      <td>0.0</td>\n",
              "      <td>0.0</td>\n",
              "      <td>0.0</td>\n",
              "      <td>0.0</td>\n",
              "      <td>1.0</td>\n",
              "      <td>0.0</td>\n",
              "      <td>1.0</td>\n",
              "      <td>0.0</td>\n",
              "      <td>0.0</td>\n",
              "      <td>1.0</td>\n",
              "      <td>0.0</td>\n",
              "      <td>0.0</td>\n",
              "      <td>0.0</td>\n",
              "      <td>0.0</td>\n",
              "      <td>0.0</td>\n",
              "      <td>0.0</td>\n",
              "      <td>0.0</td>\n",
              "      <td>0.0</td>\n",
              "      <td>0.0</td>\n",
              "      <td>0.0</td>\n",
              "      <td>0.0</td>\n",
              "      <td>1.0</td>\n",
              "      <td>0.0</td>\n",
              "      <td>0.0</td>\n",
              "      <td>1.0</td>\n",
              "      <td>0.0</td>\n",
              "      <td>0</td>\n",
              "      <td>5778639</td>\n",
              "      <td>16 January 2000</td>\n",
              "      <td>1</td>\n",
              "      <td>1</td>\n",
              "      <td>0</td>\n",
              "      <td>0</td>\n",
              "      <td>0</td>\n",
              "      <td>0</td>\n",
              "      <td>2000</td>\n",
              "      <td>0.3000</td>\n",
              "      <td>0.2739</td>\n",
              "      <td>0.2561</td>\n",
              "      <td>0.2603</td>\n",
              "      <td>0.2538</td>\n",
              "      <td>0.3490</td>\n",
              "      <td>10.0</td>\n",
              "      <td>36.0</td>\n",
              "      <td>11.0</td>\n",
              "      <td>6.0</td>\n",
              "      <td>2.0</td>\n",
              "      <td>188.0</td>\n",
              "    </tr>\n",
              "    <tr>\n",
              "      <th>2</th>\n",
              "      <td>My Dog Skip (2000)</td>\n",
              "      <td>7.0</td>\n",
              "      <td>19191</td>\n",
              "      <td>95</td>\n",
              "      <td>34134641</td>\n",
              "      <td>35547761.0</td>\n",
              "      <td>3 March 2000</td>\n",
              "      <td>0156812</td>\n",
              "      <td>https://www.imdb.com/title/tt0156812/?ref_=fn_...</td>\n",
              "      <td>0.0</td>\n",
              "      <td>0.0</td>\n",
              "      <td>0.0</td>\n",
              "      <td>0.0</td>\n",
              "      <td>1.0</td>\n",
              "      <td>0.0</td>\n",
              "      <td>0.0</td>\n",
              "      <td>1.0</td>\n",
              "      <td>1.0</td>\n",
              "      <td>0.0</td>\n",
              "      <td>0.0</td>\n",
              "      <td>0.0</td>\n",
              "      <td>0.0</td>\n",
              "      <td>0.0</td>\n",
              "      <td>0.0</td>\n",
              "      <td>0.0</td>\n",
              "      <td>0.0</td>\n",
              "      <td>0.0</td>\n",
              "      <td>0.0</td>\n",
              "      <td>0.0</td>\n",
              "      <td>0.0</td>\n",
              "      <td>0.0</td>\n",
              "      <td>0.0</td>\n",
              "      <td>1.0</td>\n",
              "      <td>0.0</td>\n",
              "      <td>0.0</td>\n",
              "      <td>0.0</td>\n",
              "      <td>0.0</td>\n",
              "      <td>0.0</td>\n",
              "      <td>0.0</td>\n",
              "      <td>0.0</td>\n",
              "      <td>0.0</td>\n",
              "      <td>0.0</td>\n",
              "      <td>0.0</td>\n",
              "      <td>1.0</td>\n",
              "      <td>0.0</td>\n",
              "      <td>0.0</td>\n",
              "      <td>1.0</td>\n",
              "      <td>0.0</td>\n",
              "      <td>0.0</td>\n",
              "      <td>1</td>\n",
              "      <td>56943</td>\n",
              "      <td>17 January 2000</td>\n",
              "      <td>0</td>\n",
              "      <td>1</td>\n",
              "      <td>0</td>\n",
              "      <td>0</td>\n",
              "      <td>0</td>\n",
              "      <td>0</td>\n",
              "      <td>2000</td>\n",
              "      <td>0.8125</td>\n",
              "      <td>0.6762</td>\n",
              "      <td>0.6852</td>\n",
              "      <td>0.7182</td>\n",
              "      <td>0.7206</td>\n",
              "      <td>0.6008</td>\n",
              "      <td>8.0</td>\n",
              "      <td>13.0</td>\n",
              "      <td>6.0</td>\n",
              "      <td>6.0</td>\n",
              "      <td>1.0</td>\n",
              "      <td>98.0</td>\n",
              "    </tr>\n",
              "    <tr>\n",
              "      <th>3</th>\n",
              "      <td>Down to You (2000)</td>\n",
              "      <td>5.0</td>\n",
              "      <td>14290</td>\n",
              "      <td>91</td>\n",
              "      <td>20069008</td>\n",
              "      <td>24419914.0</td>\n",
              "      <td>21 January 2000</td>\n",
              "      <td>0186975</td>\n",
              "      <td>https://www.imdb.com/title/tt0186975/?ref_=fn_...</td>\n",
              "      <td>0.0</td>\n",
              "      <td>0.0</td>\n",
              "      <td>0.0</td>\n",
              "      <td>0.0</td>\n",
              "      <td>1.0</td>\n",
              "      <td>0.0</td>\n",
              "      <td>0.0</td>\n",
              "      <td>1.0</td>\n",
              "      <td>0.0</td>\n",
              "      <td>0.0</td>\n",
              "      <td>0.0</td>\n",
              "      <td>0.0</td>\n",
              "      <td>0.0</td>\n",
              "      <td>0.0</td>\n",
              "      <td>0.0</td>\n",
              "      <td>0.0</td>\n",
              "      <td>0.0</td>\n",
              "      <td>1.0</td>\n",
              "      <td>0.0</td>\n",
              "      <td>0.0</td>\n",
              "      <td>0.0</td>\n",
              "      <td>0.0</td>\n",
              "      <td>0.0</td>\n",
              "      <td>1.0</td>\n",
              "      <td>0.0</td>\n",
              "      <td>0.0</td>\n",
              "      <td>0.0</td>\n",
              "      <td>0.0</td>\n",
              "      <td>0.0</td>\n",
              "      <td>0.0</td>\n",
              "      <td>0.0</td>\n",
              "      <td>0.0</td>\n",
              "      <td>0.0</td>\n",
              "      <td>0.0</td>\n",
              "      <td>0.0</td>\n",
              "      <td>0.0</td>\n",
              "      <td>0.0</td>\n",
              "      <td>0.0</td>\n",
              "      <td>1.0</td>\n",
              "      <td>0.0</td>\n",
              "      <td>0</td>\n",
              "      <td>7602507</td>\n",
              "      <td>23 January 2000</td>\n",
              "      <td>1</td>\n",
              "      <td>1</td>\n",
              "      <td>0</td>\n",
              "      <td>0</td>\n",
              "      <td>0</td>\n",
              "      <td>0</td>\n",
              "      <td>2000</td>\n",
              "      <td>0.4400</td>\n",
              "      <td>0.2880</td>\n",
              "      <td>0.2583</td>\n",
              "      <td>0.2487</td>\n",
              "      <td>0.2500</td>\n",
              "      <td>0.2890</td>\n",
              "      <td>5.0</td>\n",
              "      <td>20.0</td>\n",
              "      <td>11.0</td>\n",
              "      <td>3.0</td>\n",
              "      <td>1.0</td>\n",
              "      <td>114.0</td>\n",
              "    </tr>\n",
              "    <tr>\n",
              "      <th>4</th>\n",
              "      <td>Isn't She Great (2000)</td>\n",
              "      <td>5.4</td>\n",
              "      <td>2254</td>\n",
              "      <td>95</td>\n",
              "      <td>2962465</td>\n",
              "      <td>3003296.0</td>\n",
              "      <td>28 January 2000</td>\n",
              "      <td>0141399</td>\n",
              "      <td>https://www.imdb.com/title/tt0141399/?ref_=fn_...</td>\n",
              "      <td>0.0</td>\n",
              "      <td>0.0</td>\n",
              "      <td>0.0</td>\n",
              "      <td>1.0</td>\n",
              "      <td>1.0</td>\n",
              "      <td>0.0</td>\n",
              "      <td>0.0</td>\n",
              "      <td>1.0</td>\n",
              "      <td>0.0</td>\n",
              "      <td>0.0</td>\n",
              "      <td>0.0</td>\n",
              "      <td>0.0</td>\n",
              "      <td>0.0</td>\n",
              "      <td>0.0</td>\n",
              "      <td>0.0</td>\n",
              "      <td>0.0</td>\n",
              "      <td>0.0</td>\n",
              "      <td>0.0</td>\n",
              "      <td>0.0</td>\n",
              "      <td>0.0</td>\n",
              "      <td>0.0</td>\n",
              "      <td>0.0</td>\n",
              "      <td>0.0</td>\n",
              "      <td>1.0</td>\n",
              "      <td>0.0</td>\n",
              "      <td>0.0</td>\n",
              "      <td>0.0</td>\n",
              "      <td>0.0</td>\n",
              "      <td>0.0</td>\n",
              "      <td>0.0</td>\n",
              "      <td>0.0</td>\n",
              "      <td>0.0</td>\n",
              "      <td>0.0</td>\n",
              "      <td>0.0</td>\n",
              "      <td>0.0</td>\n",
              "      <td>1.0</td>\n",
              "      <td>0.0</td>\n",
              "      <td>0.0</td>\n",
              "      <td>0.0</td>\n",
              "      <td>0.0</td>\n",
              "      <td>0</td>\n",
              "      <td>1368705</td>\n",
              "      <td>30 January 2000</td>\n",
              "      <td>1</td>\n",
              "      <td>1</td>\n",
              "      <td>0</td>\n",
              "      <td>0</td>\n",
              "      <td>0</td>\n",
              "      <td>0</td>\n",
              "      <td>2000</td>\n",
              "      <td>0.0000</td>\n",
              "      <td>0.2500</td>\n",
              "      <td>0.3125</td>\n",
              "      <td>0.3800</td>\n",
              "      <td>0.3800</td>\n",
              "      <td>0.2982</td>\n",
              "      <td>1.0</td>\n",
              "      <td>5.0</td>\n",
              "      <td>2.0</td>\n",
              "      <td>2.0</td>\n",
              "      <td>0.0</td>\n",
              "      <td>47.0</td>\n",
              "    </tr>\n",
              "    <tr>\n",
              "      <th>...</th>\n",
              "      <td>...</td>\n",
              "      <td>...</td>\n",
              "      <td>...</td>\n",
              "      <td>...</td>\n",
              "      <td>...</td>\n",
              "      <td>...</td>\n",
              "      <td>...</td>\n",
              "      <td>...</td>\n",
              "      <td>...</td>\n",
              "      <td>...</td>\n",
              "      <td>...</td>\n",
              "      <td>...</td>\n",
              "      <td>...</td>\n",
              "      <td>...</td>\n",
              "      <td>...</td>\n",
              "      <td>...</td>\n",
              "      <td>...</td>\n",
              "      <td>...</td>\n",
              "      <td>...</td>\n",
              "      <td>...</td>\n",
              "      <td>...</td>\n",
              "      <td>...</td>\n",
              "      <td>...</td>\n",
              "      <td>...</td>\n",
              "      <td>...</td>\n",
              "      <td>...</td>\n",
              "      <td>...</td>\n",
              "      <td>...</td>\n",
              "      <td>...</td>\n",
              "      <td>...</td>\n",
              "      <td>...</td>\n",
              "      <td>...</td>\n",
              "      <td>...</td>\n",
              "      <td>...</td>\n",
              "      <td>...</td>\n",
              "      <td>...</td>\n",
              "      <td>...</td>\n",
              "      <td>...</td>\n",
              "      <td>...</td>\n",
              "      <td>...</td>\n",
              "      <td>...</td>\n",
              "      <td>...</td>\n",
              "      <td>...</td>\n",
              "      <td>...</td>\n",
              "      <td>...</td>\n",
              "      <td>...</td>\n",
              "      <td>...</td>\n",
              "      <td>...</td>\n",
              "      <td>...</td>\n",
              "      <td>...</td>\n",
              "      <td>...</td>\n",
              "      <td>...</td>\n",
              "      <td>...</td>\n",
              "      <td>...</td>\n",
              "      <td>...</td>\n",
              "      <td>...</td>\n",
              "      <td>...</td>\n",
              "      <td>...</td>\n",
              "      <td>...</td>\n",
              "      <td>...</td>\n",
              "      <td>...</td>\n",
              "      <td>...</td>\n",
              "      <td>...</td>\n",
              "      <td>...</td>\n",
              "      <td>...</td>\n",
              "      <td>...</td>\n",
              "      <td>...</td>\n",
              "      <td>...</td>\n",
              "      <td>...</td>\n",
              "      <td>...</td>\n",
              "      <td>...</td>\n",
              "    </tr>\n",
              "    <tr>\n",
              "      <th>7894</th>\n",
              "      <td>Aus dem Nichts (2017)</td>\n",
              "      <td>7.1</td>\n",
              "      <td>28351</td>\n",
              "      <td>106</td>\n",
              "      <td>321011</td>\n",
              "      <td>5104991.0</td>\n",
              "      <td>27 December 2017</td>\n",
              "      <td>5723272</td>\n",
              "      <td>https://www.imdb.com/title/tt5723272/?ref_=fn_...</td>\n",
              "      <td>0.0</td>\n",
              "      <td>0.0</td>\n",
              "      <td>0.0</td>\n",
              "      <td>0.0</td>\n",
              "      <td>0.0</td>\n",
              "      <td>1.0</td>\n",
              "      <td>0.0</td>\n",
              "      <td>1.0</td>\n",
              "      <td>0.0</td>\n",
              "      <td>0.0</td>\n",
              "      <td>0.0</td>\n",
              "      <td>0.0</td>\n",
              "      <td>0.0</td>\n",
              "      <td>0.0</td>\n",
              "      <td>0.0</td>\n",
              "      <td>0.0</td>\n",
              "      <td>0.0</td>\n",
              "      <td>0.0</td>\n",
              "      <td>0.0</td>\n",
              "      <td>0.0</td>\n",
              "      <td>1.0</td>\n",
              "      <td>0.0</td>\n",
              "      <td>0.0</td>\n",
              "      <td>1.0</td>\n",
              "      <td>0.0</td>\n",
              "      <td>0.0</td>\n",
              "      <td>0.0</td>\n",
              "      <td>0.0</td>\n",
              "      <td>0.0</td>\n",
              "      <td>0.0</td>\n",
              "      <td>0.0</td>\n",
              "      <td>0.0</td>\n",
              "      <td>0.0</td>\n",
              "      <td>0.0</td>\n",
              "      <td>0.0</td>\n",
              "      <td>1.0</td>\n",
              "      <td>0.0</td>\n",
              "      <td>0.0</td>\n",
              "      <td>0.0</td>\n",
              "      <td>0.0</td>\n",
              "      <td>0</td>\n",
              "      <td>10455</td>\n",
              "      <td>31 December 2017</td>\n",
              "      <td>0</td>\n",
              "      <td>0</td>\n",
              "      <td>0</td>\n",
              "      <td>0</td>\n",
              "      <td>0</td>\n",
              "      <td>0</td>\n",
              "      <td>2017</td>\n",
              "      <td>0.7667</td>\n",
              "      <td>0.8000</td>\n",
              "      <td>0.8000</td>\n",
              "      <td>0.8200</td>\n",
              "      <td>0.8200</td>\n",
              "      <td>0.5875</td>\n",
              "      <td>3.0</td>\n",
              "      <td>1.0</td>\n",
              "      <td>0.0</td>\n",
              "      <td>1.0</td>\n",
              "      <td>0.0</td>\n",
              "      <td>51.0</td>\n",
              "    </tr>\n",
              "    <tr>\n",
              "      <th>7895</th>\n",
              "      <td>Qian ren 3: Zai jian qian ren (2017)</td>\n",
              "      <td>5.6</td>\n",
              "      <td>387</td>\n",
              "      <td>120</td>\n",
              "      <td>838959</td>\n",
              "      <td>307592427.0</td>\n",
              "      <td>29 December 2017</td>\n",
              "      <td>7830888</td>\n",
              "      <td>https://www.imdb.com/title/tt7830888/?ref_=fn_...</td>\n",
              "      <td>0.0</td>\n",
              "      <td>0.0</td>\n",
              "      <td>0.0</td>\n",
              "      <td>0.0</td>\n",
              "      <td>1.0</td>\n",
              "      <td>0.0</td>\n",
              "      <td>0.0</td>\n",
              "      <td>0.0</td>\n",
              "      <td>0.0</td>\n",
              "      <td>0.0</td>\n",
              "      <td>0.0</td>\n",
              "      <td>0.0</td>\n",
              "      <td>0.0</td>\n",
              "      <td>0.0</td>\n",
              "      <td>0.0</td>\n",
              "      <td>0.0</td>\n",
              "      <td>0.0</td>\n",
              "      <td>1.0</td>\n",
              "      <td>0.0</td>\n",
              "      <td>0.0</td>\n",
              "      <td>0.0</td>\n",
              "      <td>0.0</td>\n",
              "      <td>0.0</td>\n",
              "      <td>0.0</td>\n",
              "      <td>0.0</td>\n",
              "      <td>0.0</td>\n",
              "      <td>0.0</td>\n",
              "      <td>0.0</td>\n",
              "      <td>0.0</td>\n",
              "      <td>0.0</td>\n",
              "      <td>0.0</td>\n",
              "      <td>0.0</td>\n",
              "      <td>0.0</td>\n",
              "      <td>0.0</td>\n",
              "      <td>0.0</td>\n",
              "      <td>0.0</td>\n",
              "      <td>0.0</td>\n",
              "      <td>0.0</td>\n",
              "      <td>1.0</td>\n",
              "      <td>0.0</td>\n",
              "      <td>0</td>\n",
              "      <td>125291</td>\n",
              "      <td>31 December 2017</td>\n",
              "      <td>0</td>\n",
              "      <td>0</td>\n",
              "      <td>0</td>\n",
              "      <td>0</td>\n",
              "      <td>0</td>\n",
              "      <td>0</td>\n",
              "      <td>2017</td>\n",
              "      <td>NaN</td>\n",
              "      <td>NaN</td>\n",
              "      <td>NaN</td>\n",
              "      <td>NaN</td>\n",
              "      <td>NaN</td>\n",
              "      <td>0.0000</td>\n",
              "      <td>0.0</td>\n",
              "      <td>0.0</td>\n",
              "      <td>0.0</td>\n",
              "      <td>0.0</td>\n",
              "      <td>0.0</td>\n",
              "      <td>1.0</td>\n",
              "    </tr>\n",
              "    <tr>\n",
              "      <th>7896</th>\n",
              "      <td>Film Stars Don't Die in Liverpool (2017)</td>\n",
              "      <td>6.7</td>\n",
              "      <td>8557</td>\n",
              "      <td>105</td>\n",
              "      <td>1026124</td>\n",
              "      <td>4047917.0</td>\n",
              "      <td>29 December 2017</td>\n",
              "      <td>5711148</td>\n",
              "      <td>https://www.imdb.com/title/tt5711148/?ref_=fn_...</td>\n",
              "      <td>0.0</td>\n",
              "      <td>0.0</td>\n",
              "      <td>0.0</td>\n",
              "      <td>1.0</td>\n",
              "      <td>0.0</td>\n",
              "      <td>0.0</td>\n",
              "      <td>0.0</td>\n",
              "      <td>1.0</td>\n",
              "      <td>0.0</td>\n",
              "      <td>0.0</td>\n",
              "      <td>0.0</td>\n",
              "      <td>0.0</td>\n",
              "      <td>0.0</td>\n",
              "      <td>0.0</td>\n",
              "      <td>0.0</td>\n",
              "      <td>0.0</td>\n",
              "      <td>0.0</td>\n",
              "      <td>1.0</td>\n",
              "      <td>0.0</td>\n",
              "      <td>0.0</td>\n",
              "      <td>0.0</td>\n",
              "      <td>0.0</td>\n",
              "      <td>0.0</td>\n",
              "      <td>1.0</td>\n",
              "      <td>0.0</td>\n",
              "      <td>0.0</td>\n",
              "      <td>0.0</td>\n",
              "      <td>0.0</td>\n",
              "      <td>0.0</td>\n",
              "      <td>0.0</td>\n",
              "      <td>0.0</td>\n",
              "      <td>0.0</td>\n",
              "      <td>0.0</td>\n",
              "      <td>0.0</td>\n",
              "      <td>0.0</td>\n",
              "      <td>1.0</td>\n",
              "      <td>0.0</td>\n",
              "      <td>0.0</td>\n",
              "      <td>0.0</td>\n",
              "      <td>0.0</td>\n",
              "      <td>0</td>\n",
              "      <td>36048</td>\n",
              "      <td>31 December 2017</td>\n",
              "      <td>1</td>\n",
              "      <td>1</td>\n",
              "      <td>0</td>\n",
              "      <td>0</td>\n",
              "      <td>0</td>\n",
              "      <td>0</td>\n",
              "      <td>2017</td>\n",
              "      <td>0.6500</td>\n",
              "      <td>0.7250</td>\n",
              "      <td>0.6333</td>\n",
              "      <td>0.6333</td>\n",
              "      <td>0.6429</td>\n",
              "      <td>0.6508</td>\n",
              "      <td>2.0</td>\n",
              "      <td>2.0</td>\n",
              "      <td>2.0</td>\n",
              "      <td>0.0</td>\n",
              "      <td>1.0</td>\n",
              "      <td>52.0</td>\n",
              "    </tr>\n",
              "    <tr>\n",
              "      <th>7897</th>\n",
              "      <td>Bar Bahar (2016)</td>\n",
              "      <td>7.2</td>\n",
              "      <td>2516</td>\n",
              "      <td>103</td>\n",
              "      <td>107977</td>\n",
              "      <td>1679952.0</td>\n",
              "      <td>10 November 2017</td>\n",
              "      <td>5974388</td>\n",
              "      <td>https://www.imdb.com/title/tt5974388/?ref_=fn_...</td>\n",
              "      <td>0.0</td>\n",
              "      <td>0.0</td>\n",
              "      <td>0.0</td>\n",
              "      <td>0.0</td>\n",
              "      <td>0.0</td>\n",
              "      <td>0.0</td>\n",
              "      <td>0.0</td>\n",
              "      <td>1.0</td>\n",
              "      <td>0.0</td>\n",
              "      <td>0.0</td>\n",
              "      <td>0.0</td>\n",
              "      <td>0.0</td>\n",
              "      <td>0.0</td>\n",
              "      <td>0.0</td>\n",
              "      <td>0.0</td>\n",
              "      <td>0.0</td>\n",
              "      <td>0.0</td>\n",
              "      <td>0.0</td>\n",
              "      <td>0.0</td>\n",
              "      <td>0.0</td>\n",
              "      <td>0.0</td>\n",
              "      <td>0.0</td>\n",
              "      <td>0.0</td>\n",
              "      <td>0.0</td>\n",
              "      <td>0.0</td>\n",
              "      <td>0.0</td>\n",
              "      <td>0.0</td>\n",
              "      <td>0.0</td>\n",
              "      <td>0.0</td>\n",
              "      <td>0.0</td>\n",
              "      <td>0.0</td>\n",
              "      <td>0.0</td>\n",
              "      <td>0.0</td>\n",
              "      <td>0.0</td>\n",
              "      <td>0.0</td>\n",
              "      <td>1.0</td>\n",
              "      <td>0.0</td>\n",
              "      <td>0.0</td>\n",
              "      <td>0.0</td>\n",
              "      <td>0.0</td>\n",
              "      <td>0</td>\n",
              "      <td>5888</td>\n",
              "      <td>7 January 2018</td>\n",
              "      <td>0</td>\n",
              "      <td>0</td>\n",
              "      <td>0</td>\n",
              "      <td>0</td>\n",
              "      <td>0</td>\n",
              "      <td>0</td>\n",
              "      <td>2017</td>\n",
              "      <td>0.8667</td>\n",
              "      <td>0.8857</td>\n",
              "      <td>0.8857</td>\n",
              "      <td>0.8857</td>\n",
              "      <td>0.8857</td>\n",
              "      <td>0.8250</td>\n",
              "      <td>6.0</td>\n",
              "      <td>1.0</td>\n",
              "      <td>0.0</td>\n",
              "      <td>0.0</td>\n",
              "      <td>0.0</td>\n",
              "      <td>5.0</td>\n",
              "    </tr>\n",
              "    <tr>\n",
              "      <th>7898</th>\n",
              "      <td>Made Me Do It (2017)</td>\n",
              "      <td>6.2</td>\n",
              "      <td>41</td>\n",
              "      <td>90</td>\n",
              "      <td>11151</td>\n",
              "      <td>11151.0</td>\n",
              "      <td>29 September 2017</td>\n",
              "      <td>3630918</td>\n",
              "      <td>https://www.imdb.com/title/tt3630918/?ref_=fn_...</td>\n",
              "      <td>0.0</td>\n",
              "      <td>0.0</td>\n",
              "      <td>0.0</td>\n",
              "      <td>0.0</td>\n",
              "      <td>0.0</td>\n",
              "      <td>0.0</td>\n",
              "      <td>0.0</td>\n",
              "      <td>1.0</td>\n",
              "      <td>0.0</td>\n",
              "      <td>1.0</td>\n",
              "      <td>0.0</td>\n",
              "      <td>1.0</td>\n",
              "      <td>0.0</td>\n",
              "      <td>0.0</td>\n",
              "      <td>0.0</td>\n",
              "      <td>0.0</td>\n",
              "      <td>0.0</td>\n",
              "      <td>0.0</td>\n",
              "      <td>0.0</td>\n",
              "      <td>0.0</td>\n",
              "      <td>0.0</td>\n",
              "      <td>0.0</td>\n",
              "      <td>0.0</td>\n",
              "      <td>1.0</td>\n",
              "      <td>0.0</td>\n",
              "      <td>0.0</td>\n",
              "      <td>0.0</td>\n",
              "      <td>0.0</td>\n",
              "      <td>1.0</td>\n",
              "      <td>0.0</td>\n",
              "      <td>0.0</td>\n",
              "      <td>0.0</td>\n",
              "      <td>0.0</td>\n",
              "      <td>0.0</td>\n",
              "      <td>0.0</td>\n",
              "      <td>0.0</td>\n",
              "      <td>0.0</td>\n",
              "      <td>0.0</td>\n",
              "      <td>0.0</td>\n",
              "      <td>0.0</td>\n",
              "      <td>0</td>\n",
              "      <td>3842</td>\n",
              "      <td>14 April 2019</td>\n",
              "      <td>0</td>\n",
              "      <td>0</td>\n",
              "      <td>0</td>\n",
              "      <td>0</td>\n",
              "      <td>0</td>\n",
              "      <td>0</td>\n",
              "      <td>2017</td>\n",
              "      <td>NaN</td>\n",
              "      <td>NaN</td>\n",
              "      <td>NaN</td>\n",
              "      <td>NaN</td>\n",
              "      <td>NaN</td>\n",
              "      <td>0.5667</td>\n",
              "      <td>0.0</td>\n",
              "      <td>0.0</td>\n",
              "      <td>0.0</td>\n",
              "      <td>0.0</td>\n",
              "      <td>0.0</td>\n",
              "      <td>3.0</td>\n",
              "    </tr>\n",
              "  </tbody>\n",
              "</table>\n",
              "<p>7899 rows × 71 columns</p>\n",
              "</div>"
            ],
            "text/plain": [
              "                                   Movie_title  ...  rv_after 4 weeks\n",
              "0                           Next Friday (2000)  ...              69.0\n",
              "1                             Supernova (2000)  ...             188.0\n",
              "2                           My Dog Skip (2000)  ...              98.0\n",
              "3                           Down to You (2000)  ...             114.0\n",
              "4                       Isn't She Great (2000)  ...              47.0\n",
              "...                                        ...  ...               ...\n",
              "7894                     Aus dem Nichts (2017)  ...              51.0\n",
              "7895      Qian ren 3: Zai jian qian ren (2017)  ...               1.0\n",
              "7896  Film Stars Don't Die in Liverpool (2017)  ...              52.0\n",
              "7897                          Bar Bahar (2016)  ...               5.0\n",
              "7898                      Made Me Do It (2017)  ...               3.0\n",
              "\n",
              "[7899 rows x 71 columns]"
            ]
          },
          "metadata": {
            "tags": []
          },
          "execution_count": 6
        }
      ]
    },
    {
      "cell_type": "markdown",
      "metadata": {
        "id": "sar39cA5CMeO"
      },
      "source": [
        "GrossUSA분포 확인"
      ]
    },
    {
      "cell_type": "code",
      "metadata": {
        "colab": {
          "base_uri": "https://localhost:8080/",
          "height": 386
        },
        "id": "Ckaiwjic8HnT",
        "outputId": "1ecf9602-7f01-4f69-edc0-5baf51a11a4e"
      },
      "source": [
        "sns.distplot(df['Gross_USA'], kde=True, rug=True)\n",
        "plt.title(\"Gross USA Dist Plot\")\n",
        "plt.xlim(-10000000,200000000)\n",
        "# plt.ylim(0,0.4)\n",
        "plt.show()"
      ],
      "execution_count": null,
      "outputs": [
        {
          "output_type": "stream",
          "text": [
            "/usr/local/lib/python3.7/dist-packages/seaborn/distributions.py:2557: FutureWarning: `distplot` is a deprecated function and will be removed in a future version. Please adapt your code to use either `displot` (a figure-level function with similar flexibility) or `histplot` (an axes-level function for histograms).\n",
            "  warnings.warn(msg, FutureWarning)\n",
            "/usr/local/lib/python3.7/dist-packages/seaborn/distributions.py:2056: FutureWarning: The `axis` variable is no longer used and will be removed. Instead, assign variables directly to `x` or `y`.\n",
            "  warnings.warn(msg, FutureWarning)\n"
          ],
          "name": "stderr"
        },
        {
          "output_type": "display_data",
          "data": {
            "image/png": "[encoded data removed]",
            "text/plain": [
              "<Figure size 432x288 with 1 Axes>"
            ]
          },
          "metadata": {
            "tags": [],
            "needs_background": "light"
          }
        }
      ]
    },
    {
      "cell_type": "code",
      "metadata": {
        "colab": {
          "base_uri": "https://localhost:8080/",
          "height": 296
        },
        "id": "elrwJN9J8RfM",
        "outputId": "59cf3020-431e-4ef4-a6c0-8c1db447a505"
      },
      "source": [
        "plt.hist(df['Gross_USA'],bins = 2000);\n",
        "plt.title('Histogram of Gross_USA');\n",
        "plt.xlim(-100000000,200000000)\n",
        "plt.ylim(0,300)\n",
        "\n",
        "plt.xlabel('movies by Gross_USA')\n",
        "plt.ylabel('number of movies')\n",
        "plt.show()"
      ],
      "execution_count": null,
      "outputs": [
        {
          "output_type": "display_data",
          "data": {
            "image/png": "[encoded data removed]",
            "text/plain": [
              "<Figure size 432x288 with 1 Axes>"
            ]
          },
          "metadata": {
            "tags": [],
            "needs_background": "light"
          }
        }
      ]
    },
    {
      "cell_type": "markdown",
      "metadata": {
        "id": "dZJYpWVJDSDo"
      },
      "source": [
        "\"흥행\"한 영화 (GrossUSA가 평균보다 높은)"
      ]
    },
    {
      "cell_type": "code",
      "metadata": {
        "id": "f6asXCGoAYCA"
      },
      "source": [
        "succ_movie = df[df['Gross_USA']>df['Gross_USA'].mean()]\n",
        "succ_movie_codes = succ_movie['Movie_code'].tolist()\n",
        "#df['Gross_USA'].std()"
      ],
      "execution_count": null,
      "outputs": []
    },
    {
      "cell_type": "code",
      "metadata": {
        "id": "yIojAcMtAqy9"
      },
      "source": [
        "def isthe_moviecode(x):\n",
        "  if x in succ_movie_codes:\n",
        "    return True\n",
        "  else:\n",
        "    return False\n",
        "succ_review = review_concat['Movie_code'].apply(lambda x: isthe_moviecode(x))"
      ],
      "execution_count": null,
      "outputs": []
    },
    {
      "cell_type": "code",
      "metadata": {
        "colab": {
          "base_uri": "https://localhost:8080/"
        },
        "id": "OduvWd1dDgdq",
        "outputId": "a06f6188-7cc0-497c-f4cd-744f1cc2be1c"
      },
      "source": [
        "#boolean\n",
        "succ_review"
      ],
      "execution_count": null,
      "outputs": [
        {
          "output_type": "execute_result",
          "data": {
            "text/plain": [
              "0           True\n",
              "1           True\n",
              "2           True\n",
              "3           True\n",
              "4           True\n",
              "           ...  \n",
              "1363406    False\n",
              "1363407    False\n",
              "1363408    False\n",
              "1363409    False\n",
              "1363410    False\n",
              "Name: Movie_code, Length: 1363411, dtype: bool"
            ]
          },
          "metadata": {
            "tags": []
          },
          "execution_count": 58
        }
      ]
    },
    {
      "cell_type": "code",
      "metadata": {
        "colab": {
          "base_uri": "https://localhost:8080/",
          "height": 939
        },
        "id": "jaa6y1U4E38r",
        "outputId": "aa4c606e-1ad6-447d-89a6-aa2c099e686f"
      },
      "source": [
        "#성공한 영화 리뷰만.\n",
        "review_concat[succ_review]"
      ],
      "execution_count": null,
      "outputs": [
        {
          "output_type": "execute_result",
          "data": {
            "text/html": [
              "<div>\n",
              "<style scoped>\n",
              "    .dataframe tbody tr th:only-of-type {\n",
              "        vertical-align: middle;\n",
              "    }\n",
              "\n",
              "    .dataframe tbody tr th {\n",
              "        vertical-align: top;\n",
              "    }\n",
              "\n",
              "    .dataframe thead th {\n",
              "        text-align: right;\n",
              "    }\n",
              "</style>\n",
              "<table border=\"1\" class=\"dataframe\">\n",
              "  <thead>\n",
              "    <tr style=\"text-align: right;\">\n",
              "      <th></th>\n",
              "      <th>header</th>\n",
              "      <th>date</th>\n",
              "      <th>contents</th>\n",
              "      <th>star</th>\n",
              "      <th>helpful</th>\n",
              "      <th>released_date</th>\n",
              "      <th>1_week_later</th>\n",
              "      <th>2_weeks_later</th>\n",
              "      <th>3_weeks_later</th>\n",
              "      <th>in_n_weeks</th>\n",
              "      <th>Movie_code</th>\n",
              "    </tr>\n",
              "  </thead>\n",
              "  <tbody>\n",
              "    <tr>\n",
              "      <th>0</th>\n",
              "      <td>Actually quite funny without Chris Tucker\\n</td>\n",
              "      <td>2002-03-16</td>\n",
              "      <td>Next Friday is actually pretty funny even thou...</td>\n",
              "      <td>1.0</td>\n",
              "      <td>['17 out of 25']</td>\n",
              "      <td>2000-01-12</td>\n",
              "      <td>2000-01-19</td>\n",
              "      <td>2000-01-26</td>\n",
              "      <td>2000-02-02</td>\n",
              "      <td>after 3 weeks</td>\n",
              "      <td>0195945</td>\n",
              "    </tr>\n",
              "    <tr>\n",
              "      <th>1</th>\n",
              "      <td>Close, but not quite there.\\n</td>\n",
              "      <td>2000-06-05</td>\n",
              "      <td>You have to give Ice Cube credit. He tried to ...</td>\n",
              "      <td>0.0</td>\n",
              "      <td>['9 out of 13']</td>\n",
              "      <td>2000-01-12</td>\n",
              "      <td>2000-01-19</td>\n",
              "      <td>2000-01-26</td>\n",
              "      <td>2000-02-02</td>\n",
              "      <td>after 3 weeks</td>\n",
              "      <td>0195945</td>\n",
              "    </tr>\n",
              "    <tr>\n",
              "      <th>2</th>\n",
              "      <td>Hope the crackakillers pay well, or its back ...</td>\n",
              "      <td>2000-06-19</td>\n",
              "      <td>First off: Why is Craig smoking? Why is Craig ...</td>\n",
              "      <td>0.0</td>\n",
              "      <td>['9 out of 14']</td>\n",
              "      <td>2000-01-12</td>\n",
              "      <td>2000-01-19</td>\n",
              "      <td>2000-01-26</td>\n",
              "      <td>2000-02-02</td>\n",
              "      <td>after 3 weeks</td>\n",
              "      <td>0195945</td>\n",
              "    </tr>\n",
              "    <tr>\n",
              "      <th>3</th>\n",
              "      <td>Some good belly laughs\\n</td>\n",
              "      <td>2000-04-11</td>\n",
              "      <td>It is not easy to sit through the whole movie ...</td>\n",
              "      <td>0.7</td>\n",
              "      <td>['4 out of 5']</td>\n",
              "      <td>2000-01-12</td>\n",
              "      <td>2000-01-19</td>\n",
              "      <td>2000-01-26</td>\n",
              "      <td>2000-02-02</td>\n",
              "      <td>after 3 weeks</td>\n",
              "      <td>0195945</td>\n",
              "    </tr>\n",
              "    <tr>\n",
              "      <th>4</th>\n",
              "      <td>I loved that movie\\n</td>\n",
              "      <td>2000-07-25</td>\n",
              "      <td>Next Friday is a movie i enjoyed to see all 4 ...</td>\n",
              "      <td>1.0</td>\n",
              "      <td>['5 out of 7']</td>\n",
              "      <td>2000-01-12</td>\n",
              "      <td>2000-01-19</td>\n",
              "      <td>2000-01-26</td>\n",
              "      <td>2000-02-02</td>\n",
              "      <td>after 3 weeks</td>\n",
              "      <td>0195945</td>\n",
              "    </tr>\n",
              "    <tr>\n",
              "      <th>...</th>\n",
              "      <td>...</td>\n",
              "      <td>...</td>\n",
              "      <td>...</td>\n",
              "      <td>...</td>\n",
              "      <td>...</td>\n",
              "      <td>...</td>\n",
              "      <td>...</td>\n",
              "      <td>...</td>\n",
              "      <td>...</td>\n",
              "      <td>...</td>\n",
              "      <td>...</td>\n",
              "    </tr>\n",
              "    <tr>\n",
              "      <th>1363275</th>\n",
              "      <td>All The Money In The World-60%\\n</td>\n",
              "      <td>2018-02-06</td>\n",
              "      <td>In the year 1973, in Italia a sixteen year old...</td>\n",
              "      <td>0.6</td>\n",
              "      <td>['0 out of 3']</td>\n",
              "      <td>2017-12-25</td>\n",
              "      <td>2018-01-01</td>\n",
              "      <td>2018-01-08</td>\n",
              "      <td>2018-01-15</td>\n",
              "      <td>after 3 weeks</td>\n",
              "      <td>5294550</td>\n",
              "    </tr>\n",
              "    <tr>\n",
              "      <th>1363276</th>\n",
              "      <td>All The Money In The World ***\\n</td>\n",
              "      <td>2018-01-30</td>\n",
              "      <td>Ridley Scott directs this true story of how bi...</td>\n",
              "      <td>0.0</td>\n",
              "      <td>['0 out of 3']</td>\n",
              "      <td>2017-12-25</td>\n",
              "      <td>2018-01-01</td>\n",
              "      <td>2018-01-08</td>\n",
              "      <td>2018-01-15</td>\n",
              "      <td>after 3 weeks</td>\n",
              "      <td>5294550</td>\n",
              "    </tr>\n",
              "    <tr>\n",
              "      <th>1363277</th>\n",
              "      <td>A slow burn thriller with a good message.\\n</td>\n",
              "      <td>2018-01-20</td>\n",
              "      <td>All the Money in the World is a movie directed...</td>\n",
              "      <td>0.7</td>\n",
              "      <td>['0 out of 3']</td>\n",
              "      <td>2017-12-25</td>\n",
              "      <td>2018-01-01</td>\n",
              "      <td>2018-01-08</td>\n",
              "      <td>2018-01-15</td>\n",
              "      <td>after 3 weeks</td>\n",
              "      <td>5294550</td>\n",
              "    </tr>\n",
              "    <tr>\n",
              "      <th>1363278</th>\n",
              "      <td>Mark Wahlberg is PERFECT\\n</td>\n",
              "      <td>2018-01-15</td>\n",
              "      <td>Paul Newman, Bruce Willis, Tom Cruise, Ryan Go...</td>\n",
              "      <td>1.0</td>\n",
              "      <td>['0 out of 7']</td>\n",
              "      <td>2017-12-25</td>\n",
              "      <td>2018-01-01</td>\n",
              "      <td>2018-01-08</td>\n",
              "      <td>2018-01-15</td>\n",
              "      <td>3</td>\n",
              "      <td>5294550</td>\n",
              "    </tr>\n",
              "    <tr>\n",
              "      <th>1363279</th>\n",
              "      <td>A film of power and greed that is against lov...</td>\n",
              "      <td>2018-01-04</td>\n",
              "      <td>\"All the Money in the World\" is based on an ac...</td>\n",
              "      <td>0.6</td>\n",
              "      <td>['0 out of 4']</td>\n",
              "      <td>2017-12-25</td>\n",
              "      <td>2018-01-01</td>\n",
              "      <td>2018-01-08</td>\n",
              "      <td>2018-01-15</td>\n",
              "      <td>2</td>\n",
              "      <td>5294550</td>\n",
              "    </tr>\n",
              "  </tbody>\n",
              "</table>\n",
              "<p>900040 rows × 11 columns</p>\n",
              "</div>"
            ],
            "text/plain": [
              "                                                    header  ... Movie_code\n",
              "0              Actually quite funny without Chris Tucker\\n  ...    0195945\n",
              "1                            Close, but not quite there.\\n  ...    0195945\n",
              "2         Hope the crackakillers pay well, or its back ...  ...    0195945\n",
              "3                                 Some good belly laughs\\n  ...    0195945\n",
              "4                                     I loved that movie\\n  ...    0195945\n",
              "...                                                    ...  ...        ...\n",
              "1363275                   All The Money In The World-60%\\n  ...    5294550\n",
              "1363276                   All The Money In The World ***\\n  ...    5294550\n",
              "1363277        A slow burn thriller with a good message.\\n  ...    5294550\n",
              "1363278                         Mark Wahlberg is PERFECT\\n  ...    5294550\n",
              "1363279   A film of power and greed that is against lov...  ...    5294550\n",
              "\n",
              "[900040 rows x 11 columns]"
            ]
          },
          "metadata": {
            "tags": []
          },
          "execution_count": 59
        }
      ]
    },
    {
      "cell_type": "code",
      "metadata": {
        "colab": {
          "base_uri": "https://localhost:8080/",
          "height": 301
        },
        "id": "fU8oqbtTFJqC",
        "outputId": "1443bdea-5329-4ed0-e5af-cf8b85bcbef5"
      },
      "source": [
        "# 흥행 성공영화의 star 분포\n",
        "star_dist = review_concat[succ_review]['star'].value_counts().sort_index()\n",
        "plt.title('Distribution of Stars for Successful Movie')\n",
        "star_dist.plot(kind = 'bar')\n",
        "plt.xlabel('Star')\n",
        "plt.ylabel('Quantity')\n",
        "plt.show()"
      ],
      "execution_count": null,
      "outputs": [
        {
          "output_type": "display_data",
          "data": {
            "image/png": "[encoded data removed]",
            "text/plain": [
              "<Figure size 432x288 with 1 Axes>"
            ]
          },
          "metadata": {
            "tags": [],
            "needs_background": "light"
          }
        }
      ]
    },
    {
      "cell_type": "code",
      "metadata": {
        "colab": {
          "base_uri": "https://localhost:8080/",
          "height": 301
        },
        "id": "lMXqW-hsFf4K",
        "outputId": "f827d3fa-a244-4d19-ef23-de70a123a655"
      },
      "source": [
        "# 흥행 실패영화의 star 분포\n",
        "star_dist = review_concat[~succ_review]['star'].value_counts().sort_index()\n",
        "plt.title('Distribution of Stars for Unsuccessful Movies')\n",
        "star_dist.plot(kind = 'bar')\n",
        "plt.xlabel('Star')\n",
        "plt.ylabel('Quantity')\n",
        "plt.show()"
      ],
      "execution_count": null,
      "outputs": [
        {
          "output_type": "display_data",
          "data": {
            "image/png": "[encoded data removed]",
            "text/plain": [
              "<Figure size 432x288 with 1 Axes>"
            ]
          },
          "metadata": {
            "tags": [],
            "needs_background": "light"
          }
        }
      ]
    },
    {
      "cell_type": "code",
      "metadata": {
        "id": "C72w1zjpFz_a"
      },
      "source": [
        ""
      ],
      "execution_count": null,
      "outputs": []
    }
  ]
}