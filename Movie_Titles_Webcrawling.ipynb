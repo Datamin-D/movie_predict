{
  "nbformat": 4,
  "nbformat_minor": 0,
  "metadata": {
    "colab": {
      "name": "Movie_Titles_Webcrawling.ipynb",
      "provenance": [],
      "collapsed_sections": [],
      "mount_file_id": "1u-xhfFVw8H3SP0yaKxicNJrBfa_aqQeT",
      "authorship_tag": "ABX9TyM13CVmBilJ9+A2QjYE3SZx",
      "include_colab_link": true
    },
    "kernelspec": {
      "name": "python3",
      "display_name": "Python 3"
    }
  },
  "cells": [
    {
      "cell_type": "markdown",
      "metadata": {
        "id": "view-in-github",
        "colab_type": "text"
      },
      "source": [
        "<a href=\"https://colab.research.google.com/github/Datamin-D/movie_predict/blob/master/Movie_Titles_Webcrawling.ipynb\" target=\"_parent\"><img src=\"https://colab.research.google.com/assets/colab-badge.svg\" alt=\"Open In Colab\"/></a>"
      ]
    },
    {
      "cell_type": "code",
      "metadata": {
        "id": "ZqzhJuc0TT5t",
        "colab_type": "code",
        "colab": {}
      },
      "source": [
        "import requests\n",
        "from bs4 import BeautifulSoup\n",
        "import openpyxl\n",
        "import xlwt,xlrd\n",
        "from google.colab import files\n",
        "import time\n",
        "import re\n",
        "import pandas as pd\n",
        "import pickle\n",
        "\n",
        "\n"
      ],
      "execution_count": 0,
      "outputs": []
    },
    {
      "cell_type": "code",
      "metadata": {
        "id": "Qeq_KXjy4osF",
        "colab_type": "code",
        "colab": {}
      },
      "source": [
        "1. feature값 비교. + 연도별로 파일 저장할 수 있게하고 오류 뜬 연도는 별도 표시.  오전 -피클에서 수집한거 100 프린트하고 하나하나 대조.(겹친거 없나)\n",
        "2. 수집한 데이터 중간 중간에 저장하는 법?\n",
        "3. 전처리 - 어떤 영화를 '성공'으로 정의할지.\n"
      ],
      "execution_count": 0,
      "outputs": []
    },
    {
      "cell_type": "code",
      "metadata": {
        "id": "xD61hig6UIlh",
        "colab_type": "code",
        "outputId": "04b77951-7fe7-47f0-fc19-e3dd3205e16f",
        "colab": {
          "base_uri": "https://localhost:8080/",
          "height": 404
        }
      },
      "source": [
        "#installing selenium, prepare to connect \n",
        "!pip install selenium\n",
        "!apt-get update \n",
        "!apt install chromium-chromedriver\n",
        "\n",
        "from selenium import webdriver\n",
        "chrome_options = webdriver.ChromeOptions()\n",
        "chrome_options.add_argument('--headless')\n",
        "chrome_options.add_argument('--no-sandbox')\n",
        "chrome_options.add_argument('--disable-dev-shm-usage')\n",
        "wd = webdriver.Chrome('chromedriver',chrome_options=chrome_options)\n",
        "from selenium.webdriver.common.by import By\n",
        "from selenium.common.exceptions import NoSuchElementException"
      ],
      "execution_count": 0,
      "outputs": [
        {
          "output_type": "stream",
          "text": [
            "Requirement already satisfied: selenium in /usr/local/lib/python3.6/dist-packages (3.141.0)\n",
            "Requirement already satisfied: urllib3 in /usr/local/lib/python3.6/dist-packages (from selenium) (1.24.3)\n",
            "Hit:1 https://cloud.r-project.org/bin/linux/ubuntu bionic-cran35/ InRelease\n",
            "Ign:2 https://developer.download.nvidia.com/compute/cuda/repos/ubuntu1804/x86_64  InRelease\n",
            "Ign:3 https://developer.download.nvidia.com/compute/machine-learning/repos/ubuntu1804/x86_64  InRelease\n",
            "Hit:4 https://developer.download.nvidia.com/compute/cuda/repos/ubuntu1804/x86_64  Release\n",
            "Hit:5 https://developer.download.nvidia.com/compute/machine-learning/repos/ubuntu1804/x86_64  Release\n",
            "Hit:6 http://ppa.launchpad.net/graphics-drivers/ppa/ubuntu bionic InRelease\n",
            "Get:7 http://security.ubuntu.com/ubuntu bionic-security InRelease [88.7 kB]\n",
            "Hit:9 http://archive.ubuntu.com/ubuntu bionic InRelease\n",
            "Hit:11 http://ppa.launchpad.net/marutter/c2d4u3.5/ubuntu bionic InRelease\n",
            "Hit:12 http://archive.ubuntu.com/ubuntu bionic-updates InRelease\n",
            "Hit:13 http://archive.ubuntu.com/ubuntu bionic-backports InRelease\n",
            "Fetched 88.7 kB in 2s (41.8 kB/s)\n",
            "Reading package lists... Done\n",
            "Reading package lists... Done\n",
            "Building dependency tree       \n",
            "Reading state information... Done\n",
            "chromium-chromedriver is already the newest version (81.0.4044.138-0ubuntu0.18.04.1).\n",
            "0 upgraded, 0 newly installed, 0 to remove and 48 not upgraded.\n"
          ],
          "name": "stdout"
        },
        {
          "output_type": "stream",
          "text": [
            "/usr/local/lib/python3.6/dist-packages/ipykernel_launcher.py:11: DeprecationWarning: use options instead of chrome_options\n",
            "  # This is added back by InteractiveShellApp.init_path()\n"
          ],
          "name": "stderr"
        }
      ]
    },
    {
      "cell_type": "code",
      "metadata": {
        "id": "l4Wdh_tbVXlT",
        "colab_type": "code",
        "outputId": "41e1b5f5-5340-4c65-c53c-b25a12a8c59f",
        "colab": {
          "base_uri": "https://localhost:8080/",
          "height": 70
        }
      },
      "source": [
        "#Boxoffice mojo > extract movie titles by years(skip pickle has the movie titles info)\n",
        "\n",
        "# 수집할 영화 연도 범위\n",
        "released_years = []\n",
        "released_months = []\n",
        "\n",
        "years = [released_years.append(i) for i in range(2005,2019)] #연\n",
        "months = [released_months.append(i) for i in range(1,13)] #월\n",
        "\n",
        "#for문의 내포. [명령 for i in range(시작,끝,step)]\n",
        "#print(released_years)\n",
        "\n",
        "# raw data 수집,parsing, 영화 title저장\n",
        "movie_list = []\n",
        "for year in released_years:\n",
        "  for month in released_months:\n",
        "    #print(genre)\n",
        "    raw = requests.get(\"https://www.boxofficemojo.com/calendar/\"+str(year)+\"-\"+str(month)+\"-01/\")\n",
        "      #print(raw)해서 response 200이면 정상.\n",
        "      #주소니까 str로 해줘야. \n",
        "\n",
        "      #print(raw.text)\n",
        "      #.text하면 --> URL소스코드 알아내기\n",
        "\n",
        "    html = BeautifulSoup(raw.text,\"html.parser\")\n",
        "      #변수 = BeautifulSoup(소스코드, 'html.parser')-->태그 기준으로 파싱해줌\n",
        "      #print(html)\n",
        "\n",
        "  # 1. 컨테이너 \n",
        "    container = html.select(\"div.a-section.a-spacing-none.mojo-schedule-release-details\")\n",
        "  # 2. Title    \n",
        "    for cont in container:\n",
        "      movie_title = cont.select_one(\"a.a-link-normal h3\").text.strip()\n",
        "      #자식 \">\" 자손 \" \"(띄어쓰기) ex) ul.type01 > li\n",
        "      #.strip-->양쪽 공백 제거\n",
        "\n",
        "      movie_list.append(movie_title+\" \"+\"(\"+str(year)+\")\")\n",
        "      #태그이름.class, 태그이름#id\n",
        "print(len(movie_list))\n",
        "\n",
        "#movie list 고유값만 추리기. set성질 이용.\n",
        "my_set = set(movie_list)\n",
        "movie_titles = list(my_set)\n",
        "print(len(movie_titles))\n",
        "\n",
        "with open (\"movie_titles.txt\",\"wb\") as f:\n",
        "  pickle.dump(movie_titles,f)\n",
        "#movie_titles 표현형식: 영화이름, (연도) \n",
        "movie_titles[0]"
      ],
      "execution_count": 0,
      "outputs": [
        {
          "output_type": "stream",
          "text": [
            "12134\n",
            "9834\n"
          ],
          "name": "stdout"
        },
        {
          "output_type": "execute_result",
          "data": {
            "text/plain": [
              "'All Together (2012)'"
            ]
          },
          "metadata": {
            "tags": []
          },
          "execution_count": 7
        }
      ]
    },
    {
      "cell_type": "code",
      "metadata": {
        "id": "IctjEmqdA3fV",
        "colab_type": "code",
        "outputId": "9b7cee13-8e4d-4884-d96e-fe0cd67339d8",
        "colab": {
          "base_uri": "https://localhost:8080/",
          "height": 34
        }
      },
      "source": [
        "#Boxoffice mojo에서 수집한 movie_titles\n",
        "files.download(\"movie_titles.txt\") #로컬드라이브로 다운로드\n",
        "with open(\"movie_titles.txt\",\"rb\") as f:\n",
        "  movie_titles = pickle.load(f)\n",
        "print(movie_titles[0])\n"
      ],
      "execution_count": 0,
      "outputs": [
        {
          "output_type": "stream",
          "text": [
            "All Together (2012)\n"
          ],
          "name": "stdout"
        }
      ]
    },
    {
      "cell_type": "code",
      "metadata": {
        "id": "zZJUEivd6anX",
        "colab_type": "code",
        "outputId": "c54cae87-1bea-45f8-9df1-5a430a2a1165",
        "colab": {
          "base_uri": "https://localhost:8080/",
          "height": 54
        }
      },
      "source": [
        "#영화 이름, 연도 분리..-->영화 이름, 연도와 매칭..굳이?  이미 IMDb 검색 기능에 구현되어 있을 것. --> abort.\n",
        "\"\"\"\n",
        "indv_title = []\n",
        "indv_year =  []\n",
        "for i in range(len(movie_titles)):\n",
        "  p = re.compile(r'([\\'\\\",/.a-zA-z0-9_ :!?\\+\\-\\&\\#\\$\\@\\%\\-\\=\\^\\`\\(\\)]*) (\\([0-9]+\\))') #정규표현식으로 영화 이름 분리\n",
        "  target = movie_list[i]\n",
        "  s = p.search(target) #match는 처음부터 매칭해보고 없으면 진행 안함. search는 문자열 전체를 검색.(앞이 매칭 안되어도.)\n",
        "  indv_title.append(s.group(1)) #i번째영화이름\n",
        "  indv_year.append(s.group(2))  #i번째 영화의 연도(인덱스로 찾을 수 있음.)\n",
        "  m = p.search(target)\n",
        "print(indv_year[0])\n",
        " #이 코드 바탕으로imdb검색한 후 이름,연도 매칭하도록 코딩ㄱ *\n",
        " \"\"\""
      ],
      "execution_count": 0,
      "outputs": [
        {
          "output_type": "execute_result",
          "data": {
            "text/plain": [
              "'\\nindv_title = []\\nindv_year =  []\\nfor i in range(len(movie_titles)):\\n  p = re.compile(r\\'([\\'\",/.a-zA-z0-9_ :!?\\\\+\\\\-\\\\&\\\\#\\\\$\\\\@\\\\%\\\\-\\\\=\\\\^\\\\`\\\\(\\\\)]*) (\\\\([0-9]+\\\\))\\') #정규표현식으로 영화 이름 분리\\n  target = movie_list[i]\\n  s = p.search(target) #match는 처음부터 매칭해보고 없으면 진행 안함. search는 문자열 전체를 검색.(앞이 매칭 안되어도.)\\n  indv_title.append(s.group(1)) #i번째영화이름\\n  indv_year.append(s.group(2))  #i번째 영화의 연도(인덱스로 찾을 수 있음.)\\n  m = p.search(target)\\nprint(indv_year[0])\\n #이 코드 바탕으로imdb검색한 후 이름,연도 매칭하도록 코딩ㄱ *\\n '"
            ]
          },
          "metadata": {
            "tags": []
          },
          "execution_count": 5
        }
      ]
    },
    {
      "cell_type": "code",
      "metadata": {
        "id": "q7Z7RRHLTVrb",
        "colab_type": "code",
        "outputId": "d2f934c4-3280-4c13-afd9-f404f8159115",
        "colab": {
          "base_uri": "https://localhost:8080/",
          "height": 547
        }
      },
      "source": [
        "# Searching movie webpages in IMDb -->needs to be fixed. better idea? :title 밑에 있는 거로 클릭하도록. \n",
        "\n",
        "#Features 목록\n",
        "Columns = [\"Movie_title\",\"Genre\",\"Rate\",\"Run_time\",\"Budget\",\"Gross_USA\",\"Language\",\"Directors\",\"Writers\",\"Stars\",\"Certification\"]\n",
        "\n",
        "#DataFrame생성\n",
        "df2 = pd.DataFrame(columns=Columns)\n",
        "\n",
        "#영화 페이지 접근\n",
        "for i in range(len(movie_titles[0:999])):#실제코드\n",
        "#for i in range(6): #실험용\n",
        "  url = \"https://www.imdb.com/find?q=\"+str(movie_titles[i])+\"&ref_=nv_sr_sm\" #movie_title에 영화 이름 1개 들어가야함. \n",
        "  #print(\"real영화 제목:\",movie_titles[i])\n",
        "  wd.get(url)\n",
        "  #print(wd.page_source)  # results\n",
        "  try:\n",
        "    click_movie = wd.find_elements_by_css_selector('td.result_text > a') #영화 검색창 후 이름 클릭\n",
        "    click_movie[0].click() #클릭이 안되는 경우, no result found. pass하게 코딩.\n",
        "  \n",
        "    time.sleep(1)\n",
        "  except IndexError: #영화 정보가 없어서 클릭이 안되면.\n",
        "    continue \n",
        "  # 여기부터 영화 개별 웹페이지 진입 성공, 자료수집  \n",
        "\n",
        "#Movie_title\n",
        "  Movie_title = []\n",
        "  try:\n",
        "    imdb_title = wd.find_element_by_css_selector(\"#title-overview-widget > div.vital > div.title_block > div > div.titleBar > div.title_wrapper > h1\").text\n",
        "    if imdb_title == movie_titles[i]:\n",
        "      Movie_title = imdb_title\n",
        "    else:\n",
        "      continue #이렇게 루프 뛰어넘어도 df index에는 공백으로 흔적 남아있음\n",
        "    #print(wd.current_url)\n",
        "  except NoSuchElementException:\n",
        "    Movie_title.append(movie_titles[i])    \n",
        "  #print(Movie_title)\n",
        "    \n",
        "\n",
        "#Genre - 수집 중 날짜까지 리스트 마지막에 수집되어서 index[-1]지우는 식으로 코딩함. 성공!\n",
        "  Genre = []\n",
        "  try:\n",
        "    genre = wd.find_elements_by_css_selector(\"div.subtext a\")\n",
        "    for gen in range(len(genre)-1):\n",
        "      Genre.append(genre[gen].text)\n",
        "  except:\n",
        "    Genre = \"NA\"\n",
        "\n",
        "#Rate(전체 별점) \n",
        "  Rate = []\n",
        "  try:\n",
        "    Rate.append(wd.find_element_by_css_selector(\"div.ratingValue span:nth-of-type(1):first-child\").text) # nth-of-type(n번째) n은 1부터 시작, first-child하면 부모 모든 요소 중 첫번째 자식만 선택 \n",
        "  except NoSuchElementException:\n",
        "    Rate.append(\"NA\")\n",
        "\n",
        "#Run_time\n",
        "  Run_time = []\n",
        "  try:\n",
        "    Run_time.append(wd.find_element_by_css_selector('#title-overview-widget > div.vital > div.title_block > div > div.titleBar > div.title_wrapper > div > time').text)\n",
        "  except NoSuchElementException:\n",
        "    continue\n",
        "\n",
        "   \n",
        "\n",
        "#선택자#titleDetails >.txt-block\n",
        "  Bcontainer = wd.find_elements_by_css_selector(\"#titleDetails >.txt-block\")\n",
        "#Budget **손보기\n",
        "  Budget = \"NA\"\n",
        "  try:\n",
        "    for ind_Budget in range(len(Bcontainer)):\n",
        "      if \"Budget:\" in Bcontainer[ind_Budget].text: #if문에 해당하는 내용이 없다해서 오류가 일어나지는 않음.\n",
        "        budget = Bcontainer[ind_Budget].text\n",
        "        Budget = budget.split(\":\")[1]\n",
        "        break  #break는 조건이 참이면 반복문 종료. cf)continue는 아래의 코드를 실행않고 다음 반복으로 넘어감.\n",
        "      else:\n",
        "        Budget = \"NA\"\n",
        "  except:\n",
        "    Budget = \"NA\"\n",
        "#Gross_USA\n",
        "  Gross_USA = \"NA\"\n",
        "  try:\n",
        "    for ind_gusa in range(len(Bcontainer)):\n",
        "      if \"Gross USA:\" in Bcontainer[ind_gusa].text:\n",
        "        gusa = Bcontainer[ind_gusa].text\n",
        "        Gross_USA.append(gusa.split(\":\")[1])\n",
        "        #print(Gross_USA)\n",
        "        break\n",
        "      else:\n",
        "        Gross_USA.append(\"NA\")\n",
        "  except:\n",
        "    Gross_USA = \"NA\"\n",
        "  \n",
        "#Language: 로 시작하는 컨테이너찾기, 적당히 인덱싱해서 Language찾기. \n",
        "  Language = []\n",
        "  try:\n",
        "    find_language = wd.find_elements_by_css_selector(\"#titleDetails > div.txt-block\")\n",
        "    for ind_lang in range(len(find_language)):\n",
        "      if find_language[ind_lang].text.strip().startswith(\"Language:\"):\n",
        "        Lang = find_language[ind_lang].text.strip()\n",
        "    Language =  Lang[9:].strip().split(\"|\")\n",
        "    \n",
        "  except NoSuchElementException:\n",
        "    Language.append(\"NA\")\n",
        "  wd.close #개별 영화 페이지 닫기\n",
        "  \n",
        "#See more credits접근\n",
        "  indv_movie_url = wd.current_url # 개별 영화 웹페이지 url\n",
        "  target = str(indv_movie_url)\n",
        "  p = re.compile(r\"(https://www.imdb.com/title/)([a-zA-z]{2}[0-9]{7})(/\\?ref_=fn_al_tt_1)\")\n",
        "  m = p.match(target)\n",
        "  movie_code = m.group(2) #영화코드\n",
        "  url = \"https://www.imdb.com/title/\"+movie_code+\"/fullcredits/?ref_=tt_ov_st_sm\"\n",
        "  wd.get(url) #See full cast & crew 접근\n",
        "  cu = wd.current_url\n",
        "\n",
        "#Directors\n",
        "  Directors_ch = []\n",
        "  Directors = []\n",
        "  try:\n",
        "    director = wd.find_elements_by_css_selector(\"#fullcredits_content > table:nth-child(2) > tbody>tr\")\n",
        "    for ind_directors in range(len(director)):\n",
        "      Directors_ch.append(director[ind_directors].text)\n",
        "    for ind_Directors in range(len(Directors_ch)):\n",
        "      target = Directors_ch[ind_Directors]\n",
        "      p = re.compile(\"[\\-. a-zA-z0-9]+\")\n",
        "      m = p.match(target)\n",
        "      \n",
        "      Director = m.group().strip()\n",
        "      Directors.append(Director) #director_list\n",
        "    #print(Directors) \n",
        "  except AttributeError:\n",
        "    Directors.append(\"NA\")\n",
        "\n",
        "# Writers\n",
        "  Writers = []\n",
        "  try:\n",
        "    Writing_credits = wd.find_elements_by_css_selector(\"#fullcredits_content > table:nth-child(4) > tbody > tr > td.name > a\") #Writing Credits 박스 접근. 아래 자식으로 작가 이름 크롤링ㄱ \n",
        "    for ind_writer in range(len(Writing_credits)):\n",
        "      Writers.append(Writing_credits[ind_writer].text)\n",
        "  except:\n",
        "    Writers = \"NA\"\n",
        "\n",
        "  #if #fullcredits_content h4.dataHeaderWithBorder == Writing Credits 거기 멈춰서 안에 있는 박스 > ..는 복잡.\n",
        "  #걍 nth-ofchild 기능으로 선택자 처리함.\n",
        "\n",
        "  # Stars 상위16명까지. -->ㅡmin (2003)시도 완료\n",
        "  #홀수 번호 배우들 수집 \n",
        "  Stars_ch = []\n",
        "  Stars_odd = []\n",
        "  Stars_even = []\n",
        "  Stars = []\n",
        "\n",
        "  try:\n",
        "    container_odd = wd.find_elements_by_css_selector(\"#fullcredits_content > table.cast_list > tbody > tr.odd\") #홀수번호 배우들 데이터 수집\n",
        "    for ind_oddstar in range(9): #8번째 홀수까지 반복, 15\n",
        "      Stars_odd.append(container_odd[ind_oddstar].text)\n",
        "  except IndexError: \n",
        "    pass\n",
        "\n",
        "  #짝수 번호 배우들 수집\n",
        "  try:\n",
        "    container_even = wd.find_elements_by_css_selector(\"#fullcredits_content > table.cast_list > tbody > tr.even\") #짝수번호 배우들 데이터 수집\n",
        "    for ind_evenstar in range(9): #8번째 짝수까지 반복,16 \n",
        "      Stars_even.append(container_even[ind_evenstar].text)\n",
        "  except IndexError: \n",
        "    pass\n",
        "  #홀,짝 합치기\n",
        "  try:\n",
        "\n",
        "    for ind_star in range(8):\n",
        "      Stars_ch.append(Stars_odd[ind_star])\n",
        "      Stars_ch.append(Stars_even[ind_star])\n",
        "    #print(Stars_ch) 합치기 완료\n",
        "  except IndexError: #배우 15명 미만일 시 pass.\n",
        "    pass\n",
        "\n",
        "  \n",
        "  #배우\"...캐릭터\"지우기는 정규 표현식으로 처리.\n",
        "  try:\n",
        "    for ind_ch in range(len(Stars_ch)):\n",
        "      target = Stars_ch[ind_ch]\n",
        "      p = re.compile(r\"([\\-\\.\\' a-zA-z0-9]+)( ... )([\\-\\.\\' a-zA-z0-9]+)\")\n",
        "      m = p.match(target)\n",
        "      Star = m.group(1).strip()\n",
        "      Stars.append(Star) #배우목록\n",
        "      #print(Star)\n",
        "  except AttributeError:\n",
        "    Star\n",
        "  wd.close #star닫기\n",
        "\n",
        "#Certificate -->손보기\n",
        "  Certificate = []\n",
        "  #indv_movie_url는  개별 영화 웹페이지 url\n",
        "  target = str(indv_movie_url)\n",
        "  p = re.compile(r\"(https://www.imdb.com/title/)([a-zA-z]{2}[0-9]{7})(/\\?ref_=fn_al_tt_1)\")\n",
        "  m = p.match(target)\n",
        "  movie_code = m.group(2) #영화코드\n",
        "  #Certificate > clicking see more button using Selenium\n",
        "  url = \"https://www.imdb.com/title/\"+movie_code+\"/parentalguide?ref_=tt_stry_pg#certification\" #개별영화 페이지 movie_title에 영화 이름 1개 들어가야함. \n",
        "  wd.get(url)\n",
        "  #컨테이너 li.ipl-inline-list__item a\n",
        "  countries = wd.find_elements_by_css_selector(\"tr#certifications-list > td > ul.ipl-inline-list >li.ipl-inline-list__item > a\")\n",
        "  try:\n",
        "    for c_ind in range(len(countries)):\n",
        "      if \"United States\" in countries[c_ind].text:\n",
        "        US_cert = countries[c_ind].text\n",
        "        nation_cert = US_cert.split(\":\")\n",
        "        Certificate.append(nation_cert[1])\n",
        "      else:\n",
        "        pass #다른 나라들은 pass. \n",
        "  except:\n",
        "    print(\"뭔가 에러남\")\n",
        "  #print(Certificate)\n",
        "  wd.close #Certificate닫기\n",
        "  #print(i,Movie_title[i],Genre,Rate,Run_time,Budget,Gross_USA,Language,Writers,Stars,Certificate)\n",
        "  df2.loc[i] = Movie_title,Genre,Rate,Run_time,Budget,Gross_USA,Language,Directors,Writers,Stars,Certificate #i번째 영화, 그에 해당하는 데이터\n",
        "  #print(Movie_title,Genre,Rate,Run_time,Budget,Gross_USA,Language,Directors,Writers,Stars,Certificate)\n",
        "  \n",
        "  time.sleep(1)\n",
        "\n",
        "\n",
        "#print(df2)\n",
        "df2.to_csv(\"movie_data_pilot.csv\")"
      ],
      "execution_count": 0,
      "outputs": [
        {
          "output_type": "error",
          "ename": "MaxRetryError",
          "evalue": "ignored",
          "traceback": [
            "\u001b[0;31m---------------------------------------------------------------------------\u001b[0m",
            "\u001b[0;31mConnectionRefusedError\u001b[0m                    Traceback (most recent call last)",
            "\u001b[0;32m/usr/local/lib/python3.6/dist-packages/urllib3/connection.py\u001b[0m in \u001b[0;36m_new_conn\u001b[0;34m(self)\u001b[0m\n\u001b[1;32m    158\u001b[0m             conn = connection.create_connection(\n\u001b[0;32m--> 159\u001b[0;31m                 (self._dns_host, self.port), self.timeout, **extra_kw)\n\u001b[0m\u001b[1;32m    160\u001b[0m \u001b[0;34m\u001b[0m\u001b[0m\n",
            "\u001b[0;32m/usr/local/lib/python3.6/dist-packages/urllib3/util/connection.py\u001b[0m in \u001b[0;36mcreate_connection\u001b[0;34m(address, timeout, source_address, socket_options)\u001b[0m\n\u001b[1;32m     79\u001b[0m     \u001b[0;32mif\u001b[0m \u001b[0merr\u001b[0m \u001b[0;32mis\u001b[0m \u001b[0;32mnot\u001b[0m \u001b[0;32mNone\u001b[0m\u001b[0;34m:\u001b[0m\u001b[0;34m\u001b[0m\u001b[0;34m\u001b[0m\u001b[0m\n\u001b[0;32m---> 80\u001b[0;31m         \u001b[0;32mraise\u001b[0m \u001b[0merr\u001b[0m\u001b[0;34m\u001b[0m\u001b[0;34m\u001b[0m\u001b[0m\n\u001b[0m\u001b[1;32m     81\u001b[0m \u001b[0;34m\u001b[0m\u001b[0m\n",
            "\u001b[0;32m/usr/local/lib/python3.6/dist-packages/urllib3/util/connection.py\u001b[0m in \u001b[0;36mcreate_connection\u001b[0;34m(address, timeout, source_address, socket_options)\u001b[0m\n\u001b[1;32m     69\u001b[0m                 \u001b[0msock\u001b[0m\u001b[0;34m.\u001b[0m\u001b[0mbind\u001b[0m\u001b[0;34m(\u001b[0m\u001b[0msource_address\u001b[0m\u001b[0;34m)\u001b[0m\u001b[0;34m\u001b[0m\u001b[0;34m\u001b[0m\u001b[0m\n\u001b[0;32m---> 70\u001b[0;31m             \u001b[0msock\u001b[0m\u001b[0;34m.\u001b[0m\u001b[0mconnect\u001b[0m\u001b[0;34m(\u001b[0m\u001b[0msa\u001b[0m\u001b[0;34m)\u001b[0m\u001b[0;34m\u001b[0m\u001b[0;34m\u001b[0m\u001b[0m\n\u001b[0m\u001b[1;32m     71\u001b[0m             \u001b[0;32mreturn\u001b[0m \u001b[0msock\u001b[0m\u001b[0;34m\u001b[0m\u001b[0;34m\u001b[0m\u001b[0m\n",
            "\u001b[0;31mConnectionRefusedError\u001b[0m: [Errno 111] Connection refused",
            "\nDuring handling of the above exception, another exception occurred:\n",
            "\u001b[0;31mNewConnectionError\u001b[0m                        Traceback (most recent call last)",
            "\u001b[0;32m/usr/local/lib/python3.6/dist-packages/urllib3/connectionpool.py\u001b[0m in \u001b[0;36murlopen\u001b[0;34m(self, method, url, body, headers, retries, redirect, assert_same_host, timeout, pool_timeout, release_conn, chunked, body_pos, **response_kw)\u001b[0m\n\u001b[1;32m    599\u001b[0m                                                   \u001b[0mbody\u001b[0m\u001b[0;34m=\u001b[0m\u001b[0mbody\u001b[0m\u001b[0;34m,\u001b[0m \u001b[0mheaders\u001b[0m\u001b[0;34m=\u001b[0m\u001b[0mheaders\u001b[0m\u001b[0;34m,\u001b[0m\u001b[0;34m\u001b[0m\u001b[0;34m\u001b[0m\u001b[0m\n\u001b[0;32m--> 600\u001b[0;31m                                                   chunked=chunked)\n\u001b[0m\u001b[1;32m    601\u001b[0m \u001b[0;34m\u001b[0m\u001b[0m\n",
            "\u001b[0;32m/usr/local/lib/python3.6/dist-packages/urllib3/connectionpool.py\u001b[0m in \u001b[0;36m_make_request\u001b[0;34m(self, conn, method, url, timeout, chunked, **httplib_request_kw)\u001b[0m\n\u001b[1;32m    353\u001b[0m         \u001b[0;32melse\u001b[0m\u001b[0;34m:\u001b[0m\u001b[0;34m\u001b[0m\u001b[0;34m\u001b[0m\u001b[0m\n\u001b[0;32m--> 354\u001b[0;31m             \u001b[0mconn\u001b[0m\u001b[0;34m.\u001b[0m\u001b[0mrequest\u001b[0m\u001b[0;34m(\u001b[0m\u001b[0mmethod\u001b[0m\u001b[0;34m,\u001b[0m \u001b[0murl\u001b[0m\u001b[0;34m,\u001b[0m \u001b[0;34m**\u001b[0m\u001b[0mhttplib_request_kw\u001b[0m\u001b[0;34m)\u001b[0m\u001b[0;34m\u001b[0m\u001b[0;34m\u001b[0m\u001b[0m\n\u001b[0m\u001b[1;32m    355\u001b[0m \u001b[0;34m\u001b[0m\u001b[0m\n",
            "\u001b[0;32m/usr/lib/python3.6/http/client.py\u001b[0m in \u001b[0;36mrequest\u001b[0;34m(self, method, url, body, headers, encode_chunked)\u001b[0m\n\u001b[1;32m   1263\u001b[0m         \u001b[0;34m\"\"\"Send a complete request to the server.\"\"\"\u001b[0m\u001b[0;34m\u001b[0m\u001b[0;34m\u001b[0m\u001b[0m\n\u001b[0;32m-> 1264\u001b[0;31m         \u001b[0mself\u001b[0m\u001b[0;34m.\u001b[0m\u001b[0m_send_request\u001b[0m\u001b[0;34m(\u001b[0m\u001b[0mmethod\u001b[0m\u001b[0;34m,\u001b[0m \u001b[0murl\u001b[0m\u001b[0;34m,\u001b[0m \u001b[0mbody\u001b[0m\u001b[0;34m,\u001b[0m \u001b[0mheaders\u001b[0m\u001b[0;34m,\u001b[0m \u001b[0mencode_chunked\u001b[0m\u001b[0;34m)\u001b[0m\u001b[0;34m\u001b[0m\u001b[0;34m\u001b[0m\u001b[0m\n\u001b[0m\u001b[1;32m   1265\u001b[0m \u001b[0;34m\u001b[0m\u001b[0m\n",
            "\u001b[0;32m/usr/lib/python3.6/http/client.py\u001b[0m in \u001b[0;36m_send_request\u001b[0;34m(self, method, url, body, headers, encode_chunked)\u001b[0m\n\u001b[1;32m   1309\u001b[0m             \u001b[0mbody\u001b[0m \u001b[0;34m=\u001b[0m \u001b[0m_encode\u001b[0m\u001b[0;34m(\u001b[0m\u001b[0mbody\u001b[0m\u001b[0;34m,\u001b[0m \u001b[0;34m'body'\u001b[0m\u001b[0;34m)\u001b[0m\u001b[0;34m\u001b[0m\u001b[0;34m\u001b[0m\u001b[0m\n\u001b[0;32m-> 1310\u001b[0;31m         \u001b[0mself\u001b[0m\u001b[0;34m.\u001b[0m\u001b[0mendheaders\u001b[0m\u001b[0;34m(\u001b[0m\u001b[0mbody\u001b[0m\u001b[0;34m,\u001b[0m \u001b[0mencode_chunked\u001b[0m\u001b[0;34m=\u001b[0m\u001b[0mencode_chunked\u001b[0m\u001b[0;34m)\u001b[0m\u001b[0;34m\u001b[0m\u001b[0;34m\u001b[0m\u001b[0m\n\u001b[0m\u001b[1;32m   1311\u001b[0m \u001b[0;34m\u001b[0m\u001b[0m\n",
            "\u001b[0;32m/usr/lib/python3.6/http/client.py\u001b[0m in \u001b[0;36mendheaders\u001b[0;34m(self, message_body, encode_chunked)\u001b[0m\n\u001b[1;32m   1258\u001b[0m             \u001b[0;32mraise\u001b[0m \u001b[0mCannotSendHeader\u001b[0m\u001b[0;34m(\u001b[0m\u001b[0;34m)\u001b[0m\u001b[0;34m\u001b[0m\u001b[0;34m\u001b[0m\u001b[0m\n\u001b[0;32m-> 1259\u001b[0;31m         \u001b[0mself\u001b[0m\u001b[0;34m.\u001b[0m\u001b[0m_send_output\u001b[0m\u001b[0;34m(\u001b[0m\u001b[0mmessage_body\u001b[0m\u001b[0;34m,\u001b[0m \u001b[0mencode_chunked\u001b[0m\u001b[0;34m=\u001b[0m\u001b[0mencode_chunked\u001b[0m\u001b[0;34m)\u001b[0m\u001b[0;34m\u001b[0m\u001b[0;34m\u001b[0m\u001b[0m\n\u001b[0m\u001b[1;32m   1260\u001b[0m \u001b[0;34m\u001b[0m\u001b[0m\n",
            "\u001b[0;32m/usr/lib/python3.6/http/client.py\u001b[0m in \u001b[0;36m_send_output\u001b[0;34m(self, message_body, encode_chunked)\u001b[0m\n\u001b[1;32m   1037\u001b[0m         \u001b[0;32mdel\u001b[0m \u001b[0mself\u001b[0m\u001b[0;34m.\u001b[0m\u001b[0m_buffer\u001b[0m\u001b[0;34m[\u001b[0m\u001b[0;34m:\u001b[0m\u001b[0;34m]\u001b[0m\u001b[0;34m\u001b[0m\u001b[0;34m\u001b[0m\u001b[0m\n\u001b[0;32m-> 1038\u001b[0;31m         \u001b[0mself\u001b[0m\u001b[0;34m.\u001b[0m\u001b[0msend\u001b[0m\u001b[0;34m(\u001b[0m\u001b[0mmsg\u001b[0m\u001b[0;34m)\u001b[0m\u001b[0;34m\u001b[0m\u001b[0;34m\u001b[0m\u001b[0m\n\u001b[0m\u001b[1;32m   1039\u001b[0m \u001b[0;34m\u001b[0m\u001b[0m\n",
            "\u001b[0;32m/usr/lib/python3.6/http/client.py\u001b[0m in \u001b[0;36msend\u001b[0;34m(self, data)\u001b[0m\n\u001b[1;32m    975\u001b[0m             \u001b[0;32mif\u001b[0m \u001b[0mself\u001b[0m\u001b[0;34m.\u001b[0m\u001b[0mauto_open\u001b[0m\u001b[0;34m:\u001b[0m\u001b[0;34m\u001b[0m\u001b[0;34m\u001b[0m\u001b[0m\n\u001b[0;32m--> 976\u001b[0;31m                 \u001b[0mself\u001b[0m\u001b[0;34m.\u001b[0m\u001b[0mconnect\u001b[0m\u001b[0;34m(\u001b[0m\u001b[0;34m)\u001b[0m\u001b[0;34m\u001b[0m\u001b[0;34m\u001b[0m\u001b[0m\n\u001b[0m\u001b[1;32m    977\u001b[0m             \u001b[0;32melse\u001b[0m\u001b[0;34m:\u001b[0m\u001b[0;34m\u001b[0m\u001b[0;34m\u001b[0m\u001b[0m\n",
            "\u001b[0;32m/usr/local/lib/python3.6/dist-packages/urllib3/connection.py\u001b[0m in \u001b[0;36mconnect\u001b[0;34m(self)\u001b[0m\n\u001b[1;32m    180\u001b[0m     \u001b[0;32mdef\u001b[0m \u001b[0mconnect\u001b[0m\u001b[0;34m(\u001b[0m\u001b[0mself\u001b[0m\u001b[0;34m)\u001b[0m\u001b[0;34m:\u001b[0m\u001b[0;34m\u001b[0m\u001b[0;34m\u001b[0m\u001b[0m\n\u001b[0;32m--> 181\u001b[0;31m         \u001b[0mconn\u001b[0m \u001b[0;34m=\u001b[0m \u001b[0mself\u001b[0m\u001b[0;34m.\u001b[0m\u001b[0m_new_conn\u001b[0m\u001b[0;34m(\u001b[0m\u001b[0;34m)\u001b[0m\u001b[0;34m\u001b[0m\u001b[0;34m\u001b[0m\u001b[0m\n\u001b[0m\u001b[1;32m    182\u001b[0m         \u001b[0mself\u001b[0m\u001b[0;34m.\u001b[0m\u001b[0m_prepare_conn\u001b[0m\u001b[0;34m(\u001b[0m\u001b[0mconn\u001b[0m\u001b[0;34m)\u001b[0m\u001b[0;34m\u001b[0m\u001b[0;34m\u001b[0m\u001b[0m\n",
            "\u001b[0;32m/usr/local/lib/python3.6/dist-packages/urllib3/connection.py\u001b[0m in \u001b[0;36m_new_conn\u001b[0;34m(self)\u001b[0m\n\u001b[1;32m    167\u001b[0m             raise NewConnectionError(\n\u001b[0;32m--> 168\u001b[0;31m                 self, \"Failed to establish a new connection: %s\" % e)\n\u001b[0m\u001b[1;32m    169\u001b[0m \u001b[0;34m\u001b[0m\u001b[0m\n",
            "\u001b[0;31mNewConnectionError\u001b[0m: <urllib3.connection.HTTPConnection object at 0x7ff18cf027f0>: Failed to establish a new connection: [Errno 111] Connection refused",
            "\nDuring handling of the above exception, another exception occurred:\n",
            "\u001b[0;31mMaxRetryError\u001b[0m                             Traceback (most recent call last)",
            "\u001b[0;32m<ipython-input-38-20b9ee2002c9>\u001b[0m in \u001b[0;36m<module>\u001b[0;34m()\u001b[0m\n\u001b[1;32m     12\u001b[0m   \u001b[0murl\u001b[0m \u001b[0;34m=\u001b[0m \u001b[0;34m\"https://www.imdb.com/find?q=\"\u001b[0m\u001b[0;34m+\u001b[0m\u001b[0mstr\u001b[0m\u001b[0;34m(\u001b[0m\u001b[0mmovie_titles\u001b[0m\u001b[0;34m[\u001b[0m\u001b[0mi\u001b[0m\u001b[0;34m]\u001b[0m\u001b[0;34m)\u001b[0m\u001b[0;34m+\u001b[0m\u001b[0;34m\"&ref_=nv_sr_sm\"\u001b[0m \u001b[0;31m#movie_title에 영화 이름 1개 들어가야함.\u001b[0m\u001b[0;34m\u001b[0m\u001b[0;34m\u001b[0m\u001b[0m\n\u001b[1;32m     13\u001b[0m   \u001b[0;31m#print(\"real영화 제목:\",movie_titles[i])\u001b[0m\u001b[0;34m\u001b[0m\u001b[0;34m\u001b[0m\u001b[0;34m\u001b[0m\u001b[0m\n\u001b[0;32m---> 14\u001b[0;31m   \u001b[0mwd\u001b[0m\u001b[0;34m.\u001b[0m\u001b[0mget\u001b[0m\u001b[0;34m(\u001b[0m\u001b[0murl\u001b[0m\u001b[0;34m)\u001b[0m\u001b[0;34m\u001b[0m\u001b[0;34m\u001b[0m\u001b[0m\n\u001b[0m\u001b[1;32m     15\u001b[0m   \u001b[0;31m#print(wd.page_source)  # results\u001b[0m\u001b[0;34m\u001b[0m\u001b[0;34m\u001b[0m\u001b[0;34m\u001b[0m\u001b[0m\n\u001b[1;32m     16\u001b[0m   \u001b[0;32mtry\u001b[0m\u001b[0;34m:\u001b[0m\u001b[0;34m\u001b[0m\u001b[0;34m\u001b[0m\u001b[0m\n",
            "\u001b[0;32m/usr/local/lib/python3.6/dist-packages/selenium/webdriver/remote/webdriver.py\u001b[0m in \u001b[0;36mget\u001b[0;34m(self, url)\u001b[0m\n\u001b[1;32m    331\u001b[0m         \u001b[0mLoads\u001b[0m \u001b[0ma\u001b[0m \u001b[0mweb\u001b[0m \u001b[0mpage\u001b[0m \u001b[0;32min\u001b[0m \u001b[0mthe\u001b[0m \u001b[0mcurrent\u001b[0m \u001b[0mbrowser\u001b[0m \u001b[0msession\u001b[0m\u001b[0;34m.\u001b[0m\u001b[0;34m\u001b[0m\u001b[0;34m\u001b[0m\u001b[0m\n\u001b[1;32m    332\u001b[0m         \"\"\"\n\u001b[0;32m--> 333\u001b[0;31m         \u001b[0mself\u001b[0m\u001b[0;34m.\u001b[0m\u001b[0mexecute\u001b[0m\u001b[0;34m(\u001b[0m\u001b[0mCommand\u001b[0m\u001b[0;34m.\u001b[0m\u001b[0mGET\u001b[0m\u001b[0;34m,\u001b[0m \u001b[0;34m{\u001b[0m\u001b[0;34m'url'\u001b[0m\u001b[0;34m:\u001b[0m \u001b[0murl\u001b[0m\u001b[0;34m}\u001b[0m\u001b[0;34m)\u001b[0m\u001b[0;34m\u001b[0m\u001b[0;34m\u001b[0m\u001b[0m\n\u001b[0m\u001b[1;32m    334\u001b[0m \u001b[0;34m\u001b[0m\u001b[0m\n\u001b[1;32m    335\u001b[0m     \u001b[0;34m@\u001b[0m\u001b[0mproperty\u001b[0m\u001b[0;34m\u001b[0m\u001b[0;34m\u001b[0m\u001b[0m\n",
            "\u001b[0;32m/usr/local/lib/python3.6/dist-packages/selenium/webdriver/remote/webdriver.py\u001b[0m in \u001b[0;36mexecute\u001b[0;34m(self, driver_command, params)\u001b[0m\n\u001b[1;32m    317\u001b[0m \u001b[0;34m\u001b[0m\u001b[0m\n\u001b[1;32m    318\u001b[0m         \u001b[0mparams\u001b[0m \u001b[0;34m=\u001b[0m \u001b[0mself\u001b[0m\u001b[0;34m.\u001b[0m\u001b[0m_wrap_value\u001b[0m\u001b[0;34m(\u001b[0m\u001b[0mparams\u001b[0m\u001b[0;34m)\u001b[0m\u001b[0;34m\u001b[0m\u001b[0;34m\u001b[0m\u001b[0m\n\u001b[0;32m--> 319\u001b[0;31m         \u001b[0mresponse\u001b[0m \u001b[0;34m=\u001b[0m \u001b[0mself\u001b[0m\u001b[0;34m.\u001b[0m\u001b[0mcommand_executor\u001b[0m\u001b[0;34m.\u001b[0m\u001b[0mexecute\u001b[0m\u001b[0;34m(\u001b[0m\u001b[0mdriver_command\u001b[0m\u001b[0;34m,\u001b[0m \u001b[0mparams\u001b[0m\u001b[0;34m)\u001b[0m\u001b[0;34m\u001b[0m\u001b[0;34m\u001b[0m\u001b[0m\n\u001b[0m\u001b[1;32m    320\u001b[0m         \u001b[0;32mif\u001b[0m \u001b[0mresponse\u001b[0m\u001b[0;34m:\u001b[0m\u001b[0;34m\u001b[0m\u001b[0;34m\u001b[0m\u001b[0m\n\u001b[1;32m    321\u001b[0m             \u001b[0mself\u001b[0m\u001b[0;34m.\u001b[0m\u001b[0merror_handler\u001b[0m\u001b[0;34m.\u001b[0m\u001b[0mcheck_response\u001b[0m\u001b[0;34m(\u001b[0m\u001b[0mresponse\u001b[0m\u001b[0;34m)\u001b[0m\u001b[0;34m\u001b[0m\u001b[0;34m\u001b[0m\u001b[0m\n",
            "\u001b[0;32m/usr/local/lib/python3.6/dist-packages/selenium/webdriver/remote/remote_connection.py\u001b[0m in \u001b[0;36mexecute\u001b[0;34m(self, command, params)\u001b[0m\n\u001b[1;32m    372\u001b[0m         \u001b[0mdata\u001b[0m \u001b[0;34m=\u001b[0m \u001b[0mutils\u001b[0m\u001b[0;34m.\u001b[0m\u001b[0mdump_json\u001b[0m\u001b[0;34m(\u001b[0m\u001b[0mparams\u001b[0m\u001b[0;34m)\u001b[0m\u001b[0;34m\u001b[0m\u001b[0;34m\u001b[0m\u001b[0m\n\u001b[1;32m    373\u001b[0m         \u001b[0murl\u001b[0m \u001b[0;34m=\u001b[0m \u001b[0;34m'%s%s'\u001b[0m \u001b[0;34m%\u001b[0m \u001b[0;34m(\u001b[0m\u001b[0mself\u001b[0m\u001b[0;34m.\u001b[0m\u001b[0m_url\u001b[0m\u001b[0;34m,\u001b[0m \u001b[0mpath\u001b[0m\u001b[0;34m)\u001b[0m\u001b[0;34m\u001b[0m\u001b[0;34m\u001b[0m\u001b[0m\n\u001b[0;32m--> 374\u001b[0;31m         \u001b[0;32mreturn\u001b[0m \u001b[0mself\u001b[0m\u001b[0;34m.\u001b[0m\u001b[0m_request\u001b[0m\u001b[0;34m(\u001b[0m\u001b[0mcommand_info\u001b[0m\u001b[0;34m[\u001b[0m\u001b[0;36m0\u001b[0m\u001b[0;34m]\u001b[0m\u001b[0;34m,\u001b[0m \u001b[0murl\u001b[0m\u001b[0;34m,\u001b[0m \u001b[0mbody\u001b[0m\u001b[0;34m=\u001b[0m\u001b[0mdata\u001b[0m\u001b[0;34m)\u001b[0m\u001b[0;34m\u001b[0m\u001b[0;34m\u001b[0m\u001b[0m\n\u001b[0m\u001b[1;32m    375\u001b[0m \u001b[0;34m\u001b[0m\u001b[0m\n\u001b[1;32m    376\u001b[0m     \u001b[0;32mdef\u001b[0m \u001b[0m_request\u001b[0m\u001b[0;34m(\u001b[0m\u001b[0mself\u001b[0m\u001b[0;34m,\u001b[0m \u001b[0mmethod\u001b[0m\u001b[0;34m,\u001b[0m \u001b[0murl\u001b[0m\u001b[0;34m,\u001b[0m \u001b[0mbody\u001b[0m\u001b[0;34m=\u001b[0m\u001b[0;32mNone\u001b[0m\u001b[0;34m)\u001b[0m\u001b[0;34m:\u001b[0m\u001b[0;34m\u001b[0m\u001b[0;34m\u001b[0m\u001b[0m\n",
            "\u001b[0;32m/usr/local/lib/python3.6/dist-packages/selenium/webdriver/remote/remote_connection.py\u001b[0m in \u001b[0;36m_request\u001b[0;34m(self, method, url, body)\u001b[0m\n\u001b[1;32m    395\u001b[0m \u001b[0;34m\u001b[0m\u001b[0m\n\u001b[1;32m    396\u001b[0m         \u001b[0;32mif\u001b[0m \u001b[0mself\u001b[0m\u001b[0;34m.\u001b[0m\u001b[0mkeep_alive\u001b[0m\u001b[0;34m:\u001b[0m\u001b[0;34m\u001b[0m\u001b[0;34m\u001b[0m\u001b[0m\n\u001b[0;32m--> 397\u001b[0;31m             \u001b[0mresp\u001b[0m \u001b[0;34m=\u001b[0m \u001b[0mself\u001b[0m\u001b[0;34m.\u001b[0m\u001b[0m_conn\u001b[0m\u001b[0;34m.\u001b[0m\u001b[0mrequest\u001b[0m\u001b[0;34m(\u001b[0m\u001b[0mmethod\u001b[0m\u001b[0;34m,\u001b[0m \u001b[0murl\u001b[0m\u001b[0;34m,\u001b[0m \u001b[0mbody\u001b[0m\u001b[0;34m=\u001b[0m\u001b[0mbody\u001b[0m\u001b[0;34m,\u001b[0m \u001b[0mheaders\u001b[0m\u001b[0;34m=\u001b[0m\u001b[0mheaders\u001b[0m\u001b[0;34m)\u001b[0m\u001b[0;34m\u001b[0m\u001b[0;34m\u001b[0m\u001b[0m\n\u001b[0m\u001b[1;32m    398\u001b[0m \u001b[0;34m\u001b[0m\u001b[0m\n\u001b[1;32m    399\u001b[0m             \u001b[0mstatuscode\u001b[0m \u001b[0;34m=\u001b[0m \u001b[0mresp\u001b[0m\u001b[0;34m.\u001b[0m\u001b[0mstatus\u001b[0m\u001b[0;34m\u001b[0m\u001b[0;34m\u001b[0m\u001b[0m\n",
            "\u001b[0;32m/usr/local/lib/python3.6/dist-packages/urllib3/request.py\u001b[0m in \u001b[0;36mrequest\u001b[0;34m(self, method, url, fields, headers, **urlopen_kw)\u001b[0m\n\u001b[1;32m     70\u001b[0m             return self.request_encode_body(method, url, fields=fields,\n\u001b[1;32m     71\u001b[0m                                             \u001b[0mheaders\u001b[0m\u001b[0;34m=\u001b[0m\u001b[0mheaders\u001b[0m\u001b[0;34m,\u001b[0m\u001b[0;34m\u001b[0m\u001b[0;34m\u001b[0m\u001b[0m\n\u001b[0;32m---> 72\u001b[0;31m                                             **urlopen_kw)\n\u001b[0m\u001b[1;32m     73\u001b[0m \u001b[0;34m\u001b[0m\u001b[0m\n\u001b[1;32m     74\u001b[0m     def request_encode_url(self, method, url, fields=None, headers=None,\n",
            "\u001b[0;32m/usr/local/lib/python3.6/dist-packages/urllib3/request.py\u001b[0m in \u001b[0;36mrequest_encode_body\u001b[0;34m(self, method, url, fields, headers, encode_multipart, multipart_boundary, **urlopen_kw)\u001b[0m\n\u001b[1;32m    148\u001b[0m         \u001b[0mextra_kw\u001b[0m\u001b[0;34m.\u001b[0m\u001b[0mupdate\u001b[0m\u001b[0;34m(\u001b[0m\u001b[0murlopen_kw\u001b[0m\u001b[0;34m)\u001b[0m\u001b[0;34m\u001b[0m\u001b[0;34m\u001b[0m\u001b[0m\n\u001b[1;32m    149\u001b[0m \u001b[0;34m\u001b[0m\u001b[0m\n\u001b[0;32m--> 150\u001b[0;31m         \u001b[0;32mreturn\u001b[0m \u001b[0mself\u001b[0m\u001b[0;34m.\u001b[0m\u001b[0murlopen\u001b[0m\u001b[0;34m(\u001b[0m\u001b[0mmethod\u001b[0m\u001b[0;34m,\u001b[0m \u001b[0murl\u001b[0m\u001b[0;34m,\u001b[0m \u001b[0;34m**\u001b[0m\u001b[0mextra_kw\u001b[0m\u001b[0;34m)\u001b[0m\u001b[0;34m\u001b[0m\u001b[0;34m\u001b[0m\u001b[0m\n\u001b[0m",
            "\u001b[0;32m/usr/local/lib/python3.6/dist-packages/urllib3/poolmanager.py\u001b[0m in \u001b[0;36murlopen\u001b[0;34m(self, method, url, redirect, **kw)\u001b[0m\n\u001b[1;32m    322\u001b[0m             \u001b[0mresponse\u001b[0m \u001b[0;34m=\u001b[0m \u001b[0mconn\u001b[0m\u001b[0;34m.\u001b[0m\u001b[0murlopen\u001b[0m\u001b[0;34m(\u001b[0m\u001b[0mmethod\u001b[0m\u001b[0;34m,\u001b[0m \u001b[0murl\u001b[0m\u001b[0;34m,\u001b[0m \u001b[0;34m**\u001b[0m\u001b[0mkw\u001b[0m\u001b[0;34m)\u001b[0m\u001b[0;34m\u001b[0m\u001b[0;34m\u001b[0m\u001b[0m\n\u001b[1;32m    323\u001b[0m         \u001b[0;32melse\u001b[0m\u001b[0;34m:\u001b[0m\u001b[0;34m\u001b[0m\u001b[0;34m\u001b[0m\u001b[0m\n\u001b[0;32m--> 324\u001b[0;31m             \u001b[0mresponse\u001b[0m \u001b[0;34m=\u001b[0m \u001b[0mconn\u001b[0m\u001b[0;34m.\u001b[0m\u001b[0murlopen\u001b[0m\u001b[0;34m(\u001b[0m\u001b[0mmethod\u001b[0m\u001b[0;34m,\u001b[0m \u001b[0mu\u001b[0m\u001b[0;34m.\u001b[0m\u001b[0mrequest_uri\u001b[0m\u001b[0;34m,\u001b[0m \u001b[0;34m**\u001b[0m\u001b[0mkw\u001b[0m\u001b[0;34m)\u001b[0m\u001b[0;34m\u001b[0m\u001b[0;34m\u001b[0m\u001b[0m\n\u001b[0m\u001b[1;32m    325\u001b[0m \u001b[0;34m\u001b[0m\u001b[0m\n\u001b[1;32m    326\u001b[0m         \u001b[0mredirect_location\u001b[0m \u001b[0;34m=\u001b[0m \u001b[0mredirect\u001b[0m \u001b[0;32mand\u001b[0m \u001b[0mresponse\u001b[0m\u001b[0;34m.\u001b[0m\u001b[0mget_redirect_location\u001b[0m\u001b[0;34m(\u001b[0m\u001b[0;34m)\u001b[0m\u001b[0;34m\u001b[0m\u001b[0;34m\u001b[0m\u001b[0m\n",
            "\u001b[0;32m/usr/local/lib/python3.6/dist-packages/urllib3/connectionpool.py\u001b[0m in \u001b[0;36murlopen\u001b[0;34m(self, method, url, body, headers, retries, redirect, assert_same_host, timeout, pool_timeout, release_conn, chunked, body_pos, **response_kw)\u001b[0m\n\u001b[1;32m    665\u001b[0m                                 \u001b[0mtimeout\u001b[0m\u001b[0;34m=\u001b[0m\u001b[0mtimeout\u001b[0m\u001b[0;34m,\u001b[0m \u001b[0mpool_timeout\u001b[0m\u001b[0;34m=\u001b[0m\u001b[0mpool_timeout\u001b[0m\u001b[0;34m,\u001b[0m\u001b[0;34m\u001b[0m\u001b[0;34m\u001b[0m\u001b[0m\n\u001b[1;32m    666\u001b[0m                                 \u001b[0mrelease_conn\u001b[0m\u001b[0;34m=\u001b[0m\u001b[0mrelease_conn\u001b[0m\u001b[0;34m,\u001b[0m \u001b[0mbody_pos\u001b[0m\u001b[0;34m=\u001b[0m\u001b[0mbody_pos\u001b[0m\u001b[0;34m,\u001b[0m\u001b[0;34m\u001b[0m\u001b[0;34m\u001b[0m\u001b[0m\n\u001b[0;32m--> 667\u001b[0;31m                                 **response_kw)\n\u001b[0m\u001b[1;32m    668\u001b[0m \u001b[0;34m\u001b[0m\u001b[0m\n\u001b[1;32m    669\u001b[0m         \u001b[0;32mdef\u001b[0m \u001b[0mdrain_and_release_conn\u001b[0m\u001b[0;34m(\u001b[0m\u001b[0mresponse\u001b[0m\u001b[0;34m)\u001b[0m\u001b[0;34m:\u001b[0m\u001b[0;34m\u001b[0m\u001b[0;34m\u001b[0m\u001b[0m\n",
            "\u001b[0;32m/usr/local/lib/python3.6/dist-packages/urllib3/connectionpool.py\u001b[0m in \u001b[0;36murlopen\u001b[0;34m(self, method, url, body, headers, retries, redirect, assert_same_host, timeout, pool_timeout, release_conn, chunked, body_pos, **response_kw)\u001b[0m\n\u001b[1;32m    665\u001b[0m                                 \u001b[0mtimeout\u001b[0m\u001b[0;34m=\u001b[0m\u001b[0mtimeout\u001b[0m\u001b[0;34m,\u001b[0m \u001b[0mpool_timeout\u001b[0m\u001b[0;34m=\u001b[0m\u001b[0mpool_timeout\u001b[0m\u001b[0;34m,\u001b[0m\u001b[0;34m\u001b[0m\u001b[0;34m\u001b[0m\u001b[0m\n\u001b[1;32m    666\u001b[0m                                 \u001b[0mrelease_conn\u001b[0m\u001b[0;34m=\u001b[0m\u001b[0mrelease_conn\u001b[0m\u001b[0;34m,\u001b[0m \u001b[0mbody_pos\u001b[0m\u001b[0;34m=\u001b[0m\u001b[0mbody_pos\u001b[0m\u001b[0;34m,\u001b[0m\u001b[0;34m\u001b[0m\u001b[0;34m\u001b[0m\u001b[0m\n\u001b[0;32m--> 667\u001b[0;31m                                 **response_kw)\n\u001b[0m\u001b[1;32m    668\u001b[0m \u001b[0;34m\u001b[0m\u001b[0m\n\u001b[1;32m    669\u001b[0m         \u001b[0;32mdef\u001b[0m \u001b[0mdrain_and_release_conn\u001b[0m\u001b[0;34m(\u001b[0m\u001b[0mresponse\u001b[0m\u001b[0;34m)\u001b[0m\u001b[0;34m:\u001b[0m\u001b[0;34m\u001b[0m\u001b[0;34m\u001b[0m\u001b[0m\n",
            "\u001b[0;32m/usr/local/lib/python3.6/dist-packages/urllib3/connectionpool.py\u001b[0m in \u001b[0;36murlopen\u001b[0;34m(self, method, url, body, headers, retries, redirect, assert_same_host, timeout, pool_timeout, release_conn, chunked, body_pos, **response_kw)\u001b[0m\n\u001b[1;32m    665\u001b[0m                                 \u001b[0mtimeout\u001b[0m\u001b[0;34m=\u001b[0m\u001b[0mtimeout\u001b[0m\u001b[0;34m,\u001b[0m \u001b[0mpool_timeout\u001b[0m\u001b[0;34m=\u001b[0m\u001b[0mpool_timeout\u001b[0m\u001b[0;34m,\u001b[0m\u001b[0;34m\u001b[0m\u001b[0;34m\u001b[0m\u001b[0m\n\u001b[1;32m    666\u001b[0m                                 \u001b[0mrelease_conn\u001b[0m\u001b[0;34m=\u001b[0m\u001b[0mrelease_conn\u001b[0m\u001b[0;34m,\u001b[0m \u001b[0mbody_pos\u001b[0m\u001b[0;34m=\u001b[0m\u001b[0mbody_pos\u001b[0m\u001b[0;34m,\u001b[0m\u001b[0;34m\u001b[0m\u001b[0;34m\u001b[0m\u001b[0m\n\u001b[0;32m--> 667\u001b[0;31m                                 **response_kw)\n\u001b[0m\u001b[1;32m    668\u001b[0m \u001b[0;34m\u001b[0m\u001b[0m\n\u001b[1;32m    669\u001b[0m         \u001b[0;32mdef\u001b[0m \u001b[0mdrain_and_release_conn\u001b[0m\u001b[0;34m(\u001b[0m\u001b[0mresponse\u001b[0m\u001b[0;34m)\u001b[0m\u001b[0;34m:\u001b[0m\u001b[0;34m\u001b[0m\u001b[0;34m\u001b[0m\u001b[0m\n",
            "\u001b[0;32m/usr/local/lib/python3.6/dist-packages/urllib3/connectionpool.py\u001b[0m in \u001b[0;36murlopen\u001b[0;34m(self, method, url, body, headers, retries, redirect, assert_same_host, timeout, pool_timeout, release_conn, chunked, body_pos, **response_kw)\u001b[0m\n\u001b[1;32m    636\u001b[0m \u001b[0;34m\u001b[0m\u001b[0m\n\u001b[1;32m    637\u001b[0m             retries = retries.increment(method, url, error=e, _pool=self,\n\u001b[0;32m--> 638\u001b[0;31m                                         _stacktrace=sys.exc_info()[2])\n\u001b[0m\u001b[1;32m    639\u001b[0m             \u001b[0mretries\u001b[0m\u001b[0;34m.\u001b[0m\u001b[0msleep\u001b[0m\u001b[0;34m(\u001b[0m\u001b[0;34m)\u001b[0m\u001b[0;34m\u001b[0m\u001b[0;34m\u001b[0m\u001b[0m\n\u001b[1;32m    640\u001b[0m \u001b[0;34m\u001b[0m\u001b[0m\n",
            "\u001b[0;32m/usr/local/lib/python3.6/dist-packages/urllib3/util/retry.py\u001b[0m in \u001b[0;36mincrement\u001b[0;34m(self, method, url, response, error, _pool, _stacktrace)\u001b[0m\n\u001b[1;32m    397\u001b[0m \u001b[0;34m\u001b[0m\u001b[0m\n\u001b[1;32m    398\u001b[0m         \u001b[0;32mif\u001b[0m \u001b[0mnew_retry\u001b[0m\u001b[0;34m.\u001b[0m\u001b[0mis_exhausted\u001b[0m\u001b[0;34m(\u001b[0m\u001b[0;34m)\u001b[0m\u001b[0;34m:\u001b[0m\u001b[0;34m\u001b[0m\u001b[0;34m\u001b[0m\u001b[0m\n\u001b[0;32m--> 399\u001b[0;31m             \u001b[0;32mraise\u001b[0m \u001b[0mMaxRetryError\u001b[0m\u001b[0;34m(\u001b[0m\u001b[0m_pool\u001b[0m\u001b[0;34m,\u001b[0m \u001b[0murl\u001b[0m\u001b[0;34m,\u001b[0m \u001b[0merror\u001b[0m \u001b[0;32mor\u001b[0m \u001b[0mResponseError\u001b[0m\u001b[0;34m(\u001b[0m\u001b[0mcause\u001b[0m\u001b[0;34m)\u001b[0m\u001b[0;34m)\u001b[0m\u001b[0;34m\u001b[0m\u001b[0;34m\u001b[0m\u001b[0m\n\u001b[0m\u001b[1;32m    400\u001b[0m \u001b[0;34m\u001b[0m\u001b[0m\n\u001b[1;32m    401\u001b[0m         \u001b[0mlog\u001b[0m\u001b[0;34m.\u001b[0m\u001b[0mdebug\u001b[0m\u001b[0;34m(\u001b[0m\u001b[0;34m\"Incremented Retry for (url='%s'): %r\"\u001b[0m\u001b[0;34m,\u001b[0m \u001b[0murl\u001b[0m\u001b[0;34m,\u001b[0m \u001b[0mnew_retry\u001b[0m\u001b[0;34m)\u001b[0m\u001b[0;34m\u001b[0m\u001b[0;34m\u001b[0m\u001b[0m\n",
            "\u001b[0;31mMaxRetryError\u001b[0m: HTTPConnectionPool(host='127.0.0.1', port=60107): Max retries exceeded with url: /session/7b960c0b1f1f128119ee7a289970fec1/url (Caused by NewConnectionError('<urllib3.connection.HTTPConnection object at 0x7ff18cf027f0>: Failed to establish a new connection: [Errno 111] Connection refused',))"
          ]
        }
      ]
    },
    {
      "cell_type": "code",
      "metadata": {
        "id": "JdXoW3Cr6jUd",
        "colab_type": "code",
        "outputId": "4006cb2d-d779-4e87-d420-7e46f376ef86",
        "colab": {
          "base_uri": "https://localhost:8080/",
          "height": 34
        }
      },
      "source": [
        ""
      ],
      "execution_count": 0,
      "outputs": [
        {
          "output_type": "stream",
          "text": [
            "[1]\n"
          ],
          "name": "stdout"
        }
      ]
    },
    {
      "cell_type": "code",
      "metadata": {
        "id": "a64RfW5JmFM3",
        "colab_type": "code",
        "outputId": "833be5ac-7ea1-49bc-ffeb-9bbaf8dda1d5",
        "colab": {
          "base_uri": "https://localhost:8080/",
          "height": 105
        }
      },
      "source": [
        " #합칠 때 디버깅 실험실 (무시하셔도 됩니다!)\n",
        "\n",
        "#Features 목록\n",
        "Columns = [\"Movie_title\",\"Genre\",\"Rate\",\"Run_time\",\"Budget\",\"Gross_USA\",\"Language\",\"Directors\",\"Writers\",\"Stars\",\"Certification\"]\n",
        "\n",
        "#DataFrame생성\n",
        "df2 = pd.DataFrame(columns=Columns)\n",
        "\n",
        "#영화 페이지 접근\n",
        "#for i in range(len(movie_titles)):#실제코드\n",
        "for i in range(3): #실험용\n",
        "  url = \"https://www.imdb.com/find?q=\"+str(movie_titles[i])+\"&ref_=nv_sr_sm\" #movie_title에 영화 이름 1개 들어가야함. \n",
        "  print(\"real영화 제목:\",movie_titles[i])\n",
        "  wd.get(url)\n",
        "  #print(wd.page_source)  # results\n",
        "  try:\n",
        "    click_movie = wd.find_elements_by_css_selector('td.result_text > a') #영화 검색창 후 이름 클릭\n",
        "    click_movie[0].click() #클릭이 안되는 경우, no result found. pass하게 코딩.\n",
        "  \n",
        "    time.sleep(1)\n",
        "  except IndexError: #영화 정보가 없어서 클릭이 안되면.\n",
        "    continue \n",
        "  # 여기부터 영화 개별 웹페이지 진입 성공, 자료수집  \n",
        "  Movie_title = []\n",
        "#Movie_title\n",
        "  try:\n",
        "    imdb_title = wd.find_element_by_css_selector(\"#title-overview-widget > div.vital > div.title_block > div > div.titleBar > div.title_wrapper > h1\").text\n",
        "    if imdb_title == movie_titles[i]:\n",
        "      Movie_title = imdb_title\n",
        "    else:\n",
        "      continue #이렇게 루프 뛰어넘어도 df index에는 공백으로 흔적 남아있음\n",
        "    #print(wd.current_url)\n",
        "  except NoSuchElementException:\n",
        "    Movie_title.append(movie_titles[i])    \n",
        "  print(Movie_title)\n",
        "\n",
        "  wd.close"
      ],
      "execution_count": 0,
      "outputs": [
        {
          "output_type": "stream",
          "text": [
            "real영화 제목: Jim Henson's Holiday Special with Fraggle Rock and Emmet Otter (2018)\n",
            "real영화 제목: Racetime (2018)\n",
            "Racetime (2018)\n",
            "real영화 제목: Spider-Man: Into the Spider-Verse (2018)\n",
            "Spider-Man: Into the Spider-Verse (2018)\n"
          ],
          "name": "stdout"
        }
      ]
    },
    {
      "cell_type": "code",
      "metadata": {
        "id": "gXMhlfc0A-ub",
        "colab_type": "code",
        "outputId": "70a42e24-f59e-4b4d-9dfe-04d9b5bf958c",
        "colab": {
          "base_uri": "https://localhost:8080/",
          "height": 70
        }
      },
      "source": [
        "#선택자 실험실.Requests, Selenium + Writers Stars 다 수집 다시. (무시하셔도 됩니다!)\n",
        "\"\"\"\n",
        "#requests\n",
        "raw = requests.get(\"https://www.imdb.com/title/tt7286456/?ref_=ttrel_rel_tt\") #test영화2\"min\" https://www.imdb.com/title/tt0360796/?ref_=fn_al_tt_2\n",
        "html = BeautifulSoup(raw.text, \"html.parser\")# 파싱하는법 BeautifulSoup(request로 가져온 url.text, html.parser)\n",
        "#퍼올꺼 = html.select_one(\"선택자\").text.strip() \n",
        "\"\"\"\n",
        "#selenium\n",
        "wd = webdriver.Chrome('chromedriver',chrome_options=chrome_options)\n",
        "url = \"https://www.imdb.com/find?q=\"+str(\"joker (2019)\")+\"&ref_=nv_sr_sm\" #영화 이름으로 검색\n",
        "wd.get(url)\n",
        "#wd.find_element_by_css_selector(\"tag\")일케 씀.\n",
        "click_movie = wd.find_elements_by_css_selector('td.result_text a') #영화 검색창 후 이름 클릭\n",
        "click_movie[0].click() #개별 페이지 진입\n",
        "time.sleep(1)\n",
        "\n"
      ],
      "execution_count": 0,
      "outputs": [
        {
          "output_type": "stream",
          "text": [
            "/usr/local/lib/python3.6/dist-packages/ipykernel_launcher.py:8: DeprecationWarning: use options instead of chrome_options\n",
            "  \n"
          ],
          "name": "stderr"
        },
        {
          "output_type": "stream",
          "text": [
            "8.5\n"
          ],
          "name": "stdout"
        }
      ]
    },
    {
      "cell_type": "code",
      "metadata": {
        "id": "mP6S3mHrT5ie",
        "colab_type": "code",
        "outputId": "ab7af087-6b23-421e-c42c-cff41e8f4dac",
        "colab": {
          "base_uri": "https://localhost:8080/",
          "height": 34
        }
      },
      "source": [
        "# 선택자 실험실- request로 확인 +추후 try except각각 처리해주기 필수 . (무시하셔도 됩니다!)\n",
        "#Movie_title,Year,Rate, Certificate, runtime, Director, Writers, Stars,Certificate, Language,Released_Date. runtime은 다시.(영화페이지 밑에 분으로 나온놈 있음.)-->abort. coz N/A in some pages.\n",
        "\n",
        "#조커페이지 입장\n",
        "url = \"https://www.imdb.com/find?q=\"+str(\"Joker\")+\"&ref_=nv_sr_sm\" #movie_title에 영화 이름 1개 들어가야함. \n",
        "wd.get(url)\n",
        "  #print(wd.page_source)  # results\n",
        "click_movie = wd.find_elements_by_css_selector('td.result_text a') #영화 검색창 후 이름 클릭\n",
        "click_movie[0].click()\n",
        "import time\n",
        "time.sleep(1)\n",
        "  # 여기부터 영화 개별 웹페이지 진입 성공, 자료수집  \n",
        "\n",
        "\n",
        "\n",
        "# = find_element_by_css_selector(\"\").text 이거뭐임?*\n",
        " \n",
        "\n",
        "\n",
        "#Year(released year)\n",
        "Year = wd.find_element_by_css_selector(\"span#titleYear a\").text\n",
        "\n",
        "\n",
        "#Rate(전체 별점) \n",
        "Rate =  html.select_one(\"div.ratingValue span:nth-of-type(1):first-child\").text.strip() # nth-of-type(n번째) n은 1부터 시작, first-child하면 부모 모든 요소 중 첫번째 자식만 선택 \n",
        "print(Rate)\n",
        "\n",
        "#Certificate(제한 연령),Relased date * US거로 다시하기. 밑에서\n",
        "  #container = html.select(\"div.subtext\")\n",
        "#Run time\n",
        "Run_time = html.select_one(\"div.subtext time\").text.strip()\n",
        "print(Run_time)\n",
        "\n",
        "#Genre - 수집 중 날짜까지 리스트 마지막 수집되어서 index[-1]지우는 식으로 코딩함.\n",
        "genre = html.select(\"div.subtext a\")[0:-1]\n",
        "Genre = []\n",
        "for gen in range(len(genre)):\n",
        "  Genre.append(genre[gen].text.strip())\n",
        "#print(Genre)\n",
        "\n",
        "# Director, Writer, Starring div.credit_summary_item줄별로. \n",
        "Container = html.select(\"div.credit_summary_item\")\n",
        "\n",
        "#Director\n",
        "Director = []\n",
        "director = Container[0].select(\"a\") \n",
        "for i in range(len(director)):\n",
        "  Director.append(director[i].text.strip())\n",
        "print(Director)\n",
        "\n",
        "  # n more credits 지우기\n",
        "for i in range(len(Director)):\n",
        "  if \"more credits\" or \"more credit\" in Director[i]:\n",
        "   Ddelete_i = i # Director에서 지워야하는 인덱스\n",
        "  else: \n",
        "    pass\n",
        "del Director[Ddelete_i] \n",
        "\n",
        "\n",
        "#자동화하기(여러 페이지용.)\n",
        "\n",
        "#Certificate > clicking see more button using Selenium\n",
        "url = \"https://www.imdb.com/title/\"+movie_code+\"/parentalguide?ref_=tt_stry_pg#certification\" #개별영화 페이지 movie_title에 영화 이름 1개 들어가야함. \n",
        "wd.get(url)\n",
        "#선택자 div.txt-block>span.see-more.inline>a\n",
        "\n",
        "Certificate_Button = wd.find_element_by_css_selector(\"div.txt-block>span.see-more.inline>a\") #클릭됨?확인\n",
        "Certificate_Button.click()\n",
        "time.sleep(1)\n",
        "#컨테이너 li.ipl-inline-list__item a\n",
        "countries = wd.find_elements_by_css_selector(\"li.ipl-inline-list__item a\")\n",
        "for i in range(len(countries)):\n",
        "  if \"United States\" in countries[i].text:\n",
        "    cert = countries[i].text\n",
        "    cert = cert.split(\":\")\n",
        "    Certificate = cert[1]\n",
        "    #print(Certificate)\n",
        "    #여기서 마지막 글자만 가져오는 식으로 하자.\n",
        "\n",
        "\n",
        "#Language: 로 시작하는 컨테이너찾기, 적당히 인덱싱해서 Language찾기. \n",
        "container = html.select(\"div.txt-block\")\n",
        "for i in range(len(container)):\n",
        "  if container[i].text.strip().startswith(\"Language:\"):\n",
        "    Lang = container[i].text.strip()\n",
        "Language = Lang[9:]\n",
        "#print(Language)\n",
        "\n",
        "\n",
        "  # Language인 행에서 text가져오기시도. div.txt-block > h4.inline 가\n",
        "  container = html.select(\"div.txt-block > h4.inline\")\n",
        "  for i in range(len(container)):\n",
        "    if container[i].text.strip() == \"Language:\":\n",
        "      print(container[i].text.strip())--> #\"Language\" 나옴\n",
        "\n",
        "\n",
        "  #그냥 전처리 없이 language:English만 가져오는법\n",
        "  container = html.select(\"div.txt-block > a\") # >a하면 안되고 > a하니까 됨..\n",
        "  for i in range(len(container)):\n",
        "    if container[i].text.strip() == \"English\":\n",
        "      print(container[i].text.strip())\n",
        "\n",
        "#Relased_date\n",
        "container = html.select(\"div.txt-block\")\n",
        "for i in range(len(container)):\n",
        "  if container[i].text.strip().startswith(\"Release Date:\"):\n",
        "    RDate_list = container[i]\n",
        "print(RDate_list)\n",
        "\n",
        "#click span.see-more.inline 눌러야함.\n",
        "Container = wd.find_elements_by_css_selector(\"div.txt-block\")\n",
        "for i in range(len(Container)):\n",
        "  if container[i].text.strip().startswith(\"Release Date:\"):\n",
        "    RDate_list = Container[i]\n",
        "print(RDate_list)\n",
        "RDate_Container = RDate_list.find_elements_by_css_selector(\"span.see-more.inline\") \n",
        "Relased_date = RDate_Container.find_element_by_css_selector(\"a\")\n",
        "print(Relased_date)\n",
        "#print(RDate_list)\n",
        "#Rdate_Button.click()\n",
        "\n",
        "\n",
        "#Released Date(circumvent)\n",
        "#이거 클릭하면 들어감. Released date div.subtext>a:last-child \n",
        "#주의.위에서 url로 클릭한 상태이기에 url초기화해서 다시해줘야.\n",
        "url = \"https://www.imdb.com/title/tt7286456/?ref_=ttrel_rel_tt\" #개별영화 페이지 movie_title에 영화 이름 1개 들어가야함. \n",
        "wd.get(url)\n",
        "Released_year = wd.find_elements_by_css_selector(\"div.subtext > a\") \n",
        "Released_year[-1].click()\n",
        "time.sleep(1)\n",
        "#국가,개봉일 목록 --> tr.ipl-zebra-list__item.release-date-item \n",
        "Date_list = wd.find_elements_by_css_selector(\"tr.ipl-zebra-list__item.release-date-item\")\n",
        "\n",
        "#USA로 시작하는 칸 찾기, 최초 개봉일 extract\n",
        "\n",
        "for i in range(len(Date_list)):\n",
        "  if Date_list[i].text.startswith(\"USA\") and \"premiere\" in Date_list[i].text: #여러 개봉일 중\"premiere\"개봉일 추출\n",
        "     premiere_released = i  #인덱스 찾기 성공, td.release-date-item__date 여기로 연계.\n",
        "     \n",
        "Date_list = wd.find_elements_by_css_selector(\"td.release-date-item__date\")\n",
        "Released_Date = Date_list[premiere_released].text #Released_Date 수집 성공\n",
        "     \n",
        "#wd.close\n",
        "\"\"\"\n",
        "#다 리스트로 만들기하고 df활용해보기**"
      ],
      "execution_count": 0,
      "outputs": [
        {
          "output_type": "stream",
          "text": [
            "Min (2003)\n"
          ],
          "name": "stdout"
        }
      ]
    },
    {
      "cell_type": "code",
      "metadata": {
        "id": "SdiVaiPeUY8B",
        "colab_type": "code",
        "colab": {}
      },
      "source": [
        "\"\"\" (무시하셔도 됩니다!)\n",
        "# 엑셀파일 만들기\n",
        "file_name = 'workbook.xls'\n",
        "wb = xlwt.Workbook()\n",
        "ws_1 = wb.add_sheet('sheet0',cell_overwrite_ok = True)\n",
        "ws_1 = wb.get_sheet(0)\n",
        "ws_1.write(1,1,'영화제목')\n",
        "\"\"\""
      ],
      "execution_count": 0,
      "outputs": []
    },
    {
      "cell_type": "code",
      "metadata": {
        "id": "Su9h8KFVROiE",
        "colab_type": "code",
        "colab": {}
      },
      "source": [
        "#Writers,Stars 개별웹페이지에서 바로 가져오는법(See full cast 말고.) (무시하셔도 됩니다!)\n",
        "\"\"\"\n",
        "# Writers\n",
        "Writer = []\n",
        "writer = Container[1].select(\"a\")\n",
        "for i in range(len(writer)):\n",
        "  Writer.append(writer[i].text.strip())\n",
        "\n",
        "  # n more credits 지우기\n",
        "for i in range(len(Writer)):\n",
        "  if \"more credits\" or \"more credit\" in Writer[i]:\n",
        "   Wdelete_i = i # Writer에서 지워야하는 인덱스\n",
        "  else: \n",
        "    pass\n",
        "del Writer[Wdelete_i] \n",
        "\n",
        "  # Top2 in Writers \n",
        "if len(Writer) > 2: #3명이상이면\n",
        "  Writer = Writer[0:2]\n",
        "print(Writer)\n",
        "\n",
        "# Stars\n",
        "Stars = []\n",
        "stars = Container[2].select(\"a\")\n",
        "for i in range(len(stars)):\n",
        "  Stars.append(stars[i].text.strip())\n",
        "\n",
        "  # See full cast & crew 지우기\n",
        "for i in range(len(Stars)):\n",
        "  if \"See full cast & crew\" in Stars[i]:\n",
        "   Sdelete_i = i # Stars에서 지워야하는 인덱스\n",
        "  else: \n",
        "    pass\n",
        "del Stars[Sdelete_i] \n",
        "  #Top 2 stars\n",
        "if len(Stars) > 2: #3명이상이면\n",
        "  Stars = Stars[0:2] # 2명만 extract\n",
        "print(Stars)\n",
        "\"\"\""
      ],
      "execution_count": 0,
      "outputs": []
    },
    {
      "cell_type": "code",
      "metadata": {
        "id": "I5iRR0eeUhKv",
        "colab_type": "code",
        "colab": {}
      },
      "source": [
        "\"\"\"(무시하셔도 됩니다!)\n",
        "#엑셀파일 다운받기\n",
        "for i in range(len(new_movie_titles)):\n",
        "  ws_1.write(i+1,1,new_movie_titles[i])\n",
        "      \n",
        "      \n",
        "wb.save(file_name)\n",
        "files.download(file_name)\n",
        "\"\"\""
      ],
      "execution_count": 0,
      "outputs": []
    },
    {
      "cell_type": "code",
      "metadata": {
        "id": "k-IizxDF0t5t",
        "colab_type": "code",
        "outputId": "c3e89ac8-6c58-4dfa-fde6-85d128c69129",
        "colab": {
          "base_uri": "https://localhost:8080/",
          "height": 459
        }
      },
      "source": [
        "#Dataframe으로 저장하기 (무시하셔도 됩니다!)\n",
        "\n",
        "#pandas 활용해보기\n",
        "df2 = pd.DataFrame([{} #컬럼:정보 "
      ],
      "execution_count": 0,
      "outputs": [
        {
          "output_type": "error",
          "ename": "ValueError",
          "evalue": "ignored",
          "traceback": [
            "\u001b[0;31m---------------------------------------------------------------------------\u001b[0m",
            "\u001b[0;31mValueError\u001b[0m                                Traceback (most recent call last)",
            "\u001b[0;32m/usr/local/lib/python3.6/dist-packages/pandas/core/internals/managers.py\u001b[0m in \u001b[0;36mcreate_block_manager_from_blocks\u001b[0;34m(blocks, axes)\u001b[0m\n\u001b[1;32m   1653\u001b[0m                 blocks = [\n\u001b[0;32m-> 1654\u001b[0;31m                     \u001b[0mmake_block\u001b[0m\u001b[0;34m(\u001b[0m\u001b[0mvalues\u001b[0m\u001b[0;34m=\u001b[0m\u001b[0mblocks\u001b[0m\u001b[0;34m[\u001b[0m\u001b[0;36m0\u001b[0m\u001b[0;34m]\u001b[0m\u001b[0;34m,\u001b[0m \u001b[0mplacement\u001b[0m\u001b[0;34m=\u001b[0m\u001b[0mslice\u001b[0m\u001b[0;34m(\u001b[0m\u001b[0;36m0\u001b[0m\u001b[0;34m,\u001b[0m \u001b[0mlen\u001b[0m\u001b[0;34m(\u001b[0m\u001b[0maxes\u001b[0m\u001b[0;34m[\u001b[0m\u001b[0;36m0\u001b[0m\u001b[0;34m]\u001b[0m\u001b[0;34m)\u001b[0m\u001b[0;34m)\u001b[0m\u001b[0;34m)\u001b[0m\u001b[0;34m\u001b[0m\u001b[0;34m\u001b[0m\u001b[0m\n\u001b[0m\u001b[1;32m   1655\u001b[0m                 ]\n",
            "\u001b[0;32m/usr/local/lib/python3.6/dist-packages/pandas/core/internals/blocks.py\u001b[0m in \u001b[0;36mmake_block\u001b[0;34m(values, placement, klass, ndim, dtype)\u001b[0m\n\u001b[1;32m   3046\u001b[0m \u001b[0;34m\u001b[0m\u001b[0m\n\u001b[0;32m-> 3047\u001b[0;31m     \u001b[0;32mreturn\u001b[0m \u001b[0mklass\u001b[0m\u001b[0;34m(\u001b[0m\u001b[0mvalues\u001b[0m\u001b[0;34m,\u001b[0m \u001b[0mndim\u001b[0m\u001b[0;34m=\u001b[0m\u001b[0mndim\u001b[0m\u001b[0;34m,\u001b[0m \u001b[0mplacement\u001b[0m\u001b[0;34m=\u001b[0m\u001b[0mplacement\u001b[0m\u001b[0;34m)\u001b[0m\u001b[0;34m\u001b[0m\u001b[0;34m\u001b[0m\u001b[0m\n\u001b[0m\u001b[1;32m   3048\u001b[0m \u001b[0;34m\u001b[0m\u001b[0m\n",
            "\u001b[0;32m/usr/local/lib/python3.6/dist-packages/pandas/core/internals/blocks.py\u001b[0m in \u001b[0;36m__init__\u001b[0;34m(self, values, placement, ndim)\u001b[0m\n\u001b[1;32m   2594\u001b[0m \u001b[0;34m\u001b[0m\u001b[0m\n\u001b[0;32m-> 2595\u001b[0;31m         \u001b[0msuper\u001b[0m\u001b[0;34m(\u001b[0m\u001b[0;34m)\u001b[0m\u001b[0;34m.\u001b[0m\u001b[0m__init__\u001b[0m\u001b[0;34m(\u001b[0m\u001b[0mvalues\u001b[0m\u001b[0;34m,\u001b[0m \u001b[0mndim\u001b[0m\u001b[0;34m=\u001b[0m\u001b[0mndim\u001b[0m\u001b[0;34m,\u001b[0m \u001b[0mplacement\u001b[0m\u001b[0;34m=\u001b[0m\u001b[0mplacement\u001b[0m\u001b[0;34m)\u001b[0m\u001b[0;34m\u001b[0m\u001b[0;34m\u001b[0m\u001b[0m\n\u001b[0m\u001b[1;32m   2596\u001b[0m \u001b[0;34m\u001b[0m\u001b[0m\n",
            "\u001b[0;32m/usr/local/lib/python3.6/dist-packages/pandas/core/internals/blocks.py\u001b[0m in \u001b[0;36m__init__\u001b[0;34m(self, values, placement, ndim)\u001b[0m\n\u001b[1;32m    124\u001b[0m             raise ValueError(\n\u001b[0;32m--> 125\u001b[0;31m                 \u001b[0;34mf\"Wrong number of items passed {len(self.values)}, \"\u001b[0m\u001b[0;34m\u001b[0m\u001b[0;34m\u001b[0m\u001b[0m\n\u001b[0m\u001b[1;32m    126\u001b[0m                 \u001b[0;34mf\"placement implies {len(self.mgr_locs)}\"\u001b[0m\u001b[0;34m\u001b[0m\u001b[0;34m\u001b[0m\u001b[0m\n",
            "\u001b[0;31mValueError\u001b[0m: Wrong number of items passed 1, placement implies 11",
            "\nDuring handling of the above exception, another exception occurred:\n",
            "\u001b[0;31mValueError\u001b[0m                                Traceback (most recent call last)",
            "\u001b[0;32m<ipython-input-27-832df350549b>\u001b[0m in \u001b[0;36m<module>\u001b[0;34m()\u001b[0m\n\u001b[1;32m      6\u001b[0m \u001b[0;31m#pandas 활용해보기\u001b[0m\u001b[0;34m\u001b[0m\u001b[0;34m\u001b[0m\u001b[0;34m\u001b[0m\u001b[0m\n\u001b[1;32m      7\u001b[0m df2 = pd.DataFrame([    i,    movie_titles[i],    Genre,    Rate,    Run_time,    Budget,    Gross_USA,    Language,    Writers,    Stars,    Certification],\n\u001b[0;32m----> 8\u001b[0;31m     columns = [i,movie_titles[i],Genre,Rate,Run_time,Budget,Gross_USA,Language,Writers,Stars,Certification])\n\u001b[0m\u001b[1;32m      9\u001b[0m \u001b[0mprint\u001b[0m\u001b[0;34m(\u001b[0m\u001b[0mdf2\u001b[0m\u001b[0;34m)\u001b[0m\u001b[0;34m\u001b[0m\u001b[0;34m\u001b[0m\u001b[0m\n",
            "\u001b[0;32m/usr/local/lib/python3.6/dist-packages/pandas/core/frame.py\u001b[0m in \u001b[0;36m__init__\u001b[0;34m(self, data, index, columns, dtype, copy)\u001b[0m\n\u001b[1;32m    486\u001b[0m                     \u001b[0mmgr\u001b[0m \u001b[0;34m=\u001b[0m \u001b[0marrays_to_mgr\u001b[0m\u001b[0;34m(\u001b[0m\u001b[0marrays\u001b[0m\u001b[0;34m,\u001b[0m \u001b[0mcolumns\u001b[0m\u001b[0;34m,\u001b[0m \u001b[0mindex\u001b[0m\u001b[0;34m,\u001b[0m \u001b[0mcolumns\u001b[0m\u001b[0;34m,\u001b[0m \u001b[0mdtype\u001b[0m\u001b[0;34m=\u001b[0m\u001b[0mdtype\u001b[0m\u001b[0;34m)\u001b[0m\u001b[0;34m\u001b[0m\u001b[0;34m\u001b[0m\u001b[0m\n\u001b[1;32m    487\u001b[0m                 \u001b[0;32melse\u001b[0m\u001b[0;34m:\u001b[0m\u001b[0;34m\u001b[0m\u001b[0;34m\u001b[0m\u001b[0m\n\u001b[0;32m--> 488\u001b[0;31m                     \u001b[0mmgr\u001b[0m \u001b[0;34m=\u001b[0m \u001b[0minit_ndarray\u001b[0m\u001b[0;34m(\u001b[0m\u001b[0mdata\u001b[0m\u001b[0;34m,\u001b[0m \u001b[0mindex\u001b[0m\u001b[0;34m,\u001b[0m \u001b[0mcolumns\u001b[0m\u001b[0;34m,\u001b[0m \u001b[0mdtype\u001b[0m\u001b[0;34m=\u001b[0m\u001b[0mdtype\u001b[0m\u001b[0;34m,\u001b[0m \u001b[0mcopy\u001b[0m\u001b[0;34m=\u001b[0m\u001b[0mcopy\u001b[0m\u001b[0;34m)\u001b[0m\u001b[0;34m\u001b[0m\u001b[0;34m\u001b[0m\u001b[0m\n\u001b[0m\u001b[1;32m    489\u001b[0m             \u001b[0;32melse\u001b[0m\u001b[0;34m:\u001b[0m\u001b[0;34m\u001b[0m\u001b[0;34m\u001b[0m\u001b[0m\n\u001b[1;32m    490\u001b[0m                 \u001b[0mmgr\u001b[0m \u001b[0;34m=\u001b[0m \u001b[0minit_dict\u001b[0m\u001b[0;34m(\u001b[0m\u001b[0;34m{\u001b[0m\u001b[0;34m}\u001b[0m\u001b[0;34m,\u001b[0m \u001b[0mindex\u001b[0m\u001b[0;34m,\u001b[0m \u001b[0mcolumns\u001b[0m\u001b[0;34m,\u001b[0m \u001b[0mdtype\u001b[0m\u001b[0;34m=\u001b[0m\u001b[0mdtype\u001b[0m\u001b[0;34m)\u001b[0m\u001b[0;34m\u001b[0m\u001b[0;34m\u001b[0m\u001b[0m\n",
            "\u001b[0;32m/usr/local/lib/python3.6/dist-packages/pandas/core/internals/construction.py\u001b[0m in \u001b[0;36minit_ndarray\u001b[0;34m(values, index, columns, dtype, copy)\u001b[0m\n\u001b[1;32m    208\u001b[0m         \u001b[0mblock_values\u001b[0m \u001b[0;34m=\u001b[0m \u001b[0;34m[\u001b[0m\u001b[0mvalues\u001b[0m\u001b[0;34m]\u001b[0m\u001b[0;34m\u001b[0m\u001b[0;34m\u001b[0m\u001b[0m\n\u001b[1;32m    209\u001b[0m \u001b[0;34m\u001b[0m\u001b[0m\n\u001b[0;32m--> 210\u001b[0;31m     \u001b[0;32mreturn\u001b[0m \u001b[0mcreate_block_manager_from_blocks\u001b[0m\u001b[0;34m(\u001b[0m\u001b[0mblock_values\u001b[0m\u001b[0;34m,\u001b[0m \u001b[0;34m[\u001b[0m\u001b[0mcolumns\u001b[0m\u001b[0;34m,\u001b[0m \u001b[0mindex\u001b[0m\u001b[0;34m]\u001b[0m\u001b[0;34m)\u001b[0m\u001b[0;34m\u001b[0m\u001b[0;34m\u001b[0m\u001b[0m\n\u001b[0m\u001b[1;32m    211\u001b[0m \u001b[0;34m\u001b[0m\u001b[0m\n\u001b[1;32m    212\u001b[0m \u001b[0;34m\u001b[0m\u001b[0m\n",
            "\u001b[0;32m/usr/local/lib/python3.6/dist-packages/pandas/core/internals/managers.py\u001b[0m in \u001b[0;36mcreate_block_manager_from_blocks\u001b[0;34m(blocks, axes)\u001b[0m\n\u001b[1;32m   1662\u001b[0m         \u001b[0mblocks\u001b[0m \u001b[0;34m=\u001b[0m \u001b[0;34m[\u001b[0m\u001b[0mgetattr\u001b[0m\u001b[0;34m(\u001b[0m\u001b[0mb\u001b[0m\u001b[0;34m,\u001b[0m \u001b[0;34m\"values\"\u001b[0m\u001b[0;34m,\u001b[0m \u001b[0mb\u001b[0m\u001b[0;34m)\u001b[0m \u001b[0;32mfor\u001b[0m \u001b[0mb\u001b[0m \u001b[0;32min\u001b[0m \u001b[0mblocks\u001b[0m\u001b[0;34m]\u001b[0m\u001b[0;34m\u001b[0m\u001b[0;34m\u001b[0m\u001b[0m\n\u001b[1;32m   1663\u001b[0m         \u001b[0mtot_items\u001b[0m \u001b[0;34m=\u001b[0m \u001b[0msum\u001b[0m\u001b[0;34m(\u001b[0m\u001b[0mb\u001b[0m\u001b[0;34m.\u001b[0m\u001b[0mshape\u001b[0m\u001b[0;34m[\u001b[0m\u001b[0;36m0\u001b[0m\u001b[0;34m]\u001b[0m \u001b[0;32mfor\u001b[0m \u001b[0mb\u001b[0m \u001b[0;32min\u001b[0m \u001b[0mblocks\u001b[0m\u001b[0;34m)\u001b[0m\u001b[0;34m\u001b[0m\u001b[0;34m\u001b[0m\u001b[0m\n\u001b[0;32m-> 1664\u001b[0;31m         \u001b[0mconstruction_error\u001b[0m\u001b[0;34m(\u001b[0m\u001b[0mtot_items\u001b[0m\u001b[0;34m,\u001b[0m \u001b[0mblocks\u001b[0m\u001b[0;34m[\u001b[0m\u001b[0;36m0\u001b[0m\u001b[0;34m]\u001b[0m\u001b[0;34m.\u001b[0m\u001b[0mshape\u001b[0m\u001b[0;34m[\u001b[0m\u001b[0;36m1\u001b[0m\u001b[0;34m:\u001b[0m\u001b[0;34m]\u001b[0m\u001b[0;34m,\u001b[0m \u001b[0maxes\u001b[0m\u001b[0;34m,\u001b[0m \u001b[0me\u001b[0m\u001b[0;34m)\u001b[0m\u001b[0;34m\u001b[0m\u001b[0;34m\u001b[0m\u001b[0m\n\u001b[0m\u001b[1;32m   1665\u001b[0m \u001b[0;34m\u001b[0m\u001b[0m\n\u001b[1;32m   1666\u001b[0m \u001b[0;34m\u001b[0m\u001b[0m\n",
            "\u001b[0;32m/usr/local/lib/python3.6/dist-packages/pandas/core/internals/managers.py\u001b[0m in \u001b[0;36mconstruction_error\u001b[0;34m(tot_items, block_shape, axes, e)\u001b[0m\n\u001b[1;32m   1692\u001b[0m     \u001b[0;32mif\u001b[0m \u001b[0mblock_shape\u001b[0m\u001b[0;34m[\u001b[0m\u001b[0;36m0\u001b[0m\u001b[0;34m]\u001b[0m \u001b[0;34m==\u001b[0m \u001b[0;36m0\u001b[0m\u001b[0;34m:\u001b[0m\u001b[0;34m\u001b[0m\u001b[0;34m\u001b[0m\u001b[0m\n\u001b[1;32m   1693\u001b[0m         \u001b[0;32mraise\u001b[0m \u001b[0mValueError\u001b[0m\u001b[0;34m(\u001b[0m\u001b[0;34m\"Empty data passed with indices specified.\"\u001b[0m\u001b[0;34m)\u001b[0m\u001b[0;34m\u001b[0m\u001b[0;34m\u001b[0m\u001b[0m\n\u001b[0;32m-> 1694\u001b[0;31m     \u001b[0;32mraise\u001b[0m \u001b[0mValueError\u001b[0m\u001b[0;34m(\u001b[0m\u001b[0;34mf\"Shape of passed values is {passed}, indices imply {implied}\"\u001b[0m\u001b[0;34m)\u001b[0m\u001b[0;34m\u001b[0m\u001b[0;34m\u001b[0m\u001b[0m\n\u001b[0m\u001b[1;32m   1695\u001b[0m \u001b[0;34m\u001b[0m\u001b[0m\n\u001b[1;32m   1696\u001b[0m \u001b[0;34m\u001b[0m\u001b[0m\n",
            "\u001b[0;31mValueError\u001b[0m: Shape of passed values is (11, 1), indices imply (11, 11)"
          ]
        }
      ]
    },
    {
      "cell_type": "code",
      "metadata": {
        "id": "BAnCVQk7dtVx",
        "colab_type": "code",
        "outputId": "8c7a432f-f74a-4863-cf58-34d28ae9bc94",
        "colab": {
          "base_uri": "https://localhost:8080/",
          "height": 263
        }
      },
      "source": [
        "no1 = [1, 2, 3]\n",
        "no2 = [11, 22, 33]\n",
        "no3 = [111, 222, 333]\n",
        "Columns = [\"movie_titles\",\"Genre\",\"Rate\",\"Run_time\",\"Budget\",\"Gross_USA\",\"Language\",\"Writers\",\"Stars\",\"Certification\"]\n",
        "df2 = pd.DataFrame(columns=Columns)\n",
        "for i in range(len(movie_titles)):\n",
        "  df2.loc[i] = movie_titles[i],Genre,Rate,Run_time,Budget,Gross_USA,Language,Writers,Stars,Certification #1번째 영화, 그에 해당하는 데이터\n",
        "\n",
        "print(df2)\n",
        "df2.to_csv(\"movie_titles_pilot.csv\")"
      ],
      "execution_count": 0,
      "outputs": [
        {
          "output_type": "stream",
          "text": [
            "                                    movie_titles      Genre  ... Stars Certification\n",
            "0                                 Aquaman (2018)  [Musical]  ...    []            []\n",
            "1                      Verdi: La Traviata (2018)  [Musical]  ...    []            []\n",
            "2           Deontay Wilder vs. Tyson Fury (2018)  [Musical]  ...    []            []\n",
            "3                            Stan & Ollie (2018)  [Musical]  ...    []            []\n",
            "4   Heading Home: The Tale of Team Israel (2018)  [Musical]  ...    []            []\n",
            "..                                           ...        ...  ...   ...           ...\n",
            "66                             Take Point (2018)  [Musical]  ...    []            []\n",
            "67                             Second Act (2018)  [Musical]  ...    []            []\n",
            "68              The House That Jack Built (2018)  [Musical]  ...    []            []\n",
            "69      Spider-Man: Into the Spider-Verse (2018)  [Musical]  ...    []            []\n",
            "70                            The Charmer (2018)  [Musical]  ...    []            []\n",
            "\n",
            "[71 rows x 10 columns]\n"
          ],
          "name": "stdout"
        }
      ]
    },
    {
      "cell_type": "code",
      "metadata": {
        "id": "Jp0Z39uKgMMd",
        "colab_type": "code",
        "colab": {}
      },
      "source": [
        ""
      ],
      "execution_count": 0,
      "outputs": []
    }
  ]
}