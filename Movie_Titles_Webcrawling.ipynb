{
  "nbformat": 4,
  "nbformat_minor": 0,
  "metadata": {
    "colab": {
      "name": "Movie_Titles_Webcrawling.ipynb",
      "provenance": [],
      "collapsed_sections": [],
      "authorship_tag": "ABX9TyPG1AKpskrCbXVENp05QDvV",
      "include_colab_link": true
    },
    "kernelspec": {
      "name": "python3",
      "display_name": "Python 3"
    }
  },
  "cells": [
    {
      "cell_type": "markdown",
      "metadata": {
        "id": "view-in-github",
        "colab_type": "text"
      },
      "source": [
        "<a href=\"https://colab.research.google.com/github/Datamin-D/movie_predict/blob/master/Movie_Titles_Webcrawling.ipynb\" target=\"_parent\"><img src=\"https://colab.research.google.com/assets/colab-badge.svg\" alt=\"Open In Colab\"/></a>"
      ]
    },
    {
      "cell_type": "code",
      "metadata": {
        "id": "ZqzhJuc0TT5t",
        "colab_type": "code",
        "colab": {}
      },
      "source": [
        "import requests\n",
        "from bs4 import BeautifulSoup\n",
        "import openpyxl\n",
        "import xlwt,xlrd\n",
        "from google.colab import files\n",
        "import time\n",
        "import re\n"
      ],
      "execution_count": 0,
      "outputs": []
    },
    {
      "cell_type": "code",
      "metadata": {
        "id": "xD61hig6UIlh",
        "colab_type": "code",
        "outputId": "dfab69b6-8986-4dd8-c963-05f631b5613d",
        "colab": {
          "base_uri": "https://localhost:8080/",
          "height": 404
        }
      },
      "source": [
        "#installing selenium, prepare to connect \n",
        "!pip install selenium\n",
        "!apt-get update \n",
        "!apt install chromium-chromedriver\n",
        "\n",
        "from selenium import webdriver\n",
        "chrome_options = webdriver.ChromeOptions()\n",
        "chrome_options.add_argument('--headless')\n",
        "chrome_options.add_argument('--no-sandbox')\n",
        "chrome_options.add_argument('--disable-dev-shm-usage')\n",
        "wd = webdriver.Chrome('chromedriver',chrome_options=chrome_options)\n",
        "from selenium.webdriver.common.by import By\n",
        "from selenium.common.exceptions import NoSuchElementException"
      ],
      "execution_count": 103,
      "outputs": [
        {
          "output_type": "stream",
          "text": [
            "Requirement already satisfied: selenium in /usr/local/lib/python3.6/dist-packages (3.141.0)\n",
            "Requirement already satisfied: urllib3 in /usr/local/lib/python3.6/dist-packages (from selenium) (1.24.3)\n",
            "Hit:1 https://cloud.r-project.org/bin/linux/ubuntu bionic-cran35/ InRelease\n",
            "Ign:2 https://developer.download.nvidia.com/compute/cuda/repos/ubuntu1804/x86_64  InRelease\n",
            "Ign:3 https://developer.download.nvidia.com/compute/machine-learning/repos/ubuntu1804/x86_64  InRelease\n",
            "Hit:4 https://developer.download.nvidia.com/compute/cuda/repos/ubuntu1804/x86_64  Release\n",
            "Hit:5 https://developer.download.nvidia.com/compute/machine-learning/repos/ubuntu1804/x86_64  Release\n",
            "Hit:6 http://ppa.launchpad.net/graphics-drivers/ppa/ubuntu bionic InRelease\n",
            "Get:7 http://security.ubuntu.com/ubuntu bionic-security InRelease [88.7 kB]\n",
            "Hit:9 http://archive.ubuntu.com/ubuntu bionic InRelease\n",
            "Get:11 http://archive.ubuntu.com/ubuntu bionic-updates InRelease [88.7 kB]\n",
            "Hit:12 http://ppa.launchpad.net/marutter/c2d4u3.5/ubuntu bionic InRelease\n",
            "Get:13 http://archive.ubuntu.com/ubuntu bionic-backports InRelease [74.6 kB]\n",
            "Fetched 252 kB in 2s (111 kB/s)\n",
            "Reading package lists... Done\n",
            "Reading package lists... Done\n",
            "Building dependency tree       \n",
            "Reading state information... Done\n",
            "chromium-chromedriver is already the newest version (81.0.4044.122-0ubuntu0.18.04.1).\n",
            "0 upgraded, 0 newly installed, 0 to remove and 35 not upgraded.\n"
          ],
          "name": "stdout"
        },
        {
          "output_type": "stream",
          "text": [
            "/usr/local/lib/python3.6/dist-packages/ipykernel_launcher.py:10: DeprecationWarning: use options instead of chrome_options\n",
            "  # Remove the CWD from sys.path while we load stuff.\n"
          ],
          "name": "stderr"
        }
      ]
    },
    {
      "cell_type": "code",
      "metadata": {
        "id": "l4Wdh_tbVXlT",
        "colab_type": "code",
        "outputId": "a7c15642-a676-4376-dfdc-7e3bf6dea775",
        "colab": {
          "base_uri": "https://localhost:8080/",
          "height": 70
        }
      },
      "source": [
        "#Boxoffice mojo > extract movie titles by years\n",
        "\n",
        "# 수집할 영화 연도 범위\n",
        "released_years = []\n",
        "released_months = []\n",
        "\n",
        "years = [released_years.append(i) for i in range(2018,2019)] #연\n",
        "months = [released_months.append(i) for i in range(12,13)] #월\n",
        "\n",
        "#for문의 내포. [명령 for i in range(시작,끝,step)]\n",
        "#print(released_years)\n",
        "\n",
        "# raw data 수집,parsing, 영화 title저장\n",
        "movie_list = []\n",
        "for year in released_years:\n",
        "  for month in released_months:\n",
        "    #print(genre)\n",
        "    raw = requests.get(\"https://www.boxofficemojo.com/calendar/\"+str(year)+\"-\"+str(month)+\"-01/\")\n",
        "      #print(raw)해서 response 200이면 정상.\n",
        "      #주소니까 str로 해줘야. \n",
        "\n",
        "      #print(raw.text)\n",
        "      #.text하면 --> URL소스코드 알아내기\n",
        "\n",
        "    html = BeautifulSoup(raw.text,\"html.parser\")\n",
        "      #변수 = BeautifulSoup(소스코드, 'html.parser')-->태그 기준으로 파싱해줌\n",
        "      #print(html)\n",
        "\n",
        "  # 1. 컨테이너 \n",
        "    container = html.select(\"div.a-section.a-spacing-none.mojo-schedule-release-details\")\n",
        "  # 2. Title    \n",
        "    for cont in container:\n",
        "      movie_title = cont.select_one(\"a.a-link-normal h3\").text.strip()\n",
        "      #자식 \">\" 자손 \" \"(띄어쓰기) ex) ul.type01 > li\n",
        "      #.strip-->양쪽 공백 제거\n",
        "\n",
        "      movie_list.append(movie_title+\" \"+\"(\"+str(year)+\")\")\n",
        "      #태그이름.class, 태그이름#id\n",
        "print(len(movie_list))\n",
        "\n",
        "#movie list 고유값만 추리기. set성질 이용.\n",
        "my_set = set(movie_list)\n",
        "movie_titles = list(my_set)\n",
        "print(len(movie_titles))\n",
        "\n",
        "#movie_titles 표현형식: 영화이름, (연도) \n",
        "movie_titles[8]\n"
      ],
      "execution_count": 104,
      "outputs": [
        {
          "output_type": "stream",
          "text": [
            "76\n",
            "71\n"
          ],
          "name": "stdout"
        },
        {
          "output_type": "execute_result",
          "data": {
            "text/plain": [
              "\"Jim Henson's Holiday Special with Fraggle Rock and Emmet Otter (2018)\""
            ]
          },
          "metadata": {
            "tags": []
          },
          "execution_count": 104
        }
      ]
    },
    {
      "cell_type": "code",
      "metadata": {
        "id": "zZJUEivd6anX",
        "colab_type": "code",
        "outputId": "1707cd28-5b62-4e9d-b483-1f0ec6195ddc",
        "colab": {
          "base_uri": "https://localhost:8080/",
          "height": 54
        }
      },
      "source": [
        "#영화 이름, 연도 분리.. 근데 이미 IMDb에 구현되어 있을 것. --> abort.\n",
        "\"\"\"\n",
        "indv_title = []\n",
        "indv_year =  []\n",
        "for i in range(len(movie_titles)):\n",
        "  p = re.compile(r'([\\'\\\",/.a-zA-z0-9_ :!?\\+\\-\\&\\#\\$\\@\\%\\-\\=\\^\\`\\(\\)]*) (\\([0-9]+\\))') #정규표현식으로 영화 이름 분리\n",
        "  target = movie_list[i]\n",
        "  s = p.search(target) #match는 처음부터 매칭해보고 없으면 진행 안함. search는 문자열 전체를 검색.(앞이 매칭 안되어도.)\n",
        "  indv_title.append(s.group(1)) #i번째영화이름\n",
        "  indv_year.append(s.group(2))  #i번째 영화의 연도(인덱스로 찾을 수 있음.)\n",
        "  m = p.search(target)\n",
        "print(indv_year[0])\n",
        " #이 코드 바탕으로imdb검색한 후 이름,연도 매칭하도록 코딩ㄱ *\n",
        " \"\"\""
      ],
      "execution_count": 10,
      "outputs": [
        {
          "output_type": "execute_result",
          "data": {
            "text/plain": [
              "'\\nindv_title = []\\nindv_year =  []\\nfor i in range(len(movie_list)):\\n  p = re.compile(r\\'([\\'\",/.a-zA-z0-9_ :!?\\\\+\\\\-\\\\&\\\\#\\\\$\\\\@\\\\%\\\\-\\\\=\\\\^\\\\`\\\\(\\\\)]*) (\\\\([0-9]+\\\\))\\') #정규표현식으로 영화 이름 분리\\n  target = movie_list[i]\\n  s = p.search(target) #match는 처음부터 매칭해보고 없으면 진행 안함. search는 문자열 전체를 검색.(앞이 매칭 안되어도.)\\n  indv_title.append(s.group(1)) #i번째영화이름\\n  indv_year.append(s.group(2))  #i번째 영화의 연도(인덱스로 찾을 수 있음.)\\n  m = p.search(target)\\nprint(indv_year[0])\\n #이 코드 바탕으로imdb검색한 후 이름,연도 매칭하도록 코딩ㄱ *\\n '"
            ]
          },
          "metadata": {
            "tags": []
          },
          "execution_count": 10
        }
      ]
    },
    {
      "cell_type": "code",
      "metadata": {
        "id": "OzIG4BJ30rJf",
        "colab_type": "code",
        "colab": {
          "base_uri": "https://localhost:8080/",
          "height": 52
        },
        "outputId": "d4446567-a98d-45b6-cc21-3cb75d33d24c"
      },
      "source": [
        "m = [1,2]\n",
        "i = []\n",
        "n = [\"en\",\"d\"]\n",
        "min = [m,i,n]\n",
        "for i in min: \n",
        "  try:\n",
        "    print(i[0])\n",
        "  except:\n",
        "    continue\n"
      ],
      "execution_count": 80,
      "outputs": [
        {
          "output_type": "stream",
          "text": [
            "1\n",
            "en\n"
          ],
          "name": "stdout"
        }
      ]
    },
    {
      "cell_type": "code",
      "metadata": {
        "id": "q7Z7RRHLTVrb",
        "colab_type": "code",
        "outputId": "0302adec-0ab2-4969-d51b-e8d54cdc44aa",
        "colab": {
          "base_uri": "https://localhost:8080/",
          "height": 580
        }
      },
      "source": [
        "# Searching movie webpages in IMDb -->needs to be fixed. better idea? :title 밑에 있는 거로 클릭하도록. \n",
        "\n",
        "for i in range(len(movie_titles)):\n",
        "  url = \"https://www.imdb.com/find?q=\"+str(movie_titles[i])+\"&ref_=nv_sr_sm\" #movie_title에 영화 이름 1개 들어가야함. \n",
        "  wd.get(url)\n",
        "  #print(wd.page_source)  # results\n",
        "  try:\n",
        "    click_movie = wd.find_elements_by_css_selector('td.result_text a') #영화 검색창 후 이름 클릭\n",
        "    click_movie[0].click() #클릭이 안되는 경우, no result found. pass하게 코딩.\n",
        "  \n",
        "    time.sleep(1)\n",
        "  # 여기부터 영화 개별 웹페이지 진입 성공, 자료수집  \n",
        "  \n",
        "#Run_time\n",
        "    Run_time = wd.find_element_by_css_selector('#title-overview-widget > div.vital > div.title_block > div > div.titleBar > div.title_wrapper > div > time').text\n",
        "    print(i,Run_time)\n",
        "  except NoSuchElementException: #time이 기재되지 않았을 때\n",
        "    continue\n",
        "  except IndexError: #영화 정보가 없어서 클릭이 안되면.\n",
        "    continue \n"
      ],
      "execution_count": 105,
      "outputs": [
        {
          "output_type": "stream",
          "text": [
            "0 1h 29min\n",
            "1 1h 27min\n",
            "2 2h 4min\n",
            "3 2h 12min\n",
            "4 1h 54min\n",
            "5 1h 39min\n",
            "6 1h 44min\n",
            "7 1h 45min\n"
          ],
          "name": "stdout"
        },
        {
          "output_type": "error",
          "ename": "KeyboardInterrupt",
          "evalue": "ignored",
          "traceback": [
            "\u001b[0;31m---------------------------------------------------------------------------\u001b[0m",
            "\u001b[0;31mTypeError\u001b[0m                                 Traceback (most recent call last)",
            "\u001b[0;32m/usr/local/lib/python3.6/dist-packages/urllib3/connectionpool.py\u001b[0m in \u001b[0;36m_make_request\u001b[0;34m(self, conn, method, url, timeout, chunked, **httplib_request_kw)\u001b[0m\n\u001b[1;32m    376\u001b[0m             \u001b[0;32mtry\u001b[0m\u001b[0;34m:\u001b[0m  \u001b[0;31m# Python 2.7, use buffering of HTTP responses\u001b[0m\u001b[0;34m\u001b[0m\u001b[0;34m\u001b[0m\u001b[0m\n\u001b[0;32m--> 377\u001b[0;31m                 \u001b[0mhttplib_response\u001b[0m \u001b[0;34m=\u001b[0m \u001b[0mconn\u001b[0m\u001b[0;34m.\u001b[0m\u001b[0mgetresponse\u001b[0m\u001b[0;34m(\u001b[0m\u001b[0mbuffering\u001b[0m\u001b[0;34m=\u001b[0m\u001b[0;32mTrue\u001b[0m\u001b[0;34m)\u001b[0m\u001b[0;34m\u001b[0m\u001b[0;34m\u001b[0m\u001b[0m\n\u001b[0m\u001b[1;32m    378\u001b[0m             \u001b[0;32mexcept\u001b[0m \u001b[0mTypeError\u001b[0m\u001b[0;34m:\u001b[0m  \u001b[0;31m# Python 3\u001b[0m\u001b[0;34m\u001b[0m\u001b[0;34m\u001b[0m\u001b[0m\n",
            "\u001b[0;31mTypeError\u001b[0m: getresponse() got an unexpected keyword argument 'buffering'",
            "\nDuring handling of the above exception, another exception occurred:\n",
            "\u001b[0;31mKeyboardInterrupt\u001b[0m                         Traceback (most recent call last)",
            "\u001b[0;32m<ipython-input-105-8f20da96fb38>\u001b[0m in \u001b[0;36m<module>\u001b[0;34m()\u001b[0m\n\u001b[1;32m      2\u001b[0m \u001b[0;32mfor\u001b[0m \u001b[0mi\u001b[0m \u001b[0;32min\u001b[0m \u001b[0mrange\u001b[0m\u001b[0;34m(\u001b[0m\u001b[0mlen\u001b[0m\u001b[0;34m(\u001b[0m\u001b[0mmovie_titles\u001b[0m\u001b[0;34m)\u001b[0m\u001b[0;34m)\u001b[0m\u001b[0;34m:\u001b[0m\u001b[0;34m\u001b[0m\u001b[0;34m\u001b[0m\u001b[0m\n\u001b[1;32m      3\u001b[0m   \u001b[0murl\u001b[0m \u001b[0;34m=\u001b[0m \u001b[0;34m\"https://www.imdb.com/find?q=\"\u001b[0m\u001b[0;34m+\u001b[0m\u001b[0mstr\u001b[0m\u001b[0;34m(\u001b[0m\u001b[0mmovie_titles\u001b[0m\u001b[0;34m[\u001b[0m\u001b[0mi\u001b[0m\u001b[0;34m]\u001b[0m\u001b[0;34m)\u001b[0m\u001b[0;34m+\u001b[0m\u001b[0;34m\"&ref_=nv_sr_sm\"\u001b[0m \u001b[0;31m#movie_title에 영화 이름 1개 들어가야함.\u001b[0m\u001b[0;34m\u001b[0m\u001b[0;34m\u001b[0m\u001b[0m\n\u001b[0;32m----> 4\u001b[0;31m   \u001b[0mwd\u001b[0m\u001b[0;34m.\u001b[0m\u001b[0mget\u001b[0m\u001b[0;34m(\u001b[0m\u001b[0murl\u001b[0m\u001b[0;34m)\u001b[0m\u001b[0;34m\u001b[0m\u001b[0;34m\u001b[0m\u001b[0m\n\u001b[0m\u001b[1;32m      5\u001b[0m   \u001b[0;31m#print(wd.page_source)  # results\u001b[0m\u001b[0;34m\u001b[0m\u001b[0;34m\u001b[0m\u001b[0;34m\u001b[0m\u001b[0m\n\u001b[1;32m      6\u001b[0m   \u001b[0;32mtry\u001b[0m\u001b[0;34m:\u001b[0m\u001b[0;34m\u001b[0m\u001b[0;34m\u001b[0m\u001b[0m\n",
            "\u001b[0;32m/usr/local/lib/python3.6/dist-packages/selenium/webdriver/remote/webdriver.py\u001b[0m in \u001b[0;36mget\u001b[0;34m(self, url)\u001b[0m\n\u001b[1;32m    331\u001b[0m         \u001b[0mLoads\u001b[0m \u001b[0ma\u001b[0m \u001b[0mweb\u001b[0m \u001b[0mpage\u001b[0m \u001b[0;32min\u001b[0m \u001b[0mthe\u001b[0m \u001b[0mcurrent\u001b[0m \u001b[0mbrowser\u001b[0m \u001b[0msession\u001b[0m\u001b[0;34m.\u001b[0m\u001b[0;34m\u001b[0m\u001b[0;34m\u001b[0m\u001b[0m\n\u001b[1;32m    332\u001b[0m         \"\"\"\n\u001b[0;32m--> 333\u001b[0;31m         \u001b[0mself\u001b[0m\u001b[0;34m.\u001b[0m\u001b[0mexecute\u001b[0m\u001b[0;34m(\u001b[0m\u001b[0mCommand\u001b[0m\u001b[0;34m.\u001b[0m\u001b[0mGET\u001b[0m\u001b[0;34m,\u001b[0m \u001b[0;34m{\u001b[0m\u001b[0;34m'url'\u001b[0m\u001b[0;34m:\u001b[0m \u001b[0murl\u001b[0m\u001b[0;34m}\u001b[0m\u001b[0;34m)\u001b[0m\u001b[0;34m\u001b[0m\u001b[0;34m\u001b[0m\u001b[0m\n\u001b[0m\u001b[1;32m    334\u001b[0m \u001b[0;34m\u001b[0m\u001b[0m\n\u001b[1;32m    335\u001b[0m     \u001b[0;34m@\u001b[0m\u001b[0mproperty\u001b[0m\u001b[0;34m\u001b[0m\u001b[0;34m\u001b[0m\u001b[0m\n",
            "\u001b[0;32m/usr/local/lib/python3.6/dist-packages/selenium/webdriver/remote/webdriver.py\u001b[0m in \u001b[0;36mexecute\u001b[0;34m(self, driver_command, params)\u001b[0m\n\u001b[1;32m    317\u001b[0m \u001b[0;34m\u001b[0m\u001b[0m\n\u001b[1;32m    318\u001b[0m         \u001b[0mparams\u001b[0m \u001b[0;34m=\u001b[0m \u001b[0mself\u001b[0m\u001b[0;34m.\u001b[0m\u001b[0m_wrap_value\u001b[0m\u001b[0;34m(\u001b[0m\u001b[0mparams\u001b[0m\u001b[0;34m)\u001b[0m\u001b[0;34m\u001b[0m\u001b[0;34m\u001b[0m\u001b[0m\n\u001b[0;32m--> 319\u001b[0;31m         \u001b[0mresponse\u001b[0m \u001b[0;34m=\u001b[0m \u001b[0mself\u001b[0m\u001b[0;34m.\u001b[0m\u001b[0mcommand_executor\u001b[0m\u001b[0;34m.\u001b[0m\u001b[0mexecute\u001b[0m\u001b[0;34m(\u001b[0m\u001b[0mdriver_command\u001b[0m\u001b[0;34m,\u001b[0m \u001b[0mparams\u001b[0m\u001b[0;34m)\u001b[0m\u001b[0;34m\u001b[0m\u001b[0;34m\u001b[0m\u001b[0m\n\u001b[0m\u001b[1;32m    320\u001b[0m         \u001b[0;32mif\u001b[0m \u001b[0mresponse\u001b[0m\u001b[0;34m:\u001b[0m\u001b[0;34m\u001b[0m\u001b[0;34m\u001b[0m\u001b[0m\n\u001b[1;32m    321\u001b[0m             \u001b[0mself\u001b[0m\u001b[0;34m.\u001b[0m\u001b[0merror_handler\u001b[0m\u001b[0;34m.\u001b[0m\u001b[0mcheck_response\u001b[0m\u001b[0;34m(\u001b[0m\u001b[0mresponse\u001b[0m\u001b[0;34m)\u001b[0m\u001b[0;34m\u001b[0m\u001b[0;34m\u001b[0m\u001b[0m\n",
            "\u001b[0;32m/usr/local/lib/python3.6/dist-packages/selenium/webdriver/remote/remote_connection.py\u001b[0m in \u001b[0;36mexecute\u001b[0;34m(self, command, params)\u001b[0m\n\u001b[1;32m    372\u001b[0m         \u001b[0mdata\u001b[0m \u001b[0;34m=\u001b[0m \u001b[0mutils\u001b[0m\u001b[0;34m.\u001b[0m\u001b[0mdump_json\u001b[0m\u001b[0;34m(\u001b[0m\u001b[0mparams\u001b[0m\u001b[0;34m)\u001b[0m\u001b[0;34m\u001b[0m\u001b[0;34m\u001b[0m\u001b[0m\n\u001b[1;32m    373\u001b[0m         \u001b[0murl\u001b[0m \u001b[0;34m=\u001b[0m \u001b[0;34m'%s%s'\u001b[0m \u001b[0;34m%\u001b[0m \u001b[0;34m(\u001b[0m\u001b[0mself\u001b[0m\u001b[0;34m.\u001b[0m\u001b[0m_url\u001b[0m\u001b[0;34m,\u001b[0m \u001b[0mpath\u001b[0m\u001b[0;34m)\u001b[0m\u001b[0;34m\u001b[0m\u001b[0;34m\u001b[0m\u001b[0m\n\u001b[0;32m--> 374\u001b[0;31m         \u001b[0;32mreturn\u001b[0m \u001b[0mself\u001b[0m\u001b[0;34m.\u001b[0m\u001b[0m_request\u001b[0m\u001b[0;34m(\u001b[0m\u001b[0mcommand_info\u001b[0m\u001b[0;34m[\u001b[0m\u001b[0;36m0\u001b[0m\u001b[0;34m]\u001b[0m\u001b[0;34m,\u001b[0m \u001b[0murl\u001b[0m\u001b[0;34m,\u001b[0m \u001b[0mbody\u001b[0m\u001b[0;34m=\u001b[0m\u001b[0mdata\u001b[0m\u001b[0;34m)\u001b[0m\u001b[0;34m\u001b[0m\u001b[0;34m\u001b[0m\u001b[0m\n\u001b[0m\u001b[1;32m    375\u001b[0m \u001b[0;34m\u001b[0m\u001b[0m\n\u001b[1;32m    376\u001b[0m     \u001b[0;32mdef\u001b[0m \u001b[0m_request\u001b[0m\u001b[0;34m(\u001b[0m\u001b[0mself\u001b[0m\u001b[0;34m,\u001b[0m \u001b[0mmethod\u001b[0m\u001b[0;34m,\u001b[0m \u001b[0murl\u001b[0m\u001b[0;34m,\u001b[0m \u001b[0mbody\u001b[0m\u001b[0;34m=\u001b[0m\u001b[0;32mNone\u001b[0m\u001b[0;34m)\u001b[0m\u001b[0;34m:\u001b[0m\u001b[0;34m\u001b[0m\u001b[0;34m\u001b[0m\u001b[0m\n",
            "\u001b[0;32m/usr/local/lib/python3.6/dist-packages/selenium/webdriver/remote/remote_connection.py\u001b[0m in \u001b[0;36m_request\u001b[0;34m(self, method, url, body)\u001b[0m\n\u001b[1;32m    395\u001b[0m \u001b[0;34m\u001b[0m\u001b[0m\n\u001b[1;32m    396\u001b[0m         \u001b[0;32mif\u001b[0m \u001b[0mself\u001b[0m\u001b[0;34m.\u001b[0m\u001b[0mkeep_alive\u001b[0m\u001b[0;34m:\u001b[0m\u001b[0;34m\u001b[0m\u001b[0;34m\u001b[0m\u001b[0m\n\u001b[0;32m--> 397\u001b[0;31m             \u001b[0mresp\u001b[0m \u001b[0;34m=\u001b[0m \u001b[0mself\u001b[0m\u001b[0;34m.\u001b[0m\u001b[0m_conn\u001b[0m\u001b[0;34m.\u001b[0m\u001b[0mrequest\u001b[0m\u001b[0;34m(\u001b[0m\u001b[0mmethod\u001b[0m\u001b[0;34m,\u001b[0m \u001b[0murl\u001b[0m\u001b[0;34m,\u001b[0m \u001b[0mbody\u001b[0m\u001b[0;34m=\u001b[0m\u001b[0mbody\u001b[0m\u001b[0;34m,\u001b[0m \u001b[0mheaders\u001b[0m\u001b[0;34m=\u001b[0m\u001b[0mheaders\u001b[0m\u001b[0;34m)\u001b[0m\u001b[0;34m\u001b[0m\u001b[0;34m\u001b[0m\u001b[0m\n\u001b[0m\u001b[1;32m    398\u001b[0m \u001b[0;34m\u001b[0m\u001b[0m\n\u001b[1;32m    399\u001b[0m             \u001b[0mstatuscode\u001b[0m \u001b[0;34m=\u001b[0m \u001b[0mresp\u001b[0m\u001b[0;34m.\u001b[0m\u001b[0mstatus\u001b[0m\u001b[0;34m\u001b[0m\u001b[0;34m\u001b[0m\u001b[0m\n",
            "\u001b[0;32m/usr/local/lib/python3.6/dist-packages/urllib3/request.py\u001b[0m in \u001b[0;36mrequest\u001b[0;34m(self, method, url, fields, headers, **urlopen_kw)\u001b[0m\n\u001b[1;32m     70\u001b[0m             return self.request_encode_body(method, url, fields=fields,\n\u001b[1;32m     71\u001b[0m                                             \u001b[0mheaders\u001b[0m\u001b[0;34m=\u001b[0m\u001b[0mheaders\u001b[0m\u001b[0;34m,\u001b[0m\u001b[0;34m\u001b[0m\u001b[0;34m\u001b[0m\u001b[0m\n\u001b[0;32m---> 72\u001b[0;31m                                             **urlopen_kw)\n\u001b[0m\u001b[1;32m     73\u001b[0m \u001b[0;34m\u001b[0m\u001b[0m\n\u001b[1;32m     74\u001b[0m     def request_encode_url(self, method, url, fields=None, headers=None,\n",
            "\u001b[0;32m/usr/local/lib/python3.6/dist-packages/urllib3/request.py\u001b[0m in \u001b[0;36mrequest_encode_body\u001b[0;34m(self, method, url, fields, headers, encode_multipart, multipart_boundary, **urlopen_kw)\u001b[0m\n\u001b[1;32m    148\u001b[0m         \u001b[0mextra_kw\u001b[0m\u001b[0;34m.\u001b[0m\u001b[0mupdate\u001b[0m\u001b[0;34m(\u001b[0m\u001b[0murlopen_kw\u001b[0m\u001b[0;34m)\u001b[0m\u001b[0;34m\u001b[0m\u001b[0;34m\u001b[0m\u001b[0m\n\u001b[1;32m    149\u001b[0m \u001b[0;34m\u001b[0m\u001b[0m\n\u001b[0;32m--> 150\u001b[0;31m         \u001b[0;32mreturn\u001b[0m \u001b[0mself\u001b[0m\u001b[0;34m.\u001b[0m\u001b[0murlopen\u001b[0m\u001b[0;34m(\u001b[0m\u001b[0mmethod\u001b[0m\u001b[0;34m,\u001b[0m \u001b[0murl\u001b[0m\u001b[0;34m,\u001b[0m \u001b[0;34m**\u001b[0m\u001b[0mextra_kw\u001b[0m\u001b[0;34m)\u001b[0m\u001b[0;34m\u001b[0m\u001b[0;34m\u001b[0m\u001b[0m\n\u001b[0m",
            "\u001b[0;32m/usr/local/lib/python3.6/dist-packages/urllib3/poolmanager.py\u001b[0m in \u001b[0;36murlopen\u001b[0;34m(self, method, url, redirect, **kw)\u001b[0m\n\u001b[1;32m    322\u001b[0m             \u001b[0mresponse\u001b[0m \u001b[0;34m=\u001b[0m \u001b[0mconn\u001b[0m\u001b[0;34m.\u001b[0m\u001b[0murlopen\u001b[0m\u001b[0;34m(\u001b[0m\u001b[0mmethod\u001b[0m\u001b[0;34m,\u001b[0m \u001b[0murl\u001b[0m\u001b[0;34m,\u001b[0m \u001b[0;34m**\u001b[0m\u001b[0mkw\u001b[0m\u001b[0;34m)\u001b[0m\u001b[0;34m\u001b[0m\u001b[0;34m\u001b[0m\u001b[0m\n\u001b[1;32m    323\u001b[0m         \u001b[0;32melse\u001b[0m\u001b[0;34m:\u001b[0m\u001b[0;34m\u001b[0m\u001b[0;34m\u001b[0m\u001b[0m\n\u001b[0;32m--> 324\u001b[0;31m             \u001b[0mresponse\u001b[0m \u001b[0;34m=\u001b[0m \u001b[0mconn\u001b[0m\u001b[0;34m.\u001b[0m\u001b[0murlopen\u001b[0m\u001b[0;34m(\u001b[0m\u001b[0mmethod\u001b[0m\u001b[0;34m,\u001b[0m \u001b[0mu\u001b[0m\u001b[0;34m.\u001b[0m\u001b[0mrequest_uri\u001b[0m\u001b[0;34m,\u001b[0m \u001b[0;34m**\u001b[0m\u001b[0mkw\u001b[0m\u001b[0;34m)\u001b[0m\u001b[0;34m\u001b[0m\u001b[0;34m\u001b[0m\u001b[0m\n\u001b[0m\u001b[1;32m    325\u001b[0m \u001b[0;34m\u001b[0m\u001b[0m\n\u001b[1;32m    326\u001b[0m         \u001b[0mredirect_location\u001b[0m \u001b[0;34m=\u001b[0m \u001b[0mredirect\u001b[0m \u001b[0;32mand\u001b[0m \u001b[0mresponse\u001b[0m\u001b[0;34m.\u001b[0m\u001b[0mget_redirect_location\u001b[0m\u001b[0;34m(\u001b[0m\u001b[0;34m)\u001b[0m\u001b[0;34m\u001b[0m\u001b[0;34m\u001b[0m\u001b[0m\n",
            "\u001b[0;32m/usr/local/lib/python3.6/dist-packages/urllib3/connectionpool.py\u001b[0m in \u001b[0;36murlopen\u001b[0;34m(self, method, url, body, headers, retries, redirect, assert_same_host, timeout, pool_timeout, release_conn, chunked, body_pos, **response_kw)\u001b[0m\n\u001b[1;32m    598\u001b[0m                                                   \u001b[0mtimeout\u001b[0m\u001b[0;34m=\u001b[0m\u001b[0mtimeout_obj\u001b[0m\u001b[0;34m,\u001b[0m\u001b[0;34m\u001b[0m\u001b[0;34m\u001b[0m\u001b[0m\n\u001b[1;32m    599\u001b[0m                                                   \u001b[0mbody\u001b[0m\u001b[0;34m=\u001b[0m\u001b[0mbody\u001b[0m\u001b[0;34m,\u001b[0m \u001b[0mheaders\u001b[0m\u001b[0;34m=\u001b[0m\u001b[0mheaders\u001b[0m\u001b[0;34m,\u001b[0m\u001b[0;34m\u001b[0m\u001b[0;34m\u001b[0m\u001b[0m\n\u001b[0;32m--> 600\u001b[0;31m                                                   chunked=chunked)\n\u001b[0m\u001b[1;32m    601\u001b[0m \u001b[0;34m\u001b[0m\u001b[0m\n\u001b[1;32m    602\u001b[0m             \u001b[0;31m# If we're going to release the connection in ``finally:``, then\u001b[0m\u001b[0;34m\u001b[0m\u001b[0;34m\u001b[0m\u001b[0;34m\u001b[0m\u001b[0m\n",
            "\u001b[0;32m/usr/local/lib/python3.6/dist-packages/urllib3/connectionpool.py\u001b[0m in \u001b[0;36m_make_request\u001b[0;34m(self, conn, method, url, timeout, chunked, **httplib_request_kw)\u001b[0m\n\u001b[1;32m    378\u001b[0m             \u001b[0;32mexcept\u001b[0m \u001b[0mTypeError\u001b[0m\u001b[0;34m:\u001b[0m  \u001b[0;31m# Python 3\u001b[0m\u001b[0;34m\u001b[0m\u001b[0;34m\u001b[0m\u001b[0m\n\u001b[1;32m    379\u001b[0m                 \u001b[0;32mtry\u001b[0m\u001b[0;34m:\u001b[0m\u001b[0;34m\u001b[0m\u001b[0;34m\u001b[0m\u001b[0m\n\u001b[0;32m--> 380\u001b[0;31m                     \u001b[0mhttplib_response\u001b[0m \u001b[0;34m=\u001b[0m \u001b[0mconn\u001b[0m\u001b[0;34m.\u001b[0m\u001b[0mgetresponse\u001b[0m\u001b[0;34m(\u001b[0m\u001b[0;34m)\u001b[0m\u001b[0;34m\u001b[0m\u001b[0;34m\u001b[0m\u001b[0m\n\u001b[0m\u001b[1;32m    381\u001b[0m                 \u001b[0;32mexcept\u001b[0m \u001b[0mException\u001b[0m \u001b[0;32mas\u001b[0m \u001b[0me\u001b[0m\u001b[0;34m:\u001b[0m\u001b[0;34m\u001b[0m\u001b[0;34m\u001b[0m\u001b[0m\n\u001b[1;32m    382\u001b[0m                     \u001b[0;31m# Remove the TypeError from the exception chain in Python 3;\u001b[0m\u001b[0;34m\u001b[0m\u001b[0;34m\u001b[0m\u001b[0;34m\u001b[0m\u001b[0m\n",
            "\u001b[0;32m/usr/lib/python3.6/http/client.py\u001b[0m in \u001b[0;36mgetresponse\u001b[0;34m(self)\u001b[0m\n\u001b[1;32m   1354\u001b[0m         \u001b[0;32mtry\u001b[0m\u001b[0;34m:\u001b[0m\u001b[0;34m\u001b[0m\u001b[0;34m\u001b[0m\u001b[0m\n\u001b[1;32m   1355\u001b[0m             \u001b[0;32mtry\u001b[0m\u001b[0;34m:\u001b[0m\u001b[0;34m\u001b[0m\u001b[0;34m\u001b[0m\u001b[0m\n\u001b[0;32m-> 1356\u001b[0;31m                 \u001b[0mresponse\u001b[0m\u001b[0;34m.\u001b[0m\u001b[0mbegin\u001b[0m\u001b[0;34m(\u001b[0m\u001b[0;34m)\u001b[0m\u001b[0;34m\u001b[0m\u001b[0;34m\u001b[0m\u001b[0m\n\u001b[0m\u001b[1;32m   1357\u001b[0m             \u001b[0;32mexcept\u001b[0m \u001b[0mConnectionError\u001b[0m\u001b[0;34m:\u001b[0m\u001b[0;34m\u001b[0m\u001b[0;34m\u001b[0m\u001b[0m\n\u001b[1;32m   1358\u001b[0m                 \u001b[0mself\u001b[0m\u001b[0;34m.\u001b[0m\u001b[0mclose\u001b[0m\u001b[0;34m(\u001b[0m\u001b[0;34m)\u001b[0m\u001b[0;34m\u001b[0m\u001b[0;34m\u001b[0m\u001b[0m\n",
            "\u001b[0;32m/usr/lib/python3.6/http/client.py\u001b[0m in \u001b[0;36mbegin\u001b[0;34m(self)\u001b[0m\n\u001b[1;32m    305\u001b[0m         \u001b[0;31m# read until we get a non-100 response\u001b[0m\u001b[0;34m\u001b[0m\u001b[0;34m\u001b[0m\u001b[0;34m\u001b[0m\u001b[0m\n\u001b[1;32m    306\u001b[0m         \u001b[0;32mwhile\u001b[0m \u001b[0;32mTrue\u001b[0m\u001b[0;34m:\u001b[0m\u001b[0;34m\u001b[0m\u001b[0;34m\u001b[0m\u001b[0m\n\u001b[0;32m--> 307\u001b[0;31m             \u001b[0mversion\u001b[0m\u001b[0;34m,\u001b[0m \u001b[0mstatus\u001b[0m\u001b[0;34m,\u001b[0m \u001b[0mreason\u001b[0m \u001b[0;34m=\u001b[0m \u001b[0mself\u001b[0m\u001b[0;34m.\u001b[0m\u001b[0m_read_status\u001b[0m\u001b[0;34m(\u001b[0m\u001b[0;34m)\u001b[0m\u001b[0;34m\u001b[0m\u001b[0;34m\u001b[0m\u001b[0m\n\u001b[0m\u001b[1;32m    308\u001b[0m             \u001b[0;32mif\u001b[0m \u001b[0mstatus\u001b[0m \u001b[0;34m!=\u001b[0m \u001b[0mCONTINUE\u001b[0m\u001b[0;34m:\u001b[0m\u001b[0;34m\u001b[0m\u001b[0;34m\u001b[0m\u001b[0m\n\u001b[1;32m    309\u001b[0m                 \u001b[0;32mbreak\u001b[0m\u001b[0;34m\u001b[0m\u001b[0;34m\u001b[0m\u001b[0m\n",
            "\u001b[0;32m/usr/lib/python3.6/http/client.py\u001b[0m in \u001b[0;36m_read_status\u001b[0;34m(self)\u001b[0m\n\u001b[1;32m    266\u001b[0m \u001b[0;34m\u001b[0m\u001b[0m\n\u001b[1;32m    267\u001b[0m     \u001b[0;32mdef\u001b[0m \u001b[0m_read_status\u001b[0m\u001b[0;34m(\u001b[0m\u001b[0mself\u001b[0m\u001b[0;34m)\u001b[0m\u001b[0;34m:\u001b[0m\u001b[0;34m\u001b[0m\u001b[0;34m\u001b[0m\u001b[0m\n\u001b[0;32m--> 268\u001b[0;31m         \u001b[0mline\u001b[0m \u001b[0;34m=\u001b[0m \u001b[0mstr\u001b[0m\u001b[0;34m(\u001b[0m\u001b[0mself\u001b[0m\u001b[0;34m.\u001b[0m\u001b[0mfp\u001b[0m\u001b[0;34m.\u001b[0m\u001b[0mreadline\u001b[0m\u001b[0;34m(\u001b[0m\u001b[0m_MAXLINE\u001b[0m \u001b[0;34m+\u001b[0m \u001b[0;36m1\u001b[0m\u001b[0;34m)\u001b[0m\u001b[0;34m,\u001b[0m \u001b[0;34m\"iso-8859-1\"\u001b[0m\u001b[0;34m)\u001b[0m\u001b[0;34m\u001b[0m\u001b[0;34m\u001b[0m\u001b[0m\n\u001b[0m\u001b[1;32m    269\u001b[0m         \u001b[0;32mif\u001b[0m \u001b[0mlen\u001b[0m\u001b[0;34m(\u001b[0m\u001b[0mline\u001b[0m\u001b[0;34m)\u001b[0m \u001b[0;34m>\u001b[0m \u001b[0m_MAXLINE\u001b[0m\u001b[0;34m:\u001b[0m\u001b[0;34m\u001b[0m\u001b[0;34m\u001b[0m\u001b[0m\n\u001b[1;32m    270\u001b[0m             \u001b[0;32mraise\u001b[0m \u001b[0mLineTooLong\u001b[0m\u001b[0;34m(\u001b[0m\u001b[0;34m\"status line\"\u001b[0m\u001b[0;34m)\u001b[0m\u001b[0;34m\u001b[0m\u001b[0;34m\u001b[0m\u001b[0m\n",
            "\u001b[0;32m/usr/lib/python3.6/socket.py\u001b[0m in \u001b[0;36mreadinto\u001b[0;34m(self, b)\u001b[0m\n\u001b[1;32m    584\u001b[0m         \u001b[0;32mwhile\u001b[0m \u001b[0;32mTrue\u001b[0m\u001b[0;34m:\u001b[0m\u001b[0;34m\u001b[0m\u001b[0;34m\u001b[0m\u001b[0m\n\u001b[1;32m    585\u001b[0m             \u001b[0;32mtry\u001b[0m\u001b[0;34m:\u001b[0m\u001b[0;34m\u001b[0m\u001b[0;34m\u001b[0m\u001b[0m\n\u001b[0;32m--> 586\u001b[0;31m                 \u001b[0;32mreturn\u001b[0m \u001b[0mself\u001b[0m\u001b[0;34m.\u001b[0m\u001b[0m_sock\u001b[0m\u001b[0;34m.\u001b[0m\u001b[0mrecv_into\u001b[0m\u001b[0;34m(\u001b[0m\u001b[0mb\u001b[0m\u001b[0;34m)\u001b[0m\u001b[0;34m\u001b[0m\u001b[0;34m\u001b[0m\u001b[0m\n\u001b[0m\u001b[1;32m    587\u001b[0m             \u001b[0;32mexcept\u001b[0m \u001b[0mtimeout\u001b[0m\u001b[0;34m:\u001b[0m\u001b[0;34m\u001b[0m\u001b[0;34m\u001b[0m\u001b[0m\n\u001b[1;32m    588\u001b[0m                 \u001b[0mself\u001b[0m\u001b[0;34m.\u001b[0m\u001b[0m_timeout_occurred\u001b[0m \u001b[0;34m=\u001b[0m \u001b[0;32mTrue\u001b[0m\u001b[0;34m\u001b[0m\u001b[0;34m\u001b[0m\u001b[0m\n",
            "\u001b[0;31mKeyboardInterrupt\u001b[0m: "
          ]
        }
      ]
    },
    {
      "cell_type": "code",
      "metadata": {
        "id": "iYxDAishKFCu",
        "colab_type": "code",
        "colab": {}
      },
      "source": [
        "\"\"\"\n",
        "    # Writers\n",
        "    Writers = []\n",
        "    current_url = wd.current_url # 개별 영화 웹페이지 url\n",
        "\n",
        "    target = str(current_url)\n",
        "    p = re.compile(r\"(https://www.imdb.com/title/)([a-zA-z]{2}[0-9]{7})(/\\?ref_=fn_al_tt_1)\")\n",
        "    m = p.match(target)\n",
        "    movie_code = m.group(2) #영화코드\n",
        "\n",
        "    url = \"https://www.imdb.com/title/\"+movie_code+\"/fullcredits/?ref_=tt_ov_st_sm\"\n",
        "    wd.get(url) #See full cast & crew 접근\n",
        "    container = wd.find_elements_by_css_selector(\"#fullcredits_content > table:nth-child(4) > tbody > tr>td.name\") #Writing Credits 박스 접근. 아래 자식으로 작가 이름 크롤링ㄱ\n",
        "\n",
        "    for i in range(len(container)):\n",
        "      Writers.append(container[i].text)\n",
        "    #print(Writers)\n",
        "    #if #fullcredits_content h4.dataHeaderWithBorder == Writing Credits 거기 멈춰서 안에 있는 박스 > ..는 복잡.\n",
        "    #걍 nth-ofchild 기능으로 선택자 처리함.\n",
        "\n",
        "    # Stars 상위16명까지. -->ㅡmin (2003)시도 완료\n",
        "    #홀수 번호 배우들 수집 \n",
        "    Stars_ch = []\n",
        "    Stars_odd = []\n",
        "    Stars_even = []\n",
        "    Stars = []\n",
        "\n",
        "    try:\n",
        "      container_odd = wd.find_elements_by_css_selector(\"#fullcredits_content > table.cast_list > tbody > tr.odd\") #홀수번호 배우들 데이터 수집\n",
        "      for i in range(9): #8번째 홀수까지 반복, 15\n",
        "        Stars_odd.append(container_odd[i].text)\n",
        "    except IndexError: \n",
        "      pass\n",
        "\n",
        "    #짝수 번호 배우들 수집\n",
        "    try:\n",
        "      container_even = wd.find_elements_by_css_selector(\"#fullcredits_content > table.cast_list > tbody > tr.even\") #짝수번호 배우들 데이터 수집\n",
        "      for i in range(9): #8번째 짝수까지 반복,16 \n",
        "        Stars_even.append(container_even[i].text)\n",
        "    except IndexError: \n",
        "      pass\n",
        "    #홀,짝 합치기\n",
        "    try:\n",
        "\n",
        "      for i in range(8):\n",
        "        Stars_ch.append(Stars_odd[i])\n",
        "        Stars_ch.append(Stars_even[i])\n",
        "      #print(Stars_ch) 합치기 완료\n",
        "    except IndexError: #배우 15명 미만일 시 pass.\n",
        "      pass\n",
        "\n",
        "\n",
        "    #배우\"...캐릭터\"지우기는 정규 표현식으로 처리.\n",
        "    for i in range(len(Stars_ch)):\n",
        "      target = Stars_ch[i]\n",
        "      p = re.compile(\"[\\- a-zA-z0-9]+\")\n",
        "      m = p.match(target)\n",
        "      Star = m.group().strip()\n",
        "      Stars.append(Star)\n",
        "    print(\"Stars:\",Stars) #배우목록\n",
        "\"\"\"\n",
        "  except:\n",
        "    continue"
      ],
      "execution_count": 0,
      "outputs": []
    },
    {
      "cell_type": "code",
      "metadata": {
        "id": "gXMhlfc0A-ub",
        "colab_type": "code",
        "outputId": "fe1f3124-31f1-4177-e831-53c45a5523fb",
        "colab": {
          "base_uri": "https://localhost:8080/",
          "height": 107
        }
      },
      "source": [
        "  #선택자 실험실.Requests, Selenium + Writers Stars 다 수집 다시.\n",
        "\"\"\"\n",
        "#requests\n",
        "raw = requests.get(\"https://www.imdb.com/title/tt7286456/?ref_=ttrel_rel_tt\") #test영화2\"min\" https://www.imdb.com/title/tt0360796/?ref_=fn_al_tt_2\n",
        "html = BeautifulSoup(raw.text, \"html.parser\")# 파싱하는법 BeautifulSoup(request로 가져온 url.text, html.parser)\n",
        "#퍼올꺼 = html.select_one(\"선택자\").text.strip() \n",
        "\"\"\"\n",
        "#selenium\n",
        "wd = webdriver.Chrome('chromedriver',chrome_options=chrome_options)\n",
        "url = \"https://www.imdb.com/find?q=\"+str(\"min (2003)\")+\"&ref_=nv_sr_sm\" #영화 이름으로 검색\n",
        "wd.get(url)\n",
        "#wd.find_element_by_css_selector(\"tag\")일케 씀.\n",
        "click_movie = wd.find_elements_by_css_selector('td.result_text a') #영화 검색창 후 이름 클릭\n",
        "click_movie[0].click() #개별 페이지 진입\n",
        "time.sleep(1)\n",
        "\n",
        "\n",
        "\"\"\"\n",
        "p = re.compile(r\"(https://www.imdb.com/title/)([a-zA-z]{2}[0-9]{7})(/\\?ref_=fn_al_tt_1)\")\n",
        "m = p.match(h_target)\n",
        "movie_code = m.group(2) #영화코드\n",
        "\n",
        "for i in range(len(movie_list)):\n",
        "  p = re.compile('([a-zA-z]{2})')\n",
        "\n",
        "\n",
        "\n",
        "#Budget, Gross_USA\n",
        "  #선택자#titleDetails >.txt-block\n",
        "container = wd.find_elements_by_css_selector(\"#titleDetails >.txt-block\")\n",
        "\n",
        "#Budget \n",
        "\n",
        "for i in range(len(container)):\n",
        "  if \"Budget:\" in container[i].text: #if문에 해당하는 내용이 없다해서 오류가 일어나지는 않음.\n",
        "    budget = container[i].text\n",
        "    Budget = budget.split(\":\")[1]\n",
        "    break  #break는 조건이 참이면 반복문 종료. cf)continue는 아래의 코드를 실행않고 다음 반복으로 넘어감.\n",
        "  else:\n",
        "    Budget = \"NA\"\n",
        "#Gross_USA\n",
        "for i in range(len(container)):\n",
        "  if \"Gross USA:\" in container[i].text:\n",
        "    gusa = container[i].text\n",
        "    Gross_USA = gusa.split(\":\")[1]\n",
        "    print(Gross_USA)\n",
        "    break\n"
      ],
      "execution_count": 5,
      "outputs": [
        {
          "output_type": "stream",
          "text": [
            "/usr/local/lib/python3.6/dist-packages/ipykernel_launcher.py:8: DeprecationWarning: use options instead of chrome_options\n",
            "  \n"
          ],
          "name": "stderr"
        },
        {
          "output_type": "stream",
          "text": [
            "['Inom Yon', 'Ahmad Hashim', 'Norkhiriah', 'Yasmin Ahmad', 'Alvin Wong', 'Yuhang Ho']\n"
          ],
          "name": "stdout"
        },
        {
          "output_type": "execute_result",
          "data": {
            "text/plain": [
              "'\\np = re.compile(r\"(https://www.imdb.com/title/)([a-zA-z]{2}[0-9]{7})(/\\\\?ref_=fn_al_tt_1)\")\\nm = p.match(h_target)\\nmovie_code = m.group(2) #영화코드\\n\\nfor i in range(len(movie_list)):\\n  p = re.compile(\\'([a-zA-z]{2})\\')\\n\\n\\n\\n#Budget, Gross_USA\\n  #선택자#titleDetails >.txt-block\\ncontainer = wd.find_elements_by_css_selector(\"#titleDetails >.txt-block\")\\n\\n#Budget \\n\\nfor i in range(len(container)):\\n  if \"Budget:\" in container[i].text: #if문에 해당하는 내용이 없다해서 오류가 일어나지는 않음.\\n    budget = container[i].text\\n    Budget = budget.split(\":\")[1]\\n    break  #break는 조건이 참이면 반복문 종료. cf)continue는 아래의 코드를 실행않고 다음 반복으로 넘어감.\\n  else:\\n    Budget = \"NA\"\\n#Gross_USA\\nfor i in range(len(container)):\\n  if \"Gross USA:\" in container[i].text:\\n    gusa = container[i].text\\n    Gross_USA = gusa.split(\":\")[1]\\n    print(Gross_USA)\\n    break\\n'"
            ]
          },
          "metadata": {
            "tags": []
          },
          "execution_count": 5
        }
      ]
    },
    {
      "cell_type": "code",
      "metadata": {
        "id": "Jn40XU4IyT3a",
        "colab_type": "code",
        "colab": {}
      },
      "source": [
        "#Budget \n",
        "\n",
        "for i in range(len(container)):\n",
        "  if \"Budget:\" in container[i].text: #if문에 해당하는 내용이 없다해서 오류가 일어나지는 않음.\n",
        "    budget = container[i].text\n",
        "    Budget = budget.split(\":\")[1]\n",
        "    break  #break는 조건이 참이면 반복문 종료. cf)continue는 아래의 코드를 실행않고 다음 반복으로 넘어감.\n",
        "  else:\n",
        "    Budget = \"NA\"\n",
        "\n",
        "print(Budget)\n",
        "\n",
        "#Gross USA"
      ],
      "execution_count": 0,
      "outputs": []
    },
    {
      "cell_type": "code",
      "metadata": {
        "id": "mP6S3mHrT5ie",
        "colab_type": "code",
        "outputId": "ab7af087-6b23-421e-c42c-cff41e8f4dac",
        "colab": {
          "base_uri": "https://localhost:8080/",
          "height": 34
        }
      },
      "source": [
        "# 선택자 실험실- request로 확인 +추후 try except각각 처리해주기 필수 .\n",
        "#Year,Rate, Certificate, runtime, Director, Writers, Stars,Certificate, Language,Released_Date. runtime은 다시.(영화페이지 밑에 분으로 나온놈 있음.)-->abort. coz N/A in some pages.\n",
        "\n",
        "\"\"\"\n",
        "url = \"https://www.imdb.com/find?q=\"+str(\"Joker\")+\"&ref_=nv_sr_sm\" #movie_title에 영화 이름 1개 들어가야함. \n",
        "wd.get(url)\n",
        "  #print(wd.page_source)  # results\n",
        "click_movie = wd.find_elements_by_css_selector('td.result_text a') #영화 검색창 후 이름 클릭\n",
        "click_movie[0].click()\n",
        "import time\n",
        "time.sleep(1)\n",
        "  # 여기부터 영화 개별 웹페이지 진입 성공, 자료수집  \n",
        "Title = html.select(\"div.title_wrapper h1\").text.strip()\n",
        "print('Title:',Title)\n",
        "\n",
        " = find_element_by_css_selector(\"\").text\n",
        " \n",
        " #Requests로 조커페이지 불러옴\n",
        "raw = requests.get(\"https://www.imdb.com/title/tt7286456/?ref_=ttrel_rel_tt\") #test영화2\"min\" https://www.imdb.com/title/tt0360796/?ref_=fn_al_tt_2\n",
        "html = BeautifulSoup(raw.text, \"html.parser\")# 파싱하는법 BeautifulSoup(request로 가져온 url.text, html.parser)\n",
        "#Title\n",
        "\n",
        "title = html.select_one(\"div.title_wrapper > h1\").text.strip()\n",
        "print(title)\n",
        "#title, year 구분이 되어있는게 아님! re로만 제거가능. 근데 그냥 연도까지 같이 가져와서 타이틀로 지정하기.\n",
        "\n",
        "#year(released year)\n",
        "Year = html.select_one(\"span#titleYear a\").text.strip()\n",
        "print(Year)\n",
        "\n",
        "#rate(전체 별점) \n",
        "Rate =  html.select_one(\"div.ratingValue span:nth-of-type(1):first-child\").text.strip() # nth-of-type(n번째) n은 1부터 시작, first-child하면 부모 모든 요소 중 첫번째 자식만 선택 \n",
        "print(Rate)\n",
        "\n",
        "\n",
        "  \n",
        "#Certificate(제한 연령),Relased date * US거로 다시하기. 밑에서\n",
        "  #container = html.select(\"div.subtext\")\n",
        "#Run time\n",
        "Run_time = html.select_one(\"div.subtext time\").text.strip()\n",
        "print(Run_time)\n",
        "\n",
        "#Genre - 수집 중 날짜까지 리스트 마지막 수집되어서 index[-1]지우는 식으로 코딩함.\n",
        "genre = html.select(\"div.subtext a\")[0:-1]\n",
        "Genre = []\n",
        "for gen in range(len(genre)):\n",
        "  Genre.append(genre[gen].text.strip())\n",
        "print(Genre)\n",
        "\n",
        "# Director, Writer, Starring div.credit_summary_item줄별로. \n",
        "Container = html.select(\"div.credit_summary_item\")\n",
        "\n",
        "#Director\n",
        "Director = []\n",
        "director = Container[0].select(\"a\") \n",
        "for i in range(len(director)):\n",
        "  Director.append(director[i].text.strip())\n",
        "print(Director)\n",
        "\n",
        "  # n more credits 지우기\n",
        "for i in range(len(Director)):\n",
        "  if \"more credits\" or \"more credit\" in Director[i]:\n",
        "   Ddelete_i = i # Director에서 지워야하는 인덱스\n",
        "  else: \n",
        "    pass\n",
        "del Director[Ddelete_i] \n",
        "\n",
        "# Writers\n",
        "Writer = []\n",
        "writer = Container[1].select(\"a\")\n",
        "for i in range(len(writer)):\n",
        "  Writer.append(writer[i].text.strip())\n",
        "\n",
        "  # n more credits 지우기\n",
        "for i in range(len(Writer)):\n",
        "  if \"more credits\" or \"more credit\" in Writer[i]:\n",
        "   Wdelete_i = i # Writer에서 지워야하는 인덱스\n",
        "  else: \n",
        "    pass\n",
        "del Writer[Wdelete_i] \n",
        "\n",
        "  # Top2 in Writers \n",
        "if len(Writer) > 2: #3명이상이면\n",
        "  Writer = Writer[0:2]\n",
        "print(Writer)\n",
        "\n",
        "# Stars\n",
        "Stars = []\n",
        "stars = Container[2].select(\"a\")\n",
        "for i in range(len(stars)):\n",
        "  Stars.append(stars[i].text.strip())\n",
        "\n",
        "  # See full cast & crew 지우기\n",
        "for i in range(len(Stars)):\n",
        "  if \"See full cast & crew\" in Stars[i]:\n",
        "   Sdelete_i = i # Stars에서 지워야하는 인덱스\n",
        "  else: \n",
        "    pass\n",
        "del Stars[Sdelete_i] \n",
        "  #Top 2 stars\n",
        "if len(Stars) > 2: #3명이상이면\n",
        "  Stars = Stars[0:2] # 2명만 extract\n",
        "print(Stars)\n",
        "\n",
        "#자동화하기(여러 페이지용.)\n",
        "\n",
        "#Certificate > clicking see more button using Selenium\n",
        "url = \"https://www.imdb.com/title/tt7286456/?ref_=ttrel_rel_tt\" #개별영화 페이지 movie_title에 영화 이름 1개 들어가야함. \n",
        "wd.get(url)\n",
        "#선택자 div.txt-block>span.see-more.inline>a\n",
        "\n",
        "Certificate_Button = wd.find_element_by_css_selector(\"div.txt-block>span.see-more.inline>a\") #클릭됨?확인\n",
        "Certificate_Button.click()\n",
        "time.sleep(1)\n",
        "#컨테이너 li.ipl-inline-list__item a\n",
        "countries = wd.find_elements_by_css_selector(\"li.ipl-inline-list__item a\")\n",
        "for i in range(len(countries)):\n",
        "  if \"United States\" in countries[i].text:\n",
        "    cert = countries[i].text\n",
        "    cert = cert.split(\":\")\n",
        "    Certificate = cert[1]\n",
        "    #print(Certificate)\n",
        "    #여기서 마지막 글자만 가져오는 식으로 하자.\n",
        "\n",
        "\n",
        "#Language: 로 시작하는 컨테이너찾기, 적당히 인덱싱해서 Language찾기. \n",
        "container = html.select(\"div.txt-block\")\n",
        "for i in range(len(container)):\n",
        "  if container[i].text.strip().startswith(\"Language:\"):\n",
        "    Lang = container[i].text.strip()\n",
        "Language = Lang[9:]\n",
        "#print(Language)\n",
        "\n",
        "\n",
        "  # Language인 행에서 text가져오기시도. div.txt-block > h4.inline 가\n",
        "  container = html.select(\"div.txt-block > h4.inline\")\n",
        "  for i in range(len(container)):\n",
        "    if container[i].text.strip() == \"Language:\":\n",
        "      print(container[i].text.strip())--> #\"Language\" 나옴\n",
        "\n",
        "\n",
        "  #그냥 전처리 없이 language:English만 가져오는법\n",
        "  container = html.select(\"div.txt-block > a\") # >a하면 안되고 > a하니까 됨..\n",
        "  for i in range(len(container)):\n",
        "    if container[i].text.strip() == \"English\":\n",
        "      print(container[i].text.strip())\n",
        "  \"\"\"\n",
        "\"\"\"\n",
        "#Relased_date\n",
        "container = html.select(\"div.txt-block\")\n",
        "for i in range(len(container)):\n",
        "  if container[i].text.strip().startswith(\"Release Date:\"):\n",
        "    RDate_list = container[i]\n",
        "print(RDate_list)\n",
        "\n",
        "\n",
        "\n",
        "#click span.see-more.inline 눌러야함.\n",
        "Container = wd.find_elements_by_css_selector(\"div.txt-block\")\n",
        "for i in range(len(Container)):\n",
        "  if container[i].text.strip().startswith(\"Release Date:\"):\n",
        "    RDate_list = Container[i]\n",
        "print(RDate_list)\n",
        "RDate_Container = RDate_list.find_elements_by_css_selector(\"span.see-more.inline\") \n",
        "Relased_date = RDate_Container.find_element_by_css_selector(\"a\")\n",
        "print(Relased_date)\n",
        "#print(RDate_list)\n",
        "#Rdate_Button.click()\n",
        "\n",
        "\n",
        "#Released Date(circumvent)\n",
        "#이거 클릭하면 들어감. Released date div.subtext>a:last-child \n",
        "#주의.위에서 url로 클릭한 상태이기에 url초기화해서 다시해줘야.\n",
        "url = \"https://www.imdb.com/title/tt7286456/?ref_=ttrel_rel_tt\" #개별영화 페이지 movie_title에 영화 이름 1개 들어가야함. \n",
        "wd.get(url)\n",
        "Released_year = wd.find_elements_by_css_selector(\"div.subtext > a\") \n",
        "Released_year[-1].click()\n",
        "time.sleep(1)\n",
        "#국가,개봉일 목록 --> tr.ipl-zebra-list__item.release-date-item \n",
        "Date_list = wd.find_elements_by_css_selector(\"tr.ipl-zebra-list__item.release-date-item\")\n",
        "\n",
        "#USA로 시작하는 칸 찾기, 최초 개봉일 extract\n",
        "\n",
        "for i in range(len(Date_list)):\n",
        "  if Date_list[i].text.startswith(\"USA\") and \"premiere\" in Date_list[i].text: #여러 개봉일 중\"premiere\"개봉일 추출\n",
        "     premiere_released = i  #인덱스 찾기 성공, td.release-date-item__date 여기로 연계.\n",
        "     \n",
        "Date_list = wd.find_elements_by_css_selector(\"td.release-date-item__date\")\n",
        "Released_Date = Date_list[premiere_released].text #Released_Date 수집 성공\n",
        "     \n",
        "#wd.close\n",
        "\"\"\""
      ],
      "execution_count": 0,
      "outputs": [
        {
          "output_type": "stream",
          "text": [
            "Min (2003)\n"
          ],
          "name": "stdout"
        }
      ]
    },
    {
      "cell_type": "code",
      "metadata": {
        "id": "SdiVaiPeUY8B",
        "colab_type": "code",
        "colab": {}
      },
      "source": [
        "# 엑셀파일 만들기\n",
        "file_name = 'workbook.xls'\n",
        "wb = xlwt.Workbook()\n",
        "ws_1 = wb.add_sheet('sheet0',cell_overwrite_ok = True)\n",
        "ws_1 = wb.get_sheet(0)\n",
        "ws_1.write(1,1,'영화제목')"
      ],
      "execution_count": 0,
      "outputs": []
    },
    {
      "cell_type": "code",
      "metadata": {
        "id": "I5iRR0eeUhKv",
        "colab_type": "code",
        "colab": {}
      },
      "source": [
        "#엑셀파일 다운받기\n",
        "for i in range(len(new_movie_titles)):\n",
        "  ws_1.write(i+1,1,new_movie_titles[i])\n",
        "      \n",
        "      \n",
        "wb.save(file_name)\n",
        "files.download(file_name)"
      ],
      "execution_count": 0,
      "outputs": []
    }
  ]
}