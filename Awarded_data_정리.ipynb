{
  "nbformat": 4,
  "nbformat_minor": 0,
  "metadata": {
    "colab": {
      "name": "Awarded data 정리.ipynb",
      "provenance": [],
      "collapsed_sections": [],
      "authorship_tag": "ABX9TyMKQ5lLb38xxx/il+rD6uP8",
      "include_colab_link": true
    },
    "kernelspec": {
      "name": "python3",
      "display_name": "Python 3"
    }
  },
  "cells": [
    {
      "cell_type": "markdown",
      "metadata": {
        "id": "view-in-github",
        "colab_type": "text"
      },
      "source": [
        "<a href=\"https://colab.research.google.com/github/Datamin-D/movie_predict/blob/master/Awarded_data_%EC%A0%95%EB%A6%AC.ipynb\" target=\"_parent\"><img src=\"https://colab.research.google.com/assets/colab-badge.svg\" alt=\"Open In Colab\"/></a>"
      ]
    },
    {
      "cell_type": "markdown",
      "metadata": {
        "id": "JmYRoogIoI2v",
        "colab_type": "text"
      },
      "source": [
        "`## Getting Golden Globe, Academy award data"
      ]
    },
    {
      "cell_type": "code",
      "metadata": {
        "id": "XvLDj3zIrDC2",
        "colab_type": "code",
        "colab": {
          "base_uri": "https://localhost:8080/",
          "height": 52
        },
        "outputId": "5f4135b7-c52c-49f5-c9ff-08083bd39bb7"
      },
      "source": [
        "import pandas as pd\n",
        "import pickle"
      ],
      "execution_count": 98,
      "outputs": [
        {
          "output_type": "stream",
          "text": [
            "Requirement already satisfied: python-varname in /usr/local/lib/python3.6/dist-packages (0.4.0)\n",
            "Requirement already satisfied: executing in /usr/local/lib/python3.6/dist-packages (from python-varname) (0.5.2)\n"
          ],
          "name": "stdout"
        }
      ]
    },
    {
      "cell_type": "markdown",
      "metadata": {
        "id": "C06hQI8KrDfl",
        "colab_type": "text"
      },
      "source": [
        "## Getting Golden Globe data(1944 - 2020) kaggle"
      ]
    },
    {
      "cell_type": "code",
      "metadata": {
        "id": "3LQgh04vqCD7",
        "colab_type": "code",
        "colab": {
          "base_uri": "https://localhost:8080/",
          "height": 52
        },
        "outputId": "f88f8323-0997-4e25-96f9-6e4372d0e6ed"
      },
      "source": [
        "#구글드라이브 마운트\n",
        "from google.colab import drive\n",
        "drive.mount('/gdrive')\n",
        "%cd /gdrive"
      ],
      "execution_count": 35,
      "outputs": [
        {
          "output_type": "stream",
          "text": [
            "Drive already mounted at /gdrive; to attempt to forcibly remount, call drive.mount(\"/gdrive\", force_remount=True).\n",
            "/gdrive\n"
          ],
          "name": "stdout"
        }
      ]
    },
    {
      "cell_type": "code",
      "metadata": {
        "id": "GDVjcBbqp_UK",
        "colab_type": "code",
        "colab": {
          "base_uri": "https://localhost:8080/",
          "height": 406
        },
        "outputId": "6638e2ce-9ab2-450b-bdcf-aa16a6b5413c"
      },
      "source": [
        "path = '/gdrive/My Drive/movie_predict/golden globe, academy file/kaggle_golden_globe_awards.csv'\n",
        "golden_globe = pd.read_csv(path)\n",
        "golden_globe"
      ],
      "execution_count": 36,
      "outputs": [
        {
          "output_type": "execute_result",
          "data": {
            "text/html": [
              "<div>\n",
              "<style scoped>\n",
              "    .dataframe tbody tr th:only-of-type {\n",
              "        vertical-align: middle;\n",
              "    }\n",
              "\n",
              "    .dataframe tbody tr th {\n",
              "        vertical-align: top;\n",
              "    }\n",
              "\n",
              "    .dataframe thead th {\n",
              "        text-align: right;\n",
              "    }\n",
              "</style>\n",
              "<table border=\"1\" class=\"dataframe\">\n",
              "  <thead>\n",
              "    <tr style=\"text-align: right;\">\n",
              "      <th></th>\n",
              "      <th>year_film</th>\n",
              "      <th>year_award</th>\n",
              "      <th>ceremony</th>\n",
              "      <th>category</th>\n",
              "      <th>nominee</th>\n",
              "      <th>film</th>\n",
              "      <th>win</th>\n",
              "    </tr>\n",
              "  </thead>\n",
              "  <tbody>\n",
              "    <tr>\n",
              "      <th>0</th>\n",
              "      <td>1943</td>\n",
              "      <td>1944</td>\n",
              "      <td>1</td>\n",
              "      <td>Best Performance by an Actress in a Supporting...</td>\n",
              "      <td>Katina Paxinou</td>\n",
              "      <td>For Whom The Bell Tolls</td>\n",
              "      <td>True</td>\n",
              "    </tr>\n",
              "    <tr>\n",
              "      <th>1</th>\n",
              "      <td>1943</td>\n",
              "      <td>1944</td>\n",
              "      <td>1</td>\n",
              "      <td>Best Performance by an Actor in a Supporting R...</td>\n",
              "      <td>Akim Tamiroff</td>\n",
              "      <td>For Whom The Bell Tolls</td>\n",
              "      <td>True</td>\n",
              "    </tr>\n",
              "    <tr>\n",
              "      <th>2</th>\n",
              "      <td>1943</td>\n",
              "      <td>1944</td>\n",
              "      <td>1</td>\n",
              "      <td>Best Director - Motion Picture</td>\n",
              "      <td>Henry King</td>\n",
              "      <td>The Song Of Bernadette</td>\n",
              "      <td>True</td>\n",
              "    </tr>\n",
              "    <tr>\n",
              "      <th>3</th>\n",
              "      <td>1943</td>\n",
              "      <td>1944</td>\n",
              "      <td>1</td>\n",
              "      <td>Picture</td>\n",
              "      <td>The Song Of Bernadette</td>\n",
              "      <td>NaN</td>\n",
              "      <td>True</td>\n",
              "    </tr>\n",
              "    <tr>\n",
              "      <th>4</th>\n",
              "      <td>1943</td>\n",
              "      <td>1944</td>\n",
              "      <td>1</td>\n",
              "      <td>Actress In A Leading Role</td>\n",
              "      <td>Jennifer Jones</td>\n",
              "      <td>The Song Of Bernadette</td>\n",
              "      <td>True</td>\n",
              "    </tr>\n",
              "    <tr>\n",
              "      <th>...</th>\n",
              "      <td>...</td>\n",
              "      <td>...</td>\n",
              "      <td>...</td>\n",
              "      <td>...</td>\n",
              "      <td>...</td>\n",
              "      <td>...</td>\n",
              "      <td>...</td>\n",
              "    </tr>\n",
              "    <tr>\n",
              "      <th>7986</th>\n",
              "      <td>2019</td>\n",
              "      <td>2020</td>\n",
              "      <td>77</td>\n",
              "      <td>Best Performance by an Actor in a Supporting R...</td>\n",
              "      <td>Kieran Culkin</td>\n",
              "      <td>Succession</td>\n",
              "      <td>False</td>\n",
              "    </tr>\n",
              "    <tr>\n",
              "      <th>7987</th>\n",
              "      <td>2019</td>\n",
              "      <td>2020</td>\n",
              "      <td>77</td>\n",
              "      <td>Best Performance by an Actor in a Supporting R...</td>\n",
              "      <td>Andrew Scott</td>\n",
              "      <td>Fleabag</td>\n",
              "      <td>False</td>\n",
              "    </tr>\n",
              "    <tr>\n",
              "      <th>7988</th>\n",
              "      <td>2019</td>\n",
              "      <td>2020</td>\n",
              "      <td>77</td>\n",
              "      <td>Best Performance by an Actor in a Supporting R...</td>\n",
              "      <td>Henry Winkler</td>\n",
              "      <td>Barry</td>\n",
              "      <td>False</td>\n",
              "    </tr>\n",
              "    <tr>\n",
              "      <th>7989</th>\n",
              "      <td>2019</td>\n",
              "      <td>2020</td>\n",
              "      <td>77</td>\n",
              "      <td>Cecil B. deMille Award</td>\n",
              "      <td>Tom Hanks</td>\n",
              "      <td>NaN</td>\n",
              "      <td>False</td>\n",
              "    </tr>\n",
              "    <tr>\n",
              "      <th>7990</th>\n",
              "      <td>2019</td>\n",
              "      <td>2020</td>\n",
              "      <td>77</td>\n",
              "      <td>Carol Burnett Award</td>\n",
              "      <td>Ellen DeGeneres</td>\n",
              "      <td>NaN</td>\n",
              "      <td>False</td>\n",
              "    </tr>\n",
              "  </tbody>\n",
              "</table>\n",
              "<p>7991 rows × 7 columns</p>\n",
              "</div>"
            ],
            "text/plain": [
              "      year_film  year_award  ...                     film    win\n",
              "0          1943        1944  ...  For Whom The Bell Tolls   True\n",
              "1          1943        1944  ...  For Whom The Bell Tolls   True\n",
              "2          1943        1944  ...   The Song Of Bernadette   True\n",
              "3          1943        1944  ...                      NaN   True\n",
              "4          1943        1944  ...   The Song Of Bernadette   True\n",
              "...         ...         ...  ...                      ...    ...\n",
              "7986       2019        2020  ...               Succession  False\n",
              "7987       2019        2020  ...                  Fleabag  False\n",
              "7988       2019        2020  ...                    Barry  False\n",
              "7989       2019        2020  ...                      NaN  False\n",
              "7990       2019        2020  ...                      NaN  False\n",
              "\n",
              "[7991 rows x 7 columns]"
            ]
          },
          "metadata": {
            "tags": []
          },
          "execution_count": 36
        }
      ]
    },
    {
      "cell_type": "code",
      "metadata": {
        "id": "_HfuqGBZw10o",
        "colab_type": "code",
        "colab": {}
      },
      "source": [
        "#Winner_dictionary  gg_star_winner, gg_star_nominee, gg_director_winner, gg_director_nominee, gg_writer_winner, gg_writer_nominee\n",
        "\n",
        "#[1] Golden Globe gg_star_winner\n",
        "\n",
        "#1. 수상연도:사람 목록 담을 dict만들기 \n",
        "\n",
        "gg_star_winner = {} #연도:배우들 을 담을 리스트 \n",
        "\n",
        "for i in range(1944,2020):\n",
        "  gg_star_winner[i] = 0\n",
        "\n",
        "#2. star관련 행만 뽑아내기 \n",
        "gg_star_actor  = golden_globe[golden_globe['category'].str.contains('Actor')]\n",
        "gg_star_actress = golden_globe[golden_globe['category'].str.contains('Actress')]\n",
        "\n",
        "gg_star = pd.concat([gg_star_actor, gg_star_actress])\n",
        "\n",
        "#3.수상 연도: 사람 리스트(배우,작가,감독) 만들기 // 수상자용\n",
        "\n",
        "year_list_gg = [i for i in range(1944,2020)] #1944~2019년\n",
        "for year in year_list_gg:\n",
        "  in_awarded_year = gg_star['year_award'] == year\n",
        "  winner = gg_star['win'] == True \n",
        "  rows_winner_year = gg_star[['nominee']][in_awarded_year & winner] #df['컬럼'][df안의 값]\n",
        "  #df[['보여줄 칼럼 값']][df['판별할 칼럼'] == 판별할 칼럼의 값 ] 하면 df에서 조건에 맞는 행 쭉 뽑아줌.\n",
        "\n",
        "   #해당 연도에 맞는 nominee 추출\n",
        "  stars_byyear_no = len(rows_winner_year.values.tolist()) #수상 연도의 모든 star list \n",
        "  star_list = [] #해당 year의 star를 담을 리스트\n",
        "  for star in range(stars_byyear_no): #해당 연도의 star들 리스트에 모으기\n",
        "    star_list.append(rows_winner_year.values.tolist()[star][0]) #해당 연도의 star들 리스트에 넣기\n",
        "  gg_star_winner[year] = star_list\n",
        "\n",
        "# 4.연도마다 누적되도록 수상자 목록 저장\n",
        "for year in range(1944,2019): # \n",
        "  gg_star_winner[year + 1] = gg_star_winner[year + 1] + gg_star_winner[year]\n"
      ],
      "execution_count": 37,
      "outputs": []
    },
    {
      "cell_type": "code",
      "metadata": {
        "id": "IK3He3iG58H8",
        "colab_type": "code",
        "colab": {}
      },
      "source": [
        "#Winner_dictionary  gg_star_nominee, gg_director_winner, gg_director_nominee, gg_writer_winner, gg_writer_nominee\n",
        "\n",
        "#[2] Golden Globe gg_star_nominee\n",
        "\n",
        "#1. 수상연도:사람 목록 담을 dict만들기 \n",
        "\n",
        "gg_star_nominee = {} #연도:배우들 을 담을 리스트 \n",
        "\n",
        "for i in range(1944,2020):\n",
        "  gg_star_nominee[i] = 0\n",
        "\n",
        "\n",
        "writer_category_gg = ['Best Screenplay - Motion Picture'] \n",
        "director_category_gg = ['Best Director - Motion Picture'] \n",
        "\n",
        "#2. star관련 행만 뽑아내기 \n",
        "gg_star_actor  = golden_globe[golden_globe['category'].str.contains('Actor')]\n",
        "gg_star_actress = golden_globe[golden_globe['category'].str.contains('Actress')]\n",
        "\n",
        "gg_star = pd.concat([gg_star_actor, gg_star_actress])\n",
        "\n",
        "#3.수상 연도: 사람 리스트(배우,작가,감독) 만들기 // 수상자용\n",
        "\n",
        "year_list_gg = [i for i in range(1944,2020)] #1944~2019년\n",
        "for year in year_list_gg:\n",
        "  in_awarded_year = gg_star['year_award'] == year\n",
        "  nominee = gg_star['win'] == False\n",
        "  rows_nominee_year = gg_star[['nominee']][in_awarded_year & nominee] #df['컬럼'][df안의 값]\n",
        "  #df[['보여줄 칼럼 값']][df['판별할 칼럼'] == 판별할 칼럼의 값 ] 하면 df에서 조건에 맞는 행 쭉 뽑아줌.\n",
        "\n",
        "   #해당 연도에 맞는 nominee 추출\n",
        "  stars_byyear_no = len(rows_nominee_year.values.tolist()) #수상 연도의 모든 star list \n",
        "  star_list = [] #해당 year의 star를 담을 리스트\n",
        "  for star in range(stars_byyear_no): #해당 연도의 star들 리스트에 모으기\n",
        "    star_list.append(rows_nominee_year.values.tolist()[star][0]) #해당 연도의 star들 리스트에 넣기\n",
        "  gg_star_nominee[year] = star_list\n",
        "\n",
        "# 4.연도마다 누적된 수상자 목록 저장\n",
        "for year in range(1944,2019): # \n",
        "  gg_star_nominee[year + 1] = gg_star_nominee[year + 1] + gg_star_nominee[year]"
      ],
      "execution_count": 38,
      "outputs": []
    },
    {
      "cell_type": "code",
      "metadata": {
        "id": "gqxcRi1A52fx",
        "colab_type": "code",
        "colab": {
          "base_uri": "https://localhost:8080/",
          "height": 34
        },
        "outputId": "9f6e4293-5cbc-4188-d99c-0492f24eebc8"
      },
      "source": [
        ""
      ],
      "execution_count": 115,
      "outputs": [
        {
          "output_type": "execute_result",
          "data": {
            "text/plain": [
              "4449"
            ]
          },
          "metadata": {
            "tags": []
          },
          "execution_count": 115
        }
      ]
    },
    {
      "cell_type": "code",
      "metadata": {
        "id": "z4ILaamP7CG9",
        "colab_type": "code",
        "colab": {}
      },
      "source": [
        "#Winner_dictionary   \n",
        "\n",
        "#[3] Golden Globe gg_director_winner\n",
        "\n",
        "#1. 수상연도:사람 목록 담을 dict만들기 \n",
        "\n",
        "gg_director_winner = {} #연도:배우들 을 담을 리스트 \n",
        "\n",
        "for i in range(1944,2020):\n",
        "  gg_director_winner[i] = 0\n",
        "\n",
        "#2. director관련 행만 뽑아내기 \n",
        "gg_director = golden_globe[golden_globe['category'].str.contains('Best Director - Motion Picture')]\n",
        "\n",
        "#3.수상 연도: 사람 리스트(배우,작가,감독) 만들기 // 수상자용\n",
        "\n",
        "year_list_gg = [i for i in range(1944,2020)] #1944~2019년\n",
        "for year in year_list_gg:\n",
        "  in_awarded_year = gg_director['year_award'] == year\n",
        "  winner = gg_director['win'] == True \n",
        "  rows_winner_year = gg_director[['nominee']][in_awarded_year & winner] #df['컬럼'][df안의 값]\n",
        "  #df[['보여줄 칼럼 값']][df['판별할 칼럼'] == 판별할 칼럼의 값 ] 하면 df에서 조건에 맞는 행 쭉 뽑아줌.\n",
        "\n",
        "   #해당 연도에 맞는 nominee 추출\n",
        "  director_list_byyear_no = len(rows_winner_year.values.tolist()) #수상 연도의 모든 star list \n",
        "  director_list = [] #해당 year의 star를 담을 리스트\n",
        "  for director in range(director_list_byyear_no): #해당 연도의 star들 리스트에 모으기\n",
        "    director_list.append(rows_winner_year.values.tolist()[director][0]) #해당 연도의 star들 리스트에 넣기\n",
        "  gg_director_winner[year] = director_list\n",
        "\n",
        "# 4.연도마다 누적된 수상자 목록 저장\n",
        "for year in range(1944,2019): # \n",
        "  gg_director_winner[year + 1] = gg_director_winner[year + 1] + gg_director_winner[year]\n"
      ],
      "execution_count": 39,
      "outputs": []
    },
    {
      "cell_type": "code",
      "metadata": {
        "id": "TYqljGWpK8GH",
        "colab_type": "code",
        "colab": {
          "base_uri": "https://localhost:8080/",
          "height": 34
        },
        "outputId": "39e9bbc9-1118-44df-ced0-293e76b74018"
      },
      "source": [
        "gg_director_winner[1945]"
      ],
      "execution_count": 40,
      "outputs": [
        {
          "output_type": "execute_result",
          "data": {
            "text/plain": [
              "['Leo McCarey', 'Henry King']"
            ]
          },
          "metadata": {
            "tags": []
          },
          "execution_count": 40
        }
      ]
    },
    {
      "cell_type": "code",
      "metadata": {
        "id": "avdr3JROF2y6",
        "colab_type": "code",
        "colab": {}
      },
      "source": [
        "#[4] Golden Globe gg_director_nominee\n",
        "\n",
        "#1. 수상연도:사람 목록 담을 dict만들기 \n",
        "\n",
        "gg_director_nominee = {} #연도:배우들 을 담을 리스트 \n",
        "\n",
        "for i in range(1944,2020):\n",
        "  gg_director_nominee[i] = 0\n",
        "\n",
        "#2. director관련 행만 뽑아내기 \n",
        "gg_director = golden_globe[golden_globe['category'].str.contains('Best Director - Motion Picture')]\n",
        "\n",
        "#3.수상 연도: 사람 리스트(배우,작가,감독) 만들기 // 수상자용\n",
        "\n",
        "year_list_gg = [i for i in range(1944,2020)] #1944~2019년\n",
        "for year in year_list_gg:\n",
        "  in_awarded_year = gg_director['year_award'] == year\n",
        "  nominee = gg_director['win'] == False \n",
        "  rows_nominee_year = gg_director[['nominee']][in_awarded_year & nominee] #df['컬럼'][df안의 값]\n",
        "  #df[['보여줄 칼럼 값']][df['판별할 칼럼'] == 판별할 칼럼의 값 ] 하면 df에서 조건에 맞는 행 쭉 뽑아줌.\n",
        "\n",
        "   #해당 연도에 맞는 nominee 추출\n",
        "  directors_byyear_no = len(rows_nominee_year.values.tolist()) #수상 연도의 모든 director list \n",
        "  director_list = [] #해당 year의 director를 담을 리스트\n",
        "  for director in range(directors_byyear_no): #해당 연도의 director들 리스트에 모으기\n",
        "    director_list.append(rows_nominee_year.values.tolist()[director][0]) #해당 연도의 director들 리스트에 넣기\n",
        "  gg_director_nominee[year] = director_list\n",
        "\n",
        "# 4.연도마다 누적된 수상자 목록 저장\n",
        "for year in range(1944,2019): # \n",
        "  gg_director_nominee[year + 1] = gg_director_nominee[year + 1] + gg_director_nominee[year]\n",
        "\n"
      ],
      "execution_count": 41,
      "outputs": []
    },
    {
      "cell_type": "code",
      "metadata": {
        "id": "W2D6lmjgSrSK",
        "colab_type": "code",
        "colab": {}
      },
      "source": [
        "#[5] Golden Globe gg_writer_winner\n",
        "\n",
        "#1. 수상연도:사람 목록 담을 dict만들기 \n",
        "\n",
        "gg_writer_winner = {} #연도:배우들 을 담을 리스트 \n",
        "\n",
        "for i in range(1944,2020):\n",
        "  gg_writer_winner[i] = 0\n",
        "\n",
        "#2. writer관련 행만 뽑아내기 \n",
        "gg_writer = golden_globe[golden_globe['category'].str.contains('Best Screenplay - Motion Picture')]\n",
        "\n",
        "#3.수상 연도: 사람 리스트(배우,작가,감독) 만들기 // 수상자용\n",
        "\n",
        "year_list_gg = [i for i in range(1944,2020)] #1944~2019년\n",
        "for year in year_list_gg:\n",
        "  in_awarded_year = gg_writer['year_award'] == year\n",
        "  winner = gg_writer['win'] == True \n",
        "  rows_winner_year = gg_writer[['nominee']][in_awarded_year & winner] #df['컬럼'][df안의 값]\n",
        "  #df[['보여줄 칼럼 값']][df['판별할 칼럼'] == 판별할 칼럼의 값 ] 하면 df에서 조건에 맞는 행 쭉 뽑아줌.\n",
        "\n",
        "   #해당 연도에 맞는 nominee 추출\n",
        "  writer_list_byyear_no = len(rows_winner_year.values.tolist()) #수상 연도의 모든 writer list \n",
        "  writer_list = [] #해당 year의 writer를 담을 리스트\n",
        "  for writer in range(writer_list_byyear_no): #해당 연도의 writer들 리스트에 모으기\n",
        "    writer_list.append(rows_winner_year.values.tolist()[writer][0]) #해당 연도의 writer들 리스트에 넣기\n",
        "  gg_writer_winner[year] = writer_list\n",
        "\n",
        "# 4.연도마다 누적된 수상자 목록 저장\n",
        "for year in range(1944,2019): # \n",
        "  gg_writer_winner[year + 1] = gg_writer_winner[year + 1] + gg_writer_winner[year]\n"
      ],
      "execution_count": 42,
      "outputs": []
    },
    {
      "cell_type": "code",
      "metadata": {
        "id": "vpkMDTXzGCeU",
        "colab_type": "code",
        "colab": {}
      },
      "source": [
        "#[6] Golden Globe gg_writer_nominee\n",
        "\n",
        "#1. 수상연도:사람 목록 담을 dict만들기 \n",
        "\n",
        "gg_writer_nominee = {} #연도:배우들 을 담을 리스트 \n",
        "\n",
        "for i in range(1944,2020):\n",
        "  gg_writer_nominee[i] = 0\n",
        "\n",
        "#2.writer관련 행만 뽑아내기 \n",
        "gg_writer = golden_globe[golden_globe['category'].str.contains('Best Screenplay - Motion Picture')]\n",
        "\n",
        "#3.수상 연도: 사람 리스트(배우,작가,감독) 만들기 // 수상자용\n",
        "\n",
        "year_list_gg = [i for i in range(1944,2020)] #1944~2019년\n",
        "for year in year_list_gg:\n",
        "  in_awarded_year = gg_writer['year_award'] == year\n",
        "  nominee = gg_writer['win'] == False \n",
        "  rows_nominee_year = gg_writer[['nominee']][in_awarded_year & nominee] #df['컬럼'][df안의 값]\n",
        "  #df[['보여줄 칼럼 값']][df['판별할 칼럼'] == 판별할 칼럼의 값 ] 하면 df에서 조건에 맞는 행 쭉 뽑아줌.\n",
        "\n",
        "   #해당 연도에 맞는 nominee 추출\n",
        "  writers_byyear_no = len(rows_nominee_year.values.tolist()) #수상 연도의 모든 writer list \n",
        "  writer_list = [] #해당 year의 writer를 담을 리스트\n",
        "  for writer in range(writers_byyear_no): #해당 연도의 writer들 리스트에 모으기\n",
        "    writer_list.append(rows_nominee_year.values.tolist()[writer][0]) #해당 연도의 writer들 리스트에 넣기\n",
        "  gg_writer_nominee[year] = writer_list\n",
        "\n",
        "# 4.연도마다 누적된 수상자 목록 저장\n",
        "for year in range(1944,2019): # \n",
        "  gg_writer_nominee[year + 1] = gg_writer_nominee[year + 1] + gg_writer_nominee[year]\n",
        "\n"
      ],
      "execution_count": 43,
      "outputs": []
    },
    {
      "cell_type": "code",
      "metadata": {
        "id": "5pTJfZ9jnj4J",
        "colab_type": "code",
        "colab": {
          "base_uri": "https://localhost:8080/",
          "height": 54
        },
        "outputId": "cad9dedf-1f1a-407a-c73b-baf6551b9ad6"
      },
      "source": [
        "#연도 조건에 맞는 행 추려내기 -->실수. 배우셈: ~사용법, series와 df의 관계 // 셀 아래에 더 쉽고 간결한 코드\n",
        "\n",
        "#golden_globe[golden_globe['year_award'] == 1944]['nominee','win'] #nominee,win칼럼 df뽑아다가 하고싶으면 아래처럼 하셈\n",
        "golden_globe_by_year = golden_globe[golden_globe['year_award'] == 2004]\n",
        "nominee2004 = golden_globe_by_year[['nominee','win']]\n",
        "\n",
        "#제외할 목록(영화, 음악.Tv series 등 )\n",
        "excluded_category = ['Picture', 'Best Motion Picture - Foreign Language', 'Best Motion Picture - Drama' ,'Foreign Film - English Language', 'Best Motion Picture - Musical or Comedy', 'Picture - Musical', 'Picture - Comedy', 'Television Series','Best Television Series - Drama','Best Television Series - Musical or Comedy','Television Movie', 'Documentary', 'Best Original Score - Motion Picture', 'Best Original Song - Motion Picture']\n",
        "\n",
        "#golden_globe - golden_globe[golden_globe['category'].isin(excluded_category)]\n",
        "\n",
        "golden_globe_category = golden_globe['category']\n",
        "golden_globe_exc = []\n",
        "\n",
        "for award_index in range(len(golden_globe.index)):\n",
        "  golden_globe_exc.append(golden_globe_category[award_index] not in excluded_category)\n",
        "print(golden_globe_exc)\n",
        "# 1. golden_globe[pd.DataFrame(golden_globe_exc)]는 안되고\n",
        "# 2. ~golden_globe['category'].isin(excluded_category)는 되는 이유?\n",
        "# --> 1.은 dataframe이고 2.는 series여서 그럼. series로 df인덱싱가능함. (True/False로)\n",
        "\n",
        "#pd.DataFrame(golden_globe_exc).squeeze() 일케 series로 바꾸면ㄱㅊ\n",
        "#==========================================================================\n",
        "\n",
        "#이코드로 돌리삼\n",
        "#golden globe 수상한 배우,작가,감독 연도별로 정리 다시 생각햅화\n",
        "\n",
        "\n",
        "#제외할 목록(영화, 음악.Tv series 등 )\n",
        "excluded_category = ['Picture', 'Best Motion Picture - Foreign Language', 'Best Motion Picture - Drama' ,'Foreign Film - English Language', 'Best Motion Picture - Musical or Comedy', 'Picture - Musical', 'Picture - Comedy', 'Television Series','Best Television Series - Drama','Best Television Series - Musical or Comedy','Television Movie', 'Documentary', 'Best Original Score - Motion Picture', 'Best Original Song - Motion Picture']\n",
        "\n",
        "golden_globe = golden_globe[~golden_globe['category'].isin(excluded_category)] # category 추려낸거.\n",
        "\n",
        "\n",
        "#여기서 그룹화ㄱ, 찾기."
      ],
      "execution_count": 44,
      "outputs": [
        {
          "output_type": "stream",
          "text": [
            "[True, True, True, False, True, True, True, True, True, False, True, True, True, True, True, True, False, True, True, True, True, True, True, True, False, True, True, True, True, True, True, False, True, True, True, False, True, True, True, True, True, True, True, True, False, True, False, False, True, True, True, False, True, True, True, True, True, True, True, True, True, False, False, False, False, True, True, True, True, True, True, True, True, False, False, True, True, True, True, True, True, True, True, True, True, True, True, True, True, True, True, True, True, True, True, True, True, True, True, True, True, True, True, False, False, False, True, True, True, True, True, True, False, False, False, True, True, True, True, True, True, True, True, True, True, True, False, False, False, False, False, False, True, True, True, True, True, True, True, True, True, True, True, True, True, True, True, True, True, False, False, False, True, True, True, True, True, True, True, True, True, True, True, False, False, False, False, False, False, False, False, False, False, True, True, True, True, True, True, True, True, True, True, True, True, True, True, True, True, True, True, True, True, True, False, False, False, True, True, True, True, True, True, True, True, True, True, True, True, True, True, True, True, True, True, True, True, True, True, True, True, True, False, True, True, True, True, True, True, True, True, True, True, True, True, True, True, True, True, True, True, True, True, True, True, True, True, True, True, False, False, False, True, True, True, True, True, True, True, False, False, False, False, True, True, True, True, True, True, True, True, True, True, True, True, True, True, True, True, True, True, False, False, True, True, True, True, True, True, False, False, False, False, False, True, True, True, True, True, True, True, True, True, True, True, True, True, True, False, False, False, False, False, False, False, False, False, False, True, True, True, True, True, True, True, True, True, True, True, True, True, True, True, True, True, True, True, True, True, True, True, True, True, True, True, True, True, True, True, True, True, True, True, True, True, True, True, True, True, True, True, True, True, True, True, True, True, True, True, True, True, True, True, True, True, True, True, True, True, True, True, True, False, True, True, True, False, False, False, False, False, False, False, False, False, False, True, True, True, True, True, True, True, True, True, True, True, True, True, True, True, True, True, True, True, True, True, True, True, True, True, True, True, True, True, True, True, True, True, True, True, True, True, True, True, True, True, True, True, True, True, True, True, True, True, True, True, True, True, True, True, False, True, True, False, False, False, False, False, True, True, True, True, True, True, True, True, True, True, True, True, True, True, True, True, True, True, True, True, True, True, True, True, True, True, True, True, True, True, True, False, False, False, True, True, True, True, True, False, False, False, False, False, True, True, True, True, True, True, True, True, True, True, True, True, True, True, True, True, True, True, True, True, True, True, True, True, True, True, True, True, True, False, True, True, False, False, False, False, False, True, True, True, True, True, True, True, True, True, True, True, True, True, True, True, True, True, True, True, True, True, True, True, True, True, True, True, True, True, True, False, True, True, False, False, False, False, False, True, True, True, True, True, False, False, False, False, False, True, True, True, True, True, True, True, True, True, True, True, True, True, True, True, True, True, True, True, True, True, True, True, True, True, True, True, True, True, False, False, False, False, False, True, True, True, True, True, True, True, True, True, True, True, True, True, True, True, True, True, True, True, True, True, True, True, True, True, True, True, True, True, True, False, False, False, False, False, True, False, False, False, False, False, True, True, False, False, False, False, False, True, True, True, True, True, True, True, True, True, True, True, True, True, True, True, True, True, True, True, True, True, True, True, True, True, True, True, True, False, False, False, True, True, True, False, False, False, False, False, True, True, True, True, True, True, True, True, True, True, True, True, True, True, True, True, True, True, True, True, True, True, True, True, True, True, True, True, True, True, False, False, False, False, False, False, True, False, False, True, True, True, False, False, False, False, True, True, True, True, True, True, True, True, True, True, True, True, True, True, True, False, False, True, True, True, True, True, True, True, True, True, True, True, True, True, False, False, False, False, False, False, False, False, False, False, True, True, True, True, True, True, True, True, True, True, True, True, True, True, True, True, True, True, True, True, True, True, True, True, True, True, True, True, True, True, True, True, True, True, True, True, True, True, True, True, True, True, True, True, True, True, True, True, True, True, True, True, True, True, True, True, True, True, True, False, False, False, False, False, False, True, False, False, False, True, True, True, False, False, False, False, False, True, True, True, True, True, True, True, True, True, True, True, True, True, True, True, True, True, True, True, True, True, True, True, True, True, True, True, True, True, True, True, False, False, False, False, False, False, False, False, False, False, False, False, False, False, True, True, True, True, True, True, True, True, True, True, True, True, True, True, True, True, True, True, True, True, True, True, True, True, True, True, True, True, True, True, True, True, True, True, True, True, True, True, True, True, True, True, True, True, True, True, True, True, True, True, False, False, False, False, False, True, True, True, True, True, True, True, True, True, True, True, True, True, True, True, True, True, True, True, True, True, True, True, True, True, True, True, True, True, True, True, True, True, True, True, True, True, True, True, True, True, True, True, True, True, True, True, True, False, False, False, True, True, True, True, True, True, True, False, False, False, False, False, False, False, False, False, False, True, True, True, True, True, True, True, True, True, True, True, True, True, True, True, True, True, True, True, True, True, True, True, True, True, True, True, True, True, True, False, False, False, False, False, False, False, False, False, False, True, True, True, True, True, True, True, False, False, False, False, False, True, True, True, True, True, True, True, True, True, True, True, False, True, True, True, True, True, True, True, False, False, False, False, False, False, False, False, False, False, True, True, True, True, True, True, True, True, True, True, True, True, True, True, True, True, True, True, True, True, True, True, True, True, True, True, True, True, True, True, True, True, True, True, False, False, False, False, False, False, False, False, False, False, True, True, True, True, True, True, True, True, True, True, True, True, True, True, True, True, True, True, True, True, True, True, True, True, True, True, True, True, True, True, True, False, False, False, False, False, True, True, True, True, True, True, True, False, False, False, False, False, False, False, False, False, False, True, True, True, True, True, True, True, True, True, True, True, True, True, True, True, True, True, True, True, True, True, True, True, True, True, True, True, True, True, True, True, True, True, True, True, False, False, False, False, False, False, False, False, False, False, True, True, True, True, True, True, True, True, True, True, True, True, False, False, False, False, False, True, True, True, True, True, True, True, True, True, True, True, True, True, True, True, False, False, False, False, False, False, True, True, True, True, True, True, True, False, False, False, False, False, False, False, False, False, False, True, True, True, True, True, True, True, True, True, True, True, True, True, True, True, True, True, True, True, True, True, True, True, True, True, True, True, True, True, True, True, True, True, True, True, True, True, False, False, False, False, False, False, False, False, False, False, True, True, True, True, True, True, True, True, True, True, True, True, True, False, False, False, False, False, True, True, True, True, True, True, True, True, True, True, True, True, True, True, True, False, False, False, False, False, False, True, True, True, True, True, True, True, False, False, False, False, False, False, False, False, False, False, True, True, True, True, True, True, True, True, True, True, True, True, True, True, True, True, True, True, True, True, True, True, True, True, True, True, True, True, True, True, True, True, True, True, True, False, False, False, False, False, False, False, False, False, False, False, False, True, True, True, True, True, True, True, True, True, True, True, True, False, False, False, False, False, True, True, True, True, True, True, True, True, True, True, True, True, True, True, True, False, False, False, False, False, True, True, True, True, True, True, True, False, False, False, False, False, False, False, False, False, False, True, True, True, True, True, True, True, True, True, True, True, True, True, True, True, True, True, True, True, True, True, True, True, True, True, True, True, True, True, True, True, True, True, True, True, False, False, False, False, False, False, False, False, False, False, False, False, False, False, False, False, False, False, False, False, False, False, True, True, True, True, True, True, True, True, True, True, True, True, True, True, True, True, True, True, True, True, True, True, True, True, True, True, True, True, True, True, True, True, True, True, False, False, False, False, False, True, True, True, True, True, True, True, True, True, True, True, True, True, False, False, False, False, False, False, False, False, False, False, True, True, True, True, True, True, True, True, True, True, True, True, True, True, True, True, True, True, True, True, True, True, True, True, True, True, True, True, True, True, True, True, True, True, True, False, False, False, False, False, False, False, False, False, False, False, False, False, False, False, False, False, False, False, False, True, True, True, True, True, True, True, True, True, True, True, True, True, True, True, True, True, True, True, True, True, True, True, True, True, True, True, True, True, True, True, True, True, True, True, True, True, True, True, True, True, True, True, True, True, True, True, True, True, True, True, True, False, False, False, False, False, True, True, False, False, False, False, False, False, False, False, False, False, True, True, True, True, True, True, True, True, True, True, True, True, True, True, True, True, True, True, True, True, True, True, True, True, True, True, True, True, True, True, True, True, True, True, True, False, False, False, False, False, False, False, False, False, False, False, False, False, False, False, False, False, False, False, False, True, True, True, True, True, True, True, True, True, True, True, True, False, False, False, False, False, True, True, True, True, True, True, True, True, True, True, True, True, True, True, True, True, True, True, True, True, True, True, True, True, True, True, True, True, True, True, True, True, True, True, True, True, True, True, True, True, False, False, False, False, False, False, True, True, True, False, False, False, False, False, False, False, False, False, False, True, True, True, True, True, True, True, True, True, True, True, True, True, True, True, True, True, True, True, True, True, True, True, True, True, True, True, True, True, True, True, True, True, True, True, True, True, True, True, True, True, True, False, False, False, False, False, False, False, False, False, False, False, False, False, False, False, False, False, False, False, False, False, False, False, True, True, True, True, True, True, True, True, True, True, True, True, True, True, True, True, True, True, True, True, True, True, True, True, True, True, True, True, True, True, True, True, True, True, True, True, True, True, True, True, True, True, True, True, True, True, True, True, True, True, True, True, False, False, False, False, False, True, True, True, True, True, True, False, False, False, False, False, True, True, False, False, False, False, False, False, False, False, False, False, False, False, False, False, False, False, True, True, True, True, True, True, True, True, True, True, True, True, True, True, True, True, True, True, True, True, True, True, True, True, True, True, True, True, True, True, True, True, True, True, True, True, True, True, True, True, False, False, False, False, False, False, False, False, False, False, False, False, False, False, False, False, False, False, False, False, False, False, False, False, False, False, False, False, True, True, True, True, True, True, True, True, True, True, True, True, True, True, True, True, True, True, True, True, True, True, True, True, True, True, True, True, True, True, True, True, True, True, True, True, True, True, True, True, True, True, True, True, True, False, False, False, False, False, False, False, False, False, False, False, False, False, False, False, True, True, True, True, True, True, True, True, True, True, True, True, True, True, True, True, True, True, True, True, True, True, True, True, True, True, True, True, True, True, True, True, True, True, True, True, True, True, True, True, False, False, False, False, False, False, False, False, False, False, False, False, False, False, False, False, False, False, False, False, False, False, False, False, False, False, True, True, True, True, True, True, True, True, True, True, True, True, True, True, True, True, True, True, True, True, True, True, True, True, True, True, True, True, True, True, True, True, True, True, True, True, True, True, True, True, True, True, True, False, False, False, False, False, False, False, False, False, False, False, False, False, False, False, False, True, True, True, True, True, True, True, True, True, True, True, True, True, True, True, True, True, True, True, True, True, True, True, True, True, True, True, True, True, True, True, True, True, True, True, True, True, True, True, True, False, False, False, False, False, False, False, False, False, False, False, False, False, False, False, False, False, False, False, False, False, False, False, False, False, True, True, True, True, True, True, True, True, True, True, True, True, True, True, True, True, True, True, True, True, True, True, True, True, True, True, True, True, True, True, True, True, True, True, True, True, True, True, True, True, True, True, False, False, False, False, False, False, False, False, False, False, False, False, False, False, False, False, False, False, False, False, False, True, True, True, True, True, True, True, True, True, True, True, True, True, True, True, True, True, True, True, True, True, True, True, True, True, True, True, True, True, True, True, True, True, True, True, True, True, True, True, True, True, True, True, False, False, False, False, False, False, False, False, False, False, False, False, False, False, False, False, False, False, False, False, False, False, False, False, False, False, False, True, True, True, True, True, True, True, True, True, True, True, True, True, True, True, True, True, True, True, True, True, True, True, True, True, True, True, True, True, True, True, True, True, True, True, True, True, True, True, True, True, True, True, True, True, True, True, True, False, False, False, False, False, False, True, True, False, False, False, False, False, False, False, False, False, False, False, False, False, False, False, True, True, True, True, True, True, True, True, True, True, True, True, True, True, True, True, True, True, True, True, True, True, True, True, True, True, True, True, True, True, True, True, True, True, True, True, True, True, True, True, True, False, False, False, False, False, False, False, False, False, False, False, False, False, False, False, False, False, False, False, False, False, False, False, False, False, False, True, True, True, True, True, True, True, True, True, True, True, True, True, True, True, True, True, True, True, True, True, True, False, False, False, False, False, True, True, False, False, False, False, False, False, False, False, False, False, True, True, True, True, True, True, True, True, True, True, True, True, True, True, True, True, True, True, True, True, True, True, True, True, True, True, True, True, True, True, True, True, True, True, True, True, True, True, True, True, True, True, True, False, False, False, False, False, False, False, False, False, False, False, False, False, False, False, False, False, False, False, False, False, False, False, False, False, False, True, True, True, True, True, True, True, True, True, True, True, True, True, True, True, True, True, True, True, True, True, True, True, True, True, True, True, True, True, True, True, True, True, True, True, True, True, True, True, True, True, True, True, True, False, False, False, False, False, False, False, True, True, False, False, False, False, False, False, False, False, False, False, True, True, True, True, True, True, True, True, True, True, True, True, True, True, True, True, True, True, True, True, True, True, True, True, True, True, True, True, True, True, True, True, True, True, True, True, True, True, True, True, False, False, False, False, False, False, False, False, False, False, False, False, False, False, False, False, False, False, False, False, False, False, False, False, False, False, False, False, True, True, True, True, True, True, True, True, True, True, True, True, True, True, True, True, True, True, True, True, True, True, True, True, True, True, True, True, True, True, True, True, True, True, True, True, True, True, True, True, True, True, True, True, False, False, False, False, False, True, True, False, False, False, False, False, False, False, False, False, False, True, True, True, True, True, True, True, True, True, True, True, True, True, True, True, True, True, True, True, True, True, True, True, True, True, True, True, True, True, True, True, True, True, True, True, True, True, True, True, True, False, False, False, False, False, False, False, False, False, False, False, False, False, False, False, False, False, False, False, False, False, False, False, False, False, False, False, False, False, True, True, True, True, True, True, True, True, True, True, True, True, True, True, True, True, True, True, True, True, True, True, True, True, True, True, True, True, True, True, True, True, True, True, True, True, True, True, True, True, True, False, False, False, False, False, False, False, False, False, False, False, False, False, False, False, True, True, True, True, True, True, True, True, True, True, True, True, True, True, True, True, True, True, True, True, True, True, True, True, True, True, True, True, True, True, True, True, True, True, True, True, True, True, True, True, True, False, False, False, False, False, False, False, False, False, False, False, False, False, False, False, False, False, False, False, True, True, True, True, True, True, True, True, True, True, True, True, True, True, True, True, True, True, True, True, True, True, True, True, True, True, True, True, True, True, True, True, True, True, True, True, True, True, True, True, True, True, True, True, True, True, True, True, True, True, True, True, True, True, True, True, True, True, True, True, False, False, False, False, False, False, False, False, False, False, True, True, True, True, True, True, True, True, True, True, True, True, True, True, True, True, True, True, True, True, True, True, True, True, True, True, True, True, True, True, True, True, True, True, True, True, True, True, True, True, True, False, False, False, False, False, False, False, False, False, False, False, False, False, False, False, False, False, False, False, False, False, False, False, False, False, False, True, True, True, True, True, True, True, True, True, True, True, True, True, True, True, True, True, True, True, True, True, True, True, True, True, True, True, True, True, True, True, True, True, True, True, True, True, True, True, True, True, True, True, True, True, True, True, True, True, True, True, True, True, True, True, True, True, True, True, True, False, False, False, False, False, False, False, False, False, False, True, True, True, True, True, True, True, True, True, True, True, True, True, True, True, True, True, True, True, True, True, True, True, True, True, True, True, True, True, True, True, True, True, True, True, True, True, True, True, True, True, True, True, False, False, False, False, False, False, False, False, False, False, False, False, False, False, False, False, False, False, False, False, False, False, False, False, False, True, True, True, True, True, True, True, True, True, True, True, True, True, True, True, True, True, True, True, True, True, True, True, True, True, True, True, True, True, True, True, True, True, True, True, True, True, True, True, True, True, True, True, True, True, True, True, True, False, False, False, False, False, False, False, False, False, False, True, True, True, True, True, True, True, True, True, True, True, True, True, True, True, True, True, True, True, True, True, True, True, True, True, True, True, True, True, True, True, True, True, True, True, True, True, True, True, True, True, True, False, False, False, False, False, False, False, False, False, False, False, False, False, False, False, False, False, False, False, False, False, False, False, False, False, True, True, True, True, True, True, True, True, True, True, True, True, True, True, True, True, True, True, True, True, True, True, True, True, True, True, True, True, True, True, True, True, True, True, True, True, True, True, True, True, True, True, True, True, True, True, True, True, True, True, False, False, False, False, False, False, False, False, False, False, True, True, True, True, True, True, True, True, True, True, True, True, True, True, True, True, True, True, True, True, True, True, True, True, True, True, True, True, True, True, True, True, True, True, True, True, True, True, True, True, True, False, False, False, False, False, False, False, False, False, False, False, False, False, False, False, False, False, False, False, False, False, False, False, False, False, True, True, True, True, True, True, True, True, True, True, True, True, True, True, True, True, True, True, True, True, True, True, True, True, True, True, True, True, True, True, True, True, True, True, True, True, True, True, True, True, True, True, True, True, True, True, True, True, True, False, False, False, False, False, False, False, False, False, False, False, False, True, True, True, True, True, True, True, True, True, True, True, True, True, True, True, True, True, True, True, True, True, True, True, True, True, True, True, True, True, True, True, True, True, True, True, True, True, True, True, True, True, False, False, False, False, False, False, False, False, False, False, False, False, False, False, False, False, False, False, False, False, False, False, False, False, False, False, False, True, True, True, True, True, True, True, True, True, True, True, True, True, True, True, True, True, True, True, True, True, True, True, True, True, True, True, True, True, True, True, True, True, True, True, True, True, True, True, True, True, True, True, True, True, True, True, True, False, False, False, False, False, False, False, False, False, False, False, True, True, True, True, True, True, True, True, True, True, True, True, True, True, True, True, True, True, True, True, True, True, True, True, True, True, True, True, True, True, True, True, True, True, True, True, True, True, True, True, True, False, False, False, False, False, False, False, False, False, False, False, False, False, False, False, False, False, False, False, False, False, False, False, False, False, False, False, True, True, True, True, True, True, True, True, True, True, True, True, True, True, True, True, True, True, True, True, True, True, True, True, True, True, True, True, True, True, True, True, True, True, True, True, True, True, True, True, True, True, True, True, True, True, True, True, True, True, False, False, False, False, False, False, False, False, False, False, False, False, True, True, True, True, True, True, True, True, True, True, True, True, True, True, True, True, True, True, True, True, True, True, True, True, True, True, True, True, True, True, True, True, True, True, True, True, True, True, True, True, True, True, False, False, False, False, False, False, False, False, False, False, False, False, False, False, False, False, False, False, False, False, False, False, False, False, False, False, True, True, True, True, True, True, True, True, True, True, True, True, True, True, True, True, True, True, True, True, True, True, True, True, True, True, True, True, True, True, True, True, True, True, True, True, True, True, True, True, True, True, True, True, True, True, True, True, True, False, False, False, False, False, False, False, False, False, False, True, True, True, True, True, True, True, True, True, True, True, True, True, True, True, True, True, True, True, True, True, True, True, True, True, True, True, True, True, True, True, True, True, True, True, True, True, True, True, True, True, True, False, False, False, False, False, False, False, False, False, False, False, False, False, False, False, False, False, False, False, False, False, False, False, False, False, False, False, True, True, True, True, True, True, True, True, True, True, True, True, True, True, True, True, True, True, True, True, True, True, True, True, True, True, True, True, True, True, True, True, True, True, True, True, True, True, True, True, True, True, True, True, True, True, False, False, False, False, False, False, False, False, False, False, True, True, True, True, True, True, True, True, True, True, True, True, True, True, True, True, True, True, True, True, True, True, True, True, True, True, True, True, True, True, True, True, True, True, True, True, True, True, True, True, True, True, False, False, False, False, False, False, False, False, False, False, False, False, False, False, False, False, False, False, False, False, False, False, False, False, False, True, True, True, True, True, True, True, True, True, True, True, True, True, True, True, True, True, True, True, True, True, True, True, True, True, True, True, True, True, True, True, True, True, True, True, True, True, True, True, True, True, True, True, True, True, True, True, True, False, False, False, False, False, False, False, False, False, False, True, True, True, True, True, True, True, True, True, True, True, True, True, True, True, True, True, True, True, True, True, True, True, True, True, True, True, True, True, True, True, True, True, True, True, True, True, True, True, True, False, False, False, False, False, False, False, False, False, False, False, False, False, False, False, False, False, False, False, False, False, False, False, False, False, False, False, True, True, True, True, True, True, True, True, True, True, True, True, True, True, True, True, True, True, True, True, True, True, True, True, True, True, True, True, True, True, True, True, True, True, True, True, True, True, True, True, True, True, True, True, True, True, True, True, True, False, False, False, False, False, False, False, False, False, False, True, True, True, True, True, True, True, True, True, True, True, True, True, True, True, True, True, True, True, True, True, True, True, True, True, True, True, True, True, True, True, True, True, True, True, True, True, True, True, True, False, False, False, False, False, False, False, False, False, False, False, False, False, False, False, False, False, False, False, False, False, False, False, False, False, True, True, True, True, True, True, True, True, True, True, True, True, True, True, True, True, True, True, True, True, True, True, True, True, True, True, True, True, True, True, True, True, True, True, True, True, True, True, True, True, True, True, True, True, True, True, True, True, True, True, True, False, False, False, False, False, False, False, False, False, False, True, True, True, True, True, True, True, True, True, True, True, True, True, True, True, True, True, True, True, True, True, True, True, True, True, True, True, True, True, True, True, True, True, True, True, True, True, True, True, True, False, False, False, False, False, False, False, False, False, False, False, False, False, False, False, False, False, False, False, False, False, False, False, False, False, False, True, True, True, True, True, True, True, True, True, True, True, True, True, True, True, True, True, True, True, True, True, True, True, True, True, True, True, True, True, True, True, True, True, True, True, True, True, True, True, True, True, True, True, True, True, True, False, False, False, False, False, False, False, False, False, False, True, True, True, True, True, True, True, True, True, True, True, True, True, True, True, True, True, True, True, True, True, True, True, True, True, True, True, True, True, True, True, True, True, True, True, True, True, True, True, True, False, False, False, False, False, False, False, False, False, False, False, False, False, False, False, False, False, False, False, False, False, False, False, False, False, False, True, True, True, True, True, True, True, True, True, True, True, True, True, True, True, True, True, True, True, True, True, True, True, True, True, True, True, True, True, True, True, True, True, True, True, True, True, True, True, True, True, True, True, True, True, True, True, True, True, True, True, False, False, False, False, False, False, False, False, False, False, True, True, True, True, True, True, True, True, True, True, True, True, True, True, True, True, True, True, True, True, True, True, True, True, True, True, True, True, True, True, True, True, True, True, True, True, True, True, True, True, True, True, False, False, False, False, False, False, False, False, False, False, False, False, False, False, False, False, False, False, False, False, False, False, False, False, False, True, True, True, True, True, True, True, True, True, True, True, True, True, True, True, True, True, True, True, True, True, True, True, True, True, True, True, True, True, True, True, True, True, True, True, True, True, True, True, True, True, True, True, True, True, True, True, False, False, False, False, False, False, False, False, False, False, True, True, True, True, True, True, True, True, True, True, True, True, True, True, True, True, True, True, True, True, True, True, True, True, True, True, True, True, True, True, True, True, True, True, True, True, True, True, True, True, True, False, False, False, False, False, False, False, False, False, False, False, False, False, False, False, False, False, False, False, False, False, False, False, False, False, False, True, True, True, True, True, True, True, True, True, True, True, True, True, True, True, True, True, True, True, True, True, True, True, True, True, True, True, True, True, True, True, True, True, True, True, True, True, True, True, True, True, True, True, True, True, True, True, True, False, False, False, False, False, False, False, False, False, False, True, True, True, True, True, True, True, True, True, True, True, True, True, True, True, True, True, True, True, True, True, True, True, True, True, True, True, True, True, True, True, True, True, True, True, True, True, True, True, True, True, False, False, False, False, False, False, False, False, False, False, False, False, False, False, False, False, False, False, False, False, False, False, False, False, False, False, True, True, True, True, True, True, True, True, True, True, True, True, True, True, True, True, True, True, True, True, True, True, True, True, True, True, True, True, True, True, True, True, True, True, True, True, True, True, True, True, True, True, True, True, True, True, True, True, False, False, False, False, False, False, False, False, False, False, False, True, True, True, True, True, True, True, True, True, True, True, True, True, True, True, True, True, True, True, True, True, True, True, True, True, True, True, True, True, True, True, True, True, True, True, True, True, True, True, True, True, False, False, False, False, False, False, False, False, False, False, False, False, False, False, False, False, False, False, False, False, False, False, False, False, False, False, True, True, True, True, True, True, True, True, True, True, True, True, True, True, True, True, True, True, True, True, True, True, True, True, True, True, True, True, True, True, True, True, True, True, True, True, True, True, True, True, True, True, True, True, True, True, True, True, False, False, False, False, False, False, False, False, False, False, True, True, True, True, True, True, True, True, True, True, True, True, True, True, True, True, True, True, True, True, True, True, True, True, True, True, True, True, True, True, True, True, True, True, True, True, True, True, True, True, True, False, False, False, False, False, False, False, False, False, False, False, False, False, False, False, False, False, False, False, False, False, False, False, False, False, False, False, False, False, True, True, True, True, True, True, True, True, True, True, True, True, True, True, True, True, True, True, True, True, True, True, True, True, True, True, True, True, True, True, True, True, True, True, True, True, True, True, True, True, True, True, True, True, True, True, True, True, True, True, False, False, False, False, False, False, False, False, False, False, False, True, True, True, True, True, True, True, True, True, True, True, True, True, True, True, True, True, True, True, True, True, True, True, True, True, True, True, True, True, True, True, True, True, True, True, True, True, True, True, True, False, False, False, False, False, False, False, False, False, False, False, False, False, False, False, False, False, False, False, False, False, False, False, False, False, False, False, True, True, True, True, True, True, True, True, True, True, True, True, True, True, True, True, True, True, True, True, True, True, True, True, True, True, True, True, True, True, True, True, True, True, True, True, True, True, True, True, True, True, True, True, True, True, True, True, True, True, False, False, False, False, False, False, False, False, False, False, True, True, True, True, True, True, True, True, True, True, True, True, True, True, True, True, True, True, True, True, True, True, True, True, True, True, True, True, True, True, True, True, True, True, True, True, True, True, True, True, True, True, True, False, False, False, False, False, False, False, False, False, False, False, False, False, False, False, False, False, False, False, False, False, False, False, False, False, False, False, False, False, True, True, True, True, True, True, True, True, True, True, True, True, True, True, True, True, True, True, True, True, True, True, True, True, True, True, True, True, True, True, True, True, True, True, True, True, True, True, True, True, True, True, True, True, True, True, True, True, True, False, False, False, False, False, False, False, False, False, False, True, True, True, True, True, True, True, True, True, True, True, True, True, True, True, True, True, True, True, True, True, True, True, True, True, True, True, True, True, True, True, True, True, True, True, True, True, True, True, True, True, False, False, False, False, False, False, False, False, False, False, False, False, False, False, False, False, False, False, False, False, False, False, False, False, False, False, True, True, True, True, True, True, True, True, True, True, True, True, True, True, True, True, True, True, True, True, True, True, True, True, True, True, True, True, True, True, True, True, True, True, True, True, True, True, True, True, True, True, True, True, True, True, True, True, True, True, False, False, False, False, False, False, False, False, False, False, True, True, True, True, True, True, True, True, True, True, True, True, True, True, True, True, True, True, True, True, True, True, True, True, True, True, True, True, True, True, True, True, True, True, True, True, True, True, True, True, True, True, False, False, False, False, False, False, False, False, False, False, False, False, False, False, False, False, False, False, False, False, False, False, False, False, False, True, True, True, True, True, True, True, True, True, True, True, True, True, True, True, True, True, True, True, True, True, True, True, True, True, True, True, True, True, True, True, True, True, True, True, True, True, True, True, True, True, True, True, True, True, True, True, False, False, False, False, False, False, False, False, False, False, False, True, True, True, True, True, True, True, True, True, True, True, True, True, True, True, True, True, True, True, True, True, True, True, True, True, True, True, True, True, True, True, True, True, True, True, True, True, True, True, True, False, False, False, False, False, False, False, False, False, False, False, False, False, False, False, False, False, False, False, False, False, False, False, False, False, True, True, True, True, True, True, True, True, True, True, True, True, True, True, True, True, True, True, True, True, True, True, True, True, True, True, True, True, True, True, True, True, True, True, True, True, True, True, True, True, True, True, True, True, True, True, True, False, False, False, False, False, False, False, False, False, False, True, True, True, True, True, True, True, True, True, True, True, True, True, True, True, True, True, True, True, True, True, True, True, True, True, True, True, True, True, True, True, True, True, True, True, True, True, True, True, True, True, True, False, False, False, False, False, False, False, False, False, False, False, False, False, False, False, False, False, False, False, False, False, False, False, False, False, False, True, True, True, True, True, True, True, True, True, True, True, True, True, True, True, True, True, True, True, True, True, True, True, True, True, True, True, True, True, True, True, True, True, True, True, True, True, True, True, True, True, True, True, True, True, True, True, False, False, False, False, False, False, False, False, False, False, True, True, True, True, True, True, True, True, True, True, True, True, True, True, True, True, True, True, True, True, True, True, True, True, True, True, True, True, True, True, True, True, True, True, True, True, True, True, True, True, True, True, True, False, False, False, False, False, False, False, False, False, False, False, False, False, False, False, False, False, False, False, False, False, False, False, False, False, True, True, True, True, True, True, True, True, True, True, True, True, True, True, True, True, True, True, True, True, True, True, True, True, True, True, True, True, True, True, True, True, True, True, True, True, True, True, True, True, True, True, True, True, True, True, True, True, False, False, False, False, False, False, False, False, False, False, False, False, True, True, True, True, True, True, True, True, True, True, True, True, True, True, True, True, True, True, True, True, True, True, True, True, True, True, True, True, True, True, True, True, True, True, True, True, True, True, True, True, True, True, True, False, False, False, False, False, False, False, False, False, False, False, False, False, False, False, False, False, False, False, False, False, False, False, False, False, False, True, True, True, True, True, True, True, True, True, True, True, True, True, True, True, True, True, True, True, True, True, True, True, True, True, True, True, True, True, True, True, True, True, True, True, True, True, True, True, True, True, True, True, True, True, True, True, True, True, False, False, False, False, False, False, False, False, False, False, True, True, True, True, True, True, True, True, True, True, True, True, True, True, True, True, True, True, True, True, True, True, True, True, True, True, True, True, True, True, True, True, True, True, True, True, True, True, True, True, True, True, True, False, False, False, False, False, False, False, False, False, False, False, False, False, False, False, False, False, False, False, False, False, False, False, False, False, True, True, True, True, True, True, True, True, True, True, True, True, True, True, True, True, True, True, True, True, True, True, True, True, True, True, True, True, True, True, True, True, True, True, True, True, True, True, True, True, True, True, True, True, True, True, False, False, False, False, False, False, False, False, False, False, True, True, True, True, True, True, True, True, True, True, True, True, True, True, True, True, True, True, True, True, True, True, True, True, True, True, True, True, True, True, True, True, True, True, True, True, True, True, True, True, True, True, True, True, True, False, False, False, False, False, False, False, False, False, False, False, False, False, False, False, False, False, False, False, False, False, False, False, False, False, True, True, True, True, True, True, True, True, True, True, True, True, True, True, True, True, True, True, True, True, True, True, True, True, True, True, True, True, True, True, True, True, True, True, True, True, True, True, True, True, True, True, True, True, True, True, False, False, False, False, False, False, False, False, False, False, True, True, True, True, True, True, True, True, True, True, True, True, True, True, True, True, True, True, True, True, True, True, True, True, True, True, True, True, True, True, True, True, True, True, True, True, True, True, True, True, True, True, True, True, True, False, False, False, False, False, False, False, False, False, False, False, False, False, False, False, False, False, False, False, False, False, False, False, False, False, False, True, True, True, True, True, True, True, True, True, True, True, True, True, True, True, True, True, True, True, True, True, True, True, True, True, True, True, True, True, True, True, True, True, True, True, True, True, True, True, True, True, True, True, True, True, True, False, False, False, False, False, False, False, False, False, False, False, True, True, True, True, True, True, True, True, True, True, True, True, True, True, True, True, True, True, True, True, True, True, True, True, True, True, True, True, True, True, True, True, True, True, True, True, True, True, True, True, True, True, True, True, True, False, False, False, False, False, False, False, False, False, False, False, False, False, False, False, False, False, False, False, False, False, False, False, False, False, True, True, True, True, True, True, True, True, True, True, True, True, True, True, True, True, True, True, True, True, True, True, True, True, True, True, True, True, True, True, True, True, True, True, True, True, True, True, True, True, True, True, True, True, True, True, False, False, False, False, False, False, False, False, False, False, True, True, True, True, True, True, True, True, True, True, True, True, True, True, True, True, True, True, True, True, True, True, True, True, True, True, True, True, True, True, True, True, True, True, True, True, True, True, True, True, True, True, True, True, True, False, False, False, False, False, False, False, False, False, False, False, False, False, False, False, False, False, False, False, False, False, False, False, False, False, True, True, True, True, True, True, True, True, True, True, True, True, True, True, True, True, True, True, True, True, True, True, True, True, True, True, True, True, True, True, True, True, True, True, True, True, True, True, True, True, True, True, True, True, True, True, False, False, False, False, False, False, False, False, False, False, True, True, True, True, True, True, True, True, True, True, True, True, True, True, True, True, True, True, True, True, True, True, True, True, True, True, True, True, True, True, True, True, True, True, True, True, True, True, True, True, True, True, True, False, False, False, False, False, False, False, False, False, False, False, False, False, False, False, False, False, False, False, False, False, False, False, False, False, True, True, True, True, True, True, True, True, True, True, True, True, True, True, True, True, True, True, True, True, True, True, True, True, True, True, True, True, True, True, True, True, True, True, True, True, True, True, True, True, True, True, True, True, True, True, False, False, False, False, False, False, False, False, False, False, True, True, True, True, True, True, True, True, True, True, True, True, True, True, True, True, True, True, True, True, True, True, True, True, True, True, True, True, True, True, True, True, True, True, True, True, True, True, True, True, True, True, True, True, True, False, False, False, False, False, False, False, False, False, False, False, False, False, False, False, False, False, False, False, False, False, False, False, False, False, True, True, True, True, True, True, True, True, True, True, True, True, True, True, True, True, True, True, True, True, True, True, True, True, True, True, True, True, True, True, True, True, True, True, True, True, True, True, True, True, True, True, True, True, True, True, False, False, False, False, False, False, False, False, False, False, True, True, True, True, True, True, True, True, True, True, True, True, True, True, True, True, True, True, True, True, True, True, True, True, True, True, True, True, True, True, True, True, True, True, True, True, True, True, True, True, True, True, True, True, True, False, False, False, False, False, False, False, False, False, False, False, False, False, False, False, False, False, False, False, False, False, False, False, False, False, False, True, True, True, True, True, True, True, True, True, True, True, True, True, True, True, True, True, True, True, True, True, True, True, True, True, True, True, True, True, True, True, True, True, True, True, True, True, True, True, True, True, True, True, True, True, True, False, False, False, False, False, False, False, False, False, False, True, True, True, True, True, True, True, True, True, True, True, True, True, True, True, True, True, True, True, True, True, True, True, True, True, True, True, True, True, True, True, True, True, True, True, True, True, True, True, True, True, True, True, True, True, False, False, False, False, False, False, False, False, False, False, False, False, False, False, False, False, False, False, False, False, False, False, False, False, False, True, True, True, True, True, True, True, True, True, True, True, True, True, True, True, True, True, True, True, True, True, True, True, True, True, True, True, True, True, True, True, True, True, True, True, True, True, True, True, True, True, True, True, True, True, True, True, False, False, False, False, False, False, False, False, False, False, True, True, True, True, True, True, True, True, True, True, True, True, True, True, True, True, True, True, True, True, True, True, True, True, True, True, True, True, True, True, True, True, True, True, True, True, True, True, True, True, True, True, True, True, True, False, False, False, False, False, False, False, False, False, False, False, False, False, False, False, False, False, False, False, False, False, False, False, False, False, True, True, True, True, True, True, True, True, True, True, True, True, True, True, True, True, True, True, True, True, True, True, True, True, True, True, True, True, True, True, True, True, True, True, True, True, True, True, True, True, True, True, True, True, True, True, False, False, False, False, False, False, False, False, False, False, True, True, True, True, True, True, True, True, True, True, True, True, True, True, True, True, True, True, True, True, True, True, True, True, True, True, True, True, True, True, True, True, True, True, True, True, True, True, True, True, True, True, True, True, True, False, False, False, False, False, False, False, False, False, False, False, False, False, False, False, False, False, False, False, False, False, False, False, False, False, True, True, True, True, True, True, True, True, True, True, True, True, True, True, True, True, True, True, True, True, True, True, True, True, True, True, True, True, True, True, True, True, True, True, True, True, True, True, True, True, True, True, True, True, True, True, True, False, False, False, False, False, False, False, False, False, False, True, True, True, True, True, True, True, True, True, True, True, True, True, True, True, True, True, True, True, True, True, True, True, True, True, True, True, True, True, True, True, True, True, True, True, True, True, True, True, True, True, True, True, True, True, False, False, False, False, False, False, False, False, False, False, False, False, False, False, False, False, False, False, False, False, False, False, False, False, False, True, True, True, True, True, True, True, True, True, True, True, True, True, True, True, True, True, True, True, True, True, True, True, True, True, True, True, True, True, True, True, True, True, True, True, True, True, True, True, True, True, True, True, True, True, True, True]\n"
          ],
          "name": "stdout"
        }
      ]
    },
    {
      "cell_type": "markdown",
      "metadata": {
        "id": "KsqgD7pdoPWo",
        "colab_type": "text"
      },
      "source": [
        "## Getting Academy award data (oscar) 1927 -2020"
      ]
    },
    {
      "cell_type": "code",
      "metadata": {
        "id": "LjdZ6Vx_pwKU",
        "colab_type": "code",
        "colab": {
          "base_uri": "https://localhost:8080/",
          "height": 406
        },
        "outputId": "1a72c55c-195b-4961-cd7f-12b5ba0cd8dc"
      },
      "source": [
        "path = '/gdrive/My Drive/movie_predict/golden globe, academy file/kaggle the_oscar_award.csv'\n",
        "academy_award = pd.read_csv(path)\n",
        "academy_award"
      ],
      "execution_count": 45,
      "outputs": [
        {
          "output_type": "execute_result",
          "data": {
            "text/html": [
              "<div>\n",
              "<style scoped>\n",
              "    .dataframe tbody tr th:only-of-type {\n",
              "        vertical-align: middle;\n",
              "    }\n",
              "\n",
              "    .dataframe tbody tr th {\n",
              "        vertical-align: top;\n",
              "    }\n",
              "\n",
              "    .dataframe thead th {\n",
              "        text-align: right;\n",
              "    }\n",
              "</style>\n",
              "<table border=\"1\" class=\"dataframe\">\n",
              "  <thead>\n",
              "    <tr style=\"text-align: right;\">\n",
              "      <th></th>\n",
              "      <th>year_film</th>\n",
              "      <th>year_ceremony</th>\n",
              "      <th>ceremony</th>\n",
              "      <th>category</th>\n",
              "      <th>name</th>\n",
              "      <th>film</th>\n",
              "      <th>winner</th>\n",
              "    </tr>\n",
              "  </thead>\n",
              "  <tbody>\n",
              "    <tr>\n",
              "      <th>0</th>\n",
              "      <td>1927</td>\n",
              "      <td>1928</td>\n",
              "      <td>1</td>\n",
              "      <td>ACTOR</td>\n",
              "      <td>Richard Barthelmess</td>\n",
              "      <td>The Noose</td>\n",
              "      <td>False</td>\n",
              "    </tr>\n",
              "    <tr>\n",
              "      <th>1</th>\n",
              "      <td>1927</td>\n",
              "      <td>1928</td>\n",
              "      <td>1</td>\n",
              "      <td>ACTOR</td>\n",
              "      <td>Emil Jannings</td>\n",
              "      <td>The Last Command</td>\n",
              "      <td>True</td>\n",
              "    </tr>\n",
              "    <tr>\n",
              "      <th>2</th>\n",
              "      <td>1927</td>\n",
              "      <td>1928</td>\n",
              "      <td>1</td>\n",
              "      <td>ACTRESS</td>\n",
              "      <td>Louise Dresser</td>\n",
              "      <td>A Ship Comes In</td>\n",
              "      <td>False</td>\n",
              "    </tr>\n",
              "    <tr>\n",
              "      <th>3</th>\n",
              "      <td>1927</td>\n",
              "      <td>1928</td>\n",
              "      <td>1</td>\n",
              "      <td>ACTRESS</td>\n",
              "      <td>Janet Gaynor</td>\n",
              "      <td>7th Heaven</td>\n",
              "      <td>True</td>\n",
              "    </tr>\n",
              "    <tr>\n",
              "      <th>4</th>\n",
              "      <td>1927</td>\n",
              "      <td>1928</td>\n",
              "      <td>1</td>\n",
              "      <td>ACTRESS</td>\n",
              "      <td>Gloria Swanson</td>\n",
              "      <td>Sadie Thompson</td>\n",
              "      <td>False</td>\n",
              "    </tr>\n",
              "    <tr>\n",
              "      <th>...</th>\n",
              "      <td>...</td>\n",
              "      <td>...</td>\n",
              "      <td>...</td>\n",
              "      <td>...</td>\n",
              "      <td>...</td>\n",
              "      <td>...</td>\n",
              "      <td>...</td>\n",
              "    </tr>\n",
              "    <tr>\n",
              "      <th>10390</th>\n",
              "      <td>2019</td>\n",
              "      <td>2020</td>\n",
              "      <td>92</td>\n",
              "      <td>WRITING (Original Screenplay)</td>\n",
              "      <td>Screenplay by Bong Joon Ho, Han Jin Won; Story...</td>\n",
              "      <td>Parasite</td>\n",
              "      <td>True</td>\n",
              "    </tr>\n",
              "    <tr>\n",
              "      <th>10391</th>\n",
              "      <td>2019</td>\n",
              "      <td>2020</td>\n",
              "      <td>92</td>\n",
              "      <td>JEAN HERSHOLT HUMANITARIAN AWARD</td>\n",
              "      <td>Geena Davis</td>\n",
              "      <td>NaN</td>\n",
              "      <td>True</td>\n",
              "    </tr>\n",
              "    <tr>\n",
              "      <th>10392</th>\n",
              "      <td>2019</td>\n",
              "      <td>2020</td>\n",
              "      <td>92</td>\n",
              "      <td>HONORARY AWARD</td>\n",
              "      <td>David Lynch</td>\n",
              "      <td>NaN</td>\n",
              "      <td>True</td>\n",
              "    </tr>\n",
              "    <tr>\n",
              "      <th>10393</th>\n",
              "      <td>2019</td>\n",
              "      <td>2020</td>\n",
              "      <td>92</td>\n",
              "      <td>HONORARY AWARD</td>\n",
              "      <td>Wes Studi</td>\n",
              "      <td>NaN</td>\n",
              "      <td>True</td>\n",
              "    </tr>\n",
              "    <tr>\n",
              "      <th>10394</th>\n",
              "      <td>2019</td>\n",
              "      <td>2020</td>\n",
              "      <td>92</td>\n",
              "      <td>HONORARY AWARD</td>\n",
              "      <td>Lina Wertmüller</td>\n",
              "      <td>NaN</td>\n",
              "      <td>True</td>\n",
              "    </tr>\n",
              "  </tbody>\n",
              "</table>\n",
              "<p>10395 rows × 7 columns</p>\n",
              "</div>"
            ],
            "text/plain": [
              "       year_film  year_ceremony  ...              film winner\n",
              "0           1927           1928  ...         The Noose  False\n",
              "1           1927           1928  ...  The Last Command   True\n",
              "2           1927           1928  ...   A Ship Comes In  False\n",
              "3           1927           1928  ...        7th Heaven   True\n",
              "4           1927           1928  ...    Sadie Thompson  False\n",
              "...          ...            ...  ...               ...    ...\n",
              "10390       2019           2020  ...          Parasite   True\n",
              "10391       2019           2020  ...               NaN   True\n",
              "10392       2019           2020  ...               NaN   True\n",
              "10393       2019           2020  ...               NaN   True\n",
              "10394       2019           2020  ...               NaN   True\n",
              "\n",
              "[10395 rows x 7 columns]"
            ]
          },
          "metadata": {
            "tags": []
          },
          "execution_count": 45
        }
      ]
    },
    {
      "cell_type": "code",
      "metadata": {
        "id": "VWK-VJpVdnBr",
        "colab_type": "code",
        "colab": {}
      },
      "source": [
        "# [1]Winner Star aa_star_winner 이 딕셔너리 이름으로 매년 누적 수상자를 추려놓음.\n",
        "\n",
        "#1. 수상연도:사람 목록 담을 dict만들기\n",
        "\n",
        "aa_star_winner = {} #연도:배우들 을 담을 리스트.\n",
        "year_list_aa = [i for i in range(1927,2020)] #1927~2019년\n",
        "for i in range(1927,2020):\n",
        "  aa_star_winner[i] = 0\n",
        "\n",
        "# 2. star 행만 추려내기(using ['category'])\n",
        "\n",
        "star_category = ['ACTOR','ACTRESS','ACTOR IN A SUPPORTING ROLE','ACTRESS IN A SUPPORTING ROLE','ACTOR IN A LEADING ROLE','ACTRESS IN A LEADING ROLE'] #스타가 받는 상들\n",
        "#contains와 비교\n",
        "\n",
        "#제외됨: CINEMATOGRAPHY이건 촬영상, SHORT SUBJECT (Cartoon), SHORT SUBJECT (Comedy), SHORT SUBJECT (Novelty), SOUND RECORDING\n",
        "#OUTSTANDING PRODUCTION 이건 배급사 주는거., MUSIC (Scoring), MUSIC (Song), SOUND RECORDING, DANCE DIRECTION, ART DIRECTION, SPECIAL EFFECTS\n",
        "#DOCUMENTARY, BEST MOTION PICTURE, COSTUME DESIGN (Color), SOUND\n",
        "\n",
        "#Star\n",
        "aa_star = academy_award[academy_award['category'].isin(star_category)] # category에서 추려낸거.\n",
        "#contains로도 확인 완료\n",
        "#aa_star = academy_award[academy_award['category'].str.contains('ACTOR')] 872\n",
        "#aa_star = academy_award[academy_award['category'].str.contains('ACTRESS')] 876 sum = 1748\n",
        "\n",
        "#3.수상 연도: 사람 리스트(배우,작가,감독) 만들기 // 수상자용\n",
        "\n",
        "for year in year_list_aa:\n",
        "  in_awarded_year = aa_star['year_ceremony'] == year\n",
        "  winner = aa_star['winner'] == True\n",
        "  rows_winner_year = aa_star[['name']][in_awarded_year & winner] #df['컬럼'][df안의 값]\n",
        "  #df[['보여줄 칼럼 값']][df['판별할 칼럼'] == 판별할 칼럼의 값 ] 하면 df에서 조건에 맞는 행 쭉 뽑아줌.\n",
        "\n",
        "   #해당 연도에 맞는 nominee 추출\n",
        "  stars_byyear_no = len(rows_winner_year.values.tolist()) #수상 연도의 모든 star list \n",
        "  star_list = [] #해당 year의 star를 담을 리스트\n",
        "  for star in range(stars_byyear_no): #해당 연도의 star들 리스트에 모으기\n",
        "    star_list.append(rows_winner_year.values.tolist()[star][0]) #해당 연도의 star들 리스트에 넣기\n",
        "    #print(\"rows_byyear.values.tolist()[0][star]:\",rows_byyear.values.tolist()[0][star])\n",
        "  #print('star_list:', star_list)\n",
        "  aa_star_winner[year] = star_list\n",
        "\n",
        "#4.각 해마다누적시키기\n",
        "\n",
        "for year in range(1927,2019): # \n",
        "  aa_star_winner[year + 1] = aa_star_winner[year + 1] + aa_star_winner[year]"
      ],
      "execution_count": 46,
      "outputs": []
    },
    {
      "cell_type": "code",
      "metadata": {
        "id": "fqgoAarKczfR",
        "colab_type": "code",
        "colab": {}
      },
      "source": [
        "# [2]. Nominated Star aa_star_nominee   \n",
        "\n",
        "#1. 수상연도:사람 목록 담을 dict만들기\n",
        "\n",
        "\n",
        "aa_star_nominee = {} #연도:배우들 을 담을 리스트.\n",
        "for i in range(1927,2020):\n",
        "  aa_star_nominee[i] = 0\n",
        "\n",
        "# 2. star 행만 추려내기(using ['category'])\n",
        "\n",
        "star_category = ['ACTOR','ACTRESS','ACTOR IN A SUPPORTING ROLE','ACTRESS IN A SUPPORTING ROLE','ACTOR IN A LEADING ROLE','ACTRESS IN A LEADING ROLE'] #스타가 받는 상들\n",
        "#contains와 비교\n",
        "\n",
        "#제외됨: CINEMATOGRAPHY이건 촬영상, SHORT SUBJECT (Cartoon), SHORT SUBJECT (Comedy), SHORT SUBJECT (Novelty), SOUND RECORDING\n",
        "#OUTSTANDING PRODUCTION 이건 배급사 주는거., MUSIC (Scoring), MUSIC (Song), SOUND RECORDING, DANCE DIRECTION, ART DIRECTION, SPECIAL EFFECTS\n",
        "#DOCUMENTARY, BEST MOTION PICTURE, COSTUME DESIGN (Color), SOUND\n",
        "\n",
        "#Star\n",
        "aa_star = academy_award[academy_award['category'].isin(star_category)] # category에서 추려낸거.\n",
        "#contains로도 확인 완료\n",
        "#aa_star = academy_award[academy_award['category'].str.contains('ACTOR')] 872\n",
        "#aa_star = academy_award[academy_award['category'].str.contains('ACTRESS')] 876 sum = 1748\n",
        "\n",
        "#3.수상 연도: 사람 리스트(배우,작가,감독) 만들기 // 수상자용\n",
        "year_list_aa = [i for i in range(1927,2020)] #1927~2019년\n",
        "for year in year_list_aa:\n",
        "  in_awarded_year = aa_star['year_ceremony'] == year\n",
        "  nominee = aa_star['winner'] == False\n",
        "  rows_nominee_year = aa_star[['name']][in_awarded_year & nominee] #df['컬럼'][df안의 값]\n",
        "  #df[['보여줄 칼럼 값']][df['판별할 칼럼'] == 판별할 칼럼의 값 ] 하면 df에서 조건에 맞는 행 쭉 뽑아줌.\n",
        "\n",
        "   #해당 연도에 맞는 nominee 추출\n",
        "  stars_byyear_no = len(rows_nominee_year.values.tolist()) #수상 연도의 모든 star list \n",
        "  star_list = [] #해당 year의 star를 담을 리스트\n",
        "  for star in range(stars_byyear_no): #해당 연도의 star들 리스트에 모으기\n",
        "    star_list.append(rows_nominee_year.values.tolist()[star][0]) #해당 연도의 star들 리스트에 넣기\n",
        "    #print(\"rows_byyear.values.tolist()[0][star]:\",rows_byyear.values.tolist()[0][star])\n",
        "  #print('star_list:', star_list)\n",
        "  aa_star_nominee[year] = star_list\n",
        "\n",
        "#4. 각 해마다 누적시키기\n",
        "\n",
        "for year in range(1927,2019): # \n",
        "  #해당연 누적 extend 활용생각해보자.\n",
        "  aa_star_nominee[year + 1] = aa_star_nominee[year + 1] + aa_star_nominee[year]"
      ],
      "execution_count": 47,
      "outputs": []
    },
    {
      "cell_type": "code",
      "metadata": {
        "id": "Ev3h9Uycmkvy",
        "colab_type": "code",
        "colab": {
          "base_uri": "https://localhost:8080/",
          "height": 230
        },
        "outputId": "e65273f3-7558-4fab-81f8-95009e8ebec2"
      },
      "source": [
        "aa_star_nominee[1929]"
      ],
      "execution_count": 48,
      "outputs": [
        {
          "output_type": "execute_result",
          "data": {
            "text/plain": [
              "['George Bancroft',\n",
              " 'Chester Morris',\n",
              " 'Paul Muni',\n",
              " 'Lewis Stone',\n",
              " 'Ruth Chatterton',\n",
              " 'Betty Compson',\n",
              " 'Jeanne Eagels',\n",
              " 'Corinne Griffith',\n",
              " 'Bessie Love',\n",
              " 'Richard Barthelmess',\n",
              " 'Louise Dresser',\n",
              " 'Gloria Swanson']"
            ]
          },
          "metadata": {
            "tags": []
          },
          "execution_count": 48
        }
      ]
    },
    {
      "cell_type": "code",
      "metadata": {
        "id": "DOR26Pebczn6",
        "colab_type": "code",
        "colab": {}
      },
      "source": [
        "#[3]. Winner Director aa_director_winner\n",
        "\n",
        "#1. 수상연도:사람 목록 담을 dict만들기\n",
        "\n",
        "aa_director_winner = {} #연도:배우들 을 담을 리스트.\n",
        "for i in range(1927,2020):\n",
        "  aa_director_winner[i] = 0\n",
        "\n",
        "# 2. director 행만 추려내기(using ['category'])\n",
        "director_category = ['DIRECTING','DIRECTING (Comedy Picture)','DIRECTING (Dramatic Picture)'] #director가 받는 상들\n",
        "#제외됨 FILM EDITING 편집상, 'ASSISTANT DIRECTOR'\n",
        "\n",
        "#Director\n",
        "aa_director = academy_award[academy_award['category'].isin(director_category)] # category에서 추려낸거.\n",
        "#contains로도 확인 ㄱㄱ\n",
        "\n",
        "year_list_aa = [i for i in range(1927,2020)] #1927~2019년\n",
        "#3.수상 연도: 사람 리스트(배우,작가,감독) 만들기 // 수상자용\n",
        "for year in year_list_aa:\n",
        "  in_awarded_year = aa_director['year_ceremony'] == year\n",
        "  winner = aa_director['winner'] == True\n",
        "  rows_winner_year = aa_director[['name']][in_awarded_year & winner] #df['컬럼'][df안의 값]\n",
        "  #df[['보여줄 칼럼 값']][df['판별할 칼럼'] == 판별할 칼럼의 값 ] 하면 df에서 조건에 맞는 행 쭉 뽑아줌.\n",
        "\n",
        "   #해당 연도에 맞는 nominee 추출\n",
        "  directors_byyear_no = len(rows_winner_year.values.tolist()) #수상 연도의 모든 star list \n",
        "  director_list = [] #해당 year의 star를 담을 리스트\n",
        "  for director in range(directors_byyear_no): #해당 연도의 star들 리스트에 모으기\n",
        "    director_list.append(rows_winner_year.values.tolist()[director][0]) #해당 연도의 star들 리스트에 넣기\n",
        "\n",
        "  aa_director_winner[year] = director_list\n",
        "\n",
        "for year in range(1927,2019): # .\n",
        "  aa_director_winner[year + 1] = aa_director_winner[year + 1] + aa_director_winner[year]"
      ],
      "execution_count": 49,
      "outputs": []
    },
    {
      "cell_type": "code",
      "metadata": {
        "id": "DpuYtcxDc9Vk",
        "colab_type": "code",
        "colab": {}
      },
      "source": [
        "#[4].  Nominated Director aa_director_nominee\n",
        "\n",
        "#1. 수상연도:사람 목록 담을 dict만들기\n",
        "\n",
        "aa_director_nominee = {} #연도:배우들 을 담을 리스트.\n",
        "for i in range(1927,2020):\n",
        "  aa_director_nominee[i] = 0\n",
        "\n",
        "# 2. director 행만 추려내기(using ['category'])\n",
        "director_category = ['DIRECTING','DIRECTING (Comedy Picture)','DIRECTING (Dramatic Picture)'] #director가 받는 상들\n",
        "#제외됨 FILM EDITING 편집상, 'ASSISTANT DIRECTOR'\n",
        "\n",
        "#Director\n",
        "aa_director = academy_award[academy_award['category'].isin(director_category)] # category에서 추려낸거.\n",
        "#contains로도 확인 ㄱㄱ\n",
        "#academy_award[academy_award['category'].str.contains('DIRECTING')] 454\n",
        "\n",
        "year_list_aa = [i for i in range(1927,2020)] #1927~2019년\n",
        "#3.수상 연도: 사람 리스트(배우,작가,감독) 만들기 // 수상자용\n",
        "for year in year_list_aa:\n",
        "  in_awarded_year = aa_director['year_ceremony'] == year\n",
        "  nominee = aa_director['winner'] == False\n",
        "  rows_nominee_year = aa_director[['name']][in_awarded_year & nominee] #df['컬럼'][df안의 값]\n",
        "  #df[['보여줄 칼럼 값']][df['판별할 칼럼'] == 판별할 칼럼의 값 ] 하면 df에서 조건에 맞는 행 쭉 뽑아줌.\n",
        "\n",
        "   #해당 연도에 맞는 nominee 추출\n",
        "  directors_byyear_no = len(rows_nominee_year.values.tolist()) #수상 연도의 모든 star list \n",
        "  director_list = [] #해당 year의 star를 담을 리스트\n",
        "  for director in range(directors_byyear_no): #해당 연도의 star들 리스트에 모으기\n",
        "    director_list.append(rows_nominee_year.values.tolist()[director][0]) #해당 연도의 star들 리스트에 넣기\n",
        "\n",
        "  aa_director_nominee[year] = director_list\n",
        "\n",
        "#각 해마다누적시키기\n",
        "\n",
        "for year in range(1927,2019): # \n",
        "  aa_director_nominee[year + 1] = aa_director_nominee[year + 1] + aa_director_nominee[year]"
      ],
      "execution_count": 50,
      "outputs": []
    },
    {
      "cell_type": "code",
      "metadata": {
        "id": "YRU3f8tfrOxR",
        "colab_type": "code",
        "colab": {
          "base_uri": "https://localhost:8080/",
          "height": 158
        },
        "outputId": "a97bd61d-15e4-476c-a1df-026f64ba4dd1"
      },
      "source": [
        "aa_director_nominee[1929]"
      ],
      "execution_count": 51,
      "outputs": [
        {
          "output_type": "execute_result",
          "data": {
            "text/plain": [
              "['Lionel Barrymore',\n",
              " 'Harry Beaumont',\n",
              " 'Irving Cummings',\n",
              " 'Frank Lloyd',\n",
              " 'Ernst Lubitsch',\n",
              " 'Ted Wilde',\n",
              " 'Herbert Brenon',\n",
              " 'King Vidor']"
            ]
          },
          "metadata": {
            "tags": []
          },
          "execution_count": 51
        }
      ]
    },
    {
      "cell_type": "code",
      "metadata": {
        "id": "3yA7TXLzdFvA",
        "colab_type": "code",
        "colab": {}
      },
      "source": [
        "#[5]. Winner Writer aa_writer_winner \n",
        "\n",
        "#1. 수상연도:사람 목록 담을 dict만들기\n",
        "\n",
        "aa_writer_winner  = {} #연도:배우들 을 담을 리스트.\n",
        "for i in range(1927,2020):\n",
        "  aa_writer_winner [i] = 0\n",
        "\n",
        "# 2. Writer 행만 추려내기(using ['category'])\n",
        "writer_category = ['WRITING','WRITING (Adaptation)','WRITING (Original Story)','WRITING (Title Writing)','WRITING (Screenplay)','WRITING (Original Motion Picture Story)',\n",
        "                   'WRITING (Original Screenplay)','WRITING (Story and Screenplay)','WRITING (Motion Picture Story)','WRITING (Screenplay--Adapted)','WRITING (Screenplay--Original)',\n",
        "                   'WRITING (Screenplay--based on material from another medium)','WRITING (Story and Screenplay--written directly for the screen)',\n",
        "                   'WRITING (Story and Screenplay--based on material not previously published or produced)','WRITING (Story and Screenplay--based on factual material or material not previously published or produced)',\n",
        "                   'WRITING (Screenplay Adapted from Other Material)','WRITING (Screenplay Written Directly for the Screen--based on factual material or on story material not previously published or produced)',\n",
        "                   'WRITING (Screenplay Based on Material from Another Medium)','WRITING (Screenplay Written Directly for the Screen)', 'WRITING (Screenplay Based on Material Previously Produced or Published)',\n",
        "                   'WRITING (Adapted Screenplay)']\n",
        "\n",
        "#Writer\n",
        "aa_writer = academy_award[academy_award['category'].isin(writer_category)] # category 추려낸거. 977명\n",
        "#contains로도 확인 완료됨. \n",
        "\n",
        "year_list_aa = [i for i in range(1927,2020)] #1927~2019년\n",
        "#3.수상 연도: 사람 리스트(배우,작가,감독) 만들기 // 수상자용\n",
        "for year in year_list_aa:\n",
        "  in_awarded_year = aa_writer['year_ceremony'] == year\n",
        "  winner = aa_writer['winner'] == True\n",
        "  rows_winner_year = aa_writer[['name']][in_awarded_year & winner] #df['컬럼'][df안의 값]\n",
        "  #df[['보여줄 칼럼 값']][df['판별할 칼럼'] == 판별할 칼럼의 값 ] 하면 df에서 조건에 맞는 행 쭉 뽑아줌.\n",
        "\n",
        "   #해당 연도에 맞는 nominee 추출\n",
        "  stars_byyear_no = len(rows_winner_year.values.tolist()) #수상 연도의 모든 star list \n",
        "  writer_list = [] #해당 year의 star를 담을 리스트\n",
        "  for writer in range(stars_byyear_no): #해당 연도의 star들 리스트에 모으기\n",
        "    writer_list.append(rows_winner_year.values.tolist()[writer][0]) #해당 연도의 star들 리스트에 넣기\n",
        "\n",
        "  aa_writer_winner[year] = writer_list\n",
        "\n",
        "#각 해마다누적시키기\n",
        "\n",
        "for year in range(1927,2019): # \n",
        "  aa_writer_winner[year + 1] = aa_writer_winner [year + 1] + aa_writer_winner [year]"
      ],
      "execution_count": 52,
      "outputs": []
    },
    {
      "cell_type": "code",
      "metadata": {
        "id": "JW2BCz1qczcJ",
        "colab_type": "code",
        "colab": {
          "base_uri": "https://localhost:8080/",
          "height": 54
        },
        "outputId": "e7729236-868b-4420-c11d-fa02345c05a5"
      },
      "source": [
        "#[6]. Nominated Writer aa_writer_nominee\n",
        "\n",
        "#1. 수상연도:사람 목록 담을 dict만들기\n",
        "year_list_aa = [i for i in range(1927,2020)] #1927~2019년\n",
        "aa_writer_nominee  = {} #연도:배우들 을 담을 리스트.\n",
        "for i in range(1927,2020):\n",
        "  aa_writer_nominee[i] = 0\n",
        "\n",
        "# 2. Writer 행만 추려내기(using ['category'])\n",
        "writer_category = ['WRITING','WRITING (Adaptation)','WRITING (Original Story)','WRITING (Title Writing)','WRITING (Screenplay)','WRITING (Original Motion Picture Story)',\n",
        "                   'WRITING (Original Screenplay)','WRITING (Story and Screenplay)','WRITING (Motion Picture Story)','WRITING (Screenplay--Adapted)','WRITING (Screenplay--Original)',\n",
        "                   'WRITING (Screenplay--based on material from another medium)','WRITING (Story and Screenplay--written directly for the screen)',\n",
        "                   'WRITING (Story and Screenplay--based on material not previously published or produced)','WRITING (Story and Screenplay--based on factual material or material not previously published or produced)',\n",
        "                   'WRITING (Screenplay Adapted from Other Material)','WRITING (Screenplay Written Directly for the Screen--based on factual material or on story material not previously published or produced)',\n",
        "                   'WRITING (Screenplay Based on Material from Another Medium)','WRITING (Screenplay Written Directly for the Screen)', 'WRITING (Screenplay Based on Material Previously Produced or Published)',\n",
        "                   'WRITING (Adapted Screenplay)']\n",
        "\n",
        "#Writer\n",
        "aa_writer = academy_award[academy_award['category'].isin(writer_category)] # category 추려낸거. 977명\n",
        "#contains로도 확인 완료됨. \n",
        "\n",
        "#3.수상 연도: 사람 리스트(배우,작가,감독) 만들기 // 수상자용\n",
        "for year in year_list_aa:\n",
        "  in_awarded_year = aa_writer['year_ceremony'] == year\n",
        "  nominee = aa_writer['winner'] == False\n",
        "  rows_nominee_year = aa_writer[['name']][in_awarded_year & nominee] #df['컬럼'][df안의 값]\n",
        "  #df[['보여줄 칼럼 값']][df['판별할 칼럼'] == 판별할 칼럼의 값 ] 하면 df에서 조건에 맞는 행 쭉 뽑아줌.\n",
        "\n",
        "   #해당 연도에 맞는 nominee 추출\n",
        "  stars_byyear_no = len(rows_nominee_year.values.tolist()) #수상 연도의 모든 star list \n",
        "  writer_list = [] #해당 year의 star를 담을 리스트\n",
        "  for writer in range(stars_byyear_no): #해당 연도의 star들 리스트에 모으기\n",
        "    writer_list.append(rows_nominee_year.values.tolist()[writer][0]) #해당 연도의 star들 리스트에 넣기\n",
        "\n",
        "  aa_writer_nominee[year] = writer_list\n",
        "\n",
        "print(aa_writer_nominee)\n",
        "\n",
        "#각 해마다누적시키기\n",
        "\n",
        "for year in range(1927,2019): # \n",
        "  aa_writer_nominee[year + 1] = aa_writer_nominee[year + 1] + aa_writer_nominee[year]"
      ],
      "execution_count": 53,
      "outputs": [
        {
          "output_type": "stream",
          "text": [
            "{1927: [], 1928: ['Alfred Cohn', 'Anthony Coldeway', 'Lajos Biro', 'Gerald Duffy', 'George Marion, Jr.'], 1929: ['Tom Barry', 'Elliott Clawson', 'Hans Kraly', 'Josephine Lovett', 'Bess Meredyth'], 1930: ['(George Abbott), (Maxwell Anderson), (Del Andrews)', '(Julian Josephson)', '(John Meehan)', '(Howard Estabrook)'], 1931: ['Seton I. Miller, Fred Niblo, Jr.', 'Horace Jackson', 'Francis Faragoh, Robert N. Lee', 'Joseph L. Mankiewicz, Sam Mintz', 'Rowland Brown', \"Harry d'Abbadie d'Arrast, Douglas Doty, Donald Ogden Stewart\", 'John Bright, Kubec Glasmon', 'Lucien Hubbard, Joseph Jackson'], 1932: ['Sidney Howard', 'Percy Heath, Samuel Hoffenstein', 'Grover Jones, William Slavens McNutt', 'Lucien Hubbard', 'Adela Rogers St. Johns, Jane Murfin'], 1933: ['Robert Riskin', 'Paul Green, Sonya Levien', 'Frances Marion', 'Charles MacArthur'], 1934: [], 1935: ['Frances Goodrich, Albert Hackett', 'Ben Hecht', 'Mauri Grashin', 'Norman Krasna'], 1936: ['Moss Hart', 'Gregory Rogers', 'Don Hartman, Stephen Avery', 'Casey Robinson', 'Screenplay by Waldemar Young, John L. Balderston, Achmed Abdullah;  Adaptation by Grover Jones, William Slavens McNutt', 'Talbot Jennings, Jules Furthman, Carey Wilson'], 1937: ['Norman Krasna', 'William Anthony McGuire', 'Robert Hopkins', 'Adele Comandini', 'Frances Goodrich, Albert Hackett', 'Sidney Howard', 'Robert Riskin', 'Eric Hatch, Morris Ryskind'], 1938: ['Robert Lord', 'Niven Busch', 'Heinz Herald, Geza Herczeg', 'Hans Kraly', 'Vina Delmar', 'John Lee Mahin, Marc Connelly, Dale Van Every', 'Morris Ryskind, Anthony Veiller', 'Dorothy Parker, Alan Campbell, Robert Carson'], 1939: ['Irving Berlin', 'Rowland Brown', 'John Howard Lawson', 'Marcella Burke, Frederick Kohner', 'Frank Wead', 'John Meehan, Dore Schary', 'Ian Dalrymple, Frank Wead, Elizabeth Hill', 'Julius J. Epstein, Lenore Coffee', 'Robert Riskin'], 1940: ['Felix Jackson', 'Mildred Cram, Leo McCarey', 'Melchior Lengyel', 'Lamar Trotti', 'R. C. Sherriff, Claudine West, Eric Maschwitz', 'Sidney Buchman', 'Charles Brackett, Billy Wilder, Walter Reisch', 'Charles MacArthur, Ben Hecht'], 1941: ['Ben Hecht', 'John Huston, Heinz Herald, Norman Burnside', 'Charles Bennett, Joan Harrison', 'Charles Chaplin', 'Walter Reisch', 'Dore Schary, Hugo Butler', 'Bella Spewack, Samuel Spewack, Leo McCarey', 'Stuart N. Lake', 'Nunnally Johnson', 'Dalton Trumbo', 'Dudley Nichols', 'Robert E. Sherwood, Joan Harrison'], 1942: ['Norman Krasna', 'Abem Finkel, Harry Chandlee, Howard Koch, John Huston', 'Karl Tunberg, Darrell Ware', 'Paul Jarrico', 'Billy Wilder, Thomas Monroe', 'Monckton Hoffe', 'Richard Connell, Robert Presnell', 'Gordon Wellesley', 'Charles Brackett, Billy Wilder', 'Philip Dunne', 'Lillian Hellman', 'John Huston'], 1943: ['Irving Berlin', 'Paul Gallico', 'Sidney Harmon', 'Robert Buckner', 'Michael Powell, Emeric Pressburger', 'Frank Butler, Don Hartman', 'W. R. Burnett, Frank Butler', 'George Oppenheimer', 'Rodney Ackland, Emeric Pressburger', 'Jo Swerling, Herman J. Mankiewicz', 'Claudine West, George Froeschel, Arthur Wimperis', 'Irwin Shaw, Sidney Buchman'], 1944: ['Guy Gilpatric', 'Steve Fisher', 'Robert Russell, Frank Ross', 'Gordon McDonell', 'Dudley Nichols', 'Noel Coward', 'Lillian Hellman', 'Allan Scott', 'Nunnally Johnson', 'Robert Russell, Frank Ross, Richard Flournoy, Lewis R. Foster', 'George Seaton', 'Dashiell Hammett'], 1945: ['Chandler Sprague, David Boehm', 'John Steinbeck', 'Alfred Neumann, Joseph Than', 'Edward Doherty, Jules Schermer', 'Preston Sturges', 'Preston Sturges', 'Richard Connell, Gladys Lehman', 'Jerome Cady', 'Billy Wilder, Raymond Chandler', 'John Van Druten, Walter Reisch, John L. Balderston', 'Jay Dratler, Samuel Hoffenstein, Betty Reinhardt', 'Irving Brecher, Fred F. Finklehoffe'], 1946: ['Thomas Monroe, Laszlo Gorog', 'John Steinbeck, Jack Wagner', 'Alvah Bessie', 'Ernst Marischka', 'Philip Yordan', 'Myles Connolly', 'Milton Holmes', 'Harry Kurnitz', 'Leopold Atlas, Guy Endore, Philip Stevenson', 'Ranald MacDougall', 'Albert Maltz', 'Tess Slesinger, Frank Davis'], 1947: ['Vladimir Pozner', 'Jack Patrick', 'Victor Trivas', 'Charles Brackett', 'Raymond Chandler', 'Jacques Prevert', 'Ben Hecht', 'Norman Panama, Melvin Frank', 'Talbot Jennings, Sally Benson', 'David Lean, Anthony Havelock-Allan, Ronald Neame', 'Anthony Veiller', 'Sergio Amidei, F. Fellini'], 1948: ['Georges Chaperot, Rene Wheeler', 'Herbert Clyde Lewis, Frederick Stephani', 'Eleazar Lipsky', 'Dorothy Parker, Frank Cavett', 'Abraham Polonsky', 'Ruth Gordon, Garson Kanin', 'Charles Chaplin', 'Sergio Amidei, Adolfo Franci, C. G. Viola, Cesare Zavattini', 'Richard Murphy', 'John Paxton', 'Moss Hart', 'David Lean, Anthony Havelock-Allan, Ronald Neame'], 1949: ['Frances Flaherty, Robert Flaherty', 'Malvin Wald', 'Borden Chase', 'Emeric Pressburger', 'Charles Brackett, Billy Wilder, Richard L. Breen', 'Irmgard Von Cube, Allen Vincent', 'Richard Schweizer, David Wechsler', 'Frank Partos, Millen Brand'], 1950: ['Clare Boothe Luce', 'Shirley W. Smith, Valentine Davies', 'Harry Brown', 'Virginia Kellogg', 'Robert Rossen', 'Cesare Zavattini', 'Carl Foreman', 'Graham Greene', 'Sidney Buchman', 'Alfred Hayes, Federico Fellini, Sergio Amidei, Marcello Pagliero, Roberto Rossellini', 'T. E. B. Clarke', 'Helen Levitt, Janice Loeb, Sidney Meyers'], 1951: ['Giuseppe De Santis, Carlo Lizzani', 'William Bowers, Andre de Toth', 'Leonard Spigelgass', 'Sy Gomberg', 'Ben Maddow, John Huston', 'Albert Mannheimer', 'Albert Maltz', 'Frances Goodrich, Albert Hackett', 'Ruth Gordon, Garson Kanin', 'Virginia Kellogg, Bernard C. Schoenfeld', 'Carl Foreman', 'Joseph L. Mankiewicz, Lesser Samuels'], 1952: ['Budd Boetticher, Ray Nazarro', 'Oscar Millard', \"Robert Riskin, Liam O'Brien\", 'Alfred Hayes, Stewart Stern', 'James Agee, John Huston', 'Philip Yordan, Robert Wyler', 'Max Ophuls, Jacques Natanson', 'Tennessee Williams', 'Billy Wilder, Lesser Samuels, Walter Newman', 'Philip Dunne', 'Robert Pirosh', 'Clarence Greene, Russell Rouse'], 1953: ['Leo McCarey', 'Martin Goldsmith, Jack Leonard', 'Guy Trosper', 'Edna Anhalt, Edward Anhalt', 'Michael Wilson', 'Carl Foreman', 'Roger MacDougall, John Dighton, Alexander Mackendrick', 'Frank S. Nugent', 'Sydney Boehm', 'Terence Rattigan', 'Ruth Gordon, Garson Kanin', 'John Steinbeck'], 1954: ['Beirne Lay, Jr.', 'Alec Coppel', \"Louis L'Amour\", 'Ray Ashley, Morris Engel, Ruth Orkin', 'Eric Ambler', 'Helen Deutsch', 'Ian McLellan Hunter, John Dighton', 'A. B. Guthrie, Jr.', 'Betty Comden, Adolph Green', 'Richard Murphy', 'Sam Rolfe, Harold Jack Bloom', 'Millard Kaufman'], 1955: ['Ettore Margadonna', 'François Boyer', 'Jed Harris, Tom Reed', 'Lamar Trotti', 'Stanley Roberts', 'John Michael Hayes', 'Billy Wilder, Samuel Taylor, Ernest Lehman', 'Albert Hackett, Frances Goodrich, Dorothy Kingsley', 'Joseph L. Mankiewicz', 'William Rose', 'Valentine Davies, Oscar Brodney', 'Norman Panama, Melvin Frank'], 1956: ['Joe Connelly, Bob Mosher', 'Nicholas Ray', 'Jean Marsan, Henry Troyat, Jacques Perret, Henri Verneuil, Raoul Ploquin', 'Beirne Lay, Jr.', 'Millard Kaufman', 'Richard Brooks', 'Paul Osborn', 'Daniel Fuchs, Isobel Lennart', 'Milton Sperling, Emmet Lavery', 'Betty Comden, Adolph Green', 'Jacques Tati, Henri Marquet', 'Melville Shavelson, Jack Rose'], 1957: ['Leo Katcher', 'Edward Bernds, Elwood Ullman', 'Jean Paul Sartre', 'Cesare Zavattini', 'Tennessee Williams', 'Michael Wilson', 'Fred Guiol, Ivan Moffat', 'Norman Corwin', 'Robert Lewin', 'Andrew L. Stone', 'Federico Fellini, Tullio Pinelli', 'William Rose'], 1958: ['John Lee Mahin, John Huston', 'John Michael Hayes', 'Paul Osborn', 'Reginald Rose', 'Leonard Gershe', 'Story by Ralph Wheelwright;  Screenplay by R. Wright Campbell, Ivan Goff, Ben Roberts', 'Story by Barney Slater, Joel Kane;  Screenplay by Dudley Nichols', 'Story by Federico Fellini, Ennio Flaiano, Tullio Pinelli;  Screenplay by Federico Fellini, Ennio Flaiano'], 1959: ['Richard Brooks, James Poe', 'Alec Guinness', 'Nelson Gidding, Don Mankiewicz', 'Terence Rattigan, John Gay', 'Paddy Chayefsky', 'Melville Shavelson, Jack Rose', 'Story by James Edward Grant;  Screenplay by William Bowers, James Edward Grant', 'Fay Kanin, Michael Kanin'], 1960: ['Wendell Mayes', 'Karl Tunberg', 'Robert Anderson', 'Billy Wilder, I. A. L. Diamond', 'Francois Truffaut, Marcel Moussy', 'Ernest Lehman', 'Story by Paul King, Joseph Stone;  Screenplay by Stanley Shapiro, Maurice Richlin', 'Ingmar Bergman'], 1961: ['Nedrick Young, Harold Jacob Smith', 'Gavin Lambert, T. E. B. Clarke', 'Isobel Lennart', 'James Kennaway', 'Story by Richard Gregson, Michael Craig;  Screenplay by Bryan Forbes', 'Norman Panama, Melvin Frank', 'Marguerite Duras', 'Jules Dassin'], 1962: ['George Axelrod', 'Carl Foreman', 'Sidney Carroll, Robert Rossen', 'Ernest Lehman', 'Valentin Yoshov, Grigori Chukhrai', 'Sergio Amidei, Diego Fabbri, Indro Montanelli', 'Federico Fellini, Tullio Pinelli, Ennio Flaiano, Brunello Rondi', 'Stanley Shapiro, Paul Henning'], 1963: ['Eleanor Perry', 'Robert Bolt, Michael Wilson', 'Vladimir Nabokov', 'William Gibson', 'Story by Charles Kaufman;  Screenplay by Charles Kaufman, Wolfgang Reinhardt', 'Alain Robbe-Grillet', 'Stanley Shapiro, Nate Monaster', 'Ingmar Bergman'], 1964: ['Richard L. Breen, Phoebe Ephron, Henry Ephron', 'Irving Ravetch, Harriet Frank, Jr.', 'James Poe', 'Serge Bourguignon, Antoine Tudal', 'Elia Kazan', 'Federico Fellini, Ennio Flaiano, Tullio Pinelli, Brunello Rondi', 'Story by Pasquale Festa Campanile, Massimo Franciosa, Nanni Loy, Vasco Pratolini;  Screenplay by Carlo Bernari, Pasquale Festa Campanile, Massimo Franciosa, Nanni Loy', 'Arnold Schulman'], 1965: ['Stanley Kubrick, Peter George, Terry Southern', 'Bill Walsh, Don DaGradi', 'Alan Jay Lerner', 'Michael Cacoyannis', 'Alun Owen', 'Story by Orville H. Hampton;  Screenplay by Raphael Hayes, Orville H. Hampton', 'Age, Scarpelli, Mario Monicelli', 'Jean-Paul Rappeneau, Ariane Mnouchkine, Daniel Boulanger, Philippe De Broca'], 1966: ['Walter Newman, Frank R. Pierson', 'Stanley Mann, John Kohn', 'Abby Mann', 'Herb Gardner', \"Age, Scarpelli, Mario Monicelli, Tonino Guerra, Giorgio Salvioni, Suso Cecchi D'Amico\", 'Jack Davies, Ken Annakin', 'Franklin Coen, Frank Davis', 'Jacques Demy'], 1967: ['Bill Naughton', 'Richard Brooks', 'William Rose', 'Ernest Lehman', 'Story by Michelangelo Antonioni;  Screenplay by Michelangelo Antonioni, Tonino Guerra, Edward Bond', 'Billy Wilder, I. A. L. Diamond', 'Robert Ardrey', 'Clint Johnston, Don Peters'], 1968: ['Donn Pearce, Frank R. Pierson', 'Calder Willingham, Buck Henry', 'Richard Brooks', 'Joseph Strick, Fred Haines', 'David Newman, Robert Benton', 'Story by Robert Kaufman;  Screenplay by Norman Lear', 'Jorge Semprun', 'Frederic Raphael'], 1969: ['Neil Simon', 'Vernon Harris', 'Stewart Stern', 'Roman Polanski', 'Franco Solinas, Gillo Pontecorvo', 'John Cassavetes', 'Ira Wallach, Peter Ustinov', 'Stanley Kubrick, Arthur C. Clarke'], 1970: ['Screenplay by John Hale, Bridget Boland;  Adaptation by Richard Sokolove', 'Arnold Schulman', 'James Poe, Robert E. Thompson', 'Jorge Semprun, Costa-Gavras', 'Paul Mazursky, Larry Tucker', 'Story by Nicola Badalucco;   Screenplay by Nicola Badalucco, Enrico Medioli, Luchino Visconti', 'Peter Fonda, Dennis Hopper, Terry Southern', 'Story by Walon Green, Roy N. Sickner;  Screenplay by Walon Green, Sam Peckinpah'], 1971: ['George Seaton', 'Robert Anderson', 'Renee Taylor, Joseph Bologna, David Zelag Goodman', 'Larry Kramer', 'Story by Bob Rafelson, Adrien Joyce;  Screenplay by Adrien Joyce', 'Norman Wexler', 'Erich Segal', 'Eric Rohmer'], 1972: ['Stanley Kubrick', 'Bernardo Bertolucci', 'Ugo Pirro, Vittorio Bonicelli', 'Larry McMurtry, Peter Bogdanovich', 'Elio Petri, Ugo Pirro', 'Andy Lewis, Dave Lewis', 'Herman Raucher', 'Penelope Gilliatt'], 1973: ['Jay Allen', 'Jan Troell, Bengt Forslund', 'Julius J. Epstein', 'Lonne Elder, III', 'Story and Screenplay by Luis Buñuel;  in collaboration with Jean-Claude Carrière', 'Terence McCloy, Chris Clark, Suzanne de Passe', 'Louis Malle', 'Carl Foreman'], 1974: ['Robert Towne', 'James Bridges', 'Alvin Sargent', 'Waldo Salt, Norman Wexler', 'George Lucas, Gloria Katz, Willard Huyck', 'Ingmar Bergman', 'Steve Shagan', 'Melvin Frank, Jack Rose'], 1975: ['Robert Getchell', 'Francis Ford Coppola', 'Francois Truffaut, Jean-Louis Richard, Suzanne Schiffman', 'Paul Mazursky, Josh Greenfeld', 'Screenplay by Mordecai Richler;  Adaptation by Lionel Chetwynd', 'Julian Barry', 'Paul Dehn', 'Gene Wilder, Mel Brooks'], 1976: ['Federico Fellini, Tonino Guerra', 'Claude Lelouch, Pierre Uytterhoeven', 'Ted Allan', 'Robert Towne, Warren Beatty', 'Stanley Kubrick', 'John Huston, Gladys Hill', 'Ruggero Maccari, Dino Risi', 'Neil Simon'], 1977: ['Robert Getchell', 'Federico Fellini, Bernardino Zapponi', 'Nicholas Meyer', 'Steve Shagan, David Butler', 'Story and Screenplay by Jean-Charles Tacchella;  Adaptation by Daniele Thompson', 'Walter Bernstein', 'Sylvester Stallone', 'Lina Wertmüller'], 1978: ['Peter Shaffer', 'Gavin Lambert, Lewis John Carlino', 'Larry Gelbart', 'Luis Buñuel, Jean-Claude Carrière', 'Neil Simon', 'Robert Benton', 'George Lucas', 'Arthur Laurents'], 1979: ['Walter Newman', 'Neil Simon', 'Elaine May, Warren Beatty', 'Bernard Slade', 'Ingmar Bergman', 'Story by Michael Cimino, Deric Washburn, Louis Garfinkle, Quinn K. Redeker;  Screenplay by Deric Washburn', 'Woody Allen', 'Paul Mazursky'], 1980: ['John Milius, Francis Coppola', 'Francis Veber, Edouard Molinaro, Marcello Danon, Jean Poiret', 'Allan Burns', 'Irving Ravetch, Harriet Frank, Jr.', 'Robert Alan Aurthur, Bob Fosse', 'Valerie Curtin, Barry Levinson', 'Mike Gray, T.S. Cook, James Bridges', 'Woody Allen, Marshall Brickman'], 1981: ['Jonathan Hardy, David Stevens, Bruce Beresford', 'Tom Rickman', 'Christopher DeVore, Eric Bergren, David Lynch', 'Screenplay by Lawrence B. Marcus;  Adaptation by Richard Rush', 'Screenplay by W. D. Richter;  Story by W. D. Richter, Arthur Ross', 'Christopher Gore', 'Jean Gruault', 'Nancy Meyers, Charles Shyer, Harvey Miller'], 1982: ['Harold Pinter', 'Dennis Potter', 'Jay Presson Allen, Sidney Lumet', 'Michael Weller', 'Kurt Luedtke', 'Steve Gordon', 'John Guare', 'Warren Beatty, Trevor Griffiths'], 1983: ['Wolfgang Petersen', 'Alan J. Pakula', 'David Mamet', 'Blake Edwards', 'Barry Levinson', 'Melissa Mathison', 'Douglas Day Stewart', 'Screenplay by Larry Gelbart, Murray Schisgal; Story by Don McGuire, Larry Gelbart'], 1984: ['Harold Pinter', 'Ronald Harwood', 'Willy Russell', 'Julius J. Epstein', 'Lawrence Kasdan, Barbara Benedek', 'Ingmar Bergman', 'Nora Ephron, Alice Arlen', 'Lawrence Lasker, Walter F. Parkes'], 1985: ['P.H. Vazak, Michael Austin', 'Bruce Robinson', 'David Lean', 'Charles Fuller', 'Screenplay by Daniel Petrie, Jr.;  Story by Danilo Bach, Daniel Petrie, Jr.', 'Woody Allen', 'Gregory Nava, Anna Thomas', 'Screenplay by Lowell Ganz, Babaloo Mandel, Bruce Jay Friedman;  Screen Story by Bruce Jay Friedman;  Based on a story by Brian Grazer'], 1986: ['Menno Meyjes', 'Leonard Schrader', 'Richard Condon, Janet Roach', 'Horton Foote', 'Robert Zemeckis, Bob Gale', 'Terry Gilliam, Tom Stoppard, Charles McKeown', 'Luis Puenzo, Aida Bortnik', 'Woody Allen'], 1987: ['Hesper Anderson, Mark Medoff', 'Richard Price', 'Beth Henley', 'Raynold Gideon, Bruce A. Evans', 'Screenplay by Paul Hogan, Ken Shadie, John Cornell;  Story by Paul Hogan', 'Hanif Kureishi', 'Oliver Stone', 'Oliver Stone, Richard Boyle'], 1988: ['Tony Huston', 'James Dearden', 'Stanley Kubrick, Michael Herr, Gustav Hasford', 'Lasse Hallström, Reidar Jönsson, Brasse Brännström, Per Berglund', 'Louis Malle', 'James L. Brooks', 'John Boorman', 'Woody Allen'], 1989: ['Frank Galati, Lawrence Kasdan', 'Screenplay by Anna Hamilton Phelan;  Story by Anna Hamilton Phelan, Tab Murphy', 'Christine Edzard', 'Jean-Claude Carrière, Philip Kaufman', 'Gary Ross, Anne Spielberg', 'Ron Shelton', 'Screenplay by John Cleese;  Story by John Cleese, Charles Crichton', 'Naomi Foner'], 1990: ['Oliver Stone, Ron Kovic', 'Roger L. Simon, Paul Mazursky', 'Phil Alden Robinson', 'Jim Sheridan, Shane Connaughton', 'Woody Allen', 'Spike Lee', 'Steven Soderbergh', 'Nora Ephron'], 1991: ['Steven Zaillian', 'Nicholas Pileggi, Martin Scorsese', 'Donald E. Westlake', 'Nicholas Kazan', 'Woody Allen', 'Barry Levinson', 'Peter Weir', 'Whit Stillman'], 1992: ['Agnieszka Holland', 'Fannie Flagg, Carol Sobieski', 'Oliver Stone, Zachary Sklar', 'Pat Conroy, Becky Johnston', 'John Singleton', 'James Toback', 'Richard LaGravenese', 'Lawrence Kasdan, Meg Kasdan'], 1993: ['Peter Barnes', 'Michael Tolkin', 'Richard Friedenberg', 'Bo Goldman', 'Woody Allen', 'George Miller, Nick Enright', 'John Sayles', 'David Webb Peoples'], 1994: ['Jay Cocks, Martin Scorsese', 'Terry George, Jim Sheridan', 'Ruth Prawer Jhabvala', 'William Nicholson', 'Gary Ross', 'Jeff Maguire', 'Ron Nyswaner', 'Screenplay by Nora Ephron, David S. Ward, Jeff Arch;  Story by Jeff Arch'], 1995: ['Alan Bennett', 'Robert Benton', 'Paul Attanasio', 'Frank Darabont', 'Woody Allen, Douglas McGrath', 'Richard Curtis', 'Frances Walsh, Peter Jackson', 'Krzysztof Piesiewicz, Krzysztof Kieslowski'], 1996: ['William Broyles, Jr., Al Reinert', 'George Miller, Chris Noonan', 'Mike Figgis', 'Anna Pavignano, Michael Radford, Furio Scarpelli, Giacomo Scarpelli, Massimo Troisi', 'Randall Wallace', 'Woody Allen', 'Stephen J. Rivele, Christopher Wilkinson, Oliver Stone', 'Screenplay by Joss Whedon, Andrew Stanton, Joel Cohen, Alec Sokolow;  Story by John Lasseter, Peter Docter, Andrew Stanton, Joe Ranft'], 1997: ['Arthur Miller', 'Anthony Minghella', 'Kenneth Branagh', 'John Hodge', 'Cameron Crowe', 'John Sayles', 'Mike Leigh', 'Screenplay by Jan Sardi;  Story by Scott Hicks'], 1998: ['Paul Attanasio', 'Atom Egoyan', 'Hilary Henkin, David Mamet', 'Hossein Amini', 'Screenplay by Mark Andrus, James L. Brooks;  Story by Mark Andrus', 'Paul Thomas Anderson', 'Woody Allen', 'Simon Beaufoy'], 1999: ['Scott Frank', 'Elaine May', 'Scott B. Smith', 'Terrence Malick', 'Screenplay by Warren Beatty, Jeremy Pikser;  Story by Warren Beatty', 'Vincenzo Cerami, Roberto Benigni', 'Robert Rodat', 'Andrew Niccol'], 2000: ['Alexander Payne, Jim Taylor', 'Frank Darabont', 'Eric Roth, Michael Mann', 'Anthony Minghella', 'Charlie Kaufman', 'Paul Thomas Anderson', 'M. Night Shyamalan', 'Mike Leigh'], 2001: ['Screenplay by Robert Nelson Jacobs', 'Written by Wang Hui Ling and James Schamus and Tsai Kuo Jung', 'Written by Ethan Coen & Joel Coen', 'Screenplay by Steve Kloves', 'Written by Lee Hall', 'Written by Susannah Grant', 'Screenplay by David Franzoni and John Logan and William Nicholson;  Story by David Franzoni', 'Written by Kenneth Lonergan'], 2002: ['Written by Daniel Clowes & Terry Zwigoff', 'Screenplay by Rob Festinger and Todd Field', 'Screenplay by Fran Walsh, Philippa Boyens, Peter Jackson', 'Written by Ted Elliott & Terry Rossio and Joe Stillman and Roger S.H. Schulman', 'Screenplay by Guillaume Laurant and Jean-Pierre Jeunet; Dialogue by Guillaume Laurant', 'Screenplay by Christopher Nolan; Story by Jonathan Nolan', 'Written by Milo Addica & Will Rokos', 'Written by Wes Anderson & Owen Wilson'], 2003: ['Screenplay by Peter Hedges and Chris Weitz & Paul Weitz', 'Screenplay by Charlie Kaufman and Donald Kaufman', 'Screenplay by Bill Condon', 'Screenplay by David Hare', 'Written by Todd Haynes', 'Screenplay by Jay Cocks and Steve Zaillian and Kenneth Lonergan; Story by Jay Cocks', 'Written by Nia Vardalos', 'Written by Carlos Cuarón and Alfonso Cuarón'], 2004: ['Written by Robert Pulcini & Shari Springer Berman', 'Screenplay by Braulio Mantovani', 'Screenplay by Brian Helgeland', 'Written for the Screen by Gary Ross', 'Written by Denys Arcand', 'Written by Steven Knight', 'Screenplay by Andrew Stanton, Bob Peterson and David Reynolds; Original Story by Andrew Stanton', 'Written by Jim Sheridan & Naomi Sheridan & Kirsten Sheridan'], 2005: ['Screenplay by Richard Linklater & Julie Delpy & Ethan Hawke; Story by Richard Linklater & Kim Krizan', 'Screenplay by David Magee', 'Screenplay by Paul Haggis', 'Screenplay by José Rivera', 'Written by John Logan', 'Written by Keir Pearson & Terry George', 'Written by Brad Bird', 'Written by Mike Leigh'], 2006: ['Screenplay by Dan Futterman', 'Screenplay by Jeffrey Caine', 'Screenplay by Josh Olson', 'Screenplay by Tony Kushner and Eric Roth', 'Screenplay by George Clooney & Grant Heslov', 'Written by Woody Allen', 'Written by Noah Baumbach', 'Written by Stephen Gaghan'], 2007: ['Screenplay by Sacha Baron Cohen & Anthony Hines & Peter Baynham & Dan Mazer; Story by Sacha Baron Cohen & Peter Baynham & Anthony Hines & Todd Phillips', 'Screenplay by Alfonso Cuarón & Timothy J. Sexton and David Arata and Mark Fergus & Hawk Ostby', 'Screenplay by Todd Field & Tom Perrotta', 'Screenplay by Patrick Marber', 'Written by Guillermo Arriaga', 'Screenplay by Iris Yamashita; Story by Iris Yamashita & Paul Haggis', 'Written by Guillermo del Toro', 'Written by Peter Morgan'], 2008: ['Screenplay by Christopher Hampton', 'Written by Sarah Polley', 'Screenplay by Ronald Harwood', 'Written for the Screen by Paul Thomas Anderson', 'Written by Nancy Oliver', 'Written by Tony Gilroy', 'Screenplay by Brad Bird; Story by Jan Pinkava, Jim Capobianco, Brad Bird', 'Written by Tamara Jenkins'], 2009: ['Screenplay by Eric Roth; Screen story by Eric Roth and Robin Swicord', 'Written by John Patrick Shanley', 'Screenplay by Peter Morgan', 'Screenplay by David Hare', 'Written by Courtney Hunt', 'Written by Mike Leigh', 'Written by Martin McDonagh', 'Screenplay by Andrew Stanton, Jim Reardon; Original story by Andrew Stanton, Pete Docter'], 2010: ['Written by Neill Blomkamp and Terri Tatchell', 'Screenplay by Nick Hornby', 'Screenplay by Jesse Armstrong, Simon Blackwell, Armando Iannucci, Tony Roche', 'Screenplay by Jason Reitman and Sheldon Turner', 'Written by Quentin Tarantino', 'Written by Alessandro Camon & Oren Moverman', 'Written by Joel Coen & Ethan Coen', 'Screenplay by Bob Peterson, Pete Docter; Story by Pete Docter, Bob Peterson, Tom McCarthy'], 2011: ['Screenplay by Danny Boyle & Simon Beaufoy', 'Screenplay by Michael Arndt; Story by John Lasseter, Andrew Stanton and Lee Unkrich', 'Written for the screen by Joel Coen & Ethan Coen', 'Adapted for the screen by Debra Granik & Anne Rosellini', 'Written by Mike Leigh', 'Screenplay by Scott Silver and Paul Tamasy & Eric Johnson; Story by Keith Dorrington & Paul Tamasy & Eric Johnson', 'Written by Christopher Nolan', 'Written by Lisa Cholodenko & Stuart Blumberg'], 2012: ['Screenplay by John Logan', 'Screenplay by George Clooney & Grant Heslov and Beau Willimon', 'Screenplay by Steven Zaillian and Aaron Sorkin; Story by Stan Chervin', \"Screenplay by Bridget O'Connor & Peter Straughan\", 'Written by Michel Hazanavicius', 'Written by Annie Mumolo & Kristen Wiig', 'Written by J.C. Chandor', 'Written by Asghar Farhadi'], 2013: ['Screenplay by Lucy Alibar & Benh Zeitlin', 'Screenplay by David Magee', 'Screenplay by Tony Kushner', 'Screenplay by David O. Russell', 'Written by Michael Haneke', 'Written by John Gatins', 'Written by Wes Anderson & Roman Coppola', 'Written by Mark Boal'], 2014: ['Written by Richard Linklater, Julie Delpy, Ethan Hawke', 'Screenplay by Billy Ray', 'Screenplay by Steve Coogan and Jeff Pope', 'Screenplay by Terence Winter', 'Written by Eric Warren Singer and David O. Russell', 'Written by Woody Allen', 'Written by Craig Borten & Melisa Wallack', 'Written by Bob Nelson'], 2015: ['Written by Jason Hall', 'Written for the screen by Paul Thomas Anderson', 'Screenplay by Anthony McCarten', 'Written by Damien Chazelle', 'Written by Richard Linklater', 'Written by E. Max Frye and Dan Futterman', 'Screenplay by Wes Anderson; Story by Wes Anderson & Hugo Guinness', 'Written by Dan Gilroy'], 2016: ['Screenplay by Nick Hornby', 'Screenplay by Phyllis Nagy', 'Screenplay by Drew Goddard', 'Screenplay by Emma Donoghue', 'Written by Matt Charman and Ethan Coen & Joel Coen', 'Written by Alex Garland', 'Screenplay by Pete Docter, Meg LeFauve, Josh Cooley; Original story by Pete Docter, Ronnie del Carmen', 'Screenplay by Jonathan Herman and Andrea Berloff; Story by S. Leigh Savidge & Alan Wenkus and Andrea Berloff'], 2017: ['Screenplay by Eric Heisserer', 'Screenplay by August Wilson', 'Screenplay by Allison Schroeder and Theodore Melfi', 'Screenplay by Luke Davies', 'Written by Taylor Sheridan', 'Written by Damien Chazelle', 'Written by Yorgos Lanthimos, Efthimis Filippou', 'Written by Mike Mills'], 2018: ['Screenplay by Scott Neustadter & Michael H. Weber', 'Screenplay by Scott Frank & James Mangold and Michael Green; Story by James Mangold', 'Written for the screen by Aaron Sorkin', 'Screenplay by Virgil Williams and Dee Rees', 'Written by Emily V. Gordon & Kumail Nanjiani', 'Written by Greta Gerwig', 'Screenplay by Guillermo del Toro & Vanessa Taylor; Story by Guillermo del Toro', 'Written by Martin McDonagh'], 2019: ['Written by Joel Coen & Ethan Coen', 'Screenplay by Nicole Holofcener and Jeff Whitty', 'Written for the screen by Barry Jenkins', 'Screenplay by Eric Roth and Bradley Cooper & Will Fetters', 'Written by Deborah Davis and Tony McNamara', 'Written by Paul Schrader', 'Written by Alfonso Cuarón', 'Written by Adam McKay']}\n"
          ],
          "name": "stdout"
        }
      ]
    },
    {
      "cell_type": "markdown",
      "metadata": {
        "id": "LA18Z_tk36jb",
        "colab_type": "text"
      },
      "source": [
        "### Binding Golden Globe and Academy award by categories"
      ]
    },
    {
      "cell_type": "code",
      "metadata": {
        "id": "Yma_utkP4ItS",
        "colab_type": "code",
        "colab": {}
      },
      "source": [
        "#GG,AA 합치기 - star_winner\n",
        "\n",
        "#star \n",
        "\n",
        "#star_winner\n",
        "star_winner = {}\n",
        "\n",
        "for year in range(1927,2020):\n",
        "  if year < 1944: #Academy award\n",
        "    star_winner[year] = aa_star_winner[year]\n",
        "\n",
        "  elif year >= 1944: #Academy award and Golden Globe:\n",
        "    star_winner[year] = aa_star_winner[year] + gg_star_winner[year]\n",
        "\n",
        "#star_nominee\n",
        "star_nominee = {}\n",
        "for year in range(1927,2020):\n",
        "  if year < 1944: #Academy award\n",
        "    star_nominee[year] = aa_star_nominee[year]\n",
        "\n",
        "  elif year >= 1944: #Academy award and Golden Globe:\n",
        "    star_nominee[year] = aa_star_nominee[year] + gg_star_nominee[year]"
      ],
      "execution_count": 65,
      "outputs": []
    },
    {
      "cell_type": "code",
      "metadata": {
        "id": "3zIFI21oB7is",
        "colab_type": "code",
        "colab": {}
      },
      "source": [
        "#director\n",
        "\n",
        "#director_winner\n",
        "director_winner = {}\n",
        "\n",
        "for year in range(1927,2020):\n",
        "  if year < 1944: #Academy award\n",
        "    director_winner[year] = aa_director_winner[year]\n",
        "\n",
        "  elif year >= 1944: #Academy award and Golden Globe:\n",
        "    director_winner[year] = aa_director_winner[year] + gg_director_winner[year]\n",
        "\n",
        "#director_nominee\n",
        "director_nominee = {}\n",
        "for year in range(1927,2020):\n",
        "  if year < 1944: #Academy award\n",
        "    director_nominee[year] = aa_director_nominee[year]\n",
        "\n",
        "  elif year >= 1944: #Academy award and Golden Globe:\n",
        "    director_nominee[year] = aa_director_nominee[year] + gg_director_nominee[year]"
      ],
      "execution_count": 66,
      "outputs": []
    },
    {
      "cell_type": "code",
      "metadata": {
        "id": "nMn0c2WvnMoQ",
        "colab_type": "code",
        "colab": {}
      },
      "source": [
        "#writer\n",
        "\n",
        "#writer_winner\n",
        "writer_winner = {}\n",
        "\n",
        "for year in range(1927,2020):\n",
        "  if year < 1944: #Academy award\n",
        "    writer_winner[year] = aa_writer_winner[year]\n",
        "\n",
        "  elif year >= 1944: #Academy award and Golden Globe:\n",
        "    writer_winner[year] = aa_writer_winner[year] + gg_writer_winner[year]\n",
        "\n",
        "#writer_nominee\n",
        "writer_nominee = {}\n",
        "for year in range(1927,2020):\n",
        "  if year < 1944: #Academy award\n",
        "    writer_nominee[year] = aa_writer_nominee[year]\n",
        "\n",
        "  elif year >= 1944: #Academy award and Golden Globe:\n",
        "    writer_nominee[year] = aa_writer_nominee[year] + gg_writer_nominee[year]"
      ],
      "execution_count": 73,
      "outputs": []
    },
    {
      "cell_type": "markdown",
      "metadata": {
        "id": "H97orHdxxPZB",
        "colab_type": "text"
      },
      "source": [
        "### 피클로 저장"
      ]
    },
    {
      "cell_type": "code",
      "metadata": {
        "id": "0jZTRfj_2ME7",
        "colab_type": "code",
        "colab": {}
      },
      "source": [
        "movie_award = [star_winner, star_nominee, director_winner, director_nominee, writer_winner, writer_nominee]\n",
        "\n",
        "with open(\"/gdrive/My Drive/movie_predict/golden globe, academy file/star_winner.pickle\",\"wb\") as fw:\n",
        "  pickle.dump(star_winner, fw)\n",
        "with open(\"/gdrive/My Drive/movie_predict/golden globe, academy file/star_nominee.pickle\",\"wb\") as fw:\n",
        "  pickle.dump(star_nominee, fw)\n",
        "with open(\"/gdrive/My Drive/movie_predict/golden globe, academy file/director_winner.pickle\",\"wb\") as fw:\n",
        "  pickle.dump(director_winner, fw)\n",
        "with open(\"/gdrive/My Drive/movie_predict/golden globe, academy file/director_nominee.pickle\",\"wb\") as fw:\n",
        "  pickle.dump(director_nominee, fw)\n",
        "with open(\"/gdrive/My Drive/movie_predict/golden globe, academy file/writer_winner.pickle\",\"wb\") as fw:\n",
        "  pickle.dump(writer_winner, fw)\n",
        "with open(\"/gdrive/My Drive/movie_predict/golden globe, academy file/writer_nominee.pickle\",\"wb\") as fw:\n",
        "  pickle.dump(writer_nominee, fw)\n"
      ],
      "execution_count": null,
      "outputs": []
    },
    {
      "cell_type": "code",
      "metadata": {
        "id": "dZ4c6jDD4Plq",
        "colab_type": "code",
        "colab": {}
      },
      "source": [
        "#로드하는 코드\n",
        "\n",
        "with open(\"/gdrive/My Drive/movie_predict/golden globe, academy file/star_winner.pickle\",\"rb\") as fr:\n",
        "  star_winner = pickle.load(fr)\n",
        "with open(\"/gdrive/My Drive/movie_predict/golden globe, academy file/star_nominee.pickle\",\"rb\") as fr:\n",
        "  star_nominee = pickle.load(fr)\n",
        "with open(\"/gdrive/My Drive/movie_predict/golden globe, academy file/director_winner.pickle\",\"rb\") as fr:\n",
        "  director_winner = pickle.load(fr)\n",
        "with open(\"/gdrive/My Drive/movie_predict/golden globe, academy file/director_nominee.pickle\",\"rb\") as fr:\n",
        "  director_nominee = pickle.load(fr)\n",
        "with open(\"/gdrive/My Drive/movie_predict/golden globe, academy file/writer_winner.pickle\",\"rb\") as fr:\n",
        "  writer_winner = pickle.load(fr)\n",
        "with open(\"/gdrive/My Drive/movie_predict/golden globe, academy file/writer_nominee.pickle\",\"rb\") as fr:\n",
        "  writer_nominee = pickle.load(fr)"
      ],
      "execution_count": 107,
      "outputs": []
    },
    {
      "cell_type": "code",
      "metadata": {
        "id": "nTwQ8T_G4paz",
        "colab_type": "code",
        "colab": {}
      },
      "source": [
        ""
      ],
      "execution_count": null,
      "outputs": []
    }
  ]
}